{
 "cells": [
  {
   "cell_type": "code",
   "execution_count": 14,
   "metadata": {
    "vscode": {
     "languageId": "r"
    }
   },
   "outputs": [
    {
     "data": {
      "text/html": [
       "<table class=\"dataframe\">\n",
       "<caption>A anova: 8 × 5</caption>\n",
       "<thead>\n",
       "\t<tr><th></th><th scope=col>Df</th><th scope=col>Sum Sq</th><th scope=col>Mean Sq</th><th scope=col>F value</th><th scope=col>Pr(&gt;F)</th></tr>\n",
       "\t<tr><th></th><th scope=col>&lt;dbl&gt;</th><th scope=col>&lt;dbl&gt;</th><th scope=col>&lt;dbl&gt;</th><th scope=col>&lt;dbl&gt;</th><th scope=col>&lt;dbl&gt;</th></tr>\n",
       "</thead>\n",
       "<tbody>\n",
       "\t<tr><th scope=row>block</th><td>     1</td><td>   3162.41</td><td> 3162.41</td><td> 851.27</td><td> 0</td></tr>\n",
       "\t<tr><th scope=row>drug</th><td>     1</td><td>  12934.05</td><td>12934.05</td><td>3481.65</td><td> 0</td></tr>\n",
       "\t<tr><th scope=row>neuron_type</th><td>     2</td><td>  37390.37</td><td>18695.18</td><td>5032.46</td><td> 0</td></tr>\n",
       "\t<tr><th scope=row>block:drug</th><td>     1</td><td>   6472.42</td><td> 6472.42</td><td>1742.28</td><td> 0</td></tr>\n",
       "\t<tr><th scope=row>block:neuron_type</th><td>     2</td><td>  18710.78</td><td> 9355.39</td><td>2518.33</td><td> 0</td></tr>\n",
       "\t<tr><th scope=row>drug:neuron_type</th><td>     2</td><td>  21636.53</td><td>10818.27</td><td>2912.11</td><td> 0</td></tr>\n",
       "\t<tr><th scope=row>block:drug:neuron_type</th><td>     2</td><td>  10827.29</td><td> 5413.64</td><td>1457.27</td><td> 0</td></tr>\n",
       "\t<tr><th scope=row>Residuals</th><td>647628</td><td>2405884.47</td><td>    3.71</td><td>     NA</td><td>NA</td></tr>\n",
       "</tbody>\n",
       "</table>\n"
      ],
      "text/latex": [
       "A anova: 8 × 5\n",
       "\\begin{tabular}{r|lllll}\n",
       "  & Df & Sum Sq & Mean Sq & F value & Pr(>F)\\\\\n",
       "  & <dbl> & <dbl> & <dbl> & <dbl> & <dbl>\\\\\n",
       "\\hline\n",
       "\tblock &      1 &    3162.41 &  3162.41 &  851.27 &  0\\\\\n",
       "\tdrug &      1 &   12934.05 & 12934.05 & 3481.65 &  0\\\\\n",
       "\tneuron\\_type &      2 &   37390.37 & 18695.18 & 5032.46 &  0\\\\\n",
       "\tblock:drug &      1 &    6472.42 &  6472.42 & 1742.28 &  0\\\\\n",
       "\tblock:neuron\\_type &      2 &   18710.78 &  9355.39 & 2518.33 &  0\\\\\n",
       "\tdrug:neuron\\_type &      2 &   21636.53 & 10818.27 & 2912.11 &  0\\\\\n",
       "\tblock:drug:neuron\\_type &      2 &   10827.29 &  5413.64 & 1457.27 &  0\\\\\n",
       "\tResiduals & 647628 & 2405884.47 &     3.71 &      NA & NA\\\\\n",
       "\\end{tabular}\n"
      ],
      "text/markdown": [
       "\n",
       "A anova: 8 × 5\n",
       "\n",
       "| <!--/--> | Df &lt;dbl&gt; | Sum Sq &lt;dbl&gt; | Mean Sq &lt;dbl&gt; | F value &lt;dbl&gt; | Pr(&gt;F) &lt;dbl&gt; |\n",
       "|---|---|---|---|---|---|\n",
       "| block |      1 |    3162.41 |  3162.41 |  851.27 |  0 |\n",
       "| drug |      1 |   12934.05 | 12934.05 | 3481.65 |  0 |\n",
       "| neuron_type |      2 |   37390.37 | 18695.18 | 5032.46 |  0 |\n",
       "| block:drug |      1 |    6472.42 |  6472.42 | 1742.28 |  0 |\n",
       "| block:neuron_type |      2 |   18710.78 |  9355.39 | 2518.33 |  0 |\n",
       "| drug:neuron_type |      2 |   21636.53 | 10818.27 | 2912.11 |  0 |\n",
       "| block:drug:neuron_type |      2 |   10827.29 |  5413.64 | 1457.27 |  0 |\n",
       "| Residuals | 647628 | 2405884.47 |     3.71 |      NA | NA |\n",
       "\n"
      ],
      "text/plain": [
       "                       Df     Sum Sq     Mean Sq  F value Pr(>F)\n",
       "block                       1    3162.41  3162.41  851.27  0    \n",
       "drug                        1   12934.05 12934.05 3481.65  0    \n",
       "neuron_type                 2   37390.37 18695.18 5032.46  0    \n",
       "block:drug                  1    6472.42  6472.42 1742.28  0    \n",
       "block:neuron_type           2   18710.78  9355.39 2518.33  0    \n",
       "drug:neuron_type            2   21636.53 10818.27 2912.11  0    \n",
       "block:drug:neuron_type      2   10827.29  5413.64 1457.27  0    \n",
       "Residuals              647628 2405884.47     3.71      NA NA    "
      ]
     },
     "metadata": {},
     "output_type": "display_data"
    }
   ],
   "source": [
    "suppressMessages(require(lme4))\n",
    "suppressMessages(require(lmerTest))\n",
    "suppressMessages(require(emmeans))\n",
    "suppressMessages(require(tidyverse))\n",
    "\n",
    "# p <- \"C:\\\\Users\\\\roryl\\\\repos\\\\DRN Interactions\\\\data\\\\derived\\\\chal_binned.csv\"\n",
    "p <- \"/Users/ruairiosullivan/repos/DRN Interactions/data/derived/chal_binned.csv\"\n",
    "\n",
    "df <- suppressMessages(read_csv(p)) %>%\n",
    "  mutate(\n",
    "    neuron_type=factor(neuron_type, levels=c(\"SR\", \"SIR\", \"FF\")),\n",
    "    drug=factor(\n",
    "      if_else(str_detect(group_name ,\"sal\"), \"SAL\", \"CIT\"), \n",
    "      levels=c(\"SAL\", \"CIT\")),\n",
    "    block=factor(block, levels=c(\"pre\", \"post\"))\n",
    "    )\n",
    "\n",
    "# Model\n",
    "mod <- lm(zcounts ~ block * drug *neuron_type, data=df)\n",
    "\n",
    "# ANOVA\n",
    "anova(mod) %>% round(2)"
   ]
  },
  {
   "cell_type": "code",
   "execution_count": 4,
   "metadata": {
    "vscode": {
     "languageId": "r"
    }
   },
   "outputs": [
    {
     "data": {
      "text/html": [
       "<table class=\"dataframe\">\n",
       "<caption>A tibble: 12 × 8</caption>\n",
       "<thead>\n",
       "\t<tr><th scope=col>block</th><th scope=col>drug</th><th scope=col>neuron_type</th><th scope=col>emmean</th><th scope=col>SE</th><th scope=col>df</th><th scope=col>lower.CL</th><th scope=col>upper.CL</th></tr>\n",
       "\t<tr><th scope=col>&lt;fct&gt;</th><th scope=col>&lt;fct&gt;</th><th scope=col>&lt;fct&gt;</th><th scope=col>&lt;dbl&gt;</th><th scope=col>&lt;dbl&gt;</th><th scope=col>&lt;dbl&gt;</th><th scope=col>&lt;dbl&gt;</th><th scope=col>&lt;dbl&gt;</th></tr>\n",
       "</thead>\n",
       "<tbody>\n",
       "\t<tr><td>pre </td><td>SAL</td><td>SR </td><td> 0.000</td><td>0.008</td><td>647628</td><td>-0.016</td><td> 0.016</td></tr>\n",
       "\t<tr><td>post</td><td>SAL</td><td>SR </td><td>-0.072</td><td>0.006</td><td>647628</td><td>-0.083</td><td>-0.061</td></tr>\n",
       "\t<tr><td>pre </td><td>CIT</td><td>SR </td><td> 0.000</td><td>0.011</td><td>647628</td><td>-0.021</td><td> 0.021</td></tr>\n",
       "\t<tr><td>post</td><td>CIT</td><td>SR </td><td>-1.207</td><td>0.008</td><td>647628</td><td>-1.222</td><td>-1.192</td></tr>\n",
       "\t<tr><td>pre </td><td>SAL</td><td>SIR</td><td> 0.000</td><td>0.009</td><td>647628</td><td>-0.018</td><td> 0.018</td></tr>\n",
       "\t<tr><td>post</td><td>SAL</td><td>SIR</td><td> 0.173</td><td>0.006</td><td>647628</td><td> 0.160</td><td> 0.185</td></tr>\n",
       "\t<tr><td>pre </td><td>CIT</td><td>SIR</td><td> 0.000</td><td>0.008</td><td>647628</td><td>-0.016</td><td> 0.016</td></tr>\n",
       "\t<tr><td>post</td><td>CIT</td><td>SIR</td><td> 0.212</td><td>0.006</td><td>647628</td><td> 0.201</td><td> 0.224</td></tr>\n",
       "\t<tr><td>pre </td><td>SAL</td><td>FF </td><td> 0.000</td><td>0.015</td><td>647628</td><td>-0.030</td><td> 0.030</td></tr>\n",
       "\t<tr><td>post</td><td>SAL</td><td>FF </td><td> 0.102</td><td>0.011</td><td>647628</td><td> 0.081</td><td> 0.123</td></tr>\n",
       "\t<tr><td>pre </td><td>CIT</td><td>FF </td><td> 0.000</td><td>0.017</td><td>647628</td><td>-0.034</td><td> 0.034</td></tr>\n",
       "\t<tr><td>post</td><td>CIT</td><td>FF </td><td>-0.763</td><td>0.012</td><td>647628</td><td>-0.787</td><td>-0.739</td></tr>\n",
       "</tbody>\n",
       "</table>\n"
      ],
      "text/latex": [
       "A tibble: 12 × 8\n",
       "\\begin{tabular}{llllllll}\n",
       " block & drug & neuron\\_type & emmean & SE & df & lower.CL & upper.CL\\\\\n",
       " <fct> & <fct> & <fct> & <dbl> & <dbl> & <dbl> & <dbl> & <dbl>\\\\\n",
       "\\hline\n",
       "\t pre  & SAL & SR  &  0.000 & 0.008 & 647628 & -0.016 &  0.016\\\\\n",
       "\t post & SAL & SR  & -0.072 & 0.006 & 647628 & -0.083 & -0.061\\\\\n",
       "\t pre  & CIT & SR  &  0.000 & 0.011 & 647628 & -0.021 &  0.021\\\\\n",
       "\t post & CIT & SR  & -1.207 & 0.008 & 647628 & -1.222 & -1.192\\\\\n",
       "\t pre  & SAL & SIR &  0.000 & 0.009 & 647628 & -0.018 &  0.018\\\\\n",
       "\t post & SAL & SIR &  0.173 & 0.006 & 647628 &  0.160 &  0.185\\\\\n",
       "\t pre  & CIT & SIR &  0.000 & 0.008 & 647628 & -0.016 &  0.016\\\\\n",
       "\t post & CIT & SIR &  0.212 & 0.006 & 647628 &  0.201 &  0.224\\\\\n",
       "\t pre  & SAL & FF  &  0.000 & 0.015 & 647628 & -0.030 &  0.030\\\\\n",
       "\t post & SAL & FF  &  0.102 & 0.011 & 647628 &  0.081 &  0.123\\\\\n",
       "\t pre  & CIT & FF  &  0.000 & 0.017 & 647628 & -0.034 &  0.034\\\\\n",
       "\t post & CIT & FF  & -0.763 & 0.012 & 647628 & -0.787 & -0.739\\\\\n",
       "\\end{tabular}\n"
      ],
      "text/markdown": [
       "\n",
       "A tibble: 12 × 8\n",
       "\n",
       "| block &lt;fct&gt; | drug &lt;fct&gt; | neuron_type &lt;fct&gt; | emmean &lt;dbl&gt; | SE &lt;dbl&gt; | df &lt;dbl&gt; | lower.CL &lt;dbl&gt; | upper.CL &lt;dbl&gt; |\n",
       "|---|---|---|---|---|---|---|---|\n",
       "| pre  | SAL | SR  |  0.000 | 0.008 | 647628 | -0.016 |  0.016 |\n",
       "| post | SAL | SR  | -0.072 | 0.006 | 647628 | -0.083 | -0.061 |\n",
       "| pre  | CIT | SR  |  0.000 | 0.011 | 647628 | -0.021 |  0.021 |\n",
       "| post | CIT | SR  | -1.207 | 0.008 | 647628 | -1.222 | -1.192 |\n",
       "| pre  | SAL | SIR |  0.000 | 0.009 | 647628 | -0.018 |  0.018 |\n",
       "| post | SAL | SIR |  0.173 | 0.006 | 647628 |  0.160 |  0.185 |\n",
       "| pre  | CIT | SIR |  0.000 | 0.008 | 647628 | -0.016 |  0.016 |\n",
       "| post | CIT | SIR |  0.212 | 0.006 | 647628 |  0.201 |  0.224 |\n",
       "| pre  | SAL | FF  |  0.000 | 0.015 | 647628 | -0.030 |  0.030 |\n",
       "| post | SAL | FF  |  0.102 | 0.011 | 647628 |  0.081 |  0.123 |\n",
       "| pre  | CIT | FF  |  0.000 | 0.017 | 647628 | -0.034 |  0.034 |\n",
       "| post | CIT | FF  | -0.763 | 0.012 | 647628 | -0.787 | -0.739 |\n",
       "\n"
      ],
      "text/plain": [
       "   block drug neuron_type emmean SE    df     lower.CL upper.CL\n",
       "1  pre   SAL  SR           0.000 0.008 647628 -0.016    0.016  \n",
       "2  post  SAL  SR          -0.072 0.006 647628 -0.083   -0.061  \n",
       "3  pre   CIT  SR           0.000 0.011 647628 -0.021    0.021  \n",
       "4  post  CIT  SR          -1.207 0.008 647628 -1.222   -1.192  \n",
       "5  pre   SAL  SIR          0.000 0.009 647628 -0.018    0.018  \n",
       "6  post  SAL  SIR          0.173 0.006 647628  0.160    0.185  \n",
       "7  pre   CIT  SIR          0.000 0.008 647628 -0.016    0.016  \n",
       "8  post  CIT  SIR          0.212 0.006 647628  0.201    0.224  \n",
       "9  pre   SAL  FF           0.000 0.015 647628 -0.030    0.030  \n",
       "10 post  SAL  FF           0.102 0.011 647628  0.081    0.123  \n",
       "11 pre   CIT  FF           0.000 0.017 647628 -0.034    0.034  \n",
       "12 post  CIT  FF          -0.763 0.012 647628 -0.787   -0.739  "
      ]
     },
     "metadata": {},
     "output_type": "display_data"
    }
   ],
   "source": [
    "em <- emmeans(mod, ~ block*drug*neuron_type)\n",
    "em %>% as_tibble() %>% mutate_if(is.numeric, round, 3)\n"
   ]
  },
  {
   "cell_type": "code",
   "execution_count": 5,
   "metadata": {
    "vscode": {
     "languageId": "r"
    }
   },
   "outputs": [
    {
     "data": {
      "text/html": [
       "<table class=\"dataframe\">\n",
       "<caption>A tibble: 6 × 8</caption>\n",
       "<thead>\n",
       "\t<tr><th scope=col>drug</th><th scope=col>neuron_type</th><th scope=col>contrast</th><th scope=col>estimate</th><th scope=col>SE</th><th scope=col>df</th><th scope=col>t.ratio</th><th scope=col>p.value</th></tr>\n",
       "\t<tr><th scope=col>&lt;chr&gt;</th><th scope=col>&lt;chr&gt;</th><th scope=col>&lt;chr&gt;</th><th scope=col>&lt;dbl&gt;</th><th scope=col>&lt;dbl&gt;</th><th scope=col>&lt;dbl&gt;</th><th scope=col>&lt;dbl&gt;</th><th scope=col>&lt;dbl&gt;</th></tr>\n",
       "</thead>\n",
       "<tbody>\n",
       "\t<tr><td>SAL</td><td>SR </td><td>pre - post</td><td> 0.072</td><td>0.010</td><td>647628</td><td>  7.233</td><td>0</td></tr>\n",
       "\t<tr><td>CIT</td><td>SR </td><td>pre - post</td><td> 1.207</td><td>0.013</td><td>647628</td><td> 92.048</td><td>0</td></tr>\n",
       "\t<tr><td>SAL</td><td>SIR</td><td>pre - post</td><td>-0.173</td><td>0.011</td><td>647628</td><td>-15.525</td><td>0</td></tr>\n",
       "\t<tr><td>CIT</td><td>SIR</td><td>pre - post</td><td>-0.212</td><td>0.010</td><td>647628</td><td>-20.782</td><td>0</td></tr>\n",
       "\t<tr><td>SAL</td><td>FF </td><td>pre - post</td><td>-0.102</td><td>0.019</td><td>647628</td><td> -5.523</td><td>0</td></tr>\n",
       "\t<tr><td>CIT</td><td>FF </td><td>pre - post</td><td> 0.763</td><td>0.021</td><td>647628</td><td> 36.280</td><td>0</td></tr>\n",
       "</tbody>\n",
       "</table>\n"
      ],
      "text/latex": [
       "A tibble: 6 × 8\n",
       "\\begin{tabular}{llllllll}\n",
       " drug & neuron\\_type & contrast & estimate & SE & df & t.ratio & p.value\\\\\n",
       " <chr> & <chr> & <chr> & <dbl> & <dbl> & <dbl> & <dbl> & <dbl>\\\\\n",
       "\\hline\n",
       "\t SAL & SR  & pre - post &  0.072 & 0.010 & 647628 &   7.233 & 0\\\\\n",
       "\t CIT & SR  & pre - post &  1.207 & 0.013 & 647628 &  92.048 & 0\\\\\n",
       "\t SAL & SIR & pre - post & -0.173 & 0.011 & 647628 & -15.525 & 0\\\\\n",
       "\t CIT & SIR & pre - post & -0.212 & 0.010 & 647628 & -20.782 & 0\\\\\n",
       "\t SAL & FF  & pre - post & -0.102 & 0.019 & 647628 &  -5.523 & 0\\\\\n",
       "\t CIT & FF  & pre - post &  0.763 & 0.021 & 647628 &  36.280 & 0\\\\\n",
       "\\end{tabular}\n"
      ],
      "text/markdown": [
       "\n",
       "A tibble: 6 × 8\n",
       "\n",
       "| drug &lt;chr&gt; | neuron_type &lt;chr&gt; | contrast &lt;chr&gt; | estimate &lt;dbl&gt; | SE &lt;dbl&gt; | df &lt;dbl&gt; | t.ratio &lt;dbl&gt; | p.value &lt;dbl&gt; |\n",
       "|---|---|---|---|---|---|---|---|\n",
       "| SAL | SR  | pre - post |  0.072 | 0.010 | 647628 |   7.233 | 0 |\n",
       "| CIT | SR  | pre - post |  1.207 | 0.013 | 647628 |  92.048 | 0 |\n",
       "| SAL | SIR | pre - post | -0.173 | 0.011 | 647628 | -15.525 | 0 |\n",
       "| CIT | SIR | pre - post | -0.212 | 0.010 | 647628 | -20.782 | 0 |\n",
       "| SAL | FF  | pre - post | -0.102 | 0.019 | 647628 |  -5.523 | 0 |\n",
       "| CIT | FF  | pre - post |  0.763 | 0.021 | 647628 |  36.280 | 0 |\n",
       "\n"
      ],
      "text/plain": [
       "  drug neuron_type contrast   estimate SE    df     t.ratio p.value\n",
       "1 SAL  SR          pre - post  0.072   0.010 647628   7.233 0      \n",
       "2 CIT  SR          pre - post  1.207   0.013 647628  92.048 0      \n",
       "3 SAL  SIR         pre - post -0.173   0.011 647628 -15.525 0      \n",
       "4 CIT  SIR         pre - post -0.212   0.010 647628 -20.782 0      \n",
       "5 SAL  FF          pre - post -0.102   0.019 647628  -5.523 0      \n",
       "6 CIT  FF          pre - post  0.763   0.021 647628  36.280 0      "
      ]
     },
     "metadata": {},
     "output_type": "display_data"
    }
   ],
   "source": [
    "cont <- contrast(em, method=\"pairwise\", by=c(\"drug\", \"neuron_type\")) \n",
    "cont %>% rbind() %>% as_tibble() %>% mutate_if(is.numeric, round, 3)"
   ]
  },
  {
   "cell_type": "code",
   "execution_count": 6,
   "metadata": {
    "vscode": {
     "languageId": "r"
    }
   },
   "outputs": [
    {
     "data": {
      "text/html": [
       "<table class=\"dataframe\">\n",
       "<caption>A tibble: 3 × 7</caption>\n",
       "<thead>\n",
       "\t<tr><th scope=col>neuron_type</th><th scope=col>contrast</th><th scope=col>estimate</th><th scope=col>SE</th><th scope=col>df</th><th scope=col>t.ratio</th><th scope=col>p.value</th></tr>\n",
       "\t<tr><th scope=col>&lt;chr&gt;</th><th scope=col>&lt;chr&gt;</th><th scope=col>&lt;dbl&gt;</th><th scope=col>&lt;dbl&gt;</th><th scope=col>&lt;dbl&gt;</th><th scope=col>&lt;dbl&gt;</th><th scope=col>&lt;dbl&gt;</th></tr>\n",
       "</thead>\n",
       "<tbody>\n",
       "\t<tr><td>SR </td><td>(pre - post SAL) - (pre - post CIT)</td><td>-1.135</td><td>0.016</td><td>647628</td><td>-68.989</td><td>0.000</td></tr>\n",
       "\t<tr><td>SIR</td><td>(pre - post SAL) - (pre - post CIT)</td><td> 0.040</td><td>0.015</td><td>647628</td><td>  2.617</td><td>0.027</td></tr>\n",
       "\t<tr><td>FF </td><td>(pre - post SAL) - (pre - post CIT)</td><td>-0.866</td><td>0.028</td><td>647628</td><td>-30.863</td><td>0.000</td></tr>\n",
       "</tbody>\n",
       "</table>\n"
      ],
      "text/latex": [
       "A tibble: 3 × 7\n",
       "\\begin{tabular}{lllllll}\n",
       " neuron\\_type & contrast & estimate & SE & df & t.ratio & p.value\\\\\n",
       " <chr> & <chr> & <dbl> & <dbl> & <dbl> & <dbl> & <dbl>\\\\\n",
       "\\hline\n",
       "\t SR  & (pre - post SAL) - (pre - post CIT) & -1.135 & 0.016 & 647628 & -68.989 & 0.000\\\\\n",
       "\t SIR & (pre - post SAL) - (pre - post CIT) &  0.040 & 0.015 & 647628 &   2.617 & 0.027\\\\\n",
       "\t FF  & (pre - post SAL) - (pre - post CIT) & -0.866 & 0.028 & 647628 & -30.863 & 0.000\\\\\n",
       "\\end{tabular}\n"
      ],
      "text/markdown": [
       "\n",
       "A tibble: 3 × 7\n",
       "\n",
       "| neuron_type &lt;chr&gt; | contrast &lt;chr&gt; | estimate &lt;dbl&gt; | SE &lt;dbl&gt; | df &lt;dbl&gt; | t.ratio &lt;dbl&gt; | p.value &lt;dbl&gt; |\n",
       "|---|---|---|---|---|---|---|\n",
       "| SR  | (pre - post SAL) - (pre - post CIT) | -1.135 | 0.016 | 647628 | -68.989 | 0.000 |\n",
       "| SIR | (pre - post SAL) - (pre - post CIT) |  0.040 | 0.015 | 647628 |   2.617 | 0.027 |\n",
       "| FF  | (pre - post SAL) - (pre - post CIT) | -0.866 | 0.028 | 647628 | -30.863 | 0.000 |\n",
       "\n"
      ],
      "text/plain": [
       "  neuron_type contrast                            estimate SE    df     t.ratio\n",
       "1 SR          (pre - post SAL) - (pre - post CIT) -1.135   0.016 647628 -68.989\n",
       "2 SIR         (pre - post SAL) - (pre - post CIT)  0.040   0.015 647628   2.617\n",
       "3 FF          (pre - post SAL) - (pre - post CIT) -0.866   0.028 647628 -30.863\n",
       "  p.value\n",
       "1 0.000  \n",
       "2 0.027  \n",
       "3 0.000  "
      ]
     },
     "metadata": {},
     "output_type": "display_data"
    }
   ],
   "source": [
    "cont2 <- pairs(cont, by=\"neuron_type\")\n",
    "cont2 %>% rbind() %>% as_tibble() %>% mutate_if(is.numeric, round, 3)\n"
   ]
  },
  {
   "cell_type": "code",
   "execution_count": 7,
   "metadata": {
    "vscode": {
     "languageId": "r"
    }
   },
   "outputs": [
    {
     "data": {
      "text/html": [
       "<table class=\"dataframe\">\n",
       "<caption>A tibble: 3 × 8</caption>\n",
       "<thead>\n",
       "\t<tr><th scope=col>block_pairwise</th><th scope=col>drug_pairwise</th><th scope=col>neuron_type_pairwise</th><th scope=col>estimate</th><th scope=col>SE</th><th scope=col>df</th><th scope=col>t.ratio</th><th scope=col>p.value</th></tr>\n",
       "\t<tr><th scope=col>&lt;chr&gt;</th><th scope=col>&lt;chr&gt;</th><th scope=col>&lt;chr&gt;</th><th scope=col>&lt;dbl&gt;</th><th scope=col>&lt;dbl&gt;</th><th scope=col>&lt;dbl&gt;</th><th scope=col>&lt;dbl&gt;</th><th scope=col>&lt;dbl&gt;</th></tr>\n",
       "</thead>\n",
       "<tbody>\n",
       "\t<tr><td>pre - post</td><td>SAL - CIT</td><td>SR - SIR</td><td>-1.175</td><td>0.022</td><td>647628</td><td>-52.593</td><td>0</td></tr>\n",
       "\t<tr><td>pre - post</td><td>SAL - CIT</td><td>SR - FF </td><td>-0.270</td><td>0.033</td><td>647628</td><td> -8.301</td><td>0</td></tr>\n",
       "\t<tr><td>pre - post</td><td>SAL - CIT</td><td>SIR - FF</td><td> 0.905</td><td>0.032</td><td>647628</td><td> 28.412</td><td>0</td></tr>\n",
       "</tbody>\n",
       "</table>\n"
      ],
      "text/latex": [
       "A tibble: 3 × 8\n",
       "\\begin{tabular}{llllllll}\n",
       " block\\_pairwise & drug\\_pairwise & neuron\\_type\\_pairwise & estimate & SE & df & t.ratio & p.value\\\\\n",
       " <chr> & <chr> & <chr> & <dbl> & <dbl> & <dbl> & <dbl> & <dbl>\\\\\n",
       "\\hline\n",
       "\t pre - post & SAL - CIT & SR - SIR & -1.175 & 0.022 & 647628 & -52.593 & 0\\\\\n",
       "\t pre - post & SAL - CIT & SR - FF  & -0.270 & 0.033 & 647628 &  -8.301 & 0\\\\\n",
       "\t pre - post & SAL - CIT & SIR - FF &  0.905 & 0.032 & 647628 &  28.412 & 0\\\\\n",
       "\\end{tabular}\n"
      ],
      "text/markdown": [
       "\n",
       "A tibble: 3 × 8\n",
       "\n",
       "| block_pairwise &lt;chr&gt; | drug_pairwise &lt;chr&gt; | neuron_type_pairwise &lt;chr&gt; | estimate &lt;dbl&gt; | SE &lt;dbl&gt; | df &lt;dbl&gt; | t.ratio &lt;dbl&gt; | p.value &lt;dbl&gt; |\n",
       "|---|---|---|---|---|---|---|---|\n",
       "| pre - post | SAL - CIT | SR - SIR | -1.175 | 0.022 | 647628 | -52.593 | 0 |\n",
       "| pre - post | SAL - CIT | SR - FF  | -0.270 | 0.033 | 647628 |  -8.301 | 0 |\n",
       "| pre - post | SAL - CIT | SIR - FF |  0.905 | 0.032 | 647628 |  28.412 | 0 |\n",
       "\n"
      ],
      "text/plain": [
       "  block_pairwise drug_pairwise neuron_type_pairwise estimate SE    df    \n",
       "1 pre - post     SAL - CIT     SR - SIR             -1.175   0.022 647628\n",
       "2 pre - post     SAL - CIT     SR - FF              -0.270   0.033 647628\n",
       "3 pre - post     SAL - CIT     SIR - FF              0.905   0.032 647628\n",
       "  t.ratio p.value\n",
       "1 -52.593 0      \n",
       "2  -8.301 0      \n",
       "3  28.412 0      "
      ]
     },
     "metadata": {},
     "output_type": "display_data"
    }
   ],
   "source": [
    "cont3 <- contrast(em, method=\"pairwise\", interaction=T, by=NULL) \n",
    "cont3 %>% rbind() %>% as_tibble() %>% mutate_if(is.numeric, round, 3)"
   ]
  },
  {
   "cell_type": "markdown",
   "metadata": {},
   "source": [
    "# Way"
   ]
  },
  {
   "cell_type": "code",
   "execution_count": 8,
   "metadata": {
    "vscode": {
     "languageId": "r"
    }
   },
   "outputs": [
    {
     "data": {
      "text/html": [
       "<table class=\"dataframe\">\n",
       "<caption>A anova: 8 × 5</caption>\n",
       "<thead>\n",
       "\t<tr><th></th><th scope=col>Df</th><th scope=col>Sum Sq</th><th scope=col>Mean Sq</th><th scope=col>F value</th><th scope=col>Pr(&gt;F)</th></tr>\n",
       "\t<tr><th></th><th scope=col>&lt;int&gt;</th><th scope=col>&lt;dbl&gt;</th><th scope=col>&lt;dbl&gt;</th><th scope=col>&lt;dbl&gt;</th><th scope=col>&lt;dbl&gt;</th></tr>\n",
       "</thead>\n",
       "<tbody>\n",
       "\t<tr><th scope=row>block</th><td>     1</td><td>   3088.9989</td><td> 3088.99892</td><td> 293.77677</td><td> 7.807405e-66</td></tr>\n",
       "\t<tr><th scope=row>drug</th><td>     1</td><td>    442.5297</td><td>  442.52974</td><td>  42.08644</td><td> 8.740775e-11</td></tr>\n",
       "\t<tr><th scope=row>neuron_type</th><td>     2</td><td>  12577.9573</td><td> 6288.97867</td><td> 598.10829</td><td>3.589485e-260</td></tr>\n",
       "\t<tr><th scope=row>block:drug</th><td>     1</td><td>    221.4494</td><td>  221.44941</td><td>  21.06077</td><td> 4.450529e-06</td></tr>\n",
       "\t<tr><th scope=row>block:neuron_type</th><td>     2</td><td>   6294.2239</td><td> 3147.11193</td><td> 299.30356</td><td>1.235508e-130</td></tr>\n",
       "\t<tr><th scope=row>drug:neuron_type</th><td>     2</td><td>  74733.5686</td><td>37366.78431</td><td>3553.73813</td><td> 0.000000e+00</td></tr>\n",
       "\t<tr><th scope=row>block:drug:neuron_type</th><td>     2</td><td>  37397.9493</td><td>18698.97463</td><td>1778.35103</td><td> 0.000000e+00</td></tr>\n",
       "\t<tr><th scope=row>Residuals</th><td>500110</td><td>5258547.9860</td><td>   10.51478</td><td>        NA</td><td>           NA</td></tr>\n",
       "</tbody>\n",
       "</table>\n"
      ],
      "text/latex": [
       "A anova: 8 × 5\n",
       "\\begin{tabular}{r|lllll}\n",
       "  & Df & Sum Sq & Mean Sq & F value & Pr(>F)\\\\\n",
       "  & <int> & <dbl> & <dbl> & <dbl> & <dbl>\\\\\n",
       "\\hline\n",
       "\tblock &      1 &    3088.9989 &  3088.99892 &  293.77677 &  7.807405e-66\\\\\n",
       "\tdrug &      1 &     442.5297 &   442.52974 &   42.08644 &  8.740775e-11\\\\\n",
       "\tneuron\\_type &      2 &   12577.9573 &  6288.97867 &  598.10829 & 3.589485e-260\\\\\n",
       "\tblock:drug &      1 &     221.4494 &   221.44941 &   21.06077 &  4.450529e-06\\\\\n",
       "\tblock:neuron\\_type &      2 &    6294.2239 &  3147.11193 &  299.30356 & 1.235508e-130\\\\\n",
       "\tdrug:neuron\\_type &      2 &   74733.5686 & 37366.78431 & 3553.73813 &  0.000000e+00\\\\\n",
       "\tblock:drug:neuron\\_type &      2 &   37397.9493 & 18698.97463 & 1778.35103 &  0.000000e+00\\\\\n",
       "\tResiduals & 500110 & 5258547.9860 &    10.51478 &         NA &            NA\\\\\n",
       "\\end{tabular}\n"
      ],
      "text/markdown": [
       "\n",
       "A anova: 8 × 5\n",
       "\n",
       "| <!--/--> | Df &lt;int&gt; | Sum Sq &lt;dbl&gt; | Mean Sq &lt;dbl&gt; | F value &lt;dbl&gt; | Pr(&gt;F) &lt;dbl&gt; |\n",
       "|---|---|---|---|---|---|\n",
       "| block |      1 |    3088.9989 |  3088.99892 |  293.77677 |  7.807405e-66 |\n",
       "| drug |      1 |     442.5297 |   442.52974 |   42.08644 |  8.740775e-11 |\n",
       "| neuron_type |      2 |   12577.9573 |  6288.97867 |  598.10829 | 3.589485e-260 |\n",
       "| block:drug |      1 |     221.4494 |   221.44941 |   21.06077 |  4.450529e-06 |\n",
       "| block:neuron_type |      2 |    6294.2239 |  3147.11193 |  299.30356 | 1.235508e-130 |\n",
       "| drug:neuron_type |      2 |   74733.5686 | 37366.78431 | 3553.73813 |  0.000000e+00 |\n",
       "| block:drug:neuron_type |      2 |   37397.9493 | 18698.97463 | 1778.35103 |  0.000000e+00 |\n",
       "| Residuals | 500110 | 5258547.9860 |    10.51478 |         NA |            NA |\n",
       "\n"
      ],
      "text/plain": [
       "                       Df     Sum Sq       Mean Sq     F value    Pr(>F)       \n",
       "block                       1    3088.9989  3088.99892  293.77677  7.807405e-66\n",
       "drug                        1     442.5297   442.52974   42.08644  8.740775e-11\n",
       "neuron_type                 2   12577.9573  6288.97867  598.10829 3.589485e-260\n",
       "block:drug                  1     221.4494   221.44941   21.06077  4.450529e-06\n",
       "block:neuron_type           2    6294.2239  3147.11193  299.30356 1.235508e-130\n",
       "drug:neuron_type            2   74733.5686 37366.78431 3553.73813  0.000000e+00\n",
       "block:drug:neuron_type      2   37397.9493 18698.97463 1778.35103  0.000000e+00\n",
       "Residuals              500110 5258547.9860    10.51478         NA            NA"
      ]
     },
     "metadata": {},
     "output_type": "display_data"
    }
   ],
   "source": [
    "# p <- \"C:\\\\Users\\\\roryl\\\\repos\\\\DRN Interactions\\\\data\\\\derived\\\\way_binned.csv\"\n",
    "p <- \"/Users/ruairiosullivan/repos/DRN Interactions/data/derived/way_binned.csv\"\n",
    "\n",
    "\n",
    "df <- suppressMessages(read_csv(p)) %>%\n",
    "  mutate(\n",
    "    neuron_type=factor(neuron_type, levels=c(\"SR\", \"SIR\", \"FF\")),\n",
    "    drug=factor(\n",
    "      if_else(str_detect(group_name ,\"sal\"), \"SAL\", \"CIT\"), \n",
    "      levels=c(\"SAL\", \"CIT\")),\n",
    "    block=factor(block, levels=c(\"pre\", \"post\"))\n",
    "    )\n",
    "\n",
    "# Model\n",
    "mod <- lm(zcounts ~ block * drug *neuron_type, data=df)\n",
    "\n",
    "# ANOVA\n",
    "anova(mod)"
   ]
  },
  {
   "cell_type": "code",
   "execution_count": 10,
   "metadata": {
    "vscode": {
     "languageId": "r"
    }
   },
   "outputs": [
    {
     "data": {
      "text/html": [
       "<table class=\"dataframe\">\n",
       "<caption>A tibble: 12 × 8</caption>\n",
       "<thead>\n",
       "\t<tr><th scope=col>block</th><th scope=col>drug</th><th scope=col>neuron_type</th><th scope=col>emmean</th><th scope=col>SE</th><th scope=col>df</th><th scope=col>lower.CL</th><th scope=col>upper.CL</th></tr>\n",
       "\t<tr><th scope=col>&lt;fct&gt;</th><th scope=col>&lt;fct&gt;</th><th scope=col>&lt;fct&gt;</th><th scope=col>&lt;dbl&gt;</th><th scope=col>&lt;dbl&gt;</th><th scope=col>&lt;dbl&gt;</th><th scope=col>&lt;dbl&gt;</th><th scope=col>&lt;dbl&gt;</th></tr>\n",
       "</thead>\n",
       "<tbody>\n",
       "\t<tr><td>pre </td><td>SAL</td><td>SR </td><td> 0.00</td><td>0.01</td><td>500110</td><td>-0.03</td><td> 0.03</td></tr>\n",
       "\t<tr><td>post</td><td>SAL</td><td>SR </td><td>-0.06</td><td>0.01</td><td>500110</td><td>-0.08</td><td>-0.04</td></tr>\n",
       "\t<tr><td>pre </td><td>CIT</td><td>SR </td><td> 0.00</td><td>0.03</td><td>500110</td><td>-0.05</td><td> 0.05</td></tr>\n",
       "\t<tr><td>post</td><td>CIT</td><td>SR </td><td> 1.89</td><td>0.02</td><td>500110</td><td> 1.86</td><td> 1.93</td></tr>\n",
       "\t<tr><td>pre </td><td>SAL</td><td>SIR</td><td> 0.00</td><td>0.02</td><td>500110</td><td>-0.03</td><td> 0.03</td></tr>\n",
       "\t<tr><td>post</td><td>SAL</td><td>SIR</td><td> 0.44</td><td>0.01</td><td>500110</td><td> 0.42</td><td> 0.46</td></tr>\n",
       "\t<tr><td>pre </td><td>CIT</td><td>SIR</td><td> 0.00</td><td>0.02</td><td>500110</td><td>-0.03</td><td> 0.03</td></tr>\n",
       "\t<tr><td>post</td><td>CIT</td><td>SIR</td><td>-0.33</td><td>0.01</td><td>500110</td><td>-0.35</td><td>-0.31</td></tr>\n",
       "\t<tr><td>pre </td><td>SAL</td><td>FF </td><td> 0.00</td><td>0.03</td><td>500110</td><td>-0.06</td><td> 0.06</td></tr>\n",
       "\t<tr><td>post</td><td>SAL</td><td>FF </td><td>-0.12</td><td>0.02</td><td>500110</td><td>-0.16</td><td>-0.07</td></tr>\n",
       "\t<tr><td>pre </td><td>CIT</td><td>FF </td><td> 0.00</td><td>0.03</td><td>500110</td><td>-0.06</td><td> 0.06</td></tr>\n",
       "\t<tr><td>post</td><td>CIT</td><td>FF </td><td>-0.13</td><td>0.02</td><td>500110</td><td>-0.18</td><td>-0.09</td></tr>\n",
       "</tbody>\n",
       "</table>\n"
      ],
      "text/latex": [
       "A tibble: 12 × 8\n",
       "\\begin{tabular}{llllllll}\n",
       " block & drug & neuron\\_type & emmean & SE & df & lower.CL & upper.CL\\\\\n",
       " <fct> & <fct> & <fct> & <dbl> & <dbl> & <dbl> & <dbl> & <dbl>\\\\\n",
       "\\hline\n",
       "\t pre  & SAL & SR  &  0.00 & 0.01 & 500110 & -0.03 &  0.03\\\\\n",
       "\t post & SAL & SR  & -0.06 & 0.01 & 500110 & -0.08 & -0.04\\\\\n",
       "\t pre  & CIT & SR  &  0.00 & 0.03 & 500110 & -0.05 &  0.05\\\\\n",
       "\t post & CIT & SR  &  1.89 & 0.02 & 500110 &  1.86 &  1.93\\\\\n",
       "\t pre  & SAL & SIR &  0.00 & 0.02 & 500110 & -0.03 &  0.03\\\\\n",
       "\t post & SAL & SIR &  0.44 & 0.01 & 500110 &  0.42 &  0.46\\\\\n",
       "\t pre  & CIT & SIR &  0.00 & 0.02 & 500110 & -0.03 &  0.03\\\\\n",
       "\t post & CIT & SIR & -0.33 & 0.01 & 500110 & -0.35 & -0.31\\\\\n",
       "\t pre  & SAL & FF  &  0.00 & 0.03 & 500110 & -0.06 &  0.06\\\\\n",
       "\t post & SAL & FF  & -0.12 & 0.02 & 500110 & -0.16 & -0.07\\\\\n",
       "\t pre  & CIT & FF  &  0.00 & 0.03 & 500110 & -0.06 &  0.06\\\\\n",
       "\t post & CIT & FF  & -0.13 & 0.02 & 500110 & -0.18 & -0.09\\\\\n",
       "\\end{tabular}\n"
      ],
      "text/markdown": [
       "\n",
       "A tibble: 12 × 8\n",
       "\n",
       "| block &lt;fct&gt; | drug &lt;fct&gt; | neuron_type &lt;fct&gt; | emmean &lt;dbl&gt; | SE &lt;dbl&gt; | df &lt;dbl&gt; | lower.CL &lt;dbl&gt; | upper.CL &lt;dbl&gt; |\n",
       "|---|---|---|---|---|---|---|---|\n",
       "| pre  | SAL | SR  |  0.00 | 0.01 | 500110 | -0.03 |  0.03 |\n",
       "| post | SAL | SR  | -0.06 | 0.01 | 500110 | -0.08 | -0.04 |\n",
       "| pre  | CIT | SR  |  0.00 | 0.03 | 500110 | -0.05 |  0.05 |\n",
       "| post | CIT | SR  |  1.89 | 0.02 | 500110 |  1.86 |  1.93 |\n",
       "| pre  | SAL | SIR |  0.00 | 0.02 | 500110 | -0.03 |  0.03 |\n",
       "| post | SAL | SIR |  0.44 | 0.01 | 500110 |  0.42 |  0.46 |\n",
       "| pre  | CIT | SIR |  0.00 | 0.02 | 500110 | -0.03 |  0.03 |\n",
       "| post | CIT | SIR | -0.33 | 0.01 | 500110 | -0.35 | -0.31 |\n",
       "| pre  | SAL | FF  |  0.00 | 0.03 | 500110 | -0.06 |  0.06 |\n",
       "| post | SAL | FF  | -0.12 | 0.02 | 500110 | -0.16 | -0.07 |\n",
       "| pre  | CIT | FF  |  0.00 | 0.03 | 500110 | -0.06 |  0.06 |\n",
       "| post | CIT | FF  | -0.13 | 0.02 | 500110 | -0.18 | -0.09 |\n",
       "\n"
      ],
      "text/plain": [
       "   block drug neuron_type emmean SE   df     lower.CL upper.CL\n",
       "1  pre   SAL  SR           0.00  0.01 500110 -0.03     0.03   \n",
       "2  post  SAL  SR          -0.06  0.01 500110 -0.08    -0.04   \n",
       "3  pre   CIT  SR           0.00  0.03 500110 -0.05     0.05   \n",
       "4  post  CIT  SR           1.89  0.02 500110  1.86     1.93   \n",
       "5  pre   SAL  SIR          0.00  0.02 500110 -0.03     0.03   \n",
       "6  post  SAL  SIR          0.44  0.01 500110  0.42     0.46   \n",
       "7  pre   CIT  SIR          0.00  0.02 500110 -0.03     0.03   \n",
       "8  post  CIT  SIR         -0.33  0.01 500110 -0.35    -0.31   \n",
       "9  pre   SAL  FF           0.00  0.03 500110 -0.06     0.06   \n",
       "10 post  SAL  FF          -0.12  0.02 500110 -0.16    -0.07   \n",
       "11 pre   CIT  FF           0.00  0.03 500110 -0.06     0.06   \n",
       "12 post  CIT  FF          -0.13  0.02 500110 -0.18    -0.09   "
      ]
     },
     "metadata": {},
     "output_type": "display_data"
    }
   ],
   "source": [
    "em <- emmeans(mod, ~ block*drug*neuron_type)\n",
    "em %>% as_tibble() %>% mutate_if(is.numeric, round, 2)"
   ]
  },
  {
   "cell_type": "code",
   "execution_count": 11,
   "metadata": {
    "vscode": {
     "languageId": "r"
    }
   },
   "outputs": [
    {
     "data": {
      "text/html": [
       "<table class=\"dataframe\">\n",
       "<caption>A tibble: 6 × 8</caption>\n",
       "<thead>\n",
       "\t<tr><th scope=col>drug</th><th scope=col>neuron_type</th><th scope=col>contrast</th><th scope=col>estimate</th><th scope=col>SE</th><th scope=col>df</th><th scope=col>t.ratio</th><th scope=col>p.value</th></tr>\n",
       "\t<tr><th scope=col>&lt;chr&gt;</th><th scope=col>&lt;chr&gt;</th><th scope=col>&lt;chr&gt;</th><th scope=col>&lt;dbl&gt;</th><th scope=col>&lt;dbl&gt;</th><th scope=col>&lt;dbl&gt;</th><th scope=col>&lt;dbl&gt;</th><th scope=col>&lt;dbl&gt;</th></tr>\n",
       "</thead>\n",
       "<tbody>\n",
       "\t<tr><td>SAL</td><td>SR </td><td>pre - post</td><td> 0.06</td><td>0.02</td><td>500110</td><td>  3.15</td><td>0.01</td></tr>\n",
       "\t<tr><td>CIT</td><td>SR </td><td>pre - post</td><td>-1.89</td><td>0.03</td><td>500110</td><td>-60.70</td><td>0.00</td></tr>\n",
       "\t<tr><td>SAL</td><td>SIR</td><td>pre - post</td><td>-0.44</td><td>0.02</td><td>500110</td><td>-21.49</td><td>0.00</td></tr>\n",
       "\t<tr><td>CIT</td><td>SIR</td><td>pre - post</td><td> 0.33</td><td>0.02</td><td>500110</td><td> 17.05</td><td>0.00</td></tr>\n",
       "\t<tr><td>SAL</td><td>FF </td><td>pre - post</td><td> 0.12</td><td>0.04</td><td>500110</td><td>  3.13</td><td>0.01</td></tr>\n",
       "\t<tr><td>CIT</td><td>FF </td><td>pre - post</td><td> 0.13</td><td>0.04</td><td>500110</td><td>  3.61</td><td>0.00</td></tr>\n",
       "</tbody>\n",
       "</table>\n"
      ],
      "text/latex": [
       "A tibble: 6 × 8\n",
       "\\begin{tabular}{llllllll}\n",
       " drug & neuron\\_type & contrast & estimate & SE & df & t.ratio & p.value\\\\\n",
       " <chr> & <chr> & <chr> & <dbl> & <dbl> & <dbl> & <dbl> & <dbl>\\\\\n",
       "\\hline\n",
       "\t SAL & SR  & pre - post &  0.06 & 0.02 & 500110 &   3.15 & 0.01\\\\\n",
       "\t CIT & SR  & pre - post & -1.89 & 0.03 & 500110 & -60.70 & 0.00\\\\\n",
       "\t SAL & SIR & pre - post & -0.44 & 0.02 & 500110 & -21.49 & 0.00\\\\\n",
       "\t CIT & SIR & pre - post &  0.33 & 0.02 & 500110 &  17.05 & 0.00\\\\\n",
       "\t SAL & FF  & pre - post &  0.12 & 0.04 & 500110 &   3.13 & 0.01\\\\\n",
       "\t CIT & FF  & pre - post &  0.13 & 0.04 & 500110 &   3.61 & 0.00\\\\\n",
       "\\end{tabular}\n"
      ],
      "text/markdown": [
       "\n",
       "A tibble: 6 × 8\n",
       "\n",
       "| drug &lt;chr&gt; | neuron_type &lt;chr&gt; | contrast &lt;chr&gt; | estimate &lt;dbl&gt; | SE &lt;dbl&gt; | df &lt;dbl&gt; | t.ratio &lt;dbl&gt; | p.value &lt;dbl&gt; |\n",
       "|---|---|---|---|---|---|---|---|\n",
       "| SAL | SR  | pre - post |  0.06 | 0.02 | 500110 |   3.15 | 0.01 |\n",
       "| CIT | SR  | pre - post | -1.89 | 0.03 | 500110 | -60.70 | 0.00 |\n",
       "| SAL | SIR | pre - post | -0.44 | 0.02 | 500110 | -21.49 | 0.00 |\n",
       "| CIT | SIR | pre - post |  0.33 | 0.02 | 500110 |  17.05 | 0.00 |\n",
       "| SAL | FF  | pre - post |  0.12 | 0.04 | 500110 |   3.13 | 0.01 |\n",
       "| CIT | FF  | pre - post |  0.13 | 0.04 | 500110 |   3.61 | 0.00 |\n",
       "\n"
      ],
      "text/plain": [
       "  drug neuron_type contrast   estimate SE   df     t.ratio p.value\n",
       "1 SAL  SR          pre - post  0.06    0.02 500110   3.15  0.01   \n",
       "2 CIT  SR          pre - post -1.89    0.03 500110 -60.70  0.00   \n",
       "3 SAL  SIR         pre - post -0.44    0.02 500110 -21.49  0.00   \n",
       "4 CIT  SIR         pre - post  0.33    0.02 500110  17.05  0.00   \n",
       "5 SAL  FF          pre - post  0.12    0.04 500110   3.13  0.01   \n",
       "6 CIT  FF          pre - post  0.13    0.04 500110   3.61  0.00   "
      ]
     },
     "metadata": {},
     "output_type": "display_data"
    }
   ],
   "source": [
    "cont <- contrast(em, method=\"pairwise\", by=c(\"drug\", \"neuron_type\")) \n",
    "cont %>% rbind() %>% as_tibble() %>% mutate_if(is.numeric, round, 2)"
   ]
  },
  {
   "cell_type": "code",
   "execution_count": 12,
   "metadata": {
    "vscode": {
     "languageId": "r"
    }
   },
   "outputs": [
    {
     "data": {
      "text/html": [
       "<table class=\"dataframe\">\n",
       "<caption>A tibble: 3 × 7</caption>\n",
       "<thead>\n",
       "\t<tr><th scope=col>neuron_type</th><th scope=col>contrast</th><th scope=col>estimate</th><th scope=col>SE</th><th scope=col>df</th><th scope=col>t.ratio</th><th scope=col>p.value</th></tr>\n",
       "\t<tr><th scope=col>&lt;chr&gt;</th><th scope=col>&lt;chr&gt;</th><th scope=col>&lt;dbl&gt;</th><th scope=col>&lt;dbl&gt;</th><th scope=col>&lt;dbl&gt;</th><th scope=col>&lt;dbl&gt;</th><th scope=col>&lt;dbl&gt;</th></tr>\n",
       "</thead>\n",
       "<tbody>\n",
       "\t<tr><td>SR </td><td>(pre - post SAL) - (pre - post CIT)</td><td> 1.95</td><td>0.04</td><td>500110</td><td> 54.07</td><td>0</td></tr>\n",
       "\t<tr><td>SIR</td><td>(pre - post SAL) - (pre - post CIT)</td><td>-0.77</td><td>0.03</td><td>500110</td><td>-27.33</td><td>0</td></tr>\n",
       "\t<tr><td>FF </td><td>(pre - post SAL) - (pre - post CIT)</td><td>-0.02</td><td>0.05</td><td>500110</td><td> -0.34</td><td>1</td></tr>\n",
       "</tbody>\n",
       "</table>\n"
      ],
      "text/latex": [
       "A tibble: 3 × 7\n",
       "\\begin{tabular}{lllllll}\n",
       " neuron\\_type & contrast & estimate & SE & df & t.ratio & p.value\\\\\n",
       " <chr> & <chr> & <dbl> & <dbl> & <dbl> & <dbl> & <dbl>\\\\\n",
       "\\hline\n",
       "\t SR  & (pre - post SAL) - (pre - post CIT) &  1.95 & 0.04 & 500110 &  54.07 & 0\\\\\n",
       "\t SIR & (pre - post SAL) - (pre - post CIT) & -0.77 & 0.03 & 500110 & -27.33 & 0\\\\\n",
       "\t FF  & (pre - post SAL) - (pre - post CIT) & -0.02 & 0.05 & 500110 &  -0.34 & 1\\\\\n",
       "\\end{tabular}\n"
      ],
      "text/markdown": [
       "\n",
       "A tibble: 3 × 7\n",
       "\n",
       "| neuron_type &lt;chr&gt; | contrast &lt;chr&gt; | estimate &lt;dbl&gt; | SE &lt;dbl&gt; | df &lt;dbl&gt; | t.ratio &lt;dbl&gt; | p.value &lt;dbl&gt; |\n",
       "|---|---|---|---|---|---|---|\n",
       "| SR  | (pre - post SAL) - (pre - post CIT) |  1.95 | 0.04 | 500110 |  54.07 | 0 |\n",
       "| SIR | (pre - post SAL) - (pre - post CIT) | -0.77 | 0.03 | 500110 | -27.33 | 0 |\n",
       "| FF  | (pre - post SAL) - (pre - post CIT) | -0.02 | 0.05 | 500110 |  -0.34 | 1 |\n",
       "\n"
      ],
      "text/plain": [
       "  neuron_type contrast                            estimate SE   df     t.ratio\n",
       "1 SR          (pre - post SAL) - (pre - post CIT)  1.95    0.04 500110  54.07 \n",
       "2 SIR         (pre - post SAL) - (pre - post CIT) -0.77    0.03 500110 -27.33 \n",
       "3 FF          (pre - post SAL) - (pre - post CIT) -0.02    0.05 500110  -0.34 \n",
       "  p.value\n",
       "1 0      \n",
       "2 0      \n",
       "3 1      "
      ]
     },
     "metadata": {},
     "output_type": "display_data"
    }
   ],
   "source": [
    "cont2 <- pairs(cont, by=\"neuron_type\")\n",
    "cont2 %>% rbind() %>% as_tibble() %>% mutate_if(is.numeric, round, 2)"
   ]
  },
  {
   "cell_type": "code",
   "execution_count": 13,
   "metadata": {
    "vscode": {
     "languageId": "r"
    }
   },
   "outputs": [
    {
     "data": {
      "text/html": [
       "<table class=\"dataframe\">\n",
       "<caption>A tibble: 3 × 8</caption>\n",
       "<thead>\n",
       "\t<tr><th scope=col>block_pairwise</th><th scope=col>drug_pairwise</th><th scope=col>neuron_type_pairwise</th><th scope=col>estimate</th><th scope=col>SE</th><th scope=col>df</th><th scope=col>t.ratio</th><th scope=col>p.value</th></tr>\n",
       "\t<tr><th scope=col>&lt;chr&gt;</th><th scope=col>&lt;chr&gt;</th><th scope=col>&lt;chr&gt;</th><th scope=col>&lt;dbl&gt;</th><th scope=col>&lt;dbl&gt;</th><th scope=col>&lt;dbl&gt;</th><th scope=col>&lt;dbl&gt;</th><th scope=col>&lt;dbl&gt;</th></tr>\n",
       "</thead>\n",
       "<tbody>\n",
       "\t<tr><td>pre - post</td><td>SAL - CIT</td><td>SR - SIR</td><td> 2.72</td><td>0.05</td><td>500110</td><td> 59.44</td><td>0</td></tr>\n",
       "\t<tr><td>pre - post</td><td>SAL - CIT</td><td>SR - FF </td><td> 1.97</td><td>0.06</td><td>500110</td><td> 30.86</td><td>0</td></tr>\n",
       "\t<tr><td>pre - post</td><td>SAL - CIT</td><td>SIR - FF</td><td>-0.75</td><td>0.06</td><td>500110</td><td>-12.60</td><td>0</td></tr>\n",
       "</tbody>\n",
       "</table>\n"
      ],
      "text/latex": [
       "A tibble: 3 × 8\n",
       "\\begin{tabular}{llllllll}\n",
       " block\\_pairwise & drug\\_pairwise & neuron\\_type\\_pairwise & estimate & SE & df & t.ratio & p.value\\\\\n",
       " <chr> & <chr> & <chr> & <dbl> & <dbl> & <dbl> & <dbl> & <dbl>\\\\\n",
       "\\hline\n",
       "\t pre - post & SAL - CIT & SR - SIR &  2.72 & 0.05 & 500110 &  59.44 & 0\\\\\n",
       "\t pre - post & SAL - CIT & SR - FF  &  1.97 & 0.06 & 500110 &  30.86 & 0\\\\\n",
       "\t pre - post & SAL - CIT & SIR - FF & -0.75 & 0.06 & 500110 & -12.60 & 0\\\\\n",
       "\\end{tabular}\n"
      ],
      "text/markdown": [
       "\n",
       "A tibble: 3 × 8\n",
       "\n",
       "| block_pairwise &lt;chr&gt; | drug_pairwise &lt;chr&gt; | neuron_type_pairwise &lt;chr&gt; | estimate &lt;dbl&gt; | SE &lt;dbl&gt; | df &lt;dbl&gt; | t.ratio &lt;dbl&gt; | p.value &lt;dbl&gt; |\n",
       "|---|---|---|---|---|---|---|---|\n",
       "| pre - post | SAL - CIT | SR - SIR |  2.72 | 0.05 | 500110 |  59.44 | 0 |\n",
       "| pre - post | SAL - CIT | SR - FF  |  1.97 | 0.06 | 500110 |  30.86 | 0 |\n",
       "| pre - post | SAL - CIT | SIR - FF | -0.75 | 0.06 | 500110 | -12.60 | 0 |\n",
       "\n"
      ],
      "text/plain": [
       "  block_pairwise drug_pairwise neuron_type_pairwise estimate SE   df    \n",
       "1 pre - post     SAL - CIT     SR - SIR              2.72    0.05 500110\n",
       "2 pre - post     SAL - CIT     SR - FF               1.97    0.06 500110\n",
       "3 pre - post     SAL - CIT     SIR - FF             -0.75    0.06 500110\n",
       "  t.ratio p.value\n",
       "1  59.44  0      \n",
       "2  30.86  0      \n",
       "3 -12.60  0      "
      ]
     },
     "metadata": {},
     "output_type": "display_data"
    }
   ],
   "source": [
    "cont3 <- contrast(em, method=\"pairwise\", interaction=T, by=NULL) \n",
    "cont3 %>% rbind() %>% as_tibble() %>% mutate_if(is.numeric, round, 2)"
   ]
  },
  {
   "cell_type": "code",
   "execution_count": null,
   "metadata": {
    "vscode": {
     "languageId": "r"
    }
   },
   "outputs": [],
   "source": []
  }
 ],
 "metadata": {
  "kernelspec": {
   "display_name": "R",
   "language": "R",
   "name": "ir"
  },
  "language_info": {
   "codemirror_mode": "r",
   "file_extension": ".r",
   "mimetype": "text/x-r-source",
   "name": "R",
   "pygments_lexer": "r",
   "version": "4.2.1"
  },
  "orig_nbformat": 4
 },
 "nbformat": 4,
 "nbformat_minor": 2
}
