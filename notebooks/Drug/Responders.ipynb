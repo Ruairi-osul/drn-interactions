{
 "cells": [
  {
   "cell_type": "code",
   "execution_count": 46,
   "metadata": {},
   "outputs": [
    {
     "name": "stdout",
     "output_type": "stream",
     "text": [
      "The rpy2.ipython extension is already loaded. To reload it, use:\n",
      "  %reload_ext rpy2.ipython\n"
     ]
    }
   ],
   "source": [
    "from drn_interactions.config import ExperimentInfo, Config\n",
    "from drn_interactions.transforms import SpikesHandler\n",
    "from drn_interactions.io import load_derived_generic\n",
    "from drn_interactions.stats import mannwhitneyu_plusplus\n",
    "import numpy as np\n",
    "import pandas as pd\n",
    "from scipy.stats import zscore, zmap\n",
    "%load_ext rpy2.ipython"
   ]
  },
  {
   "cell_type": "code",
   "execution_count": 47,
   "metadata": {},
   "outputs": [],
   "source": [
    "def load_drug_data(\n",
    "    block=\"chal\", \n",
    "    t_start=-600, \n",
    "    t_stop=1200, \n",
    "    bin_width=1,\n",
    "    sessions=None,\n",
    "    merge_neuron_types=False,\n",
    "    group_names=None,\n",
    "    ):\n",
    "    df_binned = SpikesHandler(\n",
    "        block=block,\n",
    "        bin_width=bin_width,\n",
    "        session_names=sessions,\n",
    "        t_start=t_start,\n",
    "        t_stop=t_stop,\n",
    "    ).binned\n",
    "    df_binned[\"block\"] = np.where(df_binned[\"bin\"] < 0, \"pre\", \"post\")\n",
    "    neuron_types = load_derived_generic(\"neuron_types.csv\")[[\"neuron_id\", \"neuron_type\", \"session_name\", \"group_name\"]]\n",
    "    df_binned = df_binned.merge(neuron_types)\n",
    "    if group_names is not None:\n",
    "        df_binned = df_binned.query(\"group_name in @group_names\")\n",
    "    return df_binned\n",
    "\n"
   ]
  },
  {
   "cell_type": "code",
   "execution_count": 54,
   "metadata": {},
   "outputs": [],
   "source": [
    "neuron_types = load_derived_generic(\"neuron_types.csv\")\n",
    "df_chal =load_drug_data()\n",
    "df_chal[\"zcounts\"] = df_chal.groupby(\"neuron_id\")[\"counts\"].transform(lambda x: zmap(x, x[:600]))\n",
    "df_chal = df_chal.dropna()\n",
    "df_chal.to_csv(Config.derived_data_dir / \"chal_binned.csv\", index=False)"
   ]
  },
  {
   "cell_type": "code",
   "execution_count": 55,
   "metadata": {},
   "outputs": [],
   "source": [
    "def mwu(df):\n",
    "    pre = df.query(\"block == 'pre'\")[\"zcounts\"].values\n",
    "    post = df.query(\"block == 'post'\")[\"zcounts\"].values\n",
    "    return mannwhitneyu_plusplus(pre, post, names=(\"pre\", \"post\"))\n",
    "\n",
    "df_responders = (\n",
    "    df_chal\n",
    "    .groupby(\"neuron_id\")\n",
    "    .apply(mwu)\n",
    "    .reset_index()\n",
    "    .merge(neuron_types)\n",
    ")\n",
    "df_responders.to_csv(Config.derived_data_dir / \"chal_responders.csv\", index=False)\n"
   ]
  },
  {
   "cell_type": "code",
   "execution_count": 56,
   "metadata": {},
   "outputs": [
    {
     "name": "stdout",
     "output_type": "stream",
     "text": [
      "Analysis of Variance Table\n",
      "\n",
      "Response: zcounts\n",
      "                           Df  Sum Sq Mean Sq F value    Pr(>F)    \n",
      "block                       1    3162  3162.4  851.27 < 2.2e-16 ***\n",
      "drug                        1   12934 12934.1 3481.65 < 2.2e-16 ***\n",
      "neuron_type                 2   37390 18695.2 5032.46 < 2.2e-16 ***\n",
      "block:drug                  1    6472  6472.4 1742.28 < 2.2e-16 ***\n",
      "block:neuron_type           2   18711  9355.4 2518.33 < 2.2e-16 ***\n",
      "drug:neuron_type            2   21637 10818.3 2912.11 < 2.2e-16 ***\n",
      "block:drug:neuron_type      2   10827  5413.6 1457.27 < 2.2e-16 ***\n",
      "Residuals              647628 2405884     3.7                      \n",
      "---\n",
      "Signif. codes:  0 '***' 0.001 '**' 0.01 '*' 0.05 '.' 0.1 ' ' 1\n"
     ]
    }
   ],
   "source": [
    "%%R\n",
    "\n",
    "suppressMessages(require(lme4))\n",
    "suppressMessages(require(lmerTest))\n",
    "suppressMessages(require(emmeans))\n",
    "suppressMessages(require(tidyverse))\n",
    "\n",
    "p <- \"C:\\\\Users\\\\roryl\\\\repos\\\\DRN Interactions\\\\data\\\\derived\\\\chal_binned.csv\"\n",
    "\n",
    "df <- suppressMessages(read_csv(p)) %>%\n",
    "  mutate(\n",
    "    neuron_type=factor(neuron_type, levels=c(\"SR\", \"SIR\", \"FF\")),\n",
    "    drug=factor(\n",
    "      if_else(str_detect(group_name ,\"sal\"), \"SAL\", \"CIT\"), \n",
    "      levels=c(\"SAL\", \"CIT\")),\n",
    "    block=factor(block, levels=c(\"pre\", \"post\"))\n",
    "    )\n",
    "\n",
    "# Model\n",
    "mod <- lm(zcounts ~ block * drug *neuron_type, data=df)\n",
    "\n",
    "# ANOVA\n",
    "print(anova(mod))"
   ]
  },
  {
   "cell_type": "code",
   "execution_count": 57,
   "metadata": {},
   "outputs": [
    {
     "name": "stdout",
     "output_type": "stream",
     "text": [
      " block drug neuron_type  emmean      SE     df lower.CL upper.CL\n",
      " pre   SAL  SR           0.0000 0.00812 647628  -0.0159   0.0159\n",
      " post  SAL  SR          -0.0719 0.00574 647628  -0.0832  -0.0606\n",
      " pre   CIT  SR           0.0000 0.01071 647628  -0.0210   0.0210\n",
      " post  CIT  SR          -1.2073 0.00757 647628  -1.2222  -1.1925\n",
      " pre   SAL  SIR          0.0000 0.00909 647628  -0.0178   0.0178\n",
      " post  SAL  SIR          0.1728 0.00643 647628   0.1602   0.1854\n",
      " pre   CIT  SIR          0.0000 0.00834 647628  -0.0163   0.0163\n",
      " post  CIT  SIR          0.2123 0.00590 647628   0.2008   0.2239\n",
      " pre   SAL  FF           0.0000 0.01514 647628  -0.0297   0.0297\n",
      " post  SAL  FF           0.1024 0.01071 647628   0.0814   0.1234\n",
      " pre   CIT  FF           0.0000 0.01717 647628  -0.0337   0.0337\n",
      " post  CIT  FF          -0.7631 0.01215 647628  -0.7869  -0.7393\n",
      "\n",
      "Confidence level used: 0.95 \n"
     ]
    }
   ],
   "source": [
    "%%R\n",
    "\n",
    "# EMMEANS\n",
    "em <- emmeans(mod, ~ block*drug*neuron_type)\n",
    "\n",
    "print(em)\n"
   ]
  },
  {
   "cell_type": "code",
   "execution_count": 58,
   "metadata": {},
   "outputs": [
    {
     "name": "stdout",
     "output_type": "stream",
     "text": [
      " drug neuron_type contrast   estimate      SE     df t.ratio p.value\n",
      " SAL  SR          pre - post   0.0719 0.00994 647628   7.233  <.0001\n",
      " CIT  SR          pre - post   1.2073 0.01312 647628  92.048  <.0001\n",
      " SAL  SIR         pre - post  -0.1728 0.01113 647628 -15.525  <.0001\n",
      " CIT  SIR         pre - post  -0.2123 0.01022 647628 -20.782  <.0001\n",
      " SAL  FF          pre - post  -0.1024 0.01855 647628  -5.523  <.0001\n",
      " CIT  FF          pre - post   0.7631 0.02103 647628  36.280  <.0001\n",
      "\n",
      "P value adjustment: bonferroni method for 6 tests \n"
     ]
    }
   ],
   "source": [
    "%%R\n",
    "# PRE POST BY NEURON TYPE\n",
    "cont <- contrast(em, method=\"pairwise\", by=c(\"drug\", \"neuron_type\")) \n",
    "print(cont %>% rbind())\n"
   ]
  },
  {
   "cell_type": "code",
   "execution_count": 59,
   "metadata": {},
   "outputs": [
    {
     "name": "stdout",
     "output_type": "stream",
     "text": [
      " neuron_type contrast                            estimate     SE     df t.ratio\n",
      " SR          (pre - post SAL) - (pre - post CIT)  -1.1354 0.0165 647628 -68.989\n",
      " SIR         (pre - post SAL) - (pre - post CIT)   0.0395 0.0151 647628   2.617\n",
      " FF          (pre - post SAL) - (pre - post CIT)  -0.8655 0.0280 647628 -30.863\n",
      " p.value\n",
      "  <.0001\n",
      "  0.0266\n",
      "  <.0001\n",
      "\n",
      "P value adjustment: bonferroni method for 3 tests \n",
      " block_pairwise drug_pairwise neuron_type_pairwise estimate     SE     df\n",
      " pre - post     SAL - CIT     SR - SIR               -1.175 0.0223 647628\n",
      " pre - post     SAL - CIT     SR - FF                -0.270 0.0325 647628\n",
      " pre - post     SAL - CIT     SIR - FF                0.905 0.0319 647628\n",
      " t.ratio p.value\n",
      " -52.593  <.0001\n",
      "  -8.301  <.0001\n",
      "  28.412  <.0001\n",
      "\n",
      "P value adjustment: bonferroni method for 3 tests \n"
     ]
    }
   ],
   "source": [
    "%%R\n",
    "# EFFECT OF DRUG BY NEURON \n",
    "cont2 <- pairs(cont, by=\"neuron_type\")\n",
    "print(cont2 %>% rbind())\n",
    "\n",
    "# EFFECT OF DRUG ON PRE POST COMPARISON ACROSS NEURONS \n",
    "cont3 <- contrast(em, method=\"pairwise\", interaction=T, by=NULL) \n",
    "print(cont3 %>% rbind() )"
   ]
  },
  {
   "cell_type": "markdown",
   "metadata": {},
   "source": [
    "# Way"
   ]
  },
  {
   "cell_type": "code",
   "execution_count": 71,
   "metadata": {},
   "outputs": [],
   "source": [
    "df_way = load_drug_data(block=\"way\")\n",
    "df_way[\"zcounts\"] = df_way.groupby(\"neuron_id\")[\"counts\"].transform(lambda x: zmap(x, x[:600]))\n",
    "df_way = df_way.dropna()\n",
    "\n",
    "df_responders = (\n",
    "    df_way\n",
    "    .groupby(\"neuron_id\")\n",
    "    .apply(mwu)\n",
    "    .reset_index()\n",
    "    .merge(neuron_types)\n",
    ")\n",
    "df_responders.to_csv(Config.derived_data_dir / \"way_responders.csv\", index=False)\n",
    "df_way.to_csv(Config.derived_data_dir / \"way_binned.csv\", index=False)"
   ]
  },
  {
   "cell_type": "code",
   "execution_count": 72,
   "metadata": {},
   "outputs": [
    {
     "name": "stdout",
     "output_type": "stream",
     "text": [
      "Analysis of Variance Table\n",
      "\n",
      "Response: zcounts\n",
      "                           Df  Sum Sq Mean Sq  F value    Pr(>F)    \n",
      "block                       1    3089    3089  293.777 < 2.2e-16 ***\n",
      "drug                        1     443     443   42.086 8.741e-11 ***\n",
      "neuron_type                 2   12578    6289  598.108 < 2.2e-16 ***\n",
      "block:drug                  1     221     221   21.061 4.451e-06 ***\n",
      "block:neuron_type           2    6294    3147  299.304 < 2.2e-16 ***\n",
      "drug:neuron_type            2   74734   37367 3553.738 < 2.2e-16 ***\n",
      "block:drug:neuron_type      2   37398   18699 1778.351 < 2.2e-16 ***\n",
      "Residuals              500110 5258548      11                       \n",
      "---\n",
      "Signif. codes:  0 '***' 0.001 '**' 0.01 '*' 0.05 '.' 0.1 ' ' 1\n"
     ]
    }
   ],
   "source": [
    "%%R\n",
    "\n",
    "suppressMessages(require(lme4))\n",
    "suppressMessages(require(lmerTest))\n",
    "suppressMessages(require(emmeans))\n",
    "suppressMessages(require(tidyverse))\n",
    "\n",
    "p <- \"C:\\\\Users\\\\roryl\\\\repos\\\\DRN Interactions\\\\data\\\\derived\\\\way_binned.csv\"\n",
    "\n",
    "df <- suppressMessages(read_csv(p)) %>%\n",
    "  mutate(\n",
    "    neuron_type=factor(neuron_type, levels=c(\"SR\", \"SIR\", \"FF\")),\n",
    "    drug=factor(\n",
    "      if_else(str_detect(group_name ,\"sal\"), \"SAL\", \"CIT\"), \n",
    "      levels=c(\"SAL\", \"CIT\")),\n",
    "    block=factor(block, levels=c(\"pre\", \"post\"))\n",
    "    )\n",
    "\n",
    "# Model\n",
    "mod <- lm(zcounts ~ block * drug *neuron_type, data=df)\n",
    "\n",
    "# ANOVA\n",
    "print(anova(mod))"
   ]
  },
  {
   "cell_type": "code",
   "execution_count": 73,
   "metadata": {},
   "outputs": [
    {
     "name": "stdout",
     "output_type": "stream",
     "text": [
      " block drug neuron_type emmean     SE    df lower.CL upper.CL\n",
      " pre   SAL  SR           0.000 0.0148 5e+05  -0.0290   0.0290\n",
      " post  SAL  SR          -0.057 0.0105 5e+05  -0.0776  -0.0365\n",
      " pre   CIT  SR           0.000 0.0255 5e+05  -0.0499   0.0499\n",
      " post  CIT  SR           1.894 0.0180 5e+05   1.8589   1.9296\n",
      " pre   SAL  SIR          0.000 0.0167 5e+05  -0.0327   0.0327\n",
      " post  SAL  SIR          0.439 0.0118 5e+05   0.4160   0.4623\n",
      " pre   CIT  SIR          0.000 0.0158 5e+05  -0.0310   0.0310\n",
      " post  CIT  SIR         -0.331 0.0112 5e+05  -0.3525  -0.3086\n",
      " pre   SAL  FF           0.000 0.0304 5e+05  -0.0595   0.0595\n",
      " post  SAL  FF          -0.117 0.0215 5e+05  -0.1587  -0.0745\n",
      " pre   CIT  FF           0.000 0.0304 5e+05  -0.0595   0.0595\n",
      " post  CIT  FF          -0.134 0.0215 5e+05  -0.1765  -0.0923\n",
      "\n",
      "Confidence level used: 0.95 \n"
     ]
    }
   ],
   "source": [
    "%%R\n",
    "\n",
    "# EMMEANS\n",
    "em <- emmeans(mod, ~ block*drug*neuron_type)\n",
    "\n",
    "print(em)\n"
   ]
  },
  {
   "cell_type": "code",
   "execution_count": 74,
   "metadata": {},
   "outputs": [
    {
     "name": "stdout",
     "output_type": "stream",
     "text": [
      " drug neuron_type contrast   estimate     SE    df t.ratio p.value\n",
      " SAL  SR          pre - post    0.057 0.0181 5e+05   3.147  0.0099\n",
      " CIT  SR          pre - post   -1.894 0.0312 5e+05 -60.700  <.0001\n",
      " SAL  SIR         pre - post   -0.439 0.0204 5e+05 -21.495  <.0001\n",
      " CIT  SIR         pre - post    0.331 0.0194 5e+05  17.054  <.0001\n",
      " SAL  FF          pre - post    0.117 0.0372 5e+05   3.135  0.0103\n",
      " CIT  FF          pre - post    0.134 0.0372 5e+05   3.613  0.0018\n",
      "\n",
      "P value adjustment: bonferroni method for 6 tests \n"
     ]
    }
   ],
   "source": [
    "%%R\n",
    "# PRE POST BY NEURON TYPE\n",
    "cont <- contrast(em, method=\"pairwise\", by=c(\"drug\", \"neuron_type\")) \n",
    "print(cont %>% rbind())\n"
   ]
  },
  {
   "cell_type": "code",
   "execution_count": 75,
   "metadata": {},
   "outputs": [
    {
     "name": "stdout",
     "output_type": "stream",
     "text": [
      " neuron_type contrast                            estimate     SE    df t.ratio\n",
      " SR          (pre - post SAL) - (pre - post CIT)   1.9513 0.0361 5e+05  54.067\n",
      " SIR         (pre - post SAL) - (pre - post CIT)  -0.7697 0.0282 5e+05 -27.331\n",
      " FF          (pre - post SAL) - (pre - post CIT)  -0.0178 0.0526 5e+05  -0.338\n",
      " p.value\n",
      "  <.0001\n",
      "  <.0001\n",
      "  1.0000\n",
      "\n",
      "P value adjustment: bonferroni method for 3 tests \n",
      " block_pairwise drug_pairwise neuron_type_pairwise estimate     SE    df\n",
      " pre - post     SAL - CIT     SR - SIR                2.721 0.0458 5e+05\n",
      " pre - post     SAL - CIT     SR - FF                 1.969 0.0638 5e+05\n",
      " pre - post     SAL - CIT     SIR - FF               -0.752 0.0597 5e+05\n",
      " t.ratio p.value\n",
      "  59.439  <.0001\n",
      "  30.864  <.0001\n",
      " -12.600  <.0001\n",
      "\n",
      "P value adjustment: bonferroni method for 3 tests \n"
     ]
    }
   ],
   "source": [
    "%%R\n",
    "# EFFECT OF DRUG BY NEURON \n",
    "cont2 <- pairs(cont, by=\"neuron_type\")\n",
    "print(cont2 %>% rbind())\n",
    "\n",
    "# EFFECT OF DRUG ON PRE POST COMPARISON ACROSS NEURONS \n",
    "cont3 <- contrast(em, method=\"pairwise\", interaction=T, by=NULL) \n",
    "print(cont3 %>% rbind() )"
   ]
  },
  {
   "cell_type": "code",
   "execution_count": null,
   "metadata": {},
   "outputs": [],
   "source": []
  },
  {
   "cell_type": "code",
   "execution_count": null,
   "metadata": {},
   "outputs": [],
   "source": []
  }
 ],
 "metadata": {
  "kernelspec": {
   "display_name": "Python 3.8.13 ('drn38')",
   "language": "python",
   "name": "python3"
  },
  "language_info": {
   "codemirror_mode": {
    "name": "ipython",
    "version": 3
   },
   "file_extension": ".py",
   "mimetype": "text/x-python",
   "name": "python",
   "nbconvert_exporter": "python",
   "pygments_lexer": "ipython3",
   "version": "3.8.13"
  },
  "orig_nbformat": 4,
  "vscode": {
   "interpreter": {
    "hash": "83d85788087be4ab95a62fa43e95c13744f0a02d6feebc555b96a547158d0970"
   }
  }
 },
 "nbformat": 4,
 "nbformat_minor": 2
}
