{
 "cells": [
  {
   "cell_type": "code",
   "execution_count": 1,
   "metadata": {},
   "outputs": [],
   "source": [
    "from drn_interactions.config import ExperimentInfo, Config\n",
    "from drn_interactions.transforms import SpikesHandler\n",
    "from drn_interactions.io import load_derived_generic\n",
    "from drn_interactions.stats import mannwhitneyu_plusplus\n",
    "import numpy as np\n",
    "import pandas as pd\n",
    "from scipy.stats import zscore, zmap\n",
    "# %load_ext rpy2.ipython"
   ]
  },
  {
   "cell_type": "code",
   "execution_count": 2,
   "metadata": {},
   "outputs": [],
   "source": [
    "def load_drug_data(\n",
    "    block=\"chal\", \n",
    "    t_start=-600, \n",
    "    t_stop=1200, \n",
    "    bin_width=1,\n",
    "    sessions=None,\n",
    "    merge_neuron_types=False,\n",
    "    group_names=None,\n",
    "    ):\n",
    "    df_binned = SpikesHandler(\n",
    "        block=block,\n",
    "        bin_width=bin_width,\n",
    "        session_names=sessions,\n",
    "        t_start=t_start,\n",
    "        t_stop=t_stop,\n",
    "    ).binned\n",
    "    df_binned[\"block\"] = np.where(df_binned[\"bin\"] < 0, \"pre\", \"post\")\n",
    "    neuron_types = load_derived_generic(\"neuron_types.csv\")[[\"neuron_id\", \"neuron_type\", \"session_name\", \"group_name\"]]\n",
    "    df_binned = df_binned.merge(neuron_types)\n",
    "    if group_names is not None:\n",
    "        df_binned = df_binned.query(\"group_name in @group_names\")\n",
    "    return df_binned\n",
    "\n"
   ]
  },
  {
   "cell_type": "code",
   "execution_count": 3,
   "metadata": {},
   "outputs": [],
   "source": [
    "neuron_types = load_derived_generic(\"neuron_types.csv\")\n",
    "df_chal =load_drug_data()\n",
    "df_chal[\"zcounts\"] = df_chal.groupby(\"neuron_id\")[\"counts\"].transform(lambda x: zmap(x, x[:600]))\n",
    "df_chal = df_chal.dropna()\n",
    "df_chal.to_csv(Config.derived_data_dir / \"chal_binned.csv\", index=False)"
   ]
  },
  {
   "cell_type": "code",
   "execution_count": 4,
   "metadata": {},
   "outputs": [],
   "source": [
    "def mwu(df):\n",
    "    pre = df.query(\"block == 'pre'\")[\"zcounts\"].values\n",
    "    post = df.query(\"block == 'post'\")[\"zcounts\"].values\n",
    "    return mannwhitneyu_plusplus(pre, post, names=(\"pre\", \"post\"))\n",
    "\n",
    "df_responders = (\n",
    "    df_chal\n",
    "    .groupby(\"neuron_id\")\n",
    "    .apply(mwu)\n",
    "    .reset_index()\n",
    "    .merge(neuron_types)\n",
    ")\n",
    "df_responders.to_csv(Config.derived_data_dir / \"chal_responders.csv\", index=False)\n"
   ]
  },
  {
   "cell_type": "markdown",
   "metadata": {},
   "source": [
    "# Way"
   ]
  },
  {
   "cell_type": "code",
   "execution_count": 5,
   "metadata": {},
   "outputs": [],
   "source": [
    "df_way = load_drug_data(block=\"way\")\n",
    "df_way[\"zcounts\"] = df_way.groupby(\"neuron_id\")[\"counts\"].transform(lambda x: zmap(x, x[:600]))\n",
    "df_way = df_way.dropna()\n",
    "\n",
    "df_responders = (\n",
    "    df_way\n",
    "    .groupby(\"neuron_id\")\n",
    "    .apply(mwu)\n",
    "    .reset_index()\n",
    "    .merge(neuron_types)\n",
    ")\n",
    "df_responders.to_csv(Config.derived_data_dir / \"way_responders.csv\", index=False)\n",
    "df_way.to_csv(Config.derived_data_dir / \"way_binned.csv\", index=False)"
   ]
  },
  {
   "cell_type": "code",
   "execution_count": null,
   "metadata": {},
   "outputs": [],
   "source": []
  }
 ],
 "metadata": {
  "kernelspec": {
   "display_name": "Python 3.8.13 ('drn')",
   "language": "python",
   "name": "python3"
  },
  "language_info": {
   "codemirror_mode": {
    "name": "ipython",
    "version": 3
   },
   "file_extension": ".py",
   "mimetype": "text/x-python",
   "name": "python",
   "nbconvert_exporter": "python",
   "pygments_lexer": "ipython3",
   "version": "3.8.13"
  },
  "orig_nbformat": 4,
  "vscode": {
   "interpreter": {
    "hash": "a141ff61fc8e5477d761678b9939730228dd63e8e5dabf1901cb4084a0e2e4d6"
   }
  }
 },
 "nbformat": 4,
 "nbformat_minor": 2
}
