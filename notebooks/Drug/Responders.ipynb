{
 "cells": [
  {
   "cell_type": "code",
   "execution_count": 1,
   "metadata": {},
   "outputs": [],
   "source": [
    "from drn_interactions.config import ExperimentInfo, Config\n",
    "from drn_interactions.transforms import SpikesHandler\n",
    "from drn_interactions.io import load_derived_generic\n",
    "from drn_interactions.stats import mannwhitneyu_plusplus\n",
    "import numpy as np\n",
    "import pandas as pd\n",
    "from scipy.stats import zscore, zmap\n",
    "# %load_ext rpy2.ipython"
   ]
  },
  {
   "cell_type": "code",
   "execution_count": 2,
   "metadata": {},
   "outputs": [],
   "source": [
    "def load_drug_data(\n",
    "    block=\"chal\", \n",
    "    t_start=-600, \n",
    "    t_stop=1200, \n",
    "    bin_width=60,\n",
    "    sessions=None,\n",
    "    merge_neuron_types=False,\n",
    "    group_names=None,\n",
    "    ):\n",
    "    df_binned = SpikesHandler(\n",
    "        block=block,\n",
    "        bin_width=bin_width,\n",
    "        session_names=sessions,\n",
    "        t_start=t_start,\n",
    "        t_stop=t_stop,\n",
    "    ).binned\n",
    "    df_binned[\"block\"] = np.where(df_binned[\"bin\"] < 0, \"pre\", \"post\")\n",
    "    neuron_types = load_derived_generic(\"neuron_types.csv\")[[\"neuron_id\", \"neuron_type\", \"session_name\", \"group_name\"]]\n",
    "    df_binned = df_binned.merge(neuron_types)\n",
    "    if group_names is not None:\n",
    "        df_binned = df_binned.query(\"group_name in @group_names\")\n",
    "    return df_binned\n",
    "\n"
   ]
  },
  {
   "cell_type": "code",
   "execution_count": 6,
   "metadata": {},
   "outputs": [],
   "source": [
    "neuron_types = load_derived_generic(\"neuron_types.csv\")\n",
    "df_chal =load_drug_data()\n",
    "df_chal[\"zcounts\"] = df_chal.groupby(\"neuron_id\")[\"counts\"].transform(lambda x: zmap(x, x[:60]))\n",
    "df_chal = df_chal.dropna()\n",
    "df_chal.to_parquet(Config.derived_data_dir / \"chal_binned.parquet\", index=False)"
   ]
  },
  {
   "cell_type": "code",
   "execution_count": 4,
   "metadata": {},
   "outputs": [
    {
     "data": {
      "text/html": [
       "<div>\n",
       "<style scoped>\n",
       "    .dataframe tbody tr th:only-of-type {\n",
       "        vertical-align: middle;\n",
       "    }\n",
       "\n",
       "    .dataframe tbody tr th {\n",
       "        vertical-align: top;\n",
       "    }\n",
       "\n",
       "    .dataframe thead th {\n",
       "        text-align: right;\n",
       "    }\n",
       "</style>\n",
       "<table border=\"1\" class=\"dataframe\">\n",
       "  <thead>\n",
       "    <tr style=\"text-align: right;\">\n",
       "      <th></th>\n",
       "      <th>neuron_id</th>\n",
       "      <th>bin</th>\n",
       "      <th>counts</th>\n",
       "      <th>session_name</th>\n",
       "      <th>block</th>\n",
       "      <th>neuron_type</th>\n",
       "      <th>group_name</th>\n",
       "      <th>zcounts</th>\n",
       "    </tr>\n",
       "  </thead>\n",
       "  <tbody>\n",
       "    <tr>\n",
       "      <th>0</th>\n",
       "      <td>1011</td>\n",
       "      <td>-600</td>\n",
       "      <td>442</td>\n",
       "      <td>hamilton_10</td>\n",
       "      <td>pre</td>\n",
       "      <td>SR</td>\n",
       "      <td>acute_cit</td>\n",
       "      <td>-0.820422</td>\n",
       "    </tr>\n",
       "    <tr>\n",
       "      <th>1</th>\n",
       "      <td>1011</td>\n",
       "      <td>-540</td>\n",
       "      <td>559</td>\n",
       "      <td>hamilton_10</td>\n",
       "      <td>pre</td>\n",
       "      <td>SR</td>\n",
       "      <td>acute_cit</td>\n",
       "      <td>0.337038</td>\n",
       "    </tr>\n",
       "  </tbody>\n",
       "</table>\n",
       "</div>"
      ],
      "text/plain": [
       "   neuron_id  bin  counts session_name block neuron_type group_name   zcounts\n",
       "0       1011 -600     442  hamilton_10   pre          SR  acute_cit -0.820422\n",
       "1       1011 -540     559  hamilton_10   pre          SR  acute_cit  0.337038"
      ]
     },
     "execution_count": 4,
     "metadata": {},
     "output_type": "execute_result"
    }
   ],
   "source": [
    "df_chal.head(2)"
   ]
  },
  {
   "cell_type": "code",
   "execution_count": 5,
   "metadata": {},
   "outputs": [],
   "source": [
    "def mwu(df):\n",
    "    pre = df.query(\"block == 'pre'\")[\"zcounts\"].values\n",
    "    post = df.query(\"block == 'post'\")[\"zcounts\"].values\n",
    "    return mannwhitneyu_plusplus(pre, post, names=(\"pre\", \"post\"))\n",
    "\n",
    "df_responders = (\n",
    "    df_chal\n",
    "    .groupby(\"neuron_id\")\n",
    "    .apply(mwu)\n",
    "    .reset_index()\n",
    "    .merge(neuron_types)\n",
    ")\n",
    "df_responders.to_csv(Config.derived_data_dir / \"chal_responders.csv\", index=False)\n"
   ]
  },
  {
   "cell_type": "markdown",
   "metadata": {},
   "source": [
    "# Way"
   ]
  },
  {
   "cell_type": "code",
   "execution_count": 8,
   "metadata": {},
   "outputs": [],
   "source": [
    "df_way = load_drug_data(block=\"way\")\n",
    "df_way[\"zcounts\"] = df_way.groupby(\"neuron_id\")[\"counts\"].transform(lambda x: zmap(x, x[:10]))\n",
    "df_way = df_way.dropna()\n",
    "\n",
    "df_responders = (\n",
    "    df_way\n",
    "    .groupby(\"neuron_id\")\n",
    "    .apply(mwu)\n",
    "    .reset_index()\n",
    "    .merge(neuron_types)\n",
    ")\n",
    "df_responders.to_csv(Config.derived_data_dir / \"way_responders.csv\", index=False)\n",
    "df_way.to_parquet(Config.derived_data_dir / \"way_binned.parquet\", index=False)"
   ]
  },
  {
   "cell_type": "code",
   "execution_count": null,
   "metadata": {},
   "outputs": [],
   "source": []
  }
 ],
 "metadata": {
  "kernelspec": {
   "display_name": "Python 3.8.13 ('drn')",
   "language": "python",
   "name": "python3"
  },
  "language_info": {
   "codemirror_mode": {
    "name": "ipython",
    "version": 3
   },
   "file_extension": ".py",
   "mimetype": "text/x-python",
   "name": "python",
   "nbconvert_exporter": "python",
   "pygments_lexer": "ipython3",
   "version": "3.8.13"
  },
  "orig_nbformat": 4,
  "vscode": {
   "interpreter": {
    "hash": "a141ff61fc8e5477d761678b9939730228dd63e8e5dabf1901cb4084a0e2e4d6"
   }
  }
 },
 "nbformat": 4,
 "nbformat_minor": 2
}
