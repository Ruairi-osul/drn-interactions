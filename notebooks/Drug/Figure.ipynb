{
 "cells": [
  {
   "cell_type": "code",
   "execution_count": 2,
   "metadata": {},
   "outputs": [],
   "source": [
    "from drn_interactions.config import ExperimentInfo, Config\n",
    "from drn_interactions.io import load_derived_generic, load_recordings\n",
    "from drn_interactions.transforms import SpikesHandler\n",
    "import numpy as np\n",
    "import pandas as pd\n",
    "from drn_interactions.plots.drug import population_raster\n",
    "import matplotlib.pyplot as plt\n",
    "import seaborn as sns\n",
    "from drn_interactions.stats import mannwhitneyu_plusplus\n",
    "from scipy.stats import zscore, zmap\n",
    "from drn_interactions.plots import PAL_GREY_BLACK\n",
    "\n",
    "\n",
    "sns.set_theme(context=\"paper\", style=\"ticks\")\n",
    "%load_ext autoreload\n",
    "%autoreload 2\n",
    "\n",
    "def load_drug_data(\n",
    "    block=\"chal\", \n",
    "    t_start=-600, \n",
    "    t_stop=1200, \n",
    "    bin_width=1,\n",
    "    sessions=None,\n",
    "    group_names=None,\n",
    "    ):\n",
    "    df_binned = SpikesHandler(\n",
    "        block=block,\n",
    "        bin_width=bin_width,\n",
    "        session_names=sessions,\n",
    "        t_start=t_start,\n",
    "        t_stop=t_stop,\n",
    "    ).binned\n",
    "    df_binned[\"block\"] = np.where(df_binned[\"bin\"] < 0, \"pre\", \"post\")\n",
    "    neuron_types = (\n",
    "        load_derived_generic(\"neuron_types.csv\")\n",
    "        [[\"neuron_id\", \"neuron_type\", \"session_name\", \"group_name\"]]\n",
    "        .assign(neuron_type = lambda x: pd.Categorical(x[\"neuron_type\"], [\"SR\", \"SIR\", \"FF\"]))\n",
    "    )\n",
    "    df_binned = df_binned.merge(neuron_types)\n",
    "    if group_names is not None:\n",
    "        df_binned = df_binned.query(\"group_name in @group_names\")\n",
    "    return df_binned\n",
    "\n",
    "def get_group_sessions(group_names):\n",
    "    df_recordings = load_recordings()\n",
    "    if not hasattr(group_names, \"__iter__\"):\n",
    "        group_names = [group_names]\n",
    "    return (\n",
    "        df_recordings\n",
    "        .query(\"group_name in @group_names\")[\"session_name\"]\n",
    "        .unique()\n",
    "        .tolist()\n",
    "    )\n",
    "\n",
    "\n",
    "\n",
    "def pre_post(df, time_col, value_col):\n",
    "    x = df[df[time_col] < 0][value_col].values\n",
    "    y = df[df[time_col] >= 0][value_col].values\n",
    "    return mannwhitneyu_plusplus(x, y)\n",
    "\n",
    "\n",
    "def pct_pre(x, idx_base):\n",
    "    return x / np.nanmean(x[:idx_base]) * 100"
   ]
  },
  {
   "cell_type": "code",
   "execution_count": 3,
   "metadata": {},
   "outputs": [],
   "source": [
    "cit_sessions = get_group_sessions(ExperimentInfo.cit_groups)\n",
    "sal_sessions = get_group_sessions(ExperimentInfo.sal_groups)\n",
    "way_sessions = ExperimentInfo.way_sessions\n",
    "neuron_types = load_derived_generic(\"neuron_types.csv\")"
   ]
  },
  {
   "cell_type": "code",
   "execution_count": 22,
   "metadata": {},
   "outputs": [],
   "source": [
    "df_cit = (\n",
    "    load_drug_data()\n",
    "    .assign(drug=lambda x: x.group_name.str.contains(\"cit\").map({True: \"CIT\", False: \"SAL\"}))\n",
    "    .assign(drug=lambda x: pd.Categorical(x[\"drug\"], [ \"SAL\", \"CIT\"]))\n",
    "    .assign(zcounts=lambda x: x.groupby([\"neuron_id\"])[\"counts\"].transform(lambda x: zmap(x, x[:600]), ))\n",
    "    .assign(pct_pre=lambda x: x.groupby([\"neuron_id\"])[\"counts\"].transform(lambda x: pct_pre(x, 600), ))\n",
    ")\n",
    "\n",
    "df_way = (\n",
    "    load_drug_data(block=\"way\")\n",
    "    .assign(drug=lambda x: x.group_name.str.contains(\"cit\").map({True: \"CIT\", False: \"SAL\"}))\n",
    "    .assign(drug=lambda x: pd.Categorical(x[\"drug\"], [ \"SAL\", \"CIT\"]))\n",
    "    .assign(zcounts=lambda x: x.groupby([\"neuron_id\"])[\"counts\"].transform(lambda x: zmap(x, x[:600]), ))\n",
    "    .assign(pct_pre=lambda x: x.groupby([\"neuron_id\"])[\"counts\"].transform(lambda x: pct_pre(x, 600), ))\n",
    "\n",
    "\n",
    ")\n",
    "\n",
    "df_res_cit = (\n",
    "    df_cit[[\"neuron_id\", \"zcounts\", \"bin\"]]\n",
    "    .fillna(0).groupby(\"neuron_id\")\n",
    "    .apply(lambda x: pre_post(x, time_col=\"bin\", value_col=\"zcounts\"))\n",
    "    .reset_index()\n",
    "    .merge(neuron_types[[\"neuron_id\", \"neuron_type\"]])\n",
    "    .merge(df_cit[[\"neuron_id\", \"drug\"]].drop_duplicates())\n",
    "    .assign(challenge=\"One\")\n",
    "    .assign(Diff_lim = lambda x: np.where(x[\"Diff\"] <= -2.5, -2.5, x[\"Diff\"]))\n",
    "    .assign(sig=lambda x: (x[\"p\"] < 0.05)  &  (x[\"Diff\"] < -1))\n",
    ")\n",
    "\n",
    "\n",
    "\n",
    "df_res_way = (\n",
    "    df_way[[\"neuron_id\", \"zcounts\", \"bin\"]]\n",
    "    .fillna(0).groupby(\"neuron_id\")\n",
    "    .apply(lambda x: pre_post(x, time_col=\"bin\", value_col=\"zcounts\"))\n",
    "    .reset_index()\n",
    "    .merge(neuron_types[[\"neuron_id\", \"neuron_type\"]])\n",
    "    .merge(df_way[[\"neuron_id\", \"drug\"]].drop_duplicates())\n",
    "    .assign(challenge=\"Two\")\n",
    "    .assign(\n",
    "        Diff_lim = lambda x: np.where(x[\"Diff\"] >= 2.5, 2.5, x[\"Diff\"]),\n",
    "    )\n",
    "    .assign(sig=lambda x: (x[\"p\"] < 0.05)  &  (x[\"Diff\"] > 1))\n",
    ")\n",
    "\n",
    "df_res = pd.concat([df_res_cit, df_res_way])"
   ]
  },
  {
   "cell_type": "code",
   "execution_count": 5,
   "metadata": {},
   "outputs": [
    {
     "name": "stderr",
     "output_type": "stream",
     "text": [
      "/opt/miniconda3/envs/drn/lib/python3.8/site-packages/seaborn/axisgrid.py:88: UserWarning: This figure includes Axes that are not compatible with tight_layout, so results might be incorrect.\n",
      "  self._figure.tight_layout(*args, **kwargs)\n",
      "/opt/miniconda3/envs/drn/lib/python3.8/site-packages/seaborn/axisgrid.py:88: UserWarning: This figure includes Axes that are not compatible with tight_layout, so results might be incorrect.\n",
      "  self._figure.tight_layout(*args, **kwargs)\n",
      "/opt/miniconda3/envs/drn/lib/python3.8/site-packages/seaborn/axisgrid.py:88: UserWarning: This figure includes Axes that are not compatible with tight_layout, so results might be incorrect.\n",
      "  self._figure.tight_layout(*args, **kwargs)\n",
      "/opt/miniconda3/envs/drn/lib/python3.8/site-packages/seaborn/axisgrid.py:88: UserWarning: This figure includes Axes that are not compatible with tight_layout, so results might be incorrect.\n",
      "  self._figure.tight_layout(*args, **kwargs)\n"
     ]
    },
    {
     "data": {
      "image/png": "[encoded data removed]",
      "text/plain": [
       "<Figure size 307.505x108 with 3 Axes>"
      ]
     },
     "metadata": {
      "needs_background": "light"
     },
     "output_type": "display_data"
    },
    {
     "data": {
      "image/png": "[encoded data removed]",
      "text/plain": [
       "<Figure size 427x150 with 3 Axes>"
      ]
     },
     "metadata": {},
     "output_type": "display_data"
    }
   ],
   "source": [
    "\n",
    "\n",
    "def prepost_catplot(df):\n",
    "    g = sns.catplot(\n",
    "        x=\"block\", \n",
    "        y=\"zcounts\", \n",
    "        col=\"neuron_type\", \n",
    "        hue=\"drug\",\n",
    "        sharey=True,\n",
    "        sharex=False,\n",
    "        capsize=0.15, \n",
    "        height=1.5, \n",
    "        aspect=0.8, \n",
    "        color=\"black\",\n",
    "        kind=\"point\", \n",
    "        data=df,\n",
    "        scale=0.5,\n",
    "        facet_kws=dict(gridspec_kws=dict(wspace=0.5)),\n",
    "        palette=sns.color_palette([\"grey\" ,\"black\"]), \n",
    "    )\n",
    "    g.set_xlabels(\"\")\n",
    "    g.set_ylabels(\"Spike Rate\\n(Z Pre Drug)\")\n",
    "    g.set_titles(\"{col_name}\")\n",
    "    g.set_xticklabels([\"Pre Drug\", \"Post Drug\"], rotation=45)\n",
    "    g.despine()\n",
    "    g.legend.remove()\n",
    "    g.figure.align_ylabels()\n",
    "    return g\n",
    "\n",
    "\n",
    "g_cit = prepost_catplot(df_cit)\n",
    "g_cit.savefig(Config.fig_dir / \"cit_catplot.png\", dpi=300, bbox_inches=\"tight\", transparent=True)\n",
    "\n",
    "g_way = prepost_catplot(df_way)\n",
    "g_way.savefig(Config.fig_dir / \"way_catplot.png\", dpi=300, bbox_inches=\"tight\", transparent=True)\n"
   ]
  },
  {
   "cell_type": "code",
   "execution_count": 6,
   "metadata": {},
   "outputs": [
    {
     "data": {
      "image/png": "[encoded data removed]",
      "text/plain": [
       "<Figure size 390x260 with 6 Axes>"
      ]
     },
     "metadata": {},
     "output_type": "display_data"
    }
   ],
   "source": [
    "g = sns.FacetGrid(\n",
    "    data=df_res.query(\"challenge == 'One'\"),\n",
    "    col=\"neuron_type\",\n",
    "    row=\"drug\",\n",
    "    palette=PAL_GREY_BLACK[::-1],\n",
    "    sharey=True,\n",
    "    sharex=True,\n",
    "    height=1.3,\n",
    "    aspect=1\n",
    ")\n",
    "g.map_dataframe(\n",
    "    sns.histplot, \n",
    "    x=\"Diff_lim\", \n",
    "    # stat=\"probability\", \n",
    "    bins=np.arange(-2.5, 2.6, 0.5),\n",
    "    multiple=\"stack\",\n",
    "    alpha=1,\n",
    "    hue=\"drug\",\n",
    "    palette=PAL_GREY_BLACK[::-1],\n",
    "    )\n",
    "# g.axes_dict\n",
    "g.set_titles(\"{col_name} - {row_name}\")\n",
    "g.set_xlabels(\"\")\n",
    "g.set_ylabels(\"\")\n",
    "\n",
    "g.savefig(Config.fig_dir / \"cit_histplot.png\", dpi=300, bbox_inches=\"tight\", transparent=True)"
   ]
  },
  {
   "cell_type": "code",
   "execution_count": 7,
   "metadata": {},
   "outputs": [
    {
     "data": {
      "text/plain": [
       "<seaborn.axisgrid.FacetGrid at 0x286ae38b0>"
      ]
     },
     "execution_count": 7,
     "metadata": {},
     "output_type": "execute_result"
    },
    {
     "data": {
      "image/png": "[encoded data removed]",
      "text/plain": [
       "<Figure size 351x260 with 6 Axes>"
      ]
     },
     "metadata": {},
     "output_type": "display_data"
    }
   ],
   "source": [
    "g = sns.FacetGrid(\n",
    "    data=df_res.query(\"challenge == 'Two'\"),\n",
    "    col=\"neuron_type\",\n",
    "    row=\"drug\",\n",
    "    palette=PAL_GREY_BLACK[::-1],\n",
    "    sharey=True,\n",
    "    sharex=True,\n",
    "    height=1.3,\n",
    "    aspect=0.9,\n",
    "    col_order=[\"SR\", \"SIR\", \"FF\"]\n",
    ")\n",
    "g.map_dataframe(\n",
    "    sns.histplot, \n",
    "    x=\"Diff_lim\", \n",
    "    # stat=\"probability\", \n",
    "    bins=np.arange(-2.5, 2.6, 0.5),\n",
    "    multiple=\"stack\",\n",
    "    alpha=1,\n",
    "    hue=\"drug\",\n",
    "    palette=PAL_GREY_BLACK[::-1],\n",
    "    )\n",
    "# g.axes_dict\n",
    "g.set_titles(\"{col_name} - {row_name}\")\n",
    "g.set_xlabels(\"\")\n",
    "g.set_ylabels(\"\")"
   ]
  },
  {
   "cell_type": "code",
   "execution_count": null,
   "metadata": {},
   "outputs": [],
   "source": []
  },
  {
   "cell_type": "markdown",
   "metadata": {},
   "source": [
    "## Heat-maps"
   ]
  },
  {
   "cell_type": "code",
   "execution_count": 8,
   "metadata": {},
   "outputs": [
    {
     "data": {
      "image/png": "[encoded data removed]",
      "text/plain": [
       "<Figure size 700x300 with 4 Axes>"
      ]
     },
     "metadata": {},
     "output_type": "display_data"
    }
   ],
   "source": [
    "cit_session = cit_sessions[5]\n",
    "sal_session = sal_sessions[4]\n",
    "df_cit = load_drug_data(sessions=[cit_session])\n",
    "df_sal = load_drug_data(sessions=[sal_session])\n",
    "\n",
    "idx_cit = df_cit.sort_values(\"neuron_type\")[[\"neuron_id\"]].drop_duplicates().neuron_id.values\n",
    "idx_sal = df_sal.sort_values(\"neuron_type\")[[\"neuron_id\"]].drop_duplicates().neuron_id.values\n",
    "\n",
    "f = plt.figure(figsize=(7, 3))\n",
    "axes =f.subplots(2, 2, gridspec_kw=dict(hspace=0.2, wspace=0.3))\n",
    "\n",
    "\n",
    "population_raster(\n",
    "    session_name=sal_session, \n",
    "    tfidf=False, \n",
    "    idx=idx_sal,\n",
    "    title=False,\n",
    "    ax=axes[0, 0],\n",
    "    )\n",
    "\n",
    "population_raster(\n",
    "    session_name=cit_session, \n",
    "    tfidf=False, \n",
    "    idx=idx_cit,\n",
    "    title=False,\n",
    "    ax=axes[1, 0],\n",
    "    )\n",
    "\n",
    "population_raster(\n",
    "    session_name=sal_session, \n",
    "    block=\"way\",\n",
    "    tfidf=False, \n",
    "    idx=idx_sal,\n",
    "    title=False,\n",
    "    ax=axes[0, 1],\n",
    "    )\n",
    "population_raster(\n",
    "    session_name=cit_session, \n",
    "    block=\"way\",\n",
    "    tfidf=False, \n",
    "    idx=idx_cit,\n",
    "    title=False,\n",
    "    ax=axes[1, 1],\n",
    "    )\n",
    "\n",
    "\n",
    "f.savefig(Config.fig_dir / \"drug_heats.png\", dpi=300, transparent=True, bbox_inches=\"tight\")"
   ]
  },
  {
   "cell_type": "code",
   "execution_count": 9,
   "metadata": {},
   "outputs": [
    {
     "data": {
      "image/png": "[encoded data removed]",
      "text/plain": [
       "<Figure size 640x480 with 1 Axes>"
      ]
     },
     "metadata": {},
     "output_type": "display_data"
    },
    {
     "data": {
      "image/png": "[encoded data removed]",
      "text/plain": [
       "<Figure size 640x480 with 1 Axes>"
      ]
     },
     "metadata": {},
     "output_type": "display_data"
    }
   ],
   "source": [
    "def stacked_bar_single(df, col, ax):\n",
    "    df[col].value_counts().to_frame().T.plot(kind=\"bar\", stacked=True, ax=ax, legend=False)\n",
    "    ax.axis(\"off\")\n",
    "    return ax\n",
    "\n",
    "\n",
    "f = plt.figure()\n",
    "ax = f.subplots()\n",
    "ax = stacked_bar_single(df_cit, \"neuron_type\", ax)\n",
    "f.savefig(Config.fig_dir / \"cit_stacked_bar.png\", dpi=300, transparent=True)\n",
    "\n",
    "\n",
    "f = plt.figure()\n",
    "ax = f.subplots()\n",
    "ax = stacked_bar_single(df_sal, \"neuron_type\", ax)\n",
    "f.savefig(Config.fig_dir / \"sal_stacked_bar.png\", dpi=300, transparent=True, bbox_inches=\"tight\")"
   ]
  },
  {
   "cell_type": "code",
   "execution_count": 23,
   "metadata": {},
   "outputs": [
    {
     "data": {
      "text/html": [
       "<div>\n",
       "<style scoped>\n",
       "    .dataframe tbody tr th:only-of-type {\n",
       "        vertical-align: middle;\n",
       "    }\n",
       "\n",
       "    .dataframe tbody tr th {\n",
       "        vertical-align: top;\n",
       "    }\n",
       "\n",
       "    .dataframe thead tr th {\n",
       "        text-align: left;\n",
       "    }\n",
       "\n",
       "    .dataframe thead tr:last-of-type th {\n",
       "        text-align: right;\n",
       "    }\n",
       "</style>\n",
       "<table border=\"1\" class=\"dataframe\">\n",
       "  <thead>\n",
       "    <tr>\n",
       "      <th>neuron_type</th>\n",
       "      <th colspan=\"2\" halign=\"left\">FF</th>\n",
       "      <th colspan=\"2\" halign=\"left\">SIR</th>\n",
       "      <th colspan=\"2\" halign=\"left\">SR</th>\n",
       "    </tr>\n",
       "    <tr>\n",
       "      <th>drug</th>\n",
       "      <th>SAL</th>\n",
       "      <th>CIT</th>\n",
       "      <th>SAL</th>\n",
       "      <th>CIT</th>\n",
       "      <th>SAL</th>\n",
       "      <th>CIT</th>\n",
       "    </tr>\n",
       "    <tr>\n",
       "      <th>challenge</th>\n",
       "      <th></th>\n",
       "      <th></th>\n",
       "      <th></th>\n",
       "      <th></th>\n",
       "      <th></th>\n",
       "      <th></th>\n",
       "    </tr>\n",
       "  </thead>\n",
       "  <tbody>\n",
       "    <tr>\n",
       "      <th>One</th>\n",
       "      <td>0.04</td>\n",
       "      <td>0.38</td>\n",
       "      <td>0.03</td>\n",
       "      <td>0.04</td>\n",
       "      <td>0.02</td>\n",
       "      <td>0.42</td>\n",
       "    </tr>\n",
       "    <tr>\n",
       "      <th>Two</th>\n",
       "      <td>0.11</td>\n",
       "      <td>0.16</td>\n",
       "      <td>0.17</td>\n",
       "      <td>0.06</td>\n",
       "      <td>0.05</td>\n",
       "      <td>0.15</td>\n",
       "    </tr>\n",
       "  </tbody>\n",
       "</table>\n",
       "</div>"
      ],
      "text/plain": [
       "neuron_type    FF         SIR          SR      \n",
       "drug          SAL   CIT   SAL   CIT   SAL   CIT\n",
       "challenge                                      \n",
       "One          0.04  0.38  0.03  0.04  0.02  0.42\n",
       "Two          0.11  0.16  0.17  0.06  0.05  0.15"
      ]
     },
     "execution_count": 23,
     "metadata": {},
     "output_type": "execute_result"
    }
   ],
   "source": [
    "# proportion of neurons significantly modulated by drug\n",
    "\n",
    "pd.pivot_table(index=[\"challenge\"], columns=[\"neuron_type\", \"drug\"], values=\"sig\", aggfunc=np.mean, data=df_res).round(2)"
   ]
  },
  {
   "cell_type": "code",
   "execution_count": 26,
   "metadata": {},
   "outputs": [
    {
     "data": {
      "text/html": [
       "<div>\n",
       "<style scoped>\n",
       "    .dataframe tbody tr th:only-of-type {\n",
       "        vertical-align: middle;\n",
       "    }\n",
       "\n",
       "    .dataframe tbody tr th {\n",
       "        vertical-align: top;\n",
       "    }\n",
       "\n",
       "    .dataframe thead tr th {\n",
       "        text-align: left;\n",
       "    }\n",
       "\n",
       "    .dataframe thead tr:last-of-type th {\n",
       "        text-align: right;\n",
       "    }\n",
       "</style>\n",
       "<table border=\"1\" class=\"dataframe\">\n",
       "  <thead>\n",
       "    <tr>\n",
       "      <th>neuron_type</th>\n",
       "      <th colspan=\"2\" halign=\"left\">FF</th>\n",
       "      <th colspan=\"2\" halign=\"left\">SIR</th>\n",
       "      <th colspan=\"2\" halign=\"left\">SR</th>\n",
       "    </tr>\n",
       "    <tr>\n",
       "      <th>drug</th>\n",
       "      <th>SAL</th>\n",
       "      <th>CIT</th>\n",
       "      <th>SAL</th>\n",
       "      <th>CIT</th>\n",
       "      <th>SAL</th>\n",
       "      <th>CIT</th>\n",
       "    </tr>\n",
       "    <tr>\n",
       "      <th>challenge</th>\n",
       "      <th></th>\n",
       "      <th></th>\n",
       "      <th></th>\n",
       "      <th></th>\n",
       "      <th></th>\n",
       "      <th></th>\n",
       "    </tr>\n",
       "  </thead>\n",
       "  <tbody>\n",
       "    <tr>\n",
       "      <th>One</th>\n",
       "      <td>-1.35</td>\n",
       "      <td>-1.96</td>\n",
       "      <td>-1.35</td>\n",
       "      <td>-2.28</td>\n",
       "      <td>-1.42</td>\n",
       "      <td>-2.92</td>\n",
       "    </tr>\n",
       "    <tr>\n",
       "      <th>Two</th>\n",
       "      <td>1.45</td>\n",
       "      <td>4.25</td>\n",
       "      <td>2.94</td>\n",
       "      <td>1.98</td>\n",
       "      <td>2.19</td>\n",
       "      <td>10.98</td>\n",
       "    </tr>\n",
       "  </tbody>\n",
       "</table>\n",
       "</div>"
      ],
      "text/plain": [
       "neuron_type    FF         SIR          SR       \n",
       "drug          SAL   CIT   SAL   CIT   SAL    CIT\n",
       "challenge                                       \n",
       "One         -1.35 -1.96 -1.35 -2.28 -1.42  -2.92\n",
       "Two          1.45  4.25  2.94  1.98  2.19  10.98"
      ]
     },
     "execution_count": 26,
     "metadata": {},
     "output_type": "execute_result"
    }
   ],
   "source": [
    "# average magnitude of modulation\n",
    "\n",
    "pd.pivot_table(index=[\"challenge\"], columns=[\"neuron_type\", \"drug\"], values=\"Diff\", aggfunc=np.mean, data=df_res.query(\"sig == True\")).round(2)"
   ]
  },
  {
   "cell_type": "code",
   "execution_count": null,
   "metadata": {},
   "outputs": [],
   "source": []
  }
 ],
 "metadata": {
  "kernelspec": {
   "display_name": "Python 3.8.13 ('drn')",
   "language": "python",
   "name": "python3"
  },
  "language_info": {
   "codemirror_mode": {
    "name": "ipython",
    "version": 3
   },
   "file_extension": ".py",
   "mimetype": "text/x-python",
   "name": "python",
   "nbconvert_exporter": "python",
   "pygments_lexer": "ipython3",
   "version": "3.8.13"
  },
  "orig_nbformat": 4,
  "vscode": {
   "interpreter": {
    "hash": "a141ff61fc8e5477d761678b9939730228dd63e8e5dabf1901cb4084a0e2e4d6"
   }
  }
 },
 "nbformat": 4,
 "nbformat_minor": 2
}
