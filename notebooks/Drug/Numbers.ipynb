{
 "cells": [
  {
   "cell_type": "code",
   "execution_count": 1,
   "metadata": {},
   "outputs": [],
   "source": [
    "# how many recordings gave cit and sal?\n",
    "# how many neurons?"
   ]
  },
  {
   "cell_type": "code",
   "execution_count": 10,
   "metadata": {},
   "outputs": [
    {
     "name": "stdout",
     "output_type": "stream",
     "text": [
      "{'n_cit_sessions': 7,\n",
      " 'n_neurons_drug': 434,\n",
      " 'n_sal_sessions': 9,\n",
      " 'n_way_sessions': 10}\n"
     ]
    }
   ],
   "source": [
    "from drn_interactions.config import ExperimentInfo\n",
    "from drn_interactions.io import load_derived_generic\n",
    "from pprint import pprint\n",
    "\n",
    "df_meta = load_derived_generic(\"neuron_types.csv\")\n",
    "\n",
    "out = {}\n",
    "out[\"n_cit_sessions\"] = df_meta.query(\"group_name in @ExperimentInfo.cit_groups\")[\"session_name\"].nunique()\n",
    "out[\"n_sal_sessions\"] = df_meta.query(\"group_name in @ExperimentInfo.sal_groups\")[\"session_name\"].nunique()\n",
    "out[\"n_way_sessions\"] = len(ExperimentInfo.way_sessions)\n",
    "\n",
    "drug_groups = list(ExperimentInfo.cit_groups) + list(ExperimentInfo.sal_groups)\n",
    "out[\"n_neurons_drug\"] = df_meta.query(\"group_name in @drug_groups\")[\"neuron_id\"].nunique()\n",
    "\n"
   ]
  },
  {
   "cell_type": "code",
   "execution_count": null,
   "metadata": {},
   "outputs": [],
   "source": []
  }
 ],
 "metadata": {
  "kernelspec": {
   "display_name": "Python 3.8.13 ('drn')",
   "language": "python",
   "name": "python3"
  },
  "language_info": {
   "codemirror_mode": {
    "name": "ipython",
    "version": 3
   },
   "file_extension": ".py",
   "mimetype": "text/x-python",
   "name": "python",
   "nbconvert_exporter": "python",
   "pygments_lexer": "ipython3",
   "version": "3.8.13"
  },
  "orig_nbformat": 4,
  "vscode": {
   "interpreter": {
    "hash": "a141ff61fc8e5477d761678b9939730228dd63e8e5dabf1901cb4084a0e2e4d6"
   }
  }
 },
 "nbformat": 4,
 "nbformat_minor": 2
}
