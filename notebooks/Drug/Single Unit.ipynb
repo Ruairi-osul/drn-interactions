{
 "cells": [
  {
   "cell_type": "code",
   "execution_count": null,
   "metadata": {},
   "outputs": [],
   "source": [
    "# statndard imports\n",
    "from drn_interactions.load import get_drug_groups\n",
    "from drn_interactions.drug import load_drug_data, DrugResponders, population_raster\n",
    "\n",
    "import numpy as np\n",
    "import matplotlib.pyplot as plt\n",
    "\n",
    "from IPython.display import display\n",
    "%load_ext autoreload\n",
    "%autoreload 2"
   ]
  },
  {
   "cell_type": "markdown",
   "metadata": {},
   "source": [
    "# Data Set"
   ]
  },
  {
   "cell_type": "code",
   "execution_count": null,
   "metadata": {},
   "outputs": [],
   "source": [
    "spikes, clusters = load_drug_data()\n",
    "display(spikes.head(3))    # spikes data\n",
    "display(clusters.head(3))  # clusters data"
   ]
  },
  {
   "cell_type": "code",
   "execution_count": null,
   "metadata": {},
   "outputs": [],
   "source": [
    "display(get_drug_groups().sample(4))     # show recording sessions\n",
    "\n",
    "num_sessions = clusters[[\"session_name\", \"drug\"]].drop_duplicates().groupby(\"drug\").apply(len).to_frame(\"Number of sessions\")\n",
    "num_neurons = clusters.groupby(\"drug\").apply(len).to_frame(\"Number of Neurons\")\n",
    "display(num_sessions.join(num_neurons))  # Show N"
   ]
  },
  {
   "cell_type": "markdown",
   "metadata": {},
   "source": [
    "# Define Responders"
   ]
  },
  {
   "cell_type": "code",
   "execution_count": null,
   "metadata": {},
   "outputs": [],
   "source": [
    "# model\n",
    "mod = DrugResponders()\n",
    "display(mod.get_anova(spikes, z=False))                                         # anova: no clusters\n",
    "anova, coefs = mod.get_anova(spikes, clusters, z=False)                         # anova: with clusters\n",
    "unit_responders = mod.get_responders(spikes, z=True, abs_diff_thresh=0.2)       # unit post hocs\n",
    "\n",
    "\n",
    "display(anova.round(3))\n",
    "display(coefs.round(3))\n",
    "display(unit_responders.round(3).head(3))  # examples units"
   ]
  },
  {
   "cell_type": "markdown",
   "metadata": {},
   "source": [
    "### Visulize Results"
   ]
  },
  {
   "cell_type": "code",
   "execution_count": null,
   "metadata": {},
   "outputs": [],
   "source": [
    "g = mod.plot_responders(unit_responders, clusters, bins=np.arange(-2.1, 2.1, 0.2), height=1.5, aspect=1.5)\n",
    "plt.show()\n",
    "\n",
    "ax = population_raster(\"hamilton_36\", clusters=clusters, tfidf=True)\n",
    "f_cit = ax.get_figure()\n",
    "f_cit.show()\n",
    "\n",
    "ax = population_raster(\"hamilton_37\", clusters=clusters, tfidf=True)\n",
    "f_sal = ax.get_figure()\n",
    "f_sal.show()\n"
   ]
  },
  {
   "cell_type": "markdown",
   "metadata": {},
   "source": [
    "# Way"
   ]
  },
  {
   "cell_type": "code",
   "execution_count": null,
   "metadata": {},
   "outputs": [],
   "source": [
    "# data set\n",
    "\n",
    "spikes, clusters = load_drug_data(block=\"way\")\n",
    "display(spikes.head(3))    # spikes data\n",
    "display(clusters.head(3))  # clusters data\n"
   ]
  },
  {
   "cell_type": "code",
   "execution_count": null,
   "metadata": {},
   "outputs": [],
   "source": [
    "display(get_drug_groups().sample(4))     # show recording sessions\n",
    "\n",
    "num_sessions = clusters[[\"session_name\", \"drug\"]].drop_duplicates().groupby(\"drug\").apply(len).to_frame(\"Number of sessions\")\n",
    "num_neurons = clusters.groupby(\"drug\").apply(len).to_frame(\"Number of Neurons\")\n",
    "display(num_sessions.join(num_neurons))  # Show N"
   ]
  },
  {
   "cell_type": "markdown",
   "metadata": {},
   "source": [
    "## Statistical Modeling of Drug Responsivity"
   ]
  },
  {
   "cell_type": "code",
   "execution_count": null,
   "metadata": {},
   "outputs": [],
   "source": [
    "# model\n",
    "mod = DrugResponders()\n",
    "display(mod.get_anova(spikes, z=False))                                         # anova: no clusters\n",
    "anova, coefs = mod.get_anova(spikes, clusters, z=False)                         # anova: with clusters\n",
    "unit_responders = mod.get_responders(spikes, z=True, abs_diff_thresh=0.2)       # unit post hocs\n",
    "\n",
    "\n",
    "display(anova.round(3))\n",
    "display(coefs.round(3))\n",
    "display(unit_responders.round(3).head(3))  # examples units"
   ]
  },
  {
   "cell_type": "code",
   "execution_count": null,
   "metadata": {},
   "outputs": [],
   "source": [
    "# visualize\n",
    "\n",
    "g = mod.plot_responders(unit_responders, clusters, bins=np.arange(-2.6, 2.6, 0.2), height=1.5, aspect=1.5)\n",
    "plt.show()\n",
    "\n",
    "ax = population_raster(\"hamilton_36\", block=\"way\", clusters=clusters, tfidf=True)\n",
    "f_cit = ax.get_figure()\n",
    "f_cit.show()\n",
    "\n",
    "ax = population_raster(\"hamilton_37\", block=\"way\", clusters=clusters, tfidf=True)\n",
    "f_sal = ax.get_figure()\n",
    "f_sal.show()\n"
   ]
  },
  {
   "cell_type": "code",
   "execution_count": null,
   "metadata": {},
   "outputs": [],
   "source": []
  },
  {
   "cell_type": "code",
   "execution_count": null,
   "metadata": {},
   "outputs": [],
   "source": []
  }
 ],
 "metadata": {
  "kernelspec": {
   "display_name": "Python 3.8.13 ('drn38')",
   "language": "python",
   "name": "python3"
  },
  "language_info": {
   "codemirror_mode": {
    "name": "ipython",
    "version": 3
   },
   "file_extension": ".py",
   "mimetype": "text/x-python",
   "name": "python",
   "nbconvert_exporter": "python",
   "pygments_lexer": "ipython3",
   "version": "3.8.13"
  },
  "orig_nbformat": 4,
  "vscode": {
   "interpreter": {
    "hash": "83d85788087be4ab95a62fa43e95c13744f0a02d6feebc555b96a547158d0970"
   }
  }
 },
 "nbformat": 4,
 "nbformat_minor": 2
}
