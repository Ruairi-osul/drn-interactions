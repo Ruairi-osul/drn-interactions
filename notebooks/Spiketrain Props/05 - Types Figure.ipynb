{
 "cells": [
  {
   "cell_type": "code",
   "execution_count": 1,
   "metadata": {},
   "outputs": [],
   "source": [
    "from sklearn.impute import KNNImputer\n",
    "from sklearn.preprocessing import StandardScaler, RobustScaler\n",
    "from drn_interactions.plots import heatmap, PAL_GREY_BLACK\n",
    "from drn_interactions.config import Config\n",
    "from drn_interactions.io import load_derived_generic, load_neurons\n",
    "import seaborn as sns\n",
    "import pandas as pd\n",
    "import seaborn as sns\n",
    "import matplotlib.pyplot as plt\n",
    "from drn_interactions.transforms import SpikesHandler\n",
    "from drn_interactions.io import load_neurons, load_derived_generic\n",
    "import matplotlib.pyplot as plt\n",
    "from drn_interactions.stats import prop_of_total\n",
    "import numpy as np\n",
    "from drn_interactions.spiketrains.plots import NeuronPropsPlotter\n",
    "from drn_interactions.stats import prop_of_total\n",
    "from drn_interactions.spiketrains.plots import (\n",
    "    NeuronTypesFigureLoader,\n",
    "    NeuronTypesFigurePreprocessor,\n",
    ")\n",
    "from drn_interactions.spiketrains.waveforms import WaveformPreprocessor\n",
    "from sklearn.preprocessing import robust_scale\n",
    "import numpy as np\n",
    "from drn_interactions.config import Config\n",
    "\n",
    "sns.set_theme(style=\"ticks\", context=\"paper\")\n",
    "\n",
    "%load_ext autoreload\n",
    "%autoreload 2"
   ]
  },
  {
   "cell_type": "code",
   "execution_count": 41,
   "metadata": {},
   "outputs": [
    {
     "data": {
      "text/html": [
       "<div>\n",
       "<style scoped>\n",
       "    .dataframe tbody tr th:only-of-type {\n",
       "        vertical-align: middle;\n",
       "    }\n",
       "\n",
       "    .dataframe tbody tr th {\n",
       "        vertical-align: top;\n",
       "    }\n",
       "\n",
       "    .dataframe thead th {\n",
       "        text-align: right;\n",
       "    }\n",
       "</style>\n",
       "<table border=\"1\" class=\"dataframe\">\n",
       "  <thead>\n",
       "    <tr style=\"text-align: right;\">\n",
       "      <th></th>\n",
       "      <th>ID</th>\n",
       "      <th>Neuron Type</th>\n",
       "      <th>Electrode Type</th>\n",
       "      <th>Metric</th>\n",
       "      <th>Value</th>\n",
       "    </tr>\n",
       "  </thead>\n",
       "  <tbody>\n",
       "    <tr>\n",
       "      <th>931</th>\n",
       "      <td>1947</td>\n",
       "      <td>SR</td>\n",
       "      <td>Silicon Probe</td>\n",
       "      <td>CV(ISI)</td>\n",
       "      <td>0.824079</td>\n",
       "    </tr>\n",
       "    <tr>\n",
       "      <th>104</th>\n",
       "      <td>147</td>\n",
       "      <td>SR</td>\n",
       "      <td>Silicon Probe</td>\n",
       "      <td>Waveform Width (ms)</td>\n",
       "      <td>NaN</td>\n",
       "    </tr>\n",
       "    <tr>\n",
       "      <th>463</th>\n",
       "      <td>2453</td>\n",
       "      <td>SR</td>\n",
       "      <td>Silicon Probe</td>\n",
       "      <td>Waveform Width (ms)</td>\n",
       "      <td>1.361478</td>\n",
       "    </tr>\n",
       "  </tbody>\n",
       "</table>\n",
       "</div>"
      ],
      "text/plain": [
       "       ID Neuron Type Electrode Type               Metric     Value\n",
       "931  1947          SR  Silicon Probe              CV(ISI)  0.824079\n",
       "104   147          SR  Silicon Probe  Waveform Width (ms)       NaN\n",
       "463  2453          SR  Silicon Probe  Waveform Width (ms)  1.361478"
      ]
     },
     "metadata": {},
     "output_type": "display_data"
    }
   ],
   "source": [
    "out_dir = Config.fig_dir / \"spiketrains\"\n",
    "out_dir.mkdir(exist_ok=True, parents=True)\n",
    "loader = NeuronTypesFigureLoader(\n",
    "    example_session_name=\"hamilton_35\", \n",
    "    example_session_t_start=110,\n",
    "    )\n",
    "(\n",
    "    probe_neuron_types,\n",
    "    probe_waveforms,\n",
    "    probe_waveform_props,\n",
    "    probe_spiketrain_props,\n",
    "    single_unit_props,\n",
    "    single_unit_neuron_types,\n",
    "    spikes,\n",
    ") = loader.load_all()\n",
    "\n",
    "preprocessor = NeuronTypesFigurePreprocessor(\n",
    "    waveform_preprocessor=WaveformPreprocessor(gaussian_sigma=1, medfilter_size=3),\n",
    ")\n",
    "df_props, waveforms, trains = preprocessor.preprocess_all(\n",
    "    probe_neuron_types,\n",
    "    probe_waveforms,\n",
    "    probe_waveform_props,\n",
    "    probe_spiketrain_props,\n",
    "    single_unit_props,\n",
    "    single_unit_neuron_types,\n",
    "    spikes\n",
    ")\n",
    "display(df_props.sample(3))"
   ]
  },
  {
   "cell_type": "code",
   "execution_count": 48,
   "metadata": {},
   "outputs": [
    {
     "name": "stderr",
     "output_type": "stream",
     "text": [
      "c:\\users\\roryl\\repos\\drn interactions\\drn_interactions\\plots\\utils.py:12: UserWarning: FixedFormatter should only be used together with FixedLocator\n",
      "  ax.set_xticklabels(labels, rotation=0)\n"
     ]
    },
    {
     "data": {
      "image/png": "[encoded data removed]",
      "text/plain": [
       "<Figure size 504x504 with 16 Axes>"
      ]
     },
     "metadata": {
      "needs_background": "light"
     },
     "output_type": "display_data"
    }
   ],
   "source": [
    "from drn_interactions.spiketrains.plots import NeuronTypesFigureGridMaker\n",
    "from drn_interactions.spiketrains.plots import NeuronTypesPlotter\n",
    "\n",
    "grid_maker = NeuronTypesFigureGridMaker()\n",
    "plotter = NeuronTypesPlotter()\n",
    "\n",
    "fig = grid_maker.make_figure(figsize=(7, 7), constrained_layout=False)\n",
    "fig_top, fig_bottom = grid_maker.split_top_bottom(fig, hspace=0.05, height_ratios=[1.5, 1])\n",
    "\n",
    "\n",
    "fig_raster, fig_waveforms = grid_maker.split_top_figs(fig_top)\n",
    "\n",
    "plotter.plot_raster(\n",
    "    fig=fig_raster, \n",
    "    trains=trains,\n",
    "    height_ratios=[len(x) + 3 for x in trains.values()],\n",
    "    )\n",
    "\n",
    "\n",
    "axes_waves = plotter.plot_waveforms(\n",
    "    fig=fig_waveforms,\n",
    "    waveforms=waveforms,\n",
    ")\n",
    "for nt, ax in axes_waves.items():\n",
    "    ax.set_title(nt)\n",
    "\n",
    "\n",
    "fig_heats, fig_bar, fig_pct = grid_maker.split_bottom_figs(fig_bottom, wspace=0.05)\n",
    "\n",
    "df_piv = preprocessor.pivot_props(df_props)\n",
    "df_single_unit = df_piv.loc[\"Glass Pipette\", slice(None), slice(None)].dropna().apply(robust_scale)\n",
    "df_probe = df_piv.loc[\"Silicon Probe\", slice(None), slice(None)].dropna().apply(robust_scale)\n",
    "\n",
    "plotter.plot_heatmaps(\n",
    "    df_props_probe=df_probe,\n",
    "    df_props_single_unit=df_single_unit,\n",
    "    fig=fig_heats,\n",
    "    textwrap_width=10,\n",
    ")\n",
    "\n",
    "plotter.plot_bars(\n",
    "    df_props=df_props,\n",
    "    fig=fig_bar,\n",
    "    textwrap_width=10,\n",
    ")\n",
    "\n",
    "plotter.plot_pct(\n",
    "    df_props=df_props,\n",
    "    fig=fig_pct,\n",
    ")\n",
    "\n",
    "fig.savefig(out_dir / \"spiketrainsfig.jpg\", dpi=300)\n",
    "plt.show()\n"
   ]
  }
 ],
 "metadata": {
  "kernelspec": {
   "display_name": "Python 3.8.13 ('drn38')",
   "language": "python",
   "name": "python3"
  },
  "language_info": {
   "codemirror_mode": {
    "name": "ipython",
    "version": 3
   },
   "file_extension": ".py",
   "mimetype": "text/x-python",
   "name": "python",
   "nbconvert_exporter": "python",
   "pygments_lexer": "ipython3",
   "version": "3.8.13"
  },
  "orig_nbformat": 4,
  "vscode": {
   "interpreter": {
    "hash": "83d85788087be4ab95a62fa43e95c13744f0a02d6feebc555b96a547158d0970"
   }
  }
 },
 "nbformat": 4,
 "nbformat_minor": 2
}
