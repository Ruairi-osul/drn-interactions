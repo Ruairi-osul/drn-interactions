{
 "cells": [
  {
   "cell_type": "code",
   "execution_count": 1,
   "metadata": {},
   "outputs": [],
   "source": [
    "from sklearn.impute import KNNImputer\n",
    "from sklearn.preprocessing import StandardScaler, RobustScaler\n",
    "from drn_interactions.plots import heatmap, PAL_GREY_BLACK\n",
    "from drn_interactions.config import Config\n",
    "from drn_interactions.io import load_derived_generic, load_neurons\n",
    "import seaborn as sns\n",
    "import pandas as pd\n",
    "import seaborn as sns\n",
    "import matplotlib.pyplot as plt\n",
    "from drn_interactions.transforms import SpikesHandler\n",
    "from drn_interactions.io import load_neurons, load_derived_generic\n",
    "import matplotlib.pyplot as plt\n",
    "from drn_interactions.stats import prop_of_total\n",
    "import numpy as np\n",
    "from drn_interactions.spiketrains.plots import NeuronPropsPlotter\n",
    "from drn_interactions.stats import prop_of_total\n",
    "from drn_interactions.spiketrains.plots import (\n",
    "    NeuronTypesFigureLoader,\n",
    "    NeuronTypesFigurePreprocessor,\n",
    ")\n",
    "from drn_interactions.spiketrains.waveforms import WaveformPreprocessor\n",
    "from sklearn.preprocessing import robust_scale\n",
    "import numpy as np\n",
    "from drn_interactions.config import Config\n",
    "\n",
    "sns.set_theme(style=\"ticks\", context=\"paper\")\n",
    "\n",
    "%load_ext autoreload\n",
    "%autoreload 2"
   ]
  },
  {
   "cell_type": "code",
   "execution_count": 2,
   "metadata": {},
   "outputs": [
    {
     "data": {
      "text/html": [
       "<div>\n",
       "<style scoped>\n",
       "    .dataframe tbody tr th:only-of-type {\n",
       "        vertical-align: middle;\n",
       "    }\n",
       "\n",
       "    .dataframe tbody tr th {\n",
       "        vertical-align: top;\n",
       "    }\n",
       "\n",
       "    .dataframe thead th {\n",
       "        text-align: right;\n",
       "    }\n",
       "</style>\n",
       "<table border=\"1\" class=\"dataframe\">\n",
       "  <thead>\n",
       "    <tr style=\"text-align: right;\">\n",
       "      <th></th>\n",
       "      <th>ID</th>\n",
       "      <th>Neuron Type</th>\n",
       "      <th>Electrode Type</th>\n",
       "      <th>Metric</th>\n",
       "      <th>Value</th>\n",
       "    </tr>\n",
       "  </thead>\n",
       "  <tbody>\n",
       "    <tr>\n",
       "      <th>1472</th>\n",
       "      <td>1900</td>\n",
       "      <td>SIR</td>\n",
       "      <td>Silicon Probe</td>\n",
       "      <td>Spike Rate (Hz)</td>\n",
       "      <td>0.350593</td>\n",
       "    </tr>\n",
       "    <tr>\n",
       "      <th>1303</th>\n",
       "      <td>1062</td>\n",
       "      <td>SIR</td>\n",
       "      <td>Silicon Probe</td>\n",
       "      <td>Spike Rate (Hz)</td>\n",
       "      <td>2.207911</td>\n",
       "    </tr>\n",
       "    <tr>\n",
       "      <th>2062</th>\n",
       "      <td>100107</td>\n",
       "      <td>FF</td>\n",
       "      <td>Glass Pipette</td>\n",
       "      <td>Spike Rate (Hz)</td>\n",
       "      <td>7.372947</td>\n",
       "    </tr>\n",
       "  </tbody>\n",
       "</table>\n",
       "</div>"
      ],
      "text/plain": [
       "          ID Neuron Type Electrode Type           Metric     Value\n",
       "1472    1900         SIR  Silicon Probe  Spike Rate (Hz)  0.350593\n",
       "1303    1062         SIR  Silicon Probe  Spike Rate (Hz)  2.207911\n",
       "2062  100107          FF  Glass Pipette  Spike Rate (Hz)  7.372947"
      ]
     },
     "metadata": {},
     "output_type": "display_data"
    }
   ],
   "source": [
    "out_dir = Config.fig_dir / \"spiketrains\"\n",
    "out_dir.mkdir(exist_ok=True, parents=True)\n",
    "loader = NeuronTypesFigureLoader(\n",
    "    example_session_name=\"hamilton_35\", \n",
    "    example_session_t_start=110,\n",
    "    )\n",
    "(\n",
    "    probe_neuron_types,\n",
    "    probe_waveforms,\n",
    "    probe_waveform_props,\n",
    "    probe_spiketrain_props,\n",
    "    single_unit_props,\n",
    "    single_unit_neuron_types,\n",
    "    spikes,\n",
    ") = loader.load_all()\n",
    "\n",
    "preprocessor = NeuronTypesFigurePreprocessor(\n",
    "    waveform_preprocessor=WaveformPreprocessor(gaussian_sigma=1, medfilter_size=3),\n",
    ")\n",
    "df_props, waveforms, trains = preprocessor.preprocess_all(\n",
    "    probe_neuron_types,\n",
    "    probe_waveforms,\n",
    "    probe_waveform_props,\n",
    "    probe_spiketrain_props,\n",
    "    single_unit_props,\n",
    "    single_unit_neuron_types,\n",
    "    spikes\n",
    ")\n",
    "display(df_props.sample(3))"
   ]
  },
  {
   "cell_type": "code",
   "execution_count": 48,
   "metadata": {},
   "outputs": [
    {
     "name": "stderr",
     "output_type": "stream",
     "text": [
      "c:\\users\\roryl\\repos\\drn interactions\\drn_interactions\\plots\\utils.py:12: UserWarning: FixedFormatter should only be used together with FixedLocator\n",
      "  ax.set_xticklabels(labels, rotation=0)\n"
     ]
    },
    {
     "data": {
      "image/png": "[encoded data removed]",
      "text/plain": [
       "<Figure size 504x504 with 16 Axes>"
      ]
     },
     "metadata": {
      "needs_background": "light"
     },
     "output_type": "display_data"
    }
   ],
   "source": [
    "from drn_interactions.spiketrains.plots import NeuronTypesFigureGridMaker\n",
    "from drn_interactions.spiketrains.plots import NeuronTypesPlotter\n",
    "\n",
    "grid_maker = NeuronTypesFigureGridMaker()\n",
    "plotter = NeuronTypesPlotter()\n",
    "\n",
    "fig = grid_maker.make_figure(figsize=(7, 7), constrained_layout=False)\n",
    "fig_top, fig_bottom = grid_maker.split_top_bottom(fig, hspace=0.05, height_ratios=[1.5, 1])\n",
    "\n",
    "\n",
    "fig_raster, fig_waveforms = grid_maker.split_top_figs(fig_top)\n",
    "\n",
    "plotter.plot_raster(\n",
    "    fig=fig_raster, \n",
    "    trains=trains,\n",
    "    height_ratios=[len(x) + 3 for x in trains.values()],\n",
    "    )\n",
    "\n",
    "\n",
    "axes_waves = plotter.plot_waveforms(\n",
    "    fig=fig_waveforms,\n",
    "    waveforms=waveforms,\n",
    ")\n",
    "for nt, ax in axes_waves.items():\n",
    "    ax.set_title(nt)\n",
    "\n",
    "\n",
    "fig_heats, fig_bar, fig_pct = grid_maker.split_bottom_figs(fig_bottom, wspace=0.05)\n",
    "\n",
    "df_piv = preprocessor.pivot_props(df_props)\n",
    "df_single_unit = df_piv.loc[\"Glass Pipette\", slice(None), slice(None)].dropna().apply(robust_scale)\n",
    "df_probe = df_piv.loc[\"Silicon Probe\", slice(None), slice(None)].dropna().apply(robust_scale)\n",
    "\n",
    "plotter.plot_heatmaps(\n",
    "    df_props_probe=df_probe,\n",
    "    df_props_single_unit=df_single_unit,\n",
    "    fig=fig_heats,\n",
    "    textwrap_width=10,\n",
    ")\n",
    "\n",
    "plotter.plot_bars(\n",
    "    df_props=df_props,\n",
    "    fig=fig_bar,\n",
    "    textwrap_width=10,\n",
    ")\n",
    "\n",
    "plotter.plot_pct(\n",
    "    df_props=df_props,\n",
    "    fig=fig_pct,\n",
    ")\n",
    "\n",
    "fig.savefig(out_dir / \"spiketrainsfig.jpg\", dpi=300)\n",
    "plt.show()\n"
   ]
  },
  {
   "cell_type": "code",
   "execution_count": null,
   "metadata": {},
   "outputs": [],
   "source": []
  },
  {
   "cell_type": "code",
   "execution_count": 18,
   "metadata": {},
   "outputs": [
    {
     "data": {
      "image/png": "[encoded data removed]",
      "text/plain": [
       "<Figure size 288x288 with 1 Axes>"
      ]
     },
     "metadata": {
      "needs_background": "light"
     },
     "output_type": "display_data"
    }
   ],
   "source": [
    "from sklearn.impute import KNNImputer\n",
    "import seaborn as sns\n",
    "\n",
    "df = (\n",
    "    df_props\n",
    "    .query(\"`Electrode Type` == 'Silicon Probe'\")\n",
    "    .pivot(index=[\"ID\", \"Neuron Type\"], columns=[\"Metric\"], values=\"Value\")\n",
    "    .reset_index()\n",
    ")\n",
    "\n",
    "\n",
    "f = plt.figure(figsize=(4, 4))\n",
    "ax = f.subplots()\n",
    "\n",
    "ax.scatter()"
   ]
  },
  {
   "cell_type": "code",
   "execution_count": 73,
   "metadata": {},
   "outputs": [
    {
     "data": {
      "text/html": [
       "<div>\n",
       "<style scoped>\n",
       "    .dataframe tbody tr th:only-of-type {\n",
       "        vertical-align: middle;\n",
       "    }\n",
       "\n",
       "    .dataframe tbody tr th {\n",
       "        vertical-align: top;\n",
       "    }\n",
       "\n",
       "    .dataframe thead th {\n",
       "        text-align: right;\n",
       "    }\n",
       "</style>\n",
       "<table border=\"1\" class=\"dataframe\">\n",
       "  <thead>\n",
       "    <tr style=\"text-align: right;\">\n",
       "      <th></th>\n",
       "      <th>Spike Rate (Hz)</th>\n",
       "      <th>CV(ISI)</th>\n",
       "      <th>Waveform Width (ms)</th>\n",
       "      <th>Neuron Type</th>\n",
       "      <th>Waveform Width</th>\n",
       "    </tr>\n",
       "    <tr>\n",
       "      <th>ID</th>\n",
       "      <th></th>\n",
       "      <th></th>\n",
       "      <th></th>\n",
       "      <th></th>\n",
       "      <th></th>\n",
       "    </tr>\n",
       "  </thead>\n",
       "  <tbody>\n",
       "    <tr>\n",
       "      <th>1</th>\n",
       "      <td>1.246685</td>\n",
       "      <td>0.930465</td>\n",
       "      <td>0.917891</td>\n",
       "      <td>SIR</td>\n",
       "      <td>0.3 - 1.4 ms</td>\n",
       "    </tr>\n",
       "    <tr>\n",
       "      <th>4</th>\n",
       "      <td>3.489378</td>\n",
       "      <td>0.867824</td>\n",
       "      <td>0.303721</td>\n",
       "      <td>SIR</td>\n",
       "      <td>0.3 - 1.4 ms</td>\n",
       "    </tr>\n",
       "    <tr>\n",
       "      <th>5</th>\n",
       "      <td>9.393386</td>\n",
       "      <td>0.373946</td>\n",
       "      <td>0.703969</td>\n",
       "      <td>FF</td>\n",
       "      <td>0.3 - 1.4 ms</td>\n",
       "    </tr>\n",
       "    <tr>\n",
       "      <th>6</th>\n",
       "      <td>2.383542</td>\n",
       "      <td>0.435929</td>\n",
       "      <td>0.936768</td>\n",
       "      <td>SIR</td>\n",
       "      <td>0.3 - 1.4 ms</td>\n",
       "    </tr>\n",
       "    <tr>\n",
       "      <th>8</th>\n",
       "      <td>5.190563</td>\n",
       "      <td>0.269301</td>\n",
       "      <td>1.026455</td>\n",
       "      <td>SR</td>\n",
       "      <td>0.3 - 1.4 ms</td>\n",
       "    </tr>\n",
       "  </tbody>\n",
       "</table>\n",
       "</div>"
      ],
      "text/plain": [
       "    Spike Rate (Hz)   CV(ISI)  Waveform Width (ms) Neuron Type Waveform Width\n",
       "ID                                                                           \n",
       "1          1.246685  0.930465             0.917891         SIR   0.3 - 1.4 ms\n",
       "4          3.489378  0.867824             0.303721         SIR   0.3 - 1.4 ms\n",
       "5          9.393386  0.373946             0.703969          FF   0.3 - 1.4 ms\n",
       "6          2.383542  0.435929             0.936768         SIR   0.3 - 1.4 ms\n",
       "8          5.190563  0.269301             1.026455          SR   0.3 - 1.4 ms"
      ]
     },
     "execution_count": 73,
     "metadata": {},
     "output_type": "execute_result"
    }
   ],
   "source": [
    "from sklearn.impute import KNNImputer\n",
    "from sklearn.preprocessing import KBinsDiscretizer\n",
    "\n",
    "\n",
    "def preprocess_scatter(\n",
    "    df_props,\n",
    "    waveform_nan=\"impute\",\n",
    "    k_waveform_bins=3,\n",
    "    k_neighbour_waveforms=3,\n",
    "    waveform_col: str = \"Waveform Width (ms)\",\n",
    "    spike_rate_col: str = \"Spike Rate (Hz)\",\n",
    "    neuron_type_col: str = \"Neuron Type\",\n",
    "    cv_col: str = \"CV(ISI)\",\n",
    "    electrode_type_col: str = \"Electrode Type\",\n",
    "    metric_col: str = \"Metric\",\n",
    "    id_col: str = \"ID\",\n",
    "):\n",
    "    df = (\n",
    "        df_props.copy()\n",
    "        .query(f\"`{electrode_type_col}` == 'Silicon Probe'\")\n",
    "        .pivot(index=[id_col, neuron_type_col], columns=[metric_col], values=\"Value\")\n",
    "        .reset_index()\n",
    "        .loc[:, [id_col, neuron_type_col, waveform_col, spike_rate_col, cv_col]]\n",
    "        .set_index(id_col)\n",
    "    )\n",
    "\n",
    "    if waveform_nan == \"impute\":\n",
    "        imputer = KNNImputer(n_neighbors=k_neighbour_waveforms)\n",
    "\n",
    "        df = pd.DataFrame(\n",
    "            imputer.fit_transform(df[[spike_rate_col, cv_col, waveform_col]].values),\n",
    "            columns=[spike_rate_col, cv_col, waveform_col],\n",
    "            index=df.index,\n",
    "        ).join(df[[neuron_type_col]])\n",
    "    elif waveform_nan == \"drop\":\n",
    "        df = df.dropna()\n",
    "    else:\n",
    "        raise ValueError(f\"Unknown value for waveform_nan: {waveform_nan}\")\n",
    "    \n",
    "    binner = KBinsDiscretizer(n_bins=k_waveform_bins, encode=\"ordinal\").fit(df[waveform_col].values.reshape(-1, 1))\n",
    "    mapper = {i: f\"{start:.1f} - {stop:.1f} ms\" for i, (start, stop) in enumerate(zip(binner.bin_edges_[0], binner.bin_edges_[0][1:])) }\n",
    "    waveform_idx = binner.transform(df[waveform_col].values.reshape(-1, 1)).astype(int).flatten()\n",
    "    waveform_vals = pd.Series(waveform_idx).map(mapper)\n",
    "    df[\"Waveform Width\"] = pd.Categorical(waveform_vals, categories=mapper.values(), ordered=True)\n",
    "    return df\n",
    "\n",
    "\n",
    "df = preprocess_scatter(df_props, waveform_nan=\"impute\", k_waveform_bins=3)\n",
    "df.head()"
   ]
  },
  {
   "cell_type": "code",
   "execution_count": 74,
   "metadata": {},
   "outputs": [
    {
     "data": {
      "text/plain": [
       "array(['1.9 - 3.2 ms', '1.4 - 1.9 ms', '0.3 - 1.4 ms'], dtype=object)"
      ]
     },
     "execution_count": 74,
     "metadata": {},
     "output_type": "execute_result"
    }
   ],
   "source": [
    "df[\"Waveform Width\"].cat.categories.values[::-1]"
   ]
  },
  {
   "cell_type": "code",
   "execution_count": 75,
   "metadata": {},
   "outputs": [
    {
     "data": {
      "image/png": "[encoded data removed]",
      "text/plain": [
       "<Figure size 360x216 with 1 Axes>"
      ]
     },
     "metadata": {
      "needs_background": "light"
     },
     "output_type": "display_data"
    }
   ],
   "source": [
    "f = plt.figure(figsize=(5, 3))\n",
    "\n",
    "ax = f.subplots()\n",
    "ax.set_ylim(0, 24)\n",
    "ax.set_xlim(0, 1.2)\n",
    "\n",
    "sns.scatterplot(\n",
    "    data=df,\n",
    "    x=\"CV(ISI)\",\n",
    "    y=\"Spike Rate (Hz)\",\n",
    "    hue=\"Neuron Type\",\n",
    "    size=\"Waveform Width\",\n",
    "    size_order=df[\"Waveform Width\"].cat.categories.values[::-1],\n",
    "    hue_order=[\"SR\", \"SIR\", \"FF\"],\n",
    "    alpha=0.9, \n",
    ")\n",
    "\n",
    "sns.despine(ax=ax)"
   ]
  },
  {
   "cell_type": "code",
   "execution_count": null,
   "metadata": {},
   "outputs": [],
   "source": []
  }
 ],
 "metadata": {
  "kernelspec": {
   "display_name": "Python 3.8.13 ('drn')",
   "language": "python",
   "name": "python3"
  },
  "language_info": {
   "codemirror_mode": {
    "name": "ipython",
    "version": 3
   },
   "file_extension": ".py",
   "mimetype": "text/x-python",
   "name": "python",
   "nbconvert_exporter": "python",
   "pygments_lexer": "ipython3",
   "version": "3.8.13"
  },
  "orig_nbformat": 4,
  "vscode": {
   "interpreter": {
    "hash": "a141ff61fc8e5477d761678b9939730228dd63e8e5dabf1901cb4084a0e2e4d6"
   }
  }
 },
 "nbformat": 4,
 "nbformat_minor": 2
}
