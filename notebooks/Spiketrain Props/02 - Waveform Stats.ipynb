{
 "cells": [
  {
   "cell_type": "code",
   "execution_count": 1,
   "metadata": {},
   "outputs": [],
   "source": [
    "from drn_interactions.io import load_waveforms\n",
    "from drn_interactions.config import Config\n",
    "from typing import List\n",
    "import matplotlib.pyplot as plt\n",
    "import numpy as np\n",
    "import pandas as pd\n",
    "from sklearn.preprocessing import minmax_scale\n",
    "import seaborn as sns\n",
    "\n",
    "\n",
    "from drn_interactions.spiketrains.waveforms import WaveformPreprocessor, WaveformOutliers, WaveformPeaks, WaveMap\n",
    "sns.set_theme(context=\"talk\", style=\"ticks\")\n",
    "\n",
    "\n",
    "%load_ext autoreload\n",
    "%autoreload 2"
   ]
  },
  {
   "cell_type": "code",
   "execution_count": 2,
   "metadata": {},
   "outputs": [],
   "source": [
    "df = load_waveforms()[[\"neuron_id\", \"waveform_index\", \"waveform_value\"]]"
   ]
  },
  {
   "cell_type": "code",
   "execution_count": 3,
   "metadata": {},
   "outputs": [],
   "source": [
    "# preprocess waveforms using median and gaussian filters then scale to [0, 1]\n",
    "\n",
    "preprocessor = WaveformPreprocessor(\n",
    "    gaussian_sigma=2, \n",
    "    medfilter_size=9,\n",
    "    scale_to_baseline=False,\n",
    "    minmax=True,\n",
    "    )\n",
    "df_preprocessed = preprocessor(df)"
   ]
  },
  {
   "cell_type": "code",
   "execution_count": 4,
   "metadata": {},
   "outputs": [],
   "source": [
    "# remove bad waveforms using an isolation forest\n",
    "\n",
    "outlier_mod = WaveformOutliers()\n",
    "df_good, df_outliers = outlier_mod(df_preprocessed)"
   ]
  },
  {
   "cell_type": "code",
   "execution_count": 5,
   "metadata": {},
   "outputs": [],
   "source": [
    "# find peaks and calculate their widths and prominences using scipy\n",
    "\n",
    "peak_finder = WaveformPeaks(width_rel_height=0.8, base_rel_height=0.8)\n",
    "df_summary = df_good.apply(peak_finder, axis=1, summarize=True,).reset_index()\n",
    "df_summary = df_summary.loc[lambda x: ~np.isnan(x.prom_min)]\n",
    "df_summary[\"prom_basepost\"] = df_summary[\"prom_basepost\"].fillna(0)\n",
    "# df_summary[\"width_min\"] = np.where(df_summary[\"width_min\"] < 25, np.nan, df_summary[\"width_min\"])"
   ]
  },
  {
   "cell_type": "code",
   "execution_count": 6,
   "metadata": {},
   "outputs": [],
   "source": [
    "# calculate waveform embeddings using UMAP\n",
    "\n",
    "decomposer = WaveMap(n_neighbors=20, n_components=2)\n",
    "df_decomposed = decomposer(df_good).reset_index()"
   ]
  },
  {
   "cell_type": "code",
   "execution_count": 7,
   "metadata": {},
   "outputs": [],
   "source": [
    "# save results\n",
    "\n",
    "df_summary.to_csv(Config.derived_data_dir / \"waveform_summary.csv\", index=False)\n",
    "df_decomposed.to_csv(Config.derived_data_dir / \"wavemap.csv\", index=False)"
   ]
  },
  {
   "cell_type": "code",
   "execution_count": null,
   "metadata": {},
   "outputs": [],
   "source": []
  },
  {
   "cell_type": "code",
   "execution_count": null,
   "metadata": {},
   "outputs": [],
   "source": []
  }
 ],
 "metadata": {
  "kernelspec": {
   "display_name": "Python 3.6.13 ('drn-interactions')",
   "language": "python",
   "name": "python3"
  },
  "language_info": {
   "codemirror_mode": {
    "name": "ipython",
    "version": 3
   },
   "file_extension": ".py",
   "mimetype": "text/x-python",
   "name": "python",
   "nbconvert_exporter": "python",
   "pygments_lexer": "ipython3",
   "version": "3.6.13"
  },
  "orig_nbformat": 4,
  "vscode": {
   "interpreter": {
    "hash": "595626f471715c1ef1767721af1162754763b18b459b8364279c934890ae0eae"
   }
  }
 },
 "nbformat": 4,
 "nbformat_minor": 2
}
