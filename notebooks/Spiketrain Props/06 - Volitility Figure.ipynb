{
 "cells": [
  {
   "cell_type": "code",
   "execution_count": 49,
   "metadata": {},
   "outputs": [],
   "source": [
    "import numpy as np\n",
    "from typing import Any, Dict, List, Optional, Sequence, Tuple\n",
    "from drn_interactions.transforms.spikes import SpikesHandler\n",
    "from drn_interactions.io import load_derived_generic\n",
    "\n",
    "\n",
    "class SpikeTrainLoader:\n",
    "    def __init__(\n",
    "        self,\n",
    "        session_name: str,\n",
    "        duration: float = 5.0,\n",
    "        max_neurons: Optional[int] = None,\n",
    "        block=\"pre\"\n",
    "    ):\n",
    "        self.session_name = session_name\n",
    "        self.duration = duration\n",
    "        self.block=block\n",
    "        neurons = load_derived_generic(\"neuron_types.csv\").loc[lambda x: x[\"session_name\"] == session_name]\n",
    "        self.max_neurons =max_neurons\n",
    "        self.neurons = neurons\n",
    "    \n",
    "    def get_trians_by_type(self, t_start) -> Dict[str, List[np.ndarray]]:\n",
    "        types = self.neurons.neuron_type.unique()\n",
    "        trains = {}\n",
    "        for neuron_type in types:\n",
    "            neurons = self.neurons.loc[lambda x: x[\"neuron_type\"] == neuron_type][\"neuron_id\"].values\n",
    "            trains[neuron_type] = self.get_trains(t_start, ids=neurons)\n",
    "        return trains\n",
    "\n",
    "    def get_trains(\n",
    "        self, t_start, ids: Optional[Sequence] = None\n",
    "    ) -> List[np.ndarray]:\n",
    "        if ids is None:\n",
    "            ids = self.neurons[\"neuron_id\"].values\n",
    "        \n",
    "        sh = SpikesHandler(\n",
    "            bin_width=1, session_names=[self.session_name], t_start=t_start, t_stop=t_start + self.duration, block=self.block\n",
    "        )\n",
    "        df_spikes = sh.spikes.loc[lambda x: x[\"neuron_id\"].isin(ids)]\n",
    "        trains = [\n",
    "            dfg[\"spiketimes\"].values for _, dfg in df_spikes.groupby(\"neuron_id\")\n",
    "        ]\n",
    "        trains = trains[:self.max_neurons]\n",
    "        return trains\n",
    "\n",
    "\n",
    "import matplotlib.pyplot as plt\n",
    "\n",
    "\n",
    "def make_grid(\n",
    "    trains: Dict[Any, str], fig: Optional[plt.Figure] = None, gridspec_kw: Optional[Dict] = None, type_order=None,\n",
    "):\n",
    "    fig = fig or plt.figure()\n",
    "    neuron_types = type_order or list(trains.keys())\n",
    "    n_rows = len(neuron_types)\n",
    "    n_cols = 1\n",
    "    height_ratios = np.array([len(trains[neuron_type]) for neuron_type in neuron_types])\n",
    "    height_ratios = height_ratios / height_ratios.sum()\n",
    "    gridspec_kw = gridspec_kw or {}\n",
    "    gridspec_kw[\"height_ratios\"] = height_ratios\n",
    "    axes = fig.subplots(n_rows, n_cols, gridspec_kw=gridspec_kw)\n",
    "    return axes\n",
    "\n",
    "\n",
    "def plot_raster(trains: List[np.ndarray], ax=None, **eventplot_kwargs):\n",
    "    ax = ax or plt.subplots()[1]\n",
    "    ax.eventplot(\n",
    "        trains,\n",
    "        **eventplot_kwargs,\n",
    "    )\n",
    "    ax.axis(\"off\")\n",
    "    return ax\n",
    "\n",
    "\n",
    "def plot_raster_grouped(\n",
    "    trains: Dict[str, List[np.ndarray]],\n",
    "    fig=None,\n",
    "    eventplot_kwargs: Optional[Dict] = None,\n",
    "    gridspec_kw: Optional[Dict] = None,\n",
    "    type_order: Optional[List[str]] = None,\n",
    "):\n",
    "    eventplot_kwargs = eventplot_kwargs or {}\n",
    "    gridspec_kw = gridspec_kw or {}\n",
    "    \n",
    "    fig = fig or plt.figure()\n",
    "    neuron_types = type_order or list(trains.keys())\n",
    "    axes = make_grid(\n",
    "        trains,\n",
    "        fig=fig,\n",
    "        gridspec_kw=gridspec_kw,\n",
    "        type_order=neuron_types\n",
    "    )\n",
    "    \n",
    "    for ax, neuron_type in zip(axes, neuron_types):\n",
    "        train_list = trains[neuron_type]\n",
    "        plot_raster(train_list, ax=ax, **eventplot_kwargs)\n",
    "    return fig, axes\n",
    "\n",
    "def plot_raster_grouped_time(\n",
    "    trains: List[Dict[str, List[np.ndarray]]],\n",
    "    fig: plt.Figure =None,\n",
    "    eventplot_kwargs: Optional[Dict] = None,\n",
    "    gridspec_kw: Optional[Dict] = None,\n",
    "    type_order: Optional[List[str]] = None,\n",
    "\n",
    "):\n",
    "    fig = fig or plt.figure()\n",
    "\n",
    "    num_timepoints = len(trains)\n",
    "    sub_figs = fig.subfigures(1, num_timepoints)\n",
    "\n",
    "    for sub_fig, train in zip(sub_figs, trains):\n",
    "        plot_raster_grouped(\n",
    "            train,\n",
    "            fig=sub_fig,\n",
    "            eventplot_kwargs=eventplot_kwargs,\n",
    "            gridspec_kw=gridspec_kw,\n",
    "            type_order=type_order,\n",
    "        )\n",
    "    return fig"
   ]
  },
  {
   "cell_type": "code",
   "execution_count": 77,
   "metadata": {},
   "outputs": [
    {
     "data": {
      "image/png": "[encoded data removed]",
      "text/plain": [
       "<Figure size 504x216 with 9 Axes>"
      ]
     },
     "execution_count": 77,
     "metadata": {},
     "output_type": "execute_result"
    },
    {
     "data": {
      "image/png": "[encoded data removed]",
      "text/plain": [
       "<Figure size 504x216 with 9 Axes>"
      ]
     },
     "metadata": {
      "needs_background": "light"
     },
     "output_type": "display_data"
    }
   ],
   "source": [
    "session_name = \"acute_15\"\n",
    "\n",
    "loader = SpikeTrainLoader(session_name, duration=5.0, max_neurons=8)\n",
    "\n",
    "trains_second = loader.get_trians_by_type(t_start=300)\n",
    "trains_third = loader.get_trians_by_type(t_start=600)\n",
    "trains_fourth = loader.get_trians_by_type(t_start=1000)\n",
    "\n",
    "f = plt.figure(figsize=(7, 3))\n",
    "plot_raster_grouped_time(\n",
    "    fig=f,\n",
    "    trains=[trains_second, trains_third, trains_fourth],\n",
    "    type_order=[\"SR\", \"SIR\", \"FF\"],\n",
    "    eventplot_kwargs={\"color\": \"k\", \"linewidths\": 0.8},\n",
    ")\n",
    "\n"
   ]
  },
  {
   "cell_type": "code",
   "execution_count": null,
   "metadata": {},
   "outputs": [],
   "source": []
  },
  {
   "cell_type": "code",
   "execution_count": null,
   "metadata": {},
   "outputs": [],
   "source": []
  },
  {
   "cell_type": "code",
   "execution_count": null,
   "metadata": {},
   "outputs": [],
   "source": []
  }
 ],
 "metadata": {
  "kernelspec": {
   "display_name": "Python 3.8.13 ('drn')",
   "language": "python",
   "name": "python3"
  },
  "language_info": {
   "codemirror_mode": {
    "name": "ipython",
    "version": 3
   },
   "file_extension": ".py",
   "mimetype": "text/x-python",
   "name": "python",
   "nbconvert_exporter": "python",
   "pygments_lexer": "ipython3",
   "version": "3.8.13"
  },
  "orig_nbformat": 4,
  "vscode": {
   "interpreter": {
    "hash": "a141ff61fc8e5477d761678b9939730228dd63e8e5dabf1901cb4084a0e2e4d6"
   }
  }
 },
 "nbformat": 4,
 "nbformat_minor": 2
}
