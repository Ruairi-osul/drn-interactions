{
 "cells": [
  {
   "cell_type": "code",
   "execution_count": 1,
   "metadata": {},
   "outputs": [],
   "source": [
    "from drn_interactions.load import load_neurons, load_spikes, get_derived_data_dir\n",
    "from drn_interactions.stats import cv_isi_burst, is_burster, median_burst_interval\n",
    "import seaborn as sns\n",
    "import matplotlib.pyplot as plt\n",
    "\n",
    "from pathlib import Path"
   ]
  },
  {
   "cell_type": "code",
   "execution_count": 2,
   "metadata": {},
   "outputs": [],
   "source": [
    "outdir = get_derived_data_dir() / \"neurons\"\n",
    "outdir.mkdir(exist_ok=True)"
   ]
  },
  {
   "cell_type": "code",
   "execution_count": 3,
   "metadata": {},
   "outputs": [],
   "source": [
    "neurons = load_neurons()\n",
    "df_spikes = load_spikes(\"pre\")"
   ]
  },
  {
   "cell_type": "code",
   "execution_count": 4,
   "metadata": {},
   "outputs": [
    {
     "name": "stderr",
     "output_type": "stream",
     "text": [
      "c:\\Users\\roryl\\.conda\\envs\\drn-interactions\\lib\\site-packages\\numpy\\core\\fromnumeric.py:3373: RuntimeWarning: Mean of empty slice.\n",
      "  out=out, **kwargs)\n"
     ]
    },
    {
     "data": {
      "text/html": [
       "<div>\n",
       "<style scoped>\n",
       "    .dataframe tbody tr th:only-of-type {\n",
       "        vertical-align: middle;\n",
       "    }\n",
       "\n",
       "    .dataframe tbody tr th {\n",
       "        vertical-align: top;\n",
       "    }\n",
       "\n",
       "    .dataframe thead th {\n",
       "        text-align: right;\n",
       "    }\n",
       "</style>\n",
       "<table border=\"1\" class=\"dataframe\">\n",
       "  <thead>\n",
       "    <tr style=\"text-align: right;\">\n",
       "      <th></th>\n",
       "      <th>neuron_id</th>\n",
       "      <th>waveform_width</th>\n",
       "      <th>peak_asymmetry</th>\n",
       "      <th>mean_firing_rate</th>\n",
       "      <th>cv2_isi</th>\n",
       "      <th>recording_session_id</th>\n",
       "      <th>cluster_id</th>\n",
       "      <th>channel</th>\n",
       "      <th>is_single_unit</th>\n",
       "      <th>session_name</th>\n",
       "      <th>group_name</th>\n",
       "      <th>experiment_name</th>\n",
       "      <th>cv2_burst</th>\n",
       "      <th>is_burster</th>\n",
       "      <th>median_burst</th>\n",
       "    </tr>\n",
       "  </thead>\n",
       "  <tbody>\n",
       "    <tr>\n",
       "      <th>0</th>\n",
       "      <td>1</td>\n",
       "      <td>16.0</td>\n",
       "      <td>0.065574</td>\n",
       "      <td>0.601693</td>\n",
       "      <td>0.467315</td>\n",
       "      <td>3</td>\n",
       "      <td>0</td>\n",
       "      <td>6</td>\n",
       "      <td>1</td>\n",
       "      <td>ESHOCK_03_LOC1</td>\n",
       "      <td>shock</td>\n",
       "      <td>ESHOCK</td>\n",
       "      <td>0.449766</td>\n",
       "      <td>True</td>\n",
       "      <td>0.041733</td>\n",
       "    </tr>\n",
       "    <tr>\n",
       "      <th>1</th>\n",
       "      <td>4</td>\n",
       "      <td>9.0</td>\n",
       "      <td>0.037344</td>\n",
       "      <td>2.105512</td>\n",
       "      <td>0.824797</td>\n",
       "      <td>3</td>\n",
       "      <td>3</td>\n",
       "      <td>17</td>\n",
       "      <td>1</td>\n",
       "      <td>ESHOCK_03_LOC1</td>\n",
       "      <td>shock</td>\n",
       "      <td>ESHOCK</td>\n",
       "      <td>0.638198</td>\n",
       "      <td>True</td>\n",
       "      <td>0.022283</td>\n",
       "    </tr>\n",
       "  </tbody>\n",
       "</table>\n",
       "</div>"
      ],
      "text/plain": [
       "   neuron_id  waveform_width  peak_asymmetry  mean_firing_rate   cv2_isi  \\\n",
       "0          1            16.0        0.065574          0.601693  0.467315   \n",
       "1          4             9.0        0.037344          2.105512  0.824797   \n",
       "\n",
       "   recording_session_id  cluster_id  channel  is_single_unit    session_name  \\\n",
       "0                     3           0        6               1  ESHOCK_03_LOC1   \n",
       "1                     3           3       17               1  ESHOCK_03_LOC1   \n",
       "\n",
       "  group_name experiment_name  cv2_burst  is_burster  median_burst  \n",
       "0      shock          ESHOCK   0.449766        True      0.041733  \n",
       "1      shock          ESHOCK   0.638198        True      0.022283  "
      ]
     },
     "execution_count": 4,
     "metadata": {},
     "output_type": "execute_result"
    }
   ],
   "source": [
    "cv2_burst = df_spikes.groupby(\"neuron_id\")[\"spiketimes\"].apply(cv_isi_burst, thresh=0.05)\n",
    "is_burst = df_spikes.groupby(\"neuron_id\")[\"spiketimes\"].apply(is_burster, burst_thresh=0.05, frac_bursts=0.1)\n",
    "med_burst = df_spikes.groupby(\"neuron_id\")[\"spiketimes\"].apply(median_burst_interval, thresh=0.05)\n",
    "\n",
    "\n",
    "\n",
    "df = (\n",
    "    neurons\n",
    "    .merge(cv2_burst.to_frame(name=\"cv2_burst\").reset_index())\n",
    "    .merge(is_burst.to_frame(name=\"is_burster\").reset_index())\n",
    "    .merge(med_burst.to_frame(name=\"median_burst\").reset_index())\n",
    ")\n",
    "df.head(2)\n"
   ]
  },
  {
   "cell_type": "code",
   "execution_count": 5,
   "metadata": {},
   "outputs": [],
   "source": [
    "df.to_csv(outdir / \"burst_features.csv\", index=False)"
   ]
  },
  {
   "cell_type": "code",
   "execution_count": null,
   "metadata": {},
   "outputs": [],
   "source": []
  }
 ],
 "metadata": {
  "interpreter": {
   "hash": "595626f471715c1ef1767721af1162754763b18b459b8364279c934890ae0eae"
  },
  "kernelspec": {
   "display_name": "Python 3.6.13 ('drn-interactions')",
   "language": "python",
   "name": "python3"
  },
  "language_info": {
   "codemirror_mode": {
    "name": "ipython",
    "version": 3
   },
   "file_extension": ".py",
   "mimetype": "text/x-python",
   "name": "python",
   "nbconvert_exporter": "python",
   "pygments_lexer": "ipython3",
   "version": "3.6.13"
  },
  "orig_nbformat": 4
 },
 "nbformat": 4,
 "nbformat_minor": 2
}
