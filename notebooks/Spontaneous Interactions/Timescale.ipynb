{
 "cells": [
  {
   "cell_type": "code",
   "execution_count": 35,
   "metadata": {},
   "outputs": [],
   "source": [
    "from drn_interactions.interactions.loaders import SpontaneousActivityLoader\n",
    "from drn_interactions.interactions.preprocessors import InteractionsPreprocessor\n",
    "from drn_interactions.interactions.pairwise import PairwiseCorr, PairwisePartialCorr\n",
    "from drn_interactions.interactions.popcup import PopulationCoupling\n",
    "from drn_interactions.interactions.runners import InteractionsRunner\n",
    "from drn_interactions.interactions.graph_clustering import df_to_graph\n",
    "from drn_interactions.config import Config, ExperimentInfo\n",
    "import numpy as np\n",
    "from drn_interactions.interactions.graph import GraphAttributes, NodeAttributes\n",
    "import pandas as pd\n",
    "import seaborn as sns\n",
    "from drn_interactions.io import load_derived_generic, load_distances\n",
    "from drn_interactions.transforms.graph import GraphTransformer\n",
    "\n",
    "fig_dir = Config.fig_dir\n",
    "sns.set_theme(style='ticks', context=\"paper\")"
   ]
  },
  {
   "cell_type": "code",
   "execution_count": 2,
   "metadata": {},
   "outputs": [
    {
     "name": "stderr",
     "output_type": "stream",
     "text": [
      "c:\\users\\roryl\\repos\\drn interactions\\drn_interactions\\interactions\\cross_correlations.py:25: RuntimeWarning: invalid value encountered in true_divide\n",
      "  return lags, cvf / (np.std(x) * np.std(y))\n"
     ]
    }
   ],
   "source": [
    "neuron_types = load_derived_generic(\"neuron_types.csv\")[\n",
    "    [\"neuron_id\", \"neuron_type\", \"session_name\"]\n",
    "]\n",
    "sessions = neuron_types[\"session_name\"].dropna().unique()\n",
    "res_corr = []\n",
    "res_pcorr = []\n",
    "res_pcup = []\n",
    "bin_widths = [0.05, 0.1, 0.5, 1, ]\n",
    "\n",
    "loader_fac = lambda bin_width, shuffle: SpontaneousActivityLoader(\n",
    "    session_name=sessions[0], bin_width=bin_width, shuffle=shuffle\n",
    ")\n",
    "preprocessor_fac = lambda: InteractionsPreprocessor(\n",
    "    z=True, minmax=False, gaussian_sigma=None\n",
    ")\n",
    "corr_fac = lambda: PairwiseCorr()\n",
    "pcorr_fac = lambda: PairwisePartialCorr()\n",
    "pcup_fac = lambda: PopulationCoupling()\n",
    "\n",
    "runner_fac = lambda bin_width, shuffle: InteractionsRunner(\n",
    "    loader=loader_fac(bin_width, shuffle),\n",
    "    preprocessor=preprocessor_fac(),\n",
    "    pcup=pcup_fac(),\n",
    "    corr=corr_fac(),\n",
    "    pcorr=pcorr_fac(),\n",
    ")\n",
    "for shuffle in (True, False):\n",
    "    for bin_width in bin_widths:\n",
    "        runner = runner_fac(bin_width, shuffle)\n",
    "        res_pcorr.append(runner.run_pcorr_multi(sessions).assign(bin_width=bin_width, shuffle=shuffle))\n",
    "        res_corr.append(runner.run_corr_multi(sessions).assign(bin_width=bin_width, shuffle=shuffle))\n",
    "        res_pcup.append(runner.run_pcup_multi(sessions).assign(bin_width=bin_width, shuffle=shuffle))\n",
    "\n",
    "rsc = (\n",
    "    pd.concat(res_corr)\n",
    "    .reset_index(drop=True)\n",
    "    .rename(columns=dict(corr=\"value\"))\n",
    "    .assign(metric=\"rsc\")\n",
    "    .assign(mag=lambda x: np.abs(x[\"value\"]))\n",
    ")\n",
    "pcorr = (\n",
    "    pd.concat(res_pcorr)\n",
    "    .reset_index(drop=True)\n",
    "    .rename(columns=dict(pcorr=\"value\"))\n",
    "    .assign(metric=\"pcorr\")\n",
    "    .assign(mag=lambda x: np.abs(x[\"value\"]))\n",
    ")\n",
    "pcup = (\n",
    "    pd.concat(res_pcup)\n",
    "    .reset_index(drop=True)\n",
    "    .rename(columns=dict(cc=\"value\"))\n",
    "    .assign(metric=\"pcup\")\n",
    "    .assign(mag=lambda x: np.abs(x[\"value\"]))\n",
    ")"
   ]
  },
  {
   "cell_type": "code",
   "execution_count": 4,
   "metadata": {},
   "outputs": [
    {
     "name": "stderr",
     "output_type": "stream",
     "text": [
      "c:\\users\\roryl\\repos\\drn interactions\\drn_interactions\\interactions\\network.py:92: RuntimeWarning: invalid value encountered in double_scalars\n",
      "  delta_L = (L_obs - L_rand) / (L_latt - L_rand)\n"
     ]
    }
   ],
   "source": [
    "graph_attrs = GraphAttributes(inverse_distance=True)\n",
    "\n",
    "df_distance = load_distances()\n",
    "sessions = neuron_types[\"session_name\"].dropna().unique()\n",
    "graph_dfs = []\n",
    "\n",
    "for bin_width in (0.05, 0.1, 0.5, 1):\n",
    "    for shuffle_higher in (False, True):\n",
    "        for session in sessions:\n",
    "            loader = SpontaneousActivityLoader(\n",
    "                session_name=session, bin_width=bin_width, block=\"pre\", t_start=0, t_stop=1800\n",
    "            )\n",
    "            preprocessor = InteractionsPreprocessor()\n",
    "            pairwise = PairwiseCorr(rectify=True, shuffle=shuffle_higher)\n",
    "\n",
    "            spikes = preprocessor(loader())\n",
    "            df_affinity = (\n",
    "                pairwise.fit(spikes)\n",
    "                .get_adjacency_df()\n",
    "                .dropna(axis=1, thresh=5)\n",
    "                .dropna(axis=0, thresh=5)\n",
    "            )\n",
    "            \n",
    "            G = df_to_graph(df_affinity, rename_nodes=True)\n",
    "            graph_stats = graph_attrs.get_graph_attributes(G).assign(\n",
    "                session=session, shuffle=shuffle_higher, bin_width=bin_width\n",
    "                )\n",
    "            graph_dfs.append(graph_stats)\n",
    "\n",
    "df_graph = pd.concat(graph_dfs).reset_index(drop=True)"
   ]
  },
  {
   "cell_type": "code",
   "execution_count": 27,
   "metadata": {},
   "outputs": [],
   "source": [
    "\n",
    "ensembles = (\n",
    "    load_derived_generic(\"ensembles/spont - ensembles.csv\")\n",
    "    .groupby([\"bin_width\", \"shuffle\", \"session_name\"])[\"ensemble\"]\n",
    "    .nunique()\n",
    "    .subtract(1)\n",
    "    .to_frame(\"Number of Ensembles\")\n",
    "    .reset_index()\n",
    ")\n",
    "\n",
    "seqnmf = load_derived_generic(\"seqnmf_sequenciness_scores.csv\").query(\"bin_width <= 1\")"
   ]
  },
  {
   "cell_type": "code",
   "execution_count": 49,
   "metadata": {},
   "outputs": [
    {
     "name": "stderr",
     "output_type": "stream",
     "text": [
      "C:\\Users\\roryl\\AppData\\Local\\Temp\\ipykernel_16316\\3352387949.py:36: UserWarning: This figure was using constrained_layout, but that is incompatible with subplots_adjust and/or tight_layout; disabling constrained_layout.\n",
      "  f.subplots_adjust(hspace=0.7)\n"
     ]
    },
    {
     "data": {
      "image/png": "[encoded data removed]",
      "text/plain": [
       "<Figure size 216x288 with 3 Axes>"
      ]
     },
     "metadata": {},
     "output_type": "display_data"
    }
   ],
   "source": [
    "import matplotlib.pyplot as plt\n",
    "from drn_interactions.plots import PAL_GREY_BLACK\n",
    "sns.set_palette(PAL_GREY_BLACK)\n",
    "\n",
    "f = plt.figure(figsize=(3, 4), constrained_layout=True)\n",
    "\n",
    "ax = f.subplots(3, 1, sharex=True)\n",
    "# f.subplots()\n",
    "\n",
    "\n",
    "sns.pointplot(x=\"bin_width\", y=\"mag\", hue=\"shuffle\", data=rsc, estimator=np.median, ax=ax[0])\n",
    "ax[0].set_ylabel(\"\")\n",
    "ax[0].set_xlabel(\"\")\n",
    "ax[0].set_title(\"Spike Count Correlation\",  fontsize=12)\n",
    "# ax[0].set_yticklabels(ax[0].get_yticklabels(), fontsize=19)\n",
    "\n",
    "sns.pointplot(\n",
    "    x=\"bin_width\", \n",
    "    y=\"Number of Ensembles\", \n",
    "    hue=\"shuffle\", \n",
    "    data=ensembles,\n",
    "    ax=ax[1]\n",
    "    )\n",
    "ax[1].set_ylabel(\"\")\n",
    "ax[1].set_xlabel(\"\")\n",
    "ax[1].set_title(\"Number of Ensembles\",  fontsize=12)\n",
    "\n",
    "g_seq = sns.pointplot(x=\"bin_width\", y=\"score\", hue=\"shuffle\", data=seqnmf, estimator=np.median, ax=ax[2], dodge=True,)\n",
    "ax[2].set_ylim(-0.1, 1)\n",
    "plt.setp(g_seq.collections, alpha=.9)\n",
    "plt.setp(g_seq.lines, alpha=.9) \n",
    "ax[2].set_ylabel(\"\")\n",
    "ax[2].set_xlabel(\"\")\n",
    "ax[2].set_title(\"SeqNMF Sequenciness\", fontsize=12)\n",
    "\n",
    "f.subplots_adjust(hspace=0.7)\n",
    "for ax_ in ax:\n",
    "    ax_.legend().remove()\n",
    "\n",
    "sns.despine(fig=f)\n",
    "f.savefig(fig_dir / \"interactions by bin width.png\", dpi=300)"
   ]
  }
 ],
 "metadata": {
  "kernelspec": {
   "display_name": "Python 3.8.13 ('drn38')",
   "language": "python",
   "name": "python3"
  },
  "language_info": {
   "codemirror_mode": {
    "name": "ipython",
    "version": 3
   },
   "file_extension": ".py",
   "mimetype": "text/x-python",
   "name": "python",
   "nbconvert_exporter": "python",
   "pygments_lexer": "ipython3",
   "version": "3.8.13"
  },
  "orig_nbformat": 4,
  "vscode": {
   "interpreter": {
    "hash": "83d85788087be4ab95a62fa43e95c13744f0a02d6feebc555b96a547158d0970"
   }
  }
 },
 "nbformat": 4,
 "nbformat_minor": 2
}
