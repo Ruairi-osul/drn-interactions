{
 "cells": [
  {
   "cell_type": "code",
   "execution_count": 110,
   "metadata": {},
   "outputs": [],
   "source": [
    "from drn_interactions.interactions.loaders import SpontaneousActivityLoader\n",
    "from drn_interactions.interactions.preprocessors import InteractionsPreprocessor\n",
    "from drn_interactions.interactions.pairwise import PairwiseCorr\n",
    "from drn_interactions.interactions.graph_clustering import df_to_graph\n",
    "from drn_interactions.config import Config, ExperimentInfo\n",
    "import numpy as np\n",
    "from drn_interactions.interactions.graph import GraphAttributes, NodeAttributes\n",
    "import pandas as pd\n",
    "import seaborn as sns\n",
    "import matplotlib.pyplot as plt\n",
    "from drn_interactions.io import load_derived_generic, load_distances\n",
    "from drn_interactions.transforms.graph import GraphTransformer\n",
    "from drn_interactions.transforms.spikes import SpikesHandler\n",
    "from sklearn.preprocessing import minmax_scale, robust_scale\n",
    "from sklearn.feature_extraction.text import TfidfTransformer\n",
    "from scipy.ndimage import gaussian_filter1d\n",
    "\n",
    "sns.set_theme(style=\"ticks\", context=\"paper\")\n",
    "fig_dir = Config.fig_dir"
   ]
  },
  {
   "cell_type": "code",
   "execution_count": 132,
   "metadata": {},
   "outputs": [],
   "source": [
    "def reorder_df_affinity(df, ensemble_labels):\n",
    "    idx = np.argsort(ensemble_labels)\n",
    "    return df.iloc[idx, idx]\n",
    "\n",
    "def reorder_spikes(df, ensemble_labels):\n",
    "    idx = np.argsort(ensemble_labels)\n",
    "    return df.iloc[idx, :]\n",
    "\n",
    "\n",
    "def get_affinity(session_name, t_start=0, t_stop=1800, rectify=True):\n",
    "    loader = SpontaneousActivityLoader(session_name=session_name, t_start=t_start, t_stop=t_stop)\n",
    "    preprocessor = InteractionsPreprocessor(z=True)\n",
    "    mod = PairwiseCorr(rectify=rectify)\n",
    "\n",
    "    spikes = preprocessor(loader())\n",
    "    return mod.fit(spikes).get_adjacency_df()\n",
    "\n",
    "def plot_affinity(df_affinity, ax, vmax=None, **kwargs):\n",
    "    sns.heatmap(df_affinity, cmap=\"viridis\", vmin=0, vmax=vmax, robust=True, ax=ax, **kwargs)\n",
    "    return ax\n",
    "\n",
    "def plot_spikes(spikes, ax, vmax=None, **kwargs):\n",
    "    sns.heatmap(spikes, cmap=\"Greys\", vmin=0, vmax=vmax, robust=True, ax=ax, **kwargs)\n",
    "    return ax\n",
    "\n",
    "def plot_lineplot(spikes, neurons, ax=None, sigma=None, colors=(\"red\", \"grey\"), **kwargs):\n",
    "    spikes = spikes.loc[neurons, :]\n",
    "    if sigma is not None:        \n",
    "        spikes = spikes.transform(gaussian_filter1d, sigma=sigma, axis=1)\n",
    "    time = spikes.columns.values\n",
    "    n1 = spikes.loc[neurons[0], :].values\n",
    "    n2 = spikes.loc[neurons[1], :].values\n",
    "    ax.plot(time, n1, label=neurons[0], color=colors[0], **kwargs)\n",
    "    ax.plot(time, n2, label=neurons[1], color=colors[1], **kwargs)\n",
    "    return ax"
   ]
  },
  {
   "cell_type": "code",
   "execution_count": 133,
   "metadata": {},
   "outputs": [
    {
     "name": "stdout",
     "output_type": "stream",
     "text": [
      "['ESHOCK_03_LOC1', 'ESHOCK_04_LOC1', 'ESHOCK_06_LOC1', 'ESHOCK_07_LOC1', 'ESHOCK_08_LOC1', 'ESHOCK_09_LOC1', 'hamilton_10', 'hamilton_03', 'hamilton_04', 'hamilton_09', 'hamilton_31', 'hamilton_38', nan, 'hamilton_37', 'hamilton_35', 'hamilton_36', 'hamilton_32', 'acute_15', 'acute_16', 'acute_01', 'acute_14', 'acute_12', 'acute_11']\n"
     ]
    }
   ],
   "source": [
    "neuron_types = load_derived_generic(\"neuron_types.csv\")\n",
    "sessions = neuron_types[\"session_name\"].unique()\n",
    "print(sessions.tolist())"
   ]
  },
  {
   "cell_type": "code",
   "execution_count": 134,
   "metadata": {},
   "outputs": [],
   "source": [
    "session_name = \"acute_11\"\n",
    "# session_name = sessions[13]\n",
    "ensembles = (\n",
    "    load_derived_generic(\"ensembles/spont - ensembles - true.csv\")\n",
    "    .query(\"session_name == @session_name\")\n",
    "    .sort_values(\"neuron_id\")\n",
    ")\n",
    "labels = ensembles[\"ensemble_id\"].values\n",
    "\n",
    "\n",
    "spikes = SpikesHandler(\n",
    "    block=\"pre\",\n",
    "    bin_width=1,\n",
    "    t_stop=1800,\n",
    "    session_names=[session_name],\n",
    ").binned_piv\n",
    "\n",
    "vals = TfidfTransformer().fit_transform(spikes).todense()\n",
    "spikes = pd.DataFrame(vals, columns=spikes.columns, index=spikes.index).apply(minmax_scale).T\n",
    "\n",
    "spikes = reorder_spikes(spikes, labels)\n",
    "\n",
    "df_affinity = get_affinity(session_name)\n",
    "df_affinity = reorder_df_affinity(df_affinity, labels)"
   ]
  },
  {
   "cell_type": "markdown",
   "metadata": {},
   "source": [
    "### Example Rsc"
   ]
  },
  {
   "cell_type": "markdown",
   "metadata": {},
   "source": [
    "### Example Ensemble\n",
    "\n",
    "- Line plot of smoothed firing rate"
   ]
  },
  {
   "cell_type": "code",
   "execution_count": 135,
   "metadata": {},
   "outputs": [
    {
     "data": {
      "image/png": "[encoded data removed]",
      "text/plain": [
       "<Figure size 216x180 with 2 Axes>"
      ]
     },
     "metadata": {},
     "output_type": "display_data"
    }
   ],
   "source": [
    "neurons = spikes.index.values\n",
    "neuron_pair_1 = (neurons[1], neurons[2])\n",
    "neuron_pair_2 = (neurons[22], neurons[23])\n",
    "\n",
    "f = plt.figure(figsize=(3, 2.5))\n",
    "axes = f.subplots(2, 1, sharex=True, sharey=False)\n",
    "\n",
    "plot_lineplot(\n",
    "    spikes, \n",
    "    neuron_pair_1, \n",
    "    ax=axes[0], \n",
    "    sigma=2, \n",
    "    colors=(\"#5ba886\", \"#a85b7d\"),\n",
    "    linewidth=1.3,\n",
    "    alpha=0.85\n",
    ")\n",
    "plot_lineplot(\n",
    "    spikes, \n",
    "    neuron_pair_2, \n",
    "    ax=axes[1], \n",
    "    sigma=2, \n",
    "    colors=(\"#5b6ea8\", \"#a8955b\"),\n",
    "    linewidth=1.3,\n",
    "    alpha=0.85\n",
    ")\n",
    "\n",
    "axes[1].set_xticks(np.arange(0, 1801, 600))\n",
    "axes[1].xaxis.set_major_formatter(plt.FuncFormatter(lambda x, p: int(x / 60)))\n",
    "sns.despine(fig=f)\n",
    "f.tight_layout()\n",
    "\n",
    "f.savefig(fig_dir / \"example correlated pair.png\", dpi=300)"
   ]
  },
  {
   "cell_type": "code",
   "execution_count": 136,
   "metadata": {},
   "outputs": [
    {
     "data": {
      "image/png": "[encoded data removed]",
      "text/plain": [
       "<Figure size 144x180 with 2 Axes>"
      ]
     },
     "metadata": {},
     "output_type": "display_data"
    }
   ],
   "source": [
    "f = plt.figure(figsize=(2, 2.5))\n",
    "\n",
    "ax = f.subplots()\n",
    "\n",
    "plot_affinity(df_affinity, ax=ax, cbar_kws = dict(use_gridspec=False,location=\"top\"))\n",
    "ax.axis(\"off\")\n",
    "\n",
    "f.savefig(fig_dir / \"example ensemble matrix.png\", dpi=300)"
   ]
  },
  {
   "cell_type": "code",
   "execution_count": 149,
   "metadata": {},
   "outputs": [
    {
     "data": {
      "image/png": "[encoded data removed]",
      "text/plain": [
       "<Figure size 180x165.6 with 2 Axes>"
      ]
     },
     "metadata": {},
     "output_type": "display_data"
    }
   ],
   "source": [
    "f = plt.figure(figsize=(2.5, 2.3))\n",
    "\n",
    "ax = f.subplots()\n",
    "\n",
    "plot_spikes(spikes, ax=ax, cbar_kws = dict(use_gridspec=True,location=\"top\"), yticklabels=[])\n",
    "ax.set_xticks(np.arange(0, 1801, 600))\n",
    "ax.set_xticklabels(ax.get_xticklabels(), rotation=0)\n",
    "ax.xaxis.set_major_formatter(plt.FuncFormatter(lambda x, p: int(x / 60)))\n",
    "ax.set_ylabel(\"\")\n",
    "ax.set_xlabel(\"Time (min)\")\n",
    "\n",
    "f.savefig(fig_dir / \"example ensemble spike heatmap.png\", dpi=300)"
   ]
  },
  {
   "cell_type": "markdown",
   "metadata": {},
   "source": [
    "### Example Ensemble Stability\n",
    "\n",
    "- Correlation matrix and heatmap"
   ]
  },
  {
   "cell_type": "code",
   "execution_count": null,
   "metadata": {},
   "outputs": [],
   "source": []
  },
  {
   "cell_type": "markdown",
   "metadata": {},
   "source": [
    "### Interactions By Bin Width\n",
    "\n",
    "- Point plot v shuffle\n",
    "- Facet grid by rows\n",
    "- Rsc, number of ensembles, sequenciness"
   ]
  },
  {
   "cell_type": "code",
   "execution_count": null,
   "metadata": {},
   "outputs": [],
   "source": []
  },
  {
   "cell_type": "markdown",
   "metadata": {},
   "source": [
    "### Interactions Prediction\n",
    "\n",
    "- Proportion of neurons in hued by whether they are in an ensemble\n",
    "- Edge weight predicted by neuron type combination and distance\n",
    "- Ensemble membership by distance and neuron type combination"
   ]
  },
  {
   "cell_type": "code",
   "execution_count": null,
   "metadata": {},
   "outputs": [],
   "source": []
  },
  {
   "cell_type": "markdown",
   "metadata": {},
   "source": [
    "### Stability Props\n",
    "\n",
    "- Node ensemble MI\n",
    "- Edge correlation"
   ]
  },
  {
   "cell_type": "code",
   "execution_count": null,
   "metadata": {},
   "outputs": [],
   "source": []
  }
 ],
 "metadata": {
  "kernelspec": {
   "display_name": "Python 3.8.13 ('drn38')",
   "language": "python",
   "name": "python3"
  },
  "language_info": {
   "codemirror_mode": {
    "name": "ipython",
    "version": 3
   },
   "file_extension": ".py",
   "mimetype": "text/x-python",
   "name": "python",
   "nbconvert_exporter": "python",
   "pygments_lexer": "ipython3",
   "version": "3.8.13"
  },
  "orig_nbformat": 4,
  "vscode": {
   "interpreter": {
    "hash": "83d85788087be4ab95a62fa43e95c13744f0a02d6feebc555b96a547158d0970"
   }
  }
 },
 "nbformat": 4,
 "nbformat_minor": 2
}
