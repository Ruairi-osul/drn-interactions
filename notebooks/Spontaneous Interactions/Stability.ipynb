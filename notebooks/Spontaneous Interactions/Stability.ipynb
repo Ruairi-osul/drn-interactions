{
 "cells": [
  {
   "cell_type": "code",
   "execution_count": 1,
   "metadata": {},
   "outputs": [],
   "source": [
    "from drn_interactions.interactions.loaders import SpontaneousActivityLoader\n",
    "from drn_interactions.interactions.preprocessors import InteractionsPreprocessor\n",
    "from drn_interactions.interactions.pairwise import PairwiseCorr, PairwisePartialCorr\n",
    "from drn_interactions.interactions.popcup import PopulationCoupling\n",
    "from drn_interactions.interactions.runners import InteractionsRunner\n",
    "from drn_interactions.interactions.graph_clustering import df_to_graph, ClusterEvaluation, ClusterRunner, SpectralCluster\n",
    "from drn_interactions.config import Config, ExperimentInfo\n",
    "import numpy as np\n",
    "from drn_interactions.interactions.graph import GraphAttributes, NodeAttributes\n",
    "import pandas as pd\n",
    "import seaborn as sns\n",
    "from drn_interactions.io import load_derived_generic, load_distances, load_neurons\n",
    "from drn_interactions.transforms.graph import GraphTransformer\n",
    "import warnings\n",
    "\n",
    "from scipy.stats import spearmanr\n",
    "from ezbootstrap import bs_pairs\n",
    "from sklearn.metrics import adjusted_mutual_info_score\n",
    "import ezbootstrap as ez\n"
   ]
  },
  {
   "cell_type": "code",
   "execution_count": 2,
   "metadata": {},
   "outputs": [],
   "source": [
    "first_half = (0, 900)\n",
    "second_half = (900, 1800)\n",
    "start_stops = (first_half, second_half)"
   ]
  },
  {
   "cell_type": "code",
   "execution_count": 3,
   "metadata": {},
   "outputs": [],
   "source": [
    "# pairwise\n",
    "\n",
    "neuron_types = load_derived_generic(\"neuron_types.csv\")[\n",
    "    [\"neuron_id\", \"neuron_type\", \"session_name\"]\n",
    "]\n",
    "sessions = neuron_types[\"session_name\"].dropna().unique()\n",
    "res_corr = []\n",
    "\n",
    "loader_fac = lambda t_start, t_stop: SpontaneousActivityLoader(\n",
    "    session_name=sessions[0], bin_width=1, shuffle=False, t_start=t_start, t_stop=t_stop\n",
    ")\n",
    "preprocessor_fac = lambda: InteractionsPreprocessor(\n",
    "    z=True, minmax=False, gaussian_sigma=None\n",
    ")\n",
    "corr_fac = lambda: PairwiseCorr()\n",
    "\n",
    "runner_fac = lambda t_start, t_stop: InteractionsRunner(\n",
    "    loader=loader_fac(t_start=t_start, t_stop=t_stop),\n",
    "    preprocessor=preprocessor_fac(),\n",
    "    corr=corr_fac(),\n",
    ")\n",
    "\n",
    "\n",
    "for t_start, t_stop in start_stops:\n",
    "    runner = runner_fac(t_start=t_start, t_stop=t_stop)\n",
    "    res_corr.append(runner.run_corr_multi(sessions).assign(t_start=t_start))\n",
    "\n",
    "rsc = (\n",
    "    pd.concat(res_corr)\n",
    "    .reset_index(drop=True)\n",
    "    .rename(columns=dict(corr=\"value\"))\n",
    "    .assign(metric=\"rsc\")\n",
    "    .assign(mag=lambda x: np.abs(x[\"value\"]))\n",
    ")"
   ]
  },
  {
   "cell_type": "code",
   "execution_count": 5,
   "metadata": {},
   "outputs": [],
   "source": [
    "# ensembles\n",
    "\n",
    "sessions = load_neurons()[\"session_name\"].dropna().unique()\n",
    "\n",
    "preprocessor = InteractionsPreprocessor(\n",
    "    z=True, \n",
    "    minmax=False\n",
    "    )\n",
    "evaluator = ClusterEvaluation()\n",
    "\n",
    "loader_fac = lambda session, t_start, t_stop: SpontaneousActivityLoader(\n",
    "    bin_width=1, session_name=session, shuffle=False, t_start=t_start, t_stop=t_stop\n",
    ")\n",
    "corr_fac = lambda: PairwiseCorr(\n",
    "    remove_self_interactions=True,\n",
    "    rectify=True,\n",
    "    shuffle=False,\n",
    "    remove_duplicate_combs=True,\n",
    ")\n",
    "cluster_fac = lambda: SpectralCluster(\n",
    "    n_clusters=np.arange(2, 8), spectral_kws={\"affinity\": \"precomputed\"}, n_init=20\n",
    ")\n",
    "\n",
    "runner_fac = lambda session, t_start, t_stop: ClusterRunner(\n",
    "    loader=loader_fac(session, t_start=t_start, t_stop=t_stop),\n",
    "    preprocessor=preprocessor,\n",
    "    affinity_calculator=corr_fac(),\n",
    "    clusterer=cluster_fac(),\n",
    "    evalulator=evaluator,\n",
    ")\n",
    "\n",
    "\n",
    "ensemble_frames = []\n",
    "ensemble_stats_frames = []\n",
    "current_max = 1\n",
    "nboot = 10\n",
    "\n",
    "\n",
    "for t_start, t_stop in start_stops:\n",
    "    for session in sessions:\n",
    "        runner = runner_fac(session, t_start=t_start, t_stop=t_stop)\n",
    "        with warnings.catch_warnings():\n",
    "            warnings.simplefilter(\"ignore\")\n",
    "            _, ensembles, _, ensemble_stats = runner.run(nboot)\n",
    "\n",
    "        # update ensembles to global max\n",
    "        ensembles[\"ensemble\"] = np.where(\n",
    "            ensembles[\"ensemble\"] != -1, ensembles[\"ensemble\"] + current_max, -1\n",
    "        )\n",
    "        ensemble_stats[\"ensemble\"] = np.where(\n",
    "            ensemble_stats[\"ensemble\"] != -1,\n",
    "            ensemble_stats[\"ensemble\"] + current_max,\n",
    "            -1,\n",
    "        )\n",
    "        current_max = ensembles[\"ensemble\"].abs().max() + 1\n",
    "\n",
    "        # add metadata and append to list of results\n",
    "        ensembles = ensembles.assign(\n",
    "            session_name=session, t_start=t_start,\n",
    "        )\n",
    "        ensemble_stats = ensemble_stats.assign(\n",
    "            session_name=session, t_start=t_start,\n",
    "        )\n",
    "        ensemble_stats_frames.append(ensemble_stats)\n",
    "        ensemble_frames.append(ensembles)\n",
    "\n",
    "\n",
    "df_ensembles = pd.concat(ensemble_frames).reset_index(drop=True)\n",
    "df_ensembles_stats = pd.concat(ensemble_stats_frames).reset_index(drop=True)"
   ]
  },
  {
   "cell_type": "code",
   "execution_count": 66,
   "metadata": {},
   "outputs": [],
   "source": [
    "df_ens = df_ensembles.copy()\n",
    "\n",
    "df_ens[\"ensemble_id\"] = df_ens[\"ensemble\"]\n",
    "df_ens[\"in_ensemble\"] = np.where(df_ens[\"ensemble_id\"] == -1, False, True)"
   ]
  },
  {
   "cell_type": "code",
   "execution_count": 122,
   "metadata": {},
   "outputs": [],
   "source": [
    "# graph\n",
    "\n",
    "graph_attrs = GraphAttributes(inverse_distance=True)\n",
    "node_attrs = NodeAttributes()\n",
    "\n",
    "neuron_types = load_derived_generic(\"neuron_types.csv\")[\n",
    "    [\"neuron_id\", \"neuron_type\", \"session_name\"]\n",
    "]\n",
    "df_distance = load_distances()\n",
    "sessions = neuron_types[\"session_name\"].dropna().unique()\n",
    "\n",
    "graph_dfs = []\n",
    "node_dfs = []\n",
    "edge_dfs = []\n",
    "\n",
    "for t_start, t_stop in start_stops:\n",
    "    g_transform = GraphTransformer(\n",
    "        relabel_nodes=True,\n",
    "        weight_attr=\"weight\",\n",
    "        neuron_types=neuron_types,\n",
    "        df_distance=df_distance,\n",
    "        df_ensemble=df_ens.loc[lambda x: x.t_start == t_start],\n",
    "    )\n",
    "\n",
    "    for session in sessions:\n",
    "        loader = SpontaneousActivityLoader(\n",
    "            session_name=session, bin_width=1, block=\"pre\", t_start=t_start, t_stop=t_stop\n",
    "        )\n",
    "        preprocessor = InteractionsPreprocessor()\n",
    "        pairwise = PairwiseCorr(rectify=True, shuffle=False)\n",
    "\n",
    "        spikes = preprocessor(loader())\n",
    "        df_affinity = (\n",
    "            pairwise.fit(spikes)\n",
    "            .get_adjacency_df()\n",
    "            .dropna(axis=1, thresh=5)\n",
    "            .dropna(axis=0, thresh=5)\n",
    "        )\n",
    "        G = df_to_graph(df_affinity, rename_nodes=True)\n",
    "        graph_stats = graph_attrs.get_graph_attributes(G).assign(session=session, t_start=t_start)\n",
    "        node_stats = node_attrs.get_node_attributes(G, node_name=\"neuron_id\").assign(\n",
    "            session=session, t_start=t_start\n",
    "        )\n",
    "        edge_stats =g_transform.graph_to_edge_df(G).assign(session=session, t_start=t_start)\n",
    "\n",
    "        graph_dfs.append(graph_stats)\n",
    "        node_dfs.append(node_stats)\n",
    "        edge_dfs.append(edge_stats)\n",
    "\n",
    "df_graph = pd.concat(graph_dfs).reset_index(drop=True)\n",
    "df_node = pd.concat(node_dfs).reset_index(drop=True).merge(neuron_types[[\"neuron_id\", \"neuron_type\"]], how=\"left\")\n",
    "df_node = df_node.merge(df_ens[[\"neuron_id\", \"in_ensemble\", ]], how=\"left\")\n",
    "df_edge = pd.concat(edge_dfs).reset_index(drop=True)"
   ]
  },
  {
   "cell_type": "code",
   "execution_count": 106,
   "metadata": {},
   "outputs": [
    {
     "name": "stderr",
     "output_type": "stream",
     "text": [
      "/opt/miniconda3/envs/drn/lib/python3.8/site-packages/ezbootstrap/core.py:157: UserWarning: Numba compilation failed. Reverting to pure python\n",
      "  warnings.warn(\"Numba compilation failed. Reverting to pure python\")\n",
      "/opt/miniconda3/envs/drn/lib/python3.8/site-packages/ezbootstrap/core.py:209: UserWarning: Numba compilation failed. Reverting to pure python\n",
      "  warnings.warn(\"Numba compilation failed. Reverting to pure python\")\n"
     ]
    },
    {
     "data": {
      "text/plain": [
       "<AxesSubplot:xlabel='variable', ylabel='value'>"
      ]
     },
     "execution_count": 106,
     "metadata": {},
     "output_type": "execute_result"
    },
    {
     "data": {
      "image/png": "[encoded data removed]",
      "text/plain": [
       "<Figure size 432x288 with 1 Axes>"
      ]
     },
     "metadata": {
      "needs_background": "light"
     },
     "output_type": "display_data"
    }
   ],
   "source": [
    "# Ensemble overlap:\n",
    "\n",
    "# -  if no ensembles in both, return \n",
    "# -  if ensembles in one but not the other, return\n",
    "# -  if ensembles in both, return MI score\n",
    "\n",
    "\n",
    "\n",
    "\n",
    "df_mi = (\n",
    "    df_ens\n",
    "    .pivot(index=[\"session_name\", \"neuron_id\"], columns=\"t_start\", values=\"ensemble_id\")\n",
    "    .reset_index()\n",
    "    .rename(columns={0: \"first_half\", 900: \"second_half\"})\n",
    "    .dropna()\n",
    ")\n",
    "\n",
    "# obs = adjusted_mutual_info_score(df_mi[\"first_half\"], df_mi[\"second_half\"])\n",
    "obs_reps = bs_pairs(\n",
    "    df_mi[\"first_half\"].values,\n",
    "    df_mi[\"second_half\"].values,\n",
    "    adjusted_mutual_info_score,\n",
    "    size=1000,\n",
    ")\n",
    "\n",
    "\n",
    "reps = ez.permutation_2sample_independent(\n",
    "    df_mi[\"first_half\"].values, \n",
    "    df_mi[\"second_half\"].values, \n",
    "    adjusted_mutual_info_score,\n",
    "    size=1000)\n",
    "\n",
    "pd.DataFrame({\"obs\": obs_reps, \"reps\": reps}).melt().pipe((sns.barplot, \"data\"), x=\"variable\", y=\"value\", hue=\"variable\", estimator=np.median, errwidth=2)"
   ]
  },
  {
   "cell_type": "code",
   "execution_count": 95,
   "metadata": {},
   "outputs": [
    {
     "name": "stderr",
     "output_type": "stream",
     "text": [
      "/opt/miniconda3/envs/drn/lib/python3.8/site-packages/ezbootstrap/core.py:157: UserWarning: Numba compilation failed. Reverting to pure python\n",
      "  warnings.warn(\"Numba compilation failed. Reverting to pure python\")\n",
      "/opt/miniconda3/envs/drn/lib/python3.8/site-packages/ezbootstrap/core.py:209: UserWarning: Numba compilation failed. Reverting to pure python\n",
      "  warnings.warn(\"Numba compilation failed. Reverting to pure python\")\n"
     ]
    },
    {
     "data": {
      "text/plain": [
       "<AxesSubplot:xlabel='variable', ylabel='value'>"
      ]
     },
     "execution_count": 95,
     "metadata": {},
     "output_type": "execute_result"
    },
    {
     "data": {
      "image/png": "[encoded data removed]",
      "text/plain": [
       "<Figure size 432x288 with 1 Axes>"
      ]
     },
     "metadata": {
      "needs_background": "light"
     },
     "output_type": "display_data"
    }
   ],
   "source": [
    "\n",
    "\n",
    "df_weight = (\n",
    "    df_node.drop_duplicates()\n",
    "    .pivot(index=[\"session\", \"neuron_id\"], columns=\"t_start\", values=\"degree\")\n",
    "    .reset_index()\n",
    "    .rename(columns={0: \"first_half\", 900: \"second_half\"})\n",
    "    .dropna()\n",
    ")\n",
    "\n",
    "\n",
    "# obs = spearmanr(df_weight[\"first_half\"], df_weight[\"second_half\"]).correlation\n",
    "obs_reps = bs_pairs(\n",
    "    df_weight[\"first_half\"].values,\n",
    "    df_weight[\"second_half\"].values,\n",
    "    lambda x, y: spearmanr(x, y).correlation,\n",
    "    size=1000,\n",
    ")\n",
    "\n",
    "shuf_reps = ez.permutation_2sample_independent(\n",
    "    df_weight[\"first_half\"].values,\n",
    "    df_weight[\"second_half\"].values,\n",
    "    lambda x, y: spearmanr(x, y).correlation,\n",
    "    size=1000,\n",
    ")\n",
    "\n",
    "pd.DataFrame({\"obs\": obs_reps, \"reps\": shuf_reps}).melt().pipe((sns.barplot, \"data\"), x=\"variable\", y=\"value\", hue=\"variable\", estimator=np.median)"
   ]
  },
  {
   "cell_type": "code",
   "execution_count": 96,
   "metadata": {},
   "outputs": [
    {
     "name": "stderr",
     "output_type": "stream",
     "text": [
      "/opt/miniconda3/envs/drn/lib/python3.8/site-packages/ezbootstrap/core.py:157: UserWarning: Numba compilation failed. Reverting to pure python\n",
      "  warnings.warn(\"Numba compilation failed. Reverting to pure python\")\n",
      "/opt/miniconda3/envs/drn/lib/python3.8/site-packages/ezbootstrap/core.py:209: UserWarning: Numba compilation failed. Reverting to pure python\n",
      "  warnings.warn(\"Numba compilation failed. Reverting to pure python\")\n"
     ]
    },
    {
     "data": {
      "text/plain": [
       "<AxesSubplot:xlabel='variable', ylabel='value'>"
      ]
     },
     "execution_count": 96,
     "metadata": {},
     "output_type": "execute_result"
    },
    {
     "data": {
      "image/png": "[encoded data removed]",
      "text/plain": [
       "<Figure size 432x288 with 1 Axes>"
      ]
     },
     "metadata": {
      "needs_background": "light"
     },
     "output_type": "display_data"
    }
   ],
   "source": [
    "df_clust = (\n",
    "    df_node.drop_duplicates()\n",
    "    .pivot(index=[\"session\", \"neuron_id\"], columns=\"t_start\", values=\"clust\")\n",
    "    .reset_index()\n",
    "    .rename(columns={0: \"first_half\", 900: \"second_half\"})\n",
    "    .dropna()\n",
    ")\n",
    "\n",
    "\n",
    "obs = spearmanr(df_clust[\"first_half\"], df_clust[\"second_half\"]).correlation\n",
    "obs_reps = bs_pairs(\n",
    "    df_clust[\"first_half\"].values,\n",
    "    df_clust[\"second_half\"].values,\n",
    "    lambda x, y: spearmanr(x, y).correlation,\n",
    "    size=1000,\n",
    ")\n",
    "\n",
    "shuf_reps = ez.permutation_2sample_independent(\n",
    "    df_clust[\"first_half\"].values,\n",
    "    df_clust[\"second_half\"].values,\n",
    "    lambda x, y: spearmanr(x, y).correlation,\n",
    "    size=1000,\n",
    ")\n",
    "\n",
    "pd.DataFrame({\"obs\": obs_reps, \"reps\": shuf_reps}).melt().pipe((sns.barplot, \"data\"), x=\"variable\", y=\"value\", hue=\"variable\", estimator=np.median)"
   ]
  },
  {
   "cell_type": "code",
   "execution_count": 102,
   "metadata": {},
   "outputs": [
    {
     "name": "stderr",
     "output_type": "stream",
     "text": [
      "/opt/miniconda3/envs/drn/lib/python3.8/site-packages/ezbootstrap/core.py:157: UserWarning: Numba compilation failed. Reverting to pure python\n",
      "  warnings.warn(\"Numba compilation failed. Reverting to pure python\")\n",
      "/opt/miniconda3/envs/drn/lib/python3.8/site-packages/ezbootstrap/core.py:209: UserWarning: Numba compilation failed. Reverting to pure python\n",
      "  warnings.warn(\"Numba compilation failed. Reverting to pure python\")\n"
     ]
    },
    {
     "data": {
      "text/plain": [
       "<AxesSubplot:xlabel='variable', ylabel='value'>"
      ]
     },
     "execution_count": 102,
     "metadata": {},
     "output_type": "execute_result"
    },
    {
     "data": {
      "image/png": "[encoded data removed]",
      "text/plain": [
       "<Figure size 432x288 with 1 Axes>"
      ]
     },
     "metadata": {
      "needs_background": "light"
     },
     "output_type": "display_data"
    }
   ],
   "source": [
    "\n",
    "df_weight = (\n",
    "    df_edge\n",
    "    [[\"session\", \"comb_id\", \"t_start\", \"weight\"]]\n",
    "    .drop_duplicates()\n",
    "    .pivot(index=[\"session\", \"comb_id\"], columns=\"t_start\", values=\"weight\")\n",
    "    .reset_index()\n",
    "    .rename(columns={0: \"first_half\", 900: \"second_half\"})\n",
    "    .dropna()\n",
    ")\n",
    "\n",
    "\n",
    "obs_reps = bs_pairs(\n",
    "    df_weight[\"first_half\"].values,\n",
    "    df_weight[\"second_half\"].values,\n",
    "    lambda x, y: spearmanr(x, y).correlation,\n",
    "    size=1000,\n",
    ")\n",
    "\n",
    "shuf_reps = ez.permutation_2sample_independent(\n",
    "    df_weight[\"first_half\"].values,\n",
    "    df_weight[\"second_half\"].values,\n",
    "    lambda x, y: spearmanr(x, y).correlation,\n",
    "    size=1000,\n",
    ")\n",
    "\n",
    "pd.DataFrame({\"obs\": obs_reps, \"reps\": shuf_reps}).melt().pipe((sns.barplot, \"data\"), x=\"variable\", y=\"value\", hue=\"variable\", estimator=np.median)"
   ]
  },
  {
   "cell_type": "code",
   "execution_count": 123,
   "metadata": {},
   "outputs": [
    {
     "name": "stderr",
     "output_type": "stream",
     "text": [
      "/opt/miniconda3/envs/drn/lib/python3.8/site-packages/ezbootstrap/core.py:157: UserWarning: Numba compilation failed. Reverting to pure python\n",
      "  warnings.warn(\"Numba compilation failed. Reverting to pure python\")\n",
      "/opt/miniconda3/envs/drn/lib/python3.8/site-packages/ezbootstrap/core.py:209: UserWarning: Numba compilation failed. Reverting to pure python\n",
      "  warnings.warn(\"Numba compilation failed. Reverting to pure python\")\n"
     ]
    },
    {
     "data": {
      "text/plain": [
       "<AxesSubplot:xlabel='variable', ylabel='value'>"
      ]
     },
     "execution_count": 123,
     "metadata": {},
     "output_type": "execute_result"
    },
    {
     "data": {
      "image/png": "[encoded data removed]",
      "text/plain": [
       "<Figure size 432x288 with 1 Axes>"
      ]
     },
     "metadata": {
      "needs_background": "light"
     },
     "output_type": "display_data"
    }
   ],
   "source": [
    "\n",
    "\n",
    "df_weight = (\n",
    "    df_edge\n",
    "    [[\"session\", \"comb_id\", \"t_start\", \"same_ensemble\"]]\n",
    "    .drop_duplicates()\n",
    "    .pivot(index=[\"session\", \"comb_id\"], columns=\"t_start\", values=\"same_ensemble\")\n",
    "    .reset_index()\n",
    "    .rename(columns={0: \"first_half\", 900: \"second_half\"})\n",
    "    .dropna()\n",
    ")\n",
    "\n",
    "\n",
    "obs_reps = bs_pairs(\n",
    "    df_weight[\"first_half\"].values,\n",
    "    df_weight[\"second_half\"].values,\n",
    "    adjusted_mutual_info_score,\n",
    "    size=1000,\n",
    ")\n",
    "\n",
    "shuf_reps = ez.permutation_2sample_independent(\n",
    "    df_weight[\"first_half\"].values,\n",
    "    df_weight[\"second_half\"].values,\n",
    "    adjusted_mutual_info_score,\n",
    "    size=1000,\n",
    ")\n",
    "\n",
    "pd.DataFrame({\"obs\": obs_reps, \"reps\": shuf_reps}).melt().pipe((sns.barplot, \"data\"), x=\"variable\", y=\"value\", hue=\"variable\", estimator=np.median)"
   ]
  },
  {
   "cell_type": "code",
   "execution_count": 124,
   "metadata": {},
   "outputs": [
    {
     "name": "stderr",
     "output_type": "stream",
     "text": [
      "/opt/miniconda3/envs/drn/lib/python3.8/site-packages/ezbootstrap/core.py:157: UserWarning: Numba compilation failed. Reverting to pure python\n",
      "  warnings.warn(\"Numba compilation failed. Reverting to pure python\")\n",
      "/opt/miniconda3/envs/drn/lib/python3.8/site-packages/ezbootstrap/core.py:209: UserWarning: Numba compilation failed. Reverting to pure python\n",
      "  warnings.warn(\"Numba compilation failed. Reverting to pure python\")\n"
     ]
    },
    {
     "data": {
      "text/plain": [
       "<AxesSubplot:xlabel='variable', ylabel='value'>"
      ]
     },
     "execution_count": 124,
     "metadata": {},
     "output_type": "execute_result"
    },
    {
     "data": {
      "image/png": "[encoded data removed]",
      "text/plain": [
       "<Figure size 432x288 with 1 Axes>"
      ]
     },
     "metadata": {
      "needs_background": "light"
     },
     "output_type": "display_data"
    }
   ],
   "source": [
    "from scipy.stats import spearmanr\n",
    "from ezbootstrap import bs_pairs\n",
    "\n",
    "df_weight = (\n",
    "    df_edge\n",
    "    [[\"session\", \"comb_id\", \"t_start\", \"weight\"]]\n",
    "    .drop_duplicates()\n",
    "    .pivot(index=[\"session\", \"comb_id\"], columns=\"t_start\", values=\"weight\")\n",
    "    .reset_index()\n",
    "    .rename(columns={0: \"first_half\", 900: \"second_half\"})\n",
    "    .dropna()\n",
    ")\n",
    "\n",
    "\n",
    "obs_reps = bs_pairs(\n",
    "    df_weight[\"first_half\"].values,\n",
    "    df_weight[\"second_half\"].values,\n",
    "    lambda x, y: spearmanr(x, y).correlation,\n",
    "    size=1000,\n",
    ")\n",
    "\n",
    "shuf_reps = ez.permutation_2sample_independent(\n",
    "    df_weight[\"first_half\"].values,\n",
    "    df_weight[\"second_half\"].values,\n",
    "    lambda x, y: spearmanr(x, y).correlation,\n",
    "    size=1000,\n",
    ")\n",
    "\n",
    "pd.DataFrame({\"obs\": obs_reps, \"reps\": shuf_reps}).melt().pipe((sns.barplot, \"data\"), x=\"variable\", y=\"value\", hue=\"variable\", estimator=np.median)"
   ]
  },
  {
   "cell_type": "code",
   "execution_count": 125,
   "metadata": {},
   "outputs": [],
   "source": [
    "df_ensembles.to_csv(\n",
    "    Config.derived_data_dir / \"ensembles_first_half_second_half.csv\", index=False\n",
    ")"
   ]
  }
 ],
 "metadata": {
  "kernelspec": {
   "display_name": "Python 3.8.13 ('drn')",
   "language": "python",
   "name": "python3"
  },
  "language_info": {
   "codemirror_mode": {
    "name": "ipython",
    "version": 3
   },
   "file_extension": ".py",
   "mimetype": "text/x-python",
   "name": "python",
   "nbconvert_exporter": "python",
   "pygments_lexer": "ipython3",
   "version": "3.8.13"
  },
  "orig_nbformat": 4,
  "vscode": {
   "interpreter": {
    "hash": "a141ff61fc8e5477d761678b9939730228dd63e8e5dabf1901cb4084a0e2e4d6"
   }
  }
 },
 "nbformat": 4,
 "nbformat_minor": 2
}
