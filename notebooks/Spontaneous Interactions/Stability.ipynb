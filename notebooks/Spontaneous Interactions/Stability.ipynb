{
 "cells": [
  {
   "cell_type": "code",
   "execution_count": 28,
   "metadata": {},
   "outputs": [],
   "source": [
    "from drn_interactions.interactions.loaders import SpontaneousActivityLoader\n",
    "from drn_interactions.interactions.preprocessors import InteractionsPreprocessor\n",
    "from drn_interactions.interactions.pairwise import PairwiseCorr, PairwisePartialCorr\n",
    "from drn_interactions.interactions.popcup import PopulationCoupling\n",
    "from drn_interactions.interactions.runners import InteractionsRunner\n",
    "from drn_interactions.interactions.graph_clustering import df_to_graph, ClusterEvaluation, ClusterRunner, SpectralCluster\n",
    "from drn_interactions.config import Config, ExperimentInfo\n",
    "import numpy as np\n",
    "from drn_interactions.interactions.graph import GraphAttributes, NodeAttributes\n",
    "import pandas as pd\n",
    "import seaborn as sns\n",
    "from drn_interactions.io import load_derived_generic, load_distances, load_neurons\n",
    "from drn_interactions.transforms.graph import GraphTransformer\n",
    "import warnings\n",
    "\n",
    "from scipy.stats import spearmanr\n",
    "from ezbootstrap import bs_pairs\n",
    "from sklearn.metrics import adjusted_mutual_info_score\n",
    "import ezbootstrap as ez\n",
    "\n",
    "\n",
    "def mean_se(x, round=2):\n",
    "    return f\"{np.round(x.mean(), round)}, {np.round(np.std(x), round)}\""
   ]
  },
  {
   "cell_type": "code",
   "execution_count": 4,
   "metadata": {},
   "outputs": [],
   "source": [
    "first_half = (0, 900)\n",
    "second_half = (900, 1800)\n",
    "start_stops = (first_half, second_half)"
   ]
  },
  {
   "cell_type": "code",
   "execution_count": 5,
   "metadata": {},
   "outputs": [],
   "source": [
    "# pairwise\n",
    "\n",
    "neuron_types = load_derived_generic(\"neuron_types.csv\")[\n",
    "    [\"neuron_id\", \"neuron_type\", \"session_name\"]\n",
    "]\n",
    "sessions = neuron_types[\"session_name\"].dropna().unique()\n",
    "res_corr = []\n",
    "\n",
    "loader_fac = lambda t_start, t_stop: SpontaneousActivityLoader(\n",
    "    session_name=sessions[0], bin_width=1, shuffle=False, t_start=t_start, t_stop=t_stop\n",
    ")\n",
    "preprocessor_fac = lambda: InteractionsPreprocessor(\n",
    "    z=True, minmax=False, gaussian_sigma=None\n",
    ")\n",
    "corr_fac = lambda: PairwiseCorr()\n",
    "\n",
    "runner_fac = lambda t_start, t_stop: InteractionsRunner(\n",
    "    loader=loader_fac(t_start=t_start, t_stop=t_stop),\n",
    "    preprocessor=preprocessor_fac(),\n",
    "    corr=corr_fac(),\n",
    ")\n",
    "\n",
    "\n",
    "for t_start, t_stop in start_stops:\n",
    "    runner = runner_fac(t_start=t_start, t_stop=t_stop)\n",
    "    res_corr.append(runner.run_corr_multi(sessions).assign(t_start=t_start))\n",
    "\n",
    "rsc = (\n",
    "    pd.concat(res_corr)\n",
    "    .reset_index(drop=True)\n",
    "    .rename(columns=dict(corr=\"value\"))\n",
    "    .assign(metric=\"rsc\")\n",
    "    .assign(mag=lambda x: np.abs(x[\"value\"]))\n",
    ")"
   ]
  },
  {
   "cell_type": "code",
   "execution_count": 6,
   "metadata": {},
   "outputs": [],
   "source": [
    "# ensembles\n",
    "\n",
    "sessions = load_neurons()[\"session_name\"].dropna().unique()\n",
    "\n",
    "preprocessor = InteractionsPreprocessor(\n",
    "    z=True, \n",
    "    minmax=False\n",
    "    )\n",
    "evaluator = ClusterEvaluation()\n",
    "\n",
    "loader_fac = lambda session, t_start, t_stop: SpontaneousActivityLoader(\n",
    "    bin_width=1, session_name=session, shuffle=False, t_start=t_start, t_stop=t_stop\n",
    ")\n",
    "corr_fac = lambda: PairwiseCorr(\n",
    "    remove_self_interactions=True,\n",
    "    rectify=True,\n",
    "    shuffle=False,\n",
    "    remove_duplicate_combs=True,\n",
    ")\n",
    "cluster_fac = lambda: SpectralCluster(\n",
    "    n_clusters=np.arange(2, 6), spectral_kws={\"affinity\": \"precomputed\"}, n_init=3\n",
    ")\n",
    "\n",
    "runner_fac = lambda session, t_start, t_stop: ClusterRunner(\n",
    "    loader=loader_fac(session, t_start=t_start, t_stop=t_stop),\n",
    "    preprocessor=preprocessor,\n",
    "    affinity_calculator=corr_fac(),\n",
    "    clusterer=cluster_fac(),\n",
    "    evalulator=evaluator,\n",
    ")\n",
    "\n",
    "\n",
    "ensemble_frames = []\n",
    "ensemble_stats_frames = []\n",
    "current_max = 1\n",
    "nboot = 5\n",
    "\n",
    "\n",
    "for t_start, t_stop in start_stops:\n",
    "    for session in sessions:\n",
    "        runner = runner_fac(session, t_start=t_start, t_stop=t_stop)\n",
    "        with warnings.catch_warnings():\n",
    "            warnings.simplefilter(\"ignore\")\n",
    "            _, ensembles, _, ensemble_stats = runner.run(nboot)\n",
    "\n",
    "        # update ensembles to global max\n",
    "        ensembles[\"ensemble\"] = np.where(\n",
    "            ensembles[\"ensemble\"] != -1, ensembles[\"ensemble\"] + current_max, -1\n",
    "        )\n",
    "        ensemble_stats[\"ensemble\"] = np.where(\n",
    "            ensemble_stats[\"ensemble\"] != -1,\n",
    "            ensemble_stats[\"ensemble\"] + current_max,\n",
    "            -1,\n",
    "        )\n",
    "        current_max = ensembles[\"ensemble\"].abs().max() + 1\n",
    "\n",
    "        # add metadata and append to list of results\n",
    "        ensembles = ensembles.assign(\n",
    "            session_name=session, t_start=t_start,\n",
    "        )\n",
    "        ensemble_stats = ensemble_stats.assign(\n",
    "            session_name=session, t_start=t_start,\n",
    "        )\n",
    "        ensemble_stats_frames.append(ensemble_stats)\n",
    "        ensemble_frames.append(ensembles)\n",
    "\n",
    "\n",
    "df_ensembles = pd.concat(ensemble_frames).reset_index(drop=True)\n",
    "df_ensembles_stats = pd.concat(ensemble_stats_frames).reset_index(drop=True)"
   ]
  },
  {
   "cell_type": "code",
   "execution_count": 7,
   "metadata": {},
   "outputs": [],
   "source": [
    "df_ens = df_ensembles.copy()\n",
    "\n",
    "df_ens[\"ensemble_id\"] = df_ens[\"ensemble\"]\n",
    "df_ens[\"in_ensemble\"] = np.where(df_ens[\"ensemble_id\"] == -1, False, True)"
   ]
  },
  {
   "cell_type": "code",
   "execution_count": 8,
   "metadata": {},
   "outputs": [],
   "source": [
    "# graph\n",
    "\n",
    "graph_attrs = GraphAttributes(inverse_distance=True)\n",
    "node_attrs = NodeAttributes()\n",
    "\n",
    "neuron_types = load_derived_generic(\"neuron_types.csv\")[\n",
    "    [\"neuron_id\", \"neuron_type\", \"session_name\"]\n",
    "]\n",
    "df_distance = load_distances()\n",
    "sessions = neuron_types[\"session_name\"].dropna().unique()\n",
    "\n",
    "graph_dfs = []\n",
    "node_dfs = []\n",
    "edge_dfs = []\n",
    "\n",
    "for t_start, t_stop in start_stops:\n",
    "    g_transform = GraphTransformer(\n",
    "        relabel_nodes=True,\n",
    "        weight_attr=\"weight\",\n",
    "        neuron_types=neuron_types,\n",
    "        df_distance=df_distance,\n",
    "        df_ensemble=df_ens.loc[lambda x: x.t_start == t_start],\n",
    "    )\n",
    "\n",
    "    for session in sessions:\n",
    "        loader = SpontaneousActivityLoader(\n",
    "            session_name=session, bin_width=1, block=\"pre\", t_start=t_start, t_stop=t_stop\n",
    "        )\n",
    "        preprocessor = InteractionsPreprocessor()\n",
    "        pairwise = PairwiseCorr(rectify=True, shuffle=False)\n",
    "\n",
    "        spikes = preprocessor(loader())\n",
    "        df_affinity = (\n",
    "            pairwise.fit(spikes)\n",
    "            .get_adjacency_df()\n",
    "            .dropna(axis=1, thresh=5)\n",
    "            .dropna(axis=0, thresh=5)\n",
    "        )\n",
    "        G = df_to_graph(df_affinity, rename_nodes=True)\n",
    "        graph_stats = graph_attrs.get_graph_attributes(G).assign(session=session, t_start=t_start)\n",
    "        node_stats = node_attrs.get_node_attributes(G, node_name=\"neuron_id\").assign(\n",
    "            session=session, t_start=t_start\n",
    "        )\n",
    "        edge_stats =g_transform.graph_to_edge_df(G).assign(session=session, t_start=t_start)\n",
    "\n",
    "        graph_dfs.append(graph_stats)\n",
    "        node_dfs.append(node_stats)\n",
    "        edge_dfs.append(edge_stats)\n",
    "\n",
    "df_graph = pd.concat(graph_dfs).reset_index(drop=True)\n",
    "df_node = pd.concat(node_dfs).reset_index(drop=True).merge(neuron_types[[\"neuron_id\", \"neuron_type\"]], how=\"left\")\n",
    "df_node = df_node.merge(df_ens[[\"neuron_id\", \"in_ensemble\", ]], how=\"left\")\n",
    "df_edge = pd.concat(edge_dfs).reset_index(drop=True)"
   ]
  },
  {
   "cell_type": "markdown",
   "metadata": {},
   "source": [
    "#### Node Ensemble Status"
   ]
  },
  {
   "cell_type": "code",
   "execution_count": 32,
   "metadata": {},
   "outputs": [
    {
     "name": "stderr",
     "output_type": "stream",
     "text": [
      "c:\\Users\\roryl\\.conda\\envs\\drn-interactions\\lib\\site-packages\\ezbootstrap\\core.py:157: UserWarning: Numba compilation failed. Reverting to pure python\n",
      "  warnings.warn(\"Numba compilation failed. Reverting to pure python\")\n"
     ]
    },
    {
     "name": "stdout",
     "output_type": "stream",
     "text": [
      "0.55, 0.02\n"
     ]
    }
   ],
   "source": [
    "df_mi = (\n",
    "    df_ens\n",
    "    .pivot(index=[\"session_name\", \"neuron_id\"], columns=\"t_start\", values=\"ensemble_id\")\n",
    "    .reset_index()\n",
    "    .rename(columns={0: \"first_half\", 900: \"second_half\"})\n",
    "    .dropna()\n",
    ")\n",
    "\n",
    "# obs = adjusted_mutual_info_score(df_mi[\"first_half\"], df_mi[\"second_half\"])\n",
    "obs_reps = bs_pairs(\n",
    "    df_mi[\"first_half\"].values,\n",
    "    df_mi[\"second_half\"].values,\n",
    "    adjusted_mutual_info_score,\n",
    "    size=1000,\n",
    ")\n",
    "\n",
    "\n",
    "print(mean_se(obs_reps, round=2))"
   ]
  },
  {
   "cell_type": "markdown",
   "metadata": {},
   "source": [
    "#### Node Degree"
   ]
  },
  {
   "cell_type": "code",
   "execution_count": 33,
   "metadata": {},
   "outputs": [
    {
     "name": "stderr",
     "output_type": "stream",
     "text": [
      "c:\\Users\\roryl\\.conda\\envs\\drn-interactions\\lib\\site-packages\\ezbootstrap\\core.py:157: UserWarning: Numba compilation failed. Reverting to pure python\n",
      "  warnings.warn(\"Numba compilation failed. Reverting to pure python\")\n"
     ]
    },
    {
     "name": "stdout",
     "output_type": "stream",
     "text": [
      "0.5, 0.04\n"
     ]
    }
   ],
   "source": [
    "df_weight = (\n",
    "    df_node\n",
    "    [[\"session\", \"neuron_id\", \"t_start\", \"degree\"]]\n",
    "    .drop_duplicates()\n",
    "    .pivot(index=[\"session\", \"neuron_id\"], columns=\"t_start\", values=\"degree\")\n",
    "    .reset_index()\n",
    "    .rename(columns={0: \"first_half\", 900: \"second_half\"})\n",
    "    .dropna()\n",
    ")\n",
    "\n",
    "\n",
    "# obs = spearmanr(df_weight[\"first_half\"], df_weight[\"second_half\"]).correlation\n",
    "obs_reps = bs_pairs(\n",
    "    df_weight[\"first_half\"].values,\n",
    "    df_weight[\"second_half\"].values,\n",
    "    lambda x, y: spearmanr(x, y).correlation,\n",
    "    size=1000,\n",
    ")\n",
    "\n",
    "print(mean_se(obs_reps, round=2))"
   ]
  },
  {
   "cell_type": "markdown",
   "metadata": {},
   "source": [
    "#### Node Clustering"
   ]
  },
  {
   "cell_type": "code",
   "execution_count": 34,
   "metadata": {},
   "outputs": [
    {
     "name": "stderr",
     "output_type": "stream",
     "text": [
      "c:\\Users\\roryl\\.conda\\envs\\drn-interactions\\lib\\site-packages\\ezbootstrap\\core.py:157: UserWarning: Numba compilation failed. Reverting to pure python\n",
      "  warnings.warn(\"Numba compilation failed. Reverting to pure python\")\n"
     ]
    },
    {
     "name": "stdout",
     "output_type": "stream",
     "text": [
      "0.43, 0.04\n"
     ]
    }
   ],
   "source": [
    "df_clust = (\n",
    "    df_node\n",
    "    [[\"session\", \"neuron_id\", \"t_start\", \"clust\"]]\n",
    "    .drop_duplicates()\n",
    "    .pivot(index=[\"session\", \"neuron_id\"], columns=\"t_start\", values=\"clust\")\n",
    "    .reset_index()\n",
    "    .rename(columns={0: \"first_half\", 900: \"second_half\"})\n",
    "    .dropna()\n",
    ")\n",
    "\n",
    "\n",
    "obs = spearmanr(df_clust[\"first_half\"], df_clust[\"second_half\"]).correlation\n",
    "obs_reps = bs_pairs(\n",
    "    df_clust[\"first_half\"].values,\n",
    "    df_clust[\"second_half\"].values,\n",
    "    lambda x, y: spearmanr(x, y).correlation,\n",
    "    size=1000,\n",
    ")\n",
    "\n",
    "print(mean_se(obs_reps, round=2))"
   ]
  },
  {
   "cell_type": "markdown",
   "metadata": {},
   "source": [
    "#### Edge Weight"
   ]
  },
  {
   "cell_type": "code",
   "execution_count": 35,
   "metadata": {},
   "outputs": [
    {
     "name": "stderr",
     "output_type": "stream",
     "text": [
      "c:\\Users\\roryl\\.conda\\envs\\drn-interactions\\lib\\site-packages\\ezbootstrap\\core.py:157: UserWarning: Numba compilation failed. Reverting to pure python\n",
      "  warnings.warn(\"Numba compilation failed. Reverting to pure python\")\n"
     ]
    },
    {
     "name": "stdout",
     "output_type": "stream",
     "text": [
      "0.48, 0.01\n"
     ]
    }
   ],
   "source": [
    "\n",
    "df_weight = (\n",
    "    df_edge\n",
    "    [[\"session\", \"comb_id\", \"t_start\", \"weight\"]]\n",
    "    .drop_duplicates()\n",
    "    .pivot(index=[\"session\", \"comb_id\"], columns=\"t_start\", values=\"weight\")\n",
    "    .reset_index()\n",
    "    .rename(columns={0: \"first_half\", 900: \"second_half\"})\n",
    "    .dropna()\n",
    ")\n",
    "\n",
    "\n",
    "obs_reps = bs_pairs(\n",
    "    df_weight[\"first_half\"].values,\n",
    "    df_weight[\"second_half\"].values,\n",
    "    lambda x, y: spearmanr(x, y).correlation,\n",
    "    size=1000,\n",
    ")\n",
    "\n",
    "print(mean_se(obs_reps, round=2))"
   ]
  },
  {
   "cell_type": "markdown",
   "metadata": {},
   "source": [
    "#### Edge Ensemble Status"
   ]
  },
  {
   "cell_type": "code",
   "execution_count": 37,
   "metadata": {},
   "outputs": [
    {
     "name": "stderr",
     "output_type": "stream",
     "text": [
      "c:\\Users\\roryl\\.conda\\envs\\drn-interactions\\lib\\site-packages\\ezbootstrap\\core.py:157: UserWarning: Numba compilation failed. Reverting to pure python\n",
      "  warnings.warn(\"Numba compilation failed. Reverting to pure python\")\n"
     ]
    },
    {
     "name": "stdout",
     "output_type": "stream",
     "text": [
      "0.01, 0.0\n"
     ]
    }
   ],
   "source": [
    "df_weight = (\n",
    "    df_edge\n",
    "    [[\"session\", \"comb_id\", \"t_start\", \"same_ensemble\"]]\n",
    "    .drop_duplicates()\n",
    "    .pivot(index=[\"session\", \"comb_id\"], columns=\"t_start\", values=\"same_ensemble\")\n",
    "    .reset_index()\n",
    "    .rename(columns={0: \"first_half\", 900: \"second_half\"})\n",
    "    .dropna()\n",
    ")\n",
    "\n",
    "\n",
    "obs_reps = bs_pairs(\n",
    "    df_weight[\"first_half\"].values,\n",
    "    df_weight[\"second_half\"].values,\n",
    "    adjusted_mutual_info_score,\n",
    "    size=1000,\n",
    ")\n",
    "print(mean_se(obs_reps, round=2))"
   ]
  },
  {
   "cell_type": "markdown",
   "metadata": {},
   "source": [
    "#### Edge Weight"
   ]
  },
  {
   "cell_type": "code",
   "execution_count": 38,
   "metadata": {},
   "outputs": [
    {
     "name": "stderr",
     "output_type": "stream",
     "text": [
      "c:\\Users\\roryl\\.conda\\envs\\drn-interactions\\lib\\site-packages\\ezbootstrap\\core.py:157: UserWarning: Numba compilation failed. Reverting to pure python\n",
      "  warnings.warn(\"Numba compilation failed. Reverting to pure python\")\n"
     ]
    },
    {
     "name": "stdout",
     "output_type": "stream",
     "text": [
      "0.48, 0.01\n"
     ]
    }
   ],
   "source": [
    "df_weight = (\n",
    "    df_edge\n",
    "    [[\"session\", \"comb_id\", \"t_start\", \"weight\"]]\n",
    "    .drop_duplicates()\n",
    "    .pivot(index=[\"session\", \"comb_id\"], columns=\"t_start\", values=\"weight\")\n",
    "    .reset_index()\n",
    "    .rename(columns={0: \"first_half\", 900: \"second_half\"})\n",
    "    .dropna()\n",
    ")\n",
    "\n",
    "\n",
    "obs_reps = bs_pairs(\n",
    "    df_weight[\"first_half\"].values,\n",
    "    df_weight[\"second_half\"].values,\n",
    "    lambda x, y: spearmanr(x, y).correlation,\n",
    "    size=1000,\n",
    ")\n",
    "\n",
    "print(mean_se(obs_reps, round=2))"
   ]
  },
  {
   "cell_type": "code",
   "execution_count": 125,
   "metadata": {},
   "outputs": [],
   "source": [
    "df_ensembles.to_csv(\n",
    "    Config.derived_data_dir / \"ensembles_first_half_second_half.csv\", index=False\n",
    ")"
   ]
  },
  {
   "cell_type": "markdown",
   "metadata": {},
   "source": [
    "## Example Figure"
   ]
  },
  {
   "cell_type": "code",
   "execution_count": 103,
   "metadata": {},
   "outputs": [],
   "source": [
    "from drn_interactions.interactions.loaders import SpontaneousActivityLoader\n",
    "from drn_interactions.interactions.preprocessors import InteractionsPreprocessor\n",
    "from drn_interactions.interactions.pairwise import PairwiseCorr\n",
    "from drn_interactions.interactions.graph_clustering import df_to_graph\n",
    "import seaborn as sns\n",
    "import matplotlib.pyplot as plt\n",
    "from drn_interactions.io import load_derived_generic, load_distances\n",
    "from drn_interactions.transforms.graph import GraphTransformer\n",
    "from drn_interactions.transforms.spikes import SpikesHandler\n",
    "from sklearn.preprocessing import minmax_scale, robust_scale\n",
    "from sklearn.feature_extraction.text import TfidfTransformer\n",
    "from scipy.ndimage import gaussian_filter1d\n",
    "\n",
    "\n",
    "def reorder_df_affinity(df, ensemble_labels):\n",
    "    idx = np.argsort(ensemble_labels)\n",
    "    return df.iloc[idx, idx]\n",
    "\n",
    "def reorder_spikes(df, ensemble_labels):\n",
    "    idx = np.argsort(ensemble_labels)\n",
    "    return df.iloc[idx, :]\n",
    "\n",
    "\n",
    "def get_affinity(session_name, t_start=0, t_stop=1800, rectify=True):\n",
    "    loader = SpontaneousActivityLoader(session_name=session_name, t_start=t_start, t_stop=t_stop)\n",
    "    preprocessor = InteractionsPreprocessor(z=True)\n",
    "    mod = PairwiseCorr(rectify=rectify)\n",
    "\n",
    "    spikes = preprocessor(loader())\n",
    "    return mod.fit(spikes).get_adjacency_df()\n",
    "\n",
    "def plot_affinity(df_affinity, ax, vmax=None, **kwargs):\n",
    "    sns.heatmap(df_affinity, cmap=\"viridis\", vmin=0, vmax=vmax, robust=True, ax=ax, **kwargs)\n",
    "    return ax\n",
    "\n",
    "def plot_spikes(spikes, ax, vmax=None, **kwargs):\n",
    "    sns.heatmap(spikes, cmap=\"Greys\", vmin=0, vmax=vmax, robust=True, ax=ax, **kwargs)\n",
    "    return ax\n",
    "\n",
    "def get_session_labels(df_ensembles, session_name):\n",
    "    return df_ensembles.loc[lambda x: (x.session_name == session_name) & (x.t_start == 0)].sort_values(\"neuron_id\")[\"ensemble\"].values\n",
    "\n",
    "\n",
    "def get_spikes(session_name, t_start=0, t_stop=1800):\n",
    "    spikes = SpikesHandler(\n",
    "        block=\"pre\",\n",
    "        bin_width=1,\n",
    "        t_start=t_start,\n",
    "        t_stop=t_stop,\n",
    "        session_names=[session_name],\n",
    "    ).binned_piv\n",
    "    vals = TfidfTransformer().fit_transform(spikes).todense()\n",
    "    spikes = pd.DataFrame(vals, columns=spikes.columns, index=spikes.index).apply(minmax_scale).T\n",
    "    return spikes"
   ]
  },
  {
   "cell_type": "code",
   "execution_count": 89,
   "metadata": {},
   "outputs": [],
   "source": [
    "sns.set_theme(style=\"ticks\", context=\"paper\")\n",
    "fig_dir = Config.fig_dir"
   ]
  },
  {
   "cell_type": "code",
   "execution_count": 90,
   "metadata": {},
   "outputs": [
    {
     "name": "stdout",
     "output_type": "stream",
     "text": [
      "['ESHOCK_03_LOC1', 'ESHOCK_04_LOC1', 'ESHOCK_06_LOC1', 'ESHOCK_07_LOC1', 'ESHOCK_08_LOC1', 'ESHOCK_09_LOC1', 'hamilton_10', 'hamilton_03', 'hamilton_04', 'hamilton_09', 'hamilton_31', 'hamilton_38', nan, 'hamilton_37', 'hamilton_35', 'hamilton_36', 'hamilton_32', 'acute_15', 'acute_16', 'acute_01', 'acute_14', 'acute_12', 'acute_11']\n"
     ]
    }
   ],
   "source": [
    "df_ensembles = pd.read_csv(Config.derived_data_dir / \"ensembles_first_half_second_half.csv\")\n",
    "neuron_types = load_derived_generic(\"neuron_types.csv\")\n",
    "sessions = neuron_types[\"session_name\"].unique()\n",
    "print(sessions.tolist())"
   ]
  },
  {
   "cell_type": "code",
   "execution_count": 107,
   "metadata": {},
   "outputs": [],
   "source": [
    "session = \"acute_15\"\n",
    "\n",
    "labs = get_session_labels(df_ensembles, session)\n",
    "df_affinity_first_half = reorder_df_affinity(get_affinity(session, t_start=0, t_stop=900), labs)\n",
    "df_affinity_second_half = reorder_df_affinity(get_affinity(session, t_start=900, t_stop=1800), labs)\n",
    "\n"
   ]
  },
  {
   "cell_type": "code",
   "execution_count": 108,
   "metadata": {},
   "outputs": [
    {
     "data": {
      "text/plain": [
       "(0.0, 30.0, 30.0, 0.0)"
      ]
     },
     "execution_count": 108,
     "metadata": {},
     "output_type": "execute_result"
    },
    {
     "data": {
      "image/png": "[encoded data removed]",
      "text/plain": [
       "<Figure size 576x288 with 2 Axes>"
      ]
     },
     "metadata": {},
     "output_type": "display_data"
    }
   ],
   "source": [
    "_, ax = plt.subplots(1, 2, figsize=(8, 4))\n",
    "\n",
    "plot_affinity(df_affinity_first_half, ax=ax[0], cbar=False)\n",
    "ax[0].axis(\"off\")\n",
    "plot_affinity(df_affinity_second_half, ax=ax[1], cbar=False)\n",
    "ax[1].axis(\"off\")"
   ]
  },
  {
   "cell_type": "code",
   "execution_count": 110,
   "metadata": {},
   "outputs": [
    {
     "data": {
      "text/plain": [
       "Text(0.5, -3.3000000000000007, 'Time (min)')"
      ]
     },
     "execution_count": 110,
     "metadata": {},
     "output_type": "execute_result"
    },
    {
     "data": {
      "image/png": "[encoded data removed]",
      "text/plain": [
       "<Figure size 288x144 with 1 Axes>"
      ]
     },
     "metadata": {},
     "output_type": "display_data"
    }
   ],
   "source": [
    "_, ax = plt.subplots(1, figsize=(4, 2))\n",
    "\n",
    "spikes = get_spikes(session)\n",
    "spikes = reorder_spikes(spikes, labs)\n",
    "plot_spikes(spikes, ax=ax, cbar=False)\n",
    "\n",
    "ax.set_xticks(np.arange(0, 1801, 600))\n",
    "ax.set_xticklabels(ax.get_xticklabels(), rotation=0)\n",
    "ax.xaxis.set_major_formatter(plt.FuncFormatter(lambda x, p: int(x / 60)))\n",
    "ax.set_ylabel(\"\")\n",
    "ax.set_xlabel(\"Time (min)\")"
   ]
  },
  {
   "cell_type": "code",
   "execution_count": 68,
   "metadata": {},
   "outputs": [
    {
     "data": {
      "text/plain": [
       "array([34, 35], dtype=int64)"
      ]
     },
     "execution_count": 68,
     "metadata": {},
     "output_type": "execute_result"
    }
   ],
   "source": [
    "get_session_labels(df_ensembles, session).unique()"
   ]
  },
  {
   "cell_type": "code",
   "execution_count": 65,
   "metadata": {},
   "outputs": [
    {
     "name": "stdout",
     "output_type": "stream",
     "text": [
      "\u001b[1;31mSignature:\u001b[0m \u001b[0mget_session_labels\u001b[0m\u001b[1;33m(\u001b[0m\u001b[0mdf_ensembles\u001b[0m\u001b[1;33m,\u001b[0m \u001b[0msession_name\u001b[0m\u001b[1;33m)\u001b[0m\u001b[1;33m\u001b[0m\u001b[1;33m\u001b[0m\u001b[0m\n",
      "\u001b[1;31mDocstring:\u001b[0m <no docstring>\n",
      "\u001b[1;31mFile:\u001b[0m      c:\\users\\roryl\\repos\\drn interactions\\notebooks\\spontaneous interactions\\<ipython-input-47-61456d754b09>\n",
      "\u001b[1;31mType:\u001b[0m      function\n"
     ]
    }
   ],
   "source": [
    "?get_session_labels"
   ]
  },
  {
   "cell_type": "code",
   "execution_count": null,
   "metadata": {},
   "outputs": [],
   "source": []
  }
 ],
 "metadata": {
  "kernelspec": {
   "display_name": "Python 3.6.13 ('drn-interactions')",
   "language": "python",
   "name": "python3"
  },
  "language_info": {
   "codemirror_mode": {
    "name": "ipython",
    "version": 3
   },
   "file_extension": ".py",
   "mimetype": "text/x-python",
   "name": "python",
   "nbconvert_exporter": "python",
   "pygments_lexer": "ipython3",
   "version": "3.6.13"
  },
  "orig_nbformat": 4,
  "vscode": {
   "interpreter": {
    "hash": "595626f471715c1ef1767721af1162754763b18b459b8364279c934890ae0eae"
   }
  }
 },
 "nbformat": 4,
 "nbformat_minor": 2
}
