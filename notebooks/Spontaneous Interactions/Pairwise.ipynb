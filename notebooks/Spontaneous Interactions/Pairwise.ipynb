{
 "cells": [
  {
   "cell_type": "code",
   "execution_count": 1,
   "metadata": {},
   "outputs": [],
   "source": [
    "import pandas as pd\n",
    "from drn_interactions.config import Config\n",
    "from drn_interactions.interactions.popcup import PopulationCoupling\n",
    "from drn_interactions.interactions.preprocessors import InteractionsPreprocessor\n",
    "from drn_interactions.interactions.loaders import SpontaneousActivityLoader\n",
    "from drn_interactions.interactions.pairwise import PairwiseCorr, PairwisePartialCorr\n",
    "from drn_interactions.interactions.runners import InteractionsRunner\n",
    "from drn_interactions.io import load_derived_generic\n",
    "from drn_interactions.config import Config\n",
    "\n",
    "dd = Config.derived_data_dir / \"corrs\"\n",
    "dd.mkdir(exist_ok=True)"
   ]
  },
  {
   "cell_type": "markdown",
   "metadata": {},
   "source": [
    "## Get Pairwise Interactions"
   ]
  },
  {
   "cell_type": "code",
   "execution_count": null,
   "metadata": {},
   "outputs": [],
   "source": [
    "neuron_types = load_derived_generic(\"neuron_types.csv\")\n",
    "sessions = neuron_types[\"session_name\"].dropna().unique()\n",
    "\n",
    "res_corr = []\n",
    "res_pcorr = []\n",
    "res_pcup = []\n",
    "bin_widths = [0.05, 0.1, 0.5, 1, 2, 5]\n",
    "\n",
    "loader_fac = lambda bin_width: SpontaneousActivityLoader(\n",
    "    session_name=sessions[0], bin_width=bin_width\n",
    ")\n",
    "preprocessor_fac = lambda: InteractionsPreprocessor(\n",
    "    z=True, minmax=False, gaussian_sigma=None\n",
    ")\n",
    "corr_fac = lambda: PairwiseCorr()\n",
    "pcorr_fac = lambda: PairwisePartialCorr()\n",
    "pcup_fac = lambda: PopulationCoupling()\n",
    "\n",
    "runner_fac = lambda bin_width: InteractionsRunner(\n",
    "    loader=loader_fac(bin_width),\n",
    "    preprocessor=preprocessor_fac(),\n",
    "    pcup=pcup_fac(),\n",
    "    corr=corr_fac(),\n",
    "    pcorr=pcorr_fac(),\n",
    ")\n",
    "for bin_width in bin_widths:\n",
    "    runner = runner_fac(bin_width)\n",
    "    res_pcorr.append(runner.run_pcorr_multi(sessions).assign(bin_width=bin_width))\n",
    "    res_corr.append(runner.run_corr_multi(sessions).assign(bin_width=bin_width))\n",
    "    res_pcup.append(runner.run_pcup_multi(sessions).assign(bin_width=bin_width))\n",
    "\n",
    "res_corr = pd.concat(res_corr).reset_index(drop=True)\n",
    "res_pcorr = pd.concat(res_pcorr).reset_index(drop=True)\n",
    "res_pcup = pd.concat(res_pcup).reset_index(drop=True)\n",
    "\n",
    "res_pcorr.to_csv(dd / \"spont - pcorr.csv\", index=False)\n",
    "res_corr.to_csv(dd / \"spont - corr.csv\", index=False)\n",
    "res_pcup.to_csv(dd / \"spont - pcup.csv\", index=False)"
   ]
  },
  {
   "cell_type": "code",
   "execution_count": null,
   "metadata": {},
   "outputs": [],
   "source": [
    "runner = runner_fac(1)\n",
    "pcorr_reps = runner.pcorr_bootstrap_multi(sessions=sessions, n_boot=100)\n",
    "corr_reps = runner.corr_bootstrap_multi(sessions=sessions, n_boot=100)\n",
    "pcup_reps = runner.pcup_bootstrap_multi(sessions=sessions, n_boot=100)\n",
    "\n",
    "pcorr_reps.to_parquet(\n",
    "    dd / \"spont - pcorr_reps.parquet.gzip\", index=False, compression=\"gzip\"\n",
    ")\n",
    "corr_reps.to_parquet(\n",
    "    dd / \"spont - corr_reps.parquet.gzip\", index=False, compression=\"gzip\"\n",
    ")\n",
    "pcup_reps.to_parquet(\n",
    "    dd / \"spont - pcup_reps.parquet.gzip\", index=False, compression=\"gzip\"\n",
    ")\n"
   ]
  },
  {
   "cell_type": "code",
   "execution_count": 137,
   "metadata": {},
   "outputs": [
    {
     "name": "stderr",
     "output_type": "stream",
     "text": [
      "/opt/miniconda3/envs/drn/lib/python3.8/site-packages/numpy/core/fromnumeric.py:3474: RuntimeWarning: Mean of empty slice.\n",
      "  return _methods._mean(a, axis=axis, dtype=dtype,\n",
      "/opt/miniconda3/envs/drn/lib/python3.8/site-packages/numpy/core/_methods.py:189: RuntimeWarning: invalid value encountered in double_scalars\n",
      "  ret = ret.dtype.type(ret / rcount)\n"
     ]
    }
   ],
   "source": [
    "import numpy as np\n",
    "from drn_interactions.stats import p_adjust\n",
    "\n",
    "def get_p(row: pd.Series, reps: pd.DataFrame, value_col: str, comb_col: str = \"comb\"):\n",
    "    obs = row[value_col]\n",
    "    comb = row[comb_col]\n",
    "    rep_vals = reps.query(f\"{comb_col} == @comb\")[value_col].values\n",
    "    p = np.mean(np.abs(rep_vals) > np.abs(obs))\n",
    "    return p\n",
    "\n",
    "\n",
    "pcorr_reps = pd.read_parquet(dd / \"spont - pcorr_reps.parquet.gzip\")\n",
    "corr_reps = pd.read_parquet(dd / \"spont - corr_reps.parquet.gzip\")\n",
    "pcup_reps = pd.read_parquet(dd / \"spont - pcup_reps.parquet.gzip\")\n",
    "\n",
    "pcorr_obs = load_derived_generic(\"corrs/spont - pcorr.csv\").query(\"bin_width == 1\")\n",
    "corr_obs = load_derived_generic(\"corrs/spont - corr.csv\").query(\"bin_width == 1\")\n",
    "pcup_obs = load_derived_generic(\"corrs/spont - pcup.csv\").query(\"bin_width == 1\")\n",
    "\n",
    "\n",
    "pcorr_obs[\"p\"] = p_adjust(pcorr_obs.apply(get_p, reps=pcorr_reps, value_col=\"pcorr\", axis=1))\n",
    "corr_obs[\"p\"] = p_adjust(corr_obs.apply(get_p, reps=corr_reps, value_col=\"corr\", axis=1))\n",
    "pcup_obs[\"p\"] = p_adjust(pcup_obs.apply(get_p, reps=pcup_reps, value_col=\"cc\", comb_col=\"neuron_id\", axis=1))\n",
    "\n",
    "\n",
    "pcorr_obs[\"sig\"] = pcorr_obs[\"p\"] < 0.05\n",
    "corr_obs[\"sig\"] = corr_obs[\"p\"] < 0.05\n",
    "pcup_obs[\"sig\"] = pcup_obs[\"p\"] < 0.05\n",
    "\n",
    "pcorr_obs.to_csv(dd / \"spont - pcorr - 1s.csv\", index=False)\n",
    "corr_obs.to_csv(dd / \"spont - corr - 1s.csv\", index=False)\n",
    "pcup_obs.to_csv(dd / \"spont - pcup - 1s.csv\", index=False)"
   ]
  },
  {
   "cell_type": "code",
   "execution_count": 138,
   "metadata": {},
   "outputs": [],
   "source": [
    "from drn_interactions.transforms.graph import GraphTransformer\n",
    "\n",
    "\n",
    "neuron_types = load_derived_generic(\"neuron_types.csv\")\n",
    "\n",
    "corr_obs_nt = GraphTransformer()._add_neuron_type_comb_col(\n",
    "    df_edge=corr_obs,\n",
    "    df_neuron_types=neuron_types,\n",
    "    source_col=\"neuron_1\",\n",
    "    target_col=\"neuron_2\",\n",
    ")\n",
    "\n",
    "pcorr_obs_nt = GraphTransformer()._add_neuron_type_comb_col(\n",
    "    df_edge=pcorr_obs,\n",
    "    df_neuron_types=neuron_types,\n",
    "    source_col=\"neuron_1\",\n",
    "    target_col=\"neuron_2\",\n",
    ")"
   ]
  },
  {
   "cell_type": "code",
   "execution_count": 139,
   "metadata": {},
   "outputs": [
    {
     "data": {
      "image/png": "[encoded data removed]",
      "text/plain": [
       "<Figure size 144x432 with 6 Axes>"
      ]
     },
     "metadata": {
      "needs_background": "light"
     },
     "output_type": "display_data"
    }
   ],
   "source": [
    "from drn_interactions.plots import PAL_GREY_BLACK\n",
    "import seaborn as sns\n",
    "\n",
    "row_order = (\n",
    "    \"SR-SR\",\n",
    "    \"SR-SIR\",\n",
    "    \"SR-FF\",\n",
    "    \"SIR-SIR\",\n",
    "    \"SIR-FF\",\n",
    "    \"FF-FF\"\n",
    ")\n",
    "g = sns.FacetGrid(\n",
    "    row=\"nt_comb\", \n",
    "    data=corr_obs_nt, \n",
    "    aspect=2, \n",
    "    height=1, \n",
    "    sharey=False,\n",
    "    row_order=row_order,\n",
    "    )\n",
    "\n",
    "g.map_dataframe(\n",
    "    sns.histplot, \n",
    "    x=\"corr\", \n",
    "    hue=\"sig\", \n",
    "    bins=np.arange(-1, 1, 0.05),\n",
    "    palette=PAL_GREY_BLACK[::-1],\n",
    "    multiple=\"stack\",\n",
    "    )\n",
    "\n",
    "\n",
    "g.refline(x=0, linewidth=2, linestyle=\"-\", color=\"red\", clip_on=False)\n",
    "\n",
    "g.set_titles(\"\")\n",
    "g.set_xlabels(\"Spike Count Correlation\")\n",
    "\n",
    "for lab, ax in g.axes_dict.items():\n",
    "    ax.set_ylabel(lab)\n",
    "\n",
    "g.figure.align_ylabels()"
   ]
  },
  {
   "cell_type": "code",
   "execution_count": 140,
   "metadata": {},
   "outputs": [
    {
     "data": {
      "image/png": "[encoded data removed]",
      "text/plain": [
       "<Figure size 144x432 with 6 Axes>"
      ]
     },
     "metadata": {
      "needs_background": "light"
     },
     "output_type": "display_data"
    }
   ],
   "source": [
    "g = sns.FacetGrid(\n",
    "    row=\"nt_comb\", \n",
    "    data=pcorr_obs_nt, \n",
    "    aspect=2, \n",
    "    height=1, \n",
    "    sharey=False,\n",
    "    row_order=row_order,\n",
    "    )\n",
    "\n",
    "g.map_dataframe(\n",
    "    sns.histplot, \n",
    "    x=\"pcorr\", \n",
    "    hue=\"sig\", \n",
    "    bins=np.arange(-1, 1, 0.05),\n",
    "    palette=PAL_GREY_BLACK[::-1],\n",
    "    multiple=\"stack\",\n",
    "    )\n",
    "\n",
    "\n",
    "g.refline(x=0, linewidth=2, linestyle=\"-\", color=\"red\", clip_on=False)\n",
    "\n",
    "g.set_titles(\"\")\n",
    "g.set_xlabels(\"Spike Count Correlation\")\n",
    "\n",
    "for lab, ax in g.axes_dict.items():\n",
    "    ax.set_ylabel(lab)\n",
    "\n",
    "g.figure.align_ylabels()"
   ]
  },
  {
   "cell_type": "code",
   "execution_count": 141,
   "metadata": {},
   "outputs": [
    {
     "data": {
      "text/plain": [
       "<seaborn.axisgrid.FacetGrid at 0x2912216d0>"
      ]
     },
     "execution_count": 141,
     "metadata": {},
     "output_type": "execute_result"
    },
    {
     "data": {
      "image/png": "[encoded data removed]",
      "text/plain": [
       "<Figure size 388.8x144 with 3 Axes>"
      ]
     },
     "metadata": {
      "needs_background": "light"
     },
     "output_type": "display_data"
    }
   ],
   "source": [
    "pcup_nt = pcup_obs.dropna().merge(neuron_types, on=\"neuron_id\")\n",
    "\n",
    "g = sns.FacetGrid(\n",
    "    col=\"neuron_type\", \n",
    "    data=pcup_nt, \n",
    "    aspect=0.9, \n",
    "    height=2, \n",
    "    sharey=True,\n",
    "    row_order=(\"SR\", \"SIR\", \"FF\"),\n",
    "    )\n",
    "\n",
    "g.map_dataframe(\n",
    "    sns.histplot, \n",
    "    x=\"cc\", \n",
    "    hue=\"sig\", \n",
    "    bins=np.arange(-1, 1, 0.05),\n",
    "    palette=PAL_GREY_BLACK[::-1],\n",
    "    multiple=\"stack\",\n",
    "    )\n",
    "\n",
    "\n",
    "g.set_xlabels(\"Population Coupling\\nCoefficient\")\n",
    "g.figure.align_xlabels()\n",
    "g.refline(x=0, color=\"red\")\n",
    "g.set_titles(\"{col_name}\")\n",
    "g.set_ylabels(\"Neuron Count\")"
   ]
  },
  {
   "cell_type": "markdown",
   "metadata": {},
   "source": [
    "### Numbers"
   ]
  },
  {
   "cell_type": "code",
   "execution_count": 155,
   "metadata": {},
   "outputs": [],
   "source": [
    "# corr pcorr and pcup mag neuron type (and comb)\n",
    "# corr pcorr and pcup sig by neuron type\n",
    "import ezbootstrap as ez\n",
    "from drn_interactions.stats import se_mean\n",
    "\n",
    "nums_corr = (\n",
    "    corr_obs_nt\n",
    "    .assign(mag=lambda x: np.abs(x[\"corr\"]))\n",
    "    .groupby([\"nt_comb\"])\n",
    "    [\"corr\"]\n",
    "    .apply(lambda x: (x.mean().round(3), se_mean(x.values).round(3) ) )\n",
    ")\n",
    "\n",
    "nums_pcorr = (\n",
    "    pcorr_obs_nt\n",
    "    .assign(mag=lambda x: np.abs(x[\"pcorr\"]))\n",
    "    .groupby([\"nt_comb\"])\n",
    "    [\"pcorr\"]\n",
    "    .apply(lambda x: (x.mean().round(3), se_mean(x.values).round(3) ) )\n",
    ")\n",
    "\n",
    "nums_pcup = (\n",
    "    pcup_nt\n",
    "    .assign(mag=lambda x: np.abs(x[\"cc\"]))\n",
    "    .groupby([\"neuron_type\"])\n",
    "    [\"cc\"]\n",
    "    .apply(lambda x: (x.mean().round(3), se_mean(x.values).round(3) ) )\n",
    ")"
   ]
  },
  {
   "cell_type": "code",
   "execution_count": 162,
   "metadata": {},
   "outputs": [
    {
     "data": {
      "text/html": [
       "<div>\n",
       "<style scoped>\n",
       "    .dataframe tbody tr th:only-of-type {\n",
       "        vertical-align: middle;\n",
       "    }\n",
       "\n",
       "    .dataframe tbody tr th {\n",
       "        vertical-align: top;\n",
       "    }\n",
       "\n",
       "    .dataframe thead th {\n",
       "        text-align: right;\n",
       "    }\n",
       "</style>\n",
       "<table border=\"1\" class=\"dataframe\">\n",
       "  <thead>\n",
       "    <tr style=\"text-align: right;\">\n",
       "      <th></th>\n",
       "      <th>corr</th>\n",
       "      <th>pcorr</th>\n",
       "    </tr>\n",
       "    <tr>\n",
       "      <th>nt_comb</th>\n",
       "      <th></th>\n",
       "      <th></th>\n",
       "    </tr>\n",
       "  </thead>\n",
       "  <tbody>\n",
       "    <tr>\n",
       "      <th>SR-SR</th>\n",
       "      <td>(0.177, 0.007)</td>\n",
       "      <td>(0.015, 0.002)</td>\n",
       "    </tr>\n",
       "    <tr>\n",
       "      <th>SR-SIR</th>\n",
       "      <td>(0.102, 0.005)</td>\n",
       "      <td>(0.008, 0.002)</td>\n",
       "    </tr>\n",
       "    <tr>\n",
       "      <th>SR-FF</th>\n",
       "      <td>(0.178, 0.01)</td>\n",
       "      <td>(0.018, 0.003)</td>\n",
       "    </tr>\n",
       "    <tr>\n",
       "      <th>SIR-SIR</th>\n",
       "      <td>(0.101, 0.005)</td>\n",
       "      <td>(0.015, 0.002)</td>\n",
       "    </tr>\n",
       "    <tr>\n",
       "      <th>SIR-FF</th>\n",
       "      <td>(0.093, 0.009)</td>\n",
       "      <td>(0.011, 0.004)</td>\n",
       "    </tr>\n",
       "    <tr>\n",
       "      <th>FF-FF</th>\n",
       "      <td>(0.238, 0.02)</td>\n",
       "      <td>(0.048, 0.01)</td>\n",
       "    </tr>\n",
       "  </tbody>\n",
       "</table>\n",
       "</div>"
      ],
      "text/plain": [
       "                   corr           pcorr\n",
       "nt_comb                                \n",
       "SR-SR    (0.177, 0.007)  (0.015, 0.002)\n",
       "SR-SIR   (0.102, 0.005)  (0.008, 0.002)\n",
       "SR-FF     (0.178, 0.01)  (0.018, 0.003)\n",
       "SIR-SIR  (0.101, 0.005)  (0.015, 0.002)\n",
       "SIR-FF   (0.093, 0.009)  (0.011, 0.004)\n",
       "FF-FF     (0.238, 0.02)   (0.048, 0.01)"
      ]
     },
     "execution_count": 162,
     "metadata": {},
     "output_type": "execute_result"
    }
   ],
   "source": [
    "nums_pcorr.to_frame().join(nums_corr).iloc[::-1, ::-1]"
   ]
  },
  {
   "cell_type": "code",
   "execution_count": 158,
   "metadata": {},
   "outputs": [
    {
     "data": {
      "text/plain": [
       "neuron_type\n",
       "FF       (0.12, 0.02)\n",
       "SIR    (0.104, 0.011)\n",
       "SR     (0.114, 0.014)\n",
       "Name: cc, dtype: object"
      ]
     },
     "metadata": {},
     "output_type": "display_data"
    }
   ],
   "source": [
    "display(nums_pcup)"
   ]
  },
  {
   "cell_type": "code",
   "execution_count": null,
   "metadata": {},
   "outputs": [],
   "source": []
  }
 ],
 "metadata": {
  "kernelspec": {
   "display_name": "Python 3.8.13 ('drn')",
   "language": "python",
   "name": "python3"
  },
  "language_info": {
   "codemirror_mode": {
    "name": "ipython",
    "version": 3
   },
   "file_extension": ".py",
   "mimetype": "text/x-python",
   "name": "python",
   "nbconvert_exporter": "python",
   "pygments_lexer": "ipython3",
   "version": "3.8.13"
  },
  "orig_nbformat": 4,
  "vscode": {
   "interpreter": {
    "hash": "a141ff61fc8e5477d761678b9939730228dd63e8e5dabf1901cb4084a0e2e4d6"
   }
  }
 },
 "nbformat": 4,
 "nbformat_minor": 2
}
