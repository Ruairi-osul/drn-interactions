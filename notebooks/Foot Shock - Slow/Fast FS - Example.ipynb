{
 "cells": [
  {
   "cell_type": "code",
   "execution_count": 6,
   "metadata": {},
   "outputs": [],
   "source": [
    "from typing import Optional, Sequence, List, Dict, Any\n",
    "from drn_interactions.transforms import SpikesHandler\n",
    "from drn_interactions.io import load_derived_generic\n",
    "import numpy as np\n",
    "import pandas as pd\n",
    "import matplotlib.pyplot as plt\n",
    "import seaborn as sns"
   ]
  },
  {
   "cell_type": "code",
   "execution_count": 7,
   "metadata": {},
   "outputs": [],
   "source": [
    "# sns.set_theme(context=\"paper\", style=\"ticks\")"
   ]
  },
  {
   "cell_type": "code",
   "execution_count": 8,
   "metadata": {},
   "outputs": [],
   "source": [
    "# load data\n",
    "\n",
    "\n",
    "class SpikeTrainLoader:\n",
    "    def __init__(\n",
    "        self,\n",
    "        session_name: str,\n",
    "        duration: float = 5.0,\n",
    "        max_neurons: Optional[int] = None,\n",
    "        block=\"pre\",\n",
    "    ):\n",
    "        self.session_name = session_name\n",
    "        self.duration = duration\n",
    "        self.block = block\n",
    "        neurons = load_derived_generic(\"neuron_types.csv\").loc[\n",
    "            lambda x: x[\"session_name\"] == session_name\n",
    "        ]\n",
    "        self.max_neurons = max_neurons\n",
    "        self.neurons = neurons\n",
    "\n",
    "    def get_trians_by_type(self, t_start) -> Dict[str, List[np.ndarray]]:\n",
    "        types = self.neurons.neuron_type.unique()\n",
    "        trains = {}\n",
    "        for neuron_type in types:\n",
    "            neurons = self.neurons.loc[lambda x: x[\"neuron_type\"] == neuron_type][\n",
    "                \"neuron_id\"\n",
    "            ].values\n",
    "            trains[neuron_type] = self.get_trains(t_start, ids=neurons)\n",
    "        return trains\n",
    "\n",
    "    def get_trains(self, t_start, ids: Optional[Sequence] = None) -> List[np.ndarray]:\n",
    "        if ids is None:\n",
    "            ids = self.neurons[\"neuron_id\"].values\n",
    "\n",
    "        sh = SpikesHandler(\n",
    "            bin_width=1,\n",
    "            session_names=[self.session_name],\n",
    "            t_start=t_start,\n",
    "            t_stop=t_start + self.duration,\n",
    "            block=self.block,\n",
    "        )\n",
    "        df_spikes = sh.spikes.loc[lambda x: x[\"neuron_id\"].isin(ids)]\n",
    "        trains = [dfg[\"spiketimes\"].values for _, dfg in df_spikes.groupby(\"neuron_id\")]\n",
    "        trains = trains[: self.max_neurons]\n",
    "        return trains\n",
    "\n",
    "\n",
    "def load_spikes(session_name):\n",
    "    ...\n",
    "\n",
    "\n",
    "def load_events(session_name):\n",
    "    ..."
   ]
  },
  {
   "cell_type": "code",
   "execution_count": 9,
   "metadata": {},
   "outputs": [],
   "source": [
    "# preprocess data\n",
    "\n",
    "def get_trains(session_name):\n",
    "    ..."
   ]
  },
  {
   "cell_type": "code",
   "execution_count": 10,
   "metadata": {},
   "outputs": [],
   "source": [
    "# plot data\n",
    "\n",
    "\n",
    "def make_grid(\n",
    "    trains: Dict[Any, str],\n",
    "    fig: Optional[plt.Figure] = None,\n",
    "    gridspec_kw: Optional[Dict] = None,\n",
    "    type_order=None,\n",
    "):\n",
    "    fig = fig or plt.figure()\n",
    "    neuron_types = type_order or list(trains.keys())\n",
    "    n_rows = len(neuron_types)\n",
    "    n_cols = 1\n",
    "    height_ratios = np.array([len(trains[neuron_type]) for neuron_type in neuron_types])\n",
    "    height_ratios = height_ratios / height_ratios.sum()\n",
    "    gridspec_kw = gridspec_kw or {}\n",
    "    gridspec_kw[\"height_ratios\"] = height_ratios\n",
    "    axes = fig.subplots(n_rows, n_cols, gridspec_kw=gridspec_kw)\n",
    "    return axes\n",
    "    \n",
    "\n",
    "def plot_raster(trains: List[np.ndarray], ax=None, **eventplot_kwargs):\n",
    "    ax = ax or plt.subplots()[1]\n",
    "    ax.eventplot(\n",
    "        trains,\n",
    "        **eventplot_kwargs,\n",
    "    )\n",
    "    ax.axis(\"off\")\n",
    "    return ax\n",
    "\n",
    "\n",
    "def plot_raster_grouped(\n",
    "    trains: Dict[str, List[np.ndarray]],\n",
    "    fig=None,\n",
    "    eventplot_kwargs: Optional[Dict] = None,\n",
    "    gridspec_kw: Optional[Dict] = None,\n",
    "    type_order: Optional[List[str]] = None,\n",
    "):\n",
    "    eventplot_kwargs = eventplot_kwargs or {}\n",
    "    gridspec_kw = gridspec_kw or {}\n",
    "\n",
    "    fig = fig or plt.figure()\n",
    "    neuron_types = type_order or list(trains.keys())\n",
    "    axes = make_grid(trains, fig=fig, gridspec_kw=gridspec_kw, type_order=neuron_types)\n",
    "\n",
    "    for ax, neuron_type in zip(axes, neuron_types):\n",
    "        train_list = trains[neuron_type]\n",
    "        plot_raster(train_list, ax=ax, **eventplot_kwargs)\n",
    "    return fig, axes"
   ]
  },
  {
   "cell_type": "code",
   "execution_count": 47,
   "metadata": {},
   "outputs": [],
   "source": [
    "from drn_interactions.config import ExperimentInfo, Config\n",
    "from drn_interactions.io import load_events\n",
    "from drn_interactions.plots.pallets_cmaps import PAL_GREY_BLACK"
   ]
  },
  {
   "cell_type": "code",
   "execution_count": 45,
   "metadata": {},
   "outputs": [
    {
     "data": {
      "image/png": "[encoded data removed]",
      "text/plain": [
       "<Figure size 360x144 with 3 Axes>"
      ]
     },
     "metadata": {
      "needs_background": "light"
     },
     "output_type": "display_data"
    }
   ],
   "source": [
    "# Set params\n",
    "\n",
    "df_events =  load_events(\"base_shock\")\n",
    "neurons = load_derived_generic(\"neuron_types.csv\")\n",
    "\n",
    "SESSIONS = ExperimentInfo.foot_shock_sessions_10min\n",
    "\n",
    "# SESSION = SESSIONS[4]\n",
    "SESSION = \"hamilton_37\"\n",
    "T_START = 12\n",
    "DURATION = 10\n",
    "T_STOP = T_START + DURATION\n",
    "MAX_NEURONS = None\n",
    "FIGSIZE = (5, 2)\n",
    "eventplot_kwargs = dict(\n",
    "    color=\"black\",\n",
    "    linewidths=1,\n",
    "    linelengths=1,\n",
    ")\n",
    "\n",
    "####\n",
    "\n",
    "train_loader = SpikeTrainLoader(\n",
    "    SESSION, \n",
    "    duration=DURATION, \n",
    "    max_neurons=MAX_NEURONS,\n",
    "    block=\"base_shock\"\n",
    "    )\n",
    "trains = train_loader.get_trians_by_type(t_start=T_START)\n",
    "\n",
    "\n",
    "f = plt.figure(figsize=FIGSIZE)\n",
    "plot_raster_grouped(trains, fig=f, eventplot_kwargs=eventplot_kwargs)\n",
    "\n",
    "events = (\n",
    "    df_events\n",
    "    .loc\n",
    "    [lambda x: \n",
    "    (x[\"session_name\"] == SESSION) & \n",
    "    (x[\"event_s\"] >= T_START) & \n",
    "    (x[\"event_s\"] <= T_STOP)\n",
    "    ].event_s.values\n",
    ")\n",
    "\n",
    "\n",
    "for ax in f.axes:\n",
    "    ax.set_xlim(T_START, T_STOP)\n",
    "    for event in events:\n",
    "        ax.axvline(event, color=\"red\", linewidth=1, linestyle=\"-\")\n",
    "\n",
    "\n",
    "f.savefig(Config.fig_dir / \"psth raster.png\", dpi=300, bbox_inches=\"tight\")"
   ]
  },
  {
   "cell_type": "code",
   "execution_count": 63,
   "metadata": {},
   "outputs": [
    {
     "name": "stderr",
     "output_type": "stream",
     "text": [
      "/opt/miniconda3/envs/drn/lib/python3.8/site-packages/seaborn/axisgrid.py:88: UserWarning: This figure includes Axes that are not compatible with tight_layout, so results might be incorrect.\n",
      "  self._figure.tight_layout(*args, **kwargs)\n",
      "/opt/miniconda3/envs/drn/lib/python3.8/site-packages/seaborn/axisgrid.py:88: UserWarning: This figure includes Axes that are not compatible with tight_layout, so results might be incorrect.\n",
      "  self._figure.tight_layout(*args, **kwargs)\n"
     ]
    },
    {
     "data": {
      "image/png": "[encoded data removed]",
      "text/plain": [
       "<Figure size 388.8x108 with 3 Axes>"
      ]
     },
     "metadata": {
      "needs_background": "light"
     },
     "output_type": "display_data"
    }
   ],
   "source": [
    "df_effects = load_derived_generic(\"fast_fs_foot_shock_unit_responders.csv\").merge(neurons)\n",
    "\n",
    "g = sns.FacetGrid(\n",
    "    df_effects, \n",
    "    col=\"neuron_type\",  \n",
    "    sharey=True,  \n",
    "    sharex=True, \n",
    "    height=1.5, \n",
    "    aspect=1.2, \n",
    "    gridspec_kws=dict(wspace=1),\n",
    "    col_order=[\"SR\", \"SIR\", \"FF\"]\n",
    "    )\n",
    "\n",
    "g.map_dataframe(\n",
    "    sns.histplot, \n",
    "    x=\"Diff\", \n",
    "    color=\"black\", \n",
    "    hue=\"sig\",\n",
    "    palette=PAL_GREY_BLACK,\n",
    "    multiple=\"stack\",\n",
    "    alpha=1,\n",
    "    hue_order=[True, False],\n",
    "    bins=np.arange(-2.6, 2.6, 0.3),\n",
    "    \n",
    "    )\n",
    "\n",
    "g.set_titles(\"{col_name}\")\n",
    "g.set_ylabels(\"Neuron Count\")\n",
    "# g.set_xlabels(\"Post Shock Rate Change\\n(Z) (0-200ms)\")\n",
    "g.set_xlabels(\"\")\n",
    "g.figure.align_ylabels()\n",
    "g.savefig(Config.fig_dir / \"fs_fast_hists.png\", dpi=300, bbox_inches=\"tight\")"
   ]
  },
  {
   "cell_type": "code",
   "execution_count": null,
   "metadata": {},
   "outputs": [],
   "source": []
  }
 ],
 "metadata": {
  "kernelspec": {
   "display_name": "Python 3.8.13 ('drn')",
   "language": "python",
   "name": "python3"
  },
  "language_info": {
   "codemirror_mode": {
    "name": "ipython",
    "version": 3
   },
   "file_extension": ".py",
   "mimetype": "text/x-python",
   "name": "python",
   "nbconvert_exporter": "python",
   "pygments_lexer": "ipython3",
   "version": "3.8.13"
  },
  "orig_nbformat": 4,
  "vscode": {
   "interpreter": {
    "hash": "a141ff61fc8e5477d761678b9939730228dd63e8e5dabf1901cb4084a0e2e4d6"
   }
  }
 },
 "nbformat": 4,
 "nbformat_minor": 2
}
