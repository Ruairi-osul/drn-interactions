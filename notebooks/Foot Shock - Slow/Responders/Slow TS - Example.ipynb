{
 "cells": [
  {
   "cell_type": "code",
   "execution_count": 1,
   "metadata": {},
   "outputs": [],
   "source": [
    "# imports\n",
    "\n",
    "from drn_interactions.transforms.spikes import SpikesHandlerMulti\n",
    "from drn_interactions.config import ExperimentInfo\n",
    "from drn_interactions.io import load_derived_generic\n",
    "import numpy as np\n",
    "import matplotlib.pyplot as plt\n",
    "import pandas as pd\n",
    "import seaborn as sns\n",
    "\n",
    "from scipy.stats import zscore\n",
    "from scipy.ndimage import gaussian_filter1d\n",
    "from sklearn.preprocessing import minmax_scale\n",
    "from sklearn.feature_extraction.text import TfidfTransformer"
   ]
  },
  {
   "cell_type": "code",
   "execution_count": 2,
   "metadata": {},
   "outputs": [],
   "source": [
    "sns.set_theme(context=\"paper\", style=\"ticks\")"
   ]
  },
  {
   "cell_type": "code",
   "execution_count": 3,
   "metadata": {},
   "outputs": [],
   "source": [
    "# loaders\n",
    "\n",
    "SESSIONS = ExperimentInfo.foot_shock_sessions_10min\n",
    "\n",
    "\n",
    "def load_piv_all(\n",
    "    session,\n",
    "):\n",
    "    sh = SpikesHandlerMulti(\n",
    "        block=[\"base_shock\", \"post_base_shock\"],\n",
    "        session_names=[session],\n",
    "        bin_width=1,\n",
    "        t_start=-600,\n",
    "        t_stop=1200,\n",
    "    )\n",
    "    return sh.binned_piv\n",
    "\n",
    "def load_bin_all(\n",
    "    session,\n",
    "):\n",
    "    sh = SpikesHandlerMulti(\n",
    "        block=[\"base_shock\", \"post_base_shock\"],\n",
    "        session_names=[session],\n",
    "        bin_width=1,\n",
    "        t_start=-600,\n",
    "        t_stop=1200,\n",
    "    )\n",
    "    return sh.binned\n",
    "\n",
    "def load_bin_first_half():\n",
    "    sh = SpikesHandlerMulti(\n",
    "        block=[\"base_shock\", \"post_base_shock\"],\n",
    "        session_names=None,\n",
    "        bin_width=1,\n",
    "        t_start=-600,\n",
    "        t_stop=1200,\n",
    "    )\n",
    "    df = sh.binned\n",
    "    df = (\n",
    "        df\n",
    "        .loc[lambda x: ~(x.bin.between(300, 600)) & ~(x.bin > 900)]\n",
    "        .set_index(\"bin\")\n",
    "    )\n",
    "    return df\n",
    "\n",
    "\n",
    "def load_bin_second_half():\n",
    "    sh = SpikesHandlerMulti(\n",
    "        block=[\"base_shock\", \"post_base_shock\"],\n",
    "        session_names=None,\n",
    "        bin_width=1,\n",
    "        t_start=-600,\n",
    "        t_stop=1200,\n",
    "    )\n",
    "    df = sh.binned\n",
    "    df = (\n",
    "        df\n",
    "        .loc[lambda x: ~(x.bin.between(0, 300)) & ~(x.bin.between(600, 900))]\n",
    "        .set_index(\"bin\")\n",
    "    )\n",
    "    return df\n"
   ]
  },
  {
   "cell_type": "code",
   "execution_count": 4,
   "metadata": {},
   "outputs": [],
   "source": [
    "# preprocessors\n",
    "\n",
    "def heatmap_preprocess(df_spikes, neurons, minmax=True, tfidf=False):\n",
    "    if tfidf:\n",
    "        tfidf = TfidfTransformer()\n",
    "        df_spikes = pd.DataFrame(\n",
    "            tfidf.fit_transform(df_spikes).toarray(),\n",
    "            index=df_spikes.index,\n",
    "            columns=df_spikes.columns,\n",
    "        )\n",
    "    if minmax:\n",
    "        df_spikes = df_spikes.transform(minmax_scale)\n",
    "\n",
    "    df_spikes = get_neuron_key(df_spikes, neurons)\n",
    "    df_spikes = df_spikes.T\n",
    "    return df_spikes\n",
    "\n",
    "\n",
    "def heatmap_nt_key(df_spikes):\n",
    "    ...\n",
    "\n",
    "def lineplot_preprocess(df_spikes):\n",
    "    ...\n",
    "\n",
    "\n",
    "def get_neuron_key(df_spikes, neurons):\n",
    "    \"order by neuron type - SR, SIR, FF\"\n",
    "    cols_unsorted = df_spikes.columns\n",
    "    cols_sorted = (\n",
    "        neurons\n",
    "        .query(\"neuron_id in @cols_unsorted\")\n",
    "        .sort_values(\"neuron_type\", ascending=False)\n",
    "        .neuron_id\n",
    "        .values\n",
    "        .tolist()\n",
    "    )\n",
    "    return df_spikes[cols_sorted]"
   ]
  },
  {
   "cell_type": "code",
   "execution_count": 5,
   "metadata": {},
   "outputs": [],
   "source": [
    "# plotters\n",
    "\n",
    "\n",
    "def plot_heatmap(df_spikes, ax, vlines=True, **kwargs):\n",
    "    sns.heatmap(df_spikes, cmap=\"Greys\", ax=ax, cbar=False, **kwargs)\n",
    "    ax.xaxis.set_major_locator(plt.MultipleLocator(300))\n",
    "    ax.set_yticks([])\n",
    "    ax.set_ylabel(\"\")\n",
    "    ax.set_xlabel(\"\")\n",
    "    ax.axvline(600, color=\"red\", linewidth=1.5)\n",
    "    ax.axvline(1200, color=\"red\", linewidth=1.5)\n",
    "    return ax"
   ]
  },
  {
   "cell_type": "code",
   "execution_count": 6,
   "metadata": {},
   "outputs": [],
   "source": [
    "# gogo\n",
    "session = SESSIONS[5]\n",
    "\n",
    "neurons = load_derived_generic(\"neuron_types.csv\")\n",
    "df_all = load_piv_all(session)\n",
    "# df_fh = load_piv_first_half(SESSIONS[0])\n",
    "# df_sh = load_piv_second_half(SESSIONS[0])"
   ]
  },
  {
   "cell_type": "code",
   "execution_count": 10,
   "metadata": {},
   "outputs": [
    {
     "data": {
      "image/png": "[encoded data removed]",
      "text/plain": [
       "<Figure size 360x144 with 1 Axes>"
      ]
     },
     "metadata": {
      "needs_background": "light"
     },
     "output_type": "display_data"
    }
   ],
   "source": [
    "from drn_interactions.config import Config\n",
    "\n",
    "\n",
    "df = heatmap_preprocess(df_all, neurons=neurons, tfidf=False)\n",
    "\n",
    "f = plt.figure(figsize=(5, 2))\n",
    "\n",
    "ax = f.subplots()\n",
    "plot_heatmap(df, ax)\n",
    "\n",
    "f.savefig(Config.fig_dir / \"slow fs example heatmap.png\", dpi=300)"
   ]
  },
  {
   "cell_type": "code",
   "execution_count": 11,
   "metadata": {},
   "outputs": [
    {
     "data": {
      "image/png": "[encoded data removed]",
      "text/plain": [
       "<Figure size 360x144 with 3 Axes>"
      ]
     },
     "metadata": {
      "needs_background": "light"
     },
     "output_type": "display_data"
    }
   ],
   "source": [
    "from scipy.signal import medfilt\n",
    "\n",
    "f = plt.figure(figsize=(5, 2))\n",
    "axes = f.subplots(3)\n",
    "\n",
    "df_bin = (\n",
    "    load_bin_all(session)\n",
    "    .merge(neurons[[\"neuron_id\", \"neuron_type\"]])\n",
    ")\n",
    "\n",
    "df_nt = (\n",
    "    df_bin\n",
    "    .groupby([\"bin\", \"neuron_type\"])[\"counts\"]\n",
    "    .mean()\n",
    "    .reset_index()\n",
    "    .pivot(index=\"bin\", columns=\"neuron_type\", values=\"counts\")\n",
    "    .transform(medfilt, kernel_size=5)\n",
    "    .transform(minmax_scale)\n",
    ")\n",
    "\n",
    "for i, nt in enumerate((\"SR\", \"SIR\", \"FF\")):\n",
    "    axes[i].plot(df_nt[nt], color=\"black\")\n",
    "    axes[i].axis(\"off\")\n",
    "\n",
    "f.savefig(Config.fig_dir / \"slow fs example by nt.png\", dpi=300)"
   ]
  },
  {
   "cell_type": "code",
   "execution_count": 12,
   "metadata": {},
   "outputs": [],
   "source": [
    "from drn_interactions.stats import mannwhitneyu_plusplus, p_adjust\n",
    "from scipy.stats import zmap\n",
    "\n",
    "\n",
    "\n",
    "def _prepost(ser):\n",
    "    x = ser[ser.index < 0]\n",
    "    y = ser[ser.index > 0]\n",
    "    return mannwhitneyu_plusplus(x, y)\n",
    "\n",
    "def _zmap(ser):\n",
    "    base = ser[ser.index < 0]\n",
    "    return zmap(ser, base)\n",
    "\n",
    "\n",
    "def prepost_shock(df, col=\"zcounts\", thresh=0.2):\n",
    "    df = df.reset_index().query(\"bin < 600\").set_index(\"bin\")\n",
    "    df_res =  df.groupby(\"neuron_id\")[col].apply(_prepost).unstack().reset_index()\n",
    "    df_res[\"p_adj\"] = p_adjust(df_res.p)\n",
    "    df_res[\"sig\"] = (df_res.p_adj < 0.05) & (df_res[\"Diff\"].abs() > thresh)\n",
    "    df_res[\"response\"] = np.select(\n",
    "        condlist=[\n",
    "            (df_res.sig) & (df_res.Diff > 0), \n",
    "            (df_res.sig) & (df_res.Diff < 0),\n",
    "            ~(df_res.sig)\n",
    "            ],\n",
    "        choicelist=[\"Activated\", \"Inhibited\", \"No Effect\"],\n",
    "        )\n",
    "    return df_res\n",
    "\n",
    "\n",
    "df_fh = load_bin_first_half()\n",
    "df_fh[\"zcounts\"] = df_fh.groupby(\"neuron_id\")[\"counts\"].transform(_zmap)\n",
    "df_res_fh = prepost_shock(df_fh, col=\"counts\").merge(neurons[[\"neuron_id\", \"neuron_type\"]])\n",
    "\n",
    "df_sh = load_bin_second_half()\n",
    "df_sh[\"zcounts\"] = df_sh.groupby(\"neuron_id\")[\"counts\"].transform(_zmap)\n",
    "df_res_sh = prepost_shock(df_sh, col=\"counts\").merge(neurons[[\"neuron_id\", \"neuron_type\"]])"
   ]
  },
  {
   "cell_type": "code",
   "execution_count": 19,
   "metadata": {},
   "outputs": [
    {
     "name": "stdout",
     "output_type": "stream",
     "text": [
      "Mutual Information: 0.38\n",
      "Spearman Correlation: 0.85 (p=0.00)\n"
     ]
    },
    {
     "data": {
      "image/png": "[encoded data removed]",
      "text/plain": [
       "<Figure size 108x108 with 1 Axes>"
      ]
     },
     "metadata": {
      "needs_background": "light"
     },
     "output_type": "display_data"
    }
   ],
   "source": [
    "from sklearn.metrics import adjusted_mutual_info_score\n",
    "from scipy.stats import spearmanr\n",
    "\n",
    "def merge_responders(df_fh, df_sh, col):\n",
    "    df = (\n",
    "        df_fh.set_index(\"neuron_id\")[[col]]\n",
    "        .join(df_sh.set_index(\"neuron_id\")[[col]], lsuffix=\"_fh\", rsuffix=\"_sh\")\n",
    "    )\n",
    "    return df\n",
    "\n",
    "\n",
    "categorical = merge_responders(df_res_fh, df_res_sh, \"response\")\n",
    "mi = adjusted_mutual_info_score(categorical.response_fh, categorical.response_sh)\n",
    "\n",
    "numeric = merge_responders(df_res_fh, df_res_sh, \"Diff\").dropna()\n",
    "corr, corr_p = spearmanr(numeric.Diff_fh, numeric.Diff_sh)\n",
    "\n",
    "print(f\"Mutual Information: {mi:.2f}\")\n",
    "print(f\"Spearman Correlation: {corr:.2f} (p={corr_p:.2f})\")\n",
    "\n",
    "\n",
    "f = plt.figure(figsize=(1.5, 1.5))\n",
    "ax = f.subplots()\n",
    "\n",
    "sns.scatterplot(\n",
    "    data=numeric,\n",
    "    x=\"Diff_fh\",\n",
    "    y=\"Diff_sh\",\n",
    "    ax=ax,\n",
    "    color=\"black\",\n",
    "    alpha=0.9,\n",
    "    size=10\n",
    ")\n",
    "\n",
    "ax.axline((0,0), slope=1, color=\"black\", linestyle=\"--\")\n",
    "ax.axhline(0, color=\"black\", linestyle=\"-\")\n",
    "ax.axvline(0, color=\"black\", linestyle=\"-\")\n",
    "ax.set_xlim(-10, 10)\n",
    "ax.set_ylim(-10, 10)\n",
    "ax.set_ylabel(\"Second 150 Trials\")\n",
    "ax.set_xlabel(\"First 150 Trials\")\n",
    "ax.set_title(\"Neuronal Spike Rate Change \\n (Pre -> Shock; Z-score)\", pad=20)\n",
    "ax.legend().remove()\n",
    "sns.despine(ax=ax, offset=5)\n",
    "\n",
    "f.savefig(Config.fig_dir / \"slow fs consistency.png\", dpi=300, bbox_inches=\"tight\")"
   ]
  },
  {
   "cell_type": "code",
   "execution_count": 17,
   "metadata": {},
   "outputs": [
    {
     "data": {
      "image/png": "[encoded data removed]",
      "text/plain": [
       "<Figure size 432x288 with 1 Axes>"
      ]
     },
     "metadata": {
      "needs_background": "light"
     },
     "output_type": "display_data"
    }
   ],
   "source": [
    "def stacked_bar_single(df, col, ax):\n",
    "    df[col].value_counts().to_frame().T.plot(kind=\"bar\", stacked=True, ax=ax, legend=False)\n",
    "    ax.axis(\"off\")\n",
    "    return ax\n",
    "\n",
    "\n",
    "_, ax = plt.subplots()\n",
    "df.reset_index()[[\"neuron_id\"]].merge(neurons).pipe(stacked_bar_single, \"neuron_type\", ax=ax)\n",
    "plt.savefig(Config.fig_dir / \"slow fs neuron types.png\", dpi=300)"
   ]
  },
  {
   "cell_type": "code",
   "execution_count": null,
   "metadata": {},
   "outputs": [],
   "source": []
  }
 ],
 "metadata": {
  "kernelspec": {
   "display_name": "Python 3.8.13 ('drn')",
   "language": "python",
   "name": "python3"
  },
  "language_info": {
   "codemirror_mode": {
    "name": "ipython",
    "version": 3
   },
   "file_extension": ".py",
   "mimetype": "text/x-python",
   "name": "python",
   "nbconvert_exporter": "python",
   "pygments_lexer": "ipython3",
   "version": "3.8.13"
  },
  "orig_nbformat": 4,
  "vscode": {
   "interpreter": {
    "hash": "a141ff61fc8e5477d761678b9939730228dd63e8e5dabf1901cb4084a0e2e4d6"
   }
  }
 },
 "nbformat": 4,
 "nbformat_minor": 2
}
