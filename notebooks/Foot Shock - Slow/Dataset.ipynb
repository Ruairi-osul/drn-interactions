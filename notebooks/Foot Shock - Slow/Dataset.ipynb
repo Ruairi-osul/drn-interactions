{
 "cells": [
  {
   "cell_type": "code",
   "execution_count": 9,
   "metadata": {},
   "outputs": [],
   "source": [
    "from drn_interactions.config import Config, ExperimentInfo\n",
    "from drn_interactions.io import load_derived_generic\n",
    "from drn_interactions.stats import se_mean\n"
   ]
  },
  {
   "cell_type": "code",
   "execution_count": 2,
   "metadata": {},
   "outputs": [],
   "source": [
    "sessions = ExperimentInfo.foot_shock_sessions_10min"
   ]
  },
  {
   "cell_type": "code",
   "execution_count": 3,
   "metadata": {},
   "outputs": [
    {
     "data": {
      "text/plain": [
       "8"
      ]
     },
     "execution_count": 3,
     "metadata": {},
     "output_type": "execute_result"
    }
   ],
   "source": [
    "len(sessions)"
   ]
  },
  {
   "cell_type": "code",
   "execution_count": 4,
   "metadata": {},
   "outputs": [],
   "source": [
    "neurons = load_derived_generic(\"neuron_types.csv\").query('session_name in @sessions').dropna()"
   ]
  },
  {
   "cell_type": "code",
   "execution_count": 5,
   "metadata": {},
   "outputs": [
    {
     "data": {
      "text/plain": [
       "259"
      ]
     },
     "execution_count": 5,
     "metadata": {},
     "output_type": "execute_result"
    }
   ],
   "source": [
    "len(neurons)"
   ]
  },
  {
   "cell_type": "code",
   "execution_count": 16,
   "metadata": {},
   "outputs": [
    {
     "data": {
      "text/plain": [
       "(32.38, 4.67)"
      ]
     },
     "execution_count": 16,
     "metadata": {},
     "output_type": "execute_result"
    }
   ],
   "source": [
    "\n",
    "by_session = neurons.groupby(\"session_name\").neuron_id.count()\n",
    "by_session.mean().round(2), se_mean(by_session).round(2)"
   ]
  },
  {
   "cell_type": "code",
   "execution_count": 10,
   "metadata": {},
   "outputs": [
    {
     "data": {
      "text/plain": [
       "SIR    118\n",
       "SR     111\n",
       "FF      30\n",
       "Name: neuron_type, dtype: int64"
      ]
     },
     "execution_count": 10,
     "metadata": {},
     "output_type": "execute_result"
    }
   ],
   "source": [
    "neurons[\"neuron_type\"].value_counts()"
   ]
  },
  {
   "cell_type": "code",
   "execution_count": 22,
   "metadata": {},
   "outputs": [
    {
     "data": {
      "text/plain": [
       "neuron_type\n",
       "FF      3.75 + 1.06\n",
       "SIR    14.75 + 4.01\n",
       "SR     13.88 + 2.47\n",
       "dtype: object"
      ]
     },
     "execution_count": 22,
     "metadata": {},
     "output_type": "execute_result"
    }
   ],
   "source": [
    "from drn_interactions.stats import se_mean\n",
    "\n",
    "neurons.groupby('session_name')[\"neuron_type\"].value_counts().unstack().apply(lambda x: f\"{x.mean():.2f} + {se_mean(x):.2f}\")"
   ]
  },
  {
   "cell_type": "markdown",
   "metadata": {},
   "source": [
    "## Fast FS"
   ]
  },
  {
   "cell_type": "code",
   "execution_count": 12,
   "metadata": {},
   "outputs": [],
   "source": [
    "from drn_interactions.io import load_derived_generic\n",
    "from drn_interactions.stats import se_mean, se_prop\n",
    "import numpy as np\n",
    "\n",
    "df = load_derived_generic(\"fast_fs_foot_shock_unit_responders.csv\")"
   ]
  },
  {
   "cell_type": "code",
   "execution_count": 19,
   "metadata": {},
   "outputs": [
    {
     "data": {
      "text/html": [
       "<div>\n",
       "<style scoped>\n",
       "    .dataframe tbody tr th:only-of-type {\n",
       "        vertical-align: middle;\n",
       "    }\n",
       "\n",
       "    .dataframe tbody tr th {\n",
       "        vertical-align: top;\n",
       "    }\n",
       "\n",
       "    .dataframe thead th {\n",
       "        text-align: right;\n",
       "    }\n",
       "</style>\n",
       "<table border=\"1\" class=\"dataframe\">\n",
       "  <thead>\n",
       "    <tr style=\"text-align: right;\">\n",
       "      <th></th>\n",
       "      <th>activated</th>\n",
       "      <th>inhibited</th>\n",
       "      <th>non-responder</th>\n",
       "    </tr>\n",
       "    <tr>\n",
       "      <th>neuron_type</th>\n",
       "      <th></th>\n",
       "      <th></th>\n",
       "      <th></th>\n",
       "    </tr>\n",
       "  </thead>\n",
       "  <tbody>\n",
       "    <tr>\n",
       "      <th>SR</th>\n",
       "      <td>25.23 +- 4.12</td>\n",
       "      <td>39.64 +- 4.64</td>\n",
       "      <td>35.14 +- 4.53</td>\n",
       "    </tr>\n",
       "    <tr>\n",
       "      <th>SIR</th>\n",
       "      <td>49.15 +- 4.60</td>\n",
       "      <td>16.95 +- 3.45</td>\n",
       "      <td>33.90 +- 4.36</td>\n",
       "    </tr>\n",
       "    <tr>\n",
       "      <th>FF</th>\n",
       "      <td>33.33 +- 8.61</td>\n",
       "      <td>33.33 +- 8.61</td>\n",
       "      <td>33.33 +- 8.61</td>\n",
       "    </tr>\n",
       "  </tbody>\n",
       "</table>\n",
       "</div>"
      ],
      "text/plain": [
       "                 activated      inhibited  non-responder\n",
       "neuron_type                                             \n",
       "SR           25.23 +- 4.12  39.64 +- 4.64  35.14 +- 4.53\n",
       "SIR          49.15 +- 4.60  16.95 +- 3.45  33.90 +- 4.36\n",
       "FF           33.33 +- 8.61  33.33 +- 8.61  33.33 +- 8.61"
      ]
     },
     "execution_count": 19,
     "metadata": {},
     "output_type": "execute_result"
    }
   ],
   "source": [
    "import pandas as pd\n",
    "\n",
    "def prop_responses(df):\n",
    "    out = {}\n",
    "    for response in [\"activated\", \"inhibited\", \"non-responder\"]:\n",
    "        col = (df[\"response\"] == response)\n",
    "        out[response] = f\"{col.mean() * 100:.2f} +- {se_prop(col) * 100:.2f}\"\n",
    "    return pd.Series(out)\n",
    "\n",
    "(\n",
    "    df\n",
    "    .assign(\n",
    "        response=lambda x: np.where(\n",
    "            x[\"sig\"], np.where(x[\"Diff\"] > 0, \"activated\", \"inhibited\"), \n",
    "            \"non-responder\"\n",
    "            )\n",
    "        )\n",
    "    .groupby(\"neuron_type\")\n",
    "    .apply(prop_responses)\n",
    "    .loc[[\"SR\", \"SIR\", \"FF\"]]\n",
    ")\n",
    "\n"
   ]
  },
  {
   "cell_type": "markdown",
   "metadata": {},
   "source": [
    "## Slow TS"
   ]
  },
  {
   "cell_type": "code",
   "execution_count": 21,
   "metadata": {},
   "outputs": [],
   "source": [
    "df = load_derived_generic(\"slow_ts_foot_shock_unit_responders_pre_to_shock.csv\")"
   ]
  },
  {
   "cell_type": "code",
   "execution_count": 23,
   "metadata": {},
   "outputs": [
    {
     "data": {
      "text/html": [
       "<div>\n",
       "<style scoped>\n",
       "    .dataframe tbody tr th:only-of-type {\n",
       "        vertical-align: middle;\n",
       "    }\n",
       "\n",
       "    .dataframe tbody tr th {\n",
       "        vertical-align: top;\n",
       "    }\n",
       "\n",
       "    .dataframe thead th {\n",
       "        text-align: right;\n",
       "    }\n",
       "</style>\n",
       "<table border=\"1\" class=\"dataframe\">\n",
       "  <thead>\n",
       "    <tr style=\"text-align: right;\">\n",
       "      <th></th>\n",
       "      <th>activated</th>\n",
       "      <th>inhibited</th>\n",
       "      <th>non-responder</th>\n",
       "    </tr>\n",
       "    <tr>\n",
       "      <th>neuron_type</th>\n",
       "      <th></th>\n",
       "      <th></th>\n",
       "      <th></th>\n",
       "    </tr>\n",
       "  </thead>\n",
       "  <tbody>\n",
       "    <tr>\n",
       "      <th>SR</th>\n",
       "      <td>56.76 +- 4.70</td>\n",
       "      <td>35.14 +- 4.53</td>\n",
       "      <td>8.11 +- 2.59</td>\n",
       "    </tr>\n",
       "    <tr>\n",
       "      <th>SIR</th>\n",
       "      <td>57.63 +- 4.55</td>\n",
       "      <td>33.05 +- 4.33</td>\n",
       "      <td>9.32 +- 2.68</td>\n",
       "    </tr>\n",
       "    <tr>\n",
       "      <th>FF</th>\n",
       "      <td>43.33 +- 9.05</td>\n",
       "      <td>46.67 +- 9.11</td>\n",
       "      <td>10.00 +- 5.48</td>\n",
       "    </tr>\n",
       "  </tbody>\n",
       "</table>\n",
       "</div>"
      ],
      "text/plain": [
       "                 activated      inhibited  non-responder\n",
       "neuron_type                                             \n",
       "SR           56.76 +- 4.70  35.14 +- 4.53   8.11 +- 2.59\n",
       "SIR          57.63 +- 4.55  33.05 +- 4.33   9.32 +- 2.68\n",
       "FF           43.33 +- 9.05  46.67 +- 9.11  10.00 +- 5.48"
      ]
     },
     "execution_count": 23,
     "metadata": {},
     "output_type": "execute_result"
    }
   ],
   "source": [
    "(\n",
    "    df\n",
    "    .assign(\n",
    "        response=lambda x: np.where(\n",
    "            x[\"sig\"], np.where(x[\"diff_inv\"] > 0, \"activated\", \"inhibited\"), \n",
    "            \"non-responder\"\n",
    "            )\n",
    "        )\n",
    "    .groupby(\"neuron_type\")\n",
    "    .apply(prop_responses)\n",
    "    .loc[[\"SR\", \"SIR\", \"FF\"]]\n",
    ")"
   ]
  },
  {
   "cell_type": "markdown",
   "metadata": {},
   "source": [
    "## Slow Post"
   ]
  },
  {
   "cell_type": "code",
   "execution_count": 24,
   "metadata": {},
   "outputs": [],
   "source": [
    "df = load_derived_generic(\"slow_ts_foot_shock_unit_responders_pre_to_post.csv\")"
   ]
  },
  {
   "cell_type": "code",
   "execution_count": 25,
   "metadata": {},
   "outputs": [
    {
     "data": {
      "text/html": [
       "<div>\n",
       "<style scoped>\n",
       "    .dataframe tbody tr th:only-of-type {\n",
       "        vertical-align: middle;\n",
       "    }\n",
       "\n",
       "    .dataframe tbody tr th {\n",
       "        vertical-align: top;\n",
       "    }\n",
       "\n",
       "    .dataframe thead th {\n",
       "        text-align: right;\n",
       "    }\n",
       "</style>\n",
       "<table border=\"1\" class=\"dataframe\">\n",
       "  <thead>\n",
       "    <tr style=\"text-align: right;\">\n",
       "      <th></th>\n",
       "      <th>activated</th>\n",
       "      <th>inhibited</th>\n",
       "      <th>non-responder</th>\n",
       "    </tr>\n",
       "    <tr>\n",
       "      <th>neuron_type</th>\n",
       "      <th></th>\n",
       "      <th></th>\n",
       "      <th></th>\n",
       "    </tr>\n",
       "  </thead>\n",
       "  <tbody>\n",
       "    <tr>\n",
       "      <th>SR</th>\n",
       "      <td>11.71 +- 3.05</td>\n",
       "      <td>76.58 +- 4.02</td>\n",
       "      <td>11.71 +- 3.05</td>\n",
       "    </tr>\n",
       "    <tr>\n",
       "      <th>SIR</th>\n",
       "      <td>16.10 +- 3.38</td>\n",
       "      <td>68.64 +- 4.27</td>\n",
       "      <td>15.25 +- 3.31</td>\n",
       "    </tr>\n",
       "    <tr>\n",
       "      <th>FF</th>\n",
       "      <td>23.33 +- 7.72</td>\n",
       "      <td>63.33 +- 8.80</td>\n",
       "      <td>13.33 +- 6.21</td>\n",
       "    </tr>\n",
       "  </tbody>\n",
       "</table>\n",
       "</div>"
      ],
      "text/plain": [
       "                 activated      inhibited  non-responder\n",
       "neuron_type                                             \n",
       "SR           11.71 +- 3.05  76.58 +- 4.02  11.71 +- 3.05\n",
       "SIR          16.10 +- 3.38  68.64 +- 4.27  15.25 +- 3.31\n",
       "FF           23.33 +- 7.72  63.33 +- 8.80  13.33 +- 6.21"
      ]
     },
     "execution_count": 25,
     "metadata": {},
     "output_type": "execute_result"
    }
   ],
   "source": [
    "(\n",
    "    df\n",
    "    .assign(\n",
    "        response=lambda x: np.where(\n",
    "            x[\"sig\"], np.where(x[\"diff_inv\"] > 0, \"activated\", \"inhibited\"), \n",
    "            \"non-responder\"\n",
    "            )\n",
    "        )\n",
    "    .groupby(\"neuron_type\")\n",
    "    .apply(prop_responses)\n",
    "    .loc[[\"SR\", \"SIR\", \"FF\"]]\n",
    ")"
   ]
  },
  {
   "cell_type": "code",
   "execution_count": null,
   "metadata": {},
   "outputs": [],
   "source": []
  }
 ],
 "metadata": {
  "kernelspec": {
   "display_name": "Python 3.8.13 ('drn')",
   "language": "python",
   "name": "python3"
  },
  "language_info": {
   "codemirror_mode": {
    "name": "ipython",
    "version": 3
   },
   "file_extension": ".py",
   "mimetype": "text/x-python",
   "name": "python",
   "nbconvert_exporter": "python",
   "pygments_lexer": "ipython3",
   "version": "3.8.13"
  },
  "orig_nbformat": 4,
  "vscode": {
   "interpreter": {
    "hash": "a141ff61fc8e5477d761678b9939730228dd63e8e5dabf1901cb4084a0e2e4d6"
   }
  }
 },
 "nbformat": 4,
 "nbformat_minor": 2
}
