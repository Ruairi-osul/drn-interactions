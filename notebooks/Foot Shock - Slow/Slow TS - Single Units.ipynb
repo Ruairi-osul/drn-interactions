{
 "cells": [
  {
   "cell_type": "code",
   "execution_count": 1,
   "metadata": {},
   "outputs": [],
   "source": [
    "from drn_interactions.io import load_events, load_derived_generic\n",
    "from drn_interactions.transforms.spikes import SpikesHandlerMulti\n",
    "from drn_interactions.responders.fs_slow import (\n",
    "    SlowTSRespondersMixed, SlowTSRespondersAnova, plot_pop, population_raster\n",
    ")\n",
    "\n",
    "import matplotlib.pyplot as plt\n",
    "import seaborn as sns\n",
    "import pingouin as pg\n",
    "import numpy as np\n",
    "import pandas as pd\n",
    "from IPython.display import display\n",
    "\n",
    "%load_ext autoreload\n",
    "%autoreload 2"
   ]
  },
  {
   "cell_type": "code",
   "execution_count": null,
   "metadata": {},
   "outputs": [],
   "source": [
    "# sns.set_theme(context=\"poster\", style=\"ticks\")\n",
    "# "
   ]
  },
  {
   "cell_type": "code",
   "execution_count": 2,
   "metadata": {},
   "outputs": [],
   "source": [
    "\n",
    "outdir = get_fig_dir() / \"base_shock\"\n",
    "outdir.mkdir(exist_ok=True, parents=True)\n",
    "\n",
    "neurons = load_neurons_derived()\n",
    "clusters = neurons[[\"neuron_id\", \"wf_3\"]]\n",
    "events = load_events(\"base_shock\")\n",
    "sessions = neurons[[\"session_name\"]].drop_duplicates().merge(events[[\"session_name\"]].drop_duplicates())[\"session_name\"].unique()\n",
    "# [plot_pop(session, z=True) for session in sessions]"
   ]
  },
  {
   "cell_type": "code",
   "execution_count": null,
   "metadata": {},
   "outputs": [],
   "source": [
    "t_start=-600\n",
    "t_stop=1200\n",
    "bin_width=1\n",
    "session = sessions\n",
    "\n",
    "\n",
    "sh = SpikesHandlerMulti(\n",
    "    block=[\"base_shock\", \"post_base_shock\"], \n",
    "    bin_width=bin_width, \n",
    "    session_names=sessions.tolist(),\n",
    "    t_start=t_start, \n",
    "    t_stop=t_stop,\n",
    ")\n",
    "ax = sh.binned_piv.sum(axis=1).plot(color=\"black\")\n",
    "ax.set_title(\"All\")\n",
    "sns.despine()\n",
    "df_binned_piv = sh.binned_piv.copy()"
   ]
  },
  {
   "cell_type": "code",
   "execution_count": null,
   "metadata": {},
   "outputs": [],
   "source": [
    "# Reapeated measures\n",
    "\n",
    "# Using Clusters\n",
    "mod = SlowTSRespondersAnova()\n",
    "mod.get_responders(df_binned_piv=df_binned_piv, clusters=neurons[[\"neuron_id\", \"wf_3\"]],)\n",
    "display(mod.results_[\"anova\"])\n",
    "display(mod.results_[\"contrasts\"])\n",
    "print()\n",
    "\n",
    "# Without using clusters\n",
    "mod = SlowTSRespondersAnova()\n",
    "mod.get_responders(df_binned_piv=df_binned_piv, fit_unit_level_models=True)\n",
    "display(mod.results_[\"anova\"])\n",
    "display(mod.results_[\"contrasts\"])\n",
    "\n"
   ]
  },
  {
   "cell_type": "code",
   "execution_count": null,
   "metadata": {},
   "outputs": [],
   "source": [
    "# Plot Single Units\n",
    "f = mod.plot_unit_effects()\n",
    "f.show()"
   ]
  },
  {
   "cell_type": "code",
   "execution_count": null,
   "metadata": {},
   "outputs": [],
   "source": [
    "# Plot Population Raster\n",
    "population_raster(sessions[4], tfidf=True)"
   ]
  },
  {
   "cell_type": "code",
   "execution_count": null,
   "metadata": {},
   "outputs": [],
   "source": [
    "# mixed effects alternative method\n",
    "\n",
    "# Using Clusters\n",
    "mod = SlowTSRespondersMixed()\n",
    "mod.get_responders(df_binned_piv, clusters = neurons[[\"neuron_id\",\"wf_3\"]])\n",
    "display(mod.results_[\"anova\"])\n",
    "\n",
    "\n",
    "# Without Using Clusters\n",
    "\n",
    "mod = SlowTSRespondersMixed()\n",
    "mod.get_responders(df_binned_piv)\n",
    "display(mod.results_[\"anova\"])\n",
    "display(mod.results_[\"emms\"])\n",
    "display(mod.results_[\"contrasts\"])\n",
    "# mod.plot()"
   ]
  },
  {
   "cell_type": "code",
   "execution_count": null,
   "metadata": {},
   "outputs": [],
   "source": []
  }
 ],
 "metadata": {
  "kernelspec": {
   "display_name": "Python 3.8.13 ('drn38')",
   "language": "python",
   "name": "python3"
  },
  "language_info": {
   "codemirror_mode": {
    "name": "ipython",
    "version": 3
   },
   "file_extension": ".py",
   "mimetype": "text/x-python",
   "name": "python",
   "nbconvert_exporter": "python",
   "pygments_lexer": "ipython3",
   "version": "3.8.13"
  },
  "orig_nbformat": 4,
  "vscode": {
   "interpreter": {
    "hash": "83d85788087be4ab95a62fa43e95c13744f0a02d6feebc555b96a547158d0970"
   }
  }
 },
 "nbformat": 4,
 "nbformat_minor": 2
}
