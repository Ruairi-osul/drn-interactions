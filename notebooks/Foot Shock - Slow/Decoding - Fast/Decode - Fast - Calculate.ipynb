{
 "cells": [
  {
   "cell_type": "code",
   "execution_count": null,
   "metadata": {},
   "outputs": [],
   "source": [
    "from sklearn.model_selection import StratifiedKFold\n",
    "from lightgbm import LGBMClassifier\n",
    "import numpy as np\n",
    "import pandas as pd\n",
    "from scipy.stats import wilcoxon\n",
    "from drn_interactions.io import load_derived_generic\n",
    "from drn_interactions.config import Config, ExperimentInfo\n",
    "from drn_interactions.decoding.loaders import  FSFastDecodeDataLoaderTwoWindows\n",
    "from drn_interactions.decoding.preprocessors import DecodePreprocessor\n",
    "from drn_interactions.decoding.runners import DecodeRunner\n",
    "from drn_interactions.decoding.decoders import Decoder\n",
    "from drn_interactions.decoding.shuffle import shuffle_X"
   ]
  },
  {
   "cell_type": "code",
   "execution_count": null,
   "metadata": {},
   "outputs": [],
   "source": [
    "def make_fast_ts_runner(session, window_1, window_2, bin_width=0.05):\n",
    "    loader = FSFastDecodeDataLoaderTwoWindows(\n",
    "        session_name=session, \n",
    "        bin_width=bin_width, \n",
    "        window_1=window_1,\n",
    "        window_2=window_2,\n",
    "    )\n",
    "    preprocessor = DecodePreprocessor(\n",
    "        thresh_empty=1, \n",
    "    )\n",
    "    estimator = LGBMClassifier(n_estimators=40, max_depth=4, num_leaves=30)\n",
    "    cv = StratifiedKFold(n_splits=5, shuffle=False)\n",
    "    decoder = Decoder(estimator=estimator, cv=cv, shuffler=shuffle_X)\n",
    "    runner = DecodeRunner(\n",
    "        loader=loader,\n",
    "        preprocessor=preprocessor,\n",
    "        decoder=decoder,\n",
    "        nboot=1,\n",
    "    )\n",
    "    return runner"
   ]
  },
  {
   "cell_type": "code",
   "execution_count": null,
   "metadata": {},
   "outputs": [],
   "source": [
    "dd = Config.derived_data_dir / \"decoding\"\n",
    "neuron_types = load_derived_generic(\"neuron_types.csv\").dropna()\n",
    "sessions = ExperimentInfo.foot_shock_sessions_10min\n",
    "window_pre = (-0.3, -0.1)\n",
    "window_post = (0.05, 0.2)\n",
    "\n",
    "runner = make_fast_ts_runner(\n",
    "    session=sessions[1],\n",
    "    window_1=window_pre,\n",
    "    window_2=window_post, \n",
    "    bin_width=0.1\n",
    ")\n",
    "\n",
    "pop, unit, unit_shuff = runner.run_multiple(sessions)\n",
    "limit = runner.run_multiple_limit(sessions, n_min=1, n_max=30)\n",
    "dropout = runner.run_multiple_dropout(sessions,)"
   ]
  },
  {
   "cell_type": "code",
   "execution_count": null,
   "metadata": {},
   "outputs": [],
   "source": [
    "unit.to_csv(dd / \"fs_fast - unit.csv\", index=False)\n",
    "pop.to_csv(dd / \"fs_fast - pop.csv\", index=False)\n",
    "limit.to_csv(dd / \"fs_fast - limit.csv\", index=False)\n",
    "dropout.to_csv(dd / \"fs_fast - dropout.csv\", index=False)"
   ]
  },
  {
   "cell_type": "code",
   "execution_count": null,
   "metadata": {},
   "outputs": [],
   "source": [
    "W, p = pd.merge(\n",
    "    unit_shuff.rename(columns={\"F1 Score\": \"shuff_score\"}),\n",
    "    unit.rename(columns={\"F1 Score\": \"real_score\"}),\n",
    ").pipe(lambda x: wilcoxon(x.shuff_score, x.real_score))\n",
    "print(W, p)\n",
    "print(unit_shuff[\"F1 Score\"].median())\n",
    "print(unit[\"F1 Score\"].median())"
   ]
  }
 ],
 "metadata": {
  "kernelspec": {
   "display_name": "drn_final",
   "language": "python",
   "name": "python3"
  },
  "language_info": {
   "codemirror_mode": {
    "name": "ipython",
    "version": 3
   },
   "file_extension": ".py",
   "mimetype": "text/x-python",
   "name": "python",
   "nbconvert_exporter": "python",
   "pygments_lexer": "ipython3",
   "version": "3.10.4 | packaged by conda-forge | (main, Mar 30 2022, 08:38:02) [MSC v.1916 64 bit (AMD64)]"
  },
  "orig_nbformat": 4,
  "vscode": {
   "interpreter": {
    "hash": "7213d2688ec1ca781f542e5308492977fad6799278d9a017f81000765c4b23e5"
   }
  }
 },
 "nbformat": 4,
 "nbformat_minor": 2
}
