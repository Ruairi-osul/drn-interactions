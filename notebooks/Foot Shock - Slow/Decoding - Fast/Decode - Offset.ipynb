{
 "cells": [
  {
   "cell_type": "code",
   "execution_count": null,
   "metadata": {},
   "outputs": [],
   "source": [
    "from drn_interactions.io import load_spikes, load_events, load_derived_generic\n",
    "from drn_interactions.decoding.offset_decoder import OffsetDecoder\n",
    "from drn_interactions.transforms.nbox_transforms import align_to_data_by\n",
    "\n",
    "from spiketimes.df.surrogates import shuffled_isi_spiketrains_by\n",
    "from scipy.stats import zscore\n",
    "from binit.bin import which_bin\n",
    "import numpy as np\n",
    "import pandas as pd\n",
    "from tqdm import tqdm\n",
    "\n",
    "from sklearn.preprocessing import StandardScaler, LabelEncoder\n",
    "from sklearn.feature_extraction.text import TfidfTransformer\n",
    "from sklearn.pipeline import make_pipeline\n",
    "from sklearn.neighbors import KNeighborsClassifier\n",
    "from sklearn.naive_bayes import GaussianNB\n",
    "from sklearn.linear_model import LogisticRegressionCV\n",
    "from sklearn.decomposition import NMF, PCA\n",
    "from sklearn.model_selection import cross_val_score, KFold, StratifiedKFold\n",
    "from sklearn.feature_extraction.text import TfidfTransformer\n",
    "from sklearn.base import clone\n",
    "from sklearn.metrics.pairwise import pairwise_distances\n",
    "\n"
   ]
  },
  {
   "cell_type": "code",
   "execution_count": null,
   "metadata": {},
   "outputs": [],
   "source": [
    "def get_aligned(df_spikes, df_events,):\n",
    "    df = align_to_data_by(\n",
    "        df_spikes, \n",
    "        df_events,\n",
    "        time_before_event=0.5,\n",
    "        time_after_event=1.5,\n",
    "        df_data_cell_col=\"neuron_id\",\n",
    "        df_data_group_col=\"session_name\",\n",
    "        df_events_group_colname=\"session_name\",\n",
    "        df_events_timestamp_col=\"event_s\",\n",
    "        df_data_time_col=\"spiketimes\"\n",
    "    )\n",
    "    bins = np.arange(-0.5, 1.5, 0.1)\n",
    "    df[\"bin\"] = np.round(which_bin(df[\"aligned\"].values, bins), 2)\n",
    "    df = df.groupby([\"neuron_id\", \"event\", \"bin\"]).apply(len).to_frame(\"counts\").reset_index()\n",
    "    return df.pivot(index=[\"event\", \"bin\"], columns=\"neuron_id\", values=\"counts\").fillna(0)\n",
    "\n",
    "def offset_decode(df_spikes, df_events, sessions, estimator, cv, scoring=\"f1_macro\"):\n",
    "    neurons_sub = df_spikes[[\"neuron_id\", \"session_name\"]].drop_duplicates()\n",
    "    out = []\n",
    "    for session in tqdm(sessions):\n",
    "        shuffled = shuffled_isi_spiketrains_by(df_spikes, by_col=\"neuron_id\").merge(neurons_sub)\n",
    "        spikes_true = get_aligned(\n",
    "            df_spikes.query(f\"session_name == '{session}'\"),\n",
    "            df_events\n",
    "            )\n",
    "        spikes_fake = get_aligned(\n",
    "            shuffled.query(f\"session_name == '{session}'\"),\n",
    "            df_events\n",
    "        )\n",
    "        decoder = OffsetDecoder(estimator=clone(estimator), cv=cv, scoring=scoring)\n",
    "        res = decoder.fit_models([(spikes_true, spikes_fake)])\n",
    "        out.append(res.assign(session_name = session))\n",
    "    return out"
   ]
  }
 ],
 "metadata": {
  "kernelspec": {
   "display_name": "drn38",
   "language": "python",
   "name": "python3"
  },
  "language_info": {
   "name": "python",
   "version": "3.8.13 (default, Mar 28 2022, 06:59:08) [MSC v.1916 64 bit (AMD64)]"
  },
  "orig_nbformat": 4,
  "vscode": {
   "interpreter": {
    "hash": "83d85788087be4ab95a62fa43e95c13744f0a02d6feebc555b96a547158d0970"
   }
  }
 },
 "nbformat": 4,
 "nbformat_minor": 2
}
