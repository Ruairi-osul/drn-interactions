{
 "cells": [
  {
   "cell_type": "code",
   "execution_count": 1,
   "metadata": {},
   "outputs": [
    {
     "name": "stderr",
     "output_type": "stream",
     "text": [
      "c:\\Users\\roryl\\.conda\\envs\\drn-interactions\\lib\\site-packages\\outdated\\utils.py:18: OutdatedPackageWarning: The package pingouin is out of date. Your version is 0.3.12, the latest is 0.5.2.\n",
      "Set the environment variable OUTDATED_IGNORE=1 to disable these warnings.\n",
      "  **kwargs\n"
     ]
    }
   ],
   "source": [
    "from drn_interactions.interactions.preprocessors import InteractionsPreprocessor\n",
    "from drn_interactions.interactions.loaders import BaseShockSlowInteractionsLoader\n",
    "from drn_interactions.interactions.pairwise import PairwiseCorr\n",
    "from drn_interactions.io import load_neurons, load_derived_generic\n",
    "import seaborn as sns\n",
    "import pandas as pd\n",
    "import numpy as np\n",
    "from drn_interactions.interactions.graph_clustering import SpectralCluster, ClusterRunner, ClusterEvaluation, ClusterResults\n",
    "import warnings\n",
    "from drn_interactions.config import Config, ExperimentInfo\n",
    "from tqdm import tqdm\n",
    "\n",
    "dd = Config.derived_data_dir / \"ensembles\"\n",
    "dd.mkdir(exist_ok=True)\n",
    "sns.set_theme(style=\"ticks\", context=\"paper\")"
   ]
  },
  {
   "cell_type": "code",
   "execution_count": 3,
   "metadata": {},
   "outputs": [],
   "source": [
    "sessions = ExperimentInfo.foot_shock_sessions_10min\n",
    "\n",
    "preprocessor = InteractionsPreprocessor(z=True, minmax=False)\n",
    "evaluator = ClusterEvaluation()\n",
    "\n",
    "loader_fac = lambda session, block, bin_width: BaseShockSlowInteractionsLoader(\n",
    "    session_name=session, block=block, bin_width=bin_width,\n",
    ")\n",
    "corr_fac = lambda: PairwiseCorr(\n",
    "    remove_self_interactions=True,\n",
    "    rectify=True,\n",
    "    shuffle=False,\n",
    "    remove_duplicate_combs=True,\n",
    ")\n",
    "cluster_fac = lambda: SpectralCluster(\n",
    "    n_clusters=np.arange(2, 8), spectral_kws={\"affinity\": \"precomputed\"}, n_init=3\n",
    ")\n",
    "\n",
    "runner_fac = lambda session, block, bin_width: ClusterRunner(\n",
    "    loader=loader_fac(session=session, block=block, bin_width=bin_width),\n",
    "    preprocessor=preprocessor,\n",
    "    affinity_calculator=corr_fac(),\n",
    "    clusterer=cluster_fac(),\n",
    "    evalulator=evaluator,\n",
    ")"
   ]
  },
  {
   "cell_type": "code",
   "execution_count": 4,
   "metadata": {},
   "outputs": [
    {
     "name": "stderr",
     "output_type": "stream",
     "text": [
      " 62%|██████▎   | 5/8 [01:14<00:39, 13.11s/it]"
     ]
    },
    {
     "name": "stdout",
     "output_type": "stream",
     "text": [
      "attempt to get argmax of an empty sequence\n",
      "hamilton_37\n"
     ]
    },
    {
     "name": "stderr",
     "output_type": "stream",
     "text": [
      "100%|██████████| 8/8 [02:24<00:00, 18.02s/it]\n",
      "100%|██████████| 8/8 [02:49<00:00, 21.13s/it]\n",
      " 62%|██████▎   | 5/8 [01:05<00:34, 11.59s/it]"
     ]
    },
    {
     "name": "stdout",
     "output_type": "stream",
     "text": [
      "attempt to get argmax of an empty sequence\n",
      "hamilton_37\n"
     ]
    },
    {
     "name": "stderr",
     "output_type": "stream",
     "text": [
      "100%|██████████| 8/8 [02:08<00:00, 16.09s/it]\n",
      "100%|██████████| 8/8 [02:18<00:00, 17.30s/it]\n",
      " 62%|██████▎   | 5/8 [00:55<00:29,  9.74s/it]"
     ]
    },
    {
     "name": "stdout",
     "output_type": "stream",
     "text": [
      "attempt to get argmax of an empty sequence\n",
      "hamilton_37\n"
     ]
    },
    {
     "name": "stderr",
     "output_type": "stream",
     "text": [
      "100%|██████████| 8/8 [01:44<00:00, 13.11s/it]\n",
      "100%|██████████| 8/8 [01:55<00:00, 14.41s/it]\n",
      " 62%|██████▎   | 5/8 [00:53<00:27,  9.33s/it]"
     ]
    },
    {
     "name": "stdout",
     "output_type": "stream",
     "text": [
      "attempt to get argmax of an empty sequence\n",
      "hamilton_37\n"
     ]
    },
    {
     "name": "stderr",
     "output_type": "stream",
     "text": [
      "100%|██████████| 8/8 [01:41<00:00, 12.64s/it]\n",
      "100%|██████████| 8/8 [01:52<00:00, 14.00s/it]\n"
     ]
    }
   ],
   "source": [
    "ensemble_frames = []\n",
    "ensemble_stats_frames = []\n",
    "\n",
    "for bin_width in (0.05, 0.1, 0.5, 1):\n",
    "    for block in (\"pre\", \"base_shock\"):\n",
    "        for session in tqdm(sessions):\n",
    "\n",
    "            # calculate ensembles\n",
    "            runner = runner_fac(session=session, block=block, bin_width=bin_width)\n",
    "            with warnings.catch_warnings():\n",
    "                warnings.simplefilter(\"ignore\")\n",
    "                try:\n",
    "                    _, ensembles, _, ensemble_stats = runner.run(10)\n",
    "                except ValueError as e:\n",
    "                    print(e)\n",
    "                    print(session)\n",
    "\n",
    "            # add metadata and append to list of results\n",
    "            ensembles = ensembles.assign(session_name=session, block=block, bin_width=bin_width)\n",
    "            ensemble_stats = ensemble_stats.assign(session_name=session, block=block, bin_width=bin_width)\n",
    "            ensemble_stats_frames.append(ensemble_stats)\n",
    "            ensemble_frames.append(ensembles)\n",
    "\n",
    "df_ensembles = pd.concat(ensemble_frames).reset_index(drop=True)\n",
    "df_ensembles_stats = pd.concat(ensemble_stats_frames).reset_index(drop=True)\n",
    "\n",
    "df_ensembles_stats[\"ensemble_id\"] = pd.factorize(\n",
    "    df_ensembles_stats[\"ensemble\"].astype(str)\n",
    "    + df_ensembles_stats[\"session_name\"]\n",
    "    + df_ensembles_stats[\"block\"]\n",
    "    + df_ensembles_stats[\"bin_width\"].astype(str)\n",
    ")[0]\n",
    "df_ensembles_stats[\"ensemble_id\"] = np.where(\n",
    "    df_ensembles_stats[\"ensemble\"] == -1,\n",
    "    -1,\n",
    "    df_ensembles_stats[\"ensemble_id\"],\n",
    ")\n",
    "df_ensembles = (\n",
    "    df_ensembles.merge(\n",
    "    df_ensembles_stats[[\"session_name\", \"ensemble\", \"ensemble_id\", \"block\", \"bin_width\"]],\n",
    "    on=[\"session_name\", \"ensemble\", \"block\", \"bin_width\"]\n",
    "    )\n",
    ")\n",
    "\n",
    "df_ensembles.to_csv(dd / \"fs - ensembles.csv\", index=False)\n",
    "df_ensembles_stats.to_csv(dd / \"fs - stats.csv\", index=False)\n"
   ]
  },
  {
   "cell_type": "markdown",
   "metadata": {},
   "source": [
    "### Ensemble Properties\n",
    "\n",
    "Are the properties of ensembles different between the two states?\n",
    "\n",
    "Properties:\n",
    "- Size\n",
    "- Average Weight\n",
    "- Average Conductivity\n",
    "- Edge Expantion"
   ]
  },
  {
   "cell_type": "code",
   "execution_count": 6,
   "metadata": {},
   "outputs": [
    {
     "name": "stdout",
     "output_type": "stream",
     "text": [
      "\n",
      "size\n",
      " n_pre         15.00\n",
      "n_shock       17.00\n",
      "Mean_pre      13.07\n",
      "Mean_shock     8.71\n",
      "Diff          -4.36\n",
      "U             98.50\n",
      "p              0.14\n",
      "dtype: float64\n",
      "\n",
      "average_weight\n",
      " n_pre          15.00\n",
      "n_shock        17.00\n",
      "Mean_pre        0.25\n",
      "Mean_shock      0.25\n",
      "Diff           -0.00\n",
      "U             118.00\n",
      "p               0.37\n",
      "dtype: float64\n",
      "\n",
      "conductance\n",
      " n_pre         15.00\n",
      "n_shock       17.00\n",
      "Mean_pre       0.52\n",
      "Mean_shock     0.38\n",
      "Diff          -0.14\n",
      "U             78.00\n",
      "p              0.03\n",
      "dtype: float64\n"
     ]
    },
    {
     "data": {
      "image/png": "[encoded data removed]",
      "text/plain": [
       "<Figure size 288x108 with 3 Axes>"
      ]
     },
     "metadata": {},
     "output_type": "display_data"
    }
   ],
   "source": [
    "from drn_interactions.stats import mannwhitneyu_plusplus\n",
    "import matplotlib.pyplot as plt\n",
    "from drn_interactions.plots import PAL_GREY_BLACK\n",
    "\n",
    "def compare_metric(df, metric):\n",
    "    x = df.query(\"ensemble_id != -1 and block == 'pre'\")[metric].values\n",
    "    y = df.query(\"ensemble_id != -1 and block == 'base_shock'\")[metric].values\n",
    "    return mannwhitneyu_plusplus(x, y, names=(\"pre\", \"shock\")).round(2)\n",
    "\n",
    "def plot_metric(df, metric, ax, **kwargs):\n",
    "    return (\n",
    "        df\n",
    "        .query(\"ensemble_id != -1\")\n",
    "        .pipe((sns.barplot, \"data\"), x=\"block\", y=metric, hue=\"block\", ax=ax, **kwargs)\n",
    "    )\n",
    "\n",
    "\n",
    "df_stats = df_ensembles_stats.query(\"bin_width == 1\")\n",
    "\n",
    "f = plt.figure(figsize=(4, 1.5), constrained_layout=True)\n",
    "axes = f.subplots(1, 3, sharex=True)\n",
    "\n",
    "for i, (metric, lab, ylab) in enumerate(zip(\n",
    "    (\"size\", \"average_weight\", \"conductance\"), \n",
    "    (\"Size\", \"Average Weight\", \"Conductance\"),\n",
    "    (\"\", \"\", r\"\"),\n",
    "    )):\n",
    "    res = compare_metric(df_stats, metric)\n",
    "    print(f\"\\n{metric}\\n\", res)\n",
    "    ax = axes[i]\n",
    "    plot_metric(df_stats, metric, ax, palette=PAL_GREY_BLACK)\n",
    "    ax.legend().remove()\n",
    "    ax.set_xlabel(\"\")\n",
    "    ax.set_ylabel(ylab)\n",
    "    ax.set_title(lab)\n",
    "    ax.set_xticklabels([\"Inact\", \"Act\"])\n",
    "\n",
    "sns.despine(fig=f)\n",
    "    "
   ]
  },
  {
   "cell_type": "code",
   "execution_count": 7,
   "metadata": {},
   "outputs": [
    {
     "data": {
      "text/html": [
       "<div>\n",
       "<style scoped>\n",
       "    .dataframe tbody tr th:only-of-type {\n",
       "        vertical-align: middle;\n",
       "    }\n",
       "\n",
       "    .dataframe tbody tr th {\n",
       "        vertical-align: top;\n",
       "    }\n",
       "\n",
       "    .dataframe thead th {\n",
       "        text-align: right;\n",
       "    }\n",
       "</style>\n",
       "<table border=\"1\" class=\"dataframe\">\n",
       "  <thead>\n",
       "    <tr style=\"text-align: right;\">\n",
       "      <th></th>\n",
       "      <th>neuron_id</th>\n",
       "      <th>ensemble</th>\n",
       "      <th>sig</th>\n",
       "      <th>ensemble_orig</th>\n",
       "      <th>session_name</th>\n",
       "      <th>block</th>\n",
       "      <th>bin_width</th>\n",
       "      <th>ensemble_id</th>\n",
       "    </tr>\n",
       "  </thead>\n",
       "  <tbody>\n",
       "    <tr>\n",
       "      <th>0</th>\n",
       "      <td>1031</td>\n",
       "      <td>-1</td>\n",
       "      <td>False</td>\n",
       "      <td>0</td>\n",
       "      <td>hamilton_04</td>\n",
       "      <td>pre</td>\n",
       "      <td>0.05</td>\n",
       "      <td>-1</td>\n",
       "    </tr>\n",
       "    <tr>\n",
       "      <th>1</th>\n",
       "      <td>1031</td>\n",
       "      <td>-1</td>\n",
       "      <td>False</td>\n",
       "      <td>0</td>\n",
       "      <td>hamilton_04</td>\n",
       "      <td>pre</td>\n",
       "      <td>0.05</td>\n",
       "      <td>-1</td>\n",
       "    </tr>\n",
       "    <tr>\n",
       "      <th>2</th>\n",
       "      <td>1031</td>\n",
       "      <td>-1</td>\n",
       "      <td>False</td>\n",
       "      <td>0</td>\n",
       "      <td>hamilton_04</td>\n",
       "      <td>pre</td>\n",
       "      <td>0.05</td>\n",
       "      <td>-1</td>\n",
       "    </tr>\n",
       "    <tr>\n",
       "      <th>3</th>\n",
       "      <td>1035</td>\n",
       "      <td>-1</td>\n",
       "      <td>False</td>\n",
       "      <td>0</td>\n",
       "      <td>hamilton_04</td>\n",
       "      <td>pre</td>\n",
       "      <td>0.05</td>\n",
       "      <td>-1</td>\n",
       "    </tr>\n",
       "    <tr>\n",
       "      <th>4</th>\n",
       "      <td>1035</td>\n",
       "      <td>-1</td>\n",
       "      <td>False</td>\n",
       "      <td>0</td>\n",
       "      <td>hamilton_04</td>\n",
       "      <td>pre</td>\n",
       "      <td>0.05</td>\n",
       "      <td>-1</td>\n",
       "    </tr>\n",
       "    <tr>\n",
       "      <th>...</th>\n",
       "      <td>...</td>\n",
       "      <td>...</td>\n",
       "      <td>...</td>\n",
       "      <td>...</td>\n",
       "      <td>...</td>\n",
       "      <td>...</td>\n",
       "      <td>...</td>\n",
       "      <td>...</td>\n",
       "    </tr>\n",
       "    <tr>\n",
       "      <th>5383</th>\n",
       "      <td>1961</td>\n",
       "      <td>-1</td>\n",
       "      <td>False</td>\n",
       "      <td>2</td>\n",
       "      <td>hamilton_32</td>\n",
       "      <td>base_shock</td>\n",
       "      <td>1.00</td>\n",
       "      <td>-1</td>\n",
       "    </tr>\n",
       "    <tr>\n",
       "      <th>5384</th>\n",
       "      <td>1961</td>\n",
       "      <td>-1</td>\n",
       "      <td>False</td>\n",
       "      <td>2</td>\n",
       "      <td>hamilton_32</td>\n",
       "      <td>base_shock</td>\n",
       "      <td>1.00</td>\n",
       "      <td>-1</td>\n",
       "    </tr>\n",
       "    <tr>\n",
       "      <th>5385</th>\n",
       "      <td>1975</td>\n",
       "      <td>3</td>\n",
       "      <td>True</td>\n",
       "      <td>3</td>\n",
       "      <td>hamilton_32</td>\n",
       "      <td>base_shock</td>\n",
       "      <td>1.00</td>\n",
       "      <td>126</td>\n",
       "    </tr>\n",
       "    <tr>\n",
       "      <th>5386</th>\n",
       "      <td>1973</td>\n",
       "      <td>3</td>\n",
       "      <td>True</td>\n",
       "      <td>3</td>\n",
       "      <td>hamilton_32</td>\n",
       "      <td>base_shock</td>\n",
       "      <td>1.00</td>\n",
       "      <td>126</td>\n",
       "    </tr>\n",
       "    <tr>\n",
       "      <th>5387</th>\n",
       "      <td>1970</td>\n",
       "      <td>3</td>\n",
       "      <td>True</td>\n",
       "      <td>3</td>\n",
       "      <td>hamilton_32</td>\n",
       "      <td>base_shock</td>\n",
       "      <td>1.00</td>\n",
       "      <td>126</td>\n",
       "    </tr>\n",
       "  </tbody>\n",
       "</table>\n",
       "<p>5388 rows × 8 columns</p>\n",
       "</div>"
      ],
      "text/plain": [
       "      neuron_id  ensemble    sig  ensemble_orig session_name       block  \\\n",
       "0          1031        -1  False              0  hamilton_04         pre   \n",
       "1          1031        -1  False              0  hamilton_04         pre   \n",
       "2          1031        -1  False              0  hamilton_04         pre   \n",
       "3          1035        -1  False              0  hamilton_04         pre   \n",
       "4          1035        -1  False              0  hamilton_04         pre   \n",
       "...         ...       ...    ...            ...          ...         ...   \n",
       "5383       1961        -1  False              2  hamilton_32  base_shock   \n",
       "5384       1961        -1  False              2  hamilton_32  base_shock   \n",
       "5385       1975         3   True              3  hamilton_32  base_shock   \n",
       "5386       1973         3   True              3  hamilton_32  base_shock   \n",
       "5387       1970         3   True              3  hamilton_32  base_shock   \n",
       "\n",
       "      bin_width  ensemble_id  \n",
       "0          0.05           -1  \n",
       "1          0.05           -1  \n",
       "2          0.05           -1  \n",
       "3          0.05           -1  \n",
       "4          0.05           -1  \n",
       "...         ...          ...  \n",
       "5383       1.00           -1  \n",
       "5384       1.00           -1  \n",
       "5385       1.00          126  \n",
       "5386       1.00          126  \n",
       "5387       1.00          126  \n",
       "\n",
       "[5388 rows x 8 columns]"
      ]
     },
     "execution_count": 7,
     "metadata": {},
     "output_type": "execute_result"
    }
   ],
   "source": [
    "df_ensembles"
   ]
  },
  {
   "cell_type": "code",
   "execution_count": 14,
   "metadata": {},
   "outputs": [
    {
     "data": {
      "text/plain": [
       "Text(0.5, 1.0, 'Number of Ensembles')"
      ]
     },
     "execution_count": 14,
     "metadata": {},
     "output_type": "execute_result"
    },
    {
     "data": {
      "image/png": "[encoded data removed]",
      "text/plain": [
       "<Figure size 432x288 with 1 Axes>"
      ]
     },
     "metadata": {},
     "output_type": "display_data"
    }
   ],
   "source": [
    "dfp = (\n",
    "    df_ensembles   \n",
    "    .groupby([\"session_name\", \"block\", \"bin_width\"])\n",
    "    [\"ensemble_id\"]\n",
    "    .nunique()\n",
    "    .subtract(1)\n",
    "    .to_frame(\"Number of Ensembles\")\n",
    "    .reset_index()\n",
    ")\n",
    "\n",
    "_, ax = plt.subplots()\n",
    "sns.pointplot(\n",
    "    x=\"bin_width\",\n",
    "    y=\"Number of Ensembles\",\n",
    "    hue=\"block\",\n",
    "    data=dfp,\n",
    "    estimator=np.mean,\n",
    "    ax=ax,\n",
    "    dodge=True,\n",
    "    hue_order=[\"pre\", \"base_shock\"]\n",
    ")\n",
    "ax.set_ylabel(\"\")\n",
    "ax.set_xlabel(\"\")\n",
    "ax.set_title(\"Number of Ensembles\", fontsize=12)"
   ]
  },
  {
   "cell_type": "code",
   "execution_count": null,
   "metadata": {},
   "outputs": [],
   "source": []
  }
 ],
 "metadata": {
  "kernelspec": {
   "display_name": "Python 3.6.13 ('drn-interactions')",
   "language": "python",
   "name": "python3"
  },
  "language_info": {
   "codemirror_mode": {
    "name": "ipython",
    "version": 3
   },
   "file_extension": ".py",
   "mimetype": "text/x-python",
   "name": "python",
   "nbconvert_exporter": "python",
   "pygments_lexer": "ipython3",
   "version": "3.6.13"
  },
  "orig_nbformat": 4,
  "vscode": {
   "interpreter": {
    "hash": "595626f471715c1ef1767721af1162754763b18b459b8364279c934890ae0eae"
   }
  }
 },
 "nbformat": 4,
 "nbformat_minor": 2
}
