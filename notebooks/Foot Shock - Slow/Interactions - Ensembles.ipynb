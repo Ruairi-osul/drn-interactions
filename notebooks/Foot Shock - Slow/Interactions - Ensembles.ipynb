{
 "cells": [
  {
   "cell_type": "code",
   "execution_count": 1,
   "metadata": {},
   "outputs": [],
   "source": [
    "from drn_interactions.interactions.preprocessors import InteractionsPreprocessor\n",
    "from drn_interactions.interactions.loaders import BaseShockSlowInteractionsLoader\n",
    "from drn_interactions.interactions.pairwise import PairwiseCorr\n",
    "from drn_interactions.io import load_neurons, load_derived_generic\n",
    "import seaborn as sns\n",
    "import pandas as pd\n",
    "import numpy as np\n",
    "from drn_interactions.interactions.graph_clustering import SpectralCluster, ClusterRunner, ClusterEvaluation, ClusterResults\n",
    "import warnings\n",
    "from drn_interactions.config import Config, ExperimentInfo\n",
    "from tqdm import tqdm\n",
    "\n",
    "dd = Config.derived_data_dir / \"ensembles\"\n",
    "dd.mkdir(exist_ok=True)\n",
    "sns.set_theme(style=\"ticks\", context=\"paper\")"
   ]
  },
  {
   "cell_type": "code",
   "execution_count": 3,
   "metadata": {},
   "outputs": [],
   "source": [
    "sessions = ExperimentInfo.foot_shock_sessions_10min\n",
    "\n",
    "preprocessor = InteractionsPreprocessor(z=True, minmax=False)\n",
    "evaluator = ClusterEvaluation()\n",
    "\n",
    "loader_fac = lambda session, block, bin_width: BaseShockSlowInteractionsLoader(\n",
    "    session_name=session, block=block, bin_width=bin_width,\n",
    ")\n",
    "corr_fac = lambda: PairwiseCorr(\n",
    "    remove_self_interactions=True,\n",
    "    rectify=True,\n",
    "    shuffle=False,\n",
    "    remove_duplicate_combs=True,\n",
    ")\n",
    "cluster_fac = lambda: SpectralCluster(\n",
    "    n_clusters=np.arange(2, 8), spectral_kws={\"affinity\": \"precomputed\"}, n_init=3\n",
    ")\n",
    "\n",
    "runner_fac = lambda session, block, bin_width: ClusterRunner(\n",
    "    loader=loader_fac(session=session, block=block, bin_width=bin_width),\n",
    "    preprocessor=preprocessor,\n",
    "    affinity_calculator=corr_fac(),\n",
    "    clusterer=cluster_fac(),\n",
    "    evalulator=evaluator,\n",
    ")"
   ]
  },
  {
   "cell_type": "code",
   "execution_count": 4,
   "metadata": {},
   "outputs": [
    {
     "name": "stderr",
     "output_type": "stream",
     "text": [
      " 62%|██████▎   | 5/8 [01:14<00:39, 13.11s/it]"
     ]
    },
    {
     "name": "stdout",
     "output_type": "stream",
     "text": [
      "attempt to get argmax of an empty sequence\n",
      "hamilton_37\n"
     ]
    },
    {
     "name": "stderr",
     "output_type": "stream",
     "text": [
      "100%|██████████| 8/8 [02:24<00:00, 18.02s/it]\n",
      "100%|██████████| 8/8 [02:49<00:00, 21.13s/it]\n",
      " 62%|██████▎   | 5/8 [01:05<00:34, 11.59s/it]"
     ]
    },
    {
     "name": "stdout",
     "output_type": "stream",
     "text": [
      "attempt to get argmax of an empty sequence\n",
      "hamilton_37\n"
     ]
    },
    {
     "name": "stderr",
     "output_type": "stream",
     "text": [
      "100%|██████████| 8/8 [02:08<00:00, 16.09s/it]\n",
      "100%|██████████| 8/8 [02:18<00:00, 17.30s/it]\n",
      " 62%|██████▎   | 5/8 [00:55<00:29,  9.74s/it]"
     ]
    },
    {
     "name": "stdout",
     "output_type": "stream",
     "text": [
      "attempt to get argmax of an empty sequence\n",
      "hamilton_37\n"
     ]
    },
    {
     "name": "stderr",
     "output_type": "stream",
     "text": [
      "100%|██████████| 8/8 [01:44<00:00, 13.11s/it]\n",
      "100%|██████████| 8/8 [01:55<00:00, 14.41s/it]\n",
      " 62%|██████▎   | 5/8 [00:53<00:27,  9.33s/it]"
     ]
    },
    {
     "name": "stdout",
     "output_type": "stream",
     "text": [
      "attempt to get argmax of an empty sequence\n",
      "hamilton_37\n"
     ]
    },
    {
     "name": "stderr",
     "output_type": "stream",
     "text": [
      "100%|██████████| 8/8 [01:41<00:00, 12.64s/it]\n",
      "100%|██████████| 8/8 [01:52<00:00, 14.00s/it]\n"
     ]
    }
   ],
   "source": [
    "ensemble_frames = []\n",
    "ensemble_stats_frames = []\n",
    "\n",
    "for bin_width in (0.05, 0.1, 0.5, 1):\n",
    "    for block in (\"pre\", \"base_shock\"):\n",
    "        for session in tqdm(sessions):\n",
    "\n",
    "            # calculate ensembles\n",
    "            runner = runner_fac(session=session, block=block, bin_width=bin_width)\n",
    "            with warnings.catch_warnings():\n",
    "                warnings.simplefilter(\"ignore\")\n",
    "                try:\n",
    "                    _, ensembles, _, ensemble_stats = runner.run(10)\n",
    "                except ValueError as e:\n",
    "                    print(e)\n",
    "                    print(session)\n",
    "\n",
    "            # add metadata and append to list of results\n",
    "            ensembles = ensembles.assign(session_name=session, block=block, bin_width=bin_width)\n",
    "            ensemble_stats = ensemble_stats.assign(session_name=session, block=block, bin_width=bin_width)\n",
    "            ensemble_stats_frames.append(ensemble_stats)\n",
    "            ensemble_frames.append(ensembles)\n",
    "\n",
    "df_ensembles = pd.concat(ensemble_frames).reset_index(drop=True)\n",
    "df_ensembles_stats = pd.concat(ensemble_stats_frames).reset_index(drop=True)\n",
    "\n",
    "df_ensembles_stats[\"ensemble_id\"] = pd.factorize(\n",
    "    df_ensembles_stats[\"ensemble\"].astype(str)\n",
    "    + df_ensembles_stats[\"session_name\"]\n",
    "    + df_ensembles_stats[\"block\"]\n",
    "    + df_ensembles_stats[\"bin_width\"].astype(str)\n",
    ")[0]\n",
    "df_ensembles_stats[\"ensemble_id\"] = np.where(\n",
    "    df_ensembles_stats[\"ensemble\"] == -1,\n",
    "    -1,\n",
    "    df_ensembles_stats[\"ensemble_id\"],\n",
    ")\n",
    "df_ensembles = (\n",
    "    df_ensembles.merge(\n",
    "    df_ensembles_stats[[\"session_name\", \"ensemble\", \"ensemble_id\", \"block\", \"bin_width\"]],\n",
    "    on=[\"session_name\", \"ensemble\", \"block\", \"bin_width\"]\n",
    "    )\n",
    ")\n",
    "\n",
    "df_ensembles.to_csv(dd / \"fs - ensembles.csv\", index=False)\n",
    "df_ensembles_stats.to_csv(dd / \"fs - stats.csv\", index=False)\n"
   ]
  },
  {
   "cell_type": "markdown",
   "metadata": {},
   "source": [
    "### Ensemble Properties\n",
    "\n",
    "Are the properties of ensembles different between the two states?\n",
    "\n",
    "Properties:\n",
    "- Size\n",
    "- Average Weight\n",
    "- Average Conductivity\n",
    "- Edge Expantion"
   ]
  },
  {
   "cell_type": "code",
   "execution_count": 2,
   "metadata": {},
   "outputs": [],
   "source": [
    "from drn_interactions.stats import mannwhitneyu_plusplus\n",
    "import matplotlib.pyplot as plt\n",
    "from drn_interactions.plots import PAL_GREY_BLACK"
   ]
  },
  {
   "cell_type": "code",
   "execution_count": 3,
   "metadata": {},
   "outputs": [],
   "source": [
    "df_stats = (\n",
    "    load_derived_generic(\"ensembles/fs - stats.csv\")\n",
    "    .query(\"bin_width == 1\")\n",
    ")\n",
    "\n",
    "df_ensembles = (\n",
    "    load_derived_generic(\"ensembles/fs - ensembles.csv\")\n",
    "    .query(\"bin_width == 1\")\n",
    ")\n",
    "neuron_types = load_derived_generic(\"neuron_types.csv\")\n",
    "df_response =  load_derived_generic(\"graph/fs - responders.csv\")\n"
   ]
  },
  {
   "cell_type": "code",
   "execution_count": 8,
   "metadata": {},
   "outputs": [],
   "source": [
    "descriptor = ClusterResults(\n",
    "    neuron_types=neuron_types,\n",
    ")\n",
    "stats = descriptor.ensemble_results(df_ensembles, df_stats)\n",
    "\n",
    "slow_entropy = descriptor.ensemble_response_entropy(\n",
    "    ensemble_res=df_ensembles, \n",
    "    df_response=df_response, \n",
    "    created_col = \"slow_response_entropy\",\n",
    "    df_response_response_col=\"response_fs_slow\"\n",
    ")\n",
    "\n",
    "fast_entropy = descriptor.ensemble_response_entropy(\n",
    "    ensemble_res=df_ensembles, \n",
    "    df_response=df_response, \n",
    "    created_col = \"fast_response_entropy\",\n",
    "    df_response_response_col=\"response_fs_fast\"\n",
    ")\n",
    "\n",
    "stats = stats.merge(slow_entropy).merge(fast_entropy)\n",
    "stats.to_csv(dd / \"fs - descripted.csv\", index=False)"
   ]
  }
 ],
 "metadata": {
  "kernelspec": {
   "display_name": "Python 3.8.13 ('drn')",
   "language": "python",
   "name": "python3"
  },
  "language_info": {
   "codemirror_mode": {
    "name": "ipython",
    "version": 3
   },
   "file_extension": ".py",
   "mimetype": "text/x-python",
   "name": "python",
   "nbconvert_exporter": "python",
   "pygments_lexer": "ipython3",
   "version": "3.8.13"
  },
  "orig_nbformat": 4,
  "vscode": {
   "interpreter": {
    "hash": "a141ff61fc8e5477d761678b9939730228dd63e8e5dabf1901cb4084a0e2e4d6"
   }
  }
 },
 "nbformat": 4,
 "nbformat_minor": 2
}
