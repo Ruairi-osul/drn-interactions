{
 "cells": [
  {
   "cell_type": "code",
   "execution_count": 1,
   "metadata": {},
   "outputs": [],
   "source": [
    "from sklearn.model_selection import KFold\n",
    "from lightgbm import LGBMClassifier\n",
    "\n",
    "from drn_interactions.config import ExperimentInfo\n",
    "from drn_interactions.decoding.loaders import FSDecodeDataLoader, FSFastDecodeDataLoader\n",
    "from drn_interactions.decoding.preprocessors import DecodePreprocessor\n",
    "from drn_interactions.decoding.runners import DecodeRunner\n",
    "from drn_interactions.decoding.decoders import Decoder\n",
    "from drn_interactions.decoding.shuffle import shuffle_X\n",
    "\n",
    "\n",
    "# %load_ext autoreload\n",
    "# %autoreload 2"
   ]
  },
  {
   "cell_type": "code",
   "execution_count": 2,
   "metadata": {},
   "outputs": [],
   "source": [
    "sessions = ExperimentInfo.foot_shock_sessions_10min\n",
    "session = sessions[0]\n",
    "loader = FSDecodeDataLoader(session_name=session)\n",
    "preprocessor = DecodePreprocessor(\n",
    "    thresh_empty=2,\n",
    ")\n",
    "spikes, states = loader()\n",
    "spikes, states = preprocessor(spikes, states)\n",
    "\n",
    "estimator = LGBMClassifier(n_estimators=50, max_depth=8, num_leaves=30)\n",
    "cv = KFold(n_splits=5, shuffle=True)\n",
    "decoder = Decoder(estimator=estimator, cv=cv, shuffler=shuffle_X)\n",
    "runner = DecodeRunner(\n",
    "    loader=loader,\n",
    "    preprocessor=preprocessor,\n",
    "    decoder=decoder,\n",
    "    nboot=75,\n",
    ")"
   ]
  },
  {
   "cell_type": "code",
   "execution_count": 7,
   "metadata": {},
   "outputs": [],
   "source": [
    "pop, unit = runner.run_multiple(sessions)\n",
    "limit = runner.run_multiple_limit(sessions=sessions, n_min=1, n_max=31)\n",
    "dropout = runner.run_multiple_dropout(sessions=sessions, neuron_types=(\"SR\", \"SIR\", \"FF\"))"
   ]
  },
  {
   "cell_type": "code",
   "execution_count": 8,
   "metadata": {},
   "outputs": [],
   "source": [
    "from drn_interactions.config import Config\n",
    "\n",
    "\n",
    "dd = Config.derived_data_dir / \"decoding\"\n",
    "\n",
    "pop.to_csv(dd / \"fs_slow - pop.csv\", index=False)\n",
    "unit.to_csv(dd / \"fs_slow - unit.csv\", index=False)\n",
    "limit.to_csv(dd / \"fs_slow - limit.csv\", index=False)\n",
    "dropout.to_csv(dd / \"fs_slow - dropout.csv\", index=False)"
   ]
  },
  {
   "cell_type": "code",
   "execution_count": null,
   "metadata": {},
   "outputs": [],
   "source": []
  },
  {
   "cell_type": "code",
   "execution_count": 94,
   "metadata": {},
   "outputs": [],
   "source": [
    "from sklearn.decomposition import PCA, KernelPCA\n",
    "from sklearn.naive_bayes import GaussianNB\n",
    "from sklearn.neighbors import KNeighborsClassifier\n",
    "from sklearn.pipeline import make_pipeline\n",
    "from sklearn.preprocessing import MinMaxScaler, StandardScaler\n",
    "from sklearn.discriminant_analysis import LinearDiscriminantAnalysis\n",
    "from sklearn.preprocessing import PolynomialFeatures\n",
    "from sklearn.svm import SVC\n",
    "\n",
    "\n",
    "sessions = ExperimentInfo.foot_shock_sessions_10min\n",
    "session = sessions[0]\n",
    "loader = FSFastDecodeDataLoader(session_name=session, bin_width=0.1)\n",
    "preprocessor = DecodePreprocessor(\n",
    "    thresh_empty=1, \n",
    ")\n",
    "spikes, states = loader()\n",
    "spikes, states = preprocessor(spikes, states)\n",
    "\n",
    "estimator = LGBMClassifier(n_estimators=40, max_depth=8, num_leaves=30)\n",
    "estimator = make_pipeline(StandardScaler(), estimator)\n",
    "\n",
    "cv = KFold(n_splits=5, shuffle=True)\n",
    "decoder = Decoder(estimator=estimator, cv=cv, shuffler=shuffle_X)\n",
    "runner = DecodeRunner(\n",
    "    loader=loader,\n",
    "    preprocessor=preprocessor,\n",
    "    decoder=decoder,\n",
    "    nboot=75,\n",
    ")"
   ]
  },
  {
   "cell_type": "code",
   "execution_count": 95,
   "metadata": {},
   "outputs": [
    {
     "name": "stderr",
     "output_type": "stream",
     "text": [
      "100%|██████████| 75/75 [00:16<00:00,  4.48it/s]\n",
      "100%|██████████| 75/75 [00:16<00:00,  4.44it/s]\n",
      "100%|██████████| 75/75 [00:26<00:00,  2.84it/s]\n",
      "100%|██████████| 75/75 [00:19<00:00,  3.76it/s]\n",
      "100%|██████████| 75/75 [00:21<00:00,  3.51it/s]\n",
      "100%|██████████| 75/75 [00:21<00:00,  3.50it/s]\n",
      "100%|██████████| 75/75 [00:18<00:00,  4.14it/s]\n",
      "100%|██████████| 75/75 [00:19<00:00,  3.87it/s]\n"
     ]
    }
   ],
   "source": [
    "pop, unit = runner.run_multiple(sessions)\n",
    "limit = runner.run_multiple_limit(sessions=sessions, n_min=1, n_max=31)\n",
    "dropout = runner.run_multiple_dropout(sessions=sessions, neuron_types=(\"SR\", \"SIR\", \"FF\"))"
   ]
  },
  {
   "cell_type": "code",
   "execution_count": 96,
   "metadata": {},
   "outputs": [],
   "source": [
    "dd = Config.derived_data_dir / \"decoding\"\n",
    "\n",
    "pop.to_csv(dd / \"fs_fast - pop.csv\", index=False)\n",
    "unit.to_csv(dd / \"fs_fast - unit.csv\", index=False)\n",
    "limit.to_csv(dd / \"fs_fast - limit.csv\", index=False)\n",
    "dropout.to_csv(dd / \"fs_fast - dropout.csv\", index=False)"
   ]
  },
  {
   "cell_type": "code",
   "execution_count": null,
   "metadata": {},
   "outputs": [],
   "source": []
  }
 ],
 "metadata": {
  "kernelspec": {
   "display_name": "Python 3.10.4 ('drn_final')",
   "language": "python",
   "name": "python3"
  },
  "language_info": {
   "codemirror_mode": {
    "name": "ipython",
    "version": 3
   },
   "file_extension": ".py",
   "mimetype": "text/x-python",
   "name": "python",
   "nbconvert_exporter": "python",
   "pygments_lexer": "ipython3",
   "version": "3.10.4"
  },
  "orig_nbformat": 4,
  "vscode": {
   "interpreter": {
    "hash": "7213d2688ec1ca781f542e5308492977fad6799278d9a017f81000765c4b23e5"
   }
  }
 },
 "nbformat": 4,
 "nbformat_minor": 2
}
