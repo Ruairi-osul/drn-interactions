{
 "cells": [
  {
   "cell_type": "code",
   "execution_count": null,
   "metadata": {},
   "outputs": [],
   "source": [
    "from sklearn.model_selection import KFold\n",
    "from lightgbm import LGBMRegressor\n",
    "from sklearn.compose import make_column_transformer, make_column_selector, TransformedTargetRegressor\n",
    "from sklearn.preprocessing import OneHotEncoder\n",
    "from sklearn.pipeline import make_pipeline\n",
    "from sklearn.preprocessing import StandardScaler, OneHotEncoder\n",
    "from sklearn.model_selection import KFold\n",
    "\n",
    "from drn_interactions.config import ExperimentInfo, Config\n",
    "from drn_interactions.decoding.loaders import FSDecodeDataLoader, FSFastDecodeDataLoader\n",
    "from drn_interactions.decoding.preprocessors import DecodePreprocessor\n",
    "from drn_interactions.decoding.encoders import StateEncoder\n",
    "from drn_interactions.decoding.runners import EncodeRunner\n",
    "from drn_interactions.decoding.shuffle import shuffle_X\n"
   ]
  },
  {
   "cell_type": "code",
   "execution_count": null,
   "metadata": {},
   "outputs": [],
   "source": [
    "sessions = ExperimentInfo.foot_shock_sessions_10min\n",
    "session = sessions[0]\n",
    "loader = FSDecodeDataLoader(session_name=session, t_start=-600, t_stop=600)\n",
    "preprocessor = DecodePreprocessor(\n",
    "    thresh_empty=2,\n",
    ")\n",
    "spikes, states = loader()\n",
    "spikes, states = preprocessor(spikes, states)\n",
    "\n",
    "# states.name = \"block\"\n",
    "ct = make_column_transformer(\n",
    "    (\n",
    "        StandardScaler(),\n",
    "        make_column_selector(dtype_exclude=object)\n",
    "    ),  \n",
    "    (\n",
    "        OneHotEncoder(drop=\"if_binary\"),\n",
    "        make_column_selector(dtype_include=object)\n",
    "    ), \n",
    ")\n",
    "\n",
    "estimator = make_pipeline(ct, \n",
    "    LGBMRegressor(\n",
    "        n_estimators=30,\n",
    "        n_jobs=-1, \n",
    "        force_row_wise=True,\n",
    "        reg_lambda=0.8,\n",
    "        )\n",
    ")\n",
    "\n",
    "estimator = TransformedTargetRegressor(estimator, transformer=StandardScaler())\n",
    "cv = KFold(shuffle=True)\n",
    "encoder = StateEncoder(estimator=estimator, cv=cv, verbose=True, combined_mode=\"combined\")\n",
    "runner = EncodeRunner(\n",
    "    loader=loader,\n",
    "    preprocessor=preprocessor,\n",
    "    encoder=encoder,\n",
    ")"
   ]
  },
  {
   "cell_type": "code",
   "execution_count": null,
   "metadata": {},
   "outputs": [],
   "source": [
    "pop = runner.run_multiple_pop(sessions=sessions)\n",
    "pop_shuffle = runner.run_multiple_pop(sessions=sessions, shuffle=True)\n",
    "state = runner.run_multiple_state(sessions=sessions)\n",
    "state_shuffle = runner.run_multiple_state(sessions=sessions, shuffle=True)\n",
    "comb = runner.run_multiple_comb(sessions=sessions, shuffle=False)\n",
    "comb_shuffle = runner.run_multiple_comb(sessions=sessions, shuffle=True)\n",
    "limit = runner.run_multiple_limit(sessions=sessions, min_features=1, max_features=30)\n",
    "dropout = runner.run_multiple_dropout(sessions=sessions)\n"
   ]
  },
  {
   "cell_type": "code",
   "execution_count": null,
   "metadata": {},
   "outputs": [],
   "source": [
    "dd = Config.derived_data_dir / \"encoding\"\n",
    "\n",
    "pop.to_csv(dd / \"fs_slow - pop.csv\", index=False)\n",
    "pop_shuffle.to_csv(dd / \"fs_slow - pop shuffle.csv\", index=False)\n",
    "comb.to_csv(dd / \"fs_slow - comb.csv\", index=False)\n",
    "comb_shuffle.to_csv(dd / \"fs_slow - comb shuffle.csv\", index=False)\n",
    "state.to_csv(dd / \"fs_slow - state.csv\", index=False)\n",
    "state_shuffle.to_csv(dd / \"fs_slow - state shuffle.csv\", index=False)\n",
    "limit.to_csv(dd / \"fs_slow - limit.csv\", index=False)\n",
    "dropout.to_csv(dd / \"fs_slow - dropout.csv\", index=False)"
   ]
  },
  {
   "cell_type": "code",
   "execution_count": null,
   "metadata": {},
   "outputs": [],
   "source": [
    "sessions = ExperimentInfo.foot_shock_sessions_10min\n",
    "session = sessions[0]\n",
    "loader = FSFastDecodeDataLoader(session_name=session)\n",
    "preprocessor = DecodePreprocessor(\n",
    "    thresh_empty=2,\n",
    ")\n",
    "spikes, states = loader()\n",
    "spikes, states = preprocessor(spikes, states)\n",
    "\n",
    "ct = make_column_transformer(\n",
    "    (\n",
    "        StandardScaler(),\n",
    "        make_column_selector(dtype_exclude=object)\n",
    "    ),  \n",
    "    (\n",
    "        OneHotEncoder(drop=\"if_binary\"),\n",
    "        make_column_selector(dtype_include=object)\n",
    "    ), \n",
    ")\n",
    "\n",
    "estimator = make_pipeline(ct, \n",
    "    LGBMRegressor(\n",
    "        n_estimators=20, \n",
    "        n_jobs=-1, \n",
    "        force_row_wise=True,\n",
    "        reg_lambda=0.8,\n",
    "        )\n",
    ")\n",
    "\n",
    "estimator = TransformedTargetRegressor(estimator, transformer=StandardScaler())\n",
    "cv = KFold(shuffle=True)\n",
    "encoder = StateEncoder(estimator=estimator, cv=cv, verbose=True)\n",
    "runner = EncodeRunner(\n",
    "    loader=loader,\n",
    "    preprocessor=preprocessor,\n",
    "    encoder=encoder,\n",
    ")"
   ]
  },
  {
   "cell_type": "code",
   "execution_count": null,
   "metadata": {},
   "outputs": [],
   "source": [
    "dd = Config.derived_data_dir / \"encoding\"\n",
    "\n",
    "pop.to_csv(dd / \"fs_fast - pop.csv\", index=False)\n",
    "state.to_csv(dd / \"fs_fast - state.csv\", index=False)\n",
    "limit.to_csv(dd / \"fs_fast - limit.csv\", index=False)\n",
    "dropout.to_csv(dd / \"fs_fast - dropout.csv\", index=False)\n",
    "    "
   ]
  },
  {
   "cell_type": "code",
   "execution_count": null,
   "metadata": {},
   "outputs": [],
   "source": []
  }
 ],
 "metadata": {
  "kernelspec": {
   "display_name": "Python 3.8.13 ('drn')",
   "language": "python",
   "name": "python3"
  },
  "language_info": {
   "codemirror_mode": {
    "name": "ipython",
    "version": 3
   },
   "file_extension": ".py",
   "mimetype": "text/x-python",
   "name": "python",
   "nbconvert_exporter": "python",
   "pygments_lexer": "ipython3",
   "version": "3.8.13"
  },
  "orig_nbformat": 4,
  "vscode": {
   "interpreter": {
    "hash": "a141ff61fc8e5477d761678b9939730228dd63e8e5dabf1901cb4084a0e2e4d6"
   }
  }
 },
 "nbformat": 4,
 "nbformat_minor": 2
}
