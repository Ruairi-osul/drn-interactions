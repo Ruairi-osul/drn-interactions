{
 "cells": [
  {
   "cell_type": "code",
   "execution_count": null,
   "metadata": {},
   "outputs": [],
   "source": [
    "from sklearn.model_selection import KFold\n",
    "from lightgbm import LGBMClassifier\n",
    "from scipy.stats import wilcoxon\n",
    "import pandas as pd\n",
    "from drn_interactions.config import ExperimentInfo, Config\n",
    "from drn_interactions.config import Config\n",
    "from drn_interactions.decoding.loaders import FSDecodeDataLoader, FSFastDecodeDataLoader\n",
    "from drn_interactions.decoding.preprocessors import DecodePreprocessor\n",
    "from drn_interactions.decoding.runners import DecodeRunner\n",
    "from drn_interactions.decoding.decoders import Decoder\n",
    "from drn_interactions.decoding.shuffle import shuffle_X"
   ]
  },
  {
   "cell_type": "code",
   "execution_count": null,
   "metadata": {},
   "outputs": [],
   "source": [
    "dd = Config.derived_data_dir / \"decoding\"\n",
    "sessions = ExperimentInfo.foot_shock_sessions_10min\n",
    "session = sessions[0]\n",
    "loader = FSDecodeDataLoader(session_name=session)\n",
    "preprocessor = DecodePreprocessor(\n",
    "    thresh_empty=2,\n",
    ")\n",
    "\n",
    "estimator = LGBMClassifier(n_estimators=50, max_depth=8, num_leaves=30)\n",
    "cv = KFold(n_splits=5, shuffle=True)\n",
    "decoder = Decoder(estimator=estimator, cv=cv, shuffler=shuffle_X)\n",
    "runner = DecodeRunner(\n",
    "    loader=loader,\n",
    "    preprocessor=preprocessor,\n",
    "    decoder=decoder,\n",
    "    nboot=1,\n",
    ")"
   ]
  },
  {
   "cell_type": "code",
   "execution_count": null,
   "metadata": {},
   "outputs": [],
   "source": [
    "pop, unit, unit_shuff = runner.run_multiple(sessions)\n",
    "limit = runner.run_multiple_limit(sessions=sessions, n_min=1, n_max=31)\n",
    "dropout = runner.run_multiple_dropout(sessions=sessions, neuron_types=(\"SR\", \"SIR\", \"FF\"))"
   ]
  },
  {
   "cell_type": "code",
   "execution_count": null,
   "metadata": {},
   "outputs": [],
   "source": [
    "pop.to_csv(dd / \"fs_slow - pop.csv\", index=False)\n",
    "unit.to_csv(dd / \"fs_slow - unit.csv\", index=False)\n",
    "limit.to_csv(dd / \"fs_slow - limit.csv\", index=False)\n",
    "dropout.to_csv(dd / \"fs_slow - dropout.csv\", index=False)"
   ]
  },
  {
   "cell_type": "code",
   "execution_count": null,
   "metadata": {},
   "outputs": [],
   "source": [
    "W, p = pd.merge(\n",
    "    unit_shuff.rename(columns={\"F1 Score\": \"shuff_score\"}),\n",
    "    unit.rename(columns={\"F1 Score\": \"real_score\"}),\n",
    ").pipe(lambda x: wilcoxon(x.shuff_score, x.real_score))\n",
    "print(W, p)\n",
    "print(unit_shuff[\"F1 Score\"].median())\n",
    "print(unit[\"F1 Score\"].median())"
   ]
  }
 ],
 "metadata": {
  "kernelspec": {
   "display_name": "Python 3.10.4 ('drn_final')",
   "language": "python",
   "name": "python3"
  },
  "language_info": {
   "codemirror_mode": {
    "name": "ipython",
    "version": 3
   },
   "file_extension": ".py",
   "mimetype": "text/x-python",
   "name": "python",
   "nbconvert_exporter": "python",
   "pygments_lexer": "ipython3",
   "version": "3.10.4 | packaged by conda-forge | (main, Mar 30 2022, 08:38:02) [MSC v.1916 64 bit (AMD64)]"
  },
  "orig_nbformat": 4,
  "vscode": {
   "interpreter": {
    "hash": "7213d2688ec1ca781f542e5308492977fad6799278d9a017f81000765c4b23e5"
   }
  }
 },
 "nbformat": 4,
 "nbformat_minor": 2
}
