{
 "cells": [
  {
   "cell_type": "code",
   "execution_count": 2,
   "metadata": {},
   "outputs": [
    {
     "name": "stderr",
     "output_type": "stream",
     "text": [
      "c:\\Users\\roryl\\.conda\\envs\\drn38\\lib\\site-packages\\scipy\\__init__.py:146: UserWarning: A NumPy version >=1.16.5 and <1.23.0 is required for this version of SciPy (detected version 1.23.1\n",
      "  warnings.warn(f\"A NumPy version >={np_minversion} and <{np_maxversion}\"\n"
     ]
    }
   ],
   "source": [
    "# imports\n",
    "from drn_interactions.io import load_derived_generic\n",
    "import seaborn as sns\n",
    "import matplotlib.pyplot as plt\n",
    "import pandas as pd\n",
    "import numpy as np\n",
    "from drn_interactions.config import Config\n",
    "\n",
    "from drn_interactions.plots import PAL_GREY_BLACK"
   ]
  },
  {
   "cell_type": "code",
   "execution_count": 3,
   "metadata": {},
   "outputs": [],
   "source": [
    "sns.set_theme(context=\"paper\", style=\"ticks\", palette=PAL_GREY_BLACK)"
   ]
  },
  {
   "cell_type": "code",
   "execution_count": 5,
   "metadata": {},
   "outputs": [],
   "source": [
    "# load data\n",
    "\n",
    "# pairwise\n",
    "df_corr = (\n",
    "    load_derived_generic(\"corrs/fs - corr.csv\",)\n",
    "    .assign(mag=lambda x: np.abs(x[\"corr\"]))\n",
    "    .assign(rect=lambda x: np.where(x[\"corr\"] < 0, 0, x[\"corr\"]))\n",
    ")\n",
    "\n",
    "df_ensembles = (\n",
    "    load_derived_generic(\"ensembles/fs - ensembles.csv\",)\n",
    "    .groupby([\"session_name\", \"block\", \"bin_width\"])\n",
    "    [\"ensemble_id\"]\n",
    "    .nunique()\n",
    "    .subtract(1)\n",
    "    .to_frame(\"Number of Ensembles\")\n",
    "    .reset_index()\n",
    ")\n",
    "\n",
    "df_seq = load_derived_generic(\"seqnmf/fs - sequenciness scores.csv\",).query(\"bin_width < 2\")\n"
   ]
  },
  {
   "cell_type": "code",
   "execution_count": 10,
   "metadata": {},
   "outputs": [
    {
     "name": "stderr",
     "output_type": "stream",
     "text": [
      "C:\\Users\\roryl\\AppData\\Local\\Temp\\ipykernel_18316\\2989889071.py:53: UserWarning: This figure was using constrained_layout, but that is incompatible with subplots_adjust and/or tight_layout; disabling constrained_layout.\n",
      "  f.subplots_adjust(hspace=0.7)\n"
     ]
    },
    {
     "data": {
      "image/png": "[encoded data removed]",
      "text/plain": [
       "<Figure size 216x288 with 3 Axes>"
      ]
     },
     "metadata": {
      "needs_background": "light"
     },
     "output_type": "display_data"
    }
   ],
   "source": [
    "f = plt.figure(figsize=(3, 4), constrained_layout=True)\n",
    "ax = f.subplots(3, 1, sharex=True)\n",
    "\n",
    "sns.pointplot(\n",
    "    x=\"bin_width\",\n",
    "    y=\"rect\",\n",
    "    hue=\"block\",\n",
    "    data=df_corr,\n",
    "    estimator=np.mean,\n",
    "    ax=ax[0],\n",
    "    dodge=True,\n",
    "    hue_order=[\"base_shock\", \"pre\"]\n",
    ")\n",
    "\n",
    "ax[0].set_ylabel(\"\")\n",
    "ax[0].set_xlabel(\"\")\n",
    "ax[0].set_title(\"Spike Count Correlation\", fontsize=12)\n",
    "\n",
    "sns.pointplot(\n",
    "    x=\"bin_width\",\n",
    "    y=\"Number of Ensembles\",\n",
    "    hue=\"block\",\n",
    "    data=df_ensembles,\n",
    "    estimator=np.mean,\n",
    "    ax=ax[1],\n",
    "    dodge=True,\n",
    "    hue_order=[\"base_shock\", \"pre\"]\n",
    ")\n",
    "ax[1].set_ylabel(\"\")\n",
    "ax[1].set_xlabel(\"\")\n",
    "ax[1].set_title(\"Number of Ensembles\", fontsize=12)\n",
    "\n",
    "g_seq = sns.pointplot(\n",
    "    x=\"bin_width\",\n",
    "    y=\"score\",\n",
    "    hue=\"block\",\n",
    "    data=df_seq,\n",
    "    estimator=np.mean,\n",
    "    ax=ax[2],\n",
    "    dodge=True,\n",
    "    hue_order=[\"base_shock\", \"pre\"]\n",
    ")\n",
    "ax[2].set_ylabel(\"\")\n",
    "ax[2].set_xlabel(\"\")\n",
    "ax[2].set_title(\"SeqNMF Sequenciness\", fontsize=12)\n",
    "ax[2].set_ylim(-0.1, 1)\n",
    "ax[2].set_xlabel(\"Bin Width (sec)\", fontsize=12)\n",
    "\n",
    "plt.setp(g_seq.collections, alpha=.9)\n",
    "plt.setp(g_seq.lines, alpha=.9) \n",
    "\n",
    "sns.despine(fig=f)\n",
    "f.subplots_adjust(hspace=0.7)\n",
    "for ax_ in ax:\n",
    "    ax_.legend().remove()\n",
    "\n",
    "# f.savefig(Config.fig_dir / \"fs - interactions - timescale.png\", bbox_inches=\"tight\", dpi=300)"
   ]
  },
  {
   "cell_type": "code",
   "execution_count": null,
   "metadata": {},
   "outputs": [],
   "source": []
  }
 ],
 "metadata": {
  "kernelspec": {
   "display_name": "Python 3.8.13 ('drn38')",
   "language": "python",
   "name": "python3"
  },
  "language_info": {
   "codemirror_mode": {
    "name": "ipython",
    "version": 3
   },
   "file_extension": ".py",
   "mimetype": "text/x-python",
   "name": "python",
   "nbconvert_exporter": "python",
   "pygments_lexer": "ipython3",
   "version": "3.8.13"
  },
  "orig_nbformat": 4,
  "vscode": {
   "interpreter": {
    "hash": "83d85788087be4ab95a62fa43e95c13744f0a02d6feebc555b96a547158d0970"
   }
  }
 },
 "nbformat": 4,
 "nbformat_minor": 2
}
