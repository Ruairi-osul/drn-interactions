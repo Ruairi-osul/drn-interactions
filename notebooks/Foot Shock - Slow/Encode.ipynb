{
 "cells": [
  {
   "cell_type": "code",
   "execution_count": 1,
   "metadata": {},
   "outputs": [
    {
     "name": "stderr",
     "output_type": "stream",
     "text": [
      "c:\\Users\\roryl\\.conda\\envs\\drn38\\lib\\site-packages\\outdated\\utils.py:14: OutdatedPackageWarning: The package pingouin is out of date. Your version is 0.5.1, the latest is 0.5.2.\n",
      "Set the environment variable OUTDATED_IGNORE=1 to disable these warnings.\n",
      "  return warn(\n"
     ]
    }
   ],
   "source": [
    "from sklearn.model_selection import KFold\n",
    "from lightgbm import LGBMRegressor\n",
    "from sklearn.compose import make_column_transformer, make_column_selector, TransformedTargetRegressor\n",
    "from sklearn.preprocessing import OneHotEncoder\n",
    "from sklearn.pipeline import make_pipeline\n",
    "from sklearn.preprocessing import StandardScaler, OneHotEncoder\n",
    "from sklearn.model_selection import KFold\n",
    "\n",
    "\n",
    "from drn_interactions.config import ExperimentInfo\n",
    "\n",
    "from drn_interactions.decoding.loaders import FSDecodeDataLoader, FSFastDecodeDataLoader\n",
    "from drn_interactions.decoding.preprocessors import DecodePreprocessor\n",
    "from drn_interactions.decoding.encoders import StateEncoder\n",
    "from drn_interactions.decoding.runners import EncodeRunner\n",
    "from drn_interactions.decoding.shuffle import shuffle_X"
   ]
  },
  {
   "cell_type": "code",
   "execution_count": 2,
   "metadata": {},
   "outputs": [],
   "source": [
    "sessions = ExperimentInfo.foot_shock_sessions_10min\n",
    "session = sessions[0]\n",
    "loader = FSDecodeDataLoader(session_name=session)\n",
    "preprocessor = DecodePreprocessor(\n",
    "    thresh_empty=2,\n",
    ")\n",
    "spikes, states = loader()\n",
    "spikes, states = preprocessor(spikes, states)\n",
    "\n",
    "ct = make_column_transformer(\n",
    "    (\n",
    "        StandardScaler(),\n",
    "        make_column_selector(dtype_exclude=object)\n",
    "    ),  \n",
    "    (\n",
    "        OneHotEncoder(drop=\"if_binary\"),\n",
    "        make_column_selector(dtype_include=object)\n",
    "    ), \n",
    ")\n",
    "\n",
    "estimator = make_pipeline(ct, \n",
    "    LGBMRegressor(\n",
    "        n_estimators=20, \n",
    "        n_jobs=-1, \n",
    "        force_row_wise=True,\n",
    "        reg_lambda=0.8,\n",
    "        )\n",
    ")\n",
    "\n",
    "estimator = TransformedTargetRegressor(estimator, transformer=StandardScaler())\n",
    "cv = KFold(shuffle=True)\n",
    "encoder = StateEncoder(estimator=estimator, cv=cv, verbose=True)\n",
    "runner = EncodeRunner(\n",
    "    loader=loader,\n",
    "    preprocessor=preprocessor,\n",
    "    encoder=encoder,\n",
    ")"
   ]
  },
  {
   "cell_type": "code",
   "execution_count": 3,
   "metadata": {},
   "outputs": [
    {
     "name": "stderr",
     "output_type": "stream",
     "text": [
      "100%|██████████| 16/16 [00:02<00:00,  6.28it/s]\n",
      "100%|██████████| 15/15 [00:02<00:00,  6.24it/s]\n",
      "100%|██████████| 52/52 [00:12<00:00,  4.30it/s]\n",
      "100%|██████████| 33/33 [00:06<00:00,  4.97it/s]\n",
      "100%|██████████| 37/37 [00:07<00:00,  4.93it/s]\n",
      "100%|██████████| 51/51 [00:12<00:00,  4.23it/s]\n",
      "100%|██████████| 24/24 [00:04<00:00,  5.20it/s]\n",
      "100%|██████████| 31/31 [00:06<00:00,  4.94it/s]\n",
      "100%|██████████| 16/16 [00:01<00:00, 12.84it/s]\n",
      "100%|██████████| 15/15 [00:01<00:00, 13.04it/s]\n",
      "100%|██████████| 52/52 [00:04<00:00, 12.87it/s]\n",
      "100%|██████████| 33/33 [00:02<00:00, 12.41it/s]\n",
      "100%|██████████| 37/37 [00:02<00:00, 12.73it/s]\n",
      "100%|██████████| 51/51 [00:03<00:00, 12.89it/s]\n",
      "100%|██████████| 24/24 [00:01<00:00, 13.00it/s]\n",
      "100%|██████████| 31/31 [00:02<00:00, 13.05it/s]\n",
      "100%|██████████| 16/16 [00:32<00:00,  2.04s/it]\n",
      "100%|██████████| 15/15 [00:30<00:00,  2.04s/it]\n",
      "100%|██████████| 52/52 [04:34<00:00,  5.28s/it]\n",
      "100%|██████████| 33/33 [02:40<00:00,  4.85s/it]\n",
      "100%|██████████| 37/37 [03:05<00:00,  5.00s/it]\n",
      "100%|██████████| 51/51 [04:25<00:00,  5.20s/it]\n",
      "100%|██████████| 24/24 [01:29<00:00,  3.72s/it]\n",
      "100%|██████████| 31/31 [02:34<00:00,  4.99s/it]\n",
      "100%|██████████| 3/3 [00:06<00:00,  2.11s/it]\n",
      "100%|██████████| 3/3 [00:06<00:00,  2.18s/it]\n",
      "100%|██████████| 3/3 [00:28<00:00,  9.52s/it]\n",
      "100%|██████████| 3/3 [00:15<00:00,  5.31s/it]\n",
      "100%|██████████| 3/3 [00:18<00:00,  6.10s/it]\n",
      "100%|██████████| 3/3 [00:28<00:00,  9.36s/it]\n",
      "100%|██████████| 3/3 [00:11<00:00,  3.85s/it]\n",
      "100%|██████████| 3/3 [00:15<00:00,  5.07s/it]\n"
     ]
    }
   ],
   "source": [
    "pop = runner.run_multiple_pop(sessions=sessions)\n",
    "state = runner.run_multiple_state(sessions=sessions)\n",
    "limit = runner.run_multiple_limit(sessions=sessions, min_features=1, max_features=30)\n",
    "dropout = runner.run_multiple_dropout(sessions=sessions)"
   ]
  },
  {
   "cell_type": "code",
   "execution_count": 4,
   "metadata": {},
   "outputs": [],
   "source": [
    "\n",
    "from drn_interactions.config import Config\n",
    "\n",
    "\n",
    "dd = Config.derived_data_dir / \"encoding\"\n",
    "\n",
    "pop.to_csv(dd / \"fs_slow - pop.csv\", index=False)\n",
    "state.to_csv(dd / \"fs_slow - state.csv\", index=False)\n",
    "limit.to_csv(dd / \"fs_slow - limit.csv\", index=False)\n",
    "dropout.to_csv(dd / \"fs_slow - dropout.csv\", index=False)\n",
    "    "
   ]
  },
  {
   "cell_type": "code",
   "execution_count": 5,
   "metadata": {},
   "outputs": [],
   "source": [
    "sessions = ExperimentInfo.foot_shock_sessions_10min\n",
    "session = sessions[0]\n",
    "loader = FSFastDecodeDataLoader(session_name=session)\n",
    "preprocessor = DecodePreprocessor(\n",
    "    thresh_empty=2,\n",
    ")\n",
    "spikes, states = loader()\n",
    "spikes, states = preprocessor(spikes, states)\n",
    "\n",
    "ct = make_column_transformer(\n",
    "    (\n",
    "        StandardScaler(),\n",
    "        make_column_selector(dtype_exclude=object)\n",
    "    ),  \n",
    "    (\n",
    "        OneHotEncoder(drop=\"if_binary\"),\n",
    "        make_column_selector(dtype_include=object)\n",
    "    ), \n",
    ")\n",
    "\n",
    "estimator = make_pipeline(ct, \n",
    "    LGBMRegressor(\n",
    "        n_estimators=20, \n",
    "        n_jobs=-1, \n",
    "        force_row_wise=True,\n",
    "        reg_lambda=0.8,\n",
    "        )\n",
    ")\n",
    "\n",
    "estimator = TransformedTargetRegressor(estimator, transformer=StandardScaler())\n",
    "cv = KFold(shuffle=True)\n",
    "encoder = StateEncoder(estimator=estimator, cv=cv, verbose=True)\n",
    "runner = EncodeRunner(\n",
    "    loader=loader,\n",
    "    preprocessor=preprocessor,\n",
    "    encoder=encoder,\n",
    ")"
   ]
  },
  {
   "cell_type": "code",
   "execution_count": 6,
   "metadata": {},
   "outputs": [],
   "source": [
    "dd = Config.derived_data_dir / \"encoding\"\n",
    "\n",
    "pop.to_csv(dd / \"fs_fast - pop.csv\", index=False)\n",
    "state.to_csv(dd / \"fs_fast - state.csv\", index=False)\n",
    "limit.to_csv(dd / \"fs_fast - limit.csv\", index=False)\n",
    "dropout.to_csv(dd / \"fs_fast - dropout.csv\", index=False)\n",
    "    "
   ]
  },
  {
   "cell_type": "code",
   "execution_count": null,
   "metadata": {},
   "outputs": [],
   "source": []
  }
 ],
 "metadata": {
  "kernelspec": {
   "display_name": "Python 3.8.13 ('drn38')",
   "language": "python",
   "name": "python3"
  },
  "language_info": {
   "codemirror_mode": {
    "name": "ipython",
    "version": 3
   },
   "file_extension": ".py",
   "mimetype": "text/x-python",
   "name": "python",
   "nbconvert_exporter": "python",
   "pygments_lexer": "ipython3",
   "version": "3.8.13"
  },
  "orig_nbformat": 4,
  "vscode": {
   "interpreter": {
    "hash": "83d85788087be4ab95a62fa43e95c13744f0a02d6feebc555b96a547158d0970"
   }
  }
 },
 "nbformat": 4,
 "nbformat_minor": 2
}
