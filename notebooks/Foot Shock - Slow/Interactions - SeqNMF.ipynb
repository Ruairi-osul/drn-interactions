{
 "cells": [
  {
   "cell_type": "code",
   "execution_count": 1,
   "metadata": {},
   "outputs": [],
   "source": [
    "from drn_interactions.interactions.loaders import BaseShockSlowInteractionsLoader\n",
    "from drn_interactions.io import load_derived_generic\n",
    "from drn_interactions.interactions.preprocessors import InteractionsPreprocessor\n",
    "from drn_interactions.interactions.seqnmf import SeqNMF\n",
    "import pandas as pd\n",
    "from drn_interactions.config import Config, ExperimentInfo\n",
    "from tqdm import tqdm"
   ]
  },
  {
   "cell_type": "code",
   "execution_count": 3,
   "metadata": {},
   "outputs": [
    {
     "name": "stderr",
     "output_type": "stream",
     "text": [
      "100%|██████████| 4/4 [20:40<00:00, 310.03s/it]\n"
     ]
    }
   ],
   "source": [
    "neuron_types = load_derived_generic(\"neuron_types.csv\")\n",
    "sessions = ExperimentInfo.foot_shock_sessions_10min\n",
    "res = []\n",
    "\n",
    "bin_widths = [0.05, 0.1, 0.5, 1]\n",
    "\n",
    "loader_fac = lambda session_name, bin_width, block: BaseShockSlowInteractionsLoader(\n",
    "    session_name=session_name, bin_width=bin_width, block=block\n",
    ")\n",
    "preprocessor_fac = lambda: InteractionsPreprocessor(\n",
    "    z=False, minmax=True, gaussian_sigma=None,\n",
    ")\n",
    "model_fac = lambda K, L, Lambda: SeqNMF(K, L, Lambda)\n",
    "\n",
    "for bin_width in tqdm(bin_widths):\n",
    "    for block in (\"pre\", \"base_shock\"):\n",
    "        for session in sessions:\n",
    "\n",
    "            loader = loader_fac(session, bin_width, block=block)\n",
    "            preprocessor = preprocessor_fac()\n",
    "            model = model_fac(K=6, L=10, Lambda=0.1)\n",
    "            spikes = preprocessor(loader())\n",
    "            score = model.sequenciness_score(spikes.T)\n",
    "            res.append(\n",
    "                {\n",
    "                    \"session_name\": session,\n",
    "                    \"k\": 6,\n",
    "                    \"L\": 10,\n",
    "                    \"bin_width\": bin_width,\n",
    "                    \"score\": score,\n",
    "                    \"block\": block,\n",
    "                }\n",
    "            )"
   ]
  },
  {
   "cell_type": "code",
   "execution_count": 5,
   "metadata": {},
   "outputs": [],
   "source": [
    "df_out = pd.DataFrame.from_records(res)\n",
    "\n",
    "dd = Config.derived_data_dir / \"seqnmf\"\n",
    "dd.mkdir(exist_ok=True)\n",
    "\n",
    "df_out.to_csv(dd / \"fs - sequenciness scores.csv\")"
   ]
  },
  {
   "cell_type": "code",
   "execution_count": null,
   "metadata": {},
   "outputs": [],
   "source": []
  }
 ],
 "metadata": {
  "kernelspec": {
   "display_name": "Python 3.6.13 ('drn-interactions')",
   "language": "python",
   "name": "python3"
  },
  "language_info": {
   "codemirror_mode": {
    "name": "ipython",
    "version": 3
   },
   "file_extension": ".py",
   "mimetype": "text/x-python",
   "name": "python",
   "nbconvert_exporter": "python",
   "pygments_lexer": "ipython3",
   "version": "3.6.13"
  },
  "orig_nbformat": 4,
  "vscode": {
   "interpreter": {
    "hash": "595626f471715c1ef1767721af1162754763b18b459b8364279c934890ae0eae"
   }
  }
 },
 "nbformat": 4,
 "nbformat_minor": 2
}
