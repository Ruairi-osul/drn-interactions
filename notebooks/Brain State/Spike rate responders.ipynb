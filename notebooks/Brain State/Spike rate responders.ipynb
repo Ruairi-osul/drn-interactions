{
 "cells": [
  {
   "cell_type": "code",
   "execution_count": 122,
   "metadata": {},
   "outputs": [
    {
     "name": "stdout",
     "output_type": "stream",
     "text": [
      "The autoreload extension is already loaded. To reload it, use:\n",
      "  %reload_ext autoreload\n"
     ]
    }
   ],
   "source": [
    "# imports \n",
    "\n",
    "from drn_interactions.io import load_derived_generic\n",
    "from drn_interactions.transforms import SpikesHandler\n",
    "from drn_interactions.surrogates import shuffle_spikes\n",
    "from drn_interactions.transforms.brain_state import StateHandler, RawEEGHandler\n",
    "from drn_interactions.transforms.brain_state_spikes import (\n",
    "    align_spikes_to_states_long, align_spikes_to_phase_long, align_bins_to_states_long,\n",
    "    )\n",
    "from drn_interactions.responders.brain_state_responders import BSResonders\n",
    "from drn_interactions.transforms.nbox_transforms import segment_spikes\n",
    "from drn_interactions.spiketrains.spiketrain_stats import cv_isi_burst\n",
    "from drn_interactions.config import ExperimentInfo, Config\n",
    "from drn_interactions.responders.brain_state import SpikeRateResonders, PhaseLockResponders\n",
    "from drn_interactions.spiketrains.neurontype_props import ChiSquarePostHoc\n",
    "\n",
    "from scipy.stats import zscore\n",
    "import matplotlib.pyplot as plt\n",
    "import seaborn as sns\n",
    "import pingouin as pg\n",
    "import numpy as np\n",
    "import pandas as pd\n",
    "\n",
    "from drn_interactions.plots.circular import circular_hist\n",
    "\n",
    "from IPython.display import display\n",
    "\n",
    "%load_ext autoreload\n",
    "%autoreload 2\n"
   ]
  },
  {
   "cell_type": "code",
   "execution_count": 123,
   "metadata": {},
   "outputs": [],
   "source": [
    "sns.set_theme(context=\"paper\", style=\"ticks\")"
   ]
  },
  {
   "cell_type": "code",
   "execution_count": 124,
   "metadata": {},
   "outputs": [],
   "source": [
    "# preprocessing"
   ]
  },
  {
   "cell_type": "code",
   "execution_count": 125,
   "metadata": {},
   "outputs": [],
   "source": [
    "# load_data\n",
    "session_names = ExperimentInfo.eeg_sessions\n",
    "\n",
    "\n",
    "eeg_states = (\n",
    "    load_derived_generic(\"eeg_states.csv\")\n",
    "    # .rename(columns={\"cluster\": \"state\"})\n",
    "    .query(\"quality == 'good'\")\n",
    ")\n",
    "sessions = [s for s in session_names if s in eeg_states.session_name.unique()]\n",
    "\n",
    "neuron_types = load_derived_generic(\"neuron_types.csv\")\n"
   ]
  },
  {
   "cell_type": "code",
   "execution_count": 126,
   "metadata": {},
   "outputs": [],
   "source": [
    "states_handler = StateHandler(\n",
    "    quality_to_include=(\"good\",),\n",
    "    t_start=0,\n",
    "    t_stop=1800,\n",
    "    session_names=session_names,\n",
    ")\n",
    "spikes_handler = SpikesHandler(\n",
    "    block=\"pre\",\n",
    "    t_start=0,\n",
    "    bin_width=1,\n",
    "    t_stop=1800,\n",
    "    session_names=session_names,\n",
    "    \n",
    ")\n",
    "\n",
    "df_aligned = align_bins_to_states_long(\n",
    "    spikes_handler=spikes_handler,\n",
    "    states_handler=states_handler,\n",
    "    neuron_types=neuron_types\n",
    ")\n",
    "df_aligned[\"zcounts\"] = (\n",
    "    df_aligned\n",
    "    .groupby(\"neuron_id\")[\"counts\"]\n",
    "    .transform(zscore)\n",
    ")"
   ]
  },
  {
   "cell_type": "code",
   "execution_count": 127,
   "metadata": {},
   "outputs": [
    {
     "name": "stderr",
     "output_type": "stream",
     "text": [
      "/opt/miniconda3/envs/drn/lib/python3.8/site-packages/pingouin/pairwise.py:27: UserWarning: pairwise_ttests is deprecated, use pairwise_tests instead.\n",
      "  warnings.warn(\"pairwise_ttests is deprecated, use pairwise_tests instead.\", UserWarning)\n"
     ]
    },
    {
     "data": {
      "text/html": [
       "<div>\n",
       "<style scoped>\n",
       "    .dataframe tbody tr th:only-of-type {\n",
       "        vertical-align: middle;\n",
       "    }\n",
       "\n",
       "    .dataframe tbody tr th {\n",
       "        vertical-align: top;\n",
       "    }\n",
       "\n",
       "    .dataframe thead th {\n",
       "        text-align: right;\n",
       "    }\n",
       "</style>\n",
       "<table border=\"1\" class=\"dataframe\">\n",
       "  <thead>\n",
       "    <tr style=\"text-align: right;\">\n",
       "      <th></th>\n",
       "      <th>Source</th>\n",
       "      <th>SS</th>\n",
       "      <th>DF1</th>\n",
       "      <th>DF2</th>\n",
       "      <th>MS</th>\n",
       "      <th>F</th>\n",
       "      <th>p-unc</th>\n",
       "      <th>np2</th>\n",
       "      <th>eps</th>\n",
       "    </tr>\n",
       "  </thead>\n",
       "  <tbody>\n",
       "    <tr>\n",
       "      <th>0</th>\n",
       "      <td>neuron_type</td>\n",
       "      <td>0.00</td>\n",
       "      <td>2</td>\n",
       "      <td>139</td>\n",
       "      <td>0.00</td>\n",
       "      <td>0.03</td>\n",
       "      <td>0.97</td>\n",
       "      <td>0.00</td>\n",
       "      <td>NaN</td>\n",
       "    </tr>\n",
       "    <tr>\n",
       "      <th>1</th>\n",
       "      <td>state</td>\n",
       "      <td>10.64</td>\n",
       "      <td>1</td>\n",
       "      <td>139</td>\n",
       "      <td>10.64</td>\n",
       "      <td>33.89</td>\n",
       "      <td>0.00</td>\n",
       "      <td>0.20</td>\n",
       "      <td>1.0</td>\n",
       "    </tr>\n",
       "    <tr>\n",
       "      <th>2</th>\n",
       "      <td>Interaction</td>\n",
       "      <td>0.40</td>\n",
       "      <td>2</td>\n",
       "      <td>139</td>\n",
       "      <td>0.20</td>\n",
       "      <td>0.64</td>\n",
       "      <td>0.53</td>\n",
       "      <td>0.01</td>\n",
       "      <td>NaN</td>\n",
       "    </tr>\n",
       "  </tbody>\n",
       "</table>\n",
       "</div>"
      ],
      "text/plain": [
       "        Source     SS  DF1  DF2     MS      F  p-unc   np2  eps\n",
       "0  neuron_type   0.00    2  139   0.00   0.03   0.97  0.00  NaN\n",
       "1        state  10.64    1  139  10.64  33.89   0.00  0.20  1.0\n",
       "2  Interaction   0.40    2  139   0.20   0.64   0.53  0.01  NaN"
      ]
     },
     "metadata": {},
     "output_type": "display_data"
    },
    {
     "data": {
      "text/html": [
       "<div>\n",
       "<style scoped>\n",
       "    .dataframe tbody tr th:only-of-type {\n",
       "        vertical-align: middle;\n",
       "    }\n",
       "\n",
       "    .dataframe tbody tr th {\n",
       "        vertical-align: top;\n",
       "    }\n",
       "\n",
       "    .dataframe thead th {\n",
       "        text-align: right;\n",
       "    }\n",
       "</style>\n",
       "<table border=\"1\" class=\"dataframe\">\n",
       "  <thead>\n",
       "    <tr style=\"text-align: right;\">\n",
       "      <th></th>\n",
       "      <th>neuron_id</th>\n",
       "      <th>n_sw</th>\n",
       "      <th>n_act</th>\n",
       "      <th>Mean_sw</th>\n",
       "      <th>Mean_act</th>\n",
       "      <th>Diff</th>\n",
       "      <th>U</th>\n",
       "      <th>p</th>\n",
       "      <th>sig</th>\n",
       "    </tr>\n",
       "  </thead>\n",
       "  <tbody>\n",
       "    <tr>\n",
       "      <th>40</th>\n",
       "      <td>126</td>\n",
       "      <td>1491.0</td>\n",
       "      <td>308.0</td>\n",
       "      <td>0.19</td>\n",
       "      <td>-0.93</td>\n",
       "      <td>-1.12</td>\n",
       "      <td>432694.0</td>\n",
       "      <td>0.00</td>\n",
       "      <td>True</td>\n",
       "    </tr>\n",
       "    <tr>\n",
       "      <th>74</th>\n",
       "      <td>180</td>\n",
       "      <td>1074.0</td>\n",
       "      <td>725.0</td>\n",
       "      <td>0.13</td>\n",
       "      <td>-0.20</td>\n",
       "      <td>-0.33</td>\n",
       "      <td>417997.0</td>\n",
       "      <td>0.00</td>\n",
       "      <td>True</td>\n",
       "    </tr>\n",
       "    <tr>\n",
       "      <th>124</th>\n",
       "      <td>2564</td>\n",
       "      <td>819.0</td>\n",
       "      <td>980.0</td>\n",
       "      <td>-0.04</td>\n",
       "      <td>0.03</td>\n",
       "      <td>0.07</td>\n",
       "      <td>399423.5</td>\n",
       "      <td>0.18</td>\n",
       "      <td>False</td>\n",
       "    </tr>\n",
       "  </tbody>\n",
       "</table>\n",
       "</div>"
      ],
      "text/plain": [
       "     neuron_id    n_sw  n_act  Mean_sw  Mean_act  Diff         U     p    sig\n",
       "40         126  1491.0  308.0     0.19     -0.93 -1.12  432694.0  0.00   True\n",
       "74         180  1074.0  725.0     0.13     -0.20 -0.33  417997.0  0.00   True\n",
       "124       2564   819.0  980.0    -0.04      0.03  0.07  399423.5  0.18  False"
      ]
     },
     "metadata": {},
     "output_type": "display_data"
    }
   ],
   "source": [
    "mod = SpikeRateResonders(df_value_col=\"zcounts\", round_output=2)\n",
    "anova, contrasts = mod.get_anova(df_aligned, fit_neuron_types=True)\n",
    "\n",
    "display(anova)\n",
    "# display(contrasts)\n",
    "\n",
    "responders = mod.get_responders(df_aligned, abs_diff_thresh=0.1)\n",
    "display(responders.sample(3))\n",
    "\n"
   ]
  },
  {
   "cell_type": "code",
   "execution_count": 46,
   "metadata": {},
   "outputs": [
    {
     "name": "stderr",
     "output_type": "stream",
     "text": [
      "/opt/miniconda3/envs/drn/lib/python3.8/site-packages/seaborn/axisgrid.py:88: UserWarning: This figure includes Axes that are not compatible with tight_layout, so results might be incorrect.\n",
      "  self._figure.tight_layout(*args, **kwargs)\n",
      "/opt/miniconda3/envs/drn/lib/python3.8/site-packages/seaborn/axisgrid.py:88: UserWarning: This figure includes Axes that are not compatible with tight_layout, so results might be incorrect.\n",
      "  self._figure.tight_layout(*args, **kwargs)\n"
     ]
    },
    {
     "data": {
      "image/png": "[encoded data removed]",
      "text/plain": [
       "<Figure size 720x120 with 3 Axes>"
      ]
     },
     "metadata": {},
     "output_type": "display_data"
    }
   ],
   "source": [
    "from drn_interactions.plots.pallets_cmaps import PAL_GREY_BLACK\n",
    "\n",
    "g = sns.FacetGrid(\n",
    "    data=df_aligned,\n",
    "    col=\"neuron_type\",\n",
    "    col_order=[\"SR\", \"SIR\", \"FF\"],\n",
    "    gridspec_kws=dict(wspace=0.5),\n",
    "    sharey=False,\n",
    "    height=1.2,\n",
    "    aspect=2.0,\n",
    "    \n",
    ")\n",
    "\n",
    "g.map_dataframe(\n",
    "    sns.pointplot, x=\"state\", \n",
    "    y=\"counts\", \n",
    "    ci=95, \n",
    "    capsize=0.2, \n",
    "    errwidth=1, \n",
    "    color=\"black\",\n",
    "    scale=0.5\n",
    ")\n",
    "\n",
    "g.set_titles(\"{col_name}\")\n",
    "g.set_ylabels(\"Spike rate (Hz)\")\n",
    "g.set_xlabels(\"\")\n",
    "g.axes[0, 0].set_ylim(0, 5)\n",
    "g.axes[0, 1].set_ylim(0, 5)\n",
    "g.axes[0, 2].set_ylim(0, 15)\n",
    "g.set_xticklabels([\"Inactivated\", \"Activated\"], rotation=30.5)\n",
    "\n",
    "g.savefig(Config.fig_dir / \"bs spike rate group responders.png\", \n",
    "          dpi=300, bbox_inches=\"tight\", transparent=True, )\n"
   ]
  },
  {
   "cell_type": "code",
   "execution_count": 70,
   "metadata": {},
   "outputs": [
    {
     "name": "stderr",
     "output_type": "stream",
     "text": [
      "/opt/miniconda3/envs/drn/lib/python3.8/site-packages/seaborn/axisgrid.py:88: UserWarning: This figure includes Axes that are not compatible with tight_layout, so results might be incorrect.\n",
      "  self._figure.tight_layout(*args, **kwargs)\n",
      "/opt/miniconda3/envs/drn/lib/python3.8/site-packages/seaborn/axisgrid.py:88: UserWarning: This figure includes Axes that are not compatible with tight_layout, so results might be incorrect.\n",
      "  self._figure.tight_layout(*args, **kwargs)\n"
     ]
    },
    {
     "data": {
      "image/png": "[encoded data removed]",
      "text/plain": [
       "<Figure size 720x120 with 3 Axes>"
      ]
     },
     "metadata": {},
     "output_type": "display_data"
    }
   ],
   "source": [
    "df_su = responders.merge(neuron_types[[\"neuron_type\", \"neuron_id\"]])\n",
    "\n",
    "\n",
    "g = sns.FacetGrid(\n",
    "    data=df_su,\n",
    "    col=\"neuron_type\",\n",
    "    col_order=[\"SR\", \"SIR\", \"FF\"],\n",
    "    gridspec_kws=dict(wspace=0.5),\n",
    "    sharey=False,\n",
    "    height=1.2,\n",
    "    aspect=2.0,\n",
    ")\n",
    "\n",
    "g.map_dataframe(\n",
    "    sns.histplot, \n",
    "    x=\"Diff\", \n",
    "    hue=\"sig\",\n",
    "    bins=np.arange(-2.5, 2.6, 0.2),\n",
    "    color=\"black\",\n",
    "    palette=PAL_GREY_BLACK,\n",
    "    alpha=1,\n",
    "    multiple=\"stack\",\n",
    "    edgecolor=\"white\",\n",
    "    hue_order=[True, False],\n",
    ")\n",
    "\n",
    "g.set_titles(\"{col_name}\")\n",
    "g.set_xlabels(\"\")\n",
    "g.set_ylabels(\"\")\n",
    "\n",
    "g.savefig(Config.fig_dir / \"bs spike rate su responders hist.png\",\n",
    "            dpi=300, bbox_inches=\"tight\", transparent=True, )\n"
   ]
  },
  {
   "cell_type": "code",
   "execution_count": 86,
   "metadata": {},
   "outputs": [],
   "source": [
    "### Consistency\n",
    "\n",
    "def load_data(t_start, t_stop, states_path=None):\n",
    "    states_handler = StateHandler(\n",
    "        quality_to_include=(\"good\",),\n",
    "        t_start=t_start,\n",
    "        t_stop=t_stop,\n",
    "        # session_names=session_names,\n",
    "        states_path=None\n",
    "    )\n",
    "    spikes_handler = SpikesHandler(\n",
    "        block=\"pre\",\n",
    "        t_start=t_start,\n",
    "        bin_width=1,\n",
    "        t_stop=t_stop,\n",
    "    )\n",
    "    neuron_types = load_derived_generic(\"neuron_types.csv\")\n",
    "    df_aligned = align_bins_to_states_long(\n",
    "        spikes_handler=spikes_handler,\n",
    "        states_handler=states_handler,\n",
    "        neuron_types=neuron_types\n",
    "    )\n",
    "    df_aligned[\"zcounts\"] = (\n",
    "        df_aligned\n",
    "        .groupby(\"neuron_id\")[\"counts\"]\n",
    "        .transform(zscore)\n",
    "    )\n",
    "    return df_aligned\n",
    "\n",
    "\n",
    "def get_response(df):\n",
    "    df[\"response\"] = np.select(\n",
    "        condlist=[(df[\"sig\"]) & (df[\"Diff\"] > 0), (df[\"sig\"]) & (df[\"Diff\"] < 0), np.isnan(df[\"Diff\"])],\n",
    "        choicelist=[\"Activated-Preferring\", \"Inactivated-Preferring\", \"missing\"],\n",
    "        default=\"Non-Responder\",\n",
    "    )\n",
    "    return df\n",
    "\n",
    "\n",
    "\n",
    "df_aligned_first_half = load_data(0, 900)\n",
    "df_aligned_second_half = load_data(900, 1800)\n",
    "\n",
    "mod_first_half = SpikeRateResonders(df_value_col=\"zcounts\", round_output=2)\n",
    "mod_second_half = SpikeRateResonders(df_value_col=\"zcounts\", round_output=2)\n",
    "\n",
    "# anova, contrasts = mod_first_half.get_anova(df_aligned_first_half, fit_neuron_types=True)\n",
    "\n",
    "responders_first_half = mod_first_half.get_responders(df_aligned_first_half, abs_diff_thresh=0.1).pipe(get_response)\n",
    "responders_second_half = mod_second_half.get_responders(df_aligned_second_half, abs_diff_thresh=0.1).pipe(get_response)\n",
    "\n",
    "\n",
    "# display(responders.sample(3))\n"
   ]
  },
  {
   "cell_type": "code",
   "execution_count": 141,
   "metadata": {},
   "outputs": [],
   "source": [
    "from sklearn.metrics import adjusted_mutual_info_score\n",
    "from scipy.stats import spearmanr\n",
    "\n",
    "\n",
    "\n",
    "def get_overlap(df1, df2, neuron_type=None):\n",
    "    df1 = df1.copy()[[\"neuron_id\", \"Diff\"]].set_index(\"neuron_id\")\n",
    "    df2 = df2.copy()[[\"neuron_id\", \"Diff\"]].set_index(\"neuron_id\")\n",
    "    df = df1.join(df2, on=\"neuron_id\", lsuffix=\"_first_half\", rsuffix=\"_second_half\")\n",
    "    df = df.dropna()\n",
    "    df = df[(df[\"Diff_first_half\"] != \"missing\") & (df[\"Diff_second_half\"] != \"missing\")]\n",
    "    if neuron_type is not None:\n",
    "        df = df.join(neuron_types[[\"neuron_id\", \"neuron_type\"]]).query(\"neuron_type == @neuron_type\").set_index(\"neuron_id\")\n",
    "    return spearmanr(df[\"Diff_first_half\"].values, df[\"Diff_second_half\"].values)"
   ]
  },
  {
   "cell_type": "code",
   "execution_count": 142,
   "metadata": {},
   "outputs": [
    {
     "data": {
      "text/plain": [
       "SpearmanrResult(correlation=0.5122357670610898, pvalue=3.612990016037421e-06)"
      ]
     },
     "execution_count": 142,
     "metadata": {},
     "output_type": "execute_result"
    }
   ],
   "source": [
    "get_overlap(responders_first_half, responders_second_half)"
   ]
  },
  {
   "cell_type": "code",
   "execution_count": 88,
   "metadata": {},
   "outputs": [],
   "source": [
    "\n",
    "df1 = responders_first_half.copy()[[\"neuron_id\", \"Diff\"]].set_index(\"neuron_id\")\n",
    "df2 = responders_second_half.copy()[[\"neuron_id\", \"Diff\"]].set_index(\"neuron_id\")\n",
    "df = df1.join(df2, on=\"neuron_id\", lsuffix=\"_first_half\", rsuffix=\"_second_half\")\n",
    "df = df.dropna()\n",
    "df = df[(df[\"Diff_first_half\"] != \"missing\") & (df[\"Diff_second_half\"] != \"missing\")]\n"
   ]
  },
  {
   "cell_type": "code",
   "execution_count": 89,
   "metadata": {},
   "outputs": [
    {
     "data": {
      "text/plain": [
       "SpearmanrResult(correlation=0.5122357670610898, pvalue=3.612990016037421e-06)"
      ]
     },
     "execution_count": 89,
     "metadata": {},
     "output_type": "execute_result"
    }
   ],
   "source": [
    "spearmanr(df[\"Diff_first_half\"].values, df[\"Diff_second_half\"].values)"
   ]
  },
  {
   "cell_type": "code",
   "execution_count": 159,
   "metadata": {},
   "outputs": [
    {
     "data": {
      "image/png": "[encoded data removed]",
      "text/plain": [
       "<Figure size 108x108 with 1 Axes>"
      ]
     },
     "metadata": {},
     "output_type": "display_data"
    }
   ],
   "source": [
    "f = plt.figure(figsize=(1.5, 1.5))\n",
    "ax = f.subplots()\n",
    "\n",
    "sns.scatterplot(\n",
    "    data=df.join(neuron_types.set_index(\"neuron_id\")),\n",
    "    x=\"Diff_first_half\",\n",
    "    y=\"Diff_second_half\",\n",
    "    ax=ax,\n",
    "    color=\"black\",\n",
    "    # hue=\"neuron_type\"\n",
    "\n",
    ")\n",
    "\n",
    "ax.axline((0,0), slope=1, color=\"black\", linestyle=\"--\")\n",
    "ax.axhline(0, color=\"black\", linestyle=\"-\")\n",
    "ax.axvline(0, color=\"black\", linestyle=\"-\")\n",
    "ax.set_xlim(-2, 2)\n",
    "ax.set_ylim(-2, 2)\n",
    "ax.set_ylabel(\"Second Half of Session\")\n",
    "ax.set_xlabel(\"First Half of Session\")\n",
    "ax.set_title(\"Neuronal Spike Rate Change \\n (Inact -> Act; Z-score)\", pad=20)\n",
    "\n",
    "# sns.move_legend(ax, \"upper left\", bbox_to_anchor=(1, 0.95), bbox_transform=ax.transAxes)\n",
    "\n",
    "sns.despine(ax=ax, offset=5)\n",
    "\n",
    "f.savefig(Config.fig_dir / \"bs spike rate su responders consistency.png\",\n",
    "            dpi=300, bbox_inches=\"tight\", transparent=True, )"
   ]
  },
  {
   "cell_type": "code",
   "execution_count": 119,
   "metadata": {},
   "outputs": [],
   "source": [
    "### Response similarity with LFP\n",
    "\n",
    "\n",
    "df_aligned_lfp = load_data(0, 1800, states_path=Config.derived_data_dir / \"lfp_states.csv\")\n",
    "# df_aligned_second_half = load_data(900, 1800)\n",
    "\n",
    "mod_lfp = SpikeRateResonders(df_value_col=\"zcounts\", round_output=2)\n",
    "responders_lfp = mod_second_half.get_responders(df_aligned_lfp, abs_diff_thresh=0.1).pipe(get_response)\n"
   ]
  },
  {
   "cell_type": "code",
   "execution_count": 128,
   "metadata": {},
   "outputs": [],
   "source": [
    "response = get_overlap(responders_lfp, responders.pipe(get_response))"
   ]
  },
  {
   "cell_type": "code",
   "execution_count": 129,
   "metadata": {},
   "outputs": [
    {
     "data": {
      "text/plain": [
       "SpearmanrResult(correlation=0.5122357670610898, pvalue=3.612990016037421e-06)"
      ]
     },
     "execution_count": 129,
     "metadata": {},
     "output_type": "execute_result"
    }
   ],
   "source": [
    "response"
   ]
  },
  {
   "cell_type": "code",
   "execution_count": null,
   "metadata": {},
   "outputs": [],
   "source": []
  }
 ],
 "metadata": {
  "kernelspec": {
   "display_name": "Python 3.8.13 ('drn')",
   "language": "python",
   "name": "python3"
  },
  "language_info": {
   "codemirror_mode": {
    "name": "ipython",
    "version": 3
   },
   "file_extension": ".py",
   "mimetype": "text/x-python",
   "name": "python",
   "nbconvert_exporter": "python",
   "pygments_lexer": "ipython3",
   "version": "3.8.13"
  },
  "orig_nbformat": 4,
  "vscode": {
   "interpreter": {
    "hash": "a141ff61fc8e5477d761678b9939730228dd63e8e5dabf1901cb4084a0e2e4d6"
   }
  }
 },
 "nbformat": 4,
 "nbformat_minor": 2
}
