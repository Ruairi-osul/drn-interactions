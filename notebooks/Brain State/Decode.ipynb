{
 "cells": [
  {
   "cell_type": "code",
   "execution_count": 2,
   "metadata": {},
   "outputs": [],
   "source": [
    "from sklearn.model_selection import KFold\n",
    "from lightgbm import LGBMClassifier\n",
    "\n",
    "from drn_interactions.config import ExperimentInfo\n",
    "from drn_interactions.decoding.loaders import StateDecodeDataLoader\n",
    "from drn_interactions.decoding.preprocessors import StateDecodePreprocessor\n",
    "from drn_interactions.decoding.runners import DecodeRunner\n",
    "from drn_interactions.decoding.decoders import Decoder\n",
    "from drn_interactions.decoding.shuffle import shuffle_X\n",
    "\n",
    "\n",
    "%load_ext autoreload\n",
    "%autoreload 2"
   ]
  },
  {
   "cell_type": "code",
   "execution_count": 3,
   "metadata": {},
   "outputs": [],
   "source": [
    "sessions = ExperimentInfo.eeg_sessions\n",
    "session = sessions[0]\n",
    "loader = StateDecodeDataLoader(block=\"pre\", t_stop=1800, session_name=session)\n",
    "preprocessor = StateDecodePreprocessor(\n",
    "    thresh_empty=2,\n",
    ")\n",
    "spikes, states = loader()\n",
    "spikes, states = preprocessor(spikes, states)\n",
    "\n",
    "estimator = LGBMClassifier(n_estimators=50, max_depth=8, num_leaves=30)\n",
    "cv = KFold(n_splits=5, shuffle=True)\n",
    "decoder = Decoder(estimator=estimator, cv=cv, shuffler=shuffle_X)\n",
    "runner = DecodeRunner(\n",
    "    loader=loader,\n",
    "    preprocessor=preprocessor,\n",
    "    decoder=decoder,\n",
    "    nboot=75,\n",
    ")"
   ]
  },
  {
   "cell_type": "code",
   "execution_count": 5,
   "metadata": {},
   "outputs": [],
   "source": [
    "pop, unit = runner.run_multiple(sessions)\n",
    "limit = runner.run_multiple_limit(sessions=sessions, n_min=1, n_max=31)\n",
    "dropout = runner.run_multiple_dropout(sessions=sessions, neuron_types=(\"SR\", \"SIR\", \"FF\"))"
   ]
  },
  {
   "cell_type": "code",
   "execution_count": 9,
   "metadata": {},
   "outputs": [],
   "source": [
    "from drn_interactions.config import Config\n",
    "\n",
    "\n",
    "dd = Config.derived_data_dir / \"decoding\"\n",
    "\n",
    "pop.to_csv(dd / \"brain state - pop.csv\", index=False)\n",
    "unit.to_csv(dd / \"brain state - unit.csv\", index=False)\n",
    "limit.to_csv(dd / \"brain state - limit.csv\", index=False)\n",
    "dropout.to_csv(dd / \"brain state - dropout.csv\", index=False)"
   ]
  }
 ],
 "metadata": {
  "kernelspec": {
   "display_name": "Python 3.8.13 ('drn38')",
   "language": "python",
   "name": "python3"
  },
  "language_info": {
   "codemirror_mode": {
    "name": "ipython",
    "version": 3
   },
   "file_extension": ".py",
   "mimetype": "text/x-python",
   "name": "python",
   "nbconvert_exporter": "python",
   "pygments_lexer": "ipython3",
   "version": "3.8.13"
  },
  "orig_nbformat": 4,
  "vscode": {
   "interpreter": {
    "hash": "83d85788087be4ab95a62fa43e95c13744f0a02d6feebc555b96a547158d0970"
   }
  }
 },
 "nbformat": 4,
 "nbformat_minor": 2
}
