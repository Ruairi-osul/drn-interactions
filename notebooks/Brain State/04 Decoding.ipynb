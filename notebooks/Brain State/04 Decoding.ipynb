{
 "cells": [
  {
   "cell_type": "code",
   "execution_count": 1,
   "metadata": {},
   "outputs": [
    {
     "name": "stderr",
     "output_type": "stream",
     "text": [
      "c:\\Users\\roryl\\.conda\\envs\\drn38\\lib\\site-packages\\outdated\\utils.py:14: OutdatedPackageWarning: The package pingouin is out of date. Your version is 0.5.1, the latest is 0.5.2.\n",
      "Set the environment variable OUTDATED_IGNORE=1 to disable these warnings.\n",
      "  return warn(\n"
     ]
    }
   ],
   "source": [
    "from drn_interactions.load import load_neurons_derived, load_derived_generic\n",
    "from drn_interactions.spikes import SpikesHandler\n",
    "from drn_interactions.brain_state_decode import StateDecoder, StateDecodeDataLoader, StateDecodePreprocessor\n",
    "\n",
    "from sklearn.pipeline import make_pipeline\n",
    "from sklearn.preprocessing import StandardScaler\n",
    "from sklearn.linear_model import LogisticRegressionCV\n",
    "from sklearn.model_selection import StratifiedKFold, KFold\n",
    "from sklearn.ensemble import RandomForestClassifier\n",
    "from drn_interactions.brain_state_decode import shuffle_X\n",
    "\n",
    "\n",
    "from copy import deepcopy\n",
    "import matplotlib.pyplot as plt\n",
    "import seaborn as sns\n",
    "import pingouin as pg\n",
    "import numpy as np\n",
    "import pandas as pd\n",
    "sns.set_theme(context=\"poster\", style=\"ticks\")\n",
    "\n",
    "from IPython.display import display\n",
    "\n",
    "%load_ext autoreload\n",
    "%autoreload 2"
   ]
  },
  {
   "cell_type": "code",
   "execution_count": 2,
   "metadata": {},
   "outputs": [],
   "source": [
    "def eeg_decode(\n",
    "    loader: StateDecodeDataLoader,\n",
    "    preprocessor:StateDecodePreprocessor,\n",
    "    decoder: StateDecoder,\n",
    "    nboot = 75,\n",
    "    ):\n",
    "    spikes, states = loader()\n",
    "    spikes, states = preprocessor(spikes, states)\n",
    "    \n",
    "    pop_true = np.mean(decoder.get_real_scores(spikes, states))\n",
    "    pop_reps = decoder.get_bootstrap_scores(spikes, states, n_boot=nboot)\n",
    "    pop_shuffle = np.mean(pop_reps, axis=1).mean()\n",
    "    out_pop = pd.DataFrame({\"true\": pop_true, \"shuffle\": pop_shuffle}, index=[0]) \n",
    "    \n",
    "    unit_scores = decoder.get_unit_scores(spikes, states)\n",
    "    out_unit = pd.DataFrame(unit_scores).mean().to_frame(\"F1 Score\").reset_index().rename(columns=dict(index=\"neuron_id\"))\n",
    "\n",
    "    return out_pop, out_unit\n",
    "\n",
    "def eeg_decode_multi(sessions, loader, preprocessor, decoder, nboot=75):\n",
    "    out_pop = []\n",
    "    out_unit = []\n",
    "    for session in sessions:\n",
    "        print(session) \n",
    "        loader_session = deepcopy(loader)\n",
    "        loader_session.set_session(session)\n",
    "        pop, unit = eeg_decode(loader_session, preprocessor, decoder, nboot)\n",
    "        pop = pop.assign(session_name=session)\n",
    "        unit = unit.assign(session_name=session)\n",
    "        out_pop.append(pop)\n",
    "        out_unit.append(unit)\n",
    "    return pd.concat(out_pop).reset_index(drop=True), pd.concat(out_unit).reset_index(drop=True)"
   ]
  },
  {
   "cell_type": "code",
   "execution_count": 3,
   "metadata": {},
   "outputs": [],
   "source": [
    "eeg_states = load_derived_generic(\"eeg_states.csv\").rename(columns={\"cluster\": \"state\"})\n",
    "neurons = load_neurons_derived()\n",
    "sessions = neurons.merge(eeg_states[[\"session_name\"]].drop_duplicates(), on=\"session_name\")[\"session_name\"].unique()\n"
   ]
  },
  {
   "cell_type": "code",
   "execution_count": 4,
   "metadata": {},
   "outputs": [
    {
     "name": "stdout",
     "output_type": "stream",
     "text": [
      "ESHOCK_03_LOC1\n"
     ]
    },
    {
     "name": "stderr",
     "output_type": "stream",
     "text": [
      "100%|██████████| 2/2 [00:02<00:00,  1.12s/it]\n"
     ]
    },
    {
     "name": "stdout",
     "output_type": "stream",
     "text": [
      "ESHOCK_04_LOC1\n"
     ]
    },
    {
     "name": "stderr",
     "output_type": "stream",
     "text": [
      "100%|██████████| 2/2 [00:03<00:00,  1.59s/it]\n"
     ]
    },
    {
     "name": "stdout",
     "output_type": "stream",
     "text": [
      "ESHOCK_06_LOC1\n"
     ]
    },
    {
     "name": "stderr",
     "output_type": "stream",
     "text": [
      "100%|██████████| 2/2 [00:02<00:00,  1.45s/it]\n"
     ]
    },
    {
     "name": "stdout",
     "output_type": "stream",
     "text": [
      "ESHOCK_07_LOC1\n"
     ]
    },
    {
     "name": "stderr",
     "output_type": "stream",
     "text": [
      "100%|██████████| 2/2 [00:03<00:00,  1.52s/it]\n"
     ]
    },
    {
     "name": "stdout",
     "output_type": "stream",
     "text": [
      "ESHOCK_08_LOC1\n"
     ]
    },
    {
     "name": "stderr",
     "output_type": "stream",
     "text": [
      "100%|██████████| 2/2 [00:02<00:00,  1.45s/it]\n"
     ]
    },
    {
     "name": "stdout",
     "output_type": "stream",
     "text": [
      "ESHOCK_09_LOC1\n"
     ]
    },
    {
     "name": "stderr",
     "output_type": "stream",
     "text": [
      "100%|██████████| 2/2 [00:03<00:00,  1.75s/it]\n"
     ]
    },
    {
     "name": "stdout",
     "output_type": "stream",
     "text": [
      "hamilton_10\n"
     ]
    },
    {
     "name": "stderr",
     "output_type": "stream",
     "text": [
      "100%|██████████| 2/2 [00:02<00:00,  1.22s/it]\n"
     ]
    },
    {
     "name": "stdout",
     "output_type": "stream",
     "text": [
      "hamilton_03\n"
     ]
    },
    {
     "name": "stderr",
     "output_type": "stream",
     "text": [
      "100%|██████████| 2/2 [00:02<00:00,  1.47s/it]\n"
     ]
    },
    {
     "name": "stdout",
     "output_type": "stream",
     "text": [
      "hamilton_04\n"
     ]
    },
    {
     "name": "stderr",
     "output_type": "stream",
     "text": [
      "100%|██████████| 2/2 [00:03<00:00,  1.55s/it]\n"
     ]
    },
    {
     "name": "stdout",
     "output_type": "stream",
     "text": [
      "hamilton_09\n"
     ]
    },
    {
     "name": "stderr",
     "output_type": "stream",
     "text": [
      "100%|██████████| 2/2 [00:02<00:00,  1.44s/it]\n"
     ]
    },
    {
     "name": "stdout",
     "output_type": "stream",
     "text": [
      "acute_15\n"
     ]
    },
    {
     "name": "stderr",
     "output_type": "stream",
     "text": [
      "100%|██████████| 2/2 [00:03<00:00,  1.70s/it]\n"
     ]
    },
    {
     "name": "stdout",
     "output_type": "stream",
     "text": [
      "acute_16\n"
     ]
    },
    {
     "name": "stderr",
     "output_type": "stream",
     "text": [
      "100%|██████████| 2/2 [00:03<00:00,  1.65s/it]\n"
     ]
    },
    {
     "name": "stdout",
     "output_type": "stream",
     "text": [
      "acute_14\n"
     ]
    },
    {
     "name": "stderr",
     "output_type": "stream",
     "text": [
      "100%|██████████| 2/2 [00:03<00:00,  1.55s/it]\n"
     ]
    },
    {
     "name": "stdout",
     "output_type": "stream",
     "text": [
      "acute_12\n"
     ]
    },
    {
     "name": "stderr",
     "output_type": "stream",
     "text": [
      "100%|██████████| 2/2 [00:03<00:00,  1.63s/it]\n"
     ]
    },
    {
     "name": "stdout",
     "output_type": "stream",
     "text": [
      "acute_11\n"
     ]
    },
    {
     "name": "stderr",
     "output_type": "stream",
     "text": [
      "100%|██████████| 2/2 [00:03<00:00,  1.81s/it]\n"
     ]
    }
   ],
   "source": [
    "loader =StateDecodeDataLoader(\n",
    "    session_name=None,\n",
    "    block=\"pre\",\n",
    "    t_start=0,\n",
    "    t_stop=1800,\n",
    "    bin_width=1,\n",
    "    )\n",
    "preprocessor = StateDecodePreprocessor(thresh_empty=2)\n",
    "pipe = RandomForestClassifier()\n",
    "cv = KFold(shuffle=True)\n",
    "decoder = StateDecoder(\n",
    "    estimator=pipe,\n",
    "    cv=cv,\n",
    "    shuffler=shuffle_X\n",
    ")\n",
    "pop, unit = eeg_decode_multi(sessions, loader, preprocessor, decoder, nboot=2)"
   ]
  },
  {
   "cell_type": "code",
   "execution_count": 5,
   "metadata": {},
   "outputs": [
    {
     "data": {
      "image/png": "[encoded data removed]",
      "text/plain": [
       "<Figure size 432x360 with 2 Axes>"
      ]
     },
     "metadata": {
      "needs_background": "light"
     },
     "output_type": "display_data"
    }
   ],
   "source": [
    "f, axes = plt.subplots(2, figsize=(6, 5), sharex=True)\n",
    "\n",
    "bins = np.arange(0, 1.1, 0.05)\n",
    "\n",
    "axes[0].hist(unit[\"F1 Score\"], color=\"black\", bins=bins, density=False)\n",
    "sns.despine()\n",
    "axes[0].set_ylabel(\"Unit\\nCount\")\n",
    "plt.tight_layout()\n",
    "\n",
    "axes[1].hist(pop[\"true\"], color=\"black\", bins=bins, density=False)\n",
    "sns.despine()\n",
    "axes[1].set_xlabel(\"Decoder Perforance\\n(F1 Score)\")\n",
    "axes[1].set_ylabel(\"Session\\nCount\")\n",
    "f.align_ylabels()"
   ]
  },
  {
   "cell_type": "code",
   "execution_count": 6,
   "metadata": {},
   "outputs": [
    {
     "data": {
      "image/png": "[encoded data removed]",
      "text/plain": [
       "<Figure size 576x360 with 2 Axes>"
      ]
     },
     "metadata": {
      "needs_background": "light"
     },
     "output_type": "display_data"
    }
   ],
   "source": [
    "df = (\n",
    "    unit.merge(neurons)\n",
    "    .groupby(\"session_name\")[\"F1 Score\"]\n",
    "    .max()\n",
    "    .to_frame(\"best_neuron\")\n",
    "    .reset_index()\n",
    "    .merge(pop)\n",
    ")\n",
    "\n",
    "fig, ax = plt.subplots(ncols=2, figsize=(8, 5), sharey=True)\n",
    "\n",
    "ax0 = ax[0]\n",
    "df1 =  pop.melt(id_vars=\"session_name\")\n",
    "\n",
    "ax0.set_ylim(0.4, 1)\n",
    "ax0.set_yticks([0.4, 0.6, 0.8, 1])\n",
    "pg.plot_paired(data=df1, dv='value', within='variable',\n",
    "               subject='session_name', ax=ax0, boxplot=True,\n",
    "               )\n",
    "ax0.set_xlabel(None)\n",
    "ax0.set_ylabel(\"Decoder Performance\\n(F1 Score)\")\n",
    "\n",
    "ax0.set_xticklabels([\"Shuffled\\nPopulation\", \"Population\"],  rotation=45)\n",
    "\n",
    "\n",
    "ax1 = ax[1]\n",
    "df1 =  df.drop(\"shuffle\", axis=1).melt(id_vars=\"session_name\")\n",
    "\n",
    "pg.plot_paired(data=df1, dv='value', within='variable',\n",
    "               subject='session_name', ax=ax1, boxplot=True,\n",
    "               )\n",
    "ax1.set_xlabel(None)\n",
    "ax1.set_ylabel(\"Decoder Performance\\n[F1 Score]\")\n",
    "ax1.set_xticklabels([\"Best Unit\", \"Population\"], rotation=45)\n",
    "\n",
    "plt.tight_layout()"
   ]
  },
  {
   "cell_type": "code",
   "execution_count": null,
   "metadata": {},
   "outputs": [],
   "source": []
  },
  {
   "cell_type": "code",
   "execution_count": null,
   "metadata": {},
   "outputs": [],
   "source": []
  }
 ],
 "metadata": {
  "kernelspec": {
   "display_name": "Python 3.8.13 ('drn38')",
   "language": "python",
   "name": "python3"
  },
  "language_info": {
   "codemirror_mode": {
    "name": "ipython",
    "version": 3
   },
   "file_extension": ".py",
   "mimetype": "text/x-python",
   "name": "python",
   "nbconvert_exporter": "python",
   "pygments_lexer": "ipython3",
   "version": "3.8.13"
  },
  "orig_nbformat": 4,
  "vscode": {
   "interpreter": {
    "hash": "83d85788087be4ab95a62fa43e95c13744f0a02d6feebc555b96a547158d0970"
   }
  }
 },
 "nbformat": 4,
 "nbformat_minor": 2
}
