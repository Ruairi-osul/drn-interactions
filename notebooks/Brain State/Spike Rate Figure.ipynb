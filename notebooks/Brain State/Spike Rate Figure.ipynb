{
 "cells": [
  {
   "cell_type": "code",
   "execution_count": 255,
   "metadata": {},
   "outputs": [],
   "source": [
    "# imports\n",
    "\n",
    "from drn_interactions.decoding.plots import EEGDecodeLoader\n",
    "from drn_interactions.plots.heatmaps import heatmap, state_indicator\n",
    "from drn_interactions.io import load_derived_generic\n",
    "from drn_interactions.config import Config\n",
    "\n",
    "import pandas as pd\n",
    "import numpy as np\n",
    "import matplotlib.pyplot as plt\n",
    "import seaborn as sns\n",
    "\n",
    "from scipy.signal import medfilt\n",
    "from scipy.stats import zscore\n",
    "from sklearn.preprocessing import minmax_scale\n",
    "\n",
    "from scipy.ndimage import gaussian_filter\n",
    "from sklearn.impute import KNNImputer\n",
    "from sklearn.ensemble import IsolationForest"
   ]
  },
  {
   "cell_type": "code",
   "execution_count": 207,
   "metadata": {},
   "outputs": [],
   "source": [
    "# sns.set_theme(context=\"paper\", style=\"ticks\")"
   ]
  },
  {
   "cell_type": "code",
   "execution_count": 247,
   "metadata": {},
   "outputs": [],
   "source": [
    "# loaders and preprocessors\n",
    "\n",
    "def get_normalized_median_spike_rate_by_neuron_type(\n",
    "    df_binned_piv,\n",
    "    medfilt_size=11,\n",
    "):\n",
    "    df_binned_piv = df_binned_piv.transform(medfilt, kernel_size=11)\n",
    "    df_melt = (\n",
    "        df_binned_piv.reset_index()\n",
    "        .rename(columns={\"bin\": \"time\"})\n",
    "        .melt(id_vars=\"time\", var_name=\"neuron_id\", value_name=\"spike_rate\")\n",
    "    )\n",
    "    df_melt = df_melt.merge(neurons[[\"neuron_id\", \"neuron_type\"]])\n",
    "    by_neuron_type = df_melt.groupby([\"time\", \"neuron_type\"])\n",
    "    mean_rate_by_neuron_type = by_neuron_type.spike_rate.mean().reset_index()\n",
    "    mean_rate_by_neuron_type[\"norm\"] = mean_rate_by_neuron_type.groupby(\"neuron_type\")[\n",
    "        \"spike_rate\"\n",
    "    ].transform(minmax_scale)\n",
    "    return mean_rate_by_neuron_type\n",
    "\n",
    "\n",
    "from scipy.ndimage import gaussian_filter1d\n",
    "from sklearn.feature_extraction.text import TfidfTransformer\n",
    "\n",
    "def get_session_order(session):\n",
    "    return neurons.query(\"session_name == @session\").sort_values(\"neuron_type\", ascending=False).neuron_id.astype(str).values.tolist()\n",
    "\n",
    "def preprocess_spikes_heatmap(spikes: pd.DataFrame, session, gaussian_sigma=None, tf=True, minmax=True) -> pd.DataFrame:\n",
    "    if gaussian_sigma is not None:\n",
    "        spikes = spikes.transform(gaussian_filter1d, sigma=gaussian_sigma)\n",
    "    if tf:\n",
    "        vals = TfidfTransformer().fit_transform(spikes).todense()\n",
    "        spikes = pd.DataFrame(vals, columns=spikes.columns, index=spikes.index)\n",
    "    if minmax:\n",
    "        spikes = (\n",
    "            spikes.apply(minmax_scale)\n",
    "        )\n",
    "    idx = get_session_order(session)\n",
    "    spikes =  spikes[[c for c in idx if c in spikes.columns]]\n",
    "    return spikes.T\n",
    "\n",
    "def preprocess_spectrogram(df, session_name, remove_outliers=True, zscore_normalize=True):\n",
    "    # df = df.query(\"session_name == @session_name\")\n",
    "    # df = df.loc[lambda x: (x.frequency < 8) & (x.frequency > 0)]\n",
    "    # df = df.pivot(index=\"timepoint_s\", columns=\"frequency\", values=\"fft_value\")\n",
    "\n",
    "    if remove_outliers:\n",
    "        idx = IsolationForest().fit_predict(df)\n",
    "        df.iloc[idx == -1, :] = np.nan \n",
    "        df = pd.DataFrame(KNNImputer().fit_transform(df), index=df.index, columns=df.columns)\n",
    "    \n",
    "    if zscore_normalize:\n",
    "        df = df.apply(zscore).transpose().apply(zscore).transpose()\n",
    "        values = gaussian_filter(df, sigma=(2, 2))\n",
    "        df = pd.DataFrame(values, index=df.index, columns=df.columns)\n",
    "    \n",
    "    df.index = pd.to_timedelta(df.index, unit=\"s\") - pd.to_timedelta(1, unit=\"s\")\n",
    "    df = df.resample(\"1s\").ffill()\n",
    "    df.index = df.index.total_seconds()\n",
    "    return df"
   ]
  },
  {
   "cell_type": "code",
   "execution_count": 217,
   "metadata": {},
   "outputs": [],
   "source": [
    "# plotters\n",
    "\n",
    "\n",
    "def plot_spike_rate_by_neuron(df_types, axes, **plot_kwargs):\n",
    "    for neuron_type, ax in zip([\"SR\", \"SIR\", \"FF\"], axes):\n",
    "        df_type = df_types.query(f'neuron_type == \"{neuron_type}\"')\n",
    "        ax.plot(\n",
    "            df_type[\"time\"],\n",
    "            df_type[\"norm\"],\n",
    "            color=\"k\",\n",
    "            **plot_kwargs,\n",
    "            )\n",
    "        ax.set_ylim(0, 1)\n",
    "        ax.axis(\"off\")\n",
    "    return ax\n",
    "\n",
    "\n",
    "def plot_spikes_heatmap(spikes_heat, ax, **heatmap_kwargs):\n",
    "    sns.heatmap(spikes_heat, cmap=\"Greys\", ax=ax, cbar=False, **heatmap_kwargs)\n",
    "    ax.axis(\"off\") \n",
    "    return ax\n",
    "\n",
    "def plot_spectrogram(df, ax, vmin=-1, vmax=1):\n",
    "    sns.heatmap(df.T.iloc[::-1], cmap=\"viridis\", cbar=False, vmin=vmin, vmax=vmax, ax=ax)\n",
    "    ax.axis(\"off\")\n",
    "    return ax"
   ]
  },
  {
   "cell_type": "code",
   "execution_count": 201,
   "metadata": {},
   "outputs": [
    {
     "name": "stdout",
     "output_type": "stream",
     "text": [
      "['ESHOCK_07_LOC1' 'ESHOCK_08_LOC1' 'ESHOCK_09_LOC1' 'acute_12' 'acute_16'\n",
      " 'hamilton_10']\n"
     ]
    }
   ],
   "source": [
    "# load data\n",
    "\n",
    "states = load_derived_generic(\"eeg_states.csv\")\n",
    "neurons = load_derived_generic(\"neuron_types.csv\")[\n",
    "    [\"neuron_id\", \"session_name\", \"neuron_type\"]\n",
    "].assign(neuron_id=lambda x: x.neuron_id.astype(str))\n",
    "sessions = states.query('quality == \"good\"').session_name.unique()\n",
    "print(sessions)\n"
   ]
  },
  {
   "cell_type": "code",
   "execution_count": 248,
   "metadata": {},
   "outputs": [
    {
     "name": "stdout",
     "output_type": "stream",
     "text": [
      "ESHOCK_07_LOC1\n"
     ]
    }
   ],
   "source": [
    "# subset recording and preprocess\n",
    "\n",
    "loader = EEGDecodeLoader(sessions=sessions)\n",
    "\n",
    "session = sessions[0]\n",
    "print(session)\n",
    "\n",
    "\n",
    "spikes, states, df_fft = loader.load_session_data(session, t_stop=1802)\n",
    "df_types = get_normalized_median_spike_rate_by_neuron_type(spikes)\n",
    "spikes_heat = preprocess_spikes_heatmap(spikes, session=session, gaussian_sigma=1, tf=False)\n",
    "session_spectrogram = preprocess_spectrogram(df_fft, session_name=session)"
   ]
  },
  {
   "cell_type": "code",
   "execution_count": 265,
   "metadata": {},
   "outputs": [
    {
     "data": {
      "image/png": "[encoded data removed]",
      "text/plain": [
       "<Figure size 360x288 with 6 Axes>"
      ]
     },
     "metadata": {
      "needs_background": "light"
     },
     "output_type": "display_data"
    }
   ],
   "source": [
    "f = plt.figure(figsize=(5, 4))\n",
    "\n",
    "axes = f.subplots(6, 1, gridspec_kw={\n",
    "    \"hspace\": 0.5,\n",
    "    \"height_ratios\": [1.4, 0.33, 0.33, 0.33, 1.4, 0.44],\n",
    "    }, \n",
    "    sharex=True)\n",
    "\n",
    "\n",
    "plot_spectrogram(session_spectrogram, axes[0], vmin=None, vmax=None)\n",
    "\n",
    "plot_spikes_heatmap(spikes_heat, axes[-2], vmin=0, vmax=1)\n",
    "\n",
    "plot_spike_rate_by_neuron(df_types, axes=axes[-5:-2], linewidth=0.5)\n",
    "\n",
    "state_indicator(states, ax=axes[-1], order=[\"sw\", \"act\"])\n",
    "axes[-1].set_yticklabels(\"\")\n",
    "\n",
    "axes[-1].xaxis.set_major_locator(plt.MultipleLocator(600))\n",
    "axes[-1].xaxis.set_major_formatter(plt.FuncFormatter(lambda x, pos: f\"{x/60:.0f}\"))\n",
    "\n",
    "\n",
    "sns.despine(f, offset=0)\n",
    "\n",
    "f.savefig(Config.fig_dir / \"bs - spike rate - example - post ts.png\", \n",
    "    dpi=300, bbox_inches=\"tight\", pad_inches=0.05)"
   ]
  },
  {
   "cell_type": "code",
   "execution_count": 257,
   "metadata": {},
   "outputs": [
    {
     "data": {
      "image/png": "[encoded data removed]",
      "text/plain": [
       "<Figure size 72x72 with 1 Axes>"
      ]
     },
     "metadata": {
      "needs_background": "light"
     },
     "output_type": "display_data"
    }
   ],
   "source": [
    "def stacked_bar_single(session, ax):\n",
    "    neurons[\"neuron_type\"].value_counts().to_frame().T.plot(kind=\"bar\", stacked=True, ax=ax, legend=False)\n",
    "    ax.axis(\"off\")\n",
    "    return ax\n",
    "\n",
    "f = plt.figure(figsize=(1, 1))\n",
    "ax = f.subplots()\n",
    "\n",
    "stacked_bar_single(session, ax)\n",
    "\n",
    "f.savefig(Config.fig_dir / \"bs - spike rate - example - neuron types key.png\", \n",
    "    dpi=100, bbox_inches=\"tight\", pad_inches=0.05)"
   ]
  },
  {
   "cell_type": "code",
   "execution_count": 80,
   "metadata": {},
   "outputs": [],
   "source": [
    "# plots\n",
    "# - spectrogram\n",
    "# - spike rate by neuron type\n",
    "# - Neuron heatmap\n",
    "# - State Inhidicator"
   ]
  },
  {
   "cell_type": "code",
   "execution_count": null,
   "metadata": {},
   "outputs": [],
   "source": []
  }
 ],
 "metadata": {
  "kernelspec": {
   "display_name": "Python 3.8.13 ('drn')",
   "language": "python",
   "name": "python3"
  },
  "language_info": {
   "codemirror_mode": {
    "name": "ipython",
    "version": 3
   },
   "file_extension": ".py",
   "mimetype": "text/x-python",
   "name": "python",
   "nbconvert_exporter": "python",
   "pygments_lexer": "ipython3",
   "version": "3.8.13"
  },
  "orig_nbformat": 4,
  "vscode": {
   "interpreter": {
    "hash": "a141ff61fc8e5477d761678b9939730228dd63e8e5dabf1901cb4084a0e2e4d6"
   }
  }
 },
 "nbformat": 4,
 "nbformat_minor": 2
}
