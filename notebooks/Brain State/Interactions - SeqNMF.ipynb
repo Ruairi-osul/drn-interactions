{
 "cells": [
  {
   "cell_type": "code",
   "execution_count": 4,
   "metadata": {},
   "outputs": [],
   "source": [
    "from drn_interactions.interactions.loaders import StateInteractionsLoader\n",
    "from drn_interactions.io import load_derived_generic\n",
    "from drn_interactions.interactions.preprocessors import InteractionsPreprocessor\n",
    "from drn_interactions.interactions.seqnmf import SeqNMF\n",
    "import pandas as pd\n",
    "from drn_interactions.config import Config, ExperimentInfo\n",
    "from tqdm import tqdm"
   ]
  },
  {
   "cell_type": "code",
   "execution_count": 12,
   "metadata": {},
   "outputs": [
    {
     "name": "stderr",
     "output_type": "stream",
     "text": [
      "  0%|          | 0/5 [00:00<?, ?it/s]"
     ]
    }
   ],
   "source": [
    "neuron_types = load_derived_generic(\"neuron_types.csv\")\n",
    "sessions = ExperimentInfo.eeg_sessions\n",
    "res = []\n",
    "\n",
    "bin_widths = [0.05, 0.1, 0.5, 1]\n",
    "\n",
    "loader_fac = lambda session_name, bin_width, state: StateInteractionsLoader(\n",
    "    session_name=session_name, bin_width=bin_width, state=state\n",
    ")\n",
    "preprocessor_fac = lambda: InteractionsPreprocessor(\n",
    "    z=False, minmax=True, gaussian_sigma=None,\n",
    ")\n",
    "model_fac = lambda K, L, Lambda: SeqNMF(K, L, Lambda)\n",
    "\n",
    "for bin_width in tqdm(bin_widths):\n",
    "    for state in (\"sw\", \"act\"):\n",
    "        for session in sessions:\n",
    "\n",
    "            loader = loader_fac(session, bin_width, state=state)\n",
    "            preprocessor = preprocessor_fac()\n",
    "            model = model_fac(K=6, L=10, Lambda=0.1)\n",
    "            spikes = preprocessor(loader())\n",
    "            score = model.sequenciness_score(spikes.T)\n",
    "            res.append(\n",
    "                {\n",
    "                    \"session_name\": session,\n",
    "                    \"k\": 6,\n",
    "                    \"L\": 10,\n",
    "                    \"bin_width\": bin_width,\n",
    "                    \"score\": score,\n",
    "                    \"state\": state,\n",
    "                }\n",
    "            )"
   ]
  },
  {
   "cell_type": "code",
   "execution_count": null,
   "metadata": {},
   "outputs": [],
   "source": [
    "df_out = pd.DataFrame.from_records(res)\n",
    "\n",
    "dd = Config.derived_data_dir / \"seqnmf\"\n",
    "dd.mkdir(exist_ok=True)\n",
    "\n",
    "df_out.to_csv(dd / \"bs - sequenciness scores.csv\")"
   ]
  },
  {
   "cell_type": "code",
   "execution_count": null,
   "metadata": {},
   "outputs": [],
   "source": []
  }
 ],
 "metadata": {
  "kernelspec": {
   "display_name": "Python 3.6.13 ('drn-interactions')",
   "language": "python",
   "name": "python3"
  },
  "language_info": {
   "codemirror_mode": {
    "name": "ipython",
    "version": 3
   },
   "file_extension": ".py",
   "mimetype": "text/x-python",
   "name": "python",
   "nbconvert_exporter": "python",
   "pygments_lexer": "ipython3",
   "version": "3.6.13"
  },
  "orig_nbformat": 4,
  "vscode": {
   "interpreter": {
    "hash": "595626f471715c1ef1767721af1162754763b18b459b8364279c934890ae0eae"
   }
  }
 },
 "nbformat": 4,
 "nbformat_minor": 2
}
