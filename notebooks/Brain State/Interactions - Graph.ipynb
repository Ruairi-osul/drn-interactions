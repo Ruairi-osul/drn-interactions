{
 "cells": [
  {
   "cell_type": "code",
   "execution_count": 1,
   "metadata": {},
   "outputs": [
    {
     "name": "stderr",
     "output_type": "stream",
     "text": [
      "c:\\Users\\roryl\\.conda\\envs\\drn-interactions\\lib\\site-packages\\outdated\\utils.py:18: OutdatedPackageWarning: The package pingouin is out of date. Your version is 0.3.12, the latest is 0.5.2.\n",
      "Set the environment variable OUTDATED_IGNORE=1 to disable these warnings.\n",
      "  **kwargs\n"
     ]
    }
   ],
   "source": [
    "from drn_interactions.interactions.loaders import StateInteractionsLoader\n",
    "from drn_interactions.interactions.preprocessors import InteractionsPreprocessor\n",
    "from drn_interactions.interactions.pairwise import PairwiseCorr\n",
    "from drn_interactions.interactions.graph_clustering import df_to_graph\n",
    "from drn_interactions.config import Config, ExperimentInfo\n",
    "import numpy as np\n",
    "from drn_interactions.interactions.graph import GraphAttributes, NodeAttributes\n",
    "import pandas as pd\n",
    "import seaborn as sns\n",
    "from drn_interactions.io import load_derived_generic, load_distances\n",
    "from drn_interactions.transforms.graph import GraphTransformer\n",
    "import matplotlib.pyplot as plt\n",
    "from drn_interactions.plots import PAL_GREY_BLACK\n",
    "from scipy.stats import chi2_contingency\n",
    "from tqdm import tqdm\n",
    "from scipy.stats import wilcoxon\n",
    "from drn_interactions.stats import mannwhitneyu_plusplus\n",
    "import pingouin as pg\n",
    "from scipy.stats import spearmanr\n",
    "\n",
    "fig_dir = Config.fig_dir\n",
    "sns.set_theme(style=\"ticks\", context=\"paper\")"
   ]
  },
  {
   "cell_type": "code",
   "execution_count": 2,
   "metadata": {},
   "outputs": [],
   "source": [
    "def load_responders():\n",
    "    bs_response = load_derived_generic(\"brain_states_spikerate_responders.csv\")[\n",
    "        [\"neuron_id\", \"Diff\", \"sig\"]\n",
    "    ].assign(\n",
    "        response_bs=lambda x: np.where(\n",
    "            x[\"sig\"] == False,\n",
    "            \"no_response\",\n",
    "            np.where(x[\"Diff\"] < 0, \"inhibited\", \"activated\"),\n",
    "        )\n",
    "    )[[\"neuron_id\", \"response_bs\"]]\n",
    "    phase_lock_response  = (\n",
    "        load_derived_generic(\"brain_states_phase_responders.csv\")\n",
    "        .pivot(index=\"neuron_id\", columns=\"oscillation\", values=\"p\")\n",
    "        [[\"delta\", \"theta\"]]\n",
    "        .transform(lambda x: x < 0.5)\n",
    "        .rename(columns={\"delta\": \"phase_lock_delta\", \"theta\": \"phase_lock_theta\"})\n",
    "        .reset_index()\n",
    "        [[\"neuron_id\", \"phase_lock_delta\", \"phase_lock_theta\"]]\n",
    "    )\n",
    "    df_responders = pd.merge(bs_response, phase_lock_response, on=\"neuron_id\", how=\"outer\")\n",
    "    return df_responders\n",
    "    "
   ]
  },
  {
   "cell_type": "code",
   "execution_count": 3,
   "metadata": {},
   "outputs": [
    {
     "name": "stderr",
     "output_type": "stream",
     "text": [
      "  0%|          | 0/4 [00:00<?, ?it/s]c:\\Users\\roryl\\.conda\\envs\\drn-interactions\\lib\\site-packages\\scipy\\stats\\stats.py:2500: RuntimeWarning: invalid value encountered in true_divide\n",
      "  return (a - mns) / sstd\n",
      "c:\\Users\\roryl\\.conda\\envs\\drn-interactions\\lib\\site-packages\\scipy\\stats\\stats.py:2500: RuntimeWarning: invalid value encountered in true_divide\n",
      "  return (a - mns) / sstd\n",
      "c:\\Users\\roryl\\.conda\\envs\\drn-interactions\\lib\\site-packages\\scipy\\stats\\stats.py:2500: RuntimeWarning: invalid value encountered in true_divide\n",
      "  return (a - mns) / sstd\n",
      " 25%|██▌       | 1/4 [00:45<02:17, 45.71s/it]c:\\Users\\roryl\\.conda\\envs\\drn-interactions\\lib\\site-packages\\scipy\\stats\\stats.py:2500: RuntimeWarning: invalid value encountered in true_divide\n",
      "  return (a - mns) / sstd\n",
      "c:\\Users\\roryl\\.conda\\envs\\drn-interactions\\lib\\site-packages\\scipy\\stats\\stats.py:2500: RuntimeWarning: invalid value encountered in true_divide\n",
      "  return (a - mns) / sstd\n",
      "c:\\Users\\roryl\\.conda\\envs\\drn-interactions\\lib\\site-packages\\scipy\\stats\\stats.py:2500: RuntimeWarning: invalid value encountered in true_divide\n",
      "  return (a - mns) / sstd\n",
      " 50%|█████     | 2/4 [01:24<01:23, 41.62s/it]c:\\Users\\roryl\\.conda\\envs\\drn-interactions\\lib\\site-packages\\scipy\\stats\\stats.py:2500: RuntimeWarning: invalid value encountered in true_divide\n",
      "  return (a - mns) / sstd\n",
      "c:\\Users\\roryl\\.conda\\envs\\drn-interactions\\lib\\site-packages\\scipy\\stats\\stats.py:2500: RuntimeWarning: invalid value encountered in true_divide\n",
      "  return (a - mns) / sstd\n",
      "c:\\Users\\roryl\\.conda\\envs\\drn-interactions\\lib\\site-packages\\scipy\\stats\\stats.py:2500: RuntimeWarning: invalid value encountered in true_divide\n",
      "  return (a - mns) / sstd\n",
      " 75%|███████▌  | 3/4 [01:59<00:38, 38.45s/it]c:\\Users\\roryl\\.conda\\envs\\drn-interactions\\lib\\site-packages\\scipy\\stats\\stats.py:2500: RuntimeWarning: invalid value encountered in true_divide\n",
      "  return (a - mns) / sstd\n",
      "c:\\Users\\roryl\\.conda\\envs\\drn-interactions\\lib\\site-packages\\scipy\\stats\\stats.py:2500: RuntimeWarning: invalid value encountered in true_divide\n",
      "  return (a - mns) / sstd\n",
      "c:\\Users\\roryl\\.conda\\envs\\drn-interactions\\lib\\site-packages\\scipy\\stats\\stats.py:2500: RuntimeWarning: invalid value encountered in true_divide\n",
      "  return (a - mns) / sstd\n",
      "100%|██████████| 4/4 [02:32<00:00, 38.13s/it]\n"
     ]
    }
   ],
   "source": [
    "sessions = ExperimentInfo.eeg_sessions\n",
    "neuron_types = load_derived_generic(\"neuron_types.csv\")[\n",
    "    [\"neuron_id\", \"neuron_type\", \"session_name\"]\n",
    "]\n",
    "df_distance = load_distances()\n",
    "df_ensembles = load_derived_generic(\"ensembles/bs - ensembles.csv\").drop_duplicates()\n",
    "df_ensembles[\"in_ensemble\"] = np.where(df_ensembles[\"ensemble_id\"] != \"-1\", True, False)\n",
    "df_responders = load_responders()\n",
    "\n",
    "graph_attrs = GraphAttributes(inverse_distance=True)\n",
    "node_attrs = NodeAttributes()\n",
    "\n",
    "graph_dfs = []\n",
    "node_dfs = []\n",
    "edge_dfs = []\n",
    "\n",
    "for bin_width in tqdm((0.05, 0.1, 0.5, 1)):\n",
    "    for state in (\"sw\", \"act\"):\n",
    "        g_transformer = GraphTransformer(\n",
    "            relabel_nodes=True,\n",
    "            weight_attr=\"weight\",\n",
    "            neuron_types=neuron_types,\n",
    "            df_distance=df_distance,\n",
    "            df_ensemble=df_ensembles.loc[ (df_ensembles[\"state\"] == state) & (df_ensembles[\"bin_width\"] == bin_width)],\n",
    "        )\n",
    "        for session in sessions:\n",
    "            loader = StateInteractionsLoader(\n",
    "                session_name=session, bin_width=bin_width, block=\"pre\", state=state\n",
    "            )\n",
    "            preprocessor = InteractionsPreprocessor()\n",
    "            pairwise = PairwiseCorr(rectify=True, shuffle=False)\n",
    "\n",
    "            spikes = preprocessor(loader())\n",
    "            df_affinity = (\n",
    "                pairwise.fit(spikes)\n",
    "                .get_adjacency_df()\n",
    "                .dropna(axis=1, thresh=5)\n",
    "                .dropna(axis=0, thresh=5)\n",
    "            )\n",
    "            G = df_to_graph(df_affinity, rename_nodes=True)\n",
    "\n",
    "            graph_stats = graph_attrs.get_graph_attributes(G)\n",
    "            node_stats = node_attrs.get_node_attributes(G, node_name=\"neuron_id\")\n",
    "            edge_stats = g_transformer.graph_to_edge_df(G)\n",
    "\n",
    "            graph_dfs.append(graph_stats.assign(session=session, state=state, bin_width=bin_width))\n",
    "            node_dfs.append(node_stats.assign(session=session, state=state, bin_width=bin_width))\n",
    "            edge_dfs.append(edge_stats.assign(session=session, state=state, bin_width=bin_width))\n",
    "\n",
    "df_graph = pd.concat(graph_dfs).reset_index(drop=True)\n",
    "df_edge = pd.concat(edge_dfs).reset_index(drop=True)\n",
    "df_node = (\n",
    "    pd.concat(node_dfs)\n",
    "    .reset_index(drop=True)\n",
    "    .merge(neuron_types[[\"neuron_id\", \"neuron_type\"]], how=\"left\")\n",
    ").drop_duplicates()\n",
    "df_node = df_node.merge(\n",
    "    df_ensembles[\n",
    "        [\n",
    "            \"neuron_id\",\n",
    "            \"in_ensemble\",\n",
    "            \"state\",\n",
    "            \"bin_width\",\n",
    "        ]\n",
    "    ], on=[\"neuron_id\", \"state\", \"bin_width\"], how=\"left\"\n",
    ").drop_duplicates()\n",
    "df_node = df_node.merge(df_responders, on=\"neuron_id\", how=\"left\")"
   ]
  },
  {
   "cell_type": "code",
   "execution_count": 4,
   "metadata": {},
   "outputs": [],
   "source": [
    "dd = Config.derived_data_dir / \"graph\"\n",
    "\n",
    "dd.mkdir(exist_ok=True)\n",
    "\n",
    "df_graph.to_csv(dd / \"bs - graph.csv\", index=False)\n",
    "df_node.to_csv(dd / \"bs - node.csv\", index=False)\n",
    "df_edge.to_csv(dd / \"bs - edge.csv\", index=False)"
   ]
  },
  {
   "cell_type": "markdown",
   "metadata": {},
   "source": [
    "### Graph Props\n",
    "\n",
    "Does the structure of inactions change between SW and Act?\n",
    "\n",
    "Metrics:\n",
    "- Average Clustering\n",
    "- Normalized Weight\n",
    "- SWP"
   ]
  },
  {
   "cell_type": "code",
   "execution_count": 12,
   "metadata": {},
   "outputs": [
    {
     "name": "stdout",
     "output_type": "stream",
     "text": [
      "n_Inact       15.000000\n",
      "n_Act         15.000000\n",
      "Mean_Inact     0.154058\n",
      "Mean_Act       0.120966\n",
      "Diff          -0.033092\n",
      "U             21.000000\n",
      "p              0.025574\n",
      "dtype: float64\n",
      "n_Inact       15.000000\n",
      "n_Act         15.000000\n",
      "Mean_Inact     0.227094\n",
      "Mean_Act       0.193845\n",
      "Diff          -0.033249\n",
      "U             36.000000\n",
      "p              0.187622\n",
      "dtype: float64\n"
     ]
    },
    {
     "name": "stderr",
     "output_type": "stream",
     "text": [
      "c:\\Users\\roryl\\.conda\\envs\\drn-interactions\\lib\\site-packages\\scipy\\stats\\morestats.py:2957: UserWarning: Exact p-value calculation does not work if there are ties. Switching to normal approximation.\n",
      "  warnings.warn(\"Exact p-value calculation does not work if there are \"\n"
     ]
    },
    {
     "name": "stdout",
     "output_type": "stream",
     "text": [
      "n_Inact       15.000000\n",
      "n_Act         15.000000\n",
      "Mean_Inact     0.428494\n",
      "Mean_Act       0.346639\n",
      "Diff          -0.081855\n",
      "U             25.000000\n",
      "p              0.272095\n",
      "dtype: float64\n"
     ]
    },
    {
     "data": {
      "image/png": "[encoded data removed]",
      "text/plain": [
       "<Figure size 453.6x79.2 with 3 Axes>"
      ]
     },
     "metadata": {},
     "output_type": "display_data"
    }
   ],
   "source": [
    "\n",
    "def compare_graph(df, metric):\n",
    "    piv = df.pivot(index=\"session\", columns=\"state\", values=metric)\n",
    "    x = piv[\"Inactivated\\nState\"]\n",
    "    y = piv[\"Activated\\nState\"]\n",
    "    res = mannwhitneyu_plusplus(x, y, names=(\"Inact\", \"Act\"), compare_f=wilcoxon)\n",
    "    return res\n",
    "\n",
    "def plot_graph(df, metric, ax=None, **kwargs):\n",
    "    pg.plot_paired(df, dv=metric, within=\"state\", subject=\"session\", ax=ax, **kwargs)\n",
    "    return \n",
    "\n",
    "dfg = (\n",
    "    load_derived_generic(\"graph/bs - graph.csv\")\n",
    "    .loc[lambda x: x.bin_width == 1]\n",
    "    .copy()\n",
    "    .assign(state=lambda x: np.where(x.state == \"sw\", \"Inactivated\\nState\", \"Activated\\nState\"))\n",
    "    .assign(state=lambda x: pd.Categorical(x.state, categories=[\"Inactivated\\nState\", \"Activated\\nState\"]))\n",
    ")\n",
    "\n",
    "\n",
    "f = plt.figure(figsize=(6.3, 1.1))\n",
    "\n",
    "axes = f.subplots(1, 3, sharex=True)\n",
    "\n",
    "print(compare_graph(dfg, \"avg_deg\"))\n",
    "\n",
    "axes[0].set_ylim(0, 12)\n",
    "plot_graph(dfg, \"density\",  ax=axes[0], pointplot_kwargs=dict(alpha=0.5), dpi=300,  boxplot=False)\n",
    "axes[0].set_title(\"Interaction Density\\n($\\sum{R_{SC} }$)\", pad=20)\n",
    "# axes[0].set_ylabel(r\"$\\frac{\\sum{R_{SC}}}{N}$\")\n",
    "axes[0].set_ylabel(\"\")\n",
    "axes[0].set_xlabel(\"\")\n",
    "\n",
    "print(compare_graph(dfg, \"avg_clust\"))\n",
    "\n",
    "axes[1].set_ylim(0, 0.5)\n",
    "plot_graph(dfg, \"avg_clust\", ax=axes[1], pointplot_kwargs=dict(alpha=0.5), dpi=300,  boxplot=False)\n",
    "axes[1].set_title(\"Average Clustering\\nCoefficient\", pad=20)\n",
    "# axes[1].set_ylabel(\"Clustering Coef\")\n",
    "axes[1].set_ylabel(\"\")\n",
    "axes[1].set_xlabel(\"\")\n",
    "\n",
    "\n",
    "\n",
    "print(compare_graph(dfg, \"swp\"))\n",
    "plot_graph(dfg, \"swp\",  ax=axes[2], pointplot_kwargs=dict(alpha=0.5,), dpi=300,  boxplot=False)\n",
    "axes[2].set_title(\"Small World\\nPerpensity (SWP)\", pad=20)\n",
    "# axes[2].set_ylabel(\"SWP\")\n",
    "axes[2].set_ylabel(\"\")\n",
    "axes[2].set_xlabel(\"\")\n",
    "\n",
    "for ax in axes:\n",
    "    ax.set_xticklabels(ax.get_xticklabels(), rotation=45, ha=\"center\")\n",
    "\n",
    "f.subplots_adjust(wspace=0.3)\n",
    "f.savefig(fig_dir / \"bs - graph stats.png\", bbox_inches=\"tight\", dpi=300)"
   ]
  },
  {
   "cell_type": "markdown",
   "metadata": {},
   "source": [
    "### Node Props"
   ]
  },
  {
   "cell_type": "code",
   "execution_count": 83,
   "metadata": {},
   "outputs": [
    {
     "name": "stdout",
     "output_type": "stream",
     "text": [
      "degree\n",
      " n_sw        306.000\n",
      "n_act       306.000\n",
      "Mean_sw       0.161\n",
      "Mean_act      0.131\n",
      "Diff         -0.030\n",
      "U             0.504\n",
      "p             0.000\n",
      "dtype: float64\n",
      "\n",
      "clust\n",
      " n_sw        306.000\n",
      "n_act       306.000\n",
      "Mean_sw       0.216\n",
      "Mean_act      0.205\n",
      "Diff         -0.012\n",
      "U             0.357\n",
      "p             0.000\n",
      "dtype: float64\n"
     ]
    }
   ],
   "source": [
    "\n",
    "def node_correlate(df, metric):\n",
    "    piv = (\n",
    "        df\n",
    "        [[\"neuron_id\", \"state\", metric]]\n",
    "        .drop_duplicates()\n",
    "        .pivot(index=\"neuron_id\", columns=\"state\", values=metric)\n",
    "        .dropna()\n",
    "    )\n",
    "    x = piv.sw\n",
    "    y = piv.act\n",
    "    return mannwhitneyu_plusplus(x, y, names=(\"sw\", \"act\"), compare_f=spearmanr).round(3)\n",
    "\n",
    "\n",
    "print(\"degree\\n\", node_correlate(dfn, \"degree\"))\n",
    "print(\"\\nclust\\n\", node_correlate(dfn, \"clust\"))"
   ]
  },
  {
   "cell_type": "code",
   "execution_count": 85,
   "metadata": {},
   "outputs": [
    {
     "name": "stdout",
     "output_type": "stream",
     "text": [
      "n_sw        1712.000\n",
      "n_act       1712.000\n",
      "Mean_sw        0.301\n",
      "Mean_act       0.280\n",
      "Diff          -0.021\n",
      "U              0.465\n",
      "p              0.000\n",
      "dtype: float64\n"
     ]
    }
   ],
   "source": [
    "def edge_correlate(df, metric):\n",
    "    piv = (\n",
    "        df\n",
    "        [[\"comb_id\", \"state\", metric]]\n",
    "        .drop_duplicates()\n",
    "        .pivot(index=\"comb_id\", columns=\"state\", values=metric)\n",
    "        .dropna()\n",
    "    )\n",
    "    x = piv.sw\n",
    "    y = piv.act\n",
    "    return mannwhitneyu_plusplus(x, y, names=(\"sw\", \"act\"), compare_f=spearmanr).round(3)\n",
    "\n",
    "\n",
    "dfe = df_edge.query(\"bin_width == 1\")\n",
    "print(edge_correlate(dfe, \"weight\"))"
   ]
  }
 ],
 "metadata": {
  "kernelspec": {
   "display_name": "Python 3.6.13 ('drn-interactions')",
   "language": "python",
   "name": "python3"
  },
  "language_info": {
   "codemirror_mode": {
    "name": "ipython",
    "version": 3
   },
   "file_extension": ".py",
   "mimetype": "text/x-python",
   "name": "python",
   "nbconvert_exporter": "python",
   "pygments_lexer": "ipython3",
   "version": "3.6.13"
  },
  "orig_nbformat": 4,
  "vscode": {
   "interpreter": {
    "hash": "595626f471715c1ef1767721af1162754763b18b459b8364279c934890ae0eae"
   }
  }
 },
 "nbformat": 4,
 "nbformat_minor": 2
}
