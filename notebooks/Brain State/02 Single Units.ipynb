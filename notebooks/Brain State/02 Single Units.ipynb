{
 "cells": [
  {
   "cell_type": "code",
   "execution_count": 12,
   "metadata": {},
   "outputs": [
    {
     "name": "stdout",
     "output_type": "stream",
     "text": [
      "The autoreload extension is already loaded. To reload it, use:\n",
      "  %reload_ext autoreload\n"
     ]
    }
   ],
   "source": [
    "# from drn_interactions.stats import cv_isi_burst, mannwhitneyu_plusplus\n",
    "from drn_interactions.io import load_derived_generic, load_neurons_derived\n",
    "from drn_interactions.transforms import SpikesHandler\n",
    "from drn_interactions.surrogates import shuffle_spikes\n",
    "from drn_interactions.transforms.brain_state_transforms import BrainStateUtils\n",
    "from drn_interactions.responders import BSResonders\n",
    "from scipy.stats import zscore\n",
    "from drn_interactions.transforms import segment_spikes\n",
    "from drn_interactions.stats import cv_isi_burst\n",
    "\n",
    "import matplotlib.pyplot as plt\n",
    "import seaborn as sns\n",
    "import pingouin as pg\n",
    "import numpy as np\n",
    "import pandas as pd\n",
    "sns.set_theme(context=\"poster\", style=\"ticks\")\n",
    "\n",
    "from IPython.display import display\n",
    "\n",
    "\n",
    "%load_ext autoreload\n",
    "%autoreload 2"
   ]
  },
  {
   "cell_type": "code",
   "execution_count": 13,
   "metadata": {},
   "outputs": [],
   "source": [
    "eeg_states = load_derived_generic(\"eeg_states.csv\").rename(columns={\"cluster\": \"state\"})\n",
    "neurons = load_neurons_derived()\n",
    "sessions = get_eeg_sessions().tolist()\n",
    "clusters = neurons[[\"neuron_id\", \"wf_3\"]]\n",
    "sh = SpikesHandler(\n",
    "    \"pre\", \n",
    "    bin_width=1, \n",
    "    session_names=sessions,\n",
    "     t_start=0, \n",
    "     t_stop=1800\n",
    "    )"
   ]
  },
  {
   "cell_type": "markdown",
   "metadata": {},
   "source": [
    "## Statistical Modelling\n",
    "\n",
    "### Spike Rate Change\n",
    "\n",
    "- Data is binned spike counts aligned with corresponding EEG state.\n",
    "- Model 1: Repeated Measures ANOVA\n",
    "$$ Z(\\text{SpikeCounts}) \\sim 1 + \\text{state} + (1 | \\text{neuronID}) $$ \n",
    "\n",
    "- Model 2: Mixed Anova with Neuron Type\n",
    "$$ Z(\\text{SpikeCounts}) \\sim 1 + \\text{state} + \\text{neuronType} + \\text{state}:\\text{neuronType} (1 | \\text{neuronID}) $$ \n"
   ]
  },
  {
   "cell_type": "code",
   "execution_count": 14,
   "metadata": {},
   "outputs": [
    {
     "data": {
      "text/html": [
       "<div>\n",
       "<style scoped>\n",
       "    .dataframe tbody tr th:only-of-type {\n",
       "        vertical-align: middle;\n",
       "    }\n",
       "\n",
       "    .dataframe tbody tr th {\n",
       "        vertical-align: top;\n",
       "    }\n",
       "\n",
       "    .dataframe thead th {\n",
       "        text-align: right;\n",
       "    }\n",
       "</style>\n",
       "<table border=\"1\" class=\"dataframe\">\n",
       "  <thead>\n",
       "    <tr style=\"text-align: right;\">\n",
       "      <th></th>\n",
       "      <th>Source</th>\n",
       "      <th>ddof1</th>\n",
       "      <th>ddof2</th>\n",
       "      <th>F</th>\n",
       "      <th>p-unc</th>\n",
       "      <th>np2</th>\n",
       "      <th>eps</th>\n",
       "    </tr>\n",
       "  </thead>\n",
       "  <tbody>\n",
       "    <tr>\n",
       "      <th>0</th>\n",
       "      <td>state</td>\n",
       "      <td>1</td>\n",
       "      <td>309</td>\n",
       "      <td>20.304</td>\n",
       "      <td>0.0</td>\n",
       "      <td>0.062</td>\n",
       "      <td>1.0</td>\n",
       "    </tr>\n",
       "  </tbody>\n",
       "</table>\n",
       "</div>"
      ],
      "text/plain": [
       "  Source  ddof1  ddof2       F  p-unc    np2  eps\n",
       "0  state      1    309  20.304    0.0  0.062  1.0"
      ]
     },
     "metadata": {},
     "output_type": "display_data"
    },
    {
     "data": {
      "text/html": [
       "<div>\n",
       "<style scoped>\n",
       "    .dataframe tbody tr th:only-of-type {\n",
       "        vertical-align: middle;\n",
       "    }\n",
       "\n",
       "    .dataframe tbody tr th {\n",
       "        vertical-align: top;\n",
       "    }\n",
       "\n",
       "    .dataframe thead th {\n",
       "        text-align: right;\n",
       "    }\n",
       "</style>\n",
       "<table border=\"1\" class=\"dataframe\">\n",
       "  <thead>\n",
       "    <tr style=\"text-align: right;\">\n",
       "      <th></th>\n",
       "      <th>Contrast</th>\n",
       "      <th>A</th>\n",
       "      <th>B</th>\n",
       "      <th>T</th>\n",
       "      <th>dof</th>\n",
       "      <th>p</th>\n",
       "      <th>Sig</th>\n",
       "    </tr>\n",
       "  </thead>\n",
       "  <tbody>\n",
       "    <tr>\n",
       "      <th>0</th>\n",
       "      <td>state</td>\n",
       "      <td>act</td>\n",
       "      <td>sw</td>\n",
       "      <td>4.506</td>\n",
       "      <td>309.0</td>\n",
       "      <td>0.0</td>\n",
       "      <td>*</td>\n",
       "    </tr>\n",
       "  </tbody>\n",
       "</table>\n",
       "</div>"
      ],
      "text/plain": [
       "  Contrast    A   B      T    dof    p Sig\n",
       "0    state  act  sw  4.506  309.0  0.0   *"
      ]
     },
     "metadata": {},
     "output_type": "display_data"
    },
    {
     "data": {
      "text/html": [
       "<div>\n",
       "<style scoped>\n",
       "    .dataframe tbody tr th:only-of-type {\n",
       "        vertical-align: middle;\n",
       "    }\n",
       "\n",
       "    .dataframe tbody tr th {\n",
       "        vertical-align: top;\n",
       "    }\n",
       "\n",
       "    .dataframe thead th {\n",
       "        text-align: right;\n",
       "    }\n",
       "</style>\n",
       "<table border=\"1\" class=\"dataframe\">\n",
       "  <thead>\n",
       "    <tr style=\"text-align: right;\">\n",
       "      <th></th>\n",
       "      <th>Source</th>\n",
       "      <th>SS</th>\n",
       "      <th>DF1</th>\n",
       "      <th>DF2</th>\n",
       "      <th>MS</th>\n",
       "      <th>F</th>\n",
       "      <th>p-unc</th>\n",
       "      <th>np2</th>\n",
       "      <th>eps</th>\n",
       "    </tr>\n",
       "  </thead>\n",
       "  <tbody>\n",
       "    <tr>\n",
       "      <th>0</th>\n",
       "      <td>wf_3</td>\n",
       "      <td>0.329</td>\n",
       "      <td>2</td>\n",
       "      <td>307</td>\n",
       "      <td>0.165</td>\n",
       "      <td>4.249</td>\n",
       "      <td>0.015</td>\n",
       "      <td>0.027</td>\n",
       "      <td>NaN</td>\n",
       "    </tr>\n",
       "    <tr>\n",
       "      <th>1</th>\n",
       "      <td>state</td>\n",
       "      <td>5.207</td>\n",
       "      <td>1</td>\n",
       "      <td>307</td>\n",
       "      <td>5.207</td>\n",
       "      <td>20.242</td>\n",
       "      <td>0.000</td>\n",
       "      <td>0.062</td>\n",
       "      <td>1.0</td>\n",
       "    </tr>\n",
       "    <tr>\n",
       "      <th>2</th>\n",
       "      <td>Interaction</td>\n",
       "      <td>0.271</td>\n",
       "      <td>2</td>\n",
       "      <td>307</td>\n",
       "      <td>0.135</td>\n",
       "      <td>0.526</td>\n",
       "      <td>0.592</td>\n",
       "      <td>0.003</td>\n",
       "      <td>NaN</td>\n",
       "    </tr>\n",
       "  </tbody>\n",
       "</table>\n",
       "</div>"
      ],
      "text/plain": [
       "        Source     SS  DF1  DF2     MS       F  p-unc    np2  eps\n",
       "0         wf_3  0.329    2  307  0.165   4.249  0.015  0.027  NaN\n",
       "1        state  5.207    1  307  5.207  20.242  0.000  0.062  1.0\n",
       "2  Interaction  0.271    2  307  0.135   0.526  0.592  0.003  NaN"
      ]
     },
     "metadata": {},
     "output_type": "display_data"
    }
   ],
   "source": [
    "# spike rate\n",
    "\n",
    "transformer = BrainStateUtils()\n",
    "\n",
    "df = transformer.align_spikes_state_long(sh, eeg_states)\n",
    "df[\"counts\"] = df.groupby(\"neuron_id\")[\"counts\"].transform(zscore)\n",
    "df.head(3)\n",
    "\n",
    "\n",
    "mod = BSResonders(within_first=False)\n",
    "out = mod.get_anova(df)\n",
    "display(out[\"anova\"])\n",
    "display(out[\"contrasts\"])\n",
    "\n",
    "# with neuron types\n",
    "out = mod.get_anova(df, clusters=clusters)\n",
    "display(out[\"anova\"])\n",
    "# display(out[\"contrasts\"])"
   ]
  },
  {
   "cell_type": "code",
   "execution_count": 20,
   "metadata": {},
   "outputs": [
    {
     "data": {
      "text/plain": [
       "<seaborn.axisgrid.FacetGrid at 0x273873dc490>"
      ]
     },
     "execution_count": 20,
     "metadata": {},
     "output_type": "execute_result"
    },
    {
     "data": {
      "image/png": "[encoded data removed]",
      "text/plain": [
       "<Figure size 375x750 with 3 Axes>"
      ]
     },
     "metadata": {},
     "output_type": "display_data"
    }
   ],
   "source": [
    "# Post Hoc Tests\n",
    "\n",
    "responders = mod.get_responders(df, abs_diff_thresh=0.2)\n",
    "mod.plot_responders(clusters=clusters, bins=np.arange(-2.5, 2.5, 0.2), height=2.5, aspect=1.5)"
   ]
  },
  {
   "cell_type": "code",
   "execution_count": 21,
   "metadata": {},
   "outputs": [
    {
     "data": {
      "text/html": [
       "<div>\n",
       "<style scoped>\n",
       "    .dataframe tbody tr th:only-of-type {\n",
       "        vertical-align: middle;\n",
       "    }\n",
       "\n",
       "    .dataframe tbody tr th {\n",
       "        vertical-align: top;\n",
       "    }\n",
       "\n",
       "    .dataframe thead th {\n",
       "        text-align: right;\n",
       "    }\n",
       "</style>\n",
       "<table border=\"1\" class=\"dataframe\">\n",
       "  <thead>\n",
       "    <tr style=\"text-align: right;\">\n",
       "      <th></th>\n",
       "      <th>Source</th>\n",
       "      <th>ddof1</th>\n",
       "      <th>ddof2</th>\n",
       "      <th>F</th>\n",
       "      <th>p-unc</th>\n",
       "      <th>np2</th>\n",
       "      <th>eps</th>\n",
       "    </tr>\n",
       "  </thead>\n",
       "  <tbody>\n",
       "    <tr>\n",
       "      <th>0</th>\n",
       "      <td>state</td>\n",
       "      <td>1</td>\n",
       "      <td>309</td>\n",
       "      <td>3.04</td>\n",
       "      <td>0.082</td>\n",
       "      <td>0.01</td>\n",
       "      <td>1.0</td>\n",
       "    </tr>\n",
       "  </tbody>\n",
       "</table>\n",
       "</div>"
      ],
      "text/plain": [
       "  Source  ddof1  ddof2     F  p-unc   np2  eps\n",
       "0  state      1    309  3.04  0.082  0.01  1.0"
      ]
     },
     "metadata": {},
     "output_type": "display_data"
    },
    {
     "data": {
      "text/html": [
       "<div>\n",
       "<style scoped>\n",
       "    .dataframe tbody tr th:only-of-type {\n",
       "        vertical-align: middle;\n",
       "    }\n",
       "\n",
       "    .dataframe tbody tr th {\n",
       "        vertical-align: top;\n",
       "    }\n",
       "\n",
       "    .dataframe thead th {\n",
       "        text-align: right;\n",
       "    }\n",
       "</style>\n",
       "<table border=\"1\" class=\"dataframe\">\n",
       "  <thead>\n",
       "    <tr style=\"text-align: right;\">\n",
       "      <th></th>\n",
       "      <th>Source</th>\n",
       "      <th>SS</th>\n",
       "      <th>DF1</th>\n",
       "      <th>DF2</th>\n",
       "      <th>MS</th>\n",
       "      <th>F</th>\n",
       "      <th>p-unc</th>\n",
       "      <th>np2</th>\n",
       "      <th>eps</th>\n",
       "    </tr>\n",
       "  </thead>\n",
       "  <tbody>\n",
       "    <tr>\n",
       "      <th>0</th>\n",
       "      <td>wf_3</td>\n",
       "      <td>0.001</td>\n",
       "      <td>2</td>\n",
       "      <td>307</td>\n",
       "      <td>0.000</td>\n",
       "      <td>0.228</td>\n",
       "      <td>0.796</td>\n",
       "      <td>0.001</td>\n",
       "      <td>NaN</td>\n",
       "    </tr>\n",
       "    <tr>\n",
       "      <th>1</th>\n",
       "      <td>state</td>\n",
       "      <td>0.057</td>\n",
       "      <td>1</td>\n",
       "      <td>307</td>\n",
       "      <td>0.057</td>\n",
       "      <td>3.023</td>\n",
       "      <td>0.083</td>\n",
       "      <td>0.010</td>\n",
       "      <td>1.0</td>\n",
       "    </tr>\n",
       "    <tr>\n",
       "      <th>2</th>\n",
       "      <td>Interaction</td>\n",
       "      <td>0.006</td>\n",
       "      <td>2</td>\n",
       "      <td>307</td>\n",
       "      <td>0.003</td>\n",
       "      <td>0.146</td>\n",
       "      <td>0.864</td>\n",
       "      <td>0.001</td>\n",
       "      <td>NaN</td>\n",
       "    </tr>\n",
       "  </tbody>\n",
       "</table>\n",
       "</div>"
      ],
      "text/plain": [
       "        Source     SS  DF1  DF2     MS      F  p-unc    np2  eps\n",
       "0         wf_3  0.001    2  307  0.000  0.228  0.796  0.001  NaN\n",
       "1        state  0.057    1  307  0.057  3.023  0.083  0.010  1.0\n",
       "2  Interaction  0.006    2  307  0.003  0.146  0.864  0.001  NaN"
      ]
     },
     "metadata": {},
     "output_type": "display_data"
    }
   ],
   "source": [
    "# surrogate data\n",
    "sh_surr = shuffle_spikes(sh)\n",
    "\n",
    "df = transformer.align_spikes_state_long(sh_surr, eeg_states)\n",
    "df[\"counts\"] = df.groupby(\"neuron_id\")[\"counts\"].transform(zscore)\n",
    "df.head(3)\n",
    "\n",
    "\n",
    "mod = BSResonders(within_first=False)\n",
    "out = mod.get_anova(df)\n",
    "display(out[\"anova\"])\n",
    "# display(out[\"contrasts\"])\n",
    "\n",
    "# with neuron types\n",
    "out = mod.get_anova(df, clusters=clusters)\n",
    "display(out[\"anova\"])\n",
    "# display(out[\"contrasts\"])\n"
   ]
  },
  {
   "cell_type": "code",
   "execution_count": null,
   "metadata": {},
   "outputs": [],
   "source": [
    "# cv isi\n",
    "\n",
    "\n",
    "def get_cvisi_in_segment(sh, segment_length=120):\n",
    "    spikes = sh.spikes.copy()\n",
    "    spikes = segment_spikes(\n",
    "        spikes, t_start=sh.t_start, t_stop=sh.t_stop, segment_length=segment_length\n",
    "    )\n",
    "    return (\n",
    "        spikes.groupby([\"neuron_id\", \"segment\"])[\"spiketimes\"]\n",
    "        .apply(cv_isi_burst)\n",
    "        .to_frame(\"cv\")\n",
    "        .reset_index()\n",
    "        .dropna()\n",
    "    )\n",
    "\n",
    "\n",
    "\n",
    "spikes = get_cvisi_in_segment(sh, segment_length=60)\n",
    "df = transformer.align_segmentedspikes_state(spikes, eeg_states, )"
   ]
  },
  {
   "cell_type": "code",
   "execution_count": null,
   "metadata": {},
   "outputs": [],
   "source": [
    "mod = BSResonders(df_value_col=\"cv\", within_first=False)\n",
    "out = mod.get_anova(df)\n",
    "display(out[\"anova\"])\n",
    "display(out[\"contrasts\"])\n",
    "\n",
    "# with neuron types\n",
    "out = mod.get_anova(df, clusters=clusters)\n",
    "display(out[\"anova\"])\n",
    "display(out[\"contrasts\"])"
   ]
  },
  {
   "cell_type": "code",
   "execution_count": null,
   "metadata": {},
   "outputs": [],
   "source": [
    "responders = mod.get_responders(df, abs_diff_thresh=0.01)\n",
    "# mod.plot_responders(clusters=clusters,\n",
    "# bins=\"auto\",\n",
    "# #  bins=np.arange(-2.5, 2.5, 0.2)\n",
    "#  )"
   ]
  },
  {
   "cell_type": "code",
   "execution_count": null,
   "metadata": {},
   "outputs": [],
   "source": []
  }
 ],
 "metadata": {
  "kernelspec": {
   "display_name": "Python 3.8.13 ('drn38')",
   "language": "python",
   "name": "python3"
  },
  "language_info": {
   "codemirror_mode": {
    "name": "ipython",
    "version": 3
   },
   "file_extension": ".py",
   "mimetype": "text/x-python",
   "name": "python",
   "nbconvert_exporter": "python",
   "pygments_lexer": "ipython3",
   "version": "3.8.13"
  },
  "orig_nbformat": 4,
  "vscode": {
   "interpreter": {
    "hash": "83d85788087be4ab95a62fa43e95c13744f0a02d6feebc555b96a547158d0970"
   }
  }
 },
 "nbformat": 4,
 "nbformat_minor": 2
}
