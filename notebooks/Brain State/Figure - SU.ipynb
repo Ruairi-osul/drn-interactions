{
 "cells": [
  {
   "cell_type": "code",
   "execution_count": null,
   "metadata": {},
   "outputs": [],
   "source": [
    "from drn_interactions.config import Config, ExperimentInfo\n",
    "from drn_interactions.io import load_derived_generic\n",
    "import matplotlib.pyplot as plt\n",
    "import seaborn as sns\n",
    "import pandas as pd\n",
    "import numpy as np\n",
    "from drn_interactions.plots import PAL_GREY_BLACK\n",
    "from typing import Dict, Optional, Sequence, Tuple\n",
    "from drn_interactions.plots.circular import circular_hist\n",
    "\n",
    "sns.set_theme(context=\"paper\", style=\"ticks\")\n"
   ]
  },
  {
   "cell_type": "code",
   "execution_count": null,
   "metadata": {},
   "outputs": [],
   "source": [
    "neurons = (\n",
    "    load_derived_generic(\"neuron_types.csv\")\n",
    "    .assign(neuron_type=lambda x: pd.Categorical(\n",
    "        x.neuron_type, categories=[\"SR\", \"SIR\", \"FF\"], ordered=True))\n",
    ")\n",
    "\n",
    "df_responders_rate = (\n",
    "    load_derived_generic(\"brain_states_spikerate_responders.csv\")\n",
    "    .merge(neurons)\n",
    "    .assign(sig=lambda x: pd.Categorical(x[\"sig\"], categories=[False, True], ordered=True))   \n",
    ")"
   ]
  },
  {
   "cell_type": "code",
   "execution_count": 72,
   "metadata": {},
   "outputs": [
    {
     "name": "stderr",
     "output_type": "stream",
     "text": [
      "No artists with labels found to put in legend.  Note that artists whose label start with an underscore are ignored when legend() is called with no argument.\n",
      "No artists with labels found to put in legend.  Note that artists whose label start with an underscore are ignored when legend() is called with no argument.\n",
      "No artists with labels found to put in legend.  Note that artists whose label start with an underscore are ignored when legend() is called with no argument.\n"
     ]
    },
    {
     "data": {
      "image/png": "[encoded data removed]",
      "text/plain": [
       "<Figure size 108x252 with 3 Axes>"
      ]
     },
     "metadata": {
      "needs_background": "light"
     },
     "output_type": "display_data"
    }
   ],
   "source": [
    "def responders_hist(\n",
    "    df: pd.DataFrame, ax=None, value_col=\"Diff\", sig_col=\"sig\", despine=True, **kwargs\n",
    "):\n",
    "    if ax is None:\n",
    "        _, ax = plt.subplots()\n",
    "    kwargs = kwargs or {}\n",
    "    kwargs[\"palette\"] = kwargs.get(\"palette\", PAL_GREY_BLACK[::-1])\n",
    "\n",
    "    sns.histplot(data=df, x=value_col, hue=sig_col, ax=ax, **kwargs)\n",
    "    if despine:\n",
    "        sns.despine(ax=ax)\n",
    "    return ax\n",
    "\n",
    "\n",
    "def responders_hist_by_type(\n",
    "    f,\n",
    "    df,\n",
    "    neuron_type_col: str = \"neuron_type\",\n",
    "    gridspec_kwargs: Optional[Dict] = None,\n",
    "    diff_col: str = \"Diff\",\n",
    "    xticks: Sequence[np.number] = (-2.5, 0, 2.5),\n",
    "    xlims: Tuple[np.number, np.number] = (-2.6, 2.6),\n",
    "    remove_legend: bool = True,\n",
    "    despine: bool = True,\n",
    "    responders_hist_kwargs: Optional[Dict] = None,\n",
    "):\n",
    "\n",
    "    f = f or plt.figure(figsize=(2, 4))\n",
    "    gridspec_kwargs = gridspec_kwargs or {}\n",
    "    gridspec_kwargs[\"wspace\"] = gridspec_kwargs.get(\"wspace\", 0.5)\n",
    "    gridspec_kwargs[\"top\"] = gridspec_kwargs.get(\"hspace\", 0.8)\n",
    "    gridspec_kwargs[\"bottom\"] = gridspec_kwargs.get(\"bottom\", 0.2)\n",
    "    neuron_types = df.neuron_type.value_counts().index.values\n",
    "    responders_hist_kwargs = responders_hist_kwargs or {}\n",
    "    responders_hist_kwargs[\"bins\"] = responders_hist_kwargs.get(\"bins\", 20)\n",
    "    axes = f.subplots(\n",
    "        len(neuron_types), \n",
    "        1, \n",
    "        gridspec_kw=gridspec_kwargs,\n",
    "        # sharey=True,\n",
    "        sharex=True\n",
    "        )\n",
    "    ax_dict = {neuron_type: ax for ax, neuron_type in zip(axes, neuron_types)}\n",
    "    for i, (nt, ax) in enumerate(ax_dict.items()):\n",
    "        df_sub = df.loc[lambda x: x[neuron_type_col] == nt]\n",
    "        ax.set_title(nt)\n",
    "        ax.set_xticks(xticks)\n",
    "        ax.set_xlim(*xlims)\n",
    "        responders_hist(\n",
    "            df_sub,\n",
    "            alpha=1,\n",
    "            value_col=diff_col,\n",
    "            ax=ax,\n",
    "            despine=despine,\n",
    "            **responders_hist_kwargs\n",
    "        )\n",
    "        ax.set_ylabel(\"Neuron\\nCount\")\n",
    "        ax.set_xlabel(\"Spike Rate\\nChange (Z)\")\n",
    "        ax.legend().remove()\n",
    "\n",
    "\n",
    "f = plt.figure(figsize=(1.5, 3.5), constrained_layout=True)\n",
    "responders_hist_by_type(f, df_responders_rate)\n",
    "f.align_ylabels()\n",
    "f.savefig(Config.fig_dir / \"eeg\" / \"spikerate_change.png\", dpi=300)\n"
   ]
  },
  {
   "cell_type": "code",
   "execution_count": 69,
   "metadata": {},
   "outputs": [
    {
     "name": "stderr",
     "output_type": "stream",
     "text": [
      "c:\\users\\roryl\\repos\\drn interactions\\drn_interactions\\plots\\circular.py:102: UserWarning: FixedFormatter should only be used together with FixedLocator\n",
      "  ax.set_xticklabels(\n",
      "No artists with labels found to put in legend.  Note that artists whose label start with an underscore are ignored when legend() is called with no argument.\n",
      "No artists with labels found to put in legend.  Note that artists whose label start with an underscore are ignored when legend() is called with no argument.\n",
      "No artists with labels found to put in legend.  Note that artists whose label start with an underscore are ignored when legend() is called with no argument.\n",
      "c:\\users\\roryl\\repos\\drn interactions\\drn_interactions\\plots\\circular.py:102: UserWarning: FixedFormatter should only be used together with FixedLocator\n",
      "  ax.set_xticklabels(\n",
      "No artists with labels found to put in legend.  Note that artists whose label start with an underscore are ignored when legend() is called with no argument.\n",
      "No artists with labels found to put in legend.  Note that artists whose label start with an underscore are ignored when legend() is called with no argument.\n",
      "No artists with labels found to put in legend.  Note that artists whose label start with an underscore are ignored when legend() is called with no argument.\n"
     ]
    },
    {
     "data": {
      "image/png": "[encoded data removed]",
      "text/plain": [
       "<Figure size 288x108 with 3 Axes>"
      ]
     },
     "metadata": {
      "needs_background": "light"
     },
     "output_type": "display_data"
    },
    {
     "data": {
      "image/png": "[encoded data removed]",
      "text/plain": [
       "<Figure size 288x108 with 3 Axes>"
      ]
     },
     "metadata": {
      "needs_background": "light"
     },
     "output_type": "display_data"
    }
   ],
   "source": [
    "# Phase locking\n",
    "\n",
    "def circular_hist_by_type(\n",
    "    f, \n",
    "    df, \n",
    "    phase_col, \n",
    "    neuron_type_col: str = \"neuron_type\",\n",
    "    gridspec_kwargs: Optional[Dict] = None,\n",
    "    neuron_order: Optional[Sequence[str]] = None,\n",
    "    circular_hist_kwargs: Optional[Dict] = None,\n",
    "):\n",
    "    f = f or plt.figure(figsize=(3, 1.2))\n",
    "    gridspec_kwargs = gridspec_kwargs or {}\n",
    "    gridspec_kwargs[\"wspace\"] = gridspec_kwargs.get(\"wspace\", 0.5)\n",
    "    gridspec_kwargs[\"top\"] = gridspec_kwargs.get(\"hspace\", 0.8)\n",
    "    gridspec_kwargs[\"bottom\"] = gridspec_kwargs.get(\"bottom\", 0.2)\n",
    "    neuron_types = neuron_order or df.neuron_type.value_counts().index.values\n",
    "    circular_hist_kwargs = circular_hist_kwargs or {}\n",
    "    circular_hist_kwargs[\"bins\"] = circular_hist_kwargs.get(\"bins\", 14)\n",
    "    axes = f.subplots(1, len(neuron_types), subplot_kw=dict(projection=\"polar\"), gridspec_kw=gridspec_kwargs, sharex=True)\n",
    "    ax_dict = {neuron_type: ax for ax, neuron_type in zip(axes, neuron_types)}\n",
    "    for i, (nt, ax) in enumerate(ax_dict.items()):\n",
    "        df_sub = df.loc[lambda x: x[neuron_type_col] == nt]\n",
    "        ax.set_title(nt)\n",
    "        circular_hist(\n",
    "            df_sub[phase_col],\n",
    "            ax=ax,\n",
    "            **circular_hist_kwargs\n",
    "        )\n",
    "        ax.set_ylabel(\"\")\n",
    "        ax.set_xlabel(\"\")\n",
    "\n",
    "        ax.legend().remove()\n",
    "        ax.set_yticklabels([])\n",
    "    return ax_dict\n",
    "\n",
    "\n",
    "df_phase_lock = (\n",
    "    load_derived_generic(\"brain_states_phase_responders.csv\")\n",
    "    .drop([\"neuron_type\", \"session_name\"], axis=1)\n",
    "    .merge(neurons)\n",
    ")\n",
    "\n",
    "f_delta = plt.figure(figsize=(4, 1.5), constrained_layout=True)\n",
    "ax_dict = circular_hist_by_type(\n",
    "    f=f_delta, \n",
    "    gridspec_kwargs=dict(wspace=0, top=0.9, bottom=0.1),\n",
    "    df=df_phase_lock.query(\"oscillation == 'delta' and p < 0.05\"), \n",
    "    phase_col=\"mean_angle\",\n",
    "    circular_hist_kwargs=dict(density=False),\n",
    "    )\n",
    "f_delta.savefig(Config.fig_dir / \"eeg\" / \"phaselock_delta_hists.png\", dpi=300)\n",
    "\n",
    "\n",
    "f_theta = plt.figure(figsize=(4, 1.5), constrained_layout=True)\n",
    "ax_dict = circular_hist_by_type(\n",
    "    f=f_theta, \n",
    "    gridspec_kwargs=dict(wspace=0, top=0.9, bottom=0.1),\n",
    "    df=df_phase_lock.query(\"oscillation == 'theta' and p < 0.05\"), \n",
    "    phase_col=\"mean_angle\",\n",
    "    circular_hist_kwargs=dict(density=False),\n",
    "    neuron_order=(\"SR\", \"SIR\", \"FF\"),\n",
    "    )\n",
    "\n",
    "f_theta.savefig(Config.fig_dir / \"eeg\" / \"phaselock_theta_hists.png\", dpi=300)\n"
   ]
  },
  {
   "cell_type": "code",
   "execution_count": null,
   "metadata": {},
   "outputs": [],
   "source": [
    "f, ax = plt.subplots(\n",
    "    2, 1, \n",
    "    figsize=(1.5, 2.4), \n",
    "    sharex=True, \n",
    "    sharey=True,\n",
    "    gridspec_kw=dict(hspace=0.2),\n",
    "    constrained_layout=True,\n",
    "    )\n",
    "\n",
    "\n",
    "(\n",
    "    df_phase_lock\n",
    "    .assign(sig=lambda x: x.p < 0.05)\n",
    "    .query(\"oscillation == 'delta'\")\n",
    "    .groupby([\"neuron_type\"], as_index=False)[\"sig\"]\n",
    "    .apply(lambda x: x.mean() * 100)\n",
    "    .pipe(lambda x: (sns.barplot(\n",
    "        data=x, \n",
    "        x=\"neuron_type\", \n",
    "        y=\"sig\", \n",
    "        color=\"black\", \n",
    "        ax=ax[0]\n",
    "        )))\n",
    ")\n",
    "sns.despine(ax=ax[0])\n",
    "ax[0].set_ylabel(\"% Total\\nNeurons\")\n",
    "ax[0].set_xlabel(\"\")\n",
    "ax[0].set_title(\"Inactivated\\nBrain State\")\n",
    "ax[0].set_ylim(0, 100)\n",
    "\n",
    "(\n",
    "    df_phase_lock\n",
    "    .assign(sig=lambda x: x.p < 0.05)\n",
    "    .query(\"oscillation == 'theta'\")\n",
    "    .groupby([\"neuron_type\"], as_index=False)[\"sig\"]\n",
    "    .apply(lambda x: x.mean() * 100)\n",
    "    .pipe(lambda x: (sns.barplot(\n",
    "        data=x, \n",
    "        x=\"neuron_type\", \n",
    "        y=\"sig\", \n",
    "        color=\"black\", \n",
    "        ax=ax[1]\n",
    "        )))\n",
    ")\n",
    "sns.despine(ax=ax[1])\n",
    "ax[1].set_ylabel(\"% Total\\nNeurons\")\n",
    "ax[1].set_xlabel(\"\")\n",
    "ax[1].set_title(\"Activated\\nBrain State\")\n",
    "ax[0].set_ylim(0, 100)\n",
    "\n",
    "f.align_ylabels()\n",
    "f.savefig(Config.fig_dir / \"eeg\" / \"phase_lock_pct.png\", dpi=300)"
   ]
  }
 ],
 "metadata": {
  "kernelspec": {
   "display_name": "Python 3.8.13 ('drn38')",
   "language": "python",
   "name": "python3"
  },
  "language_info": {
   "codemirror_mode": {
    "name": "ipython",
    "version": 3
   },
   "file_extension": ".py",
   "mimetype": "text/x-python",
   "name": "python",
   "nbconvert_exporter": "python",
   "pygments_lexer": "ipython3",
   "version": "3.8.13"
  },
  "orig_nbformat": 4,
  "vscode": {
   "interpreter": {
    "hash": "83d85788087be4ab95a62fa43e95c13744f0a02d6feebc555b96a547158d0970"
   }
  }
 },
 "nbformat": 4,
 "nbformat_minor": 2
}
