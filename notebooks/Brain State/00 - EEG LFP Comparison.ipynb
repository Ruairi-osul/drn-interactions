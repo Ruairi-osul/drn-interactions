{
 "cells": [
  {
   "cell_type": "code",
   "execution_count": 1,
   "metadata": {},
   "outputs": [],
   "source": [
    "# imports\n",
    "\n",
    "from drn_interactions.io import load_derived_generic, load_eeg_raw, load_lfp_raw, load_lfp, load_eeg\n",
    "from drn_interactions.transforms import SpikesHandler\n",
    "import pandas as pd\n",
    "import matplotlib.pyplot as plt\n",
    "import seaborn as sns\n",
    "import numpy as np\n",
    "from scipy.signal import welch, medfilt\n",
    "from scipy.stats import zscore\n",
    "from scipy.ndimage import gaussian_filter\n",
    "from sklearn.impute import KNNImputer\n",
    "from sklearn.ensemble import IsolationForest\n",
    "from scipy.signal import coherence\n",
    "from sklearn.preprocessing import minmax_scale, robust_scale\n",
    "from drn_interactions.config import Config\n",
    "from drn_interactions.plots.heatmaps import state_indicator\n"
   ]
  },
  {
   "cell_type": "code",
   "execution_count": 2,
   "metadata": {},
   "outputs": [],
   "source": [
    "sns.set_theme(context=\"paper\", style=\"ticks\")"
   ]
  },
  {
   "cell_type": "code",
   "execution_count": 3,
   "metadata": {},
   "outputs": [],
   "source": [
    "# load data\n",
    "\n",
    "def load_states(signal) -> pd.DataFrame:\n",
    "    if signal == \"eeg\":\n",
    "        df = load_derived_generic(\"eeg_states.csv\")\n",
    "    elif signal == \"lfp\":\n",
    "        df = load_derived_generic(\"lfp_states.csv\")\n",
    "    else:\n",
    "        raise ValueError(f\"Unknown signal: {signal}\")\n",
    "\n",
    "    return df\n",
    "\n",
    "def load_fft(signal):\n",
    "    if signal == \"eeg\":\n",
    "        df = load_eeg(block_name=\"pre\")\n",
    "    elif signal == \"lfp\":\n",
    "        df = load_lfp(block_name=\"pre\")\n",
    "    else:\n",
    "        raise ValueError(f\"Unknown signal: {signal}\")\n",
    "    \n",
    "    df[\"timepoint_s\"] = df[\"timepoint_s\"] - df[\"timepoint_s\"].min()\n",
    "    df = df.loc[lambda x: x.timepoint_s.between(0, 1800)]\n",
    "    return df\n",
    "\n",
    "def load_raw(signal) -> pd.DataFrame:\n",
    "    if signal == \"eeg\":\n",
    "        df = load_eeg_raw(block_name=\"pre\")\n",
    "    elif signal == \"lfp\":\n",
    "        df = load_lfp_raw(block_name=\"pre\")\n",
    "    else:\n",
    "        raise ValueError(f\"Unknown signal: {signal}\")\n",
    "    \n",
    "    df[\"timepoint_s\"] = df[\"timepoint_s\"] - df[\"timepoint_s\"].min()\n",
    "    df = df.loc[lambda x: x.timepoint_s.between(0, 1800)]\n",
    "    return df\n",
    "\n",
    "\n",
    "def load_spikes() -> pd.DataFrame:\n",
    "    return SpikesHandler(block=\"pre\", bin_width=1, t_start=0, t_stop=1800).spikes\n",
    "\n"
   ]
  },
  {
   "cell_type": "code",
   "execution_count": 4,
   "metadata": {},
   "outputs": [],
   "source": [
    "# preprocess data\n",
    "\n",
    "def preprocess_raw(df, session_name, new_interval_ms=100, medfilt_kernel=5):\n",
    "    df = df.query(\"session_name == @session_name\").copy()\n",
    "    df = (\n",
    "        df\n",
    "        [[\"timepoint_s\", \"voltage\"]]\n",
    "        .assign(timepoint_s=lambda x: pd.to_timedelta(x.timepoint_s, unit=\"s\"))\n",
    "        .set_index(\"timepoint_s\")\n",
    "        .resample(f\"{new_interval_ms}ms\")\n",
    "        .median()\n",
    "    )\n",
    "    df = df.apply(medfilt, kernel_size=medfilt_kernel)\n",
    "    return df\n",
    "\n",
    "\n",
    "def preprocess_spectrogram(df, session_name, remove_outliers=True, zscore_normalize=True):\n",
    "    df = df.query(\"session_name == @session_name\")\n",
    "    df = df.loc[lambda x: (x.frequency < 8) & (x.frequency > 0)]\n",
    "    df = df.pivot(index=\"timepoint_s\", columns=\"frequency\", values=\"fft_value\")\n",
    "\n",
    "    if remove_outliers:\n",
    "        idx = IsolationForest().fit_predict(df)\n",
    "        df.iloc[idx == -1, :] = np.nan \n",
    "        df = pd.DataFrame(KNNImputer().fit_transform(df), index=df.index, columns=df.columns)\n",
    "    \n",
    "    if zscore_normalize:\n",
    "        df = df.apply(zscore).transpose().apply(zscore).transpose()\n",
    "        values = gaussian_filter(df, sigma=(2, 2))\n",
    "        df = pd.DataFrame(values, index=df.index, columns=df.columns)\n",
    "\n",
    "    return df\n",
    "\n",
    "def preprocess_spikes(df, session_name):\n",
    "    df = df.query(\"session_name == @session_name\")\n",
    "    return df\n",
    "\n",
    "\n",
    "def preprocess_state(df, session_name):\n",
    "    df = df.query(\"session_name == @session_name\")\n",
    "    df = df.set_index(\"timepoint_s\")\n",
    "    return df"
   ]
  },
  {
   "cell_type": "code",
   "execution_count": 5,
   "metadata": {},
   "outputs": [],
   "source": [
    "# plot data\n",
    "\n",
    "def plot_spectrogram(df, ax, vmin=-2, vmax=2):\n",
    "    sns.heatmap(df.T.iloc[::-1], cmap=\"viridis\", cbar=False, vmin=vmin, vmax=vmax, ax=ax)\n",
    "    ax.axis(\"off\")\n",
    "    return ax"
   ]
  },
  {
   "cell_type": "code",
   "execution_count": 6,
   "metadata": {},
   "outputs": [
    {
     "name": "stdout",
     "output_type": "stream",
     "text": [
      "['ESHOCK_01' 'ESHOCK_02' 'ESHOCK_03_LOC1' 'ESHOCK_04_LOC1'\n",
      " 'ESHOCK_06_LOC1' 'ESHOCK_07_LOC1' 'ESHOCK_08_LOC1' 'ESHOCK_09_LOC1'\n",
      " 'hamilton_10' 'hamilton_03' 'hamilton_04' 'hamilton_09' 'acute_15'\n",
      " 'acute_16' 'acute_14' 'acute_12' 'acute_11']\n"
     ]
    }
   ],
   "source": [
    "# load data\n",
    "\n",
    "states_lfp, states_eeg = load_states(\"lfp\"), load_states(\"eeg\")\n",
    "fft_lfp, fft_eeg = load_fft(\"lfp\"), load_fft(\"eeg\")\n",
    "raw_lfp, raw_eeg = load_raw(\"lfp\"), load_raw(\"eeg\")\n",
    "spikes = load_spikes()\n",
    "\n",
    "\n",
    "eeg_sessions = raw_eeg.session_name.unique()\n",
    "lfp_sessions = raw_lfp.session_name.unique()\n",
    "print(eeg_sessions)"
   ]
  },
  {
   "cell_type": "markdown",
   "metadata": {},
   "source": [
    "## Example Data"
   ]
  },
  {
   "cell_type": "code",
   "execution_count": 7,
   "metadata": {},
   "outputs": [],
   "source": [
    "session = \"ESHOCK_03_LOC1\"\n",
    "sampling_interval_ms = 66.667\n",
    "\n",
    "df_spectrum_lfp = preprocess_spectrogram(fft_lfp, session)\n",
    "df_spectrum_eeg = preprocess_spectrogram(fft_eeg, session)\n",
    "raw_lfp_session = preprocess_raw(raw_lfp, session, sampling_interval_ms)\n",
    "raw_eeg_session =  preprocess_raw(raw_eeg, session, sampling_interval_ms)\n",
    "spikes_session = preprocess_spikes(spikes, session)\n",
    "lfp_states_session = preprocess_state(states_lfp, session)\n",
    "eeg_states_session = preprocess_state(states_eeg, session)"
   ]
  },
  {
   "cell_type": "code",
   "execution_count": 8,
   "metadata": {},
   "outputs": [
    {
     "name": "stderr",
     "output_type": "stream",
     "text": [
      "No artists with labels found to put in legend.  Note that artists whose label start with an underscore are ignored when legend() is called with no argument.\n"
     ]
    },
    {
     "data": {
      "image/png": "[encoded data removed]",
      "text/plain": [
       "<Figure size 288x172.8 with 3 Axes>"
      ]
     },
     "metadata": {
      "needs_background": "light"
     },
     "output_type": "display_data"
    }
   ],
   "source": [
    "f = plt.figure(figsize=(4, 2.4))\n",
    "start_idx = 600\n",
    "duration = 500\n",
    "start_time = start_idx * sampling_interval_ms / 1000\n",
    "stop_time = start_time + (duration * sampling_interval_ms / 1000)\n",
    "spiketrains = [\n",
    "    pd.to_timedelta(neuron[\"spiketimes\"].values, unit=\"s\")\n",
    "    for _, neuron in (\n",
    "        spikes_session\n",
    "        .loc[lambda x: x.spiketimes.between(start_time, stop_time)]\n",
    "        .groupby(\"neuron_id\")\n",
    "        )\n",
    "]\n",
    "\n",
    "axes = f.subplots(3, 1, sharex=True, gridspec_kw=dict(height_ratios=[1.5, 1.5, 2], hspace=1.3))\n",
    "\n",
    "ax_eeg, ax_lfp, ax_spikes = axes\n",
    "\n",
    "raw_eeg_session.iloc[start_idx:start_idx+duration].transform(minmax_scale).plot(ax=ax_eeg, color=\"black\")\n",
    "raw_lfp_session.iloc[start_idx:start_idx+duration].transform(minmax_scale).plot(ax=ax_lfp, color=\"black\")\n",
    "\n",
    "ax_spikes.eventplot(spiketrains, color=\"black\", linewidths=0.4, linelengths=1)\n",
    "\n",
    "sns.despine(ax=ax_spikes, offset=0)\n",
    "for ax in axes:\n",
    "    ax.legend().remove()\n",
    "    ax.axis(\"off\")\n",
    "\n",
    "f.savefig(Config.fig_dir / \"bs_raw.png\", dpi=300, bbox_inches=\"tight\", transparent=True)"
   ]
  },
  {
   "cell_type": "markdown",
   "metadata": {},
   "source": [
    "### Example Spectrograms"
   ]
  },
  {
   "cell_type": "code",
   "execution_count": 9,
   "metadata": {},
   "outputs": [
    {
     "name": "stdout",
     "output_type": "stream",
     "text": [
      "acute_16\n"
     ]
    }
   ],
   "source": [
    "session = eeg_sessions[13]\n",
    "# session = \"hamilton_10\"\n",
    "print(session)\n",
    "sampling_interval_ms = 66.667\n",
    "\n",
    "df_spectrum_lfp = preprocess_spectrogram(fft_lfp, session)\n",
    "df_spectrum_eeg = preprocess_spectrogram(fft_eeg, session)\n",
    "lfp_states_session = preprocess_state(states_lfp, session)\n",
    "eeg_states_session = preprocess_state(states_eeg, session)\n",
    "\n",
    "raw_lfp_session = preprocess_raw(raw_lfp, session, sampling_interval_ms)\n",
    "raw_eeg_session =  preprocess_raw(raw_eeg, session, sampling_interval_ms)\n"
   ]
  },
  {
   "cell_type": "code",
   "execution_count": 10,
   "metadata": {},
   "outputs": [
    {
     "data": {
      "text/plain": [
       "[Text(0, 0, ''), Text(0, 1, '')]"
      ]
     },
     "execution_count": 10,
     "metadata": {},
     "output_type": "execute_result"
    },
    {
     "data": {
      "image/png": "[encoded data removed]",
      "text/plain": [
       "<Figure size 288x216 with 3 Axes>"
      ]
     },
     "metadata": {
      "needs_background": "light"
     },
     "output_type": "display_data"
    }
   ],
   "source": [
    "f = plt.figure(figsize=(4, 3))\n",
    "\n",
    "ax_eeg, ax_lfp, ax_states = f.subplots(\n",
    "    3, 1, sharex=False, gridspec_kw=dict(height_ratios=[1.5, 1.5, 0.5], hspace=0.3)\n",
    ")\n",
    "\n",
    "plot_spectrogram(df_spectrum_eeg, ax_eeg, vmin=-1, vmax=1)\n",
    "plot_spectrogram(df_spectrum_lfp, ax_lfp, vmin=-1, vmax=1)\n",
    "\n",
    "state_indicator(\n",
    "    eeg_states_session[\"state\"], order=[\"sw\", \"act\"], ax=ax_states, \n",
    "    plot_kwargs=dict(\n",
    "        label=\"eeg\",\n",
    "        color=\"black\",\n",
    "        alpha=0.5,\n",
    "        linewidth=2.5\n",
    "    )\n",
    ")\n",
    "state_indicator(\n",
    "    lfp_states_session[\"state\"],\n",
    "    order=[\"sw\", \"act\"],\n",
    "    ax=ax_states,\n",
    "    plot_kwargs=dict(\n",
    "        label=\"lfp\",\n",
    "        color=\"red\",\n",
    "        alpha=0.5,\n",
    "        linewidth=2.5\n",
    "    )\n",
    ")\n",
    "ax_states.set_xlim(0, 1801)\n",
    "ax_states.xaxis.set_major_locator(plt.MultipleLocator(600))\n",
    "ax_states.xaxis.set_major_formatter(plt.FuncFormatter(lambda x, pos: f\"{x/60:.0f}\"))\n",
    "ax_states.set_yticklabels([])\n",
    "\n",
    "# f.savefig(Config.fig_dir / \"bs_lfp_eeg_spectrogram.png\", dpi=300, bbox_inches=\"tight\", transparent=True)"
   ]
  },
  {
   "cell_type": "markdown",
   "metadata": {},
   "source": [
    "### State Overlap"
   ]
  },
  {
   "cell_type": "code",
   "execution_count": 11,
   "metadata": {},
   "outputs": [
    {
     "data": {
      "image/png": "[encoded data removed]",
      "text/plain": [
       "<Figure size 50.4x72 with 1 Axes>"
      ]
     },
     "metadata": {
      "needs_background": "light"
     },
     "output_type": "display_data"
    }
   ],
   "source": [
    "from sklearn.metrics import adjusted_mutual_info_score\n",
    "from mchmm import MarkovChain\n",
    "\n",
    "def mi(df, state_cols=(\"state_eeg\", \"state_lfp\"), time_col=\"timepoint_s\"):\n",
    "    vals = df.sort_values(time_col)[list(state_cols)].values\n",
    "    return adjusted_mutual_info_score(vals[:, 0], vals[:, 1])\n",
    "\n",
    "def simulate_states_markov(df, state_cols=(\"state_eeg\", \"state_lfp\"), time_col=\"timepoint_s\"):\n",
    "    df = df.sort_values(time_col).copy()\n",
    "\n",
    "    for state_col in state_cols:\n",
    "        df[state_col] = df[state_col]\n",
    "        mc = MarkovChain().from_data(df[state_col].values)\n",
    "        _, df[f\"{state_col}\"] = mc.simulate(len(df))\n",
    "    return df\n",
    "\n",
    "\n",
    "\n",
    "states = (\n",
    "    states_lfp\n",
    "    .merge(states_eeg, on=[\"session_name\", \"timepoint_s\"], suffixes=(\"_lfp\", \"_eeg\"))\n",
    "    .query(\"quality_eeg == 'good'\")\n",
    "    .sort_values([\"session_name\", \"timepoint_s\"])\n",
    "    .assign(data_set=\"Observed\")\n",
    ")\n",
    "\n",
    "states_sim = simulate_states_markov(states).assign(data_set=\"Markov Simulated\")\n",
    "\n",
    "df_res = (\n",
    "    pd.concat([states, states_sim])\n",
    "    .groupby([\"session_name\", \"data_set\"])\n",
    "    .apply(mi)\n",
    "    .to_frame(\"mi\")\n",
    "    .reset_index()\n",
    "    .merge(states[[\"session_name\", \"quality_eeg\", ]].drop_duplicates())\n",
    ")\n",
    "\n",
    "f = plt.figure(figsize=(0.7, 1))\n",
    "\n",
    "ax = f.subplots(1, 1)\n",
    "sns.barplot(data=df_res, x=\"data_set\", y=\"mi\", ax=ax, color=\"grey\", order=[\"Observed\", \"Markov Simulated\"])\n",
    "\n",
    "ax.set_ylim(0, 1)\n",
    "ax.set_ylabel(\"\")\n",
    "ax.set_xlabel(\"\")\n",
    "ax.set_xticklabels([])\n",
    "sns.despine(fig=f)\n",
    "\n",
    "f.savefig(Config.fig_dir / \"bs_mi.png\", dpi=300, bbox_inches=\"tight\", transparent=True)"
   ]
  },
  {
   "cell_type": "code",
   "execution_count": 12,
   "metadata": {},
   "outputs": [
    {
     "data": {
      "text/html": [
       "<div>\n",
       "<style scoped>\n",
       "    .dataframe tbody tr th:only-of-type {\n",
       "        vertical-align: middle;\n",
       "    }\n",
       "\n",
       "    .dataframe tbody tr th {\n",
       "        vertical-align: top;\n",
       "    }\n",
       "\n",
       "    .dataframe thead th {\n",
       "        text-align: right;\n",
       "    }\n",
       "</style>\n",
       "<table border=\"1\" class=\"dataframe\">\n",
       "  <thead>\n",
       "    <tr style=\"text-align: right;\">\n",
       "      <th></th>\n",
       "      <th>from</th>\n",
       "      <th>to</th>\n",
       "      <th>m</th>\n",
       "      <th>s</th>\n",
       "      <th>edge</th>\n",
       "    </tr>\n",
       "  </thead>\n",
       "  <tbody>\n",
       "    <tr>\n",
       "      <th>0</th>\n",
       "      <td>act</td>\n",
       "      <td>act</td>\n",
       "      <td>0.99</td>\n",
       "      <td>0.00</td>\n",
       "      <td>0.99 ± 0.0</td>\n",
       "    </tr>\n",
       "    <tr>\n",
       "      <th>1</th>\n",
       "      <td>act</td>\n",
       "      <td>sw</td>\n",
       "      <td>0.01</td>\n",
       "      <td>0.00</td>\n",
       "      <td>0.01 ± 0.0</td>\n",
       "    </tr>\n",
       "    <tr>\n",
       "      <th>2</th>\n",
       "      <td>sw</td>\n",
       "      <td>act</td>\n",
       "      <td>0.01</td>\n",
       "      <td>0.01</td>\n",
       "      <td>0.01 ± 0.01</td>\n",
       "    </tr>\n",
       "    <tr>\n",
       "      <th>3</th>\n",
       "      <td>sw</td>\n",
       "      <td>sw</td>\n",
       "      <td>0.99</td>\n",
       "      <td>0.01</td>\n",
       "      <td>0.99 ± 0.01</td>\n",
       "    </tr>\n",
       "  </tbody>\n",
       "</table>\n",
       "</div>"
      ],
      "text/plain": [
       "  from   to     m     s         edge\n",
       "0  act  act  0.99  0.00   0.99 ± 0.0\n",
       "1  act   sw  0.01  0.00   0.01 ± 0.0\n",
       "2   sw  act  0.01  0.01  0.01 ± 0.01\n",
       "3   sw   sw  0.99  0.01  0.99 ± 0.01"
      ]
     },
     "execution_count": 12,
     "metadata": {},
     "output_type": "execute_result"
    }
   ],
   "source": [
    "# transition matrix\n",
    "import networkx as nx\n",
    "\n",
    "\n",
    "def get_p_matrix(df, state_col=\"state_eeg\", time_col=\"timepoint_s\", sampling_interval_ms=66.667):\n",
    "    df = df.sort_values(time_col).copy()\n",
    "    mc_eeg: MarkovChain = MarkovChain().from_data(df[state_col].values)\n",
    "    p_mat = mc_eeg.observed_p_matrix\n",
    "    p_mat = pd.DataFrame(p_mat, columns=mc_eeg.states, index=mc_eeg.states)\n",
    "\n",
    "    p_mat = p_mat.reset_index().rename(columns=dict(index=\"from\")).melt(id_vars=\"from\", var_name=\"to\", value_name=\"p\")\n",
    "    return p_mat\n",
    "\n",
    "\n",
    "\n",
    "edge_list = (\n",
    "    states\n",
    "    .groupby(\"session_name\")\n",
    "    .apply(get_p_matrix, state_col=\"state_eeg\")\n",
    "    .reset_index()\n",
    "    .drop(columns=\"level_1\")\n",
    "    .groupby([\"from\", \"to\"])\n",
    "    .apply(lambda x: pd.Series(dict(m=x[\"p\"].mean(), s=x[\"p\"].std())))\n",
    "    .reset_index()\n",
    "    .round(2)\n",
    "    .assign(edge=lambda x: x.apply(lambda row: f\"{row['m']} ± {row['s']}\", axis=1))\n",
    ")\n",
    "\n",
    "edge_list"
   ]
  }
 ],
 "metadata": {
  "kernelspec": {
   "display_name": "Python 3.8.13 ('drn')",
   "language": "python",
   "name": "python3"
  },
  "language_info": {
   "codemirror_mode": {
    "name": "ipython",
    "version": 3
   },
   "file_extension": ".py",
   "mimetype": "text/x-python",
   "name": "python",
   "nbconvert_exporter": "python",
   "pygments_lexer": "ipython3",
   "version": "3.8.13"
  },
  "orig_nbformat": 4,
  "vscode": {
   "interpreter": {
    "hash": "a141ff61fc8e5477d761678b9939730228dd63e8e5dabf1901cb4084a0e2e4d6"
   }
  }
 },
 "nbformat": 4,
 "nbformat_minor": 2
}
