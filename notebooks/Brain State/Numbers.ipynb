{
 "cells": [
  {
   "cell_type": "code",
   "execution_count": 13,
   "metadata": {},
   "outputs": [],
   "source": [
    "from drn_interactions.config import Config, ExperimentInfo\n",
    "from drn_interactions.io import load_derived_generic\n",
    "from drn_interactions.transforms.brain_state import StateHandler, RawEEGHandler\n",
    "from drn_interactions.responders.brain_state import SpikeRateResonders\n",
    "from drn_interactions.transforms.spikes import SpikesHandler\n",
    "from drn_interactions.transforms.brain_state_spikes import align_bins_to_states_long\n",
    "from drn_interactions.stats import se_mean, se_prop\n",
    "\n",
    "import pandas as pd\n",
    "import numpy as np\n",
    "from IPython.display import display\n",
    "from pprint import pprint"
   ]
  },
  {
   "cell_type": "code",
   "execution_count": 57,
   "metadata": {},
   "outputs": [],
   "source": [
    "def mean_se(x):\n",
    "    return f\"N={len(x)}; µ={x.mean():.2f} +- {se_mean(x):.2f}\""
   ]
  },
  {
   "cell_type": "code",
   "execution_count": 58,
   "metadata": {},
   "outputs": [
    {
     "name": "stdout",
     "output_type": "stream",
     "text": [
      "{'num_eeg_sessions': 17,\n",
      " 'num_neurons': 'N=43; µ=7.40 +- 0.79',\n",
      " 'num_neurons_by_nt': {'FF': 'N=13; µ=5.23 +- 0.91',\n",
      "                       'SIR': 'N=15; µ=7.33 +- 1.25',\n",
      "                       'SR': 'N=15; µ=9.33 +- 1.58'}}\n"
     ]
    }
   ],
   "source": [
    "eeg_sessions = ExperimentInfo.eeg_sessions\n",
    "neurons = load_derived_generic(\"neuron_types.csv\").query(\"session_name in @eeg_sessions\")\n",
    "\n",
    "by_session = neurons.groupby([\"session_name\", \"neuron_type\"]).apply(len)\n",
    "mean_by_nt = by_session.reset_index().groupby(\"neuron_type\")[0].apply(mean_se)\n",
    "\n",
    "out = dict(\n",
    "    num_eeg_sessions = len(eeg_sessions),\n",
    "    num_neurons = mean_se(by_session),\n",
    "    num_neurons_by_nt = mean_by_nt.to_dict(),\n",
    ")\n",
    "\n",
    "pprint(out)"
   ]
  },
  {
   "cell_type": "code",
   "execution_count": 59,
   "metadata": {},
   "outputs": [],
   "source": [
    "# proportion of time in each state\n",
    "import mchmm as mc\n",
    "from drn_interactions.transforms.brain_state import StateHandler\n",
    "\n",
    "\n",
    "states_handler = StateHandler(\n",
    "    quality_to_include=[\"good\", \"med\"]\n",
    "    )\n",
    "states = states_handler.states_df"
   ]
  },
  {
   "cell_type": "code",
   "execution_count": 60,
   "metadata": {},
   "outputs": [
    {
     "data": {
      "text/html": [
       "<div>\n",
       "<style scoped>\n",
       "    .dataframe tbody tr th:only-of-type {\n",
       "        vertical-align: middle;\n",
       "    }\n",
       "\n",
       "    .dataframe tbody tr th {\n",
       "        vertical-align: top;\n",
       "    }\n",
       "\n",
       "    .dataframe thead th {\n",
       "        text-align: right;\n",
       "    }\n",
       "</style>\n",
       "<table border=\"1\" class=\"dataframe\">\n",
       "  <thead>\n",
       "    <tr style=\"text-align: right;\">\n",
       "      <th>to</th>\n",
       "      <th>act</th>\n",
       "      <th>sw</th>\n",
       "    </tr>\n",
       "    <tr>\n",
       "      <th>from</th>\n",
       "      <th></th>\n",
       "      <th></th>\n",
       "    </tr>\n",
       "  </thead>\n",
       "  <tbody>\n",
       "    <tr>\n",
       "      <th>act</th>\n",
       "      <td>N=14; µ=0.97 +- 0.01</td>\n",
       "      <td>N=14; µ=0.03 +- 0.01</td>\n",
       "    </tr>\n",
       "    <tr>\n",
       "      <th>sw</th>\n",
       "      <td>N=14; µ=0.03 +- 0.01</td>\n",
       "      <td>N=14; µ=0.97 +- 0.01</td>\n",
       "    </tr>\n",
       "  </tbody>\n",
       "</table>\n",
       "</div>"
      ],
      "text/plain": [
       "to                     act                    sw\n",
       "from                                            \n",
       "act   N=14; µ=0.97 +- 0.01  N=14; µ=0.03 +- 0.01\n",
       "sw    N=14; µ=0.03 +- 0.01  N=14; µ=0.97 +- 0.01"
      ]
     },
     "execution_count": 60,
     "metadata": {},
     "output_type": "execute_result"
    }
   ],
   "source": [
    "def markov_chain(ser: pd.Series) -> pd.DataFrame:\n",
    "    mod = mc.MarkovChain().from_data(ser.values)\n",
    "    df_res = (\n",
    "        pd.DataFrame(mod.observed_p_matrix, index=mod.states, columns=mod.states)\n",
    "        .reset_index()\n",
    "        .rename(columns={\"index\": \"from\"})\n",
    "        .melt(id_vars=\"from\", var_name=\"to\", value_name=\"p\")\n",
    "    )\n",
    "    return df_res\n",
    "\n",
    "def markov_chain_by_session(df, state_col=\"state\", session_col=\"session_name\"):\n",
    "    df_res = df.groupby(session_col)[state_col].apply(markov_chain)\n",
    "    df_res = df_res.reset_index().drop(\"level_1\", axis=1)\n",
    "    return df_res\n",
    "\n",
    "\n",
    "df_res = markov_chain_by_session(states)\n",
    "df_res.pivot_table(index=\"from\", columns=\"to\", values=\"p\", aggfunc=mean_se)"
   ]
  },
  {
   "cell_type": "code",
   "execution_count": 61,
   "metadata": {},
   "outputs": [
    {
     "name": "stdout",
     "output_type": "stream",
     "text": [
      "{'avg_spikerate_change': 'N=244; µ=1.29 +- 0.38',\n",
      " 'avg_spikerate_change_by_unit': {'FF': 'N=55; µ=1.64 +- 0.89',\n",
      "                                  'SIR': 'N=81; µ=1.44 +- 0.68',\n",
      "                                  'SR': 'N=108; µ=0.99 +- 0.51'},\n",
      " 'avg_spikerate_change_by_unit_z': {'FF': 'N=55; µ=0.18 +- 0.12',\n",
      "                                    'SIR': 'N=81; µ=0.21 +- 0.08',\n",
      "                                    'SR': 'N=108; µ=0.26 +- 0.08'},\n",
      " 'avg_spikerate_change_z': 'N=244; µ=0.22 +- 0.05'}\n"
     ]
    }
   ],
   "source": [
    "# Change in spike rate for each neuron type betwee states\n",
    "\n",
    "df_responders_rate = (\n",
    "    load_derived_generic(\"brain_states_spikerate_responders.csv\")\n",
    "    .merge(neurons)\n",
    ")\n",
    "avg_spikerate_change = mean_se(df_responders_rate.loc[lambda x: x.sig][\"Diff_raw\"])\n",
    "avg_spikerate_change_by_unit = df_responders_rate.loc[lambda x: x.sig].groupby([\"neuron_type\"])[\"Diff_raw\"].apply(mean_se)\n",
    "\n",
    "avg_spikerate_change_z = mean_se(df_responders_rate.loc[lambda x: x.sig][\"Diff\"])\n",
    "avg_spikerate_change_by_unit_z = df_responders_rate.loc[lambda x: x.sig].groupby([\"neuron_type\"])[\"Diff\"].apply(mean_se)\n",
    "\n",
    "\n",
    "out = dict(\n",
    "    avg_spikerate_change=avg_spikerate_change,\n",
    "    avg_spikerate_change_by_unit=avg_spikerate_change_by_unit.to_dict(),\n",
    "    avg_spikerate_change_z=avg_spikerate_change_z,\n",
    "    avg_spikerate_change_by_unit_z=avg_spikerate_change_by_unit_z.to_dict(),\n",
    ")\n",
    "pprint(out)"
   ]
  },
  {
   "cell_type": "code",
   "execution_count": 62,
   "metadata": {},
   "outputs": [
    {
     "data": {
      "text/plain": [
       "anova                         Chi2(2)=32.0 (p=0.00*)\n",
       "SIR - FF     41.4%; 72.39% | Chi(1.0)=30.62 (p=0.0*)\n",
       "SIR - SR      41.4%; 54.78% | Chi(1.0)=8.08 (p=0.0*)\n",
       "FF - SR     72.39%; 54.78% | Chi(1.0)=10.93 (p=0.0*)\n",
       "dtype: object"
      ]
     },
     "metadata": {},
     "output_type": "display_data"
    },
    {
     "data": {
      "text/plain": [
       "anova                         Chi2(2)=16.4 (p=0.00*)\n",
       "SIR - FF    57.94%; 86.76% | Chi(1.0)=14.86 (p=0.0*)\n",
       "SIR - SR     57.94%; 64.23% | Chi(1.0)=0.76 (p=0.38)\n",
       "FF - SR     86.76%; 64.23% | Chi(1.0)=10.29 (p=0.0*)\n",
       "dtype: object"
      ]
     },
     "metadata": {},
     "output_type": "display_data"
    },
    {
     "data": {
      "text/plain": [
       "anova                        Chi2(2)=19.9 (p=0.00*)\n",
       "SIR - FF    25.0%; 57.58% | Chi(1.0)=17.21 (p=0.0*)\n",
       "SIR - SR     25.0%; 45.19% | Chi(1.0)=9.73 (p=0.0*)\n",
       "FF - SR     57.58%; 45.19% | Chi(1.0)=2.25 (p=0.13)\n",
       "dtype: object"
      ]
     },
     "metadata": {},
     "output_type": "display_data"
    }
   ],
   "source": [
    "# Proportion of each unit type phase locked by oscillation\n",
    "from drn_interactions.spiketrains.neurontype_props import ChiSquarePostHoc\n",
    "\n",
    "df_prefered_angles = load_derived_generic(\"brain_states_phase_responders.csv\")\n",
    "\n",
    "df_prefered_angles = df_prefered_angles.assign(sig=lambda x: x.p < 0.05)\n",
    "mod = ChiSquarePostHoc(value_col=\"sig\", round=2)\n",
    "\n",
    "display(mod(df_prefered_angles))\n",
    "display(mod(df_prefered_angles.query(\"oscillation == 'delta'\")))\n",
    "display(mod(df_prefered_angles.query(\"oscillation == 'theta'\")))"
   ]
  }
 ],
 "metadata": {
  "kernelspec": {
   "display_name": "Python 3.8.13 ('drn38')",
   "language": "python",
   "name": "python3"
  },
  "language_info": {
   "codemirror_mode": {
    "name": "ipython",
    "version": 3
   },
   "file_extension": ".py",
   "mimetype": "text/x-python",
   "name": "python",
   "nbconvert_exporter": "python",
   "pygments_lexer": "ipython3",
   "version": "3.8.13"
  },
  "orig_nbformat": 4,
  "vscode": {
   "interpreter": {
    "hash": "83d85788087be4ab95a62fa43e95c13744f0a02d6feebc555b96a547158d0970"
   }
  }
 },
 "nbformat": 4,
 "nbformat_minor": 2
}
