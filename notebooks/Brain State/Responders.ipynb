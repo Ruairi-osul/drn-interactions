{
 "cells": [
  {
   "cell_type": "code",
   "execution_count": 7,
   "metadata": {},
   "outputs": [
    {
     "name": "stdout",
     "output_type": "stream",
     "text": [
      "The rpy2.ipython extension is already loaded. To reload it, use:\n",
      "  %reload_ext rpy2.ipython\n",
      "The autoreload extension is already loaded. To reload it, use:\n",
      "  %reload_ext autoreload\n"
     ]
    }
   ],
   "source": [
    "from drn_interactions.io import load_derived_generic\n",
    "from drn_interactions.transforms import SpikesHandler\n",
    "from drn_interactions.surrogates import shuffle_spikes\n",
    "from drn_interactions.transforms.brain_state import StateHandler, RawEEGHandler\n",
    "from drn_interactions.transforms.brain_state_spikes import (\n",
    "    align_spikes_to_states_long, align_spikes_to_phase_long, align_bins_to_states_long,\n",
    "    )\n",
    "from drn_interactions.responders.brain_state_responders import BSResonders\n",
    "from drn_interactions.transforms.nbox_transforms import segment_spikes\n",
    "from drn_interactions.spiketrains.spiketrain_stats import cv_isi_burst\n",
    "from drn_interactions.config import ExperimentInfo, Config\n",
    "from drn_interactions.responders.brain_state import SpikeRateResonders, PhaseLockResponders\n",
    "from drn_interactions.spiketrains.neurontype_props import ChiSquarePostHoc\n",
    "\n",
    "from scipy.stats import zscore\n",
    "import matplotlib.pyplot as plt\n",
    "import seaborn as sns\n",
    "import pingouin as pg\n",
    "import numpy as np\n",
    "import pandas as pd\n",
    "sns.set_theme(context=\"poster\", style=\"ticks\")\n",
    "from drn_interactions.plots.circular import circular_hist\n",
    "\n",
    "from IPython.display import display\n",
    "\n",
    "%load_ext rpy2.ipython\n",
    "%load_ext autoreload\n",
    "%autoreload 2"
   ]
  },
  {
   "cell_type": "markdown",
   "metadata": {},
   "source": [
    "# Spike Rate Change During EEG States\n",
    "\n",
    "\n",
    "### Load Data"
   ]
  },
  {
   "cell_type": "code",
   "execution_count": 8,
   "metadata": {},
   "outputs": [],
   "source": [
    "session_names = ExperimentInfo.eeg_sessions\n",
    "\n",
    "neuron_types = load_derived_generic(\"neuron_types.csv\")\n",
    "states_handler = StateHandler(\n",
    "    quality_to_include=(\"good\", \"med\"),\n",
    "    t_start=0,\n",
    "    t_stop=1800,\n",
    "    session_names=session_names,\n",
    ")\n",
    "spikes_handler = SpikesHandler(\n",
    "    block=\"pre\",\n",
    "    t_start=0,\n",
    "    bin_width=1,\n",
    "    t_stop=1800,\n",
    "    session_names=session_names,\n",
    "    \n",
    ")\n",
    "\n",
    "df_aligned = align_bins_to_states_long(\n",
    "    spikes_handler=spikes_handler,\n",
    "    states_handler=states_handler,\n",
    "    neuron_types=neuron_types\n",
    ")\n",
    "df_aligned[\"zcounts\"] = (\n",
    "    df_aligned\n",
    "    .groupby(\"neuron_id\")[\"counts\"]\n",
    "    .transform(zscore)\n",
    ")"
   ]
  },
  {
   "cell_type": "markdown",
   "metadata": {},
   "source": [
    "### Calculate Responders\n",
    "\n",
    "- Mixed ANOVA for interactions within neurons (brain states) and among neurons (neuron types)\n",
    "- Post hoc responder status for each neuron using Mann-Whitney U test "
   ]
  },
  {
   "cell_type": "code",
   "execution_count": 9,
   "metadata": {},
   "outputs": [
    {
     "data": {
      "text/html": [
       "<div>\n",
       "<style scoped>\n",
       "    .dataframe tbody tr th:only-of-type {\n",
       "        vertical-align: middle;\n",
       "    }\n",
       "\n",
       "    .dataframe tbody tr th {\n",
       "        vertical-align: top;\n",
       "    }\n",
       "\n",
       "    .dataframe thead th {\n",
       "        text-align: right;\n",
       "    }\n",
       "</style>\n",
       "<table border=\"1\" class=\"dataframe\">\n",
       "  <thead>\n",
       "    <tr style=\"text-align: right;\">\n",
       "      <th></th>\n",
       "      <th>Source</th>\n",
       "      <th>SS</th>\n",
       "      <th>DF1</th>\n",
       "      <th>DF2</th>\n",
       "      <th>MS</th>\n",
       "      <th>F</th>\n",
       "      <th>p-unc</th>\n",
       "      <th>np2</th>\n",
       "      <th>eps</th>\n",
       "    </tr>\n",
       "  </thead>\n",
       "  <tbody>\n",
       "    <tr>\n",
       "      <th>0</th>\n",
       "      <td>neuron_type</td>\n",
       "      <td>0.04</td>\n",
       "      <td>2</td>\n",
       "      <td>297</td>\n",
       "      <td>0.02</td>\n",
       "      <td>0.50</td>\n",
       "      <td>0.60</td>\n",
       "      <td>0.00</td>\n",
       "      <td>NaN</td>\n",
       "    </tr>\n",
       "    <tr>\n",
       "      <th>1</th>\n",
       "      <td>state</td>\n",
       "      <td>4.90</td>\n",
       "      <td>1</td>\n",
       "      <td>297</td>\n",
       "      <td>4.90</td>\n",
       "      <td>18.76</td>\n",
       "      <td>0.00</td>\n",
       "      <td>0.06</td>\n",
       "      <td>1.0</td>\n",
       "    </tr>\n",
       "    <tr>\n",
       "      <th>2</th>\n",
       "      <td>Interaction</td>\n",
       "      <td>0.15</td>\n",
       "      <td>2</td>\n",
       "      <td>297</td>\n",
       "      <td>0.08</td>\n",
       "      <td>0.29</td>\n",
       "      <td>0.75</td>\n",
       "      <td>0.00</td>\n",
       "      <td>NaN</td>\n",
       "    </tr>\n",
       "  </tbody>\n",
       "</table>\n",
       "</div>"
      ],
      "text/plain": [
       "        Source    SS  DF1  DF2    MS      F  p-unc   np2  eps\n",
       "0  neuron_type  0.04    2  297  0.02   0.50   0.60  0.00  NaN\n",
       "1        state  4.90    1  297  4.90  18.76   0.00  0.06  1.0\n",
       "2  Interaction  0.15    2  297  0.08   0.29   0.75  0.00  NaN"
      ]
     },
     "metadata": {},
     "output_type": "display_data"
    },
    {
     "data": {
      "text/html": [
       "<div>\n",
       "<style scoped>\n",
       "    .dataframe tbody tr th:only-of-type {\n",
       "        vertical-align: middle;\n",
       "    }\n",
       "\n",
       "    .dataframe tbody tr th {\n",
       "        vertical-align: top;\n",
       "    }\n",
       "\n",
       "    .dataframe thead th {\n",
       "        text-align: right;\n",
       "    }\n",
       "</style>\n",
       "<table border=\"1\" class=\"dataframe\">\n",
       "  <thead>\n",
       "    <tr style=\"text-align: right;\">\n",
       "      <th></th>\n",
       "      <th>neuron_id</th>\n",
       "      <th>n_sw</th>\n",
       "      <th>n_act</th>\n",
       "      <th>Mean_sw</th>\n",
       "      <th>Mean_act</th>\n",
       "      <th>Diff</th>\n",
       "      <th>U</th>\n",
       "      <th>p</th>\n",
       "      <th>sig</th>\n",
       "    </tr>\n",
       "  </thead>\n",
       "  <tbody>\n",
       "    <tr>\n",
       "      <th>270</th>\n",
       "      <td>2596</td>\n",
       "      <td>724.0</td>\n",
       "      <td>1075.0</td>\n",
       "      <td>0.06</td>\n",
       "      <td>-0.04</td>\n",
       "      <td>-0.11</td>\n",
       "      <td>407876.5</td>\n",
       "      <td>0.09</td>\n",
       "      <td>False</td>\n",
       "    </tr>\n",
       "    <tr>\n",
       "      <th>125</th>\n",
       "      <td>181</td>\n",
       "      <td>1074.0</td>\n",
       "      <td>725.0</td>\n",
       "      <td>-0.43</td>\n",
       "      <td>0.64</td>\n",
       "      <td>1.08</td>\n",
       "      <td>187262.5</td>\n",
       "      <td>0.00</td>\n",
       "      <td>True</td>\n",
       "    </tr>\n",
       "    <tr>\n",
       "      <th>106</th>\n",
       "      <td>152</td>\n",
       "      <td>1074.0</td>\n",
       "      <td>725.0</td>\n",
       "      <td>-0.06</td>\n",
       "      <td>0.09</td>\n",
       "      <td>0.15</td>\n",
       "      <td>250558.0</td>\n",
       "      <td>0.00</td>\n",
       "      <td>True</td>\n",
       "    </tr>\n",
       "  </tbody>\n",
       "</table>\n",
       "</div>"
      ],
      "text/plain": [
       "     neuron_id    n_sw   n_act  Mean_sw  Mean_act  Diff         U     p    sig\n",
       "270       2596   724.0  1075.0     0.06     -0.04 -0.11  407876.5  0.09  False\n",
       "125        181  1074.0   725.0    -0.43      0.64  1.08  187262.5  0.00   True\n",
       "106        152  1074.0   725.0    -0.06      0.09  0.15  250558.0  0.00   True"
      ]
     },
     "metadata": {},
     "output_type": "display_data"
    }
   ],
   "source": [
    "\n",
    "mod = SpikeRateResonders(df_value_col=\"zcounts\", round_output=2)\n",
    "anova, contrasts = mod.get_anova(df_aligned, fit_neuron_types=True)\n",
    "\n",
    "display(anova)\n",
    "# display(contrasts)\n",
    "\n",
    "responders = mod.get_responders(df_aligned, abs_diff_thresh=0.1)\n",
    "display(responders.sample(3))\n",
    "\n",
    "\n",
    "responders_raw = (\n",
    "    SpikeRateResonders(df_value_col=\"counts\", round_output=2)\n",
    "    .get_responders(df_aligned, abs_diff_thresh=0.1)\n",
    "    .rename(columns={\"Diff\": \"Diff_raw\"})\n",
    ")\n",
    "\n",
    "(\n",
    "    responders\n",
    "    .merge(responders_raw[[\"neuron_id\", \"Diff_raw\"]], how=\"left\", on=\"neuron_id\")\n",
    "    .to_csv(\n",
    "        Config.derived_data_dir / \"brain_states_spikerate_responders.csv\",\n",
    "        index=False,\n",
    "    )\n",
    ")"
   ]
  },
  {
   "cell_type": "markdown",
   "metadata": {},
   "source": [
    "# Phase Locking Analysis\n",
    "\n",
    "### Load Data and Align to EEG Oscillation Phase\n",
    "- Raw EEG signal downsampled to 250 Hz\n",
    "- In activated brain states, it is filtered between 4 - 8 Hz\n",
    "- In slow wave states, it is filtered between 0.5 - 4 Hz\n",
    "- Spike times are aligned to EEG phase separately for each brain state\n",
    "- In each state, the distrobution of phases is tested for uniformity using Rayleigh tests\n",
    "- The prefered phase of each neuron and whether it is significantly different phase locked is saved in a file\n",
    "- This file is loaded into R and analysed using an GLM on angular embeddings (see below)"
   ]
  },
  {
   "cell_type": "code",
   "execution_count": 12,
   "metadata": {},
   "outputs": [
    {
     "name": "stderr",
     "output_type": "stream",
     "text": [
      "c:\\users\\roryl\\repos\\drn interactions\\drn_interactions\\transforms\\brain_state_spikes.py:94: FutureWarning: Passing 'suffixes' which cause duplicate columns {'group_name_x'} in the result is deprecated and will raise a MergeError in a future version.\n",
      "  df_aligned = df_aligned.merge(\n"
     ]
    },
    {
     "data": {
      "text/html": [
       "<div>\n",
       "<style scoped>\n",
       "    .dataframe tbody tr th:only-of-type {\n",
       "        vertical-align: middle;\n",
       "    }\n",
       "\n",
       "    .dataframe tbody tr th {\n",
       "        vertical-align: top;\n",
       "    }\n",
       "\n",
       "    .dataframe thead th {\n",
       "        text-align: right;\n",
       "    }\n",
       "</style>\n",
       "<table border=\"1\" class=\"dataframe\">\n",
       "  <thead>\n",
       "    <tr style=\"text-align: right;\">\n",
       "      <th></th>\n",
       "      <th>neuron_id</th>\n",
       "      <th>oscillation</th>\n",
       "      <th>mean_angle</th>\n",
       "      <th>var</th>\n",
       "      <th>p</th>\n",
       "      <th>neuron_type</th>\n",
       "      <th>session_name</th>\n",
       "      <th>group_name</th>\n",
       "    </tr>\n",
       "  </thead>\n",
       "  <tbody>\n",
       "    <tr>\n",
       "      <th>566</th>\n",
       "      <td>2620</td>\n",
       "      <td>delta</td>\n",
       "      <td>-0.73</td>\n",
       "      <td>1.76</td>\n",
       "      <td>0.00</td>\n",
       "      <td>SIR</td>\n",
       "      <td>acute_11</td>\n",
       "      <td>acute_saline</td>\n",
       "    </tr>\n",
       "    <tr>\n",
       "      <th>280</th>\n",
       "      <td>1027</td>\n",
       "      <td>delta</td>\n",
       "      <td>-2.29</td>\n",
       "      <td>7.12</td>\n",
       "      <td>0.01</td>\n",
       "      <td>SR</td>\n",
       "      <td>hamilton_03</td>\n",
       "      <td>acute_sal</td>\n",
       "    </tr>\n",
       "    <tr>\n",
       "      <th>259</th>\n",
       "      <td>1014</td>\n",
       "      <td>theta</td>\n",
       "      <td>0.96</td>\n",
       "      <td>4.11</td>\n",
       "      <td>0.00</td>\n",
       "      <td>SIR</td>\n",
       "      <td>hamilton_10</td>\n",
       "      <td>acute_cit</td>\n",
       "    </tr>\n",
       "  </tbody>\n",
       "</table>\n",
       "</div>"
      ],
      "text/plain": [
       "     neuron_id oscillation  mean_angle   var     p neuron_type session_name  \\\n",
       "566       2620       delta       -0.73  1.76  0.00         SIR     acute_11   \n",
       "280       1027       delta       -2.29  7.12  0.01          SR  hamilton_03   \n",
       "259       1014       theta        0.96  4.11  0.00         SIR  hamilton_10   \n",
       "\n",
       "       group_name  \n",
       "566  acute_saline  \n",
       "280     acute_sal  \n",
       "259     acute_cit  "
      ]
     },
     "metadata": {},
     "output_type": "display_data"
    }
   ],
   "source": [
    "spikes_handler = SpikesHandler(\n",
    "    block=\"pre\",\n",
    "    t_start=0,\n",
    "    bin_width=1,\n",
    "    t_stop=1800,\n",
    "    session_names=session_names,\n",
    ")\n",
    "\n",
    "eeg_handler = RawEEGHandler(\n",
    "    block=\"pre\",\n",
    "    t_start=0,\n",
    "    t_stop=1800,\n",
    "    session_names=session_names,\n",
    ")\n",
    "df_aligned_phase = align_spikes_to_phase_long(\n",
    "    spikes_handler=spikes_handler,\n",
    "    states_handler=states_handler,\n",
    "    raw_eeg_handler=eeg_handler,\n",
    "    neuron_types=neuron_types,\n",
    ").dropna()\n",
    "\n",
    "\n",
    "df_sw = df_aligned_phase.query(\"state == 'sw'\")\n",
    "df_act = df_aligned_phase.query(\"state == 'act'\")\n",
    "\n",
    "mod = PhaseLockResponders(round_output=2, fs=(250 * 6) / (2 * np.pi))\n",
    "df_res_act = mod.prefered_angles(df_act, phase_col=\"theta_phase\")\n",
    "df_res_sw = mod.prefered_angles(df_sw, phase_col=\"delta_phase\",)\n",
    "df_prefered_angles = pd.concat([(\n",
    "        df_res_sw\n",
    "        .assign(oscillation=\"delta\")\n",
    "        [[\"neuron_id\", \"oscillation\", \"mean_angle\", \"var\", \"p\"]]\n",
    "        ),\n",
    "        (\n",
    "            df_res_act\n",
    "            .assign(oscillation=\"theta\")\n",
    "            [[\"neuron_id\", \"oscillation\", \"mean_angle\", \"var\", \"p\"]]\n",
    "        )\n",
    "]\n",
    ")\n",
    "df_prefered_angles = df_prefered_angles.merge(neuron_types)\n",
    "display(df_prefered_angles.sample(3))\n",
    "df_prefered_angles.to_csv(Config.derived_data_dir / \"brain_states_phase_responders.csv\", index=False)"
   ]
  },
  {
   "cell_type": "code",
   "execution_count": 11,
   "metadata": {},
   "outputs": [
    {
     "data": {
      "text/plain": [
       "anova                         Chi2(2)=29.9 (p=0.00*)\n",
       "SIR - FF    41.71%; 72.73% | Chi(1.0)=28.48 (p=0.0*)\n",
       "SIR - SR    41.71%; 54.41% | Chi(1.0)=7.03 (p=0.01*)\n",
       "FF - SR     72.73%; 54.41% | Chi(1.0)=10.83 (p=0.0*)\n",
       "dtype: object"
      ]
     },
     "metadata": {},
     "output_type": "display_data"
    },
    {
     "data": {
      "text/plain": [
       "anova                        Chi2(2)=16.8 (p=0.00*)\n",
       "SIR - FF    58.1%; 88.52% | Chi(1.0)=15.39 (p=0.0*)\n",
       "SIR - SR     58.1%; 65.65% | Chi(1.0)=1.11 (p=0.29)\n",
       "FF - SR      88.52%; 65.65% | Chi(1.0)=9.9 (p=0.0*)\n",
       "dtype: object"
      ]
     },
     "metadata": {},
     "output_type": "display_data"
    },
    {
     "data": {
      "text/plain": [
       "anova                         Chi2(2)=16.8 (p=0.00*)\n",
       "SIR - FF    25.47%; 56.67% | Chi(1.0)=14.73 (p=0.0*)\n",
       "SIR - SR    25.47%; 43.08% | Chi(1.0)=7.18 (p=0.01*)\n",
       "FF - SR      56.67%; 43.08% | Chi(1.0)=2.52 (p=0.11)\n",
       "dtype: object"
      ]
     },
     "metadata": {},
     "output_type": "display_data"
    }
   ],
   "source": [
    "df_prefered_angles = df_prefered_angles.assign(sig=lambda x: x.p < 0.05)\n",
    "mod = ChiSquarePostHoc(value_col=\"sig\", round=2)\n",
    "\n",
    "display(mod(df_prefered_angles))\n",
    "display(mod(df_prefered_angles.query(\"oscillation == 'delta'\")))\n",
    "display(mod(df_prefered_angles.query(\"oscillation == 'theta'\")))"
   ]
  },
  {
   "cell_type": "markdown",
   "metadata": {},
   "source": [
    "### Group Level Statistics\n",
    "\n",
    "Here we use R to compute the group level statistics. We use bayesian ANOVAs on angular embeddings using the `bpnreg` package. \n",
    "\n",
    "See [this paper](https://www.ncbi.nlm.nih.gov/pmc/articles/PMC6218623/) for a discription of the approach and the packages [documentation here](https://cran.r-project.org/web/packages/bpnreg/bpnreg.pdf). "
   ]
  },
  {
   "cell_type": "code",
   "execution_count": 15,
   "metadata": {},
   "outputs": [],
   "source": [
    "%%R\n",
    "suppressMessages(require(circular))\n",
    "suppressMessages(require(bpnreg))\n",
    "suppressMessages(require(tidyverse))\n",
    "\n",
    "p <- \"C:\\\\Users\\\\roryl\\\\repos\\\\DRN Interactions\\\\data\\\\derived\\\\brain_states_phase_responders.csv\"\n",
    "\n",
    "df <- suppressMessages(read_csv(p)) %>%\n",
    "  mutate(\n",
    "    ang = circular(mean_angle, units=\"radians\"),\n",
    "    oscillation=factor(oscillation, levels=c(\"delta\", \"theta\")),\n",
    "    neuron_type=factor(neuron_type, levels=c(\"SR\", \"SIR\", \"FF\"))\n",
    "    )\n"
   ]
  },
  {
   "cell_type": "code",
   "execution_count": 16,
   "metadata": {},
   "outputs": [
    {
     "name": "stdout",
     "output_type": "stream",
     "text": [
      "# A tibble: 3 x 4\n",
      "  neuron_type theta        var   rho\n",
      "  <fct>       <circular> <dbl> <dbl>\n",
      "1 SR          -1.951247  0.702 0.298\n",
      "2 SIR         -1.560890  0.848 0.152\n",
      "3 FF          -2.431734  0.556 0.444\n",
      "# A tibble: 3 x 4\n",
      "  neuron_type theta        var   rho\n",
      "  <fct>       <circular> <dbl> <dbl>\n",
      "1 SR          1.842788   0.562 0.438\n",
      "2 SIR         1.902326   0.714 0.286\n",
      "3 FF          1.750418   0.465 0.535\n"
     ]
    }
   ],
   "source": [
    "%%R\n",
    "# summary stats for delta\n",
    "df %>%\n",
    "  filter(oscillation==\"delta\", p < 0.05) %>%\n",
    "  group_by(neuron_type) %>%\n",
    "  summarise(\n",
    "    theta=circular::mean.circular(ang),\n",
    "    var=circular::var.circular(ang),\n",
    "    rho=circular::rho.circular(ang)\n",
    "    ) %>% print\n",
    "\n",
    "# summary stats for theta\n",
    "df %>%\n",
    "  filter(oscillation==\"theta\", p < 0.05) %>%\n",
    "  group_by(neuron_type) %>%\n",
    "  summarise(\n",
    "    theta=circular::mean.circular(ang),\n",
    "    var=circular::var.circular(ang),\n",
    "    rho=circular::rho.circular(ang)\n",
    "    ) %>% print"
   ]
  },
  {
   "cell_type": "code",
   "execution_count": 17,
   "metadata": {},
   "outputs": [
    {
     "name": "stdout",
     "output_type": "stream",
     "text": [
      "                             mean  mode   sd    LB    UB\n",
      "(Intercept)                 -2.03 -2.02 0.26 -2.56 -1.51\n",
      "neuron_typeSIR              -1.52 -1.63 0.74 -2.90  0.17\n",
      "neuron_typeFF               -2.50 -2.45 0.19 -2.88 -2.18\n",
      "neuron_typeSIRneuron_typeFF -2.57 -2.49 0.60  2.46  5.00\n",
      "                             mean  mode   sd    LB   UB\n",
      "neuron_typeSIR              -0.51 -0.75 0.78 -2.10 1.07\n",
      "neuron_typeFF                0.47  0.43 0.32 -0.20 1.07\n",
      "neuron_typeSIRneuron_typeFF  0.55  0.46 0.73 -1.02 1.94\n"
     ]
    }
   ],
   "source": [
    "%%R\n",
    "\n",
    "invisible(capture.output(\n",
    "  mod_delta <- bpnreg::bpnr(\n",
    "  ang ~ neuron_type,\n",
    "  data=filter(df, oscillation==\"delta\", p < 0.05)\n",
    "  )\n",
    "))\n",
    "  \n",
    "coef_delta <- bpnreg::coef_circ(\n",
    "  mod_delta, type=\"categorical\", units=\"radians\"\n",
    "  )\n",
    "print(round(coef_delta$Means, 2))\n",
    "print(round(coef_delta$Differences, 2))"
   ]
  },
  {
   "cell_type": "code",
   "execution_count": 18,
   "metadata": {},
   "outputs": [
    {
     "name": "stdout",
     "output_type": "stream",
     "text": [
      "                            mean mode   sd   LB   UB\n",
      "(Intercept)                 1.81 1.76 0.18 1.49 2.16\n",
      "neuron_typeSIR              1.87 1.88 0.54 0.86 2.97\n",
      "neuron_typeFF               1.71 1.64 0.19 1.35 2.08\n",
      "neuron_typeSIRneuron_typeFF 1.72 1.75 0.56 0.67 2.92\n",
      "                             mean  mode   sd    LB   UB\n",
      "neuron_typeSIR              -0.06 -0.04 0.57 -1.18 1.06\n",
      "neuron_typeFF                0.10  0.20 0.27 -0.37 0.69\n",
      "neuron_typeSIRneuron_typeFF  0.09  0.34 0.64 -1.30 1.28\n"
     ]
    }
   ],
   "source": [
    "%%R\n",
    "\n",
    "invisible(capture.output(\n",
    "  mod_theta <- bpnreg::bpnr(\n",
    "    ang ~ neuron_type,\n",
    "    data=filter(df, oscillation==\"theta\", p < 0.05)\n",
    "    )\n",
    "))\n",
    "coef_theta <- bpnreg::coef_circ(\n",
    "  mod_theta, type=\"categorical\", units=\"radians\"\n",
    "  )\n",
    "print(round(coef_theta$Means, 2))\n",
    "print(round(coef_theta$Differences, 2))"
   ]
  },
  {
   "cell_type": "code",
   "execution_count": 19,
   "metadata": {},
   "outputs": [
    {
     "name": "stdout",
     "output_type": "stream",
     "text": [
      "                  mean  mode   sd    LB    UB\n",
      "(Intercept)      -2.19 -2.26 0.17 -2.57 -1.88\n",
      "oscillationtheta  1.77  1.77 0.13  1.51  2.05\n",
      "                 mean mode   sd  LB   UB\n",
      "oscillationtheta 2.32  2.3 0.22 1.9 2.78\n"
     ]
    }
   ],
   "source": [
    "%%R\n",
    "invisible(capture.output(\n",
    "  mod_oscillation <-  bpnreg::bpnr(\n",
    "    ang ~ oscillation,\n",
    "    data=filter(df, p < 0.05)\n",
    "  )\n",
    "))\n",
    "coef_oscillation <- bpnreg::coef_circ(\n",
    "  mod_oscillation, type=\"categorical\", units=\"radians\"\n",
    ")\n",
    "print(round(coef_oscillation$Means, 2))\n",
    "print(round(coef_oscillation$Differences, 2))"
   ]
  }
 ],
 "metadata": {
  "kernelspec": {
   "display_name": "Python 3.8.13 ('drn38')",
   "language": "python",
   "name": "python3"
  },
  "language_info": {
   "codemirror_mode": {
    "name": "ipython",
    "version": 3
   },
   "file_extension": ".py",
   "mimetype": "text/x-python",
   "name": "python",
   "nbconvert_exporter": "python",
   "pygments_lexer": "ipython3",
   "version": "3.8.13"
  },
  "orig_nbformat": 4,
  "vscode": {
   "interpreter": {
    "hash": "83d85788087be4ab95a62fa43e95c13744f0a02d6feebc555b96a547158d0970"
   }
  }
 },
 "nbformat": 4,
 "nbformat_minor": 2
}
