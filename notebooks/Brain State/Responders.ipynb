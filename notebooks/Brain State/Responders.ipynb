{
 "cells": [
  {
   "cell_type": "code",
   "execution_count": 1,
   "metadata": {},
   "outputs": [
    {
     "name": "stderr",
     "output_type": "stream",
     "text": [
      "c:\\Users\\roryl\\.conda\\envs\\drn38\\lib\\site-packages\\outdated\\utils.py:14: OutdatedPackageWarning: The package pingouin is out of date. Your version is 0.5.1, the latest is 0.5.2.\n",
      "Set the environment variable OUTDATED_IGNORE=1 to disable these warnings.\n",
      "  return warn(\n",
      "c:\\Users\\roryl\\.conda\\envs\\drn38\\lib\\site-packages\\rpy2\\robjects\\packages.py:366: UserWarning: The symbol 'quartz' is not in this R namespace/package.\n",
      "  warnings.warn(\n"
     ]
    }
   ],
   "source": [
    "from drn_interactions.io import load_derived_generic\n",
    "from drn_interactions.transforms import SpikesHandler\n",
    "from drn_interactions.surrogates import shuffle_spikes\n",
    "from drn_interactions.transforms.brain_state import StateHandler, RawEEGHandler\n",
    "from drn_interactions.transforms.brain_state_spikes import (\n",
    "    align_spikes_to_states_long, align_spikes_to_phase_long, align_bins_to_states_long,\n",
    "    )\n",
    "from drn_interactions.responders.brain_state_responders import BSResonders\n",
    "from drn_interactions.transforms.nbox_transforms import segment_spikes\n",
    "from drn_interactions.spiketrains.spiketrain_stats import cv_isi_burst\n",
    "from drn_interactions.config import ExperimentInfo, Config\n",
    "from drn_interactions.responders.brain_state import SpikeRateResonders\n",
    "from drn_interactions.responders.brain_state import PhaseLockResponders\n",
    "from drn_interactions.spiketrains.neurontype_props import ChiSquarePostHoc\n",
    "\n",
    "from scipy.stats import zscore\n",
    "import matplotlib.pyplot as plt\n",
    "import seaborn as sns\n",
    "import pingouin as pg\n",
    "import numpy as np\n",
    "import pandas as pd\n",
    "sns.set_theme(context=\"poster\", style=\"ticks\")\n",
    "from drn_interactions.plots.circular import circular_hist\n",
    "\n",
    "from IPython.display import display\n",
    "\n",
    "%load_ext rpy2.ipython\n",
    "%load_ext autoreload\n",
    "%autoreload 2"
   ]
  },
  {
   "cell_type": "markdown",
   "metadata": {},
   "source": [
    "# Spike Rate Change During EEG States\n",
    "\n",
    "\n",
    "### Load Data"
   ]
  },
  {
   "cell_type": "code",
   "execution_count": 3,
   "metadata": {},
   "outputs": [],
   "source": [
    "session_names = ExperimentInfo.eeg_sessions\n",
    "\n",
    "neuron_types = load_derived_generic(\"neuron_types.csv\")\n",
    "states_handler = StateHandler(\n",
    "    quality_to_include=(\"good\",),\n",
    "    t_start=0,\n",
    "    t_stop=1800,\n",
    "    session_names=session_names,\n",
    ")\n",
    "spikes_handler = SpikesHandler(\n",
    "    block=\"pre\",\n",
    "    t_start=0,\n",
    "    bin_width=1,\n",
    "    t_stop=1800,\n",
    "    session_names=session_names,\n",
    "    \n",
    ")\n",
    "\n",
    "df_aligned = align_bins_to_states_long(\n",
    "    spikes_handler=spikes_handler,\n",
    "    states_handler=states_handler,\n",
    "    neuron_types=neuron_types\n",
    ")\n",
    "df_aligned[\"zcounts\"] = (\n",
    "    df_aligned\n",
    "    .groupby(\"neuron_id\")[\"counts\"]\n",
    "    .transform(zscore)\n",
    ")"
   ]
  },
  {
   "cell_type": "markdown",
   "metadata": {},
   "source": [
    "### Calculate Responders\n",
    "\n",
    "- Mixed ANOVA for interactions within neurons (brain states) and among neurons (neuron types)\n",
    "- Post hoc responder status for each neuron using Mann-Whitney U test "
   ]
  },
  {
   "cell_type": "code",
   "execution_count": 3,
   "metadata": {},
   "outputs": [
    {
     "data": {
      "text/html": [
       "<div>\n",
       "<style scoped>\n",
       "    .dataframe tbody tr th:only-of-type {\n",
       "        vertical-align: middle;\n",
       "    }\n",
       "\n",
       "    .dataframe tbody tr th {\n",
       "        vertical-align: top;\n",
       "    }\n",
       "\n",
       "    .dataframe thead th {\n",
       "        text-align: right;\n",
       "    }\n",
       "</style>\n",
       "<table border=\"1\" class=\"dataframe\">\n",
       "  <thead>\n",
       "    <tr style=\"text-align: right;\">\n",
       "      <th></th>\n",
       "      <th>Source</th>\n",
       "      <th>SS</th>\n",
       "      <th>DF1</th>\n",
       "      <th>DF2</th>\n",
       "      <th>MS</th>\n",
       "      <th>F</th>\n",
       "      <th>p-unc</th>\n",
       "      <th>np2</th>\n",
       "      <th>eps</th>\n",
       "    </tr>\n",
       "  </thead>\n",
       "  <tbody>\n",
       "    <tr>\n",
       "      <th>0</th>\n",
       "      <td>neuron_type</td>\n",
       "      <td>0.04</td>\n",
       "      <td>2</td>\n",
       "      <td>312</td>\n",
       "      <td>0.02</td>\n",
       "      <td>0.54</td>\n",
       "      <td>0.58</td>\n",
       "      <td>0.00</td>\n",
       "      <td>NaN</td>\n",
       "    </tr>\n",
       "    <tr>\n",
       "      <th>1</th>\n",
       "      <td>state</td>\n",
       "      <td>4.84</td>\n",
       "      <td>1</td>\n",
       "      <td>312</td>\n",
       "      <td>4.84</td>\n",
       "      <td>18.76</td>\n",
       "      <td>0.00</td>\n",
       "      <td>0.06</td>\n",
       "      <td>1.0</td>\n",
       "    </tr>\n",
       "    <tr>\n",
       "      <th>2</th>\n",
       "      <td>Interaction</td>\n",
       "      <td>0.18</td>\n",
       "      <td>2</td>\n",
       "      <td>312</td>\n",
       "      <td>0.09</td>\n",
       "      <td>0.36</td>\n",
       "      <td>0.70</td>\n",
       "      <td>0.00</td>\n",
       "      <td>NaN</td>\n",
       "    </tr>\n",
       "  </tbody>\n",
       "</table>\n",
       "</div>"
      ],
      "text/plain": [
       "        Source    SS  DF1  DF2    MS      F  p-unc   np2  eps\n",
       "0  neuron_type  0.04    2  312  0.02   0.54   0.58  0.00  NaN\n",
       "1        state  4.84    1  312  4.84  18.76   0.00  0.06  1.0\n",
       "2  Interaction  0.18    2  312  0.09   0.36   0.70  0.00  NaN"
      ]
     },
     "metadata": {},
     "output_type": "display_data"
    }
   ],
   "source": [
    "\n",
    "mod = SpikeRateResonders(df_value_col=\"zcounts\", round_output=2)\n",
    "anova, contrasts = mod.get_anova(df_aligned, fit_neuron_types=True)\n",
    "\n",
    "display(anova)\n",
    "# display(contrasts)\n",
    "\n",
    "responders = mod.get_responders(df_aligned, abs_diff_thresh=0.1)\n",
    "display(responders.sample(3))\n",
    "\n",
    "responders.to_csv(\n",
    "    Config.derived_data_dir / \"brain_states_spikerate_responders.csv\",\n",
    "    index=False,\n",
    ")"
   ]
  },
  {
   "cell_type": "markdown",
   "metadata": {},
   "source": [
    "# Phase Locking Analysis\n",
    "\n",
    "### Load Data and Align to EEG Oscillation Phase\n",
    "- Raw EEG signal downsampled to 250 Hz\n",
    "- In activated brain states, it is filtered between 4 - 8 Hz\n",
    "- In slow wave states, it is filtered between 0.5 - 4 Hz\n",
    "- Spike times are aligned to EEG phase separately for each brain state\n",
    "- In each state, the distrobution of phases is tested for uniformity using Rayleigh tests\n",
    "- The prefered phase of each neuron and whether it is significantly different phase locked is saved in a file\n",
    "- This file is loaded into R and analysed using an GLM on angular embeddings (see below)"
   ]
  },
  {
   "cell_type": "code",
   "execution_count": 13,
   "metadata": {},
   "outputs": [
    {
     "name": "stderr",
     "output_type": "stream",
     "text": [
      "c:\\users\\roryl\\repos\\drn interactions\\drn_interactions\\transforms\\brain_state_spikes.py:94: FutureWarning: Passing 'suffixes' which cause duplicate columns {'group_name_x'} in the result is deprecated and will raise a MergeError in a future version.\n",
      "  df_aligned = df_aligned.merge(\n"
     ]
    },
    {
     "data": {
      "text/html": [
       "<div>\n",
       "<style scoped>\n",
       "    .dataframe tbody tr th:only-of-type {\n",
       "        vertical-align: middle;\n",
       "    }\n",
       "\n",
       "    .dataframe tbody tr th {\n",
       "        vertical-align: top;\n",
       "    }\n",
       "\n",
       "    .dataframe thead th {\n",
       "        text-align: right;\n",
       "    }\n",
       "</style>\n",
       "<table border=\"1\" class=\"dataframe\">\n",
       "  <thead>\n",
       "    <tr style=\"text-align: right;\">\n",
       "      <th></th>\n",
       "      <th>neuron_id</th>\n",
       "      <th>oscillation</th>\n",
       "      <th>mean_angle</th>\n",
       "      <th>p</th>\n",
       "      <th>neuron_type</th>\n",
       "      <th>session_name</th>\n",
       "      <th>group_name</th>\n",
       "    </tr>\n",
       "  </thead>\n",
       "  <tbody>\n",
       "    <tr>\n",
       "      <th>422</th>\n",
       "      <td>2414</td>\n",
       "      <td>delta</td>\n",
       "      <td>-0.40</td>\n",
       "      <td>0.01</td>\n",
       "      <td>SR</td>\n",
       "      <td>acute_16</td>\n",
       "      <td>acute_saline</td>\n",
       "    </tr>\n",
       "    <tr>\n",
       "      <th>373</th>\n",
       "      <td>2329</td>\n",
       "      <td>theta</td>\n",
       "      <td>1.66</td>\n",
       "      <td>0.05</td>\n",
       "      <td>SIR</td>\n",
       "      <td>acute_15</td>\n",
       "      <td>acute_saline</td>\n",
       "    </tr>\n",
       "    <tr>\n",
       "      <th>409</th>\n",
       "      <td>2406</td>\n",
       "      <td>theta</td>\n",
       "      <td>1.59</td>\n",
       "      <td>0.00</td>\n",
       "      <td>SR</td>\n",
       "      <td>acute_16</td>\n",
       "      <td>acute_saline</td>\n",
       "    </tr>\n",
       "  </tbody>\n",
       "</table>\n",
       "</div>"
      ],
      "text/plain": [
       "     neuron_id oscillation  mean_angle     p neuron_type session_name  \\\n",
       "422       2414       delta       -0.40  0.01          SR     acute_16   \n",
       "373       2329       theta        1.66  0.05         SIR     acute_15   \n",
       "409       2406       theta        1.59  0.00          SR     acute_16   \n",
       "\n",
       "       group_name  \n",
       "422  acute_saline  \n",
       "373  acute_saline  \n",
       "409  acute_saline  "
      ]
     },
     "metadata": {},
     "output_type": "display_data"
    }
   ],
   "source": [
    "spikes_handler = SpikesHandler(\n",
    "    block=\"pre\",\n",
    "    t_start=0,\n",
    "    bin_width=1,\n",
    "    t_stop=1800,\n",
    "    session_names=session_names,\n",
    ")\n",
    "\n",
    "eeg_handler = RawEEGHandler(\n",
    "    block=\"pre\",\n",
    "    t_start=0,\n",
    "    t_stop=1800,\n",
    "    session_names=session_names,\n",
    ")\n",
    "df_aligned_phase = align_spikes_to_phase_long(\n",
    "    spikes_handler=spikes_handler,\n",
    "    states_handler=states_handler,\n",
    "    raw_eeg_handler=eeg_handler,\n",
    "    neuron_types=neuron_types,\n",
    ").dropna()\n",
    "\n",
    "\n",
    "df_sw = df_aligned_phase.query(\"state == 'sw'\")\n",
    "df_act = df_aligned_phase.query(\"state == 'act'\")\n",
    "\n",
    "mod = PhaseLockResponders(round_output=2, fs=(250 * 6) / (2 * np.pi))\n",
    "df_res_act = mod.prefered_angles(df_act, phase_col=\"theta_phase\")\n",
    "df_res_sw = mod.prefered_angles(df_sw, phase_col=\"delta_phase\",)\n",
    "df_prefered_angles = pd.concat([(\n",
    "        df_res_sw\n",
    "        .assign(oscillation=\"delta\")\n",
    "        [[\"neuron_id\", \"oscillation\", \"mean_angle\", \"p\"]]\n",
    "        ),\n",
    "        (\n",
    "            df_res_act\n",
    "            .assign(oscillation=\"theta\")\n",
    "            [[\"neuron_id\", \"oscillation\", \"mean_angle\", \"p\"]]\n",
    "        )\n",
    "]\n",
    ")\n",
    "df_prefered_angles = df_prefered_angles.merge(neuron_types)\n",
    "display(df_prefered_angles.sample(3))\n",
    "df_prefered_angles.to_csv(Config.derived_data_dir / \"brain_states_phase_responders.csv\", index=False)"
   ]
  },
  {
   "cell_type": "code",
   "execution_count": 14,
   "metadata": {},
   "outputs": [
    {
     "data": {
      "text/plain": [
       "anova                         Chi2(2)=32.0 (p=0.00*)\n",
       "SIR - FF     41.4%; 72.39% | Chi(1.0)=30.62 (p=0.0*)\n",
       "SIR - SR      41.4%; 54.78% | Chi(1.0)=8.08 (p=0.0*)\n",
       "FF - SR     72.39%; 54.78% | Chi(1.0)=10.93 (p=0.0*)\n",
       "dtype: object"
      ]
     },
     "metadata": {},
     "output_type": "display_data"
    },
    {
     "data": {
      "text/plain": [
       "anova                         Chi2(2)=16.4 (p=0.00*)\n",
       "SIR - FF    57.94%; 86.76% | Chi(1.0)=14.86 (p=0.0*)\n",
       "SIR - SR     57.94%; 64.23% | Chi(1.0)=0.76 (p=0.38)\n",
       "FF - SR     86.76%; 64.23% | Chi(1.0)=10.29 (p=0.0*)\n",
       "dtype: object"
      ]
     },
     "metadata": {},
     "output_type": "display_data"
    },
    {
     "data": {
      "text/plain": [
       "anova                        Chi2(2)=19.9 (p=0.00*)\n",
       "SIR - FF    25.0%; 57.58% | Chi(1.0)=17.21 (p=0.0*)\n",
       "SIR - SR     25.0%; 45.19% | Chi(1.0)=9.73 (p=0.0*)\n",
       "FF - SR     57.58%; 45.19% | Chi(1.0)=2.25 (p=0.13)\n",
       "dtype: object"
      ]
     },
     "metadata": {},
     "output_type": "display_data"
    }
   ],
   "source": [
    "df_prefered_angles = df_prefered_angles.assign(sig=lambda x: x.p < 0.05)\n",
    "mod = ChiSquarePostHoc(value_col=\"sig\", round=2)\n",
    "\n",
    "display(mod(df_prefered_angles))\n",
    "display(mod(df_prefered_angles.query(\"oscillation == 'delta'\")))\n",
    "display(mod(df_prefered_angles.query(\"oscillation == 'theta'\")))"
   ]
  },
  {
   "cell_type": "markdown",
   "metadata": {},
   "source": [
    "### Group Level Statistics\n",
    "\n",
    "Here we use R to compute the group level statistics. We use bayesian ANOVAs on angular embeddings using the `bpnreg` package. \n",
    "\n",
    "See [this paper](https://www.ncbi.nlm.nih.gov/pmc/articles/PMC6218623/) for a discription of the approach and the packages [documentation here](https://cran.r-project.org/web/packages/bpnreg/bpnreg.pdf). "
   ]
  },
  {
   "cell_type": "code",
   "execution_count": 15,
   "metadata": {},
   "outputs": [],
   "source": [
    "%%R\n",
    "suppressMessages(require(circular))\n",
    "suppressMessages(require(bpnreg))\n",
    "suppressMessages(require(tidyverse))\n",
    "\n",
    "p <- \"C:\\\\Users\\\\roryl\\\\repos\\\\DRN Interactions\\\\data\\\\derived\\\\brain_states_phase_responders.csv\"\n",
    "\n",
    "df <- suppressMessages(read_csv(p)) %>%\n",
    "  mutate(\n",
    "    ang = circular(mean_angle, units=\"radians\"),\n",
    "    oscillation=factor(oscillation, levels=c(\"delta\", \"theta\")),\n",
    "    neuron_type=factor(neuron_type, levels=c(\"SR\", \"SIR\", \"FF\"))\n",
    "    )\n"
   ]
  },
  {
   "cell_type": "code",
   "execution_count": 16,
   "metadata": {},
   "outputs": [
    {
     "name": "stdout",
     "output_type": "stream",
     "text": [
      "# A tibble: 3 x 4\n",
      "  neuron_type theta        var   rho\n",
      "  <fct>       <circular> <dbl> <dbl>\n",
      "1 SR          -1.951247  0.702 0.298\n",
      "2 SIR         -1.560890  0.848 0.152\n",
      "3 FF          -2.431734  0.556 0.444\n",
      "# A tibble: 3 x 4\n",
      "  neuron_type theta        var   rho\n",
      "  <fct>       <circular> <dbl> <dbl>\n",
      "1 SR          1.842788   0.562 0.438\n",
      "2 SIR         1.902326   0.714 0.286\n",
      "3 FF          1.750418   0.465 0.535\n"
     ]
    }
   ],
   "source": [
    "%%R\n",
    "# summary stats for delta\n",
    "df %>%\n",
    "  filter(oscillation==\"delta\", p < 0.05) %>%\n",
    "  group_by(neuron_type) %>%\n",
    "  summarise(\n",
    "    theta=circular::mean.circular(ang),\n",
    "    var=circular::var.circular(ang),\n",
    "    rho=circular::rho.circular(ang)\n",
    "    ) %>% print\n",
    "\n",
    "# summary stats for theta\n",
    "df %>%\n",
    "  filter(oscillation==\"theta\", p < 0.05) %>%\n",
    "  group_by(neuron_type) %>%\n",
    "  summarise(\n",
    "    theta=circular::mean.circular(ang),\n",
    "    var=circular::var.circular(ang),\n",
    "    rho=circular::rho.circular(ang)\n",
    "    ) %>% print"
   ]
  },
  {
   "cell_type": "code",
   "execution_count": 17,
   "metadata": {},
   "outputs": [
    {
     "name": "stdout",
     "output_type": "stream",
     "text": [
      "                             mean  mode   sd    LB    UB\n",
      "(Intercept)                 -2.03 -2.02 0.26 -2.56 -1.51\n",
      "neuron_typeSIR              -1.52 -1.63 0.74 -2.90  0.17\n",
      "neuron_typeFF               -2.50 -2.45 0.19 -2.88 -2.18\n",
      "neuron_typeSIRneuron_typeFF -2.57 -2.49 0.60  2.46  5.00\n",
      "                             mean  mode   sd    LB   UB\n",
      "neuron_typeSIR              -0.51 -0.75 0.78 -2.10 1.07\n",
      "neuron_typeFF                0.47  0.43 0.32 -0.20 1.07\n",
      "neuron_typeSIRneuron_typeFF  0.55  0.46 0.73 -1.02 1.94\n"
     ]
    }
   ],
   "source": [
    "%%R\n",
    "\n",
    "invisible(capture.output(\n",
    "  mod_delta <- bpnreg::bpnr(\n",
    "  ang ~ neuron_type,\n",
    "  data=filter(df, oscillation==\"delta\", p < 0.05)\n",
    "  )\n",
    "))\n",
    "  \n",
    "coef_delta <- bpnreg::coef_circ(\n",
    "  mod_delta, type=\"categorical\", units=\"radians\"\n",
    "  )\n",
    "print(round(coef_delta$Means, 2))\n",
    "print(round(coef_delta$Differences, 2))"
   ]
  },
  {
   "cell_type": "code",
   "execution_count": 18,
   "metadata": {},
   "outputs": [
    {
     "name": "stdout",
     "output_type": "stream",
     "text": [
      "                            mean mode   sd   LB   UB\n",
      "(Intercept)                 1.81 1.76 0.18 1.49 2.16\n",
      "neuron_typeSIR              1.87 1.88 0.54 0.86 2.97\n",
      "neuron_typeFF               1.71 1.64 0.19 1.35 2.08\n",
      "neuron_typeSIRneuron_typeFF 1.72 1.75 0.56 0.67 2.92\n",
      "                             mean  mode   sd    LB   UB\n",
      "neuron_typeSIR              -0.06 -0.04 0.57 -1.18 1.06\n",
      "neuron_typeFF                0.10  0.20 0.27 -0.37 0.69\n",
      "neuron_typeSIRneuron_typeFF  0.09  0.34 0.64 -1.30 1.28\n"
     ]
    }
   ],
   "source": [
    "%%R\n",
    "\n",
    "invisible(capture.output(\n",
    "  mod_theta <- bpnreg::bpnr(\n",
    "    ang ~ neuron_type,\n",
    "    data=filter(df, oscillation==\"theta\", p < 0.05)\n",
    "    )\n",
    "))\n",
    "coef_theta <- bpnreg::coef_circ(\n",
    "  mod_theta, type=\"categorical\", units=\"radians\"\n",
    "  )\n",
    "print(round(coef_theta$Means, 2))\n",
    "print(round(coef_theta$Differences, 2))"
   ]
  },
  {
   "cell_type": "code",
   "execution_count": 19,
   "metadata": {},
   "outputs": [
    {
     "name": "stdout",
     "output_type": "stream",
     "text": [
      "                  mean  mode   sd    LB    UB\n",
      "(Intercept)      -2.19 -2.26 0.17 -2.57 -1.88\n",
      "oscillationtheta  1.77  1.77 0.13  1.51  2.05\n",
      "                 mean mode   sd  LB   UB\n",
      "oscillationtheta 2.32  2.3 0.22 1.9 2.78\n"
     ]
    }
   ],
   "source": [
    "%%R\n",
    "invisible(capture.output(\n",
    "  mod_oscillation <-  bpnreg::bpnr(\n",
    "    ang ~ oscillation,\n",
    "    data=filter(df, p < 0.05)\n",
    "  )\n",
    "))\n",
    "coef_oscillation <- bpnreg::coef_circ(\n",
    "  mod_oscillation, type=\"categorical\", units=\"radians\"\n",
    ")\n",
    "print(round(coef_oscillation$Means, 2))\n",
    "print(round(coef_oscillation$Differences, 2))"
   ]
  },
  {
   "cell_type": "code",
   "execution_count": 18,
   "metadata": {},
   "outputs": [],
   "source": [
    "\n",
    "\n",
    "\n"
   ]
  },
  {
   "cell_type": "code",
   "execution_count": null,
   "metadata": {},
   "outputs": [],
   "source": []
  },
  {
   "cell_type": "code",
   "execution_count": null,
   "metadata": {},
   "outputs": [],
   "source": []
  }
 ],
 "metadata": {
  "kernelspec": {
   "display_name": "Python 3.8.13 ('drn38')",
   "language": "python",
   "name": "python3"
  },
  "language_info": {
   "codemirror_mode": {
    "name": "ipython",
    "version": 3
   },
   "file_extension": ".py",
   "mimetype": "text/x-python",
   "name": "python",
   "nbconvert_exporter": "python",
   "pygments_lexer": "ipython3",
   "version": "3.8.13"
  },
  "orig_nbformat": 4,
  "vscode": {
   "interpreter": {
    "hash": "83d85788087be4ab95a62fa43e95c13744f0a02d6feebc555b96a547158d0970"
   }
  }
 },
 "nbformat": 4,
 "nbformat_minor": 2
}
