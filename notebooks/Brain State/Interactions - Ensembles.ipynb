{
 "cells": [
  {
   "cell_type": "code",
   "execution_count": 87,
   "metadata": {},
   "outputs": [],
   "source": [
    "from drn_interactions.interactions.preprocessors import InteractionsPreprocessor\n",
    "from drn_interactions.interactions.loaders import StateInteractionsLoader\n",
    "from drn_interactions.interactions.pairwise import PairwiseCorr\n",
    "from drn_interactions.io import load_neurons, load_derived_generic\n",
    "import seaborn as sns\n",
    "import pandas as pd\n",
    "import numpy as np\n",
    "from drn_interactions.interactions.graph_clustering import SpectralCluster, ClusterRunner, ClusterEvaluation, ClusterResults\n",
    "import warnings\n",
    "from drn_interactions.config import Config, ExperimentInfo\n",
    "from tqdm import tqdm\n",
    "\n",
    "dd = Config.derived_data_dir / \"ensembles\"\n",
    "dd.mkdir(exist_ok=True)\n",
    "# sns.set_theme(style=\"ticks\", context=\"paper\")"
   ]
  },
  {
   "cell_type": "code",
   "execution_count": null,
   "metadata": {},
   "outputs": [],
   "source": [
    "sessions = ExperimentInfo.eeg_sessions\n",
    "\n",
    "preprocessor = InteractionsPreprocessor(z=True, minmax=False)\n",
    "evaluator = ClusterEvaluation()\n",
    "\n",
    "loader_fac = lambda session, state, bin_width: StateInteractionsLoader(\n",
    "    session_name=session, state=state, bin_width=bin_width,\n",
    ")\n",
    "corr_fac = lambda: PairwiseCorr(\n",
    "    remove_self_interactions=True,\n",
    "    rectify=True,\n",
    "    shuffle=False,\n",
    "    remove_duplicate_combs=True,\n",
    ")\n",
    "cluster_fac = lambda: SpectralCluster(\n",
    "    n_clusters=np.arange(2, 8), spectral_kws={\"affinity\": \"precomputed\"}, n_init=15\n",
    ")\n",
    "\n",
    "runner_fac = lambda session, state, bin_width: ClusterRunner(\n",
    "    loader=loader_fac(session=session, state=state, bin_width=bin_width),\n",
    "    preprocessor=preprocessor,\n",
    "    affinity_calculator=corr_fac(),\n",
    "    clusterer=cluster_fac(),\n",
    "    evalulator=evaluator,\n",
    ")"
   ]
  },
  {
   "cell_type": "code",
   "execution_count": null,
   "metadata": {},
   "outputs": [],
   "source": [
    "ensemble_frames = []\n",
    "ensemble_stats_frames = []\n",
    "\n",
    "for bin_width in (0.05, 0.1, 0.5, 1):\n",
    "    for state in (\"sw\", \"act\"):\n",
    "        for session in tqdm(sessions):\n",
    "\n",
    "            # calculate ensembles\n",
    "            runner = runner_fac(session=session, state=state, bin_width=bin_width)\n",
    "            with warnings.catch_warnings():\n",
    "                warnings.simplefilter(\"ignore\")\n",
    "                try:\n",
    "                    _, ensembles, _, ensemble_stats = runner.run(20)\n",
    "                except ValueError as e:\n",
    "                    print(e)\n",
    "                    print(session)\n",
    "\n",
    "            # add metadata and append to list of results\n",
    "            ensembles = ensembles.assign(session_name=session, state=state, bin_width=bin_width)\n",
    "            ensemble_stats = ensemble_stats.assign(session_name=session, state=state, bin_width=bin_width)\n",
    "            ensemble_stats_frames.append(ensemble_stats)\n",
    "            ensemble_frames.append(ensembles)\n",
    "\n",
    "df_ensembles = pd.concat(ensemble_frames).reset_index(drop=True)\n",
    "df_ensembles_stats = pd.concat(ensemble_stats_frames).reset_index(drop=True)\n",
    "\n",
    "df_ensembles_stats[\"ensemble_id\"] = pd.factorize(\n",
    "    df_ensembles_stats[\"ensemble\"].astype(str)\n",
    "    + df_ensembles_stats[\"session_name\"]\n",
    "    + df_ensembles_stats[\"state\"]\n",
    "    + df_ensembles_stats[\"bin_width\"].astype(str)\n",
    ")[0]\n",
    "df_ensembles_stats[\"ensemble_id\"] = np.where(\n",
    "    df_ensembles_stats[\"ensemble\"] == -1,\n",
    "    -1,\n",
    "    df_ensembles_stats[\"ensemble_id\"],\n",
    ")\n",
    "df_ensembles = (\n",
    "    df_ensembles.merge(\n",
    "    df_ensembles_stats[[\"session_name\", \"ensemble\", \"ensemble_id\", \"state\", \"bin_width\"]],\n",
    "    on=[\"session_name\", \"ensemble\", \"state\", \"bin_width\"]\n",
    "    )\n",
    ")\n",
    "\n",
    "df_ensembles.to_csv(dd / \"bs - ensembles.csv\", index=False)\n",
    "df_ensembles_stats.to_csv(dd / \"bs - stats.csv\", index=False)\n"
   ]
  },
  {
   "cell_type": "markdown",
   "metadata": {},
   "source": [
    "### Ensemble Properties\n",
    "\n",
    "Are the properties of ensembles different between the two states?\n",
    "\n",
    "Properties:\n",
    "- Size\n",
    "- Average Weight\n",
    "- Average Conductivity\n",
    "- Edge Expantion"
   ]
  },
  {
   "cell_type": "code",
   "execution_count": 104,
   "metadata": {},
   "outputs": [
    {
     "name": "stdout",
     "output_type": "stream",
     "text": [
      "\n",
      "size\n",
      " n_sw         24.00\n",
      "n_act        22.00\n",
      "Mean_sw       7.88\n",
      "Mean_act      8.77\n",
      "Diff          0.90\n",
      "U           263.00\n",
      "p             0.99\n",
      "dtype: float64\n",
      "\n",
      "average_weight\n",
      " n_sw         24.00\n",
      "n_act        22.00\n",
      "Mean_sw       0.34\n",
      "Mean_act      0.31\n",
      "Diff         -0.02\n",
      "U           280.00\n",
      "p             0.73\n",
      "dtype: float64\n",
      "\n",
      "conductance\n",
      " n_sw         24.00\n",
      "n_act        22.00\n",
      "Mean_sw       0.36\n",
      "Mean_act      0.43\n",
      "Diff          0.06\n",
      "U           212.00\n",
      "p             0.26\n",
      "dtype: float64\n"
     ]
    },
    {
     "data": {
      "image/png": "[encoded data removed]",
      "text/plain": [
       "<Figure size 288x108 with 3 Axes>"
      ]
     },
     "metadata": {},
     "output_type": "display_data"
    }
   ],
   "source": [
    "from drn_interactions.stats import mannwhitneyu_plusplus\n",
    "import matplotlib.pyplot as plt\n",
    "from drn_interactions.plots import PAL_GREY_BLACK\n",
    "\n",
    "def compare_metric(df, metric):\n",
    "    x = df.query(\"ensemble_id != -1 and state == 'sw'\")[metric].values\n",
    "    y = df.query(\"ensemble_id != -1 and state == 'act'\")[metric].values\n",
    "    return mannwhitneyu_plusplus(x, y, names=(\"sw\", \"act\")).round(2)\n",
    "\n",
    "def plot_metric(df, metric, ax, **kwargs):\n",
    "    return (\n",
    "        df\n",
    "        .query(\"ensemble_id != -1\")\n",
    "        .pipe((sns.barplot, \"data\"), x=\"state\", y=metric, hue=\"state\", ax=ax, **kwargs)\n",
    "    )\n",
    "\n",
    "\n",
    "df_stats = df_ensembles_stats.query(\"bin_width == 1\")\n",
    "\n",
    "f = plt.figure(figsize=(4, 1.5), constrained_layout=True)\n",
    "axes = f.subplots(1, 3, sharex=True)\n",
    "\n",
    "for i, (metric, lab, ylab) in enumerate(zip(\n",
    "    (\"size\", \"average_weight\", \"conductance\"), \n",
    "    (\"Size\", \"Average Weight\", \"Conductance\"),\n",
    "    (\"\", \"\", r\"\"),\n",
    "    )):\n",
    "    res = compare_metric(df_stats, metric)\n",
    "    print(f\"\\n{metric}\\n\", res)\n",
    "    ax = axes[i]\n",
    "    plot_metric(df_stats, metric, ax, palette=PAL_GREY_BLACK)\n",
    "    ax.legend().remove()\n",
    "    ax.set_xlabel(\"\")\n",
    "    ax.set_ylabel(ylab)\n",
    "    ax.set_title(lab)\n",
    "    ax.set_xticklabels([\"Inact\", \"Act\"])\n",
    "\n",
    "sns.despine(fig=f)\n",
    "    "
   ]
  },
  {
   "cell_type": "code",
   "execution_count": null,
   "metadata": {},
   "outputs": [],
   "source": []
  }
 ],
 "metadata": {
  "kernelspec": {
   "display_name": "Python 3.8.13 ('drn38')",
   "language": "python",
   "name": "python3"
  },
  "language_info": {
   "codemirror_mode": {
    "name": "ipython",
    "version": 3
   },
   "file_extension": ".py",
   "mimetype": "text/x-python",
   "name": "python",
   "nbconvert_exporter": "python",
   "pygments_lexer": "ipython3",
   "version": "3.8.13"
  },
  "orig_nbformat": 4,
  "vscode": {
   "interpreter": {
    "hash": "83d85788087be4ab95a62fa43e95c13744f0a02d6feebc555b96a547158d0970"
   }
  }
 },
 "nbformat": 4,
 "nbformat_minor": 2
}
