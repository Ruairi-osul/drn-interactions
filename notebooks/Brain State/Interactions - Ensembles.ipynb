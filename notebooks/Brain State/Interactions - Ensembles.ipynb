{
 "cells": [
  {
   "cell_type": "code",
   "execution_count": 1,
   "metadata": {},
   "outputs": [
    {
     "name": "stderr",
     "output_type": "stream",
     "text": [
      "c:\\Users\\roryl\\.conda\\envs\\drn38\\lib\\site-packages\\scipy\\__init__.py:146: UserWarning: A NumPy version >=1.16.5 and <1.23.0 is required for this version of SciPy (detected version 1.23.1\n",
      "  warnings.warn(f\"A NumPy version >={np_minversion} and <{np_maxversion}\"\n",
      "c:\\Users\\roryl\\.conda\\envs\\drn38\\lib\\site-packages\\outdated\\utils.py:14: OutdatedPackageWarning: The package pingouin is out of date. Your version is 0.5.1, the latest is 0.5.2.\n",
      "Set the environment variable OUTDATED_IGNORE=1 to disable these warnings.\n",
      "  return warn(\n"
     ]
    }
   ],
   "source": [
    "from drn_interactions.interactions.preprocessors import InteractionsPreprocessor\n",
    "from drn_interactions.interactions.loaders import StateInteractionsLoader\n",
    "from drn_interactions.interactions.pairwise import PairwiseCorr\n",
    "from drn_interactions.io import load_neurons, load_derived_generic\n",
    "import seaborn as sns\n",
    "import pandas as pd\n",
    "import numpy as np\n",
    "from drn_interactions.interactions.graph_clustering import SpectralCluster, ClusterRunner, ClusterEvaluation, ClusterResults\n",
    "import warnings\n",
    "from drn_interactions.config import Config, ExperimentInfo\n",
    "from tqdm import tqdm\n",
    "\n",
    "dd = Config.derived_data_dir / \"ensembles\"\n",
    "dd.mkdir(exist_ok=True)"
   ]
  },
  {
   "cell_type": "code",
   "execution_count": 8,
   "metadata": {},
   "outputs": [],
   "source": [
    "sessions = ExperimentInfo.eeg_sessions\n",
    "\n",
    "preprocessor = InteractionsPreprocessor(z=True, minmax=False)\n",
    "evaluator = ClusterEvaluation()\n",
    "\n",
    "loader_fac = lambda session, state, bin_width: StateInteractionsLoader(\n",
    "    session_name=session, state=state, bin_width=bin_width,\n",
    ")\n",
    "corr_fac = lambda: PairwiseCorr(\n",
    "    remove_self_interactions=True,\n",
    "    rectify=True,\n",
    "    shuffle=False,\n",
    "    remove_duplicate_combs=True,\n",
    ")\n",
    "cluster_fac = lambda: SpectralCluster(\n",
    "    n_clusters=np.arange(2, 8), spectral_kws={\"affinity\": \"precomputed\"}, n_init=15\n",
    ")\n",
    "\n",
    "runner_fac = lambda session, state, bin_width: ClusterRunner(\n",
    "    loader=loader_fac(session=session, state=state, bin_width=bin_width),\n",
    "    preprocessor=preprocessor,\n",
    "    affinity_calculator=corr_fac(),\n",
    "    clusterer=cluster_fac(),\n",
    "    evalulator=evaluator,\n",
    ")"
   ]
  },
  {
   "cell_type": "code",
   "execution_count": 9,
   "metadata": {},
   "outputs": [
    {
     "name": "stderr",
     "output_type": "stream",
     "text": [
      " 93%|█████████▎| 14/15 [3:05:54<10:13, 613.80s/it]  "
     ]
    },
    {
     "name": "stdout",
     "output_type": "stream",
     "text": [
      "attempt to get argmax of an empty sequence\n",
      "acute_12\n"
     ]
    },
    {
     "name": "stderr",
     "output_type": "stream",
     "text": [
      "100%|██████████| 15/15 [3:21:02<00:00, 804.17s/it]\n",
      " 33%|███▎      | 5/15 [53:48<1:29:25, 536.54s/it]"
     ]
    },
    {
     "name": "stdout",
     "output_type": "stream",
     "text": [
      "attempt to get argmax of an empty sequence\n",
      "ESHOCK_08_LOC1\n"
     ]
    },
    {
     "name": "stderr",
     "output_type": "stream",
     "text": [
      " 67%|██████▋   | 10/15 [1:51:56<45:58, 551.79s/it] "
     ]
    },
    {
     "name": "stdout",
     "output_type": "stream",
     "text": [
      "attempt to get argmax of an empty sequence\n",
      "hamilton_09\n"
     ]
    },
    {
     "name": "stderr",
     "output_type": "stream",
     "text": [
      "100%|██████████| 15/15 [3:06:38<00:00, 746.55s/it]\n",
      " 93%|█████████▎| 14/15 [3:04:56<10:11, 611.18s/it]  "
     ]
    },
    {
     "name": "stdout",
     "output_type": "stream",
     "text": [
      "attempt to get argmax of an empty sequence\n",
      "acute_12\n"
     ]
    },
    {
     "name": "stderr",
     "output_type": "stream",
     "text": [
      "100%|██████████| 15/15 [3:19:58<00:00, 799.87s/it]\n",
      " 33%|███▎      | 5/15 [53:23<1:28:33, 531.31s/it]"
     ]
    },
    {
     "name": "stdout",
     "output_type": "stream",
     "text": [
      "attempt to get argmax of an empty sequence\n",
      "ESHOCK_08_LOC1\n"
     ]
    },
    {
     "name": "stderr",
     "output_type": "stream",
     "text": [
      " 67%|██████▋   | 10/15 [1:50:38<45:19, 543.86s/it] "
     ]
    },
    {
     "name": "stdout",
     "output_type": "stream",
     "text": [
      "attempt to get argmax of an empty sequence\n",
      "hamilton_09\n"
     ]
    },
    {
     "name": "stderr",
     "output_type": "stream",
     "text": [
      "100%|██████████| 15/15 [3:04:10<00:00, 736.73s/it]\n",
      " 93%|█████████▎| 14/15 [3:02:28<10:02, 602.44s/it]  "
     ]
    },
    {
     "name": "stdout",
     "output_type": "stream",
     "text": [
      "attempt to get argmax of an empty sequence\n",
      "acute_12\n"
     ]
    },
    {
     "name": "stderr",
     "output_type": "stream",
     "text": [
      "100%|██████████| 15/15 [3:17:17<00:00, 789.15s/it]\n",
      " 33%|███▎      | 5/15 [52:54<1:27:55, 527.53s/it]"
     ]
    },
    {
     "name": "stdout",
     "output_type": "stream",
     "text": [
      "attempt to get argmax of an empty sequence\n",
      "ESHOCK_08_LOC1\n"
     ]
    },
    {
     "name": "stderr",
     "output_type": "stream",
     "text": [
      " 67%|██████▋   | 10/15 [1:50:00<45:11, 542.27s/it] "
     ]
    },
    {
     "name": "stdout",
     "output_type": "stream",
     "text": [
      "attempt to get argmax of an empty sequence\n",
      "hamilton_09\n"
     ]
    },
    {
     "name": "stderr",
     "output_type": "stream",
     "text": [
      "100%|██████████| 15/15 [3:03:16<00:00, 733.10s/it]\n",
      " 93%|█████████▎| 14/15 [3:03:17<10:07, 607.95s/it]  "
     ]
    },
    {
     "name": "stdout",
     "output_type": "stream",
     "text": [
      "attempt to get argmax of an empty sequence\n",
      "acute_12\n"
     ]
    },
    {
     "name": "stderr",
     "output_type": "stream",
     "text": [
      "100%|██████████| 15/15 [3:18:14<00:00, 792.94s/it]\n",
      " 33%|███▎      | 5/15 [53:28<1:28:54, 533.46s/it]"
     ]
    },
    {
     "name": "stdout",
     "output_type": "stream",
     "text": [
      "attempt to get argmax of an empty sequence\n",
      "ESHOCK_08_LOC1\n"
     ]
    },
    {
     "name": "stderr",
     "output_type": "stream",
     "text": [
      " 67%|██████▋   | 10/15 [1:51:12<45:42, 548.54s/it] "
     ]
    },
    {
     "name": "stdout",
     "output_type": "stream",
     "text": [
      "attempt to get argmax of an empty sequence\n",
      "hamilton_09\n"
     ]
    },
    {
     "name": "stderr",
     "output_type": "stream",
     "text": [
      "100%|██████████| 15/15 [3:05:07<00:00, 740.50s/it]\n"
     ]
    },
    {
     "ename": "KeyError",
     "evalue": "'bin_width'",
     "output_type": "error",
     "traceback": [
      "\u001b[1;31m---------------------------------------------------------------------------\u001b[0m",
      "\u001b[1;31mKeyError\u001b[0m                                  Traceback (most recent call last)",
      "File \u001b[1;32mc:\\Users\\roryl\\.conda\\envs\\drn38\\lib\\site-packages\\pandas\\core\\indexes\\base.py:3621\u001b[0m, in \u001b[0;36mIndex.get_loc\u001b[1;34m(self, key, method, tolerance)\u001b[0m\n\u001b[0;32m   3620\u001b[0m \u001b[39mtry\u001b[39;00m:\n\u001b[1;32m-> 3621\u001b[0m     \u001b[39mreturn\u001b[39;00m \u001b[39mself\u001b[39;49m\u001b[39m.\u001b[39;49m_engine\u001b[39m.\u001b[39;49mget_loc(casted_key)\n\u001b[0;32m   3622\u001b[0m \u001b[39mexcept\u001b[39;00m \u001b[39mKeyError\u001b[39;00m \u001b[39mas\u001b[39;00m err:\n",
      "File \u001b[1;32mc:\\Users\\roryl\\.conda\\envs\\drn38\\lib\\site-packages\\pandas\\_libs\\index.pyx:136\u001b[0m, in \u001b[0;36mpandas._libs.index.IndexEngine.get_loc\u001b[1;34m()\u001b[0m\n",
      "File \u001b[1;32mc:\\Users\\roryl\\.conda\\envs\\drn38\\lib\\site-packages\\pandas\\_libs\\index.pyx:163\u001b[0m, in \u001b[0;36mpandas._libs.index.IndexEngine.get_loc\u001b[1;34m()\u001b[0m\n",
      "File \u001b[1;32mpandas\\_libs\\hashtable_class_helper.pxi:5198\u001b[0m, in \u001b[0;36mpandas._libs.hashtable.PyObjectHashTable.get_item\u001b[1;34m()\u001b[0m\n",
      "File \u001b[1;32mpandas\\_libs\\hashtable_class_helper.pxi:5206\u001b[0m, in \u001b[0;36mpandas._libs.hashtable.PyObjectHashTable.get_item\u001b[1;34m()\u001b[0m\n",
      "\u001b[1;31mKeyError\u001b[0m: 'bin_width'",
      "\nThe above exception was the direct cause of the following exception:\n",
      "\u001b[1;31mKeyError\u001b[0m                                  Traceback (most recent call last)",
      "\u001b[1;32mc:\\Users\\roryl\\repos\\DRN Interactions\\notebooks\\Brain State\\Interactions - Ensembles.ipynb Cell 3\u001b[0m in \u001b[0;36m<cell line: 32>\u001b[1;34m()\u001b[0m\n\u001b[0;32m     <a href='vscode-notebook-cell:/c%3A/Users/roryl/repos/DRN%20Interactions/notebooks/Brain%20State/Interactions%20-%20Ensembles.ipynb#W2sZmlsZQ%3D%3D?line=27'>28</a>\u001b[0m df_ensembles \u001b[39m=\u001b[39m pd\u001b[39m.\u001b[39mconcat(ensemble_frames)\u001b[39m.\u001b[39mreset_index(drop\u001b[39m=\u001b[39m\u001b[39mTrue\u001b[39;00m)\n\u001b[0;32m     <a href='vscode-notebook-cell:/c%3A/Users/roryl/repos/DRN%20Interactions/notebooks/Brain%20State/Interactions%20-%20Ensembles.ipynb#W2sZmlsZQ%3D%3D?line=28'>29</a>\u001b[0m df_ensembles_stats \u001b[39m=\u001b[39m pd\u001b[39m.\u001b[39mconcat(ensemble_stats_frames)\u001b[39m.\u001b[39mreset_index(drop\u001b[39m=\u001b[39m\u001b[39mTrue\u001b[39;00m)\n\u001b[1;32m---> <a href='vscode-notebook-cell:/c%3A/Users/roryl/repos/DRN%20Interactions/notebooks/Brain%20State/Interactions%20-%20Ensembles.ipynb#W2sZmlsZQ%3D%3D?line=31'>32</a>\u001b[0m df_ensembles_stats[\u001b[39m\"\u001b[39m\u001b[39mensemble_id\u001b[39m\u001b[39m\"\u001b[39m] \u001b[39m=\u001b[39m pd\u001b[39m.\u001b[39mfactorize(df_ensembles_stats[\u001b[39m\"\u001b[39m\u001b[39mensemble\u001b[39m\u001b[39m\"\u001b[39m]\u001b[39m.\u001b[39mastype(\u001b[39mstr\u001b[39m) \u001b[39m+\u001b[39m df_ensembles_stats[\u001b[39m\"\u001b[39m\u001b[39msession_name\u001b[39m\u001b[39m\"\u001b[39m] \u001b[39m+\u001b[39m df_ensembles_stats[\u001b[39m\"\u001b[39m\u001b[39mstate\u001b[39m\u001b[39m\"\u001b[39m] \u001b[39m+\u001b[39m df_ensembles_stats[\u001b[39m\"\u001b[39;49m\u001b[39mbin_width\u001b[39;49m\u001b[39m\"\u001b[39;49m])[\u001b[39m0\u001b[39m]\n\u001b[0;32m     <a href='vscode-notebook-cell:/c%3A/Users/roryl/repos/DRN%20Interactions/notebooks/Brain%20State/Interactions%20-%20Ensembles.ipynb#W2sZmlsZQ%3D%3D?line=32'>33</a>\u001b[0m df_ensembles_stats[\u001b[39m\"\u001b[39m\u001b[39mensemble_id\u001b[39m\u001b[39m\"\u001b[39m] \u001b[39m=\u001b[39m np\u001b[39m.\u001b[39mwhere(\n\u001b[0;32m     <a href='vscode-notebook-cell:/c%3A/Users/roryl/repos/DRN%20Interactions/notebooks/Brain%20State/Interactions%20-%20Ensembles.ipynb#W2sZmlsZQ%3D%3D?line=33'>34</a>\u001b[0m     df_ensembles_stats[\u001b[39m\"\u001b[39m\u001b[39mensemble\u001b[39m\u001b[39m\"\u001b[39m] \u001b[39m==\u001b[39m \u001b[39m-\u001b[39m\u001b[39m1\u001b[39m,\n\u001b[0;32m     <a href='vscode-notebook-cell:/c%3A/Users/roryl/repos/DRN%20Interactions/notebooks/Brain%20State/Interactions%20-%20Ensembles.ipynb#W2sZmlsZQ%3D%3D?line=34'>35</a>\u001b[0m     \u001b[39m-\u001b[39m\u001b[39m1\u001b[39m,\n\u001b[0;32m     <a href='vscode-notebook-cell:/c%3A/Users/roryl/repos/DRN%20Interactions/notebooks/Brain%20State/Interactions%20-%20Ensembles.ipynb#W2sZmlsZQ%3D%3D?line=35'>36</a>\u001b[0m     df_ensembles_stats[\u001b[39m\"\u001b[39m\u001b[39mensemble_id\u001b[39m\u001b[39m\"\u001b[39m],\n\u001b[0;32m     <a href='vscode-notebook-cell:/c%3A/Users/roryl/repos/DRN%20Interactions/notebooks/Brain%20State/Interactions%20-%20Ensembles.ipynb#W2sZmlsZQ%3D%3D?line=36'>37</a>\u001b[0m )\n\u001b[0;32m     <a href='vscode-notebook-cell:/c%3A/Users/roryl/repos/DRN%20Interactions/notebooks/Brain%20State/Interactions%20-%20Ensembles.ipynb#W2sZmlsZQ%3D%3D?line=37'>38</a>\u001b[0m df_ensembles \u001b[39m=\u001b[39m (\n\u001b[0;32m     <a href='vscode-notebook-cell:/c%3A/Users/roryl/repos/DRN%20Interactions/notebooks/Brain%20State/Interactions%20-%20Ensembles.ipynb#W2sZmlsZQ%3D%3D?line=38'>39</a>\u001b[0m     df_ensembles_stats\n\u001b[0;32m     <a href='vscode-notebook-cell:/c%3A/Users/roryl/repos/DRN%20Interactions/notebooks/Brain%20State/Interactions%20-%20Ensembles.ipynb#W2sZmlsZQ%3D%3D?line=39'>40</a>\u001b[0m     \u001b[39m# .rename(columns=dict(community=\"ensemble\"))\u001b[39;00m\n\u001b[0;32m     <a href='vscode-notebook-cell:/c%3A/Users/roryl/repos/DRN%20Interactions/notebooks/Brain%20State/Interactions%20-%20Ensembles.ipynb#W2sZmlsZQ%3D%3D?line=40'>41</a>\u001b[0m     [[\u001b[39m\"\u001b[39m\u001b[39msession_name\u001b[39m\u001b[39m\"\u001b[39m, \u001b[39m\"\u001b[39m\u001b[39mensemble\u001b[39m\u001b[39m\"\u001b[39m, \u001b[39m\"\u001b[39m\u001b[39mensemble_id\u001b[39m\u001b[39m\"\u001b[39m, \u001b[39m\"\u001b[39m\u001b[39mstate\u001b[39m\u001b[39m\"\u001b[39m]]\n\u001b[0;32m     <a href='vscode-notebook-cell:/c%3A/Users/roryl/repos/DRN%20Interactions/notebooks/Brain%20State/Interactions%20-%20Ensembles.ipynb#W2sZmlsZQ%3D%3D?line=41'>42</a>\u001b[0m     \u001b[39m.\u001b[39mmerge(df_ensembles, on\u001b[39m=\u001b[39m[\u001b[39m\"\u001b[39m\u001b[39msession_name\u001b[39m\u001b[39m\"\u001b[39m, \u001b[39m\"\u001b[39m\u001b[39mensemble\u001b[39m\u001b[39m\"\u001b[39m, \u001b[39m\"\u001b[39m\u001b[39mstate\u001b[39m\u001b[39m\"\u001b[39m])\n\u001b[0;32m     <a href='vscode-notebook-cell:/c%3A/Users/roryl/repos/DRN%20Interactions/notebooks/Brain%20State/Interactions%20-%20Ensembles.ipynb#W2sZmlsZQ%3D%3D?line=42'>43</a>\u001b[0m )\n",
      "File \u001b[1;32mc:\\Users\\roryl\\.conda\\envs\\drn38\\lib\\site-packages\\pandas\\core\\frame.py:3505\u001b[0m, in \u001b[0;36mDataFrame.__getitem__\u001b[1;34m(self, key)\u001b[0m\n\u001b[0;32m   3503\u001b[0m \u001b[39mif\u001b[39;00m \u001b[39mself\u001b[39m\u001b[39m.\u001b[39mcolumns\u001b[39m.\u001b[39mnlevels \u001b[39m>\u001b[39m \u001b[39m1\u001b[39m:\n\u001b[0;32m   3504\u001b[0m     \u001b[39mreturn\u001b[39;00m \u001b[39mself\u001b[39m\u001b[39m.\u001b[39m_getitem_multilevel(key)\n\u001b[1;32m-> 3505\u001b[0m indexer \u001b[39m=\u001b[39m \u001b[39mself\u001b[39;49m\u001b[39m.\u001b[39;49mcolumns\u001b[39m.\u001b[39;49mget_loc(key)\n\u001b[0;32m   3506\u001b[0m \u001b[39mif\u001b[39;00m is_integer(indexer):\n\u001b[0;32m   3507\u001b[0m     indexer \u001b[39m=\u001b[39m [indexer]\n",
      "File \u001b[1;32mc:\\Users\\roryl\\.conda\\envs\\drn38\\lib\\site-packages\\pandas\\core\\indexes\\base.py:3623\u001b[0m, in \u001b[0;36mIndex.get_loc\u001b[1;34m(self, key, method, tolerance)\u001b[0m\n\u001b[0;32m   3621\u001b[0m     \u001b[39mreturn\u001b[39;00m \u001b[39mself\u001b[39m\u001b[39m.\u001b[39m_engine\u001b[39m.\u001b[39mget_loc(casted_key)\n\u001b[0;32m   3622\u001b[0m \u001b[39mexcept\u001b[39;00m \u001b[39mKeyError\u001b[39;00m \u001b[39mas\u001b[39;00m err:\n\u001b[1;32m-> 3623\u001b[0m     \u001b[39mraise\u001b[39;00m \u001b[39mKeyError\u001b[39;00m(key) \u001b[39mfrom\u001b[39;00m \u001b[39merr\u001b[39;00m\n\u001b[0;32m   3624\u001b[0m \u001b[39mexcept\u001b[39;00m \u001b[39mTypeError\u001b[39;00m:\n\u001b[0;32m   3625\u001b[0m     \u001b[39m# If we have a listlike key, _check_indexing_error will raise\u001b[39;00m\n\u001b[0;32m   3626\u001b[0m     \u001b[39m#  InvalidIndexError. Otherwise we fall through and re-raise\u001b[39;00m\n\u001b[0;32m   3627\u001b[0m     \u001b[39m#  the TypeError.\u001b[39;00m\n\u001b[0;32m   3628\u001b[0m     \u001b[39mself\u001b[39m\u001b[39m.\u001b[39m_check_indexing_error(key)\n",
      "\u001b[1;31mKeyError\u001b[0m: 'bin_width'"
     ]
    }
   ],
   "source": [
    "ensemble_frames = []\n",
    "ensemble_stats_frames = []\n",
    "\n",
    "for bin_width in (0.05, 0.1, 0.5, 1):\n",
    "    for state in (\"sw\", \"act\"):\n",
    "        for session in tqdm(sessions):\n",
    "\n",
    "            # calculate ensembles\n",
    "            runner = runner_fac(session=session, state=state, bin_width=bin_width)\n",
    "            with warnings.catch_warnings():\n",
    "                warnings.simplefilter(\"ignore\")\n",
    "                try:\n",
    "                    _, ensembles, _, ensemble_stats = runner.run(20)\n",
    "                except ValueError as e:\n",
    "                    print(e)\n",
    "                    print(session)\n",
    "\n",
    "            # add metadata and append to list of results\n",
    "            ensembles = ensembles.assign(session_name=session, state=state, bin_width=bin_width)\n",
    "            ensemble_stats = ensemble_stats.assign(session_name=session, state=state, bin_width=bin_width)\n",
    "            ensemble_stats_frames.append(ensemble_stats)\n",
    "            ensemble_frames.append(ensembles)\n",
    "\n",
    "df_ensembles = pd.concat(ensemble_frames).reset_index(drop=True)\n",
    "df_ensembles_stats = pd.concat(ensemble_stats_frames).reset_index(drop=True)\n",
    "\n",
    "df_ensembles_stats[\"ensemble_id\"] = pd.factorize(\n",
    "    df_ensembles_stats[\"ensemble\"].astype(str)\n",
    "    + df_ensembles_stats[\"session_name\"]\n",
    "    + df_ensembles_stats[\"state\"]\n",
    "    + df_ensembles_stats[\"bin_width\"].astype(str)\n",
    ")[0]\n",
    "df_ensembles_stats[\"ensemble_id\"] = np.where(\n",
    "    df_ensembles_stats[\"ensemble\"] == -1,\n",
    "    -1,\n",
    "    df_ensembles_stats[\"ensemble_id\"],\n",
    ")\n",
    "df_ensembles = (\n",
    "    df_ensembles_stats\n",
    "    [[\"session_name\", \"ensemble\", \"ensemble_id\", \"state\"]].merge(\n",
    "        df_ensembles, on=[\"session_name\", \"ensemble\", \"state\"]\n",
    "    )\n",
    ")\n",
    "\n",
    "\n",
    "df_ensembles.to_csv(dd / \"bs - ensembles.csv\", index=False)\n",
    "df_ensembles_stats.to_csv(dd / \"bs - stats.csv\", index=False)\n"
   ]
  },
  {
   "cell_type": "code",
   "execution_count": 62,
   "metadata": {},
   "outputs": [
    {
     "data": {
      "text/plain": [
       "<AxesSubplot:xlabel='bin_width', ylabel='Number of Ensembles'>"
      ]
     },
     "execution_count": 62,
     "metadata": {},
     "output_type": "execute_result"
    },
    {
     "data": {
      "image/png": "[encoded data removed]",
      "text/plain": [
       "<Figure size 432x288 with 1 Axes>"
      ]
     },
     "metadata": {
      "needs_background": "light"
     },
     "output_type": "display_data"
    }
   ],
   "source": [
    "(\n",
    "    df_ensembles\n",
    "    .groupby([\"session_name\", \"state\", \"bin_width\"])\n",
    "    [\"ensemble_id\"]\n",
    "    .nunique()\n",
    "    .subtract(1)\n",
    "    .to_frame(\"Number of Ensembles\")\n",
    "    .reset_index()\n",
    "    .pipe((sns.pointplot, \"data\"), x=\"bin_width\", y=\"Number of Ensembles\", hue=\"state\", estimator=np.mean, dodge=True)\n",
    ")"
   ]
  },
  {
   "cell_type": "code",
   "execution_count": 63,
   "metadata": {},
   "outputs": [],
   "source": [
    "import seaborn as sns\n",
    "import pingouin as pg\n",
    "\n",
    "dfp = (\n",
    "    df_ensembles\n",
    "    .groupby([\"session_name\", \"state\"])[\"ensemble_id\"]\n",
    "    .nunique()\n",
    "    .subtract(1)\n",
    "    .to_frame(\"Num Ensembles\")\n",
    "    .reset_index()\n",
    "    # .pivot(index=\"session_name\", columns=\"state\", values=\"Num Ensembles\")\n",
    "    # .pipe((sns.barplot, \"data\"), x=\"state\", y=\"Num Ensembles\", hue=\"state\")\n",
    ")"
   ]
  },
  {
   "cell_type": "code",
   "execution_count": 64,
   "metadata": {},
   "outputs": [
    {
     "name": "stderr",
     "output_type": "stream",
     "text": [
      "c:\\Users\\roryl\\.conda\\envs\\drn38\\lib\\site-packages\\scipy\\stats\\morestats.py:3141: UserWarning: Exact p-value calculation does not work if there are ties. Switching to normal approximation.\n",
      "  warnings.warn(\"Exact p-value calculation does not work if there are \"\n",
      "c:\\Users\\roryl\\.conda\\envs\\drn38\\lib\\site-packages\\scipy\\stats\\morestats.py:3155: UserWarning: Sample size too small for normal approximation.\n",
      "  warnings.warn(\"Sample size too small for normal approximation.\")\n"
     ]
    },
    {
     "data": {
      "text/plain": [
       "n_sw        15.000000\n",
       "n_act       15.000000\n",
       "Mean_sw      3.800000\n",
       "Mean_act     2.533333\n",
       "Diff        -1.266667\n",
       "U           13.000000\n",
       "p            0.259136\n",
       "dtype: float64"
      ]
     },
     "execution_count": 64,
     "metadata": {},
     "output_type": "execute_result"
    }
   ],
   "source": [
    "from scipy.stats import wilcoxon\n",
    "from drn_interactions.stats import mannwhitneyu_plusplus\n",
    "\n",
    "piv = dfp.pivot(index=\"session_name\", columns=\"state\", values=\"Num Ensembles\")\n",
    "x = piv.sw\n",
    "y = piv.act\n",
    "mannwhitneyu_plusplus(x, y, names=(\"sw\", \"act\"), compare_f=wilcoxon)"
   ]
  },
  {
   "cell_type": "code",
   "execution_count": 40,
   "metadata": {},
   "outputs": [
    {
     "data": {
      "text/plain": [
       "<AxesSubplot:xlabel='state', ylabel='Num Ensembles'>"
      ]
     },
     "execution_count": 40,
     "metadata": {},
     "output_type": "execute_result"
    },
    {
     "data": {
      "image/png": "[encoded data removed]",
      "text/plain": [
       "<Figure size 400x400 with 1 Axes>"
      ]
     },
     "metadata": {
      "needs_background": "light"
     },
     "output_type": "display_data"
    }
   ],
   "source": [
    "pg.plot_paired(dfp, dv=\"Num Ensembles\", within=\"state\", subject=\"session_name\")"
   ]
  },
  {
   "cell_type": "code",
   "execution_count": 43,
   "metadata": {},
   "outputs": [
    {
     "data": {
      "text/plain": [
       "<AxesSubplot:xlabel='state', ylabel='average_degree'>"
      ]
     },
     "execution_count": 43,
     "metadata": {},
     "output_type": "execute_result"
    },
    {
     "data": {
      "image/png": "[encoded data removed]",
      "text/plain": [
       "<Figure size 432x288 with 1 Axes>"
      ]
     },
     "metadata": {
      "needs_background": "light"
     },
     "output_type": "display_data"
    }
   ],
   "source": [
    "(\n",
    "    df_ensembles_stats.query(\"ensemble_id != -1\")\n",
    "    .pipe((sns.barplot, \"data\"), x=\"state\", y=\"average_degree\", hue=\"state\")\n",
    ")"
   ]
  },
  {
   "cell_type": "code",
   "execution_count": 44,
   "metadata": {},
   "outputs": [
    {
     "data": {
      "text/plain": [
       "Index(['ensemble_orig', 'size', 'average_degree', 'average_weight',\n",
       "       'normalized_cut_size', 'internal_density', 'cut_size', 'conductance',\n",
       "       'edge_expantion', 'average_degree_p', 'average_weight_p',\n",
       "       'normalized_cut_size_p', 'conductance_p', 'edge_expantion_p',\n",
       "       'ensemble', 'session_name', 'state', 'ensemble_id'],\n",
       "      dtype='object')"
      ]
     },
     "execution_count": 44,
     "metadata": {},
     "output_type": "execute_result"
    }
   ],
   "source": [
    "df_ensembles_stats.columns"
   ]
  },
  {
   "cell_type": "code",
   "execution_count": 61,
   "metadata": {},
   "outputs": [
    {
     "name": "stdout",
     "output_type": "stream",
     "text": [
      "edge_expantion\n",
      "n_sw         26.000000\n",
      "n_act        19.000000\n",
      "Mean_sw       0.867305\n",
      "Mean_act      1.111872\n",
      "Diff          0.244567\n",
      "U           181.000000\n",
      "p             0.132239\n",
      "dtype: float64\n"
     ]
    },
    {
     "data": {
      "text/plain": [
       "<AxesSubplot:xlabel='state', ylabel='edge_expantion'>"
      ]
     },
     "execution_count": 61,
     "metadata": {},
     "output_type": "execute_result"
    },
    {
     "data": {
      "image/png": "[encoded data removed]",
      "text/plain": [
       "<Figure size 432x288 with 1 Axes>"
      ]
     },
     "metadata": {
      "needs_background": "light"
     },
     "output_type": "display_data"
    }
   ],
   "source": [
    "metric = \"edge_expantion\"\n",
    "\n",
    "x = df_ensembles_stats.query(\"ensemble_id != -1 and state == 'sw'\")[metric].values\n",
    "y = df_ensembles_stats.query(\"ensemble_id != -1 and state == 'act'\")[metric].values\n",
    "print(metric)\n",
    "print(mannwhitneyu_plusplus(x, y, names=(\"sw\", \"act\")))\n",
    "\n",
    "(\n",
    "    df_ensembles_stats.query(\"ensemble_id != -1\")\n",
    "    .pipe((sns.barplot, \"data\"), x=\"state\", y=metric, hue=\"state\", estimator=np.median)\n",
    ")"
   ]
  },
  {
   "cell_type": "code",
   "execution_count": 62,
   "metadata": {},
   "outputs": [
    {
     "name": "stdout",
     "output_type": "stream",
     "text": [
      "conductance\n",
      "n_sw         26.000000\n",
      "n_act        19.000000\n",
      "Mean_sw       0.361345\n",
      "Mean_act      0.426921\n",
      "Diff          0.065576\n",
      "U           194.000000\n",
      "p             0.227600\n",
      "dtype: float64\n"
     ]
    },
    {
     "data": {
      "text/plain": [
       "<AxesSubplot:xlabel='state', ylabel='conductance'>"
      ]
     },
     "execution_count": 62,
     "metadata": {},
     "output_type": "execute_result"
    },
    {
     "data": {
      "image/png": "[encoded data removed]",
      "text/plain": [
       "<Figure size 432x288 with 1 Axes>"
      ]
     },
     "metadata": {
      "needs_background": "light"
     },
     "output_type": "display_data"
    }
   ],
   "source": [
    "metric = \"conductance\"\n",
    "\n",
    "x = df_ensembles_stats.query(\"ensemble_id != -1 and state == 'sw'\")[metric].values\n",
    "y = df_ensembles_stats.query(\"ensemble_id != -1 and state == 'act'\")[metric].values\n",
    "print(metric)\n",
    "print(mannwhitneyu_plusplus(x, y, names=(\"sw\", \"act\")))\n",
    "\n",
    "(\n",
    "    df_ensembles_stats.query(\"ensemble_id != -1\")\n",
    "    .pipe((sns.barplot, \"data\"), x=\"state\", y=metric, hue=\"state\", estimator=np.median)\n",
    ")"
   ]
  },
  {
   "cell_type": "code",
   "execution_count": 63,
   "metadata": {},
   "outputs": [
    {
     "name": "stdout",
     "output_type": "stream",
     "text": [
      "size\n",
      "n_sw         26.000000\n",
      "n_act        19.000000\n",
      "Mean_sw       7.807692\n",
      "Mean_act      8.789474\n",
      "Diff          0.981781\n",
      "U           247.000000\n",
      "p             1.000000\n",
      "dtype: float64\n"
     ]
    },
    {
     "data": {
      "text/plain": [
       "<AxesSubplot:xlabel='state', ylabel='size'>"
      ]
     },
     "execution_count": 63,
     "metadata": {},
     "output_type": "execute_result"
    },
    {
     "data": {
      "image/png": "[encoded data removed]",
      "text/plain": [
       "<Figure size 432x288 with 1 Axes>"
      ]
     },
     "metadata": {
      "needs_background": "light"
     },
     "output_type": "display_data"
    }
   ],
   "source": [
    "metric = \"size\"\n",
    "\n",
    "x = df_ensembles_stats.query(\"ensemble_id != -1 and state == 'sw'\")[metric].values\n",
    "y = df_ensembles_stats.query(\"ensemble_id != -1 and state == 'act'\")[metric].values\n",
    "print(metric)\n",
    "print(mannwhitneyu_plusplus(x, y, names=(\"sw\", \"act\")))\n",
    "\n",
    "(\n",
    "    df_ensembles_stats.query(\"ensemble_id != -1\")\n",
    "    .pipe((sns.barplot, \"data\"), x=\"state\", y=metric, hue=\"state\", estimator=np.median)\n",
    ")"
   ]
  },
  {
   "cell_type": "code",
   "execution_count": 64,
   "metadata": {},
   "outputs": [
    {
     "name": "stdout",
     "output_type": "stream",
     "text": [
      "cut_size\n",
      "n_sw         26.000000\n",
      "n_act        19.000000\n",
      "Mean_sw       7.086170\n",
      "Mean_act      8.915045\n",
      "Diff          1.828875\n",
      "U           198.000000\n",
      "p             0.265007\n",
      "dtype: float64\n"
     ]
    },
    {
     "data": {
      "text/plain": [
       "<AxesSubplot:xlabel='state', ylabel='cut_size'>"
      ]
     },
     "execution_count": 64,
     "metadata": {},
     "output_type": "execute_result"
    },
    {
     "data": {
      "image/png": "[encoded data removed]",
      "text/plain": [
       "<Figure size 432x288 with 1 Axes>"
      ]
     },
     "metadata": {
      "needs_background": "light"
     },
     "output_type": "display_data"
    }
   ],
   "source": [
    "metric = \"cut_size\"\n",
    "\n",
    "x = df_ensembles_stats.query(\"ensemble_id != -1 and state == 'sw'\")[metric].values\n",
    "y = df_ensembles_stats.query(\"ensemble_id != -1 and state == 'act'\")[metric].values\n",
    "print(metric)\n",
    "print(mannwhitneyu_plusplus(x, y, names=(\"sw\", \"act\")))\n",
    "\n",
    "(\n",
    "    df_ensembles_stats.query(\"ensemble_id != -1\")\n",
    "    .pipe((sns.barplot, \"data\"), x=\"state\", y=metric, hue=\"state\", estimator=np.median)\n",
    ")"
   ]
  },
  {
   "cell_type": "code",
   "execution_count": null,
   "metadata": {},
   "outputs": [],
   "source": []
  }
 ],
 "metadata": {
  "kernelspec": {
   "display_name": "Python 3.8.13 ('drn38')",
   "language": "python",
   "name": "python3"
  },
  "language_info": {
   "codemirror_mode": {
    "name": "ipython",
    "version": 3
   },
   "file_extension": ".py",
   "mimetype": "text/x-python",
   "name": "python",
   "nbconvert_exporter": "python",
   "pygments_lexer": "ipython3",
   "version": "3.8.13"
  },
  "orig_nbformat": 4,
  "vscode": {
   "interpreter": {
    "hash": "83d85788087be4ab95a62fa43e95c13744f0a02d6feebc555b96a547158d0970"
   }
  }
 },
 "nbformat": 4,
 "nbformat_minor": 2
}
