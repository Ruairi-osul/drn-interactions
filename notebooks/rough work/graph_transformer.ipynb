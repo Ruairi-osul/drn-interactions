{
 "cells": [
  {
   "cell_type": "code",
   "execution_count": 1,
   "metadata": {},
   "outputs": [],
   "source": [
    "from drn_interactions.interactions.loaders import SpontaneousActivityLoader, StateInteractionsLoader\n",
    "from drn_interactions.interactions.preprocessors import InteractionsPreprocessor\n",
    "from drn_interactions.interactions.pairwise import PairwiseCorr\n",
    "from drn_interactions.interactions.graph_clustering import df_to_graph\n",
    "from drn_interactions.config import Config, ExperimentInfo\n",
    "import numpy as np\n",
    "from drn_interactions.interactions.graph import GraphAttributes, NodeAttributes\n",
    "import pandas as pd\n",
    "import seaborn as sns\n",
    "from drn_interactions.io import load_derived_generic, load_distances\n",
    "from drn_interactions.transforms.graph import GraphTransformer\n",
    "import networkx as nx\n",
    "\n",
    "%load_ext autoreload\n",
    "%autoreload 2"
   ]
  },
  {
   "cell_type": "code",
   "execution_count": 15,
   "metadata": {},
   "outputs": [],
   "source": [
    "neuron_types = load_derived_generic(\"neuron_types.csv\")\n",
    "df_distance = load_distances()\n",
    "spont_ensembles = load_derived_generic(\"ensembles/spont - ensembles.csv\")\n",
    "\n",
    "\n",
    "graph_attrs = GraphAttributes(inverse_distance=True)\n",
    "node_attrs = NodeAttributes()\n",
    "sessions = ExperimentInfo.eeg_sessions\n",
    "\n",
    "loader = SpontaneousActivityLoader(sessions[6])\n",
    "preprocessor = InteractionsPreprocessor()\n",
    "pairwise = PairwiseCorr(rectify=True)\n",
    "transformer = GraphTransformer(\n",
    "    relabel_nodes=True, \n",
    "    weight_attr=\"weight\", \n",
    "    neuron_types=neuron_types, \n",
    "    df_distance=df_distance,\n",
    "    df_ensemble=spont_ensembles,\n",
    "    )\n",
    "\n",
    "spikes = preprocessor(loader())\n",
    "df_affinity = (\n",
    "    pairwise\n",
    "    .fit(spikes)\n",
    "    .get_adjacency_df()\n",
    "    .dropna(axis=1, thresh=5)\n",
    "    .dropna(axis=0, thresh=5)\n",
    ")\n",
    "G = transformer.df_affinity_to_graph(df_affinity)"
   ]
  },
  {
   "cell_type": "code",
   "execution_count": 16,
   "metadata": {},
   "outputs": [
    {
     "data": {
      "text/html": [
       "<div>\n",
       "<style scoped>\n",
       "    .dataframe tbody tr th:only-of-type {\n",
       "        vertical-align: middle;\n",
       "    }\n",
       "\n",
       "    .dataframe tbody tr th {\n",
       "        vertical-align: top;\n",
       "    }\n",
       "\n",
       "    .dataframe thead th {\n",
       "        text-align: right;\n",
       "    }\n",
       "</style>\n",
       "<table border=\"1\" class=\"dataframe\">\n",
       "  <thead>\n",
       "    <tr style=\"text-align: right;\">\n",
       "      <th></th>\n",
       "      <th>neuron_id</th>\n",
       "      <th>ensemble</th>\n",
       "      <th>sig</th>\n",
       "      <th>session_name</th>\n",
       "    </tr>\n",
       "  </thead>\n",
       "  <tbody>\n",
       "    <tr>\n",
       "      <th>5</th>\n",
       "      <td>9</td>\n",
       "      <td>1</td>\n",
       "      <td>True</td>\n",
       "      <td>ESHOCK_04_LOC1</td>\n",
       "    </tr>\n",
       "    <tr>\n",
       "      <th>6</th>\n",
       "      <td>43</td>\n",
       "      <td>1</td>\n",
       "      <td>True</td>\n",
       "      <td>ESHOCK_04_LOC1</td>\n",
       "    </tr>\n",
       "    <tr>\n",
       "      <th>7</th>\n",
       "      <td>17</td>\n",
       "      <td>1</td>\n",
       "      <td>True</td>\n",
       "      <td>ESHOCK_04_LOC1</td>\n",
       "    </tr>\n",
       "    <tr>\n",
       "      <th>8</th>\n",
       "      <td>18</td>\n",
       "      <td>1</td>\n",
       "      <td>True</td>\n",
       "      <td>ESHOCK_04_LOC1</td>\n",
       "    </tr>\n",
       "    <tr>\n",
       "      <th>9</th>\n",
       "      <td>40</td>\n",
       "      <td>1</td>\n",
       "      <td>True</td>\n",
       "      <td>ESHOCK_04_LOC1</td>\n",
       "    </tr>\n",
       "    <tr>\n",
       "      <th>...</th>\n",
       "      <td>...</td>\n",
       "      <td>...</td>\n",
       "      <td>...</td>\n",
       "      <td>...</td>\n",
       "    </tr>\n",
       "    <tr>\n",
       "      <th>557</th>\n",
       "      <td>2613</td>\n",
       "      <td>2674115</td>\n",
       "      <td>True</td>\n",
       "      <td>acute_11</td>\n",
       "    </tr>\n",
       "    <tr>\n",
       "      <th>558</th>\n",
       "      <td>2630</td>\n",
       "      <td>2674115</td>\n",
       "      <td>True</td>\n",
       "      <td>acute_11</td>\n",
       "    </tr>\n",
       "    <tr>\n",
       "      <th>559</th>\n",
       "      <td>2611</td>\n",
       "      <td>2674115</td>\n",
       "      <td>True</td>\n",
       "      <td>acute_11</td>\n",
       "    </tr>\n",
       "    <tr>\n",
       "      <th>560</th>\n",
       "      <td>2621</td>\n",
       "      <td>2674115</td>\n",
       "      <td>True</td>\n",
       "      <td>acute_11</td>\n",
       "    </tr>\n",
       "    <tr>\n",
       "      <th>561</th>\n",
       "      <td>2634</td>\n",
       "      <td>2674115</td>\n",
       "      <td>True</td>\n",
       "      <td>acute_11</td>\n",
       "    </tr>\n",
       "  </tbody>\n",
       "</table>\n",
       "<p>557 rows × 4 columns</p>\n",
       "</div>"
      ],
      "text/plain": [
       "     neuron_id  ensemble   sig    session_name\n",
       "5            9         1  True  ESHOCK_04_LOC1\n",
       "6           43         1  True  ESHOCK_04_LOC1\n",
       "7           17         1  True  ESHOCK_04_LOC1\n",
       "8           18         1  True  ESHOCK_04_LOC1\n",
       "9           40         1  True  ESHOCK_04_LOC1\n",
       "..         ...       ...   ...             ...\n",
       "557       2613   2674115  True        acute_11\n",
       "558       2630   2674115  True        acute_11\n",
       "559       2611   2674115  True        acute_11\n",
       "560       2621   2674115  True        acute_11\n",
       "561       2634   2674115  True        acute_11\n",
       "\n",
       "[557 rows x 4 columns]"
      ]
     },
     "execution_count": 16,
     "metadata": {},
     "output_type": "execute_result"
    }
   ],
   "source": [
    "spont_ensembles.loc[lambda x: x.ensemble != -1]"
   ]
  },
  {
   "cell_type": "code",
   "execution_count": 21,
   "metadata": {},
   "outputs": [],
   "source": [
    "df_edge = transformer.graph_to_edge_df(G)"
   ]
  },
  {
   "cell_type": "code",
   "execution_count": 23,
   "metadata": {},
   "outputs": [
    {
     "data": {
      "text/plain": [
       "<AxesSubplot:xlabel='distance', ylabel='weight'>"
      ]
     },
     "execution_count": 23,
     "metadata": {},
     "output_type": "execute_result"
    },
    {
     "data": {
      "image/png": "[encoded data removed]",
      "text/plain": [
       "<Figure size 432x288 with 1 Axes>"
      ]
     },
     "metadata": {
      "needs_background": "light"
     },
     "output_type": "display_data"
    }
   ],
   "source": [
    "sns.scatterplot(x=\"distance\", y=\"weight\", data=df_edge, hue=\"same_ensemble\")"
   ]
  },
  {
   "cell_type": "code",
   "execution_count": null,
   "metadata": {},
   "outputs": [],
   "source": []
  }
 ],
 "metadata": {
  "kernelspec": {
   "display_name": "Python 3.8.13 ('drn')",
   "language": "python",
   "name": "python3"
  },
  "language_info": {
   "codemirror_mode": {
    "name": "ipython",
    "version": 3
   },
   "file_extension": ".py",
   "mimetype": "text/x-python",
   "name": "python",
   "nbconvert_exporter": "python",
   "pygments_lexer": "ipython3",
   "version": "3.8.13"
  },
  "orig_nbformat": 4,
  "vscode": {
   "interpreter": {
    "hash": "a141ff61fc8e5477d761678b9939730228dd63e8e5dabf1901cb4084a0e2e4d6"
   }
  }
 },
 "nbformat": 4,
 "nbformat_minor": 2
}
