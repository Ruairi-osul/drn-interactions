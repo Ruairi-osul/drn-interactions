{
 "cells": [
  {
   "cell_type": "code",
   "execution_count": 1,
   "metadata": {},
   "outputs": [
    {
     "name": "stderr",
     "output_type": "stream",
     "text": [
      "c:\\Users\\roryl\\.conda\\envs\\drn-interactions\\lib\\importlib\\_bootstrap.py:219: RuntimeWarning: numpy.ufunc size changed, may indicate binary incompatibility. Expected 192 from C header, got 216 from PyObject\n",
      "  return f(*args, **kwds)\n",
      "c:\\Users\\roryl\\.conda\\envs\\drn-interactions\\lib\\importlib\\_bootstrap.py:219: RuntimeWarning: numpy.ufunc size changed, may indicate binary incompatibility. Expected 192 from C header, got 216 from PyObject\n",
      "  return f(*args, **kwds)\n",
      "c:\\Users\\roryl\\.conda\\envs\\drn-interactions\\lib\\importlib\\_bootstrap.py:219: RuntimeWarning: numpy.ufunc size changed, may indicate binary incompatibility. Expected 192 from C header, got 216 from PyObject\n",
      "  return f(*args, **kwds)\n"
     ]
    }
   ],
   "source": [
    "import numpy as np\n",
    "from drn_interactions.load import load_neurons, load_spikes\n",
    "from drn_interactions.transforms import bin_spikes\n",
    "\n",
    "\n",
    "neurons = load_neurons()\n",
    "spikes = load_spikes(\"pre\")\n",
    "# lfp = load_lfp(\"pre\")\n",
    "# lfp = load_lfp(\"pre\")"
   ]
  },
  {
   "cell_type": "code",
   "execution_count": null,
   "metadata": {},
   "outputs": [],
   "source": [
    "t_start = 0\n",
    "t_stop = 600\n",
    "bin_width = 0.1"
   ]
  },
  {
   "cell_type": "code",
   "execution_count": 2,
   "metadata": {},
   "outputs": [],
   "source": [
    "def spike_triggered_average(spikes, to_avg):\n",
    "    ...\n",
    "\n",
    "def population_spiketrain(df_spikes, neuron):\n",
    "    ...\n",
    "\n",
    "\n",
    "def plot_raster(df_spikes):\n",
    "    ...\n"
   ]
  },
  {
   "cell_type": "code",
   "execution_count": null,
   "metadata": {},
   "outputs": [],
   "source": []
  }
 ],
 "metadata": {
  "interpreter": {
   "hash": "595626f471715c1ef1767721af1162754763b18b459b8364279c934890ae0eae"
  },
  "kernelspec": {
   "display_name": "Python 3.6.13 ('drn-interactions')",
   "language": "python",
   "name": "python3"
  },
  "language_info": {
   "codemirror_mode": {
    "name": "ipython",
    "version": 3
   },
   "file_extension": ".py",
   "mimetype": "text/x-python",
   "name": "python",
   "nbconvert_exporter": "python",
   "pygments_lexer": "ipython3",
   "version": "3.6.13"
  },
  "orig_nbformat": 4
 },
 "nbformat": 4,
 "nbformat_minor": 2
}
