{
 "cells": [
  {
   "cell_type": "code",
   "execution_count": 1,
   "metadata": {},
   "outputs": [],
   "source": [
    "# correlation matrix\n",
    "# correlation magnitude by neuron type"
   ]
  },
  {
   "cell_type": "code",
   "execution_count": 26,
   "metadata": {},
   "outputs": [],
   "source": [
    "from drn_interactions.load import load_derived_generic\n",
    "from drn_interactions.spikes import SpikesHandler, SpikesHandlerMulti\n",
    "\n",
    "from drn_interactions.spikes import SpikesHandler\n",
    "from drn_interactions.load import load_derived_generic, get_fig_dir\n",
    "from binit.bin import which_bin\n",
    "from sklearn.preprocessing import StandardScaler, LabelEncoder\n",
    "from sklearn.feature_extraction.text import TfidfTransformer\n",
    "from sklearn.pipeline import make_pipeline\n",
    "from sklearn.neighbors import KNeighborsClassifier\n",
    "from sklearn.naive_bayes import GaussianNB\n",
    "from sklearn.linear_model import LogisticRegressionCV\n",
    "from sklearn.decomposition import NMF, PCA\n",
    "from sklearn.model_selection import cross_val_score, KFold, StratifiedKFold\n",
    "from sklearn.metrics.pairwise import pairwise_distances\n",
    "\n",
    "\n",
    "import numpy as np\n",
    "from tqdm.notebook import tqdm\n",
    "import pandas as pd\n",
    "import matplotlib.pyplot as plt\n",
    "import seaborn as sns\n",
    "from drn_interactions.transforms import bin_spikes\n",
    "from spiketimes.df.surrogates import shuffled_isi_spiketrains_by\n",
    "from scipy.stats import zscore\n",
    "\n",
    "from sklearn.preprocessing import minmax_scale\n",
    "import networkx as nx\n",
    "import node2vec\n"
   ]
  },
  {
   "cell_type": "code",
   "execution_count": 28,
   "metadata": {},
   "outputs": [],
   "source": [
    "def rectify(arr):\n",
    "    return np.where(arr < 0, 0, arr)\n",
    "\n",
    "def zero_diag(X):\n",
    "    np.fill_diagonal(X, 0)\n",
    "    return X\n",
    "\n",
    "def pairwise_cosine(df):\n",
    "    A = 1 - pairwise_distances(df.transpose(), metric=\"cosine\")\n",
    "    A = zero_diag(A)\n",
    "    out = pd.DataFrame(A, columns=df.columns, index=df.columns)\n",
    "    return out\n",
    "\n",
    "def pairwise_corr(df, set_zero_diag=True, adjust=None):\n",
    "    corr = df.corr().fillna(0)\n",
    "\n",
    "    if adjust is not None:\n",
    "        if adjust == \"shift\":\n",
    "            corr = corr + 1\n",
    "        elif adjust == \"rectify\":\n",
    "            corr = corr.apply(rectify)\n",
    "        else:\n",
    "            raise ValueError(\"Unknown Adjustment\")\n",
    "    if set_zero_diag:\n",
    "        corr = zero_diag(corr.values)\n",
    "    out = pd.DataFrame(corr, columns=df.columns, index=df.columns)\n",
    "    return out\n",
    "\n",
    "def df_to_graph(df):\n",
    "    return nx.from_pandas_adjacency(df)\n",
    "\n",
    "\n",
    "def plot_corrmat(df, cmap=\"Greys\", vmin=0, vmax=1, yticklabels=(), xticklabels=(), cbar=False, ax=None):\n",
    "    if ax is None:\n",
    "        _, ax = plt.subplots(figsize=(5, 5))\n",
    "    return sns.heatmap(df, cmap=cmap, vmin=vmin, vmax=vmax, yticklabels=yticklabels, xticklabels=xticklabels, cbar=cbar, ax=ax) \n",
    "\n",
    "\n",
    "\n",
    "outdir = get_fig_dir() / \"interactions\"\n",
    "outdir.mkdir(exist_ok=True)"
   ]
  },
  {
   "cell_type": "code",
   "execution_count": 29,
   "metadata": {},
   "outputs": [],
   "source": [
    "neurons = (\n",
    "    load_derived_generic(\"clusters.csv\")\n",
    "    .merge(load_derived_generic(\"burst_features.csv\"))\n",
    "    [[\"neuron_id\", \"session_name\", \"wf_3\"]]\n",
    ")\n",
    "sessions = neurons.session_name.unique()"
   ]
  },
  {
   "cell_type": "code",
   "execution_count": 30,
   "metadata": {},
   "outputs": [],
   "source": [
    "sh = SpikesHandler(\n",
    "    block=\"pre\",\n",
    "    bin_width=1,\n",
    "    session_names=[sessions[1]],\n",
    "    t_start=0,\n",
    "    t_stop=1800,\n",
    ")"
   ]
  },
  {
   "cell_type": "code",
   "execution_count": 34,
   "metadata": {},
   "outputs": [],
   "source": [
    "df = pairwise_corr(sh.binned_piv, adjust=\"shift\")\n",
    "G = df_to_graph(df)"
   ]
  },
  {
   "cell_type": "code",
   "execution_count": 50,
   "metadata": {},
   "outputs": [
    {
     "name": "stderr",
     "output_type": "stream",
     "text": [
      "Computing transition probabilities: 100%|██████████| 23/23 [00:00<00:00, 479.18it/s]\n",
      "Generating walks (CPU: 1): 100%|██████████| 10/10 [00:00<00:00, 10.10it/s]\n"
     ]
    }
   ],
   "source": [
    "mod = node2vec.Node2Vec(G, dimensions=4).fit()"
   ]
  },
  {
   "cell_type": "code",
   "execution_count": 51,
   "metadata": {},
   "outputs": [],
   "source": [
    "emb_df = (\n",
    "    pd.DataFrame(\n",
    "        [mod.wv.get_vector(str(n)) for n in G.nodes()],\n",
    "        index = G.nodes\n",
    "    )\n",
    ")"
   ]
  },
  {
   "cell_type": "code",
   "execution_count": 53,
   "metadata": {},
   "outputs": [
    {
     "data": {
      "text/plain": [
       "<AxesSubplot:>"
      ]
     },
     "execution_count": 53,
     "metadata": {},
     "output_type": "execute_result"
    },
    {
     "data": {
      "image/png": "[encoded data removed]",
      "text/plain": [
       "<Figure size 432x288 with 2 Axes>"
      ]
     },
     "metadata": {
      "needs_background": "light"
     },
     "output_type": "display_data"
    }
   ],
   "source": [
    "sns.heatmap(emb_df.apply(zscore))"
   ]
  },
  {
   "cell_type": "code",
   "execution_count": 185,
   "metadata": {},
   "outputs": [],
   "source": [
    "def corr_stability(sessions, bin_width=1, t_start=0, t_stop=1800, block=\"pre\", corr_bin_width=120):\n",
    "    frames = []\n",
    "    for session in sessions:\n",
    "        sh = SpikesHandler(\n",
    "            block=block,\n",
    "            bin_width=bin_width,\n",
    "            session_names=[session],\n",
    "            t_start=t_start,\n",
    "            t_stop=t_stop,\n",
    "        )\n",
    "        df = sh.binned_piv.astype(float)\n",
    "        out = {}\n",
    "        starts = np.arange(t_start, t_stop+1, corr_bin_width)\n",
    "        first_corr = pairwise_corr(df.loc[lambda x: (x.index > starts[0]) & (x.index < starts[1])])\n",
    "        for start, stop in zip(starts[1:], starts[2:]):\n",
    "            corr = pairwise_corr(df.loc[lambda x: (x.index > start) & (x.index < stop)])\n",
    "            out[start] = corrDist(first_corr, corr)\n",
    "\n",
    "        frames.append(pd.DataFrame(out, index=[0]).assign(session_name = session))\n",
    "    return pd.concat(frames).reset_index(drop=True)\n",
    "\n",
    "\n",
    "def corr_stability_multi(sessions, bin_width=1, t_start=0, t_stop=1800, block=\"pre\", corr_bin_width=120):\n",
    "    frames = []\n",
    "    for session in sessions:\n",
    "        sh = SpikesHandlerMulti(\n",
    "            block=block,\n",
    "            bin_width=bin_width,\n",
    "            session_names=[session],\n",
    "            t_start=t_start,\n",
    "            t_stop=t_stop,\n",
    "        )\n",
    "        df = sh.binned_piv.astype(float)\n",
    "        out = {}\n",
    "        starts = np.arange(t_start, t_stop+1, corr_bin_width)\n",
    "        first_corr = pairwise_corr(df.loc[lambda x: (x.index > starts[0]) & (x.index < starts[1])])\n",
    "        for start, stop in zip(starts[1:], starts[2:]):\n",
    "            corr = pairwise_corr(df.loc[lambda x: (x.index > start) & (x.index < stop)])\n",
    "            out[start] = corrDist(first_corr, corr)\n",
    "\n",
    "        frames.append(pd.DataFrame(out, index=[0]).assign(session_name = session))\n",
    "    return pd.concat(frames).reset_index(drop=True)"
   ]
  },
  {
   "cell_type": "code",
   "execution_count": 179,
   "metadata": {},
   "outputs": [
    {
     "name": "stderr",
     "output_type": "stream",
     "text": [
      "c:\\Users\\roryl\\.conda\\envs\\drn-interactions\\lib\\site-packages\\ipykernel_launcher.py:5: RuntimeWarning: invalid value encountered in double_scalars\n",
      "  \"\"\"\n",
      "c:\\Users\\roryl\\.conda\\envs\\drn-interactions\\lib\\site-packages\\ipykernel_launcher.py:5: RuntimeWarning: invalid value encountered in double_scalars\n",
      "  \"\"\"\n"
     ]
    }
   ],
   "source": [
    "corr = corr_stability(sessions)"
   ]
  },
  {
   "cell_type": "code",
   "execution_count": 180,
   "metadata": {},
   "outputs": [
    {
     "data": {
      "text/plain": [
       "<AxesSubplot:xlabel='variable', ylabel='value'>"
      ]
     },
     "execution_count": 180,
     "metadata": {},
     "output_type": "execute_result"
    },
    {
     "data": {
      "image/png": "[encoded data removed]",
      "text/plain": [
       "<Figure size 432x288 with 1 Axes>"
      ]
     },
     "metadata": {
      "needs_background": "light"
     },
     "output_type": "display_data"
    }
   ],
   "source": [
    "df = corr.melt(id_vars=\"session_name\").dropna()\n",
    "sns.lineplot(data=df, x=\"variable\", y=\"value\")"
   ]
  },
  {
   "cell_type": "code",
   "execution_count": 181,
   "metadata": {},
   "outputs": [],
   "source": [
    "from drn_interactions.load import load_events"
   ]
  },
  {
   "cell_type": "code",
   "execution_count": 182,
   "metadata": {},
   "outputs": [],
   "source": [
    "sessions = load_events(\"base_shock\")[\"session_name\"].unique()"
   ]
  },
  {
   "cell_type": "code",
   "execution_count": 192,
   "metadata": {},
   "outputs": [],
   "source": [
    "corr = corr_stability_multi(\n",
    "    sessions, \n",
    "    t_start=-600, \n",
    "    t_stop=1200,  \n",
    "    block=[\"base_shock\", \"post_base_shock\"], \n",
    "    corr_bin_width=60\n",
    "    )\n",
    "df = corr.melt(id_vars=\"session_name\").dropna()\n",
    "sns.lineplot(data=df, x=\"variable\", y=\"value\")"
   ]
  },
  {
   "cell_type": "code",
   "execution_count": 195,
   "metadata": {},
   "outputs": [
    {
     "name": "stderr",
     "output_type": "stream",
     "text": [
      "c:\\Users\\roryl\\.conda\\envs\\drn-interactions\\lib\\site-packages\\ipykernel_launcher.py:5: RuntimeWarning: invalid value encountered in double_scalars\n",
      "  \"\"\"\n"
     ]
    },
    {
     "data": {
      "text/plain": [
       "<AxesSubplot:xlabel='variable', ylabel='value'>"
      ]
     },
     "execution_count": 195,
     "metadata": {},
     "output_type": "execute_result"
    },
    {
     "data": {
      "image/png": "[encoded data removed]",
      "text/plain": [
       "<Figure size 432x288 with 1 Axes>"
      ]
     },
     "metadata": {
      "needs_background": "light"
     },
     "output_type": "display_data"
    }
   ],
   "source": [
    "corr = corr_stability_multi(\n",
    "    sessions, \n",
    "    t_start=000, \n",
    "    t_stop=3000,  \n",
    "    block=[ \"pre\", \"base_shock\", \"post_base_shock\"], \n",
    "    corr_bin_width=120\n",
    "    )\n",
    "df = corr.melt(id_vars=\"session_name\").dropna()\n",
    "sns.lineplot(data=df, x=\"variable\", y=\"value\")"
   ]
  },
  {
   "cell_type": "code",
   "execution_count": null,
   "metadata": {},
   "outputs": [],
   "source": [
    "corr = pairwise_corr(df)\n",
    "ax = plot_corrmat(corr)\n",
    "ax.axis(\"off\")\n",
    "# plt.savefig(outdir / \"example corr.png\", dpi=300)"
   ]
  }
 ],
 "metadata": {
  "interpreter": {
   "hash": "595626f471715c1ef1767721af1162754763b18b459b8364279c934890ae0eae"
  },
  "kernelspec": {
   "display_name": "Python 3.6.13 ('drn-interactions')",
   "language": "python",
   "name": "python3"
  },
  "language_info": {
   "codemirror_mode": {
    "name": "ipython",
    "version": 3
   },
   "file_extension": ".py",
   "mimetype": "text/x-python",
   "name": "python",
   "nbconvert_exporter": "python",
   "pygments_lexer": "ipython3",
   "version": "3.6.13"
  },
  "orig_nbformat": 4
 },
 "nbformat": 4,
 "nbformat_minor": 2
}
