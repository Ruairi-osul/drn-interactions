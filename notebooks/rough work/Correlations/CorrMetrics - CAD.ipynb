{
 "cells": [
  {
   "cell_type": "code",
   "execution_count": 1,
   "metadata": {},
   "outputs": [],
   "source": [
    "import seaborn as sns\n",
    "import pandas as pd\n",
    "import numpy as np\n",
    "from scipy.ndimage import gaussian_filter1d\n",
    "\n",
    "\n",
    "import matplotlib.pyplot as plt\n",
    "import plotly.express as px\n",
    "import plotly.io as pio\n",
    "import plotly.graph_objects as go\n",
    "\n",
    "import elephant\n",
    "import quantities as pq\n",
    "import neo\n",
    "import viziphant\n",
    "\n",
    "\n",
    "from drn_interactions.spikes import SpikesHandler\n",
    "from drn_interactions.load import load_derived_generic, load_neurons"
   ]
  },
  {
   "cell_type": "code",
   "execution_count": 2,
   "metadata": {},
   "outputs": [
    {
     "data": {
      "text/plain": [
       "<AxesSubplot:xlabel='session_name'>"
      ]
     },
     "execution_count": 2,
     "metadata": {},
     "output_type": "execute_result"
    },
    {
     "data": {
      "image/png": "[encoded data removed]",
      "text/plain": [
       "<Figure size 432x288 with 1 Axes>"
      ]
     },
     "metadata": {
      "needs_background": "light"
     },
     "output_type": "display_data"
    }
   ],
   "source": [
    "neurons = load_neurons()\n",
    "neurons.groupby(\"session_name\").apply(len).sort_values().plot(kind=\"bar\")"
   ]
  },
  {
   "cell_type": "code",
   "execution_count": 38,
   "metadata": {},
   "outputs": [],
   "source": [
    "from elephant.conversion import BinnedSpikeTrain\n",
    "from elephant.cell_assembly_detection import cell_assembly_detection\n",
    "\n",
    "t_start= 0\n",
    "t_stop = t_start + 600\n",
    "session_name = \"hamilton_32\"\n",
    "bin_width = 500\n",
    "\n",
    "sh = SpikesHandler(block=\"pre\", bin_width=bin_width / 1000, session_names=[session_name], t_stop=t_stop, t_start=t_start)\n",
    "spiketrains = [\n",
    "    neo.SpikeTrain(\n",
    "        group[\"spiketimes\"].values, \n",
    "        t_stop=t_stop, \n",
    "        units=pq.sec, \n",
    "        description=name,\n",
    "        t_start=t_start\n",
    "    ) \n",
    "    for name, group in sh.spikes.groupby(\"neuron_id\")\n",
    "    ]\n",
    "\n",
    "bst = BinnedSpikeTrain(spiketrains, bin_size=bin_width * pq.ms)\n",
    "bst.rescale(\"ms\")"
   ]
  },
  {
   "cell_type": "code",
   "execution_count": 45,
   "metadata": {},
   "outputs": [],
   "source": [
    "patterns = cell_assembly_detection(bst, max_lag=5, significance_pruning=False, )"
   ]
  },
  {
   "cell_type": "code",
   "execution_count": 40,
   "metadata": {},
   "outputs": [],
   "source": [
    "# viziphant.patterns.plot_patterns(\n",
    "#     spiketrains, \n",
    "#     patterns=patterns,\n",
    "#     circle_sizes=(3, 30, 40))"
   ]
  },
  {
   "cell_type": "code",
   "execution_count": 46,
   "metadata": {},
   "outputs": [
    {
     "data": {
      "text/plain": [
       "37"
      ]
     },
     "execution_count": 46,
     "metadata": {},
     "output_type": "execute_result"
    }
   ],
   "source": [
    "len(patterns)"
   ]
  },
  {
   "cell_type": "code",
   "execution_count": 47,
   "metadata": {},
   "outputs": [
    {
     "data": {
      "text/plain": [
       "3"
      ]
     },
     "execution_count": 47,
     "metadata": {},
     "output_type": "execute_result"
    }
   ],
   "source": [
    "max([len(d[\"neurons\"]) for d in patterns])"
   ]
  },
  {
   "cell_type": "code",
   "execution_count": null,
   "metadata": {},
   "outputs": [],
   "source": []
  }
 ],
 "metadata": {
  "interpreter": {
   "hash": "595626f471715c1ef1767721af1162754763b18b459b8364279c934890ae0eae"
  },
  "kernelspec": {
   "display_name": "Python 3.6.13 ('drn-interactions')",
   "language": "python",
   "name": "python3"
  },
  "language_info": {
   "codemirror_mode": {
    "name": "ipython",
    "version": 3
   },
   "file_extension": ".py",
   "mimetype": "text/x-python",
   "name": "python",
   "nbconvert_exporter": "python",
   "pygments_lexer": "ipython3",
   "version": "3.6.13"
  },
  "orig_nbformat": 4
 },
 "nbformat": 4,
 "nbformat_minor": 2
}
