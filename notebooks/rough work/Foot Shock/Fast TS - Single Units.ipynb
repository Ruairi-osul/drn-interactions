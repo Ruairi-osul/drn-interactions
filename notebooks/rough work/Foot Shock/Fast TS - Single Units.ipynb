{
 "cells": [
  {
   "cell_type": "code",
   "execution_count": null,
   "metadata": {},
   "outputs": [],
   "source": [
    "# get responsivity of all neurons with adjustible window\n",
    "# assess for neuron-type level effects\n",
    "# plot examples\n",
    "# indivdual trial variability"
   ]
  },
  {
   "cell_type": "code",
   "execution_count": null,
   "metadata": {},
   "outputs": [],
   "source": [
    "# from drn_interactions.spikes import SpikesHandler\n",
    "# from drn_interactions.transforms import align_to_data_by\n",
    "# from drn_interactions.stats import mannwhitneyu_plusplus\n",
    "\n",
    "from drn_interactions.load import (\n",
    "    get_fig_dir, load_events, load_spikes, load_neurons_derived\n",
    ")\n",
    "from drn_interactions.fs_fast import ShortTsAnova, ShortTsAvg,ShockPlotter\n",
    "from drn_interactions.shock_transforms import ShockUtils\n",
    "\n",
    "import numpy as np\n",
    "import pandas as pd\n",
    "import matplotlib.pyplot as plt\n",
    "import seaborn as sns\n",
    "\n",
    "from spiketimes.df.surrogates import shuffled_isi_spiketrains_by\n",
    "import pingouin as pg\n",
    "from IPython.display import display\n",
    "\n",
    "\n",
    "%load_ext autoreload\n",
    "%autoreload 2"
   ]
  },
  {
   "cell_type": "code",
   "execution_count": null,
   "metadata": {},
   "outputs": [],
   "source": [
    "sns.set_theme(style=\"ticks\", context=\"poster\")\n",
    "\n",
    "outdir = get_fig_dir() / \"base_shock\"\n",
    "outdir.mkdir(exist_ok=True, parents=True)\n",
    "neurons = load_neurons_derived()\n",
    "neurons_sub = neurons[[\"neuron_id\", \"session_name\"]]\n",
    "df_events = load_events(\"base_shock\")\n",
    "sessions = neurons_sub.merge(df_events[[\"session_name\"]]).session_name.unique()\n",
    "\n",
    "df_spikes = load_spikes(\"base_shock\").merge(neurons_sub)\n",
    "\n",
    "clusters = neurons[[\"neuron_id\", \"wf_3\"]]\n"
   ]
  },
  {
   "cell_type": "code",
   "execution_count": null,
   "metadata": {},
   "outputs": [],
   "source": [
    "# Anova level\n",
    "\n",
    "transformer = ShockUtils()\n",
    "df_aligned = transformer.aligned_binned_from_spikes(\n",
    "    df_spikes, \n",
    "    df_events, \n",
    "    session=None,\n",
    "    bin_width=0.01,\n",
    "    )\n",
    "anova, contrasts =  ShortTsAnova(window=(0.05, 0.2)).get_responders(\n",
    "    df_aligned, z=True, clusters=neurons[[\"neuron_id\", \"wf_3\"]],\n",
    "    )\n",
    "display(anova)\n",
    "display(contrasts)\n",
    "\n",
    "# Neuron Level\n",
    "unit_mod = ShortTsAvg(window=(0.05, 0.2))\n",
    "responders = unit_mod.get_responders(df_aligned, z=True)\n",
    "unit_mod.plot_responders(\n",
    "    responders, \n",
    "    clusters=neurons[[\"neuron_id\", \"wf_3\"]], \n",
    "    bins=np.arange(-2.6, 2.6, 0.2),\n",
    "    )\n",
    "\n",
    "sns.despine()\n",
    "print((responders[\"p\"] < 0.05).mean())\n",
    "\n",
    "figs = ShockPlotter().psth_heatmap_by_cluster(df_aligned, responders, clusters)"
   ]
  },
  {
   "cell_type": "code",
   "execution_count": null,
   "metadata": {},
   "outputs": [],
   "source": [
    "df_spikes_aligned = ShockUtils().align_spikes(df_spikes, df_events)\n",
    "responders1 = responders.reset_index().merge(clusters)\n",
    "display(responders1.sort_values([\"Diff\"]).head())\n",
    "display(responders1.sort_values([\"Diff\"], ascending=False).head())\n",
    "display(responders1.sort_values([\"Diff\"]).loc[lambda x: x.wf_3 == \"ff\"].head())\n",
    "\n",
    "ax = ShockPlotter().unit_raster_across_trials(df_spikes_aligned, neuron=1843)\n",
    "ax.set_title(\"SR\")\n",
    "ax = ShockPlotter().unit_raster_across_trials(df_spikes_aligned, neuron=1974)\n",
    "ax.set_title(\"SIR\")\n",
    "ax = ShockPlotter().unit_raster_across_trials(df_spikes_aligned, neuron=1897)\n",
    "ax.set_title(\"FF\")"
   ]
  },
  {
   "cell_type": "code",
   "execution_count": null,
   "metadata": {},
   "outputs": [],
   "source": [
    "evoked_counts = (\n",
    "    df_aligned\n",
    "    .loc[lambda x: x[\"bin\"].between(0.05, 0.2)]\n",
    "    .drop(\"bin\", axis=1)\n",
    "    .melt(id_vars=\"event\", var_name=\"neuron_id\")\n",
    "    .groupby([\"neuron_id\", \"event\"], as_index=False)\n",
    "    .sum()\n",
    ")  "
   ]
  },
  {
   "cell_type": "code",
   "execution_count": null,
   "metadata": {},
   "outputs": [],
   "source": [
    "from scipy.stats import variation\n",
    "from drn_interactions.stats import cv2\n",
    "dfp = (\n",
    "    evoked_counts\n",
    "    .groupby(\"neuron_id\")[\"value\"].apply(variation)\n",
    "    .to_frame(\"cov\").reset_index()\n",
    "    .merge(responders1)\n",
    "    .query(\"p < 0.05\")\n",
    ")\n",
    "\n",
    "# g = sns.FacetGrid(dfp, row=\"wf_3\", sharey=False, aspect=2).map_dataframe(\n",
    "#                 sns.histplot,\n",
    "#                 x=\"cov\",\n",
    "#                 color=\"black\",\n",
    "#                 multiple=\"stack\",\n",
    "#                 alpha=1,\n",
    "#                 bins=\"auto\",\n",
    "#             )\n",
    "ax = evoked_counts.query(\"neuron_id == 1671\")[\"value\"].hist(color=\"black\")\n",
    "ax.set_ylabel(\"Trial Counts\")\n",
    "ax.set_xlabel(\"Evoked Spikes\")\n",
    "sns.despine()\n",
    "plt.show()\n",
    "ax = ShockPlotter().unit_raster_across_trials(df_spikes_aligned, neuron=1671)\n"
   ]
  },
  {
   "cell_type": "code",
   "execution_count": null,
   "metadata": {},
   "outputs": [],
   "source": [
    "\n",
    "(\n",
    "    evoked_counts\n",
    "    .merge(neurons_sub)\n",
    "    .groupby([\"event\", \"session_name\"])[\"value\"]\n",
    "    .sum()\n",
    "    .to_frame(\"count\")\n",
    "    .reset_index()\n",
    "    .query(\"count != 0\")\n",
    "    .loc[lambda x: x.session_name == sessions[4]]\n",
    "    [\"count\"]\n",
    "    .hist()\n",
    ")"
   ]
  },
  {
   "cell_type": "code",
   "execution_count": null,
   "metadata": {},
   "outputs": [],
   "source": []
  },
  {
   "cell_type": "code",
   "execution_count": null,
   "metadata": {},
   "outputs": [],
   "source": []
  },
  {
   "cell_type": "code",
   "execution_count": null,
   "metadata": {},
   "outputs": [],
   "source": [
    "df_neuron.loc[lambda x: x[\"bin\"].between(0.05, 0.2)].groupby(\"event\").sum()[neuron].hist()"
   ]
  },
  {
   "cell_type": "code",
   "execution_count": null,
   "metadata": {},
   "outputs": [],
   "source": []
  },
  {
   "cell_type": "code",
   "execution_count": null,
   "metadata": {},
   "outputs": [],
   "source": []
  },
  {
   "cell_type": "code",
   "execution_count": null,
   "metadata": {},
   "outputs": [],
   "source": []
  },
  {
   "cell_type": "code",
   "execution_count": null,
   "metadata": {},
   "outputs": [],
   "source": [
    "df_neuron = df_spikes_aligned.query(\"neuron_id == 1031\")\n",
    "trains = [g[\"aligned\"].values for name, g in df_neuron.groupby(\"event\")]\n",
    "\n",
    "_, ax = plt.subplots(figsize=(5, 4), nrows=1, sharex=True)\n",
    "\n",
    "\n",
    "ax.eventplot(trains, color=\"black\", )\n",
    "ax.axvline(0, color=\"red\")\n",
    "ax.set_yticks([])\n",
    "ax.axis(\"off\")\n",
    "ax.set_xticks([-0.5, 0, 1.5])"
   ]
  },
  {
   "cell_type": "code",
   "execution_count": null,
   "metadata": {},
   "outputs": [],
   "source": [
    "responders.sort_values([\"Diff\"]).head()"
   ]
  },
  {
   "cell_type": "code",
   "execution_count": null,
   "metadata": {},
   "outputs": [],
   "source": [
    "# surrogate data\n",
    "\n",
    "df_spikes_surr = shuffled_isi_spiketrains_by(\n",
    "    df_spikes, spiketimes_col=\"spiketimes\",\n",
    "    by_col=\"neuron_id\"\n",
    ").merge(neurons_sub)\n",
    "\n",
    "transformer = ShockUtils()\n",
    "df_aligned = transformer.aligned_binned_from_spikes(\n",
    "    df_spikes_surr, \n",
    "    df_events, \n",
    "    session=None,\n",
    "    bin_width=0.01,\n",
    "    )\n",
    "anova, contrasts =  ShortTsAnova().get_responders(\n",
    "    df_aligned, z=True, clusters=neurons[[\"neuron_id\", \"wf_3\"]],\n",
    "    )\n",
    "display(anova)\n",
    "display(contrasts)\n",
    "\n",
    "# Neuron Level\n",
    "unit_mod = ShortTsAvg()\n",
    "responders = unit_mod.get_responders(df_aligned, z=True)\n",
    "unit_mod.plot_responders(responders, clusters=neurons[[\"neuron_id\", \"wf_3\"]],  bins=np.arange(-2.1, 2.1, 0.2))\n",
    "\n",
    "sns.despine()\n",
    "print((responders[\"p\"] < 0.05).mean())"
   ]
  },
  {
   "cell_type": "code",
   "execution_count": null,
   "metadata": {},
   "outputs": [],
   "source": [
    "ax = ShockPlotter().psth_heatmap_all(df_aligned, responders, clusters=clusters)\n",
    "ax.set_title(\"All\")\n",
    "\n",
    "figs = ShockPlotter().psth_heatmap_by_cluster(df_aligned, responders, clusters)"
   ]
  },
  {
   "cell_type": "code",
   "execution_count": null,
   "metadata": {},
   "outputs": [],
   "source": []
  }
 ],
 "metadata": {
  "kernelspec": {
   "display_name": "Python 3.8.13 ('drn38')",
   "language": "python",
   "name": "python3"
  },
  "language_info": {
   "codemirror_mode": {
    "name": "ipython",
    "version": 3
   },
   "file_extension": ".py",
   "mimetype": "text/x-python",
   "name": "python",
   "nbconvert_exporter": "python",
   "pygments_lexer": "ipython3",
   "version": "3.8.13"
  },
  "orig_nbformat": 4,
  "vscode": {
   "interpreter": {
    "hash": "83d85788087be4ab95a62fa43e95c13744f0a02d6feebc555b96a547158d0970"
   }
  }
 },
 "nbformat": 4,
 "nbformat_minor": 2
}
