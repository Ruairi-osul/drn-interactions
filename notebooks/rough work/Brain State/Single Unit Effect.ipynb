{
 "cells": [
  {
   "cell_type": "code",
   "execution_count": 1,
   "metadata": {},
   "outputs": [],
   "source": [
    "# - Check if the following properties chnage in each state\n",
    "    # - Spike Rate\n",
    "    # - Spike Regularity\n",
    "    # - Intrinsic Time Constant\n",
    "    # - Compare by neuron type"
   ]
  },
  {
   "cell_type": "code",
   "execution_count": 2,
   "metadata": {},
   "outputs": [],
   "source": [
    "from drn_interactions.stats import cv_isi_burst, mannwhitneyu_plusplus\n",
    "from drn_interactions.load import load_derived_generic, load_neurons_derived\n",
    "from drn_interactions.spikes import SpikesHandler\n",
    "from drn_interactions.surrogates import shuffle_spikes\n",
    "from drn_interactions.brain_state import get_state_piv\n",
    "import numpy as np\n",
    "import pandas as pd\n",
    "\n",
    "def spikerate_change(df_piv):\n",
    "    return (\n",
    "        df_piv\n",
    "        .reset_index()\n",
    "        .melt(id_vars=[\"state\", \"bin\"], var_name=\"neuron_id\", value_name=\"counts\")\n",
    "        .groupby(\"neuron_id\")\n",
    "        .apply(lambda x: mannwhitneyu_plusplus(x.query(\"state == 'sw'\")[\"counts\"] ,x.query(\"state == 'act'\")[\"counts\"],\n",
    "        names=[\"SW\", \"Act\"]))\n",
    "        .round(3)\n",
    "    )"
   ]
  },
  {
   "cell_type": "code",
   "execution_count": 3,
   "metadata": {},
   "outputs": [],
   "source": [
    "eeg_states = load_derived_generic(\"eeg_states.csv\").rename(columns={\"cluster\": \"state\"})\n",
    "neurons = load_neurons_derived()\n",
    "sessions = neurons[[\"session_name\"]].drop_duplicates().merge(eeg_states[[\"session_name\"]].drop_duplicates())[\"session_name\"].unique()"
   ]
  },
  {
   "cell_type": "code",
   "execution_count": 12,
   "metadata": {},
   "outputs": [],
   "source": [
    "t_start=0\n",
    "t_stop=1800\n",
    "bin_width=1\n",
    "spike_window = 120\n",
    "session = sessions[14]\n",
    "\n",
    "sh = SpikesHandler(\n",
    "    \"pre\", \n",
    "    bin_width=bin_width, \n",
    "    session_names=[session],\n",
    "     t_start=t_start, \n",
    "     t_stop=t_stop\n",
    "    )\n",
    "spikes = sh.binned_piv\n",
    "eeg = eeg_states.query(f\"session_name == '{session}'\")\n",
    "df = get_state_piv(spikes, eeg)"
   ]
  },
  {
   "cell_type": "code",
   "execution_count": 13,
   "metadata": {},
   "outputs": [
    {
     "data": {
      "text/html": [
       "<div>\n",
       "<style scoped>\n",
       "    .dataframe tbody tr th:only-of-type {\n",
       "        vertical-align: middle;\n",
       "    }\n",
       "\n",
       "    .dataframe tbody tr th {\n",
       "        vertical-align: top;\n",
       "    }\n",
       "\n",
       "    .dataframe thead th {\n",
       "        text-align: right;\n",
       "    }\n",
       "</style>\n",
       "<table border=\"1\" class=\"dataframe\">\n",
       "  <thead>\n",
       "    <tr style=\"text-align: right;\">\n",
       "      <th></th>\n",
       "      <th>n_SW</th>\n",
       "      <th>n_Act</th>\n",
       "      <th>Mean_SW</th>\n",
       "      <th>Mean_Act</th>\n",
       "      <th>Diff</th>\n",
       "      <th>U</th>\n",
       "      <th>p</th>\n",
       "    </tr>\n",
       "    <tr>\n",
       "      <th>neuron_id</th>\n",
       "      <th></th>\n",
       "      <th></th>\n",
       "      <th></th>\n",
       "      <th></th>\n",
       "      <th></th>\n",
       "      <th></th>\n",
       "      <th></th>\n",
       "    </tr>\n",
       "  </thead>\n",
       "  <tbody>\n",
       "    <tr>\n",
       "      <th>2592</th>\n",
       "      <td>724.0</td>\n",
       "      <td>1075.0</td>\n",
       "      <td>13.007</td>\n",
       "      <td>5.918</td>\n",
       "      <td>-7.089</td>\n",
       "      <td>94943.0</td>\n",
       "      <td>0.000</td>\n",
       "    </tr>\n",
       "    <tr>\n",
       "      <th>2593</th>\n",
       "      <td>724.0</td>\n",
       "      <td>1075.0</td>\n",
       "      <td>14.978</td>\n",
       "      <td>12.493</td>\n",
       "      <td>-2.485</td>\n",
       "      <td>225839.0</td>\n",
       "      <td>0.000</td>\n",
       "    </tr>\n",
       "    <tr>\n",
       "      <th>2594</th>\n",
       "      <td>724.0</td>\n",
       "      <td>1075.0</td>\n",
       "      <td>1.707</td>\n",
       "      <td>1.601</td>\n",
       "      <td>-0.106</td>\n",
       "      <td>359771.5</td>\n",
       "      <td>0.003</td>\n",
       "    </tr>\n",
       "    <tr>\n",
       "      <th>2595</th>\n",
       "      <td>724.0</td>\n",
       "      <td>1075.0</td>\n",
       "      <td>0.326</td>\n",
       "      <td>1.779</td>\n",
       "      <td>1.453</td>\n",
       "      <td>245445.5</td>\n",
       "      <td>0.000</td>\n",
       "    </tr>\n",
       "    <tr>\n",
       "      <th>2596</th>\n",
       "      <td>724.0</td>\n",
       "      <td>1075.0</td>\n",
       "      <td>15.504</td>\n",
       "      <td>15.278</td>\n",
       "      <td>-0.226</td>\n",
       "      <td>370423.5</td>\n",
       "      <td>0.040</td>\n",
       "    </tr>\n",
       "  </tbody>\n",
       "</table>\n",
       "</div>"
      ],
      "text/plain": [
       "            n_SW   n_Act  Mean_SW  Mean_Act   Diff         U      p\n",
       "neuron_id                                                          \n",
       "2592       724.0  1075.0   13.007     5.918 -7.089   94943.0  0.000\n",
       "2593       724.0  1075.0   14.978    12.493 -2.485  225839.0  0.000\n",
       "2594       724.0  1075.0    1.707     1.601 -0.106  359771.5  0.003\n",
       "2595       724.0  1075.0    0.326     1.779  1.453  245445.5  0.000\n",
       "2596       724.0  1075.0   15.504    15.278 -0.226  370423.5  0.040"
      ]
     },
     "execution_count": 13,
     "metadata": {},
     "output_type": "execute_result"
    }
   ],
   "source": [
    "df_res = spikerate_change(df)\n",
    "df_res.head()"
   ]
  },
  {
   "cell_type": "code",
   "execution_count": 14,
   "metadata": {},
   "outputs": [
    {
     "data": {
      "text/plain": [
       "<AxesSubplot:>"
      ]
     },
     "execution_count": 14,
     "metadata": {},
     "output_type": "execute_result"
    },
    {
     "data": {
      "image/png": "[encoded data removed]",
      "text/plain": [
       "<Figure size 432x288 with 1 Axes>"
      ]
     },
     "metadata": {
      "needs_background": "light"
     },
     "output_type": "display_data"
    }
   ],
   "source": [
    "df_res[\"Diff\"].hist()"
   ]
  },
  {
   "cell_type": "code",
   "execution_count": 6,
   "metadata": {},
   "outputs": [],
   "source": [
    "# CV Change\n",
    "\n",
    "from drn_interactions.brain_state import most_common_state_in_segment\n",
    "from drn_interactions.transforms import segment_spikes\n",
    "\n",
    "def cv_change_segments(df):\n",
    "    return (\n",
    "    df\n",
    "    .groupby([\"neuron_id\", \"segment\", \"state\"])[\"spiketimes\"]\n",
    "    .apply(cv_isi_burst)\n",
    "    .to_frame(\"cv\")\n",
    "    .reset_index()\n",
    "    .groupby(\"neuron_id\")\n",
    "    .apply(lambda x: mannwhitneyu_plusplus(x.query(\"state == 'sw'\")[\"cv\"] ,x.query(\"state == 'act'\")[\"cv\"],\n",
    "        names=[\"SW\", \"Act\"]))\n",
    "    .round(3)\n",
    "    )\n"
   ]
  },
  {
   "cell_type": "code",
   "execution_count": 7,
   "metadata": {},
   "outputs": [
    {
     "name": "stderr",
     "output_type": "stream",
     "text": [
      "c:\\Users\\roryl\\.conda\\envs\\drn-interactions\\lib\\site-packages\\numpy\\core\\fromnumeric.py:3373: RuntimeWarning: Mean of empty slice.\n",
      "  out=out, **kwargs)\n",
      "c:\\Users\\roryl\\.conda\\envs\\drn-interactions\\lib\\site-packages\\numpy\\core\\_methods.py:170: RuntimeWarning: invalid value encountered in double_scalars\n",
      "  ret = ret.dtype.type(ret / rcount)\n"
     ]
    }
   ],
   "source": [
    "segments = np.arange(t_start, t_stop, spike_window)\n",
    "\n",
    "# sh_surr = shuffle_spikes(sh)\n",
    "spikes = sh.spikes\n",
    "\n",
    "eeg = eeg_states.query(f\"session_name == '{session}'\")\n",
    "spikes = segment_spikes(spikes, t_start=0, t_stop=1800, segment_length=120)\n",
    "df = most_common_state_in_segment(spikes, eeg)\n",
    "df_res = cv_change_segments(df)"
   ]
  },
  {
   "cell_type": "code",
   "execution_count": 8,
   "metadata": {},
   "outputs": [
    {
     "data": {
      "text/plain": [
       "<AxesSubplot:>"
      ]
     },
     "execution_count": 8,
     "metadata": {},
     "output_type": "execute_result"
    },
    {
     "data": {
      "image/png": "[encoded data removed]",
      "text/plain": [
       "<Figure size 432x288 with 1 Axes>"
      ]
     },
     "metadata": {
      "needs_background": "light"
     },
     "output_type": "display_data"
    }
   ],
   "source": [
    "df_res[\"Diff\"].hist()"
   ]
  },
  {
   "cell_type": "code",
   "execution_count": null,
   "metadata": {},
   "outputs": [],
   "source": [
    "# Examples"
   ]
  }
 ],
 "metadata": {
  "kernelspec": {
   "display_name": "Python 3.6.13 ('drn-interactions')",
   "language": "python",
   "name": "python3"
  },
  "language_info": {
   "codemirror_mode": {
    "name": "ipython",
    "version": 3
   },
   "file_extension": ".py",
   "mimetype": "text/x-python",
   "name": "python",
   "nbconvert_exporter": "python",
   "pygments_lexer": "ipython3",
   "version": "3.6.13"
  },
  "orig_nbformat": 4,
  "vscode": {
   "interpreter": {
    "hash": "595626f471715c1ef1767721af1162754763b18b459b8364279c934890ae0eae"
   }
  }
 },
 "nbformat": 4,
 "nbformat_minor": 2
}
