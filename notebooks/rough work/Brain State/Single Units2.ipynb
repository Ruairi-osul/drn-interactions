{
 "cells": [
  {
   "cell_type": "code",
   "execution_count": null,
   "metadata": {},
   "outputs": [],
   "source": [
    "# from drn_interactions.stats import cv_isi_burst, mannwhitneyu_plusplus\n",
    "from drn_interactions.load import load_derived_generic, load_neurons_derived, get_eeg_sessions\n",
    "from drn_interactions.spikes import SpikesHandler\n",
    "from drn_interactions.surrogates import shuffle_spikes\n",
    "from drn_interactions.brain_state import get_state_piv, get_state_long\n",
    "from drn_interactions.brain_state_transforms import BrainStateUtils\n",
    "from drn_interactions.brain_state import BSResonders\n",
    "from scipy.stats import zscore\n",
    "from drn_interactions.transforms import segment_spikes\n",
    "from drn_interactions.stats import cv_isi_burst\n",
    "\n",
    "import matplotlib.pyplot as plt\n",
    "import seaborn as sns\n",
    "import pingouin as pg\n",
    "import numpy as np\n",
    "import pandas as pd\n",
    "sns.set_theme(context=\"poster\", style=\"ticks\")\n",
    "\n",
    "from IPython.display import display\n",
    "\n",
    "\n",
    "%load_ext autoreload\n",
    "%autoreload 2"
   ]
  },
  {
   "cell_type": "code",
   "execution_count": null,
   "metadata": {},
   "outputs": [],
   "source": [
    "eeg_states = load_derived_generic(\"eeg_states.csv\").rename(columns={\"cluster\": \"state\"})\n",
    "neurons = load_neurons_derived()\n",
    "sessions = get_eeg_sessions().tolist()\n",
    "clusters = neurons[[\"neuron_id\", \"wf_3\"]]\n",
    "sh = SpikesHandler(\n",
    "    \"pre\", \n",
    "    bin_width=1, \n",
    "    session_names=sessions,\n",
    "     t_start=0, \n",
    "     t_stop=1800\n",
    "    )"
   ]
  },
  {
   "cell_type": "code",
   "execution_count": null,
   "metadata": {},
   "outputs": [],
   "source": [
    "transformer = BrainStateUtils()\n",
    "\n",
    "df = transformer.align_spikes_state_long(sh, eeg_states)\n",
    "df[\"counts\"] = df.groupby(\"neuron_id\")[\"counts\"].transform(zscore)\n",
    "df.head(3)"
   ]
  },
  {
   "cell_type": "code",
   "execution_count": null,
   "metadata": {},
   "outputs": [],
   "source": [
    "# spike rate\n",
    "\n",
    "mod = BSResonders(within_first=False)\n",
    "out = mod.get_anova(df)\n",
    "display(out[\"anova\"])\n",
    "display(out[\"contrasts\"])\n",
    "\n",
    "# with neuron types\n",
    "out = mod.get_anova(df, clusters=clusters)\n",
    "display(out[\"anova\"])\n",
    "display(out[\"contrasts\"])"
   ]
  },
  {
   "cell_type": "code",
   "execution_count": null,
   "metadata": {},
   "outputs": [],
   "source": [
    "responders = mod.get_responders(df, abs_diff_thresh=0.2)\n",
    "mod.plot_responders(clusters=clusters, bins=np.arange(-2.5, 2.5, 0.2))"
   ]
  },
  {
   "cell_type": "code",
   "execution_count": null,
   "metadata": {},
   "outputs": [],
   "source": [
    "# cv isi\n",
    "\n",
    "\n",
    "def get_cvisi_in_segment(sh, segment_length=120):\n",
    "    spikes = sh.spikes.copy()\n",
    "    spikes = segment_spikes(\n",
    "        spikes, t_start=sh.t_start, t_stop=sh.t_stop, segment_length=segment_length\n",
    "    )\n",
    "    return (\n",
    "        spikes.groupby([\"neuron_id\", \"segment\"])[\"spiketimes\"]\n",
    "        .apply(cv_isi_burst)\n",
    "        .to_frame(\"cv\")\n",
    "        .reset_index()\n",
    "        .dropna()\n",
    "    )\n",
    "\n",
    "\n",
    "\n",
    "spikes = get_cvisi_in_segment(sh, segment_length=60)\n",
    "df = transformer.align_segmentedspikes_state(spikes, eeg_states, )"
   ]
  },
  {
   "cell_type": "code",
   "execution_count": null,
   "metadata": {},
   "outputs": [],
   "source": [
    "mod = BSResonders(df_value_col=\"cv\", within_first=False)\n",
    "out = mod.get_anova(df)\n",
    "display(out[\"anova\"])\n",
    "display(out[\"contrasts\"])\n",
    "\n",
    "# with neuron types\n",
    "out = mod.get_anova(df, clusters=clusters)\n",
    "display(out[\"anova\"])\n",
    "display(out[\"contrasts\"])"
   ]
  },
  {
   "cell_type": "code",
   "execution_count": null,
   "metadata": {},
   "outputs": [],
   "source": [
    "responders = mod.get_responders(df, abs_diff_thresh=0.01)\n",
    "# mod.plot_responders(clusters=clusters,\n",
    "# bins=\"auto\",\n",
    "# #  bins=np.arange(-2.5, 2.5, 0.2)\n",
    "#  )"
   ]
  },
  {
   "cell_type": "code",
   "execution_count": null,
   "metadata": {},
   "outputs": [],
   "source": []
  }
 ],
 "metadata": {
  "kernelspec": {
   "display_name": "Python 3.8.13 ('drn38')",
   "language": "python",
   "name": "python3"
  },
  "language_info": {
   "codemirror_mode": {
    "name": "ipython",
    "version": 3
   },
   "file_extension": ".py",
   "mimetype": "text/x-python",
   "name": "python",
   "nbconvert_exporter": "python",
   "pygments_lexer": "ipython3",
   "version": "3.8.13"
  },
  "orig_nbformat": 4,
  "vscode": {
   "interpreter": {
    "hash": "83d85788087be4ab95a62fa43e95c13744f0a02d6feebc555b96a547158d0970"
   }
  }
 },
 "nbformat": 4,
 "nbformat_minor": 2
}
