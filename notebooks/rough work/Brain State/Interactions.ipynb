{
 "cells": [
  {
   "cell_type": "code",
   "execution_count": null,
   "metadata": {},
   "outputs": [],
   "source": [
    "# check if the following are different in each state:\n",
    "    # - Pairwise Correlations\n",
    "    # - Population Coupling\n",
    "    # - Ensemble Membership\n",
    "    # - Graph Topology\n"
   ]
  }
 ],
 "metadata": {
  "language_info": {
   "name": "python"
  },
  "orig_nbformat": 4
 },
 "nbformat": 4,
 "nbformat_minor": 2
}
