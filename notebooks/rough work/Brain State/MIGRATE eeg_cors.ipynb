{
 "cells": [
  {
   "cell_type": "code",
   "execution_count": 1,
   "metadata": {},
   "outputs": [],
   "source": [
    "# load spikes\n",
    "\n",
    "# for each session\n",
    "\n",
    "# subset spikes occuring in specific states\n",
    "\n",
    "# calculate rate changes, cv-isi changes, change in burst frequency, population coupling changes, pairwise cross corr, pairwise pcorr\n",
    "\n",
    "# compare across clusters\n",
    "\n",
    "# compare only good eeg extractions\n"
   ]
  },
  {
   "cell_type": "code",
   "execution_count": 1,
   "metadata": {},
   "outputs": [],
   "source": [
    "from drn_interactions.spikes import SpikesHandler\n",
    "from drn_interactions.load import load_derived_generic, load_neurons, load_recordings\n",
    "from binit.bin import which_bin, which_bin_idx\n",
    "from sklearn.covariance import GraphicalLassoCV\n",
    "\n",
    "import pingouin as pg\n",
    "\n",
    "import matplotlib.pyplot as plt\n",
    "import seaborn as sns\n",
    "import pandas as pd \n",
    "import numpy as np\n",
    "\n",
    "from scipy.stats import zscore\n",
    "\n",
    "from tqdm.notebook import tqdm\n",
    "from spiketimes.statistics import mean_firing_rate\n",
    "from drn_interactions.stats import cv_isi_burst, is_burster\n",
    "from drn_interactions.spikes import get_population_train, pop_population_train\n",
    "\n",
    "from sklearn.covariance import GraphicalLasso\n",
    "\n",
    "\n",
    "from drn_interactions.cross_correlations import ccf\n",
    "from drn_interactions.stats import auc"
   ]
  },
  {
   "cell_type": "code",
   "execution_count": 2,
   "metadata": {},
   "outputs": [],
   "source": [
    "def get_state_piv(spikes, eeg, state_col=\"state\", index_name=\"bin\", eeg_time_col=\"timepoint_s\"):\n",
    "    spikes = spikes.copy()\n",
    "    return (\n",
    "        spikes\n",
    "        .reset_index()\n",
    "        .assign(eeg_time = lambda x: which_bin(x[index_name].values, eeg[eeg_time_col].values, time_before=0, time_after=2))\n",
    "        .merge(eeg, left_on=\"eeg_time\", right_on=eeg_time_col)\n",
    "        .set_index(index_name)\n",
    "        [list(spikes.columns) + [state_col]]\n",
    "    )\n",
    "\n",
    "def get_state_long(spikes, eeg, index_name=\"bin\", eeg_time_col=\"timepoint_s\"):\n",
    "    return (\n",
    "        spikes\n",
    "        .reset_index()\n",
    "        .copy()\n",
    "        .assign(eeg_bin = lambda x: which_bin(x[index_name].values, eeg[eeg_time_col].values, time_before=0, time_after=2))\n",
    "        .merge(eeg, left_on=\"eeg_bin\", right_on=\"timepoint_s\")\n",
    "        .drop(\"timepoint_s\", axis=1)\n",
    "    )\n",
    "\n",
    "\n",
    "def zero_diag(df):\n",
    "    values = df.values\n",
    "    np.fill_diagonal(values, 0)\n",
    "    return pd.DataFrame(values, index=df.index, columns=df.columns)\n",
    "\n",
    "def filter_active(df, thresh=0):\n",
    "    sums = df.sum()\n",
    "    to_exclude = sums[sums <= thresh].index.values\n",
    "    return df[[c for c in df.columns if c not in to_exclude]]\n",
    "\n",
    "\n",
    "class PopulationCoupling:\n",
    "\n",
    "    def __init__(self, nlags, method=\"ccf\"):\n",
    "        self.nlags = nlags\n",
    "        self.method = method\n",
    "    \n",
    "    def get_couplings(self, df_piv):\n",
    "        time_interval = np.diff(df_piv.index.values)[0]\n",
    "        frames = []\n",
    "        df_piv = filter_active(df_piv)\n",
    "        for neuron_id in df_piv.columns:\n",
    "            neuron, pop_train = pop_population_train(df_piv, neuron_id)\n",
    "            if neuron[neuron_id].sum() == 0:\n",
    "                continue\n",
    "            lags, vals =  ccf(neuron[neuron_id], pop_train[\"population\"], adjusted=False)\n",
    "            time = lags * time_interval\n",
    "            zero_index = int(np.argwhere(time == 0))\n",
    "            start_idx = zero_index - self.nlags\n",
    "            stop_idx = zero_index +  self.nlags\n",
    "            frames.append(pd.DataFrame({\"neuron_id\": neuron_id, \"lag\": lags, \"time\": time, \"cc\": vals}).iloc[start_idx:stop_idx])\n",
    "        return pd.concat(frames)\n",
    "    \n",
    "def popcup(df, nlags=100, name=\"popcup\"):\n",
    "    out = PopulationCoupling(nlags=nlags).get_couplings(df)\n",
    "    return out.groupby(\"neuron_id\")[\"cc\"].apply(lambda x: auc(x.abs())).to_frame(name).reset_index()\n",
    "\n",
    "\n",
    "def popcup_zerolag(df, nlags=100, name=\"popcup\"):\n",
    "    out = PopulationCoupling(nlags=nlags).get_couplings(df)\n",
    "    return out.loc[lambda x: x.lag == 0].rename(columns={\"cc\": name})[[\"neuron_id\", name]]\n",
    "\n",
    "\n",
    "def _avg_pairwise_pcorr(df):\n",
    "    return df.apply(zscore).dropna(axis=1).pcorr().mean()\n",
    "\n",
    "\n",
    "def avg_pairwise_pcorr_by(df, state_col=\"state\", name=\"avg_pcorr\"):\n",
    "    res = df.groupby(state_col).apply(_avg_pairwise_pcorr).reset_index()\n",
    "    if \"level_1\" in res.columns:\n",
    "        res = res.drop(\"level_1\", axis=1)\n",
    "    return res.melt(id_vars=state_col, var_name=\"neuron_id\", value_name=name)\n",
    "\n",
    "\n",
    "def _avg_pairwise_corr(df):\n",
    "    return df.apply(zscore).dropna(axis=1).corr().mean()\n",
    "\n",
    "\n",
    "def avg_pairwise_corr_by(df, state_col=\"state\", name=\"avg_corr\"):\n",
    "    res = df.groupby(state_col).apply(_avg_pairwise_corr).reset_index()\n",
    "    if \"level_1\" in res.columns:\n",
    "        res = res.drop(\"level_1\", axis=1)\n",
    "    return res.melt(id_vars=state_col, var_name=\"neuron_id\", value_name=name)\n",
    "\n"
   ]
  },
  {
   "cell_type": "code",
   "execution_count": 3,
   "metadata": {},
   "outputs": [],
   "source": [
    "eeg_states = load_derived_generic(\"eeg_states.csv\").rename(columns={\"cluster\": \"state\"})\n",
    "\n",
    "eeg_states =eeg_states.loc[lambda x: x.quality == \"good\"]\n",
    "\n",
    "neurons = load_neurons()\n",
    "\n",
    "sessions = neurons[[\"session_name\"]].drop_duplicates().merge(eeg_states[[\"session_name\"]].drop_duplicates())[\"session_name\"].unique()\n",
    "t_start=0\n",
    "t_stop=1800\n",
    "bin_width=0.1"
   ]
  },
  {
   "cell_type": "code",
   "execution_count": 4,
   "metadata": {},
   "outputs": [
    {
     "name": "stderr",
     "output_type": "stream",
     "text": [
      "c:\\Users\\roryl\\.conda\\envs\\drn-interactions\\lib\\site-packages\\outdated\\utils.py:18: OutdatedPackageWarning: The package pingouin is out of date. Your version is 0.4.0, the latest is 0.5.1.\n",
      "Set the environment variable OUTDATED_IGNORE=1 to disable these warnings.\n",
      "  **kwargs\n"
     ]
    }
   ],
   "source": [
    "session_name = sessions[1]\n",
    "eeg = eeg_states.loc[lambda x: x.session_name == session_name]\n",
    "sh = SpikesHandler(block=\"pre\", t_start=0, t_stop=1800, bin_width=0.1, session_names=[session_name])\n",
    "\n",
    "bins_state = get_state_piv(sh.binned_piv, eeg)\n",
    "act_spikes = bins_state.loc[lambda x: x.state == \"act\"].drop(\"state\", axis=1)\n",
    "sw_spikes = bins_state.loc[lambda x: x.state == \"sw\"].drop(\"state\", axis=1)"
   ]
  },
  {
   "cell_type": "code",
   "execution_count": 5,
   "metadata": {},
   "outputs": [
    {
     "data": {
      "application/vnd.jupyter.widget-view+json": {
       "model_id": "14aaccb4a24e4005a89a2568e2633930",
       "version_major": 2,
       "version_minor": 0
      },
      "text/plain": [
       "  0%|          | 0/6 [00:00<?, ?it/s]"
      ]
     },
     "metadata": {},
     "output_type": "display_data"
    },
    {
     "name": "stderr",
     "output_type": "stream",
     "text": [
      "c:\\Users\\roryl\\.conda\\envs\\drn-interactions\\lib\\site-packages\\numpy\\core\\fromnumeric.py:3373: RuntimeWarning: Mean of empty slice.\n",
      "  out=out, **kwargs)\n",
      "c:\\Users\\roryl\\.conda\\envs\\drn-interactions\\lib\\site-packages\\numpy\\core\\_methods.py:170: RuntimeWarning: invalid value encountered in double_scalars\n",
      "  ret = ret.dtype.type(ret / rcount)\n",
      "c:\\Users\\roryl\\.conda\\envs\\drn-interactions\\lib\\site-packages\\scipy\\stats\\stats.py:2500: RuntimeWarning: invalid value encountered in true_divide\n",
      "  return (a - mns) / sstd\n",
      "c:\\Users\\roryl\\.conda\\envs\\drn-interactions\\lib\\site-packages\\pingouin\\correlation.py:929: RuntimeWarning: invalid value encountered in sqrt\n",
      "  D = np.diag(np.sqrt(1 / np.diag(Vi)))\n",
      "c:\\Users\\roryl\\.conda\\envs\\drn-interactions\\lib\\site-packages\\scipy\\stats\\stats.py:2500: RuntimeWarning: invalid value encountered in true_divide\n",
      "  return (a - mns) / sstd\n",
      "c:\\Users\\roryl\\.conda\\envs\\drn-interactions\\lib\\site-packages\\scipy\\stats\\stats.py:2500: RuntimeWarning: invalid value encountered in true_divide\n",
      "  return (a - mns) / sstd\n",
      "c:\\Users\\roryl\\.conda\\envs\\drn-interactions\\lib\\site-packages\\scipy\\stats\\stats.py:2500: RuntimeWarning: invalid value encountered in true_divide\n",
      "  return (a - mns) / sstd\n",
      "c:\\Users\\roryl\\.conda\\envs\\drn-interactions\\lib\\site-packages\\numpy\\core\\fromnumeric.py:3373: RuntimeWarning: Mean of empty slice.\n",
      "  out=out, **kwargs)\n",
      "c:\\Users\\roryl\\.conda\\envs\\drn-interactions\\lib\\site-packages\\numpy\\core\\_methods.py:170: RuntimeWarning: invalid value encountered in double_scalars\n",
      "  ret = ret.dtype.type(ret / rcount)\n",
      "c:\\Users\\roryl\\.conda\\envs\\drn-interactions\\lib\\site-packages\\scipy\\stats\\stats.py:2500: RuntimeWarning: invalid value encountered in true_divide\n",
      "  return (a - mns) / sstd\n",
      "c:\\Users\\roryl\\.conda\\envs\\drn-interactions\\lib\\site-packages\\scipy\\stats\\stats.py:2500: RuntimeWarning: invalid value encountered in true_divide\n",
      "  return (a - mns) / sstd\n",
      "c:\\Users\\roryl\\.conda\\envs\\drn-interactions\\lib\\site-packages\\scipy\\stats\\stats.py:2500: RuntimeWarning: invalid value encountered in true_divide\n",
      "  return (a - mns) / sstd\n",
      "c:\\Users\\roryl\\.conda\\envs\\drn-interactions\\lib\\site-packages\\scipy\\stats\\stats.py:2500: RuntimeWarning: invalid value encountered in true_divide\n",
      "  return (a - mns) / sstd\n"
     ]
    }
   ],
   "source": [
    "df_list = []\n",
    "for session_name in tqdm(sessions):\n",
    "    eeg = eeg_states.loc[lambda x: x.session_name == session_name]\n",
    "    sh_long = SpikesHandler(block=\"pre\", t_start=0, t_stop=1800, bin_width=1, session_names=[session_name])\n",
    "    df = get_state_long(sh_long.spikes, eeg[[\"timepoint_s\", \"state\"]], index_name=\"spiketimes\")\n",
    "    mfr = df.groupby([\"neuron_id\", \"state\",])[\"spiketimes\"].apply(mean_firing_rate).to_frame(name=\"mfr\").reset_index()\n",
    "    cv_b = df.groupby([\"neuron_id\", \"state\"])[\"spiketimes\"].apply(cv_isi_burst).to_frame(name=\"cv_burst\").reset_index()\n",
    "    \n",
    "    bins_state_long = get_state_piv(filter_active(sh_long.binned_piv), eeg)\n",
    "\n",
    "    popc_long = bins_state_long.groupby(\"state\").apply(popcup_zerolag, nlags=100, name=\"pc_long\").reset_index().drop(\"level_1\", axis=1)\n",
    "    pcorr_long = avg_pairwise_pcorr_by(bins_state_long, state_col=\"state\", name=\"pcorr_long\")\n",
    "    corr_long = avg_pairwise_corr_by(bins_state_long, state_col=\"state\", name=\"corr_long\")\n",
    "\n",
    "\n",
    "    sh_short = SpikesHandler(block=\"pre\", t_start=0, t_stop=1800, bin_width=0.01, session_names=[session_name])\n",
    "    bins_state_short = get_state_piv(filter_active(sh_short.binned_piv), eeg)\n",
    "    pcorr_short = avg_pairwise_pcorr_by(bins_state_short, state_col=\"state\", name=\"pcorr_short\")\n",
    "    corr_short = avg_pairwise_corr_by(bins_state_short, state_col=\"state\", name=\"corr_short\")\n",
    "\n",
    "    popc_short = bins_state_short.groupby(\"state\").apply(popcup_zerolag, nlags=100, name=\"pc_short\").reset_index().drop(\"level_1\", axis=1)\n",
    "    \n",
    "    res = mfr.merge(cv_b).merge(popc_long).merge(popc_short).merge(pcorr_long, how=\"outer\").merge(pcorr_short,how=\"outer\").merge(corr_long).merge(corr_short).assign(session_name=session_name)\n",
    "    df_list.append(res)"
   ]
  },
  {
   "cell_type": "code",
   "execution_count": 6,
   "metadata": {},
   "outputs": [],
   "source": [
    "# from drn_interactions.load import load_clusters\n",
    "\n",
    "# clusters = load_derived_generic(\"clusters.csv\")\n",
    "clusters = load_derived_generic(\"graph_clusters.csv\")\n",
    "\n",
    "df_res = pd.concat(df_list).merge(clusters)"
   ]
  },
  {
   "cell_type": "code",
   "execution_count": 7,
   "metadata": {},
   "outputs": [
    {
     "data": {
      "text/plain": [
       "Index(['neuron_id', 'state', 'mfr', 'cv_burst', 'pc_long', 'pc_short',\n",
       "       'pcorr_long', 'pcorr_short', 'corr_long', 'corr_short', 'session_name',\n",
       "       'hdb', 'louvain'],\n",
       "      dtype='object')"
      ]
     },
     "execution_count": 7,
     "metadata": {},
     "output_type": "execute_result"
    }
   ],
   "source": [
    "df_res.columns"
   ]
  },
  {
   "cell_type": "code",
   "execution_count": 8,
   "metadata": {},
   "outputs": [
    {
     "data": {
      "text/plain": [
       "Index(['neuron_id', 'hdb', 'louvain'], dtype='object')"
      ]
     },
     "execution_count": 8,
     "metadata": {},
     "output_type": "execute_result"
    }
   ],
   "source": [
    "clusters.columns"
   ]
  },
  {
   "cell_type": "code",
   "execution_count": 9,
   "metadata": {},
   "outputs": [],
   "source": [
    "import statsmodels.formula.api as smf\n",
    "from statsmodels.stats.anova import anova_lm"
   ]
  },
  {
   "cell_type": "code",
   "execution_count": 19,
   "metadata": {},
   "outputs": [
    {
     "data": {
      "text/html": [
       "<div>\n",
       "<style scoped>\n",
       "    .dataframe tbody tr th:only-of-type {\n",
       "        vertical-align: middle;\n",
       "    }\n",
       "\n",
       "    .dataframe tbody tr th {\n",
       "        vertical-align: top;\n",
       "    }\n",
       "\n",
       "    .dataframe thead th {\n",
       "        text-align: right;\n",
       "    }\n",
       "</style>\n",
       "<table border=\"1\" class=\"dataframe\">\n",
       "  <thead>\n",
       "    <tr style=\"text-align: right;\">\n",
       "      <th></th>\n",
       "      <th>df</th>\n",
       "      <th>sum_sq</th>\n",
       "      <th>mean_sq</th>\n",
       "      <th>F</th>\n",
       "      <th>PR(&gt;F)</th>\n",
       "    </tr>\n",
       "  </thead>\n",
       "  <tbody>\n",
       "    <tr>\n",
       "      <th>state</th>\n",
       "      <td>1.0</td>\n",
       "      <td>7.92</td>\n",
       "      <td>7.92</td>\n",
       "      <td>0.64</td>\n",
       "      <td>0.43</td>\n",
       "    </tr>\n",
       "    <tr>\n",
       "      <th>hdb</th>\n",
       "      <td>1.0</td>\n",
       "      <td>81.24</td>\n",
       "      <td>81.24</td>\n",
       "      <td>6.56</td>\n",
       "      <td>0.01</td>\n",
       "    </tr>\n",
       "    <tr>\n",
       "      <th>state:hdb</th>\n",
       "      <td>1.0</td>\n",
       "      <td>0.07</td>\n",
       "      <td>0.07</td>\n",
       "      <td>0.01</td>\n",
       "      <td>0.94</td>\n",
       "    </tr>\n",
       "    <tr>\n",
       "      <th>Residual</th>\n",
       "      <td>78.0</td>\n",
       "      <td>966.20</td>\n",
       "      <td>12.39</td>\n",
       "      <td>NaN</td>\n",
       "      <td>NaN</td>\n",
       "    </tr>\n",
       "  </tbody>\n",
       "</table>\n",
       "</div>"
      ],
      "text/plain": [
       "             df  sum_sq  mean_sq     F  PR(>F)\n",
       "state       1.0    7.92     7.92  0.64    0.43\n",
       "hdb         1.0   81.24    81.24  6.56    0.01\n",
       "state:hdb   1.0    0.07     0.07  0.01    0.94\n",
       "Residual   78.0  966.20    12.39   NaN     NaN"
      ]
     },
     "execution_count": 19,
     "metadata": {},
     "output_type": "execute_result"
    }
   ],
   "source": [
    "mod = smf.ols(\"mfr ~ state * hdb\", data=df_res).fit()\n",
    "\n",
    "anova_lm(mod).round(2)"
   ]
  },
  {
   "cell_type": "code",
   "execution_count": 20,
   "metadata": {},
   "outputs": [
    {
     "data": {
      "text/html": [
       "<div>\n",
       "<style scoped>\n",
       "    .dataframe tbody tr th:only-of-type {\n",
       "        vertical-align: middle;\n",
       "    }\n",
       "\n",
       "    .dataframe tbody tr th {\n",
       "        vertical-align: top;\n",
       "    }\n",
       "\n",
       "    .dataframe thead th {\n",
       "        text-align: right;\n",
       "    }\n",
       "</style>\n",
       "<table border=\"1\" class=\"dataframe\">\n",
       "  <thead>\n",
       "    <tr style=\"text-align: right;\">\n",
       "      <th></th>\n",
       "      <th>df</th>\n",
       "      <th>sum_sq</th>\n",
       "      <th>mean_sq</th>\n",
       "      <th>F</th>\n",
       "      <th>PR(&gt;F)</th>\n",
       "    </tr>\n",
       "  </thead>\n",
       "  <tbody>\n",
       "    <tr>\n",
       "      <th>state</th>\n",
       "      <td>1.0</td>\n",
       "      <td>7.92</td>\n",
       "      <td>7.92</td>\n",
       "      <td>0.64</td>\n",
       "      <td>0.43</td>\n",
       "    </tr>\n",
       "    <tr>\n",
       "      <th>hdb</th>\n",
       "      <td>1.0</td>\n",
       "      <td>81.24</td>\n",
       "      <td>81.24</td>\n",
       "      <td>6.56</td>\n",
       "      <td>0.01</td>\n",
       "    </tr>\n",
       "    <tr>\n",
       "      <th>state:hdb</th>\n",
       "      <td>1.0</td>\n",
       "      <td>0.07</td>\n",
       "      <td>0.07</td>\n",
       "      <td>0.01</td>\n",
       "      <td>0.94</td>\n",
       "    </tr>\n",
       "    <tr>\n",
       "      <th>Residual</th>\n",
       "      <td>78.0</td>\n",
       "      <td>966.20</td>\n",
       "      <td>12.39</td>\n",
       "      <td>NaN</td>\n",
       "      <td>NaN</td>\n",
       "    </tr>\n",
       "  </tbody>\n",
       "</table>\n",
       "</div>"
      ],
      "text/plain": [
       "             df  sum_sq  mean_sq     F  PR(>F)\n",
       "state       1.0    7.92     7.92  0.64    0.43\n",
       "hdb         1.0   81.24    81.24  6.56    0.01\n",
       "state:hdb   1.0    0.07     0.07  0.01    0.94\n",
       "Residual   78.0  966.20    12.39   NaN     NaN"
      ]
     },
     "execution_count": 20,
     "metadata": {},
     "output_type": "execute_result"
    },
    {
     "data": {
      "text/plain": [
       "<Figure size 432x288 with 0 Axes>"
      ]
     },
     "metadata": {},
     "output_type": "display_data"
    },
    {
     "data": {
      "image/png": "[encoded data removed]",
      "text/plain": [
       "<Figure size 1296x216 with 6 Axes>"
      ]
     },
     "metadata": {
      "needs_background": "light"
     },
     "output_type": "display_data"
    }
   ],
   "source": [
    "plt.figure()\n",
    "sns.FacetGrid(data=df_res, col=\"hdb\", sharey=True).map_dataframe(sns.pointplot, x=\"state\", y=\"mfr\")\n",
    "mod = smf.ols(\"mfr ~ state * hdb\", data=df_res).fit()\n",
    "anova_lm(mod).round(2)"
   ]
  },
  {
   "cell_type": "code",
   "execution_count": 21,
   "metadata": {},
   "outputs": [
    {
     "data": {
      "text/html": [
       "<div>\n",
       "<style scoped>\n",
       "    .dataframe tbody tr th:only-of-type {\n",
       "        vertical-align: middle;\n",
       "    }\n",
       "\n",
       "    .dataframe tbody tr th {\n",
       "        vertical-align: top;\n",
       "    }\n",
       "\n",
       "    .dataframe thead th {\n",
       "        text-align: right;\n",
       "    }\n",
       "</style>\n",
       "<table border=\"1\" class=\"dataframe\">\n",
       "  <thead>\n",
       "    <tr style=\"text-align: right;\">\n",
       "      <th></th>\n",
       "      <th>df</th>\n",
       "      <th>sum_sq</th>\n",
       "      <th>mean_sq</th>\n",
       "      <th>F</th>\n",
       "      <th>PR(&gt;F)</th>\n",
       "    </tr>\n",
       "  </thead>\n",
       "  <tbody>\n",
       "    <tr>\n",
       "      <th>state</th>\n",
       "      <td>1.0</td>\n",
       "      <td>0.08</td>\n",
       "      <td>0.08</td>\n",
       "      <td>2.43</td>\n",
       "      <td>0.12</td>\n",
       "    </tr>\n",
       "    <tr>\n",
       "      <th>hdb</th>\n",
       "      <td>1.0</td>\n",
       "      <td>0.36</td>\n",
       "      <td>0.36</td>\n",
       "      <td>10.64</td>\n",
       "      <td>0.00</td>\n",
       "    </tr>\n",
       "    <tr>\n",
       "      <th>state:hdb</th>\n",
       "      <td>1.0</td>\n",
       "      <td>0.01</td>\n",
       "      <td>0.01</td>\n",
       "      <td>0.24</td>\n",
       "      <td>0.62</td>\n",
       "    </tr>\n",
       "    <tr>\n",
       "      <th>Residual</th>\n",
       "      <td>78.0</td>\n",
       "      <td>2.63</td>\n",
       "      <td>0.03</td>\n",
       "      <td>NaN</td>\n",
       "      <td>NaN</td>\n",
       "    </tr>\n",
       "  </tbody>\n",
       "</table>\n",
       "</div>"
      ],
      "text/plain": [
       "             df  sum_sq  mean_sq      F  PR(>F)\n",
       "state       1.0    0.08     0.08   2.43    0.12\n",
       "hdb         1.0    0.36     0.36  10.64    0.00\n",
       "state:hdb   1.0    0.01     0.01   0.24    0.62\n",
       "Residual   78.0    2.63     0.03    NaN     NaN"
      ]
     },
     "execution_count": 21,
     "metadata": {},
     "output_type": "execute_result"
    },
    {
     "data": {
      "text/plain": [
       "<Figure size 432x288 with 0 Axes>"
      ]
     },
     "metadata": {},
     "output_type": "display_data"
    },
    {
     "data": {
      "image/png": "[encoded data removed]",
      "text/plain": [
       "<Figure size 1296x216 with 6 Axes>"
      ]
     },
     "metadata": {
      "needs_background": "light"
     },
     "output_type": "display_data"
    }
   ],
   "source": [
    "plt.figure()\n",
    "sns.FacetGrid(data=df_res, col=\"hdb\", sharey=True).map_dataframe(sns.pointplot, x=\"state\", y=\"cv_burst\")\n",
    "\n",
    "mod = smf.ols(\"cv_burst ~ state * hdb\", data=df_res).fit()\n",
    "anova_lm(mod).round(2)"
   ]
  },
  {
   "cell_type": "code",
   "execution_count": 22,
   "metadata": {},
   "outputs": [
    {
     "data": {
      "text/html": [
       "<div>\n",
       "<style scoped>\n",
       "    .dataframe tbody tr th:only-of-type {\n",
       "        vertical-align: middle;\n",
       "    }\n",
       "\n",
       "    .dataframe tbody tr th {\n",
       "        vertical-align: top;\n",
       "    }\n",
       "\n",
       "    .dataframe thead th {\n",
       "        text-align: right;\n",
       "    }\n",
       "</style>\n",
       "<table border=\"1\" class=\"dataframe\">\n",
       "  <thead>\n",
       "    <tr style=\"text-align: right;\">\n",
       "      <th></th>\n",
       "      <th>df</th>\n",
       "      <th>sum_sq</th>\n",
       "      <th>mean_sq</th>\n",
       "      <th>F</th>\n",
       "      <th>PR(&gt;F)</th>\n",
       "    </tr>\n",
       "  </thead>\n",
       "  <tbody>\n",
       "    <tr>\n",
       "      <th>state</th>\n",
       "      <td>1.0</td>\n",
       "      <td>0.01</td>\n",
       "      <td>0.01</td>\n",
       "      <td>16.35</td>\n",
       "      <td>0.00</td>\n",
       "    </tr>\n",
       "    <tr>\n",
       "      <th>hdb</th>\n",
       "      <td>1.0</td>\n",
       "      <td>0.00</td>\n",
       "      <td>0.00</td>\n",
       "      <td>0.22</td>\n",
       "      <td>0.64</td>\n",
       "    </tr>\n",
       "    <tr>\n",
       "      <th>state:hdb</th>\n",
       "      <td>1.0</td>\n",
       "      <td>0.00</td>\n",
       "      <td>0.00</td>\n",
       "      <td>0.16</td>\n",
       "      <td>0.69</td>\n",
       "    </tr>\n",
       "    <tr>\n",
       "      <th>Residual</th>\n",
       "      <td>78.0</td>\n",
       "      <td>0.03</td>\n",
       "      <td>0.00</td>\n",
       "      <td>NaN</td>\n",
       "      <td>NaN</td>\n",
       "    </tr>\n",
       "  </tbody>\n",
       "</table>\n",
       "</div>"
      ],
      "text/plain": [
       "             df  sum_sq  mean_sq      F  PR(>F)\n",
       "state       1.0    0.01     0.01  16.35    0.00\n",
       "hdb         1.0    0.00     0.00   0.22    0.64\n",
       "state:hdb   1.0    0.00     0.00   0.16    0.69\n",
       "Residual   78.0    0.03     0.00    NaN     NaN"
      ]
     },
     "execution_count": 22,
     "metadata": {},
     "output_type": "execute_result"
    },
    {
     "data": {
      "text/plain": [
       "<Figure size 432x288 with 0 Axes>"
      ]
     },
     "metadata": {},
     "output_type": "display_data"
    },
    {
     "data": {
      "image/png": "[encoded data removed]",
      "text/plain": [
       "<Figure size 1296x216 with 6 Axes>"
      ]
     },
     "metadata": {
      "needs_background": "light"
     },
     "output_type": "display_data"
    }
   ],
   "source": [
    "plt.figure()\n",
    "sns.FacetGrid(data=df_res, \n",
    "col=\"hdb\", sharey=True).map_dataframe(sns.pointplot, x=\"state\", y=\"pc_short\")\n",
    "\n",
    "mod = smf.ols(\"pc_short ~ state * hdb\", data=df_res).fit()\n",
    "anova_lm(mod).round(2)"
   ]
  },
  {
   "cell_type": "code",
   "execution_count": 26,
   "metadata": {},
   "outputs": [
    {
     "data": {
      "text/html": [
       "<div>\n",
       "<style scoped>\n",
       "    .dataframe tbody tr th:only-of-type {\n",
       "        vertical-align: middle;\n",
       "    }\n",
       "\n",
       "    .dataframe tbody tr th {\n",
       "        vertical-align: top;\n",
       "    }\n",
       "\n",
       "    .dataframe thead th {\n",
       "        text-align: right;\n",
       "    }\n",
       "</style>\n",
       "<table border=\"1\" class=\"dataframe\">\n",
       "  <thead>\n",
       "    <tr style=\"text-align: right;\">\n",
       "      <th></th>\n",
       "      <th>df</th>\n",
       "      <th>sum_sq</th>\n",
       "      <th>mean_sq</th>\n",
       "      <th>F</th>\n",
       "      <th>PR(&gt;F)</th>\n",
       "    </tr>\n",
       "  </thead>\n",
       "  <tbody>\n",
       "    <tr>\n",
       "      <th>state</th>\n",
       "      <td>1.0</td>\n",
       "      <td>0.06</td>\n",
       "      <td>0.06</td>\n",
       "      <td>2.26</td>\n",
       "      <td>0.14</td>\n",
       "    </tr>\n",
       "    <tr>\n",
       "      <th>hdb</th>\n",
       "      <td>1.0</td>\n",
       "      <td>0.01</td>\n",
       "      <td>0.01</td>\n",
       "      <td>0.53</td>\n",
       "      <td>0.47</td>\n",
       "    </tr>\n",
       "    <tr>\n",
       "      <th>state:hdb</th>\n",
       "      <td>1.0</td>\n",
       "      <td>0.01</td>\n",
       "      <td>0.01</td>\n",
       "      <td>0.35</td>\n",
       "      <td>0.56</td>\n",
       "    </tr>\n",
       "    <tr>\n",
       "      <th>Residual</th>\n",
       "      <td>78.0</td>\n",
       "      <td>2.05</td>\n",
       "      <td>0.03</td>\n",
       "      <td>NaN</td>\n",
       "      <td>NaN</td>\n",
       "    </tr>\n",
       "  </tbody>\n",
       "</table>\n",
       "</div>"
      ],
      "text/plain": [
       "             df  sum_sq  mean_sq     F  PR(>F)\n",
       "state       1.0    0.06     0.06  2.26    0.14\n",
       "hdb         1.0    0.01     0.01  0.53    0.47\n",
       "state:hdb   1.0    0.01     0.01  0.35    0.56\n",
       "Residual   78.0    2.05     0.03   NaN     NaN"
      ]
     },
     "execution_count": 26,
     "metadata": {},
     "output_type": "execute_result"
    },
    {
     "data": {
      "text/plain": [
       "<Figure size 432x288 with 0 Axes>"
      ]
     },
     "metadata": {},
     "output_type": "display_data"
    },
    {
     "data": {
      "image/png": "[encoded data removed]",
      "text/plain": [
       "<Figure size 1296x216 with 6 Axes>"
      ]
     },
     "metadata": {
      "needs_background": "light"
     },
     "output_type": "display_data"
    }
   ],
   "source": [
    "plt.figure()\n",
    "sns.FacetGrid(data=df_res, \n",
    "col=\"hdb\", sharey=True).map_dataframe(sns.pointplot, x=\"state\", y=\"pc_long\")\n",
    "\n",
    "mod = smf.ols(\"pc_long ~ state * hdb\", data=df_res).fit()\n",
    "anova_lm(mod).round(2)\n"
   ]
  },
  {
   "cell_type": "code",
   "execution_count": 27,
   "metadata": {},
   "outputs": [
    {
     "data": {
      "text/html": [
       "<div>\n",
       "<style scoped>\n",
       "    .dataframe tbody tr th:only-of-type {\n",
       "        vertical-align: middle;\n",
       "    }\n",
       "\n",
       "    .dataframe tbody tr th {\n",
       "        vertical-align: top;\n",
       "    }\n",
       "\n",
       "    .dataframe thead th {\n",
       "        text-align: right;\n",
       "    }\n",
       "</style>\n",
       "<table border=\"1\" class=\"dataframe\">\n",
       "  <thead>\n",
       "    <tr style=\"text-align: right;\">\n",
       "      <th></th>\n",
       "      <th>df</th>\n",
       "      <th>sum_sq</th>\n",
       "      <th>mean_sq</th>\n",
       "      <th>F</th>\n",
       "      <th>PR(&gt;F)</th>\n",
       "    </tr>\n",
       "  </thead>\n",
       "  <tbody>\n",
       "    <tr>\n",
       "      <th>state</th>\n",
       "      <td>1.0</td>\n",
       "      <td>0.00</td>\n",
       "      <td>0.00</td>\n",
       "      <td>0.48</td>\n",
       "      <td>0.49</td>\n",
       "    </tr>\n",
       "    <tr>\n",
       "      <th>hdb</th>\n",
       "      <td>1.0</td>\n",
       "      <td>0.01</td>\n",
       "      <td>0.01</td>\n",
       "      <td>6.72</td>\n",
       "      <td>0.01</td>\n",
       "    </tr>\n",
       "    <tr>\n",
       "      <th>state:hdb</th>\n",
       "      <td>1.0</td>\n",
       "      <td>0.00</td>\n",
       "      <td>0.00</td>\n",
       "      <td>0.00</td>\n",
       "      <td>0.95</td>\n",
       "    </tr>\n",
       "    <tr>\n",
       "      <th>Residual</th>\n",
       "      <td>78.0</td>\n",
       "      <td>0.09</td>\n",
       "      <td>0.00</td>\n",
       "      <td>NaN</td>\n",
       "      <td>NaN</td>\n",
       "    </tr>\n",
       "  </tbody>\n",
       "</table>\n",
       "</div>"
      ],
      "text/plain": [
       "             df  sum_sq  mean_sq     F  PR(>F)\n",
       "state       1.0    0.00     0.00  0.48    0.49\n",
       "hdb         1.0    0.01     0.01  6.72    0.01\n",
       "state:hdb   1.0    0.00     0.00  0.00    0.95\n",
       "Residual   78.0    0.09     0.00   NaN     NaN"
      ]
     },
     "execution_count": 27,
     "metadata": {},
     "output_type": "execute_result"
    },
    {
     "data": {
      "text/plain": [
       "<Figure size 432x288 with 0 Axes>"
      ]
     },
     "metadata": {},
     "output_type": "display_data"
    },
    {
     "data": {
      "image/png": "[encoded data removed]",
      "text/plain": [
       "<Figure size 1296x216 with 6 Axes>"
      ]
     },
     "metadata": {
      "needs_background": "light"
     },
     "output_type": "display_data"
    }
   ],
   "source": [
    "df_res[\"pcorr_short_abs\"] = df_res[\"pcorr_short\"].abs()\n",
    "\n",
    "plt.figure()\n",
    "sns.FacetGrid(data=df_res, col=\"hdb\", sharey=True).map_dataframe(sns.pointplot, x=\"state\", y=\"pcorr_short\")\n",
    "\n",
    "mod = smf.ols(\"pcorr_short ~ state * hdb\", data=df_res).fit()\n",
    "anova_lm(mod).round(2)"
   ]
  },
  {
   "cell_type": "code",
   "execution_count": 28,
   "metadata": {},
   "outputs": [
    {
     "data": {
      "text/html": [
       "<div>\n",
       "<style scoped>\n",
       "    .dataframe tbody tr th:only-of-type {\n",
       "        vertical-align: middle;\n",
       "    }\n",
       "\n",
       "    .dataframe tbody tr th {\n",
       "        vertical-align: top;\n",
       "    }\n",
       "\n",
       "    .dataframe thead th {\n",
       "        text-align: right;\n",
       "    }\n",
       "</style>\n",
       "<table border=\"1\" class=\"dataframe\">\n",
       "  <thead>\n",
       "    <tr style=\"text-align: right;\">\n",
       "      <th></th>\n",
       "      <th>df</th>\n",
       "      <th>sum_sq</th>\n",
       "      <th>mean_sq</th>\n",
       "      <th>F</th>\n",
       "      <th>PR(&gt;F)</th>\n",
       "    </tr>\n",
       "  </thead>\n",
       "  <tbody>\n",
       "    <tr>\n",
       "      <th>state</th>\n",
       "      <td>1.0</td>\n",
       "      <td>0.00</td>\n",
       "      <td>0.00</td>\n",
       "      <td>0.34</td>\n",
       "      <td>0.56</td>\n",
       "    </tr>\n",
       "    <tr>\n",
       "      <th>hdb</th>\n",
       "      <td>1.0</td>\n",
       "      <td>0.02</td>\n",
       "      <td>0.02</td>\n",
       "      <td>6.88</td>\n",
       "      <td>0.01</td>\n",
       "    </tr>\n",
       "    <tr>\n",
       "      <th>state:hdb</th>\n",
       "      <td>1.0</td>\n",
       "      <td>0.00</td>\n",
       "      <td>0.00</td>\n",
       "      <td>0.01</td>\n",
       "      <td>0.92</td>\n",
       "    </tr>\n",
       "    <tr>\n",
       "      <th>Residual</th>\n",
       "      <td>78.0</td>\n",
       "      <td>0.23</td>\n",
       "      <td>0.00</td>\n",
       "      <td>NaN</td>\n",
       "      <td>NaN</td>\n",
       "    </tr>\n",
       "  </tbody>\n",
       "</table>\n",
       "</div>"
      ],
      "text/plain": [
       "             df  sum_sq  mean_sq     F  PR(>F)\n",
       "state       1.0    0.00     0.00  0.34    0.56\n",
       "hdb         1.0    0.02     0.02  6.88    0.01\n",
       "state:hdb   1.0    0.00     0.00  0.01    0.92\n",
       "Residual   78.0    0.23     0.00   NaN     NaN"
      ]
     },
     "execution_count": 28,
     "metadata": {},
     "output_type": "execute_result"
    },
    {
     "data": {
      "text/plain": [
       "<Figure size 432x288 with 0 Axes>"
      ]
     },
     "metadata": {},
     "output_type": "display_data"
    },
    {
     "data": {
      "image/png": "[encoded data removed]",
      "text/plain": [
       "<Figure size 1296x216 with 6 Axes>"
      ]
     },
     "metadata": {
      "needs_background": "light"
     },
     "output_type": "display_data"
    }
   ],
   "source": [
    "df_res[\"pcorr_long_abs\"] = df_res[\"pcorr_long\"].abs()\n",
    "\n",
    "plt.figure()\n",
    "sns.FacetGrid(data=df_res, col=\"hdb\", sharey=True).map_dataframe(sns.pointplot, x=\"state\", y=\"pcorr_long\")\n",
    "\n",
    "mod = smf.ols(\"pcorr_long ~ state * hdb\", data=df_res).fit()\n",
    "anova_lm(mod).round(2)"
   ]
  },
  {
   "cell_type": "code",
   "execution_count": 29,
   "metadata": {},
   "outputs": [
    {
     "data": {
      "text/html": [
       "<div>\n",
       "<style scoped>\n",
       "    .dataframe tbody tr th:only-of-type {\n",
       "        vertical-align: middle;\n",
       "    }\n",
       "\n",
       "    .dataframe tbody tr th {\n",
       "        vertical-align: top;\n",
       "    }\n",
       "\n",
       "    .dataframe thead th {\n",
       "        text-align: right;\n",
       "    }\n",
       "</style>\n",
       "<table border=\"1\" class=\"dataframe\">\n",
       "  <thead>\n",
       "    <tr style=\"text-align: right;\">\n",
       "      <th></th>\n",
       "      <th>df</th>\n",
       "      <th>sum_sq</th>\n",
       "      <th>mean_sq</th>\n",
       "      <th>F</th>\n",
       "      <th>PR(&gt;F)</th>\n",
       "    </tr>\n",
       "  </thead>\n",
       "  <tbody>\n",
       "    <tr>\n",
       "      <th>state</th>\n",
       "      <td>1.0</td>\n",
       "      <td>0.00</td>\n",
       "      <td>0.00</td>\n",
       "      <td>1.87</td>\n",
       "      <td>0.18</td>\n",
       "    </tr>\n",
       "    <tr>\n",
       "      <th>hdb</th>\n",
       "      <td>1.0</td>\n",
       "      <td>0.01</td>\n",
       "      <td>0.01</td>\n",
       "      <td>7.48</td>\n",
       "      <td>0.01</td>\n",
       "    </tr>\n",
       "    <tr>\n",
       "      <th>state:hdb</th>\n",
       "      <td>1.0</td>\n",
       "      <td>0.00</td>\n",
       "      <td>0.00</td>\n",
       "      <td>0.01</td>\n",
       "      <td>0.91</td>\n",
       "    </tr>\n",
       "    <tr>\n",
       "      <th>Residual</th>\n",
       "      <td>78.0</td>\n",
       "      <td>0.08</td>\n",
       "      <td>0.00</td>\n",
       "      <td>NaN</td>\n",
       "      <td>NaN</td>\n",
       "    </tr>\n",
       "  </tbody>\n",
       "</table>\n",
       "</div>"
      ],
      "text/plain": [
       "             df  sum_sq  mean_sq     F  PR(>F)\n",
       "state       1.0    0.00     0.00  1.87    0.18\n",
       "hdb         1.0    0.01     0.01  7.48    0.01\n",
       "state:hdb   1.0    0.00     0.00  0.01    0.91\n",
       "Residual   78.0    0.08     0.00   NaN     NaN"
      ]
     },
     "execution_count": 29,
     "metadata": {},
     "output_type": "execute_result"
    },
    {
     "data": {
      "text/plain": [
       "<Figure size 432x288 with 0 Axes>"
      ]
     },
     "metadata": {},
     "output_type": "display_data"
    },
    {
     "data": {
      "image/png": "[encoded data removed]",
      "text/plain": [
       "<Figure size 1296x216 with 6 Axes>"
      ]
     },
     "metadata": {
      "needs_background": "light"
     },
     "output_type": "display_data"
    }
   ],
   "source": [
    "\n",
    "\n",
    "plt.figure()\n",
    "sns.FacetGrid(data=df_res, \n",
    "col=\"hdb\", sharey=True).map_dataframe(sns.pointplot, x=\"state\", y=\"corr_short\")\n",
    "\n",
    "mod = smf.ols(\"corr_short ~ state * hdb\", data=df_res).fit()\n",
    "anova_lm(mod).round(2)"
   ]
  },
  {
   "cell_type": "code",
   "execution_count": 30,
   "metadata": {},
   "outputs": [
    {
     "data": {
      "text/html": [
       "<div>\n",
       "<style scoped>\n",
       "    .dataframe tbody tr th:only-of-type {\n",
       "        vertical-align: middle;\n",
       "    }\n",
       "\n",
       "    .dataframe tbody tr th {\n",
       "        vertical-align: top;\n",
       "    }\n",
       "\n",
       "    .dataframe thead th {\n",
       "        text-align: right;\n",
       "    }\n",
       "</style>\n",
       "<table border=\"1\" class=\"dataframe\">\n",
       "  <thead>\n",
       "    <tr style=\"text-align: right;\">\n",
       "      <th></th>\n",
       "      <th>df</th>\n",
       "      <th>sum_sq</th>\n",
       "      <th>mean_sq</th>\n",
       "      <th>F</th>\n",
       "      <th>PR(&gt;F)</th>\n",
       "    </tr>\n",
       "  </thead>\n",
       "  <tbody>\n",
       "    <tr>\n",
       "      <th>state</th>\n",
       "      <td>1.0</td>\n",
       "      <td>0.10</td>\n",
       "      <td>0.10</td>\n",
       "      <td>7.47</td>\n",
       "      <td>0.01</td>\n",
       "    </tr>\n",
       "    <tr>\n",
       "      <th>hdb</th>\n",
       "      <td>1.0</td>\n",
       "      <td>0.04</td>\n",
       "      <td>0.04</td>\n",
       "      <td>3.12</td>\n",
       "      <td>0.08</td>\n",
       "    </tr>\n",
       "    <tr>\n",
       "      <th>state:hdb</th>\n",
       "      <td>1.0</td>\n",
       "      <td>0.01</td>\n",
       "      <td>0.01</td>\n",
       "      <td>0.43</td>\n",
       "      <td>0.51</td>\n",
       "    </tr>\n",
       "    <tr>\n",
       "      <th>Residual</th>\n",
       "      <td>78.0</td>\n",
       "      <td>1.02</td>\n",
       "      <td>0.01</td>\n",
       "      <td>NaN</td>\n",
       "      <td>NaN</td>\n",
       "    </tr>\n",
       "  </tbody>\n",
       "</table>\n",
       "</div>"
      ],
      "text/plain": [
       "             df  sum_sq  mean_sq     F  PR(>F)\n",
       "state       1.0    0.10     0.10  7.47    0.01\n",
       "hdb         1.0    0.04     0.04  3.12    0.08\n",
       "state:hdb   1.0    0.01     0.01  0.43    0.51\n",
       "Residual   78.0    1.02     0.01   NaN     NaN"
      ]
     },
     "execution_count": 30,
     "metadata": {},
     "output_type": "execute_result"
    },
    {
     "data": {
      "text/plain": [
       "<Figure size 432x288 with 0 Axes>"
      ]
     },
     "metadata": {},
     "output_type": "display_data"
    },
    {
     "data": {
      "image/png": "[encoded data removed]",
      "text/plain": [
       "<Figure size 1296x216 with 6 Axes>"
      ]
     },
     "metadata": {
      "needs_background": "light"
     },
     "output_type": "display_data"
    }
   ],
   "source": [
    "plt.figure()\n",
    "sns.FacetGrid(data=df_res, \n",
    "col=\"hdb\", sharey=True).map_dataframe(sns.pointplot, x=\"state\", y=\"corr_long\")\n",
    "\n",
    "mod = smf.ols(\"corr_long ~ state * hdb\", data=df_res).fit()\n",
    "anova_lm(mod).round(2)"
   ]
  },
  {
   "cell_type": "code",
   "execution_count": null,
   "metadata": {},
   "outputs": [],
   "source": []
  },
  {
   "cell_type": "code",
   "execution_count": null,
   "metadata": {},
   "outputs": [],
   "source": []
  },
  {
   "cell_type": "code",
   "execution_count": 203,
   "metadata": {},
   "outputs": [
    {
     "data": {
      "image/png": "[encoded data removed]",
      "text/plain": [
       "<Figure size 504x360 with 8 Axes>"
      ]
     },
     "metadata": {
      "needs_background": "light"
     },
     "output_type": "display_data"
    }
   ],
   "source": [
    "session_name = sessions[1]\n",
    "\n",
    "sh = SpikesHandler(block=\"pre\", t_start=0, t_stop=1800, bin_width=0.1, session_names=[session_name])\n",
    "\n",
    "spikes = sh.binned_piv.reset_index()\n",
    "\n",
    "eeg = eeg_states.loc[lambda x: x.session_name == session_name]\n",
    "\n",
    "\n",
    "spikes2 = (\n",
    "    spikes\n",
    "    .copy()\n",
    "    .assign(eeg_time = lambda x: which_bin(x.bin.values, eeg.timepoint_s.values, time_before=0, time_after=2))\n",
    "    .merge(eeg, left_on=\"eeg_time\", right_on=\"timepoint_s\")\n",
    ")\n",
    "\n",
    "spikes2 = spikes2[list(spikes.columns) + [\"cluster\"]].set_index(\"bin\")\n",
    "sw_spikes = spikes2.loc[lambda x: x.cluster == \"sw\"].drop(\"cluster\", axis=1).pipe(filter_active)\n",
    "act_spikes = spikes2.loc[lambda x: x.cluster == \"act\"].drop(\"cluster\", axis=1).pipe(filter_active)\n",
    "\n",
    "# axes = plt.subplots(ncols=2, nrows=2, figsize=(7, 5))[1].flatten()\n",
    "# sns.heatmap(GraphicalLasso(alpha=0.005).fit(act_spikes.apply(zscore).dropna().values).precision_, center=0, robust=True, cmap=\"seismic\", ax=axes[0], vmin=-0.5, vmax=0.5)\n",
    "# sns.heatmap(GraphicalLasso(alpha=0.001).fit(act_spikes.apply(zscore).diff().dropna().values).precision_, center=0, robust=True, cmap=\"seismic\", ax=axes[1], vmin=-0.2, vmax=0.2)\n",
    "# sns.heatmap(GraphicalLasso(alpha=0.005).fit(sw_spikes.apply(zscore).dropna().values).precision_, center=0, robust=True, cmap=\"seismic\", ax=axes[2], vmin=-0.5, vmax=0.5)\n",
    "# sns.heatmap(GraphicalLasso(alpha=0.001).fit(sw_spikes.apply(zscore).diff().dropna().values).precision_, center=0, robust=True, cmap=\"seismic\", ax=axes[3], vmin=-0.2, vmax=0.2)\n",
    "\n",
    "\n",
    "axes = plt.subplots(ncols=2, nrows=2, figsize=(7, 5))[1].flatten()\n",
    "\n",
    "sns.heatmap(zero_diag(act_spikes.pcorr()), center=0, robust=True, cmap=\"seismic\", ax=axes[0], vmin=-0.5, vmax=0.5)\n",
    "sns.heatmap(zero_diag(act_spikes.diff().pcorr()), center=0, robust=True, cmap=\"seismic\", ax=axes[1], vmin=-0.5, vmax=0.5)\n",
    "\n",
    "sns.heatmap(zero_diag(sw_spikes.pcorr()), center=0, robust=True, cmap=\"seismic\", ax=axes[2], vmin=-0.5, vmax=0.5)\n",
    "sns.heatmap(zero_diag(sw_spikes.diff().pcorr()), center=0, robust=True, cmap=\"seismic\", ax=axes[3], vmin=-0.5, vmax=0.5)\n",
    "plt.tight_layout()"
   ]
  },
  {
   "cell_type": "code",
   "execution_count": 204,
   "metadata": {},
   "outputs": [
    {
     "data": {
      "text/plain": [
       "<AxesSubplot:title={'center':'value'}>"
      ]
     },
     "execution_count": 204,
     "metadata": {},
     "output_type": "execute_result"
    },
    {
     "data": {
      "image/png": "[encoded data removed]",
      "text/plain": [
       "<Figure size 432x288 with 2 Axes>"
      ]
     },
     "metadata": {
      "needs_background": "light"
     },
     "output_type": "display_data"
    }
   ],
   "source": [
    "sw_spikes.pcorr().melt().loc[lambda x: x.value < 0.8].hist(color = \"black\", bins=50)\n",
    "\n",
    "sns.heatmap(zero_diag(sw_spikes.pcorr()).abs() > 0.08, center=0, robust=True, cmap=\"seismic\",  vmin=-0.5, vmax=0.5)"
   ]
  },
  {
   "cell_type": "code",
   "execution_count": 206,
   "metadata": {},
   "outputs": [
    {
     "data": {
      "text/plain": [
       "array([[<AxesSubplot:title={'center':'value'}>]], dtype=object)"
      ]
     },
     "execution_count": 206,
     "metadata": {},
     "output_type": "execute_result"
    },
    {
     "data": {
      "image/png": "[encoded data removed]",
      "text/plain": [
       "<Figure size 432x288 with 1 Axes>"
      ]
     },
     "metadata": {
      "needs_background": "light"
     },
     "output_type": "display_data"
    }
   ],
   "source": [
    "act_spikes.pcorr().melt().loc[lambda x: x.value < 0.8].hist(color = \"black\", bins=50)\n",
    "\n",
    "# sns.heatmap(zero_diag(act_spikes.pcorr()).abs() > 0.08, center=0, robust=True, cmap=\"seismic\",  vmin=-0.5, vmax=0.5)"
   ]
  },
  {
   "cell_type": "code",
   "execution_count": 228,
   "metadata": {},
   "outputs": [
    {
     "data": {
      "image/png": "[encoded data removed]",
      "text/plain": [
       "<Figure size 504x216 with 4 Axes>"
      ]
     },
     "metadata": {
      "needs_background": "light"
     },
     "output_type": "display_data"
    }
   ],
   "source": [
    "session_name = sessions[11]\n",
    "\n",
    "sh = SpikesHandler(block=\"pre\", t_start=0, t_stop=1800, bin_width=0.1, session_names=[session_name])\n",
    "\n",
    "spikes = sh.binned_piv.reset_index()\n",
    "\n",
    "eeg = eeg_states.loc[lambda x: x.session_name == session_name]\n",
    "\n",
    "\n",
    "spikes2 = (\n",
    "    spikes\n",
    "    .copy()\n",
    "    .assign(eeg_time = lambda x: which_bin(x.bin.values, eeg.timepoint_s.values, time_before=0, time_after=2))\n",
    "    .merge(eeg, left_on=\"eeg_time\", right_on=\"timepoint_s\")\n",
    ")\n",
    "\n",
    "spikes2 = spikes2[list(spikes.columns) + [\"cluster\"]].set_index(\"bin\")\n",
    "sw_spikes = spikes2.loc[lambda x: x.cluster == \"sw\"].drop(\"cluster\", axis=1).pipe(filter_active)\n",
    "act_spikes = spikes2.loc[lambda x: x.cluster == \"act\"].drop(\"cluster\", axis=1).pipe(filter_active)\n",
    "\n",
    "# axes = plt.subplots(ncols=2, nrows=2, figsize=(7, 5))[1].flatten()\n",
    "# sns.heatmap(GraphicalLasso(alpha=0.005).fit(act_spikes.apply(zscore).dropna().values).precision_, center=0, robust=True, cmap=\"seismic\", ax=axes[0], vmin=-0.5, vmax=0.5)\n",
    "# sns.heatmap(GraphicalLasso(alpha=0.001).fit(act_spikes.apply(zscore).diff().dropna().values).precision_, center=0, robust=True, cmap=\"seismic\", ax=axes[1], vmin=-0.2, vmax=0.2)\n",
    "# sns.heatmap(GraphicalLasso(alpha=0.005).fit(sw_spikes.apply(zscore).dropna().values).precision_, center=0, robust=True, cmap=\"seismic\", ax=axes[2], vmin=-0.5, vmax=0.5)\n",
    "# sns.heatmap(GraphicalLasso(alpha=0.001).fit(sw_spikes.apply(zscore).diff().dropna().values).precision_, center=0, robust=True, cmap=\"seismic\", ax=axes[3], vmin=-0.2, vmax=0.2)\n",
    "\n",
    "\n",
    "axes = plt.subplots(ncols=2, figsize=(7, 3))[1].flatten()\n",
    "\n",
    "sns.heatmap(zero_diag(act_spikes.corr()).abs() > 0.1, center=0, robust=True, cmap=\"seismic\", ax=axes[0], vmin=-0.5, vmax=0.5)\n",
    "\n",
    "sns.heatmap(zero_diag(sw_spikes.corr()).abs() > 0.1, center=0, robust=True, cmap=\"seismic\", ax=axes[1], vmin=-0.5, vmax=0.5)\n",
    "plt.tight_layout()"
   ]
  },
  {
   "cell_type": "code",
   "execution_count": null,
   "metadata": {},
   "outputs": [],
   "source": []
  }
 ],
 "metadata": {
  "interpreter": {
   "hash": "595626f471715c1ef1767721af1162754763b18b459b8364279c934890ae0eae"
  },
  "kernelspec": {
   "display_name": "Python 3.6.13 ('drn-interactions')",
   "language": "python",
   "name": "python3"
  },
  "language_info": {
   "codemirror_mode": {
    "name": "ipython",
    "version": 3
   },
   "file_extension": ".py",
   "mimetype": "text/x-python",
   "name": "python",
   "nbconvert_exporter": "python",
   "pygments_lexer": "ipython3",
   "version": "3.6.13"
  },
  "orig_nbformat": 4
 },
 "nbformat": 4,
 "nbformat_minor": 2
}
