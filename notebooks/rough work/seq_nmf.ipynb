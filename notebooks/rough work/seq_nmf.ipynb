{
 "cells": [
  {
   "cell_type": "code",
   "execution_count": 1,
   "metadata": {},
   "outputs": [
    {
     "name": "stderr",
     "output_type": "stream",
     "text": [
      "c:\\Users\\roryl\\.conda\\envs\\drn38\\lib\\site-packages\\outdated\\utils.py:14: OutdatedCacheFailedWarning: Failed to use cache while checking for outdated package.\n",
      "Set the environment variable OUTDATED_RAISE_EXCEPTION=1 for a full traceback.\n",
      "Set the environment variable OUTDATED_IGNORE=1 to disable these warnings.\n",
      "  return warn(\n"
     ]
    }
   ],
   "source": [
    "from drn_interactions.interactions.loaders import SpontaneousActivityLoader\n",
    "from drn_interactions.io import load_derived_generic\n",
    "from drn_interactions.interactions.preprocessors import InteractionsPreprocessor\n",
    "from drn_interactions.interactions.seqnmf import SeqNMF\n",
    "import pandas as pd\n",
    "from drn_interactions.config import Config"
   ]
  },
  {
   "cell_type": "code",
   "execution_count": 2,
   "metadata": {},
   "outputs": [
    {
     "name": "stdout",
     "output_type": "stream",
     "text": [
      "ESHOCK_03_LOC1\n",
      "ESHOCK_04_LOC1\n",
      "ESHOCK_06_LOC1\n",
      "ESHOCK_07_LOC1\n",
      "ESHOCK_08_LOC1\n",
      "ESHOCK_09_LOC1\n",
      "hamilton_10\n",
      "hamilton_03\n",
      "hamilton_04\n",
      "hamilton_09\n",
      "hamilton_31\n",
      "hamilton_38\n",
      "hamilton_37\n",
      "hamilton_35\n",
      "hamilton_36\n",
      "hamilton_32\n",
      "acute_15\n",
      "acute_16\n",
      "acute_01\n",
      "acute_14\n",
      "acute_12\n",
      "acute_11\n",
      "ESHOCK_03_LOC1\n",
      "ESHOCK_04_LOC1\n",
      "ESHOCK_06_LOC1\n",
      "ESHOCK_07_LOC1\n",
      "ESHOCK_08_LOC1\n",
      "ESHOCK_09_LOC1\n",
      "hamilton_10\n",
      "hamilton_03\n",
      "hamilton_04\n",
      "hamilton_09\n",
      "hamilton_31\n",
      "hamilton_38\n",
      "hamilton_37\n",
      "hamilton_35\n",
      "hamilton_36\n",
      "hamilton_32\n",
      "acute_15\n",
      "acute_16\n",
      "acute_01\n",
      "acute_14\n",
      "acute_12\n",
      "acute_11\n"
     ]
    }
   ],
   "source": [
    "neuron_types = load_derived_generic('neuron_types.csv')\n",
    "sessions = neuron_types[\"session_name\"].dropna().unique()\n",
    "\n",
    "res = []\n",
    "Ks = [6]\n",
    "Ls = [10,]\n",
    "bin_widths = [0.05, 0.1, 0.5, 1, 2]\n",
    "\n",
    "loader_fac = lambda session_name, bin_width, shuffle: SpontaneousActivityLoader(session_name=session_name, bin_width=bin_width, shuffle=shuffle)\n",
    "preprocessor_fac = lambda: InteractionsPreprocessor(z=False, minmax=True, gaussian_sigma=None)\n",
    "model_fac = lambda K, L, Lambda: SeqNMF(K, L, Lambda)\n",
    "\n",
    "for shuffle in (True, False):\n",
    "    for session in sessions:\n",
    "        for k in Ks:\n",
    "            for l in Ls:\n",
    "                for bin_width in bin_widths:\n",
    "                    loader = loader_fac(session, bin_width, shuffle)\n",
    "                    preprocessor = preprocessor_fac()\n",
    "                    model = model_fac(k, l, 0.1)\n",
    "                    spikes = preprocessor(loader())\n",
    "                    score = model.sequenciness_score(spikes.T)\n",
    "                    res.append({\n",
    "                        \"session_name\": session,\n",
    "                        \"k\": k,\n",
    "                        \"L\": l,\n",
    "                        \"bin_width\": bin_width,\n",
    "                        \"score\": score,\n",
    "                        \"shuffle\": shuffle,\n",
    "                    })\n"
   ]
  },
  {
   "cell_type": "code",
   "execution_count": 4,
   "metadata": {},
   "outputs": [],
   "source": [
    "df_out = pd.DataFrame.from_records(res)\n",
    "dd = Config.derived_data_dir\n",
    "\n",
    "df_out.to_csv(dd / \"seqnmf_sequenciness_scores.csv\")"
   ]
  }
 ],
 "metadata": {
  "kernelspec": {
   "display_name": "Python 3.8.13 ('drn38')",
   "language": "python",
   "name": "python3"
  },
  "language_info": {
   "codemirror_mode": {
    "name": "ipython",
    "version": 3
   },
   "file_extension": ".py",
   "mimetype": "text/x-python",
   "name": "python",
   "nbconvert_exporter": "python",
   "pygments_lexer": "ipython3",
   "version": "3.8.13"
  },
  "orig_nbformat": 4,
  "vscode": {
   "interpreter": {
    "hash": "83d85788087be4ab95a62fa43e95c13744f0a02d6feebc555b96a547158d0970"
   }
  }
 },
 "nbformat": 4,
 "nbformat_minor": 2
}
