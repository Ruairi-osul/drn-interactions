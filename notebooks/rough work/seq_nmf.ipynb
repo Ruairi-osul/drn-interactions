{
 "cells": [
  {
   "cell_type": "code",
   "execution_count": 32,
   "metadata": {},
   "outputs": [],
   "source": [
    "from drn_interactions.interactions.loaders import SpontaneousActivityLoader\n",
    "from drn_interactions.io import load_derived_generic\n",
    "from drn_interactions.interactions.preprocessors import InteractionsPreprocessor\n",
    "from drn_interactions.interactions.seqnmf import SeqNMF\n",
    "import pandas as pd\n",
    "from drn_interactions.config import Config"
   ]
  },
  {
   "cell_type": "code",
   "execution_count": 30,
   "metadata": {},
   "outputs": [],
   "source": [
    "neuron_types = load_derived_generic('neuron_types.csv')\n",
    "sessions = neuron_types[\"session_name\"].unique()\n",
    "\n",
    "res = []\n",
    "Ks = [3, 6]\n",
    "Ls = [10, 50]\n",
    "bin_widths = [0.05, 0.1, 0.5, 1]\n",
    "\n",
    "loader_fac = lambda session_name, bin_width: SpontaneousActivityLoader(session_name=session_name, bin_width=bin_width)\n",
    "preprocessor_fac = lambda: InteractionsPreprocessor(z=False, minmax=True, gaussian_sigma=None)\n",
    "model_fac = lambda K, L, Lambda: SeqNMF(K, L, Lambda)\n",
    "\n",
    "for session in sessions:\n",
    "    for k in Ks:\n",
    "        for l in Ls:\n",
    "            for bin_width in bin_widths:\n",
    "                loader = loader_fac(session, bin_width)\n",
    "                preprocessor = preprocessor_fac()\n",
    "                model = model_fac(k, l, 0.1)\n",
    "                score = model.sequenciness_score(...)\n",
    "                res.append({\n",
    "                    \"session_name\": session,\n",
    "                    \"k\": k,\n",
    "                    \"L\": l,\n",
    "                    \"bin_width\": bin_width,\n",
    "                    \"score\": score\n",
    "                })\n"
   ]
  },
  {
   "cell_type": "code",
   "execution_count": null,
   "metadata": {},
   "outputs": [],
   "source": [
    "df_out = pd.DataFrame.from_records(res)\n",
    "dd = Config.derived_data_dir\n",
    "\n",
    "df_out.to_csv(dd / \"seqnmf_sequenciness_scores.csv\")"
   ]
  }
 ],
 "metadata": {
  "kernelspec": {
   "display_name": "Python 3.8.13 ('drn')",
   "language": "python",
   "name": "python3"
  },
  "language_info": {
   "codemirror_mode": {
    "name": "ipython",
    "version": 3
   },
   "file_extension": ".py",
   "mimetype": "text/x-python",
   "name": "python",
   "nbconvert_exporter": "python",
   "pygments_lexer": "ipython3",
   "version": "3.8.13"
  },
  "orig_nbformat": 4,
  "vscode": {
   "interpreter": {
    "hash": "a141ff61fc8e5477d761678b9939730228dd63e8e5dabf1901cb4084a0e2e4d6"
   }
  }
 },
 "nbformat": 4,
 "nbformat_minor": 2
}
