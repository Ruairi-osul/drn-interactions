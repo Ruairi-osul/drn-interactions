{
 "cells": [
  {
   "cell_type": "code",
   "execution_count": null,
   "metadata": {},
   "outputs": [],
   "source": [
    "import pandas as pd\n",
    "from drn_interactions.config import Config\n",
    "from drn_interactions.interactions.popcup import PopulationCoupling\n",
    "from drn_interactions.interactions.preprocessors import InteractionsPreprocessor\n",
    "from drn_interactions.interactions.loaders import SpontaneousActivityLoader\n",
    "from drn_interactions.interactions.pairwise import PairwiseCorr, PairwisePartialCorr\n",
    "from drn_interactions.interactions.runners import InteractionsRunner\n",
    "from drn_interactions.io import load_derived_generic\n",
    "from drn_interactions.config import Config\n",
    "\n",
    "dd = Config.derived_data_dir / \"corrs\"\n",
    "dd.mkdir(exist_ok=True)"
   ]
  },
  {
   "cell_type": "code",
   "execution_count": null,
   "metadata": {},
   "outputs": [],
   "source": [
    "neuron_types = load_derived_generic(\"neuron_types.csv\")\n",
    "sessions = neuron_types[\"session_name\"].dropna().unique()\n",
    "\n",
    "res_corr = []\n",
    "res_pcorr = []\n",
    "res_pcup = []\n",
    "bin_widths = [0.05, 0.1, 0.5, 1, 2, 5]\n",
    "\n",
    "loader_fac = lambda bin_width: SpontaneousActivityLoader(\n",
    "    session_name=sessions[0], bin_width=bin_width\n",
    ")\n",
    "preprocessor_fac = lambda: InteractionsPreprocessor(\n",
    "    z=True, minmax=False, gaussian_sigma=None\n",
    ")\n",
    "corr_fac = lambda: PairwiseCorr()\n",
    "pcorr_fac = lambda: PairwisePartialCorr()\n",
    "pcup_fac = lambda: PopulationCoupling()\n",
    "\n",
    "runner_fac = lambda bin_width: InteractionsRunner(\n",
    "    loader=loader_fac(bin_width),\n",
    "    preprocessor=preprocessor_fac(),\n",
    "    pcup=pcup_fac(),\n",
    "    corr=corr_fac(),\n",
    "    pcorr=pcorr_fac(),\n",
    ")\n",
    "for bin_width in bin_widths:\n",
    "    runner = runner_fac(bin_width)\n",
    "    res_pcorr.append(runner.run_pcorr_multi(sessions).assign(bin_width=bin_width))\n",
    "    res_corr.append(runner.run_corr_multi(sessions).assign(bin_width=bin_width))\n",
    "    res_pcup.append(runner.run_pcup_multi(sessions).assign(bin_width=bin_width))\n",
    "\n",
    "res_corr = pd.concat(res_corr).reset_index(drop=True)\n",
    "res_pcorr = pd.concat(res_pcorr).reset_index(drop=True)\n",
    "res_pcup = pd.concat(res_pcup).reset_index(drop=True)\n",
    "\n",
    "res_pcorr.to_csv(dd / \"spont - pcorr.csv\", index=False)\n",
    "res_corr.to_csv(dd / \"spont - corr.csv\", index=False)\n",
    "res_pcup.to_csv(dd / \"spont - pcup.csv\", index=False)\n"
   ]
  },
  {
   "cell_type": "code",
   "execution_count": null,
   "metadata": {},
   "outputs": [],
   "source": [
    "runner = runner_fac(1)\n",
    "pcorr_reps = runner.pcorr_bootstrap_multi(sessions=sessions, n_boot=100)\n",
    "corr_reps = runner.corr_bootstrap_multi(sessions=sessions, n_boot=100)\n",
    "pcup_reps = runner.pcup_bootstrap_multi(sessions=sessions, n_boot=100)\n",
    "\n",
    "pcorr_reps.to_parquet(\n",
    "    dd / \"spont - pcorr_reps.parquet.gzip\", index=False, compression=\"gzip\"\n",
    ")\n",
    "corr_reps.to_parquet(\n",
    "    dd / \"spont - corr_reps.parquet.gzip\", index=False, compression=\"gzip\"\n",
    ")\n",
    "pcup_reps.to_parquet(\n",
    "    dd / \"spont - pcup_reps.parquet.gzip\", index=False, compression=\"gzip\"\n",
    ")\n"
   ]
  }
 ],
 "metadata": {
  "kernelspec": {
   "display_name": "Python 3.8.13 ('drn38')",
   "language": "python",
   "name": "python3"
  },
  "language_info": {
   "codemirror_mode": {
    "name": "ipython",
    "version": 3
   },
   "file_extension": ".py",
   "mimetype": "text/x-python",
   "name": "python",
   "nbconvert_exporter": "python",
   "pygments_lexer": "ipython3",
   "version": "3.8.13"
  },
  "orig_nbformat": 4,
  "vscode": {
   "interpreter": {
    "hash": "83d85788087be4ab95a62fa43e95c13744f0a02d6feebc555b96a547158d0970"
   }
  }
 },
 "nbformat": 4,
 "nbformat_minor": 2
}
