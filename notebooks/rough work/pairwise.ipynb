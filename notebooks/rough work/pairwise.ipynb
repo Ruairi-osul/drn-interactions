{
 "cells": [
  {
   "cell_type": "code",
   "execution_count": 1,
   "metadata": {},
   "outputs": [],
   "source": [
    "import pandas as pd\n",
    "from drn_interactions.transforms.spikes import SpikesHandler\n",
    "from drn_interactions.config import Config\n",
    "from drn_interactions.stats import auc, p_adjust\n",
    "from drn_interactions.interactions.popcup import PopulationCoupling\n",
    "from drn_interactions.interactions.preprocessors import InteractionsPreprocessor\n",
    "from drn_interactions.interactions.loaders import SpontaneousActivityLoader\n",
    "from drn_interactions.interactions.pairwise import PairwiseCorr, PairwisePartialCorr\n",
    "from drn_interactions.interactions.runners import InteractionsRunner\n",
    "from drn_interactions.io import load_derived_generic, load_neurons\n",
    "from scipy.stats import zscore\n",
    "from pingouin import pcorr"
   ]
  },
  {
   "cell_type": "code",
   "execution_count": 2,
   "metadata": {},
   "outputs": [],
   "source": [
    "sessions = load_neurons()[\"session_name\"].unique()\n",
    "session = sessions[2]\n",
    "\n",
    "loader = SpontaneousActivityLoader(session_name=session, shuffle=False)\n",
    "preprocessor = InteractionsPreprocessor(z=True)\n",
    "pcorr = PairwisePartialCorr()\n",
    "corr = PairwiseCorr()\n",
    "pcup = PopulationCoupling()\n",
    "\n",
    "runner = InteractionsRunner(loader=loader, preprocessor=preprocessor, pcup=pcup, corr=corr, pcorr=pcorr)\n"
   ]
  },
  {
   "cell_type": "code",
   "execution_count": 3,
   "metadata": {},
   "outputs": [
    {
     "name": "stderr",
     "output_type": "stream",
     "text": [
      "/Users/ruairiosullivan/repos/DRN Interactions/drn_interactions/interactions/cross_correlations.py:25: RuntimeWarning: invalid value encountered in true_divide\n",
      "  return lags, cvf / (np.std(x) * np.std(y))\n"
     ]
    }
   ],
   "source": [
    "pcorr = runner.run_pcorr_multi(sessions=sessions)\n",
    "corr = runner.run_corr_multi(sessions=sessions)\n",
    "pcup = runner.run_pcup_multi(sessions=sessions)"
   ]
  },
  {
   "cell_type": "code",
   "execution_count": 4,
   "metadata": {},
   "outputs": [],
   "source": [
    "pcorr_reps = runner.pcorr_bootstrap_multi(sessions=sessions, n_boot=1000)\n",
    "corr_reps = runner.corr_bootstrap_multi(sessions=sessions, n_boot=1000)\n",
    "pcup_reps = runner.pcup_bootstrap_multi(sessions=sessions, n_boot=1000)"
   ]
  },
  {
   "cell_type": "code",
   "execution_count": null,
   "metadata": {},
   "outputs": [
    {
     "ename": "NameError",
     "evalue": "name 'pcorr' is not defined",
     "output_type": "error",
     "traceback": [
      "\u001b[0;31m---------------------------------------------------------------------------\u001b[0m",
      "\u001b[0;31mNameError\u001b[0m                                 Traceback (most recent call last)",
      "\u001b[1;32m/Users/ruairiosullivan/repos/DRN Interactions/notebooks/rough work/pairwise.ipynb Cell 5\u001b[0m in \u001b[0;36m<cell line: 7>\u001b[0;34m()\u001b[0m\n\u001b[1;32m      <a href='vscode-notebook-cell:/Users/ruairiosullivan/repos/DRN%20Interactions/notebooks/rough%20work/pairwise.ipynb#ch0000004?line=2'>3</a>\u001b[0m dd \u001b[39m=\u001b[39m Config\u001b[39m.\u001b[39mdata_dir \u001b[39m/\u001b[39m \u001b[39m\"\u001b[39m\u001b[39mcorrs\u001b[39m\u001b[39m\"\u001b[39m\n\u001b[1;32m      <a href='vscode-notebook-cell:/Users/ruairiosullivan/repos/DRN%20Interactions/notebooks/rough%20work/pairwise.ipynb#ch0000004?line=4'>5</a>\u001b[0m dd\u001b[39m.\u001b[39mmkdir(exist_ok\u001b[39m=\u001b[39m\u001b[39mTrue\u001b[39;00m)\n\u001b[0;32m----> <a href='vscode-notebook-cell:/Users/ruairiosullivan/repos/DRN%20Interactions/notebooks/rough%20work/pairwise.ipynb#ch0000004?line=6'>7</a>\u001b[0m pcorr\u001b[39m.\u001b[39mto_csv(dd \u001b[39m/\u001b[39m \u001b[39m\"\u001b[39m\u001b[39mspont - pcorr.csv\u001b[39m\u001b[39m\"\u001b[39m, index\u001b[39m=\u001b[39m\u001b[39mFalse\u001b[39;00m)\n\u001b[1;32m      <a href='vscode-notebook-cell:/Users/ruairiosullivan/repos/DRN%20Interactions/notebooks/rough%20work/pairwise.ipynb#ch0000004?line=7'>8</a>\u001b[0m corr\u001b[39m.\u001b[39mto_csv(dd \u001b[39m/\u001b[39m \u001b[39m\"\u001b[39m\u001b[39mspont - corr.csv\u001b[39m\u001b[39m\"\u001b[39m, index\u001b[39m=\u001b[39m\u001b[39mFalse\u001b[39;00m)\n\u001b[1;32m      <a href='vscode-notebook-cell:/Users/ruairiosullivan/repos/DRN%20Interactions/notebooks/rough%20work/pairwise.ipynb#ch0000004?line=8'>9</a>\u001b[0m pcup\u001b[39m.\u001b[39mto_csv(dd \u001b[39m/\u001b[39m \u001b[39m\"\u001b[39m\u001b[39mspont - pcup.csv\u001b[39m\u001b[39m\"\u001b[39m, index\u001b[39m=\u001b[39m\u001b[39mFalse\u001b[39;00m)\n",
      "\u001b[0;31mNameError\u001b[0m: name 'pcorr' is not defined"
     ]
    }
   ],
   "source": [
    "from drn_interactions.config import Config\n",
    "\n",
    "dd = Config.data_dir / \"corrs\"\n",
    "\n",
    "dd.mkdir(exist_ok=True)\n",
    "\n",
    "pcorr.to_csv(dd / \"spont - pcorr.csv\", index=False)\n",
    "corr.to_csv(dd / \"spont - corr.csv\", index=False)\n",
    "pcup.to_csv(dd / \"spont - pcup.csv\", index=False)\n",
    "\n",
    "pcorr_reps.to_parquet(dd / \"spont - pcorr_reps.parquet.gzip\", index=False, \n",
    "compression=\"gzip\")\n",
    "corr_reps.to_parquet(dd / \"spont - corr_reps.parquet.gzip\", index=False,\n",
    "compression=\"gzip\")\n",
    "pcup_reps.to_parquet(dd / \"spont - pcup_reps.parquet.gzip\", index=False,\n",
    "compression=\"gzip\")"
   ]
  },
  {
   "cell_type": "code",
   "execution_count": null,
   "metadata": {},
   "outputs": [],
   "source": []
  }
 ],
 "metadata": {
  "kernelspec": {
   "display_name": "Python 3.8.13 ('drn')",
   "language": "python",
   "name": "python3"
  },
  "language_info": {
   "codemirror_mode": {
    "name": "ipython",
    "version": 3
   },
   "file_extension": ".py",
   "mimetype": "text/x-python",
   "name": "python",
   "nbconvert_exporter": "python",
   "pygments_lexer": "ipython3",
   "version": "3.8.13"
  },
  "orig_nbformat": 4,
  "vscode": {
   "interpreter": {
    "hash": "a141ff61fc8e5477d761678b9939730228dd63e8e5dabf1901cb4084a0e2e4d6"
   }
  }
 },
 "nbformat": 4,
 "nbformat_minor": 2
}
