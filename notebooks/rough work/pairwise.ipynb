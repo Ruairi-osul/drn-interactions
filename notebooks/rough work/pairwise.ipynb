{
 "cells": [
  {
   "cell_type": "code",
   "execution_count": null,
   "metadata": {},
   "outputs": [],
   "source": [
    "import pandas as pd\n",
    "from drn_interactions.transforms.spikes import SpikesHandler\n",
    "from drn_interactions.config import Config\n",
    "from drn_interactions.stats import auc, p_adjust\n",
    "from drn_interactions.interactions.popcup import PopulationCoupling\n",
    "from drn_interactions.interactions.preprocessors import InteractionsPreprocessor\n",
    "from drn_interactions.interactions.loaders import SpontaneousActivityLoader\n",
    "from drn_interactions.interactions.pairwise import PairwiseCorr, PairwisePartialCorr\n",
    "from drn_interactions.interactions.runners import InteractionsRunner\n",
    "from drn_interactions.io import load_derived_generic, load_neurons\n",
    "from scipy.stats import zscore\n",
    "from pingouin import pcorr"
   ]
  },
  {
   "cell_type": "code",
   "execution_count": null,
   "metadata": {},
   "outputs": [],
   "source": [
    "sessions = load_neurons()[\"session_name\"].unique()\n",
    "session = sessions[2]\n",
    "\n",
    "loader = SpontaneousActivityLoader(session_name=session, shuffle=False)\n",
    "preprocessor = InteractionsPreprocessor(z=True)\n",
    "pcorr = PairwisePartialCorr()\n",
    "corr = PairwiseCorr()\n",
    "pcup = PopulationCoupling()\n",
    "\n",
    "runner = InteractionsRunner(loader=loader, preprocessor=preprocessor, pcup=pcup, corr=corr, pcorr=pcorr)\n"
   ]
  },
  {
   "cell_type": "code",
   "execution_count": null,
   "metadata": {},
   "outputs": [],
   "source": [
    "pcorr = runner.run_pcorr_multi(sessions=sessions)\n",
    "corr = runner.run_corr_multi(sessions=sessions)\n",
    "pcup = runner.run_pcup_multi(sessions=sessions)"
   ]
  },
  {
   "cell_type": "code",
   "execution_count": null,
   "metadata": {},
   "outputs": [],
   "source": [
    "pcorr_reps = runner.pcorr_bootstrap_multi(sessions=sessions, n_boot=1000)\n",
    "corr_reps = runner.corr_bootstrap_multi(sessions=sessions, n_boot=1000)\n",
    "pcup_reps = runner.pcup_bootstrap_multi(sessions=sessions, n_boot=1000)"
   ]
  },
  {
   "cell_type": "code",
   "execution_count": null,
   "metadata": {},
   "outputs": [],
   "source": [
    "from drn_interactions.config import Config\n",
    "\n",
    "dd = Config.data_dir / \"corrs\"\n",
    "\n",
    "dd.mkdir(exist_ok=True)\n",
    "\n",
    "pcorr.to_csv(dd / \"spont - pcorr.csv\", index=False)\n",
    "corr.to_csv(dd / \"spont - corr.csv\", index=False)\n",
    "pcup.to_csv(dd / \"spont - pcup.csv\", index=False)\n",
    "\n",
    "pcorr_reps.to_parquet(dd / \"spont - pcorr_reps.parquet.gzip\", index=False, \n",
    "compression=\"gzip\")\n",
    "corr_reps.to_parquet(dd / \"spont - corr_reps.parquet.gzip\", index=False,\n",
    "compression=\"gzip\")\n",
    "pcup_reps.to_parquet(dd / \"spont - pcup_reps.parquet.gzip\", index=False,\n",
    "compression=\"gzip\")"
   ]
  },
  {
   "cell_type": "code",
   "execution_count": null,
   "metadata": {},
   "outputs": [],
   "source": []
  }
 ],
 "metadata": {
  "kernelspec": {
   "display_name": "Python 3.8.13 ('drn')",
   "language": "python",
   "name": "python3"
  },
  "language_info": {
   "codemirror_mode": {
    "name": "ipython",
    "version": 3
   },
   "file_extension": ".py",
   "mimetype": "text/x-python",
   "name": "python",
   "nbconvert_exporter": "python",
   "pygments_lexer": "ipython3",
   "version": "3.8.13"
  },
  "orig_nbformat": 4,
  "vscode": {
   "interpreter": {
    "hash": "a141ff61fc8e5477d761678b9939730228dd63e8e5dabf1901cb4084a0e2e4d6"
   }
  }
 },
 "nbformat": 4,
 "nbformat_minor": 2
}
