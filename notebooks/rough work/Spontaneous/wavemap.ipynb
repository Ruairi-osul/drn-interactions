{
 "cells": [
  {
   "cell_type": "code",
   "execution_count": 1,
   "metadata": {},
   "outputs": [],
   "source": [
    "from drn_interactions.load import load_waveforms, load_derived_generic, load_neurons\n",
    "from umap import UMAP\n",
    "from sklearn.preprocessing import MinMaxScaler, RobustScaler, StandardScaler\n",
    "from sklearn.cluster import KMeans, DBSCAN\n",
    "\n",
    "import networkx as nx\n",
    "\n",
    "\n",
    "import seaborn as sns\n",
    "import pandas as pd\n",
    "import numpy as np\n",
    "import matplotlib.pyplot as plt\n",
    "import plotly.express as px\n",
    "import plotly.io as pio\n",
    "import plotly.graph_objects as go\n",
    "\n",
    "import community\n",
    "import umap.plot\n"
   ]
  },
  {
   "cell_type": "code",
   "execution_count": 2,
   "metadata": {},
   "outputs": [],
   "source": [
    "import pandas as pd\n",
    "import datashader as ds\n",
    "import datashader.transfer_functions as tf\n",
    "import datashader.bundling as bd\n",
    "import matplotlib.pyplot as plt\n",
    "from umap.plot import _themes, _get_embedding, _get_extent, _datashade_points, _embed_datashader_in_an_axis, _select_font_color\n",
    "from warnings import warn\n",
    "\n",
    "def connectivity(\n",
    "    umap_object,\n",
    "    edge_bundling=None,\n",
    "    edge_cmap=\"gray_r\",\n",
    "    show_points=False,\n",
    "    labels=None,\n",
    "    values=None,\n",
    "    theme=None,\n",
    "    cmap=\"Spectral\",\n",
    "    color_key=None,\n",
    "    color_key_cmap=\"Spectral\",\n",
    "    background=\"white\",\n",
    "    px_size=None,\n",
    "    threshold=0.5,\n",
    "    width=800,\n",
    "    height=800,\n",
    "):\n",
    "    \"\"\"Plot connectivity relationships of the underlying UMAP\n",
    "    simplicial set data structure. Internally UMAP will make\n",
    "    use of what can be viewed as a weighted graph. This graph\n",
    "    can be plotted using the layout provided by UMAP as a\n",
    "    potential diagnostic view of the embedding. Currently this only works\n",
    "    for 2D embeddings. While there are many optional parameters\n",
    "    to further control and tailor the plotting, you need only\n",
    "    pass in the trained/fit umap model to get results. This plot\n",
    "    utility will attempt to do the hard work of avoiding\n",
    "    overplotting issues and provide options for plotting the\n",
    "    points as well as using edge bundling for graph visualization.\n",
    "    Parameters\n",
    "    ----------\n",
    "    umap_object: trained UMAP object\n",
    "        A trained UMAP object that has a 2D embedding.\n",
    "    edge_bundling: string or None (optional, default None)\n",
    "        The edge bundling method to use. Currently supported\n",
    "        are None or 'hammer'. See the datashader docs\n",
    "        on graph visualization for more details.\n",
    "    edge_cmap: string (default 'gray_r')\n",
    "        The name of a matplotlib colormap to use for shading/\n",
    "        coloring the edges of the connectivity graph. Note that\n",
    "        the ``theme``, if specified, will override this.\n",
    "    show_points: bool (optional False)\n",
    "        Whether to display the points over top of the edge\n",
    "        connectivity. Further options allow for coloring/\n",
    "        shading the points accordingly.\n",
    "    labels: array, shape (n_samples,) (optional, default None)\n",
    "        An array of labels (assumed integer or categorical),\n",
    "        one for each data sample.\n",
    "        This will be used for coloring the points in\n",
    "        the plot according to their label. Note that\n",
    "        this option is mutually exclusive to the ``values``\n",
    "        option.\n",
    "    values: array, shape (n_samples,) (optional, default None)\n",
    "        An array of values (assumed float or continuous),\n",
    "        one for each sample.\n",
    "        This will be used for coloring the points in\n",
    "        the plot according to a colorscale associated\n",
    "        to the total range of values. Note that this\n",
    "        option is mutually exclusive to the ``labels``\n",
    "        option.\n",
    "    theme: string (optional, default None)\n",
    "        A color theme to use for plotting. A small set of\n",
    "        predefined themes are provided which have relatively\n",
    "        good aesthetics. Available themes are:\n",
    "           * 'blue'\n",
    "           * 'red'\n",
    "           * 'green'\n",
    "           * 'inferno'\n",
    "           * 'fire'\n",
    "           * 'viridis'\n",
    "           * 'darkblue'\n",
    "           * 'darkred'\n",
    "           * 'darkgreen'\n",
    "    cmap: string (optional, default 'Blues')\n",
    "        The name of a matplotlib colormap to use for coloring\n",
    "        or shading points. If no labels or values are passed\n",
    "        this will be used for shading points according to\n",
    "        density (largely only of relevance for very large\n",
    "        datasets). If values are passed this will be used for\n",
    "        shading according the value. Note that if theme\n",
    "        is passed then this value will be overridden by the\n",
    "        corresponding option of the theme.\n",
    "    color_key: dict or array, shape (n_categories) (optional, default None)\n",
    "        A way to assign colors to categoricals. This can either be\n",
    "        an explicit dict mapping labels to colors (as strings of form\n",
    "        '#RRGGBB'), or an array like object providing one color for\n",
    "        each distinct category being provided in ``labels``. Either\n",
    "        way this mapping will be used to color points according to\n",
    "        the label. Note that if theme\n",
    "        is passed then this value will be overridden by the\n",
    "        corresponding option of the theme.\n",
    "    color_key_cmap: string (optional, default 'Spectral')\n",
    "        The name of a matplotlib colormap to use for categorical coloring.\n",
    "        If an explicit ``color_key`` is not given a color mapping for\n",
    "        categories can be generated from the label list and selecting\n",
    "        a matching list of colors from the given colormap. Note\n",
    "        that if theme\n",
    "        is passed then this value will be overridden by the\n",
    "        corresponding option of the theme.\n",
    "    background: string (optional, default 'white)\n",
    "        The color of the background. Usually this will be either\n",
    "        'white' or 'black', but any color name will work. Ideally\n",
    "        one wants to match this appropriately to the colors being\n",
    "        used for points etc. This is one of the things that themes\n",
    "        handle for you. Note that if theme\n",
    "        is passed then this value will be overridden by the\n",
    "        corresponding option of the theme.\n",
    "    width: int (optional, default 800)\n",
    "        The desired width of the plot in pixels.\n",
    "    height: int (optional, default 800)\n",
    "        The desired height of the plot in pixels\n",
    "    Returns\n",
    "    -------\n",
    "    result: matplotlib axis\n",
    "        The result is a matplotlib axis with the relevant plot displayed.\n",
    "        If you are using a notbooks and have ``%matplotlib inline`` set\n",
    "        then this will simply display inline.\n",
    "    \"\"\"\n",
    "    if theme is not None:\n",
    "        cmap = _themes[theme][\"cmap\"]\n",
    "        color_key_cmap = _themes[theme][\"color_key_cmap\"]\n",
    "        edge_cmap = _themes[theme][\"edge_cmap\"]\n",
    "        background = _themes[theme][\"background\"]\n",
    "\n",
    "    points = _get_embedding(umap_object)\n",
    "    point_df = pd.DataFrame(points, columns=(\"x\", \"y\"))\n",
    "\n",
    "    if px_size is None:\n",
    "        point_size = 100.0 / np.sqrt(points.shape[0])\n",
    "        if point_size > 1:\n",
    "            px_size = int(np.round(point_size))\n",
    "        else:\n",
    "            px_size = 1\n",
    "\n",
    "    if show_points:\n",
    "        edge_how = \"log\"\n",
    "    else:\n",
    "        edge_how = \"eq_hist\"\n",
    "\n",
    "    coo_graph = umap_object.graph_.tocoo()\n",
    "    edge_df = pd.DataFrame(\n",
    "        np.vstack([coo_graph.row, coo_graph.col, coo_graph.data]).T,\n",
    "        columns=(\"source\", \"target\", \"weight\"),\n",
    "    )\n",
    "    edge_df[\"source\"] = edge_df.source.astype(np.int32)\n",
    "    edge_df[\"target\"] = edge_df.target.astype(np.int32)\n",
    "\n",
    "    extent = _get_extent(points)\n",
    "    canvas = ds.Canvas(\n",
    "        plot_width=width,\n",
    "        plot_height=height,\n",
    "        x_range=(extent[0], extent[1]),\n",
    "        y_range=(extent[2], extent[3]),\n",
    "    )\n",
    "\n",
    "    if edge_bundling is None:\n",
    "        edges = bd.directly_connect_edges(point_df, edge_df, weight=\"weight\")\n",
    "    elif edge_bundling == \"hammer\":\n",
    "        warn(\n",
    "            \"Hammer edge bundling is expensive for large graphs!\\n\"\n",
    "            \"This may take a long time to compute!\"\n",
    "        )\n",
    "        edges = bd.hammer_bundle(point_df, edge_df, weight=\"weight\")\n",
    "    else:\n",
    "        raise ValueError(\"{} is not a recognised bundling method\".format(edge_bundling))\n",
    "\n",
    "    edge_img = tf.shade(\n",
    "        canvas.line(edges, \"x\", \"y\", agg=ds.sum(\"weight\")),\n",
    "        cmap=plt.get_cmap(edge_cmap),\n",
    "        how=edge_how,\n",
    "    )\n",
    "    edge_img = tf.set_background(edge_img, background)\n",
    "\n",
    "    if show_points:\n",
    "        point_img = _datashade_points(\n",
    "            points,\n",
    "            None,\n",
    "            labels,\n",
    "            values,\n",
    "            cmap,\n",
    "            color_key,\n",
    "            color_key_cmap,\n",
    "            None,\n",
    "            width,\n",
    "            height,\n",
    "            False,\n",
    "        )\n",
    "        if px_size > 1:\n",
    "            point_img = tf.dynspread(point_img, threshold=threshold, max_px=px_size)\n",
    "        result = tf.stack(edge_img, point_img, how=\"over\")\n",
    "    else:\n",
    "        result = edge_img\n",
    "\n",
    "    font_color = _select_font_color(background)\n",
    "\n",
    "    dpi = plt.rcParams[\"figure.dpi\"]\n",
    "    fig = plt.figure(figsize=(width / dpi, height / dpi))\n",
    "    ax = fig.add_subplot(111)\n",
    "\n",
    "    _embed_datashader_in_an_axis(result, ax)\n",
    "\n",
    "    ax.set(xticks=[], yticks=[])\n",
    "    ax.text(\n",
    "        0.99,\n",
    "        0.01,\n",
    "        \"UMAP: n_neighbors={}, min_dist={}\".format(\n",
    "            umap_object.n_neighbors, umap_object.min_dist\n",
    "        ),\n",
    "        transform=ax.transAxes,\n",
    "        horizontalalignment=\"right\",\n",
    "        color=font_color,\n",
    "    )\n",
    "\n",
    "    return ax"
   ]
  },
  {
   "cell_type": "code",
   "execution_count": 3,
   "metadata": {},
   "outputs": [],
   "source": [
    "def signaltonoise(a, axis=0, ddof=0):\n",
    "    a = np.asanyarray(a)\n",
    "    m = a.mean(axis)\n",
    "    sd = a.std(axis=axis, ddof=ddof)\n",
    "    return np.where(sd == 0, 0, m/sd)"
   ]
  },
  {
   "cell_type": "code",
   "execution_count": 4,
   "metadata": {},
   "outputs": [],
   "source": [
    "clusters = load_derived_generic(\"clusters.csv\")"
   ]
  },
  {
   "cell_type": "code",
   "execution_count": 5,
   "metadata": {},
   "outputs": [],
   "source": [
    "df = load_waveforms().assign(time=lambda x: x[\"waveform_index\"] * (1 / 300))\n",
    "\n",
    "df = df.pivot(index=\"waveform_index\", columns=\"neuron_id\", values=\"waveform_value\")"
   ]
  },
  {
   "cell_type": "code",
   "execution_count": 7,
   "metadata": {},
   "outputs": [],
   "source": [
    "from scipy.ndimage import gaussian_filter1d\n",
    "\n",
    "df = df.apply(gaussian_filter1d, sigma=1)"
   ]
  },
  {
   "cell_type": "code",
   "execution_count": 8,
   "metadata": {},
   "outputs": [
    {
     "data": {
      "image/png": "[encoded data removed]",
      "text/plain": [
       "<Figure size 432x288 with 1 Axes>"
      ]
     },
     "metadata": {
      "needs_background": "light"
     },
     "output_type": "display_data"
    }
   ],
   "source": [
    "scaled = pd.DataFrame(MinMaxScaler().fit_transform(df), columns=df.columns, index=df.index)\n",
    "sig_noise = scaled.apply(signaltonoise).astype(float)\n",
    "sig_noise.hist(bins=50, color=\"black\")\n",
    "bad_neurons = sig_noise[sig_noise < 4].index.values\n",
    "df = df[[c for c in df.columns if c not in bad_neurons]]"
   ]
  },
  {
   "cell_type": "code",
   "execution_count": 64,
   "metadata": {},
   "outputs": [
    {
     "data": {
      "text/plain": [
       "Index(['neuron_id', 'burst_4', 'burst_3', 'no_wf_3', 'wf_3', 'wf_4'], dtype='object')"
      ]
     },
     "execution_count": 64,
     "metadata": {},
     "output_type": "execute_result"
    }
   ],
   "source": [
    "clusters.columns"
   ]
  },
  {
   "cell_type": "code",
   "execution_count": 76,
   "metadata": {},
   "outputs": [
    {
     "data": {
      "application/vnd.plotly.v1+json": {
       "config": {
        "plotlyServerURL": "https://plot.ly"
       },
       "data": [
        {
         "hovertemplate": "burst_4=sr_narrow<br>d1=%{x}<br>d2=%{y}<extra></extra>",
         "legendgroup": "sr_narrow",
         "marker": {
          "color": "#636efa",
          "symbol": "circle"
         },
         "mode": "markers",
         "name": "sr_narrow",
         "orientation": "v",
         "showlegend": true,
         "type": "scatter",
         "x": [
          4.718189239501953,
          1.293127179145813,
          1.7721478939056396,
          4.224123954772949,
          8.387931823730469,
          8.390303611755371,
          8.227322578430176,
          3.639533281326294,
          5.135089874267578,
          8.509127616882324,
          -2.2729668617248535,
          5.112466335296631,
          3.346123218536377,
          8.167945861816406,
          7.397602081298828,
          4.80303955078125,
          8.906217575073242,
          8.989700317382812,
          9.545751571655273,
          4.628561973571777,
          8.241731643676758,
          1.1908290386199951,
          2.568084955215454,
          9.87963581085205,
          6.623555660247803,
          2.4408860206604004,
          7.832409858703613,
          8.305708885192871,
          11.027008056640625,
          10.968228340148926,
          11.288097381591797,
          -1.3519437313079834,
          4.836209297180176,
          8.600557327270508,
          4.261588096618652,
          7.449885845184326,
          8.322578430175781,
          8.510760307312012,
          8.241631507873535,
          -0.8274824619293213,
          3.3638076782226562,
          4.091974258422852,
          1.8668757677078247,
          1.6877772808074951,
          10.801873207092285,
          2.4400975704193115,
          10.934803009033203,
          10.940993309020996,
          8.462971687316895,
          8.636933326721191,
          2.5992510318756104,
          7.626955032348633,
          1.8622440099716187,
          9.694275856018066,
          10.748827934265137,
          9.03437614440918,
          8.636129379272461,
          10.772360801696777,
          2.7295942306518555,
          7.620039463043213,
          8.604243278503418,
          2.270151138305664,
          6.580750465393066,
          9.849142074584961,
          4.7089033126831055,
          2.0724992752075195,
          7.023126125335693,
          4.129961967468262,
          10.795181274414062,
          7.796058654785156,
          9.500588417053223,
          2.104306936264038,
          9.790264129638672,
          10.225044250488281,
          9.441841125488281,
          1.1698721647262573,
          1.2176355123519897,
          1.5850197076797485,
          1.1803876161575317,
          1.7233922481536865,
          1.5429284572601318,
          9.725419998168945,
          2.5436224937438965,
          7.561825275421143,
          4.877297401428223,
          5.123381614685059,
          2.444894313812256,
          8.84593677520752,
          5.574012279510498,
          2.6671013832092285,
          9.023465156555176,
          6.225496292114258,
          8.141359329223633,
          1.695278286933899,
          -1.635719656944275,
          10.988554000854492,
          -0.5549817681312561,
          11.359306335449219,
          11.218294143676758,
          -2.2105610370635986,
          -2.2496793270111084,
          11.342724800109863,
          1.6191697120666504,
          1.1086859703063965,
          4.3923749923706055,
          7.08737850189209,
          2.094994068145752,
          4.589224338531494,
          2.3938817977905273,
          7.520816326141357,
          2.1357784271240234,
          7.472893238067627,
          8.939888000488281,
          8.037837982177734,
          3.804872989654541,
          1.9830940961837769,
          5.7603068351745605,
          2.7917943000793457,
          8.492173194885254,
          4.1124114990234375,
          8.249144554138184,
          2.234065532684326,
          1.563291311264038,
          1.1837109327316284,
          4.06668758392334,
          7.412801742553711,
          8.984126091003418,
          -2.2555744647979736,
          4.12230920791626,
          1.630059003829956
         ],
         "xaxis": "x",
         "y": [
          8.163146018981934,
          7.6456499099731445,
          7.7817463874816895,
          7.633866786956787,
          8.633272171020508,
          7.435201644897461,
          8.728206634521484,
          7.653836250305176,
          8.022848129272461,
          6.778987407684326,
          8.213747024536133,
          7.938343524932861,
          7.388083457946777,
          4.098576068878174,
          4.797257423400879,
          6.8192925453186035,
          8.393560409545898,
          8.200018882751465,
          7.339713096618652,
          7.830789566040039,
          5.909369468688965,
          7.329098701477051,
          7.927516937255859,
          5.316780090332031,
          4.751683712005615,
          8.039203643798828,
          6.354429244995117,
          4.501162528991699,
          6.841995716094971,
          7.289107322692871,
          4.690972805023193,
          9.166143417358398,
          7.59904146194458,
          8.387925148010254,
          7.533092021942139,
          7.4038825035095215,
          6.882730007171631,
          8.521510124206543,
          8.70632553100586,
          8.82413101196289,
          7.403997421264648,
          7.766079902648926,
          7.653496742248535,
          7.863886833190918,
          6.808945655822754,
          8.013265609741211,
          7.086939811706543,
          7.060063362121582,
          6.597999572753906,
          6.845699310302734,
          8.410096168518066,
          6.76934814453125,
          7.543725967407227,
          3.4865856170654297,
          7.516934394836426,
          8.202740669250488,
          8.422163963317871,
          7.453390121459961,
          8.258203506469727,
          7.270390510559082,
          4.493295669555664,
          7.9229936599731445,
          4.906622886657715,
          7.308718204498291,
          8.155033111572266,
          8.557891845703125,
          5.152448654174805,
          7.589351177215576,
          6.48572301864624,
          6.40020227432251,
          7.523050308227539,
          8.556050300598145,
          7.33128023147583,
          7.245206356048584,
          7.2460246086120605,
          7.352413177490234,
          7.4136528968811035,
          7.959498405456543,
          7.341062545776367,
          8.021947860717773,
          8.29783821105957,
          7.308370113372803,
          8.238597869873047,
          7.477573871612549,
          7.615833282470703,
          8.011629104614258,
          8.771876335144043,
          7.2322001457214355,
          8.092466354370117,
          8.316990852355957,
          4.7097039222717285,
          4.713278293609619,
          6.045705795288086,
          8.087911605834961,
          7.819734573364258,
          5.327366352081299,
          8.450906753540039,
          3.406167984008789,
          3.4033186435699463,
          8.098639488220215,
          8.188321113586426,
          6.166207790374756,
          7.322816848754883,
          7.362415313720703,
          7.6991143226623535,
          7.691965103149414,
          7.505482196807861,
          7.63454008102417,
          7.578653812408447,
          7.894439220428467,
          8.606829643249512,
          7.414312362670898,
          8.259517669677734,
          7.126686096191406,
          7.1899638175964355,
          8.356714248657227,
          5.366109371185303,
          7.804965972900391,
          7.285562992095947,
          7.002785682678223,
          8.685806274414062,
          8.56571102142334,
          8.129772186279297,
          7.335137367248535,
          7.08507776260376,
          8.016008377075195,
          6.898115158081055,
          8.249288558959961,
          7.008974552154541,
          7.298396587371826
         ],
         "yaxis": "y"
        },
        {
         "hovertemplate": "burst_4=sr_wide<br>d1=%{x}<br>d2=%{y}<extra></extra>",
         "legendgroup": "sr_wide",
         "marker": {
          "color": "#EF553B",
          "symbol": "circle"
         },
         "mode": "markers",
         "name": "sr_wide",
         "orientation": "v",
         "showlegend": true,
         "type": "scatter",
         "x": [
          7.20381498336792,
          9.26158618927002,
          5.865521430969238,
          4.947504997253418,
          8.23022747039795,
          10.901658058166504,
          8.644819259643555,
          11.245448112487793,
          9.883498191833496,
          10.08444595336914,
          10.695197105407715,
          8.804056167602539,
          11.270646095275879,
          -2.01328706741333,
          8.638273239135742,
          9.30380630493164,
          8.217629432678223,
          8.217097282409668,
          8.1832914352417,
          -2.031560182571411,
          -2.0919110774993896,
          10.918415069580078,
          11.694538116455078,
          7.80923318862915,
          11.70312213897705,
          8.980268478393555,
          6.463648796081543,
          8.108177185058594,
          7.950705051422119,
          10.97079849243164,
          7.321355819702148,
          7.975648880004883,
          10.026451110839844,
          8.888617515563965,
          -1.0545662641525269,
          9.685667991638184,
          11.201661109924316,
          5.8493242263793945,
          6.1284613609313965,
          9.408440589904785,
          11.514111518859863,
          -2.147449254989624,
          -2.1271376609802246,
          -2.135601043701172,
          10.942676544189453,
          8.681072235107422,
          6.403210163116455,
          5.813633918762207,
          9.272706985473633,
          10.95720386505127,
          7.185457229614258,
          11.700424194335938,
          11.702686309814453,
          11.360177993774414,
          8.22265911102295,
          9.531755447387695,
          -1.238457202911377,
          -1.3505548238754272,
          11.179346084594727,
          11.571073532104492,
          -1.3251452445983887,
          10.756043434143066,
          6.0885820388793945,
          9.257917404174805,
          11.394987106323242,
          -0.8288193941116333,
          4.7162909507751465,
          8.363195419311523,
          11.14310359954834,
          -1.532902717590332,
          -0.7463513016700745,
          9.888022422790527,
          6.497715473175049,
          9.037309646606445,
          7.281434059143066,
          7.250063896179199,
          7.809553623199463,
          -2.0023255348205566,
          7.666243076324463,
          9.77698802947998,
          2.9708075523376465,
          -0.5477243065834045,
          10.907959938049316,
          11.548323631286621,
          8.210789680480957,
          9.461854934692383,
          11.388110160827637,
          11.03958511352539,
          11.34453296661377,
          10.78683090209961,
          8.059447288513184,
          11.155691146850586,
          9.099113464355469,
          9.448427200317383,
          8.231593132019043,
          11.327205657958984,
          -2.237250328063965,
          11.07798957824707,
          6.617830276489258,
          -0.48774993419647217,
          9.569746971130371,
          6.2502336502075195,
          9.960378646850586,
          8.208151817321777,
          7.745331287384033,
          9.08138370513916,
          8.673483848571777,
          9.854146003723145,
          8.882781982421875,
          8.589066505432129,
          -1.6425366401672363,
          7.665928840637207,
          4.761997699737549,
          7.975532531738281,
          10.890658378601074,
          5.162560939788818,
          7.936340808868408,
          6.741183757781982,
          8.169776916503906,
          -2.1459755897521973,
          6.384060859680176,
          7.2993903160095215,
          9.765789031982422,
          11.323859214782715,
          11.365762710571289,
          11.3291015625,
          11.53255844116211,
          8.668656349182129,
          5.993676662445068,
          9.264101028442383,
          9.299384117126465,
          8.358206748962402,
          11.36990737915039,
          10.889159202575684,
          -1.6588270664215088,
          10.182125091552734,
          11.160868644714355,
          9.717704772949219,
          6.025054454803467,
          4.631901264190674,
          9.379666328430176,
          6.376903533935547,
          -2.0291945934295654,
          -1.3711037635803223,
          10.149191856384277,
          9.23338794708252,
          8.659171104431152,
          8.78208065032959,
          8.824956893920898,
          -1.297371745109558,
          11.005936622619629,
          -1.305182695388794,
          -1.1570230722427368,
          -1.309024453163147,
          -2.0273640155792236,
          11.42894458770752,
          11.487626075744629,
          11.021158218383789,
          9.599647521972656,
          9.632740020751953,
          11.08010196685791,
          10.86907958984375,
          11.373714447021484,
          9.72065544128418,
          10.948352813720703,
          9.372684478759766,
          8.858901023864746,
          -0.5666422247886658,
          7.67032527923584
         ],
         "xaxis": "x",
         "y": [
          7.950337886810303,
          3.7095587253570557,
          5.250903606414795,
          6.6567158699035645,
          8.712371826171875,
          4.362339019775391,
          3.3112921714782715,
          5.786444187164307,
          3.9938814640045166,
          4.222408771514893,
          7.5735039710998535,
          3.5866920948028564,
          3.3224070072174072,
          8.969855308532715,
          4.538684368133545,
          3.632734537124634,
          4.059187412261963,
          4.063568592071533,
          4.105240345001221,
          8.942315101623535,
          7.9464030265808105,
          7.260372638702393,
          4.0687994956970215,
          4.554444313049316,
          4.142940044403076,
          4.486999988555908,
          4.198439121246338,
          4.813014030456543,
          6.223508358001709,
          7.0060224533081055,
          4.369858741760254,
          4.767350673675537,
          4.321925163269043,
          3.251326322555542,
          8.962918281555176,
          3.4923465251922607,
          3.830052614212036,
          5.251440525054932,
          4.550409317016602,
          7.179793834686279,
          3.909778356552124,
          8.861001968383789,
          8.882593154907227,
          8.864175796508789,
          4.995250701904297,
          4.693593502044678,
          4.626636505126953,
          5.30191707611084,
          3.5122387409210205,
          7.297220230102539,
          7.211735248565674,
          4.067586898803711,
          4.086841583251953,
          6.136866092681885,
          4.073224067687988,
          3.4010355472564697,
          9.106184959411621,
          9.150775909423828,
          4.770195960998535,
          3.9367806911468506,
          9.112902641296387,
          4.690336227416992,
          4.628210544586182,
          3.990025281906128,
          4.415506839752197,
          8.813887596130371,
          6.977686882019043,
          6.639907360076904,
          4.7304463386535645,
          7.7053399085998535,
          8.629108428955078,
          4.245231628417969,
          4.1466779708862305,
          4.399506568908691,
          4.903979778289795,
          4.881526470184326,
          4.4691596031188965,
          8.974574089050293,
          4.64614200592041,
          4.466368198394775,
          7.441664218902588,
          8.473101615905762,
          4.809588432312012,
          3.9123282432556152,
          4.764966011047363,
          5.02764892578125,
          5.428040504455566,
          4.560360431671143,
          4.833584308624268,
          4.67732048034668,
          4.792417049407959,
          4.639914512634277,
          3.9731009006500244,
          4.1855387687683105,
          4.123581409454346,
          3.272440195083618,
          8.170116424560547,
          4.630945205688477,
          4.0818867683410645,
          8.413203239440918,
          5.105984210968018,
          4.481801509857178,
          4.151059627532959,
          4.169267654418945,
          4.477381229400635,
          3.27402925491333,
          4.664288520812988,
          4.26515007019043,
          3.941739082336426,
          4.688756465911865,
          7.80363130569458,
          7.826507568359375,
          7.0924859046936035,
          6.177290916442871,
          4.66016149520874,
          7.36065149307251,
          4.687710762023926,
          3.9639244079589844,
          4.829205513000488,
          8.836633682250977,
          4.271790027618408,
          4.339398384094238,
          4.115192413330078,
          3.301366090774536,
          3.403259515762329,
          3.259911298751831,
          3.8735408782958984,
          3.2586443424224854,
          4.819027900695801,
          3.7599987983703613,
          3.5374324321746826,
          8.646370887756348,
          3.7985129356384277,
          4.158631801605225,
          7.8105950355529785,
          4.383481979370117,
          4.847506999969482,
          3.515326976776123,
          4.694508075714111,
          7.009664058685303,
          3.537933826446533,
          4.287224769592285,
          7.887439727783203,
          9.128859519958496,
          4.268831729888916,
          3.478424549102783,
          3.2555365562438965,
          3.27842378616333,
          3.584261894226074,
          9.12204360961914,
          5.424779415130615,
          9.140804290771484,
          9.020846366882324,
          9.076735496520996,
          7.899032115936279,
          3.816488027572632,
          3.5978288650512695,
          7.1457648277282715,
          5.124241828918457,
          5.098047733306885,
          4.904328346252441,
          5.319447040557861,
          3.4416496753692627,
          5.099971294403076,
          5.387294292449951,
          4.426464557647705,
          8.191267013549805,
          8.465550422668457,
          7.861077785491943
         ],
         "yaxis": "y"
        },
        {
         "hovertemplate": "burst_4=sir<br>d1=%{x}<br>d2=%{y}<extra></extra>",
         "legendgroup": "sir",
         "marker": {
          "color": "#00cc96",
          "symbol": "circle"
         },
         "mode": "markers",
         "name": "sir",
         "orientation": "v",
         "showlegend": true,
         "type": "scatter",
         "x": [
          6.622590065002441,
          8.891054153442383,
          10.23287582397461,
          8.885477066040039,
          10.739986419677734,
          1.6380815505981445,
          -1.6318864822387695,
          10.972192764282227,
          9.514777183532715,
          8.678093910217285,
          8.963499069213867,
          2.888991594314575,
          2.60327410697937,
          11.298391342163086,
          7.790208339691162,
          7.73042106628418,
          -1.248795747756958,
          11.287308692932129,
          8.705157279968262,
          -0.6781740188598633,
          9.687131881713867,
          8.376382827758789,
          8.342581748962402,
          4.599165439605713,
          6.0322442054748535,
          1.6302186250686646,
          3.0821943283081055,
          2.541245698928833,
          2.7257087230682373,
          2.6656508445739746,
          5.07353401184082,
          8.26798152923584,
          3.7689223289489746,
          3.233985424041748,
          4.849517345428467,
          4.9248785972595215,
          -2.237330913543701,
          2.7993288040161133,
          -2.063969612121582,
          7.516103744506836,
          11.313948631286621,
          4.3795599937438965,
          3.9693844318389893,
          2.8050007820129395,
          4.905210018157959,
          10.649555206298828,
          3.6903440952301025,
          3.195592164993286,
          8.269756317138672,
          2.676274061203003,
          5.249179840087891,
          8.236376762390137,
          8.398808479309082,
          2.5620009899139404,
          10.694567680358887,
          7.197590351104736,
          4.984622955322266,
          2.8056230545043945,
          10.982909202575684,
          11.353046417236328,
          8.96839714050293,
          8.410683631896973,
          10.956846237182617,
          7.256577968597412,
          7.684228420257568,
          11.031625747680664,
          6.426738739013672,
          -1.5264850854873657,
          6.638546943664551,
          8.857168197631836,
          -0.6325315237045288,
          3.2378220558166504,
          6.989899158477783,
          9.755078315734863,
          1.363482117652893,
          9.656759262084961,
          10.920634269714355,
          9.09892463684082,
          7.719760417938232,
          6.736841201782227,
          2.373046875,
          2.0917468070983887,
          9.323758125305176,
          9.006689071655273,
          9.047651290893555,
          -1.3554185628890991,
          -1.6284750699996948,
          11.280614852905273,
          4.763596534729004,
          -2.2397282123565674,
          -1.4278873205184937,
          6.568593978881836,
          6.39132833480835,
          6.741105556488037,
          -1.9567623138427734,
          9.231328964233398,
          -1.1267259120941162,
          -2.1827619075775146,
          -2.047916889190674,
          11.480964660644531,
          4.185968399047852,
          9.681663513183594,
          1.847617506980896,
          6.373921871185303,
          4.148404121398926,
          6.383788585662842,
          8.140947341918945,
          8.154871940612793,
          8.95466136932373,
          8.278478622436523,
          -1.8592031002044678,
          10.978931427001953,
          8.516366004943848,
          10.153362274169922,
          10.793645858764648,
          10.778884887695312,
          4.902417182922363,
          7.0716376304626465,
          4.925424575805664,
          2.575068235397339,
          2.224893808364868,
          8.786407470703125,
          8.953627586364746,
          4.8128180503845215,
          6.8920722007751465,
          -1.4889261722564697,
          9.981863975524902,
          4.133423328399658,
          5.056526184082031
         ],
         "xaxis": "x",
         "y": [
          4.974794864654541,
          3.5873544216156006,
          3.8396480083465576,
          7.20357084274292,
          7.417355537414551,
          8.131576538085938,
          7.831028461456299,
          6.892078399658203,
          7.248398780822754,
          8.49708366394043,
          8.228751182556152,
          7.320652484893799,
          8.551848411560059,
          6.260683059692383,
          6.388421535491943,
          6.417299747467041,
          9.080418586730957,
          4.752122402191162,
          4.565014839172363,
          8.616310119628906,
          3.560063600540161,
          6.748895168304443,
          6.643938064575195,
          7.08554220199585,
          4.705148220062256,
          7.2801313400268555,
          7.439413070678711,
          7.934350967407227,
          8.251991271972656,
          8.354702949523926,
          7.917740345001221,
          8.680286407470703,
          7.131205081939697,
          7.391185760498047,
          6.757323265075684,
          6.680864334106445,
          8.69474983215332,
          8.158495903015137,
          8.924854278564453,
          7.526869773864746,
          6.213583946228027,
          7.38614559173584,
          7.4566144943237305,
          8.287199020385742,
          7.370174407958984,
          7.4328107833862305,
          7.391848564147949,
          7.408872604370117,
          8.678045272827148,
          8.426658630371094,
          7.946911811828613,
          8.491650581359863,
          6.583543300628662,
          8.738106727600098,
          7.375535488128662,
          7.240724086761475,
          7.876643180847168,
          8.280911445617676,
          7.089779376983643,
          6.137941360473633,
          7.279192924499512,
          6.344088554382324,
          7.000844478607178,
          7.284372329711914,
          6.563427448272705,
          5.183010578155518,
          4.205898284912109,
          9.139342308044434,
          7.444190979003906,
          8.28427505493164,
          8.523075103759766,
          7.390933036804199,
          4.621348857879639,
          5.0916008949279785,
          7.353116035461426,
          5.153489112854004,
          4.761306285858154,
          6.902790546417236,
          5.676070690155029,
          3.9842214584350586,
          8.250786781311035,
          8.572922706604004,
          7.272181987762451,
          3.981532096862793,
          4.65794563293457,
          7.802710056304932,
          9.078082084655762,
          6.275970458984375,
          7.137612342834473,
          8.6682767868042,
          9.098211288452148,
          4.934600353240967,
          4.657472133636475,
          3.9925501346588135,
          7.820362567901611,
          3.898512363433838,
          7.937955379486084,
          8.780155181884766,
          8.939412117004395,
          3.672990083694458,
          6.966554164886475,
          7.375086307525635,
          7.6324944496154785,
          4.282169342041016,
          6.937745094299316,
          4.311748027801514,
          4.125016212463379,
          6.263336181640625,
          4.002166748046875,
          5.902029991149902,
          9.029178619384766,
          5.471221923828125,
          6.735539436340332,
          4.0072550773620605,
          5.340405464172363,
          7.463185787200928,
          7.938456058502197,
          7.279902935028076,
          6.680484294891357,
          7.9197096824646,
          7.965727806091309,
          6.933547496795654,
          6.712686061859131,
          6.814817428588867,
          5.281858444213867,
          9.104388236999512,
          7.231086254119873,
          7.591297626495361,
          7.908173561096191
         ],
         "yaxis": "y"
        },
        {
         "hovertemplate": "burst_4=ff<br>d1=%{x}<br>d2=%{y}<extra></extra>",
         "legendgroup": "ff",
         "marker": {
          "color": "#ab63fa",
          "symbol": "circle"
         },
         "mode": "markers",
         "name": "ff",
         "orientation": "v",
         "showlegend": true,
         "type": "scatter",
         "x": [
          6.862130641937256,
          7.020969390869141,
          9.63003158569336,
          11.387664794921875,
          11.512066841125488,
          1.665060043334961,
          11.387977600097656,
          11.022111892700195,
          4.739585876464844,
          9.414605140686035,
          1.9441758394241333,
          3.8672072887420654,
          11.553796768188477,
          7.813998699188232,
          8.701193809509277,
          2.5362308025360107,
          1.1823452711105347,
          5.9306960105896,
          5.562200546264648,
          8.929580688476562,
          7.976911544799805,
          8.953264236450195,
          7.077845573425293,
          1.6460589170455933,
          9.638678550720215,
          11.306602478027344,
          5.029388904571533,
          9.48544979095459,
          6.969686508178711,
          11.038844108581543,
          2.1397147178649902,
          7.553493976593018,
          5.123064994812012,
          8.719268798828125,
          3.852520704269409,
          1.6568543910980225,
          3.759608745574951,
          2.5054678916931152,
          4.220694065093994,
          -1.9153783321380615,
          7.193687438964844,
          5.842282295227051,
          7.722599506378174,
          8.444304466247559,
          9.798596382141113,
          -0.9323838353157043,
          4.849905490875244,
          9.466558456420898,
          4.5974297523498535,
          8.520445823669434,
          1.8372900485992432,
          9.047478675842285
         ],
         "xaxis": "x",
         "y": [
          5.2028913497924805,
          4.569423198699951,
          3.5095231533050537,
          3.4974327087402344,
          3.8340065479278564,
          7.264130592346191,
          6.082233905792236,
          7.150102615356445,
          7.717299461364746,
          7.652930736541748,
          8.0054349899292,
          7.487126350402832,
          3.7273848056793213,
          6.122377872467041,
          3.2524361610412598,
          7.988087177276611,
          7.365017414093018,
          5.138856410980225,
          8.043839454650879,
          7.181630611419678,
          4.297132968902588,
          7.269465446472168,
          5.031698703765869,
          7.983550548553467,
          7.604053020477295,
          3.2764503955841064,
          7.910103797912598,
          7.18768310546875,
          7.4486308097839355,
          5.391938209533691,
          8.61406421661377,
          7.904411792755127,
          7.961278438568115,
          8.349587440490723,
          7.333503723144531,
          7.265145301818848,
          7.35365104675293,
          8.720126152038574,
          6.89456033706665,
          7.802901744842529,
          4.447709560394287,
          5.262569904327393,
          6.470066547393799,
          3.8192849159240723,
          7.314684867858887,
          8.878846168518066,
          7.853205680847168,
          7.315093994140625,
          7.84705114364624,
          6.738742351531982,
          7.48417329788208,
          8.182811737060547
         ],
         "yaxis": "y"
        }
       ],
       "layout": {
        "legend": {
         "title": {
          "text": "burst_4"
         },
         "tracegroupgap": 0
        },
        "margin": {
         "t": 60
        },
        "template": {
         "data": {
          "bar": [
           {
            "error_x": {
             "color": "#2a3f5f"
            },
            "error_y": {
             "color": "#2a3f5f"
            },
            "marker": {
             "line": {
              "color": "#E5ECF6",
              "width": 0.5
             },
             "pattern": {
              "fillmode": "overlay",
              "size": 10,
              "solidity": 0.2
             }
            },
            "type": "bar"
           }
          ],
          "barpolar": [
           {
            "marker": {
             "line": {
              "color": "#E5ECF6",
              "width": 0.5
             },
             "pattern": {
              "fillmode": "overlay",
              "size": 10,
              "solidity": 0.2
             }
            },
            "type": "barpolar"
           }
          ],
          "carpet": [
           {
            "aaxis": {
             "endlinecolor": "#2a3f5f",
             "gridcolor": "white",
             "linecolor": "white",
             "minorgridcolor": "white",
             "startlinecolor": "#2a3f5f"
            },
            "baxis": {
             "endlinecolor": "#2a3f5f",
             "gridcolor": "white",
             "linecolor": "white",
             "minorgridcolor": "white",
             "startlinecolor": "#2a3f5f"
            },
            "type": "carpet"
           }
          ],
          "choropleth": [
           {
            "colorbar": {
             "outlinewidth": 0,
             "ticks": ""
            },
            "type": "choropleth"
           }
          ],
          "contour": [
           {
            "colorbar": {
             "outlinewidth": 0,
             "ticks": ""
            },
            "colorscale": [
             [
              0,
              "#0d0887"
             ],
             [
              0.1111111111111111,
              "#46039f"
             ],
             [
              0.2222222222222222,
              "#7201a8"
             ],
             [
              0.3333333333333333,
              "#9c179e"
             ],
             [
              0.4444444444444444,
              "#bd3786"
             ],
             [
              0.5555555555555556,
              "#d8576b"
             ],
             [
              0.6666666666666666,
              "#ed7953"
             ],
             [
              0.7777777777777778,
              "#fb9f3a"
             ],
             [
              0.8888888888888888,
              "#fdca26"
             ],
             [
              1,
              "#f0f921"
             ]
            ],
            "type": "contour"
           }
          ],
          "contourcarpet": [
           {
            "colorbar": {
             "outlinewidth": 0,
             "ticks": ""
            },
            "type": "contourcarpet"
           }
          ],
          "heatmap": [
           {
            "colorbar": {
             "outlinewidth": 0,
             "ticks": ""
            },
            "colorscale": [
             [
              0,
              "#0d0887"
             ],
             [
              0.1111111111111111,
              "#46039f"
             ],
             [
              0.2222222222222222,
              "#7201a8"
             ],
             [
              0.3333333333333333,
              "#9c179e"
             ],
             [
              0.4444444444444444,
              "#bd3786"
             ],
             [
              0.5555555555555556,
              "#d8576b"
             ],
             [
              0.6666666666666666,
              "#ed7953"
             ],
             [
              0.7777777777777778,
              "#fb9f3a"
             ],
             [
              0.8888888888888888,
              "#fdca26"
             ],
             [
              1,
              "#f0f921"
             ]
            ],
            "type": "heatmap"
           }
          ],
          "heatmapgl": [
           {
            "colorbar": {
             "outlinewidth": 0,
             "ticks": ""
            },
            "colorscale": [
             [
              0,
              "#0d0887"
             ],
             [
              0.1111111111111111,
              "#46039f"
             ],
             [
              0.2222222222222222,
              "#7201a8"
             ],
             [
              0.3333333333333333,
              "#9c179e"
             ],
             [
              0.4444444444444444,
              "#bd3786"
             ],
             [
              0.5555555555555556,
              "#d8576b"
             ],
             [
              0.6666666666666666,
              "#ed7953"
             ],
             [
              0.7777777777777778,
              "#fb9f3a"
             ],
             [
              0.8888888888888888,
              "#fdca26"
             ],
             [
              1,
              "#f0f921"
             ]
            ],
            "type": "heatmapgl"
           }
          ],
          "histogram": [
           {
            "marker": {
             "pattern": {
              "fillmode": "overlay",
              "size": 10,
              "solidity": 0.2
             }
            },
            "type": "histogram"
           }
          ],
          "histogram2d": [
           {
            "colorbar": {
             "outlinewidth": 0,
             "ticks": ""
            },
            "colorscale": [
             [
              0,
              "#0d0887"
             ],
             [
              0.1111111111111111,
              "#46039f"
             ],
             [
              0.2222222222222222,
              "#7201a8"
             ],
             [
              0.3333333333333333,
              "#9c179e"
             ],
             [
              0.4444444444444444,
              "#bd3786"
             ],
             [
              0.5555555555555556,
              "#d8576b"
             ],
             [
              0.6666666666666666,
              "#ed7953"
             ],
             [
              0.7777777777777778,
              "#fb9f3a"
             ],
             [
              0.8888888888888888,
              "#fdca26"
             ],
             [
              1,
              "#f0f921"
             ]
            ],
            "type": "histogram2d"
           }
          ],
          "histogram2dcontour": [
           {
            "colorbar": {
             "outlinewidth": 0,
             "ticks": ""
            },
            "colorscale": [
             [
              0,
              "#0d0887"
             ],
             [
              0.1111111111111111,
              "#46039f"
             ],
             [
              0.2222222222222222,
              "#7201a8"
             ],
             [
              0.3333333333333333,
              "#9c179e"
             ],
             [
              0.4444444444444444,
              "#bd3786"
             ],
             [
              0.5555555555555556,
              "#d8576b"
             ],
             [
              0.6666666666666666,
              "#ed7953"
             ],
             [
              0.7777777777777778,
              "#fb9f3a"
             ],
             [
              0.8888888888888888,
              "#fdca26"
             ],
             [
              1,
              "#f0f921"
             ]
            ],
            "type": "histogram2dcontour"
           }
          ],
          "mesh3d": [
           {
            "colorbar": {
             "outlinewidth": 0,
             "ticks": ""
            },
            "type": "mesh3d"
           }
          ],
          "parcoords": [
           {
            "line": {
             "colorbar": {
              "outlinewidth": 0,
              "ticks": ""
             }
            },
            "type": "parcoords"
           }
          ],
          "pie": [
           {
            "automargin": true,
            "type": "pie"
           }
          ],
          "scatter": [
           {
            "marker": {
             "colorbar": {
              "outlinewidth": 0,
              "ticks": ""
             }
            },
            "type": "scatter"
           }
          ],
          "scatter3d": [
           {
            "line": {
             "colorbar": {
              "outlinewidth": 0,
              "ticks": ""
             }
            },
            "marker": {
             "colorbar": {
              "outlinewidth": 0,
              "ticks": ""
             }
            },
            "type": "scatter3d"
           }
          ],
          "scattercarpet": [
           {
            "marker": {
             "colorbar": {
              "outlinewidth": 0,
              "ticks": ""
             }
            },
            "type": "scattercarpet"
           }
          ],
          "scattergeo": [
           {
            "marker": {
             "colorbar": {
              "outlinewidth": 0,
              "ticks": ""
             }
            },
            "type": "scattergeo"
           }
          ],
          "scattergl": [
           {
            "marker": {
             "colorbar": {
              "outlinewidth": 0,
              "ticks": ""
             }
            },
            "type": "scattergl"
           }
          ],
          "scattermapbox": [
           {
            "marker": {
             "colorbar": {
              "outlinewidth": 0,
              "ticks": ""
             }
            },
            "type": "scattermapbox"
           }
          ],
          "scatterpolar": [
           {
            "marker": {
             "colorbar": {
              "outlinewidth": 0,
              "ticks": ""
             }
            },
            "type": "scatterpolar"
           }
          ],
          "scatterpolargl": [
           {
            "marker": {
             "colorbar": {
              "outlinewidth": 0,
              "ticks": ""
             }
            },
            "type": "scatterpolargl"
           }
          ],
          "scatterternary": [
           {
            "marker": {
             "colorbar": {
              "outlinewidth": 0,
              "ticks": ""
             }
            },
            "type": "scatterternary"
           }
          ],
          "surface": [
           {
            "colorbar": {
             "outlinewidth": 0,
             "ticks": ""
            },
            "colorscale": [
             [
              0,
              "#0d0887"
             ],
             [
              0.1111111111111111,
              "#46039f"
             ],
             [
              0.2222222222222222,
              "#7201a8"
             ],
             [
              0.3333333333333333,
              "#9c179e"
             ],
             [
              0.4444444444444444,
              "#bd3786"
             ],
             [
              0.5555555555555556,
              "#d8576b"
             ],
             [
              0.6666666666666666,
              "#ed7953"
             ],
             [
              0.7777777777777778,
              "#fb9f3a"
             ],
             [
              0.8888888888888888,
              "#fdca26"
             ],
             [
              1,
              "#f0f921"
             ]
            ],
            "type": "surface"
           }
          ],
          "table": [
           {
            "cells": {
             "fill": {
              "color": "#EBF0F8"
             },
             "line": {
              "color": "white"
             }
            },
            "header": {
             "fill": {
              "color": "#C8D4E3"
             },
             "line": {
              "color": "white"
             }
            },
            "type": "table"
           }
          ]
         },
         "layout": {
          "annotationdefaults": {
           "arrowcolor": "#2a3f5f",
           "arrowhead": 0,
           "arrowwidth": 1
          },
          "autotypenumbers": "strict",
          "coloraxis": {
           "colorbar": {
            "outlinewidth": 0,
            "ticks": ""
           }
          },
          "colorscale": {
           "diverging": [
            [
             0,
             "#8e0152"
            ],
            [
             0.1,
             "#c51b7d"
            ],
            [
             0.2,
             "#de77ae"
            ],
            [
             0.3,
             "#f1b6da"
            ],
            [
             0.4,
             "#fde0ef"
            ],
            [
             0.5,
             "#f7f7f7"
            ],
            [
             0.6,
             "#e6f5d0"
            ],
            [
             0.7,
             "#b8e186"
            ],
            [
             0.8,
             "#7fbc41"
            ],
            [
             0.9,
             "#4d9221"
            ],
            [
             1,
             "#276419"
            ]
           ],
           "sequential": [
            [
             0,
             "#0d0887"
            ],
            [
             0.1111111111111111,
             "#46039f"
            ],
            [
             0.2222222222222222,
             "#7201a8"
            ],
            [
             0.3333333333333333,
             "#9c179e"
            ],
            [
             0.4444444444444444,
             "#bd3786"
            ],
            [
             0.5555555555555556,
             "#d8576b"
            ],
            [
             0.6666666666666666,
             "#ed7953"
            ],
            [
             0.7777777777777778,
             "#fb9f3a"
            ],
            [
             0.8888888888888888,
             "#fdca26"
            ],
            [
             1,
             "#f0f921"
            ]
           ],
           "sequentialminus": [
            [
             0,
             "#0d0887"
            ],
            [
             0.1111111111111111,
             "#46039f"
            ],
            [
             0.2222222222222222,
             "#7201a8"
            ],
            [
             0.3333333333333333,
             "#9c179e"
            ],
            [
             0.4444444444444444,
             "#bd3786"
            ],
            [
             0.5555555555555556,
             "#d8576b"
            ],
            [
             0.6666666666666666,
             "#ed7953"
            ],
            [
             0.7777777777777778,
             "#fb9f3a"
            ],
            [
             0.8888888888888888,
             "#fdca26"
            ],
            [
             1,
             "#f0f921"
            ]
           ]
          },
          "colorway": [
           "#636efa",
           "#EF553B",
           "#00cc96",
           "#ab63fa",
           "#FFA15A",
           "#19d3f3",
           "#FF6692",
           "#B6E880",
           "#FF97FF",
           "#FECB52"
          ],
          "font": {
           "color": "#2a3f5f"
          },
          "geo": {
           "bgcolor": "white",
           "lakecolor": "white",
           "landcolor": "#E5ECF6",
           "showlakes": true,
           "showland": true,
           "subunitcolor": "white"
          },
          "hoverlabel": {
           "align": "left"
          },
          "hovermode": "closest",
          "mapbox": {
           "style": "light"
          },
          "paper_bgcolor": "white",
          "plot_bgcolor": "#E5ECF6",
          "polar": {
           "angularaxis": {
            "gridcolor": "white",
            "linecolor": "white",
            "ticks": ""
           },
           "bgcolor": "#E5ECF6",
           "radialaxis": {
            "gridcolor": "white",
            "linecolor": "white",
            "ticks": ""
           }
          },
          "scene": {
           "xaxis": {
            "backgroundcolor": "#E5ECF6",
            "gridcolor": "white",
            "gridwidth": 2,
            "linecolor": "white",
            "showbackground": true,
            "ticks": "",
            "zerolinecolor": "white"
           },
           "yaxis": {
            "backgroundcolor": "#E5ECF6",
            "gridcolor": "white",
            "gridwidth": 2,
            "linecolor": "white",
            "showbackground": true,
            "ticks": "",
            "zerolinecolor": "white"
           },
           "zaxis": {
            "backgroundcolor": "#E5ECF6",
            "gridcolor": "white",
            "gridwidth": 2,
            "linecolor": "white",
            "showbackground": true,
            "ticks": "",
            "zerolinecolor": "white"
           }
          },
          "shapedefaults": {
           "line": {
            "color": "#2a3f5f"
           }
          },
          "ternary": {
           "aaxis": {
            "gridcolor": "white",
            "linecolor": "white",
            "ticks": ""
           },
           "baxis": {
            "gridcolor": "white",
            "linecolor": "white",
            "ticks": ""
           },
           "bgcolor": "#E5ECF6",
           "caxis": {
            "gridcolor": "white",
            "linecolor": "white",
            "ticks": ""
           }
          },
          "title": {
           "x": 0.05
          },
          "xaxis": {
           "automargin": true,
           "gridcolor": "white",
           "linecolor": "white",
           "ticks": "",
           "title": {
            "standoff": 15
           },
           "zerolinecolor": "white",
           "zerolinewidth": 2
          },
          "yaxis": {
           "automargin": true,
           "gridcolor": "white",
           "linecolor": "white",
           "ticks": "",
           "title": {
            "standoff": 15
           },
           "zerolinecolor": "white",
           "zerolinewidth": 2
          }
         }
        },
        "xaxis": {
         "anchor": "y",
         "domain": [
          0,
          1
         ],
         "title": {
          "text": "d1"
         }
        },
        "yaxis": {
         "anchor": "x",
         "domain": [
          0,
          1
         ],
         "title": {
          "text": "d2"
         }
        }
       }
      }
     },
     "metadata": {},
     "output_type": "display_data"
    }
   ],
   "source": [
    "\n",
    "\n",
    "scaled = pd.DataFrame(MinMaxScaler().fit_transform(df), columns=df.columns, index=df.index)\n",
    "\n",
    "\n",
    "X = scaled.transpose()\n",
    "\n",
    "mod = UMAP(n_neighbors=10, min_dist=0).fit(X)\n",
    "\n",
    "out = pd.DataFrame(mod.embedding_, columns=[\"d1\", \"d2\"], index=X.index).reset_index()\n",
    "out2 = out.merge(clusters)\n",
    "\n",
    "px.scatter(out2, x=\"d1\", y=\"d2\", color=\"burst_4\")"
   ]
  },
  {
   "cell_type": "code",
   "execution_count": 77,
   "metadata": {},
   "outputs": [
    {
     "data": {
      "application/vnd.plotly.v1+json": {
       "config": {
        "plotlyServerURL": "https://plot.ly"
       },
       "data": [
        {
         "hovertemplate": "d1=%{x}<br>d2=%{y}<br>labels=%{marker.color}<extra></extra>",
         "legendgroup": "",
         "marker": {
          "color": [
           1,
           1,
           1,
           1,
           2,
           2,
           2,
           2,
           1,
           2,
           2,
           2,
           2,
           2,
           2,
           2,
           2,
           2,
           2,
           2,
           2,
           2,
           2,
           2,
           2,
           2,
           2,
           0,
           2,
           2,
           2,
           2,
           2,
           2,
           1,
           2,
           0,
           2,
           2,
           2,
           1,
           1,
           1,
           0,
           0,
           2,
           2,
           2,
           2,
           0,
           2,
           2,
           1,
           2,
           1,
           2,
           1,
           1,
           2,
           1,
           2,
           2,
           2,
           2,
           2,
           2,
           2,
           2,
           2,
           1,
           1,
           2,
           1,
           2,
           2,
           2,
           2,
           1,
           2,
           2,
           2,
           0,
           2,
           2,
           2,
           2,
           1,
           2,
           2,
           2,
           2,
           2,
           2,
           2,
           2,
           2,
           2,
           1,
           0,
           0,
           0,
           1,
           1,
           2,
           1,
           2,
           2,
           2,
           2,
           2,
           2,
           2,
           2,
           1,
           2,
           2,
           2,
           2,
           2,
           2,
           0,
           2,
           2,
           2,
           2,
           2,
           2,
           2,
           2,
           0,
           0,
           2,
           0,
           2,
           2,
           0,
           2,
           0,
           2,
           2,
           2,
           2,
           2,
           2,
           1,
           2,
           2,
           1,
           1,
           1,
           1,
           1,
           1,
           1,
           2,
           2,
           1,
           1,
           1,
           1,
           2,
           0,
           1,
           0,
           2,
           2,
           1,
           2,
           1,
           2,
           0,
           1,
           2,
           2,
           1,
           0,
           1,
           2,
           1,
           1,
           2,
           1,
           1,
           1,
           2,
           1,
           2,
           1,
           2,
           2,
           1,
           1,
           1,
           1,
           1,
           2,
           2,
           2,
           1,
           0,
           2,
           2,
           2,
           2,
           2,
           2,
           1,
           2,
           2,
           1,
           2,
           2,
           2,
           2,
           2,
           2,
           2,
           1,
           2,
           2,
           0,
           0,
           2,
           2,
           2,
           2,
           2,
           2,
           0,
           2,
           2,
           2,
           2,
           0,
           2,
           2,
           2,
           2,
           1,
           2,
           0,
           2,
           2,
           2,
           0,
           1,
           2,
           2,
           0,
           0,
           2,
           1,
           1,
           2,
           2,
           2,
           2,
           2,
           1,
           2,
           2,
           2,
           2,
           2,
           2,
           2,
           2,
           2,
           1,
           2,
           1,
           2,
           2,
           2,
           2,
           2,
           1,
           2,
           2,
           2,
           1,
           2,
           1,
           0,
           2,
           2,
           1,
           2,
           2,
           2,
           1,
           1,
           1,
           1,
           1,
           1,
           2,
           2,
           2,
           1,
           0,
           2,
           2,
           2,
           2,
           2,
           2,
           2,
           2,
           2,
           2,
           2,
           2,
           2,
           2,
           0,
           1,
           0,
           0,
           2,
           2,
           1,
           1,
           1,
           2,
           1,
           1,
           2,
           1,
           2,
           0,
           1,
           2,
           0,
           2,
           2,
           2,
           2,
           2,
           1,
           1,
           2,
           2,
           0,
           0,
           2,
           0,
           2,
           2,
           0,
           2,
           0,
           0,
           2,
           0,
           2,
           2,
           2,
           2,
           2,
           0,
           0,
           1,
           2,
           2,
           2,
           1,
           2,
           1,
           2,
           2,
           1,
           2,
           2,
           1,
           1,
           2,
           1,
           2,
           2,
           2,
           1,
           2,
           2,
           2,
           2,
           2,
           2,
           2,
           1,
           0,
           1,
           2,
           2,
           1,
           2,
           2,
           2,
           2,
           1,
           1,
           2,
           2,
           1,
           2,
           1,
           1,
           2,
           2,
           1,
           1,
           1,
           1,
           2,
           2,
           0,
           0,
           2,
           2,
           2,
           2,
           1,
           0,
           2,
           1,
           2,
           2,
           2,
           2,
           2,
           2,
           2,
           0,
           2,
           0,
           0,
           0,
           2,
           0,
           0,
           2,
           2,
           2,
           2,
           2,
           2,
           1,
           2,
           2,
           2,
           2,
           2,
           2,
           2,
           2,
           2,
           2,
           2,
           2,
           2,
           1,
           1,
           1,
           2,
           1,
           2,
           0,
           1,
           2,
           1,
           1,
           2,
           1,
           2,
           2,
           2,
           2,
           1,
           0,
           2,
           1,
           2,
           1,
           2,
           1,
           0,
           2,
           2,
           0,
           1,
           2,
           1,
           1,
           1
          ],
          "coloraxis": "coloraxis",
          "symbol": "circle"
         },
         "mode": "markers",
         "name": "",
         "orientation": "v",
         "showlegend": false,
         "type": "scatter",
         "x": [
          4.718189239501953,
          1.293127179145813,
          1.7721478939056396,
          4.224123954772949,
          7.20381498336792,
          9.26158618927002,
          6.622590065002441,
          5.865521430969238,
          4.947504997253418,
          8.891054153442383,
          10.23287582397461,
          8.387931823730469,
          8.390303611755371,
          8.23022747039795,
          8.885477066040039,
          10.901658058166504,
          8.644819259643555,
          11.245448112487793,
          9.883498191833496,
          10.08444595336914,
          10.695197105407715,
          8.804056167602539,
          6.862130641937256,
          7.020969390869141,
          9.63003158569336,
          11.387664794921875,
          11.270646095275879,
          -2.01328706741333,
          11.512066841125488,
          8.638273239135742,
          9.30380630493164,
          8.217629432678223,
          8.217097282409668,
          8.1832914352417,
          1.665060043334961,
          8.227322578430176,
          -2.031560182571411,
          11.387977600097656,
          11.022111892700195,
          10.739986419677734,
          1.6380815505981445,
          3.639533281326294,
          5.135089874267578,
          -1.6318864822387695,
          -2.0919110774993896,
          10.918415069580078,
          11.694538116455078,
          8.509127616882324,
          10.972192764282227,
          -2.2729668617248535,
          9.514777183532715,
          7.80923318862915,
          4.739585876464844,
          9.414605140686035,
          5.112466335296631,
          11.70312213897705,
          3.346123218536377,
          1.9441758394241333,
          8.980268478393555,
          3.8672072887420654,
          11.553796768188477,
          6.463648796081543,
          8.108177185058594,
          7.950705051422119,
          10.97079849243164,
          8.167945861816406,
          7.813998699188232,
          8.701193809509277,
          7.321355819702148,
          2.5362308025360107,
          1.1823452711105347,
          5.9306960105896,
          5.562200546264648,
          8.678093910217285,
          7.975648880004883,
          10.026451110839844,
          7.397602081298828,
          4.80303955078125,
          8.906217575073242,
          11.3915433883667,
          8.888617515563965,
          -1.0545662641525269,
          8.929580688476562,
          8.989700317382812,
          8.963499069213867,
          9.545751571655273,
          4.628561973571777,
          7.976911544799805,
          9.685667991638184,
          11.201661109924316,
          8.953264236450195,
          7.077845573425293,
          5.8493242263793945,
          6.1284613609313965,
          9.408440589904785,
          8.241731643676758,
          11.514111518859863,
          1.1908290386199951,
          -2.147449254989624,
          -2.1271376609802246,
          -2.135601043701172,
          2.888991594314575,
          2.60327410697937,
          10.942676544189453,
          2.568084955215454,
          8.681072235107422,
          6.403210163116455,
          9.87963581085205,
          6.623555660247803,
          5.813633918762207,
          9.272706985473633,
          10.95720386505127,
          7.185457229614258,
          2.4408860206604004,
          7.832409858703613,
          11.700424194335938,
          11.298391342163086,
          11.702686309814453,
          7.790208339691162,
          7.73042106628418,
          -1.248795747756958,
          11.360177993774414,
          8.305708885192871,
          11.027008056640625,
          11.287308692932129,
          10.968228340148926,
          8.22265911102295,
          9.531755447387695,
          11.288097381591797,
          -1.238457202911377,
          -1.3519437313079834,
          8.705157279968262,
          -1.3505548238754272,
          11.179346084594727,
          11.571073532104492,
          -1.3251452445983887,
          10.756043434143066,
          -0.6781740188598633,
          6.1594624519348145,
          6.0885820388793945,
          9.687131881713867,
          8.376382827758789,
          8.342581748962402,
          8.992610931396484,
          4.599165439605713,
          9.257917404174805,
          6.0322442054748535,
          1.6302186250686646,
          3.0821943283081055,
          2.541245698928833,
          4.836209297180176,
          2.7257087230682373,
          2.6656508445739746,
          5.07353401184082,
          8.26798152923584,
          8.600557327270508,
          3.7689223289489746,
          3.233985424041748,
          4.849517345428467,
          4.9248785972595215,
          11.394987106323242,
          -2.237330913543701,
          2.7993288040161133,
          -2.063969612121582,
          7.516103744506836,
          11.313948631286621,
          4.261588096618652,
          7.449885845184326,
          4.3795599937438965,
          8.322578430175781,
          -0.8288193941116333,
          3.9693844318389893,
          8.510760307312012,
          8.241631507873535,
          2.8050007820129395,
          -0.8274824619293213,
          4.905210018157959,
          10.649555206298828,
          3.6903440952301025,
          3.195592164993286,
          8.269756317138672,
          2.676274061203003,
          5.249179840087891,
          3.3638076782226562,
          8.236376762390137,
          4.7162909507751465,
          8.398808479309082,
          2.5620009899139404,
          10.694567680358887,
          7.197590351104736,
          4.984622955322266,
          4.091974258422852,
          1.8668757677078247,
          1.6877772808074951,
          2.8056230545043945,
          10.801873207092285,
          10.982909202575684,
          11.38908863067627,
          2.4400975704193115,
          -1.2125060558319092,
          11.353046417236328,
          10.934803009033203,
          8.96839714050293,
          10.940993309020996,
          8.462971687316895,
          8.636933326721191,
          2.5992510318756104,
          8.410683631896973,
          10.956846237182617,
          1.5399258136749268,
          7.438612937927246,
          7.256577968597412,
          7.626955032348633,
          8.363195419311523,
          7.684228420257568,
          11.031625747680664,
          8.738480567932129,
          1.8622440099716187,
          6.426738739013672,
          11.14310359954834,
          -1.532902717590332,
          -0.7463513016700745,
          9.888022422790527,
          6.497715473175049,
          9.694275856018066,
          10.748827934265137,
          9.03437614440918,
          8.636129379272461,
          -1.5264850854873657,
          9.037309646606445,
          7.281434059143066,
          7.250063896179199,
          7.809553623199463,
          -2.0023255348205566,
          7.666243076324463,
          9.77698802947998,
          10.772360801696777,
          6.638546943664551,
          2.9708075523376465,
          8.857168197631836,
          -0.5477243065834045,
          10.907959938049316,
          11.548323631286621,
          8.210789680480957,
          -0.6325315237045288,
          3.2378220558166504,
          6.989899158477783,
          9.755078315734863,
          -1.6567163467407227,
          -1.948047161102295,
          9.461854934692383,
          1.363482117652893,
          2.7295942306518555,
          9.656759262084961,
          7.620039463043213,
          8.604243278503418,
          10.920634269714355,
          11.388110160827637,
          2.270151138305664,
          11.03958511352539,
          6.580750465393066,
          9.65102481842041,
          11.34453296661377,
          10.78683090209961,
          8.059447288513184,
          9.09892463684082,
          11.155691146850586,
          9.849142074584961,
          4.7089033126831055,
          9.099113464355469,
          2.0724992752075195,
          9.448427200317383,
          7.719760417938232,
          8.231593132019043,
          7.023126125335693,
          11.327205657958984,
          4.129961967468262,
          6.736841201782227,
          10.795181274414062,
          7.796058654785156,
          2.373046875,
          9.500588417053223,
          2.104306936264038,
          -2.237250328063965,
          9.790264129638672,
          10.225044250488281,
          2.0917468070983887,
          7.160245418548584,
          9.323758125305176,
          9.441841125488281,
          1.1698721647262573,
          1.2176355123519897,
          1.5850197076797485,
          1.1803876161575317,
          1.6460589170455933,
          1.7233922481536865,
          9.775223731994629,
          11.07798957824707,
          6.617830276489258,
          1.5429284572601318,
          -0.48774993419647217,
          9.638678550720215,
          9.725419998168945,
          9.569746971130371,
          9.006689071655273,
          6.2502336502075195,
          9.960378646850586,
          8.208151817321777,
          9.047651290893555,
          7.745331287384033,
          9.08138370513916,
          8.673483848571777,
          9.854146003723145,
          8.882781982421875,
          8.589066505432129,
          -1.6425366401672363,
          2.5436224937438965,
          -1.3554185628890991,
          -1.6284750699996948,
          7.561825275421143,
          11.280614852905273,
          4.877297401428223,
          5.123381614685059,
          2.444894313812256,
          8.84593677520752,
          5.574012279510498,
          2.6671013832092285,
          9.023465156555176,
          4.763596534729004,
          7.665928840637207,
          -2.2397282123565674,
          4.761997699737549,
          6.225496292114258,
          -1.4278873205184937,
          6.568593978881836,
          6.39132833480835,
          8.141359329223633,
          7.975532531738281,
          10.890658378601074,
          5.162560939788818,
          1.695278286933899,
          7.936340808868408,
          6.741105556488037,
          -1.635719656944275,
          -1.9567623138427734,
          9.231328964233398,
          -1.1267259120941162,
          6.741183757781982,
          10.988554000854492,
          -0.5549817681312561,
          8.169776916503906,
          -2.1827619075775146,
          -2.047916889190674,
          11.306602478027344,
          -2.1459755897521973,
          6.384060859680176,
          11.359306335449219,
          11.480964660644531,
          7.2993903160095215,
          11.218294143676758,
          -2.2105610370635986,
          -2.2496793270111084,
          5.029388904571533,
          9.765789031982422,
          11.342724800109863,
          9.48544979095459,
          1.6191697120666504,
          11.323859214782715,
          1.1086859703063965,
          11.365762710571289,
          11.3291015625,
          4.3923749923706055,
          11.53255844116211,
          7.08737850189209,
          2.094994068145752,
          4.589224338531494,
          6.969686508178711,
          2.3938817977905273,
          7.520816326141357,
          8.668656349182129,
          5.993676662445068,
          4.185968399047852,
          9.264101028442383,
          9.299384117126465,
          8.358206748962402,
          9.681663513183594,
          11.038844108581543,
          11.36990737915039,
          10.889159202575684,
          2.1357784271240234,
          -1.6588270664215088,
          2.1397147178649902,
          10.182125091552734,
          7.553493976593018,
          5.123064994812012,
          8.719268798828125,
          7.472893238067627,
          11.160868644714355,
          9.717704772949219,
          3.852520704269409,
          1.847617506980896,
          8.939888000488281,
          6.373921871185303,
          1.6568543910980225,
          6.025054454803467,
          4.631901264190674,
          4.148404121398926,
          8.037837982177734,
          9.379666328430176,
          3.759608745574951,
          2.5054678916931152,
          3.804872989654541,
          1.9830940961837769,
          6.376903533935547,
          6.383788585662842,
          -2.0291945934295654,
          -1.3711037635803223,
          5.7603068351745605,
          8.140947341918945,
          8.154871940612793,
          10.149191856384277,
          4.220694065093994,
          -1.9153783321380615,
          9.23338794708252,
          2.7917943000793457,
          8.659171104431152,
          7.193687438964844,
          5.842282295227051,
          8.78208065032959,
          8.824956893920898,
          8.95466136932373,
          8.278478622436523,
          -1.297371745109558,
          11.005936622619629,
          -1.305182695388794,
          -1.1570230722427368,
          -1.8592031002044678,
          10.978931427001953,
          -1.309024453163147,
          -2.0273640155792236,
          8.492173194885254,
          8.516366004943848,
          11.42894458770752,
          11.487626075744629,
          11.021158218383789,
          9.599647521972656,
          4.1124114990234375,
          9.632740020751953,
          11.08010196685791,
          10.86907958984375,
          8.249144554138184,
          10.153362274169922,
          11.373714447021484,
          10.793645858764648,
          10.778884887695312,
          9.72065544128418,
          10.948352813720703,
          7.722599506378174,
          9.372684478759766,
          8.858901023864746,
          2.234065532684326,
          4.902417182922363,
          1.563291311264038,
          7.0716376304626465,
          4.925424575805664,
          7.588803768157959,
          -0.5666422247886658,
          1.1837109327316284,
          8.444304466247559,
          2.575068235397339,
          2.224893808364868,
          9.798596382141113,
          4.06668758392334,
          8.786407470703125,
          8.953627586364746,
          7.67032527923584,
          7.412801742553711,
          4.8128180503845215,
          -0.9323838353157043,
          6.8920722007751465,
          4.849905490875244,
          9.466558456420898,
          4.5974297523498535,
          8.520445823669434,
          1.8372900485992432,
          -1.4889261722564697,
          9.047478675842285,
          8.984126091003418,
          -2.2555744647979736,
          4.12230920791626,
          9.981863975524902,
          4.133423328399658,
          1.630059003829956,
          5.056526184082031
         ],
         "xaxis": "x",
         "y": [
          8.163146018981934,
          7.6456499099731445,
          7.7817463874816895,
          7.633866786956787,
          7.950337886810303,
          3.7095587253570557,
          4.974794864654541,
          5.250903606414795,
          6.6567158699035645,
          3.5873544216156006,
          3.8396480083465576,
          8.633272171020508,
          7.435201644897461,
          8.712371826171875,
          7.20357084274292,
          4.362339019775391,
          3.3112921714782715,
          5.786444187164307,
          3.9938814640045166,
          4.222408771514893,
          7.5735039710998535,
          3.5866920948028564,
          5.2028913497924805,
          4.569423198699951,
          3.5095231533050537,
          3.4974327087402344,
          3.3224070072174072,
          8.969855308532715,
          3.8340065479278564,
          4.538684368133545,
          3.632734537124634,
          4.059187412261963,
          4.063568592071533,
          4.105240345001221,
          7.264130592346191,
          8.728206634521484,
          8.942315101623535,
          6.082233905792236,
          7.150102615356445,
          7.417355537414551,
          8.131576538085938,
          7.653836250305176,
          8.022848129272461,
          7.831028461456299,
          7.9464030265808105,
          7.260372638702393,
          4.0687994956970215,
          6.778987407684326,
          6.892078399658203,
          8.213747024536133,
          7.248398780822754,
          4.554444313049316,
          7.717299461364746,
          7.652930736541748,
          7.938343524932861,
          4.142940044403076,
          7.388083457946777,
          8.0054349899292,
          4.486999988555908,
          7.487126350402832,
          3.7273848056793213,
          4.198439121246338,
          4.813014030456543,
          6.223508358001709,
          7.0060224533081055,
          4.098576068878174,
          6.122377872467041,
          3.2524361610412598,
          4.369858741760254,
          7.988087177276611,
          7.365017414093018,
          5.138856410980225,
          8.043839454650879,
          8.49708366394043,
          4.767350673675537,
          4.321925163269043,
          4.797257423400879,
          6.8192925453186035,
          8.393560409545898,
          6.112659931182861,
          3.251326322555542,
          8.962918281555176,
          7.181630611419678,
          8.200018882751465,
          8.228751182556152,
          7.339713096618652,
          7.830789566040039,
          4.297132968902588,
          3.4923465251922607,
          3.830052614212036,
          7.269465446472168,
          5.031698703765869,
          5.251440525054932,
          4.550409317016602,
          7.179793834686279,
          5.909369468688965,
          3.909778356552124,
          7.329098701477051,
          8.861001968383789,
          8.882593154907227,
          8.864175796508789,
          7.320652484893799,
          8.551848411560059,
          4.995250701904297,
          7.927516937255859,
          4.693593502044678,
          4.626636505126953,
          5.316780090332031,
          4.751683712005615,
          5.30191707611084,
          3.5122387409210205,
          7.297220230102539,
          7.211735248565674,
          8.039203643798828,
          6.354429244995117,
          4.067586898803711,
          6.260683059692383,
          4.086841583251953,
          6.388421535491943,
          6.417299747467041,
          9.080418586730957,
          6.136866092681885,
          4.501162528991699,
          6.841995716094971,
          4.752122402191162,
          7.289107322692871,
          4.073224067687988,
          3.4010355472564697,
          4.690972805023193,
          9.106184959411621,
          9.166143417358398,
          4.565014839172363,
          9.150775909423828,
          4.770195960998535,
          3.9367806911468506,
          9.112902641296387,
          4.690336227416992,
          8.616310119628906,
          4.560213565826416,
          4.628210544586182,
          3.560063600540161,
          6.748895168304443,
          6.643938064575195,
          5.030235290527344,
          7.08554220199585,
          3.990025281906128,
          4.705148220062256,
          7.2801313400268555,
          7.439413070678711,
          7.934350967407227,
          7.59904146194458,
          8.251991271972656,
          8.354702949523926,
          7.917740345001221,
          8.680286407470703,
          8.387925148010254,
          7.131205081939697,
          7.391185760498047,
          6.757323265075684,
          6.680864334106445,
          4.415506839752197,
          8.69474983215332,
          8.158495903015137,
          8.924854278564453,
          7.526869773864746,
          6.213583946228027,
          7.533092021942139,
          7.4038825035095215,
          7.38614559173584,
          6.882730007171631,
          8.813887596130371,
          7.4566144943237305,
          8.521510124206543,
          8.70632553100586,
          8.287199020385742,
          8.82413101196289,
          7.370174407958984,
          7.4328107833862305,
          7.391848564147949,
          7.408872604370117,
          8.678045272827148,
          8.426658630371094,
          7.946911811828613,
          7.403997421264648,
          8.491650581359863,
          6.977686882019043,
          6.583543300628662,
          8.738106727600098,
          7.375535488128662,
          7.240724086761475,
          7.876643180847168,
          7.766079902648926,
          7.653496742248535,
          7.863886833190918,
          8.280911445617676,
          6.808945655822754,
          7.089779376983643,
          6.082686901092529,
          8.013265609741211,
          9.076519012451172,
          6.137941360473633,
          7.086939811706543,
          7.279192924499512,
          7.060063362121582,
          6.597999572753906,
          6.845699310302734,
          8.410096168518066,
          6.344088554382324,
          7.000844478607178,
          7.2908782958984375,
          4.824683666229248,
          7.284372329711914,
          6.76934814453125,
          6.639907360076904,
          6.563427448272705,
          5.183010578155518,
          6.887304782867432,
          7.543725967407227,
          4.205898284912109,
          4.7304463386535645,
          7.7053399085998535,
          8.629108428955078,
          4.245231628417969,
          4.1466779708862305,
          3.4865856170654297,
          7.516934394836426,
          8.202740669250488,
          8.422163963317871,
          9.139342308044434,
          4.399506568908691,
          4.903979778289795,
          4.881526470184326,
          4.4691596031188965,
          8.974574089050293,
          4.64614200592041,
          4.466368198394775,
          7.453390121459961,
          7.444190979003906,
          7.441664218902588,
          8.28427505493164,
          8.473101615905762,
          4.809588432312012,
          3.9123282432556152,
          4.764966011047363,
          8.523075103759766,
          7.390933036804199,
          4.621348857879639,
          5.0916008949279785,
          7.8178911209106445,
          9.016194343566895,
          5.02764892578125,
          7.353116035461426,
          8.258203506469727,
          5.153489112854004,
          7.270390510559082,
          4.493295669555664,
          4.761306285858154,
          5.428040504455566,
          7.9229936599731445,
          4.560360431671143,
          4.906622886657715,
          5.127728462219238,
          4.833584308624268,
          4.67732048034668,
          4.792417049407959,
          6.902790546417236,
          4.639914512634277,
          7.308718204498291,
          8.155033111572266,
          3.9731009006500244,
          8.557891845703125,
          4.1855387687683105,
          5.676070690155029,
          4.123581409454346,
          5.152448654174805,
          3.272440195083618,
          7.589351177215576,
          3.9842214584350586,
          6.48572301864624,
          6.40020227432251,
          8.250786781311035,
          7.523050308227539,
          8.556050300598145,
          8.170116424560547,
          7.33128023147583,
          7.245206356048584,
          8.572922706604004,
          7.234625816345215,
          7.272181987762451,
          7.2460246086120605,
          7.352413177490234,
          7.4136528968811035,
          7.959498405456543,
          7.341062545776367,
          7.983550548553467,
          8.021947860717773,
          7.3444695472717285,
          4.630945205688477,
          4.0818867683410645,
          8.29783821105957,
          8.413203239440918,
          7.604053020477295,
          7.308370113372803,
          5.105984210968018,
          3.981532096862793,
          4.481801509857178,
          4.151059627532959,
          4.169267654418945,
          4.65794563293457,
          4.477381229400635,
          3.27402925491333,
          4.664288520812988,
          4.26515007019043,
          3.941739082336426,
          4.688756465911865,
          7.80363130569458,
          8.238597869873047,
          7.802710056304932,
          9.078082084655762,
          7.477573871612549,
          6.275970458984375,
          7.615833282470703,
          8.011629104614258,
          8.771876335144043,
          7.2322001457214355,
          8.092466354370117,
          8.316990852355957,
          4.7097039222717285,
          7.137612342834473,
          7.826507568359375,
          8.6682767868042,
          7.0924859046936035,
          4.713278293609619,
          9.098211288452148,
          4.934600353240967,
          4.657472133636475,
          6.045705795288086,
          6.177290916442871,
          4.66016149520874,
          7.36065149307251,
          8.087911605834961,
          4.687710762023926,
          3.9925501346588135,
          7.819734573364258,
          7.820362567901611,
          3.898512363433838,
          7.937955379486084,
          3.9639244079589844,
          5.327366352081299,
          8.450906753540039,
          4.829205513000488,
          8.780155181884766,
          8.939412117004395,
          3.2764503955841064,
          8.836633682250977,
          4.271790027618408,
          3.406167984008789,
          3.672990083694458,
          4.339398384094238,
          3.4033186435699463,
          8.098639488220215,
          8.188321113586426,
          7.910103797912598,
          4.115192413330078,
          6.166207790374756,
          7.18768310546875,
          7.322816848754883,
          3.301366090774536,
          7.362415313720703,
          3.403259515762329,
          3.259911298751831,
          7.6991143226623535,
          3.8735408782958984,
          7.691965103149414,
          7.505482196807861,
          7.63454008102417,
          7.4486308097839355,
          7.578653812408447,
          7.894439220428467,
          3.2586443424224854,
          4.819027900695801,
          6.966554164886475,
          3.7599987983703613,
          3.5374324321746826,
          8.646370887756348,
          7.375086307525635,
          5.391938209533691,
          3.7985129356384277,
          4.158631801605225,
          8.606829643249512,
          7.8105950355529785,
          8.61406421661377,
          4.383481979370117,
          7.904411792755127,
          7.961278438568115,
          8.349587440490723,
          7.414312362670898,
          4.847506999969482,
          3.515326976776123,
          7.333503723144531,
          7.6324944496154785,
          8.259517669677734,
          4.282169342041016,
          7.265145301818848,
          4.694508075714111,
          7.009664058685303,
          6.937745094299316,
          7.126686096191406,
          3.537933826446533,
          7.35365104675293,
          8.720126152038574,
          7.1899638175964355,
          8.356714248657227,
          4.287224769592285,
          4.311748027801514,
          7.887439727783203,
          9.128859519958496,
          5.366109371185303,
          4.125016212463379,
          6.263336181640625,
          4.268831729888916,
          6.89456033706665,
          7.802901744842529,
          3.478424549102783,
          7.804965972900391,
          3.2555365562438965,
          4.447709560394287,
          5.262569904327393,
          3.27842378616333,
          3.584261894226074,
          4.002166748046875,
          5.902029991149902,
          9.12204360961914,
          5.424779415130615,
          9.140804290771484,
          9.020846366882324,
          9.029178619384766,
          5.471221923828125,
          9.076735496520996,
          7.899032115936279,
          7.285562992095947,
          6.735539436340332,
          3.816488027572632,
          3.5978288650512695,
          7.1457648277282715,
          5.124241828918457,
          7.002785682678223,
          5.098047733306885,
          4.904328346252441,
          5.319447040557861,
          8.685806274414062,
          4.0072550773620605,
          3.4416496753692627,
          5.340405464172363,
          7.463185787200928,
          5.099971294403076,
          5.387294292449951,
          6.470066547393799,
          4.426464557647705,
          8.191267013549805,
          8.56571102142334,
          7.938456058502197,
          8.129772186279297,
          7.279902935028076,
          6.680484294891357,
          6.763844966888428,
          8.465550422668457,
          7.335137367248535,
          3.8192849159240723,
          7.9197096824646,
          7.965727806091309,
          7.314684867858887,
          7.08507776260376,
          6.933547496795654,
          6.712686061859131,
          7.861077785491943,
          8.016008377075195,
          6.814817428588867,
          8.878846168518066,
          5.281858444213867,
          7.853205680847168,
          7.315093994140625,
          7.84705114364624,
          6.738742351531982,
          7.48417329788208,
          9.104388236999512,
          8.182811737060547,
          6.898115158081055,
          8.249288558959961,
          7.008974552154541,
          7.231086254119873,
          7.591297626495361,
          7.298396587371826,
          7.908173561096191
         ],
         "yaxis": "y"
        }
       ],
       "layout": {
        "coloraxis": {
         "colorbar": {
          "title": {
           "text": "labels"
          }
         },
         "colorscale": [
          [
           0,
           "#0d0887"
          ],
          [
           0.1111111111111111,
           "#46039f"
          ],
          [
           0.2222222222222222,
           "#7201a8"
          ],
          [
           0.3333333333333333,
           "#9c179e"
          ],
          [
           0.4444444444444444,
           "#bd3786"
          ],
          [
           0.5555555555555556,
           "#d8576b"
          ],
          [
           0.6666666666666666,
           "#ed7953"
          ],
          [
           0.7777777777777778,
           "#fb9f3a"
          ],
          [
           0.8888888888888888,
           "#fdca26"
          ],
          [
           1,
           "#f0f921"
          ]
         ]
        },
        "legend": {
         "tracegroupgap": 0
        },
        "margin": {
         "t": 60
        },
        "template": {
         "data": {
          "bar": [
           {
            "error_x": {
             "color": "#2a3f5f"
            },
            "error_y": {
             "color": "#2a3f5f"
            },
            "marker": {
             "line": {
              "color": "#E5ECF6",
              "width": 0.5
             },
             "pattern": {
              "fillmode": "overlay",
              "size": 10,
              "solidity": 0.2
             }
            },
            "type": "bar"
           }
          ],
          "barpolar": [
           {
            "marker": {
             "line": {
              "color": "#E5ECF6",
              "width": 0.5
             },
             "pattern": {
              "fillmode": "overlay",
              "size": 10,
              "solidity": 0.2
             }
            },
            "type": "barpolar"
           }
          ],
          "carpet": [
           {
            "aaxis": {
             "endlinecolor": "#2a3f5f",
             "gridcolor": "white",
             "linecolor": "white",
             "minorgridcolor": "white",
             "startlinecolor": "#2a3f5f"
            },
            "baxis": {
             "endlinecolor": "#2a3f5f",
             "gridcolor": "white",
             "linecolor": "white",
             "minorgridcolor": "white",
             "startlinecolor": "#2a3f5f"
            },
            "type": "carpet"
           }
          ],
          "choropleth": [
           {
            "colorbar": {
             "outlinewidth": 0,
             "ticks": ""
            },
            "type": "choropleth"
           }
          ],
          "contour": [
           {
            "colorbar": {
             "outlinewidth": 0,
             "ticks": ""
            },
            "colorscale": [
             [
              0,
              "#0d0887"
             ],
             [
              0.1111111111111111,
              "#46039f"
             ],
             [
              0.2222222222222222,
              "#7201a8"
             ],
             [
              0.3333333333333333,
              "#9c179e"
             ],
             [
              0.4444444444444444,
              "#bd3786"
             ],
             [
              0.5555555555555556,
              "#d8576b"
             ],
             [
              0.6666666666666666,
              "#ed7953"
             ],
             [
              0.7777777777777778,
              "#fb9f3a"
             ],
             [
              0.8888888888888888,
              "#fdca26"
             ],
             [
              1,
              "#f0f921"
             ]
            ],
            "type": "contour"
           }
          ],
          "contourcarpet": [
           {
            "colorbar": {
             "outlinewidth": 0,
             "ticks": ""
            },
            "type": "contourcarpet"
           }
          ],
          "heatmap": [
           {
            "colorbar": {
             "outlinewidth": 0,
             "ticks": ""
            },
            "colorscale": [
             [
              0,
              "#0d0887"
             ],
             [
              0.1111111111111111,
              "#46039f"
             ],
             [
              0.2222222222222222,
              "#7201a8"
             ],
             [
              0.3333333333333333,
              "#9c179e"
             ],
             [
              0.4444444444444444,
              "#bd3786"
             ],
             [
              0.5555555555555556,
              "#d8576b"
             ],
             [
              0.6666666666666666,
              "#ed7953"
             ],
             [
              0.7777777777777778,
              "#fb9f3a"
             ],
             [
              0.8888888888888888,
              "#fdca26"
             ],
             [
              1,
              "#f0f921"
             ]
            ],
            "type": "heatmap"
           }
          ],
          "heatmapgl": [
           {
            "colorbar": {
             "outlinewidth": 0,
             "ticks": ""
            },
            "colorscale": [
             [
              0,
              "#0d0887"
             ],
             [
              0.1111111111111111,
              "#46039f"
             ],
             [
              0.2222222222222222,
              "#7201a8"
             ],
             [
              0.3333333333333333,
              "#9c179e"
             ],
             [
              0.4444444444444444,
              "#bd3786"
             ],
             [
              0.5555555555555556,
              "#d8576b"
             ],
             [
              0.6666666666666666,
              "#ed7953"
             ],
             [
              0.7777777777777778,
              "#fb9f3a"
             ],
             [
              0.8888888888888888,
              "#fdca26"
             ],
             [
              1,
              "#f0f921"
             ]
            ],
            "type": "heatmapgl"
           }
          ],
          "histogram": [
           {
            "marker": {
             "pattern": {
              "fillmode": "overlay",
              "size": 10,
              "solidity": 0.2
             }
            },
            "type": "histogram"
           }
          ],
          "histogram2d": [
           {
            "colorbar": {
             "outlinewidth": 0,
             "ticks": ""
            },
            "colorscale": [
             [
              0,
              "#0d0887"
             ],
             [
              0.1111111111111111,
              "#46039f"
             ],
             [
              0.2222222222222222,
              "#7201a8"
             ],
             [
              0.3333333333333333,
              "#9c179e"
             ],
             [
              0.4444444444444444,
              "#bd3786"
             ],
             [
              0.5555555555555556,
              "#d8576b"
             ],
             [
              0.6666666666666666,
              "#ed7953"
             ],
             [
              0.7777777777777778,
              "#fb9f3a"
             ],
             [
              0.8888888888888888,
              "#fdca26"
             ],
             [
              1,
              "#f0f921"
             ]
            ],
            "type": "histogram2d"
           }
          ],
          "histogram2dcontour": [
           {
            "colorbar": {
             "outlinewidth": 0,
             "ticks": ""
            },
            "colorscale": [
             [
              0,
              "#0d0887"
             ],
             [
              0.1111111111111111,
              "#46039f"
             ],
             [
              0.2222222222222222,
              "#7201a8"
             ],
             [
              0.3333333333333333,
              "#9c179e"
             ],
             [
              0.4444444444444444,
              "#bd3786"
             ],
             [
              0.5555555555555556,
              "#d8576b"
             ],
             [
              0.6666666666666666,
              "#ed7953"
             ],
             [
              0.7777777777777778,
              "#fb9f3a"
             ],
             [
              0.8888888888888888,
              "#fdca26"
             ],
             [
              1,
              "#f0f921"
             ]
            ],
            "type": "histogram2dcontour"
           }
          ],
          "mesh3d": [
           {
            "colorbar": {
             "outlinewidth": 0,
             "ticks": ""
            },
            "type": "mesh3d"
           }
          ],
          "parcoords": [
           {
            "line": {
             "colorbar": {
              "outlinewidth": 0,
              "ticks": ""
             }
            },
            "type": "parcoords"
           }
          ],
          "pie": [
           {
            "automargin": true,
            "type": "pie"
           }
          ],
          "scatter": [
           {
            "marker": {
             "colorbar": {
              "outlinewidth": 0,
              "ticks": ""
             }
            },
            "type": "scatter"
           }
          ],
          "scatter3d": [
           {
            "line": {
             "colorbar": {
              "outlinewidth": 0,
              "ticks": ""
             }
            },
            "marker": {
             "colorbar": {
              "outlinewidth": 0,
              "ticks": ""
             }
            },
            "type": "scatter3d"
           }
          ],
          "scattercarpet": [
           {
            "marker": {
             "colorbar": {
              "outlinewidth": 0,
              "ticks": ""
             }
            },
            "type": "scattercarpet"
           }
          ],
          "scattergeo": [
           {
            "marker": {
             "colorbar": {
              "outlinewidth": 0,
              "ticks": ""
             }
            },
            "type": "scattergeo"
           }
          ],
          "scattergl": [
           {
            "marker": {
             "colorbar": {
              "outlinewidth": 0,
              "ticks": ""
             }
            },
            "type": "scattergl"
           }
          ],
          "scattermapbox": [
           {
            "marker": {
             "colorbar": {
              "outlinewidth": 0,
              "ticks": ""
             }
            },
            "type": "scattermapbox"
           }
          ],
          "scatterpolar": [
           {
            "marker": {
             "colorbar": {
              "outlinewidth": 0,
              "ticks": ""
             }
            },
            "type": "scatterpolar"
           }
          ],
          "scatterpolargl": [
           {
            "marker": {
             "colorbar": {
              "outlinewidth": 0,
              "ticks": ""
             }
            },
            "type": "scatterpolargl"
           }
          ],
          "scatterternary": [
           {
            "marker": {
             "colorbar": {
              "outlinewidth": 0,
              "ticks": ""
             }
            },
            "type": "scatterternary"
           }
          ],
          "surface": [
           {
            "colorbar": {
             "outlinewidth": 0,
             "ticks": ""
            },
            "colorscale": [
             [
              0,
              "#0d0887"
             ],
             [
              0.1111111111111111,
              "#46039f"
             ],
             [
              0.2222222222222222,
              "#7201a8"
             ],
             [
              0.3333333333333333,
              "#9c179e"
             ],
             [
              0.4444444444444444,
              "#bd3786"
             ],
             [
              0.5555555555555556,
              "#d8576b"
             ],
             [
              0.6666666666666666,
              "#ed7953"
             ],
             [
              0.7777777777777778,
              "#fb9f3a"
             ],
             [
              0.8888888888888888,
              "#fdca26"
             ],
             [
              1,
              "#f0f921"
             ]
            ],
            "type": "surface"
           }
          ],
          "table": [
           {
            "cells": {
             "fill": {
              "color": "#EBF0F8"
             },
             "line": {
              "color": "white"
             }
            },
            "header": {
             "fill": {
              "color": "#C8D4E3"
             },
             "line": {
              "color": "white"
             }
            },
            "type": "table"
           }
          ]
         },
         "layout": {
          "annotationdefaults": {
           "arrowcolor": "#2a3f5f",
           "arrowhead": 0,
           "arrowwidth": 1
          },
          "autotypenumbers": "strict",
          "coloraxis": {
           "colorbar": {
            "outlinewidth": 0,
            "ticks": ""
           }
          },
          "colorscale": {
           "diverging": [
            [
             0,
             "#8e0152"
            ],
            [
             0.1,
             "#c51b7d"
            ],
            [
             0.2,
             "#de77ae"
            ],
            [
             0.3,
             "#f1b6da"
            ],
            [
             0.4,
             "#fde0ef"
            ],
            [
             0.5,
             "#f7f7f7"
            ],
            [
             0.6,
             "#e6f5d0"
            ],
            [
             0.7,
             "#b8e186"
            ],
            [
             0.8,
             "#7fbc41"
            ],
            [
             0.9,
             "#4d9221"
            ],
            [
             1,
             "#276419"
            ]
           ],
           "sequential": [
            [
             0,
             "#0d0887"
            ],
            [
             0.1111111111111111,
             "#46039f"
            ],
            [
             0.2222222222222222,
             "#7201a8"
            ],
            [
             0.3333333333333333,
             "#9c179e"
            ],
            [
             0.4444444444444444,
             "#bd3786"
            ],
            [
             0.5555555555555556,
             "#d8576b"
            ],
            [
             0.6666666666666666,
             "#ed7953"
            ],
            [
             0.7777777777777778,
             "#fb9f3a"
            ],
            [
             0.8888888888888888,
             "#fdca26"
            ],
            [
             1,
             "#f0f921"
            ]
           ],
           "sequentialminus": [
            [
             0,
             "#0d0887"
            ],
            [
             0.1111111111111111,
             "#46039f"
            ],
            [
             0.2222222222222222,
             "#7201a8"
            ],
            [
             0.3333333333333333,
             "#9c179e"
            ],
            [
             0.4444444444444444,
             "#bd3786"
            ],
            [
             0.5555555555555556,
             "#d8576b"
            ],
            [
             0.6666666666666666,
             "#ed7953"
            ],
            [
             0.7777777777777778,
             "#fb9f3a"
            ],
            [
             0.8888888888888888,
             "#fdca26"
            ],
            [
             1,
             "#f0f921"
            ]
           ]
          },
          "colorway": [
           "#636efa",
           "#EF553B",
           "#00cc96",
           "#ab63fa",
           "#FFA15A",
           "#19d3f3",
           "#FF6692",
           "#B6E880",
           "#FF97FF",
           "#FECB52"
          ],
          "font": {
           "color": "#2a3f5f"
          },
          "geo": {
           "bgcolor": "white",
           "lakecolor": "white",
           "landcolor": "#E5ECF6",
           "showlakes": true,
           "showland": true,
           "subunitcolor": "white"
          },
          "hoverlabel": {
           "align": "left"
          },
          "hovermode": "closest",
          "mapbox": {
           "style": "light"
          },
          "paper_bgcolor": "white",
          "plot_bgcolor": "#E5ECF6",
          "polar": {
           "angularaxis": {
            "gridcolor": "white",
            "linecolor": "white",
            "ticks": ""
           },
           "bgcolor": "#E5ECF6",
           "radialaxis": {
            "gridcolor": "white",
            "linecolor": "white",
            "ticks": ""
           }
          },
          "scene": {
           "xaxis": {
            "backgroundcolor": "#E5ECF6",
            "gridcolor": "white",
            "gridwidth": 2,
            "linecolor": "white",
            "showbackground": true,
            "ticks": "",
            "zerolinecolor": "white"
           },
           "yaxis": {
            "backgroundcolor": "#E5ECF6",
            "gridcolor": "white",
            "gridwidth": 2,
            "linecolor": "white",
            "showbackground": true,
            "ticks": "",
            "zerolinecolor": "white"
           },
           "zaxis": {
            "backgroundcolor": "#E5ECF6",
            "gridcolor": "white",
            "gridwidth": 2,
            "linecolor": "white",
            "showbackground": true,
            "ticks": "",
            "zerolinecolor": "white"
           }
          },
          "shapedefaults": {
           "line": {
            "color": "#2a3f5f"
           }
          },
          "ternary": {
           "aaxis": {
            "gridcolor": "white",
            "linecolor": "white",
            "ticks": ""
           },
           "baxis": {
            "gridcolor": "white",
            "linecolor": "white",
            "ticks": ""
           },
           "bgcolor": "#E5ECF6",
           "caxis": {
            "gridcolor": "white",
            "linecolor": "white",
            "ticks": ""
           }
          },
          "title": {
           "x": 0.05
          },
          "xaxis": {
           "automargin": true,
           "gridcolor": "white",
           "linecolor": "white",
           "ticks": "",
           "title": {
            "standoff": 15
           },
           "zerolinecolor": "white",
           "zerolinewidth": 2
          },
          "yaxis": {
           "automargin": true,
           "gridcolor": "white",
           "linecolor": "white",
           "ticks": "",
           "title": {
            "standoff": 15
           },
           "zerolinecolor": "white",
           "zerolinewidth": 2
          }
         }
        },
        "xaxis": {
         "anchor": "y",
         "domain": [
          0,
          1
         ],
         "title": {
          "text": "d1"
         }
        },
        "yaxis": {
         "anchor": "x",
         "domain": [
          0,
          1
         ],
         "title": {
          "text": "d2"
         }
        }
       }
      }
     },
     "metadata": {},
     "output_type": "display_data"
    }
   ],
   "source": [
    "from hdbscan import HDBSCAN\n",
    "\n",
    "clusterer = HDBSCAN(min_samples=7, cluster_selection_epsilon=1) \n",
    "clusterer.fit(mod.embedding_)\n",
    "\n",
    "out[\"labels\"] = clusterer.labels_\n",
    "px.scatter(out, x=\"d1\", y=\"d2\", color=\"labels\")"
   ]
  },
  {
   "cell_type": "code",
   "execution_count": 41,
   "metadata": {},
   "outputs": [],
   "source": [
    "# dendrogram = community.generate_dendrogram(G)"
   ]
  },
  {
   "cell_type": "code",
   "execution_count": 42,
   "metadata": {},
   "outputs": [],
   "source": [
    "# node_mapper = out[\"neuron_id\"].to_dict()\n",
    "\n",
    "# G = nx.from_scipy_sparse_matrix(mod.graph_)\n",
    "# G = nx.relabel_nodes(G, mapping=node_mapper)\n",
    "# partition  = community.partition_at_level(dendrogram, 2)\n",
    "\n",
    "\n",
    "# out[\"com\"] = out.neuron_id.map(partition)\n",
    "\n",
    "# connectivity(mod, values=out[\"com\"], show_points=True,\n",
    "#      px_size=50, threshold=0.92, cmap=\"Spectral\")"
   ]
  },
  {
   "cell_type": "code",
   "execution_count": 43,
   "metadata": {},
   "outputs": [],
   "source": [
    "# import matplotlib.cm as cm\n",
    "\n",
    "# pos = nx.spring_layout(G)\n",
    "\n",
    "# cmap = cm.get_cmap('viridis', max(partition.values()) + 1)\n",
    "\n",
    "# nx.draw_networkx_nodes(G, pos, partition.keys(), node_size=40,\n",
    "#                        cmap=cmap, node_color=list(partition.values()))\n",
    "# nx.draw_networkx_edges(G, pos, alpha=0.5)\n",
    "# plt.show()"
   ]
  },
  {
   "cell_type": "code",
   "execution_count": 44,
   "metadata": {},
   "outputs": [],
   "source": [
    "# import umap.plot\n",
    "\n",
    "\n",
    "# connectivity(mod, values=out[\"com\"], \n",
    "#     show_points=True, px_size=50, threshold=0.92, theme=\"viridis\")"
   ]
  },
  {
   "cell_type": "code",
   "execution_count": 45,
   "metadata": {},
   "outputs": [],
   "source": [
    "idx = out.sort_values(\"labels\").neuron_id.tolist()"
   ]
  },
  {
   "cell_type": "code",
   "execution_count": 46,
   "metadata": {},
   "outputs": [
    {
     "data": {
      "text/plain": [
       "<AxesSubplot:xlabel='waveform_index', ylabel='neuron_id'>"
      ]
     },
     "execution_count": 46,
     "metadata": {},
     "output_type": "execute_result"
    },
    {
     "data": {
      "image/png": "[encoded data removed]",
      "text/plain": [
       "<Figure size 432x288 with 2 Axes>"
      ]
     },
     "metadata": {
      "needs_background": "light"
     },
     "output_type": "display_data"
    }
   ],
   "source": [
    "sns.heatmap(scaled[idx].transpose(), cmap=\"coolwarm\", robust=True)"
   ]
  },
  {
   "cell_type": "code",
   "execution_count": 47,
   "metadata": {},
   "outputs": [
    {
     "data": {
      "text/plain": [
       "<AxesSubplot:xlabel='waveform_index', ylabel='value'>"
      ]
     },
     "execution_count": 47,
     "metadata": {},
     "output_type": "execute_result"
    },
    {
     "data": {
      "image/png": "[encoded data removed]",
      "text/plain": [
       "<Figure size 432x288 with 1 Axes>"
      ]
     },
     "metadata": {
      "needs_background": "light"
     },
     "output_type": "display_data"
    }
   ],
   "source": [
    "labels = 0\n",
    "\n",
    "neurons = out[out[\"labels\"] == labels].neuron_id.tolist()\n",
    "\n",
    "sns.lineplot(\n",
    "    data=scaled[neurons].reset_index().melt(id_vars=\"waveform_index\"), \n",
    "    x=\"waveform_index\", \n",
    "    y=\"value\",)"
   ]
  },
  {
   "cell_type": "code",
   "execution_count": 48,
   "metadata": {},
   "outputs": [
    {
     "data": {
      "text/plain": [
       "<AxesSubplot:xlabel='waveform_index', ylabel='value'>"
      ]
     },
     "execution_count": 48,
     "metadata": {},
     "output_type": "execute_result"
    },
    {
     "data": {
      "image/png": "[encoded data removed]",
      "text/plain": [
       "<Figure size 432x288 with 1 Axes>"
      ]
     },
     "metadata": {
      "needs_background": "light"
     },
     "output_type": "display_data"
    }
   ],
   "source": [
    "labels = 1\n",
    "\n",
    "neurons = out[out[\"labels\"] == labels].neuron_id.tolist()\n",
    "\n",
    "sns.lineplot(\n",
    "    data=scaled[neurons].reset_index().melt(id_vars=\"waveform_index\"), \n",
    "    x=\"waveform_index\", \n",
    "    y=\"value\")"
   ]
  },
  {
   "cell_type": "code",
   "execution_count": 49,
   "metadata": {},
   "outputs": [
    {
     "data": {
      "text/plain": [
       "<AxesSubplot:xlabel='waveform_index', ylabel='value'>"
      ]
     },
     "execution_count": 49,
     "metadata": {},
     "output_type": "execute_result"
    },
    {
     "data": {
      "image/png": "[encoded data removed]",
      "text/plain": [
       "<Figure size 432x288 with 1 Axes>"
      ]
     },
     "metadata": {
      "needs_background": "light"
     },
     "output_type": "display_data"
    }
   ],
   "source": [
    "labels = 2\n",
    "\n",
    "neurons = out[out[\"labels\"] == labels].neuron_id.tolist()\n",
    "\n",
    "sns.lineplot(\n",
    "    data=scaled[neurons].reset_index().melt(id_vars=\"waveform_index\"), \n",
    "    x=\"waveform_index\", \n",
    "    y=\"value\", )"
   ]
  },
  {
   "cell_type": "code",
   "execution_count": 50,
   "metadata": {},
   "outputs": [
    {
     "data": {
      "text/plain": [
       "<AxesSubplot:>"
      ]
     },
     "execution_count": 50,
     "metadata": {},
     "output_type": "execute_result"
    },
    {
     "data": {
      "image/png": "[encoded data removed]",
      "text/plain": [
       "<Figure size 432x288 with 1 Axes>"
      ]
     },
     "metadata": {
      "needs_background": "light"
     },
     "output_type": "display_data"
    }
   ],
   "source": [
    "labels = 3\n",
    "\n",
    "neurons = out[out[\"labels\"] == labels].neuron_id.tolist()\n",
    "\n",
    "sns.lineplot(\n",
    "    data=scaled[neurons].reset_index().melt(id_vars=\"waveform_index\"), \n",
    "    x=\"waveform_index\", \n",
    "    y=\"value\", )"
   ]
  },
  {
   "cell_type": "code",
   "execution_count": 37,
   "metadata": {},
   "outputs": [
    {
     "data": {
      "text/plain": [
       "<AxesSubplot:xlabel='waveform_index', ylabel='value'>"
      ]
     },
     "execution_count": 37,
     "metadata": {},
     "output_type": "execute_result"
    },
    {
     "data": {
      "image/png": "[encoded data removed]",
      "text/plain": [
       "<Figure size 432x288 with 1 Axes>"
      ]
     },
     "metadata": {
      "needs_background": "light"
     },
     "output_type": "display_data"
    }
   ],
   "source": [
    "labels = 4\n",
    "\n",
    "neurons = out[out[\"labels\"] == labels].neuron_id.tolist()\n",
    "\n",
    "sns.lineplot(\n",
    "    data=scaled[neurons].reset_index().melt(id_vars=\"waveform_index\"), \n",
    "    x=\"waveform_index\", \n",
    "    y=\"value\", )"
   ]
  },
  {
   "cell_type": "code",
   "execution_count": null,
   "metadata": {},
   "outputs": [],
   "source": []
  }
 ],
 "metadata": {
  "interpreter": {
   "hash": "595626f471715c1ef1767721af1162754763b18b459b8364279c934890ae0eae"
  },
  "kernelspec": {
   "display_name": "Python 3.6.13 ('drn-interactions')",
   "language": "python",
   "name": "python3"
  },
  "language_info": {
   "codemirror_mode": {
    "name": "ipython",
    "version": 3
   },
   "file_extension": ".py",
   "mimetype": "text/x-python",
   "name": "python",
   "nbconvert_exporter": "python",
   "pygments_lexer": "ipython3",
   "version": "3.6.13"
  },
  "orig_nbformat": 4
 },
 "nbformat": 4,
 "nbformat_minor": 2
}
