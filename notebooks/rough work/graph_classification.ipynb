{
 "cells": [
  {
   "cell_type": "code",
   "execution_count": 1,
   "metadata": {},
   "outputs": [],
   "source": [
    "from drn_interactions.interactions.loaders import SpontaneousActivityLoader, StateInteractionsLoader\n",
    "from drn_interactions.interactions.preprocessors import InteractionsPreprocessor\n",
    "from drn_interactions.interactions.pairwise import PairwiseCorr\n",
    "from drn_interactions.interactions.graph_clustering import df_to_graph\n",
    "from karateclub.graph_embedding import FeatherGraph, FGSD, Graph2Vec, NetLSD, SF, IGE\n",
    "from drn_interactions.config import Config, ExperimentInfo\n",
    "from sklearn.model_selection import train_test_split\n",
    "from sklearn.preprocessing import LabelEncoder\n",
    "import matplotlib.pyplot as plt\n",
    "from sklearn.decomposition import PCA\n",
    "from sklearn.pipeline import make_pipeline\n",
    "from sklearn.impute import KNNImputer\n",
    "from sklearn.svm import SVC\n",
    "from sklearn.tree import DecisionTreeClassifier\n",
    "from sklearn.linear_model import LogisticRegressionCV\n",
    "import numpy as np\n",
    "from drn_interactions.io import load_derived_generic"
   ]
  },
  {
   "cell_type": "code",
   "execution_count": 3,
   "metadata": {},
   "outputs": [],
   "source": [
    "sessions = ExperimentInfo.eeg_sessions\n",
    "\n",
    "\n",
    "graphs = []\n",
    "\n",
    "node_mappers = []\n",
    "target = []\n",
    "for state in (\"sw\", \"act\"):\n",
    "    for session in sessions:\n",
    "        loader = StateInteractionsLoader(state=state, session_name=session, block=\"pre\", t_start=0, t_stop=1800)\n",
    "        preprocessor = InteractionsPreprocessor()\n",
    "        pairwise = PairwiseCorr(rectify=True)\n",
    "\n",
    "        spikes = preprocessor(loader())\n",
    "        df_affinity = pairwise.fit(spikes).get_adjacency_df().dropna(axis=1, thresh=5).dropna(axis=0, thresh=5)\n",
    "        G = df_to_graph(df_affinity, rename_nodes=False)\n",
    "        node_mappers.append({node: neuron for node, neuron in enumerate(df_affinity.columns)})\n",
    "        graphs.append(G)\n",
    "        target.append(state)"
   ]
  },
  {
   "cell_type": "code",
   "execution_count": 9,
   "metadata": {},
   "outputs": [
    {
     "name": "stdout",
     "output_type": "stream",
     "text": [
      "0.7999999999999999\n"
     ]
    },
    {
     "data": {
      "text/plain": [
       "<matplotlib.collections.PathCollection at 0x15412e940>"
      ]
     },
     "execution_count": 9,
     "metadata": {},
     "output_type": "execute_result"
    },
    {
     "data": {
      "image/png": "[encoded data removed]",
      "text/plain": [
       "<Figure size 432x288 with 1 Axes>"
      ]
     },
     "metadata": {
      "needs_background": "light"
     },
     "output_type": "display_data"
    }
   ],
   "source": [
    "# embedding\n",
    "from sklearn.model_selection import cross_val_score, KFold\n",
    "\n",
    "# mod = FeatherGraph(eval_points=20)\n",
    "mod = Graph2Vec(dimensions=6)\n",
    "# mod = FeatherGraph(eval_points=20)\n",
    "\n",
    "mod.fit(graphs)\n",
    "X = mod.get_embedding()\n",
    "y = LabelEncoder().fit_transform(target)\n",
    "\n",
    "# clf = SVC(kernel=\"rbf\", C=1)\n",
    "clf = DecisionTreeClassifier(max_depth=10)\n",
    "# clf = LogisticRegressionCV()\n",
    "\n",
    "score = cross_val_score(clf, X, y, cv=KFold(n_splits=5, shuffle=True, random_state=42))\n",
    "print(score.mean())\n",
    "\n",
    "c = np.where(y == 0, \"red\", \"blue\")\n",
    "\n",
    "plt.scatter(X[:, 1], X[:, 3], c=c)"
   ]
  },
  {
   "cell_type": "code",
   "execution_count": 11,
   "metadata": {},
   "outputs": [],
   "source": [
    "from drn_interactions.interactions.loaders import BaseShockSlowInteractionsLoader\n",
    "\n",
    "sessions = ExperimentInfo.foot_shock_sessions_10min\n",
    "graphs = []\n",
    "\n",
    "node_mappers = []\n",
    "target = []\n",
    "for block in (\"pre\", \"base_shock\", \"post_base_shock\"):\n",
    "    for session in sessions:\n",
    "        loader = BaseShockSlowInteractionsLoader(block=block, session_name=session)\n",
    "        preprocessor = InteractionsPreprocessor(loader)\n",
    "        pairwise = PairwiseCorr(rectify=True)\n",
    "\n",
    "        spikes = preprocessor(loader())\n",
    "        df_affinity = pairwise.fit(spikes).get_adjacency_df()\n",
    "        G = df_to_graph(df_affinity, rename_nodes=False)\n",
    "        node_mappers.append({node: neuron for node, neuron in enumerate(df_affinity.columns)})\n",
    "        graphs.append(G)\n",
    "        target.append(block)"
   ]
  },
  {
   "cell_type": "code",
   "execution_count": 13,
   "metadata": {},
   "outputs": [
    {
     "name": "stdout",
     "output_type": "stream",
     "text": [
      "0.47000000000000003\n"
     ]
    },
    {
     "data": {
      "text/plain": [
       "<matplotlib.collections.PathCollection at 0x147d1ed90>"
      ]
     },
     "execution_count": 13,
     "metadata": {},
     "output_type": "execute_result"
    },
    {
     "data": {
      "image/png": "[encoded data removed]",
      "text/plain": [
       "<Figure size 432x288 with 1 Axes>"
      ]
     },
     "metadata": {
      "needs_background": "light"
     },
     "output_type": "display_data"
    }
   ],
   "source": [
    "from sklearn.model_selection import cross_val_score\n",
    "from sklearn.model_selection import KFold\n",
    "\n",
    "mod = Graph2Vec(dimensions=5)\n",
    "\n",
    "mod.fit(graphs)\n",
    "X = mod.get_embedding()\n",
    "# y = LabelEncoder().fit_transform(target)\n",
    "y = LabelEncoder().fit_transform(np.where(np.array(target) != \"base_shock\", \"baseline\", \"shock\"))\n",
    "\n",
    "# clf = SVC(kernel=\"rbf\", C=1)\n",
    "clf = DecisionTreeClassifier(max_depth=10)\n",
    "# clf = LogisticRegressionCV()\n",
    "\n",
    "score = cross_val_score(clf, X, y, cv=KFold(n_splits=5, shuffle=True, random_state=42))\n",
    "print(score.mean())\n",
    "\n",
    "c = np.where(y == 0, \"red\", \"blue\")\n",
    "plt.scatter(X[:, 0], X[:, 1], c=c)"
   ]
  },
  {
   "cell_type": "code",
   "execution_count": null,
   "metadata": {},
   "outputs": [],
   "source": []
  }
 ],
 "metadata": {
  "kernelspec": {
   "display_name": "Python 3.8.13 ('drn')",
   "language": "python",
   "name": "python3"
  },
  "language_info": {
   "codemirror_mode": {
    "name": "ipython",
    "version": 3
   },
   "file_extension": ".py",
   "mimetype": "text/x-python",
   "name": "python",
   "nbconvert_exporter": "python",
   "pygments_lexer": "ipython3",
   "version": "3.8.13"
  },
  "orig_nbformat": 4,
  "vscode": {
   "interpreter": {
    "hash": "a141ff61fc8e5477d761678b9939730228dd63e8e5dabf1901cb4084a0e2e4d6"
   }
  }
 },
 "nbformat": 4,
 "nbformat_minor": 2
}
