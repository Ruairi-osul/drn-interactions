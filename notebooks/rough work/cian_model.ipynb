{
 "cells": [
  {
   "cell_type": "code",
   "execution_count": 1,
   "metadata": {},
   "outputs": [],
   "source": [
    "import numpy as np"
   ]
  },
  {
   "cell_type": "code",
   "execution_count": 9,
   "metadata": {},
   "outputs": [],
   "source": [
    "n_neurons = 10\n",
    "n_time = 120\n",
    "\n",
    "X = np.random.choice((0, 1), size=(n_time, n_neurons))"
   ]
  },
  {
   "cell_type": "code",
   "execution_count": 16,
   "metadata": {},
   "outputs": [],
   "source": [
    "def get_pK(X):\n",
    "    n_time, n_neurons = X.shape\n",
    "    population_rate = np.sum(X, axis=1) \n",
    "    p_K = np.asarray([(population_rate == i).sum() for i in range(n_neurons + 1)])  / n_time\n",
    "    return p_K\n",
    "\n",
    "def get_pK(X, alpha=0.01):\n",
    "    n_time, n_neurons = X.shape\n",
    "    population_rate = np.sum(X, axis=1) \n",
    "    c = np.asarray([(population_rate == i).sum() for i in range(n_neurons + 1)])\n",
    "    return (c + alpha) / (n_time + (n_neurons * alpha))\n",
    "\n"
   ]
  },
  {
   "cell_type": "code",
   "execution_count": 19,
   "metadata": {},
   "outputs": [
    {
     "data": {
      "text/plain": [
       "array([8.40965862e-03, 8.32639467e-05, 2.50624480e-02, 1.49958368e-01,\n",
       "       2.33222315e-01, 2.41548709e-01, 1.58284763e-01, 1.49958368e-01,\n",
       "       3.33888426e-02, 8.32639467e-05, 8.32639467e-05])"
      ]
     },
     "execution_count": 19,
     "metadata": {},
     "output_type": "execute_result"
    }
   ],
   "source": [
    "get_pK(X, alpha=0.01)"
   ]
  },
  {
   "cell_type": "code",
   "execution_count": 21,
   "metadata": {},
   "outputs": [],
   "source": [
    "n_time, n_neurons = X.shape\n",
    "population_rate = np.sum(X, axis=1) "
   ]
  },
  {
   "cell_type": "code",
   "execution_count": 30,
   "metadata": {},
   "outputs": [
    {
     "data": {
      "text/plain": [
       "(array([[ 1.],\n",
       "        [ 0.],\n",
       "        [ 3.],\n",
       "        [18.],\n",
       "        [28.],\n",
       "        [29.],\n",
       "        [19.],\n",
       "        [18.],\n",
       "        [ 4.],\n",
       "        [ 0.]]),\n",
       " array([ 0,  1,  2,  3,  4,  5,  6,  7,  8,  9, 10]),\n",
       " array([0, 1]))"
      ]
     },
     "execution_count": 30,
     "metadata": {},
     "output_type": "execute_result"
    }
   ],
   "source": [
    "c = np.histogram2d(\n",
    "    population_rate, \n",
    "    X[:, 0], \n",
    "    bins=[np.arange(n_neurons + 1), (0, 1)], range=)\n",
    "c"
   ]
  },
  {
   "cell_type": "code",
   "execution_count": 41,
   "metadata": {},
   "outputs": [
    {
     "data": {
      "text/plain": [
       "array([ 9, 10, 10, 10, 15, 14, 12, 15,  8,  9])"
      ]
     },
     "execution_count": 41,
     "metadata": {},
     "output_type": "execute_result"
    }
   ],
   "source": [
    "n_active_by_neuron = np.sum(X[population_rate == 4, :], axis=0)\n",
    "\n"
   ]
  },
  {
   "cell_type": "code",
   "execution_count": 42,
   "metadata": {},
   "outputs": [
    {
     "data": {
      "text/plain": [
       "array([ 0.,  0.,  1.,  3.,  9., 18., 12., 13.,  2.,  0.,  0.])"
      ]
     },
     "execution_count": 42,
     "metadata": {},
     "output_type": "execute_result"
    }
   ],
   "source": [
    "neuron = X[:, 0]\n",
    "n_bins = n_neurons + 1\n",
    "out = np.empty(n_bins)\n",
    "for k in range(n_bins):\n",
    "    dik = neuron[population_rate == k]\n",
    "    out[k] = dik.sum()\n",
    "\n",
    "out"
   ]
  },
  {
   "cell_type": "code",
   "execution_count": 71,
   "metadata": {},
   "outputs": [],
   "source": [
    "prior_var_scale = 0.5  # scalre variance of beta prior\n",
    "\n",
    "\n",
    "neuron = X[:, 0]\n",
    "n_bins = n_neurons + 1\n",
    "out = np.empty((n_bins, n_neurons))\n",
    "for k in range(n_bins):\n",
    "    X_k = X[population_rate == k, :]\n",
    "    n_active_by_neuron = np.sum(X_k, axis=0,)\n",
    "    T_k = X_k.shape[0]\n",
    "    \n",
    "    mu = k + 1 / n_bins\n",
    "    sigma2 = prior_var_scale**2 * mu * (1-mu)\n",
    "\n",
    "    beta1 = mu*((mu - mu**2 - sigma2)/sigma2)\n",
    "    beta2 = beta1*( 1/mu - 1)\n",
    "    # print(X_k.shape, n_active_by_neuron.shape, n_active_by_neuron)\n",
    "    out[k, :] = (n_active_by_neuron + beta1) / (T_k + beta1 + beta2);\n"
   ]
  },
  {
   "cell_type": "code",
   "execution_count": null,
   "metadata": {},
   "outputs": [],
   "source": []
  },
  {
   "cell_type": "code",
   "execution_count": 72,
   "metadata": {},
   "outputs": [
    {
     "data": {
      "text/plain": [
       "array([30.62475007, 30.93460553, 31.2306012 , 31.00197566, 30.54300083,\n",
       "       29.9494603 , 30.56689764, 31.10184824, 31.05380153, 30.58375981])"
      ]
     },
     "execution_count": 72,
     "metadata": {},
     "output_type": "execute_result"
    }
   ],
   "source": [
    "out.sum(axis=0)"
   ]
  },
  {
   "cell_type": "code",
   "execution_count": 70,
   "metadata": {},
   "outputs": [
    {
     "data": {
      "text/plain": [
       "array([[ 0.06818182,  0.06818182,  0.06818182,  0.06818182,  0.06818182,\n",
       "         0.06818182,  0.06818182,  0.06818182,  0.06818182,  0.06818182],\n",
       "       [ 1.09090909,  1.09090909,  1.09090909,  1.09090909,  1.09090909,\n",
       "         1.09090909,  1.09090909,  1.09090909,  1.09090909,  1.09090909],\n",
       "       [ 1.21212121,  1.04545455,  1.21212121,  1.21212121,  1.04545455,\n",
       "         1.04545455,  1.04545455,  1.21212121,  1.21212121,  1.21212121],\n",
       "       [ 0.58441558,  0.82251082,  0.82251082,  0.82251082,  0.63203463,\n",
       "         0.53679654,  0.58441558,  0.77489177,  0.77489177,  0.63203463],\n",
       "       [ 0.68621701,  0.71847507,  0.71847507,  0.71847507,  0.8797654 ,\n",
       "         0.84750733,  0.7829912 ,  0.8797654 ,  0.65395894,  0.68621701],\n",
       "       [ 1.03977273,  0.91477273,  1.03977273,  0.85227273,  0.88352273,\n",
       "         0.78977273,  1.00852273,  1.03977273,  0.97727273,  0.75852273],\n",
       "       [ 1.37603306,  1.4214876 ,  1.33057851,  1.19421488,  1.37603306,\n",
       "         1.19421488,  1.46694215,  1.4214876 ,  1.37603306,  1.33057851],\n",
       "       [ 1.63203463,  1.63203463,  1.72727273,  1.82251082,  1.34632035,\n",
       "         1.44155844,  1.72727273,  1.53679654,  1.67965368,  1.58441558],\n",
       "       [ 3.75324675,  4.03896104,  4.03896104,  4.03896104,  4.03896104,\n",
       "         3.75324675,  3.61038961,  3.8961039 ,  4.03896104,  4.03896104],\n",
       "       [ 9.09090909,  9.09090909,  9.09090909,  9.09090909,  9.09090909,\n",
       "         9.09090909,  9.09090909,  9.09090909,  9.09090909,  9.09090909],\n",
       "       [10.09090909, 10.09090909, 10.09090909, 10.09090909, 10.09090909,\n",
       "        10.09090909, 10.09090909, 10.09090909, 10.09090909, 10.09090909]])"
      ]
     },
     "execution_count": 70,
     "metadata": {},
     "output_type": "execute_result"
    }
   ],
   "source": [
    "out[:]"
   ]
  },
  {
   "cell_type": "code",
   "execution_count": 82,
   "metadata": {},
   "outputs": [],
   "source": [
    "prior_var_scale = 0.5  # scalre variance of beta prior\n",
    "\n",
    "\n",
    "n_bins = n_neurons + 1\n",
    "out = np.empty((n_bins, n_neurons))\n",
    "for k in range(n_bins):\n",
    "    mu = k + 1 / n_bins\n",
    "    sigma2 = prior_var_scale**2 * mu * (1-mu)\n",
    "    beta1 = mu*((mu - mu**2 - sigma2)/sigma2)\n",
    "    beta2 = beta1*( 1/mu - 1)\n",
    "\n",
    "    for neuron in range(n_neurons):\n",
    "        X_k = X[population_rate == k, neuron]\n",
    "        d_ik = np.sum(X_k)\n",
    "        T_k = len(X_k)\n",
    "        out[k, neuron] = (d_ik + beta1) / (T_k + beta1 + beta2)\n"
   ]
  },
  {
   "cell_type": "code",
   "execution_count": 86,
   "metadata": {},
   "outputs": [
    {
     "data": {
      "text/plain": [
       "array([0.58441558, 0.82251082, 0.82251082, 0.82251082, 0.63203463,\n",
       "       0.53679654, 0.58441558, 0.77489177, 0.77489177, 0.63203463])"
      ]
     },
     "execution_count": 86,
     "metadata": {},
     "output_type": "execute_result"
    }
   ],
   "source": [
    "out[3, :]"
   ]
  },
  {
   "cell_type": "code",
   "execution_count": 87,
   "metadata": {},
   "outputs": [
    {
     "name": "stderr",
     "output_type": "stream",
     "text": [
      "c:\\Users\\roryl\\.conda\\envs\\drn-interactions\\lib\\site-packages\\ipykernel_launcher.py:16: RuntimeWarning: invalid value encountered in long_scalars\n",
      "  app.launch_new_instance()\n"
     ]
    }
   ],
   "source": [
    "prior_var_scale = 0.5  # scalre variance of beta prior\n",
    "\n",
    "\n",
    "n_bins = n_neurons + 1\n",
    "out = np.empty((n_bins, n_neurons))\n",
    "for k in range(n_bins):\n",
    "    # mu = k + 1 / n_bins\n",
    "    # sigma2 = prior_var_scale**2 * mu * (1-mu)\n",
    "    # beta1 = mu*((mu - mu**2 - sigma2)/sigma2)\n",
    "    # beta2 = beta1*( 1/mu - 1)\n",
    "\n",
    "    for neuron in range(n_neurons):\n",
    "        X_k = X[population_rate == k, neuron]\n",
    "        d_ik = np.sum(X_k)\n",
    "        T_k = len(X_k)\n",
    "        out[k, neuron] = d_ik/ T_k\n"
   ]
  },
  {
   "cell_type": "code",
   "execution_count": 89,
   "metadata": {},
   "outputs": [],
   "source": [
    "X_k = X[population_rate == k, neuron]\n",
    "\n",
    "def get_pK(X, alpha=0.01):\n",
    "    n_time, n_neurons = X.shape\n",
    "    population_rate = np.sum(X, axis=1) \n",
    "    c = np.asarray([(population_rate == i).sum() for i in range(n_neurons + 1)])\n",
    "    return (c + alpha) / (n_time + (n_neurons * alpha))\n",
    "\n",
    "\n",
    "def get_px_given_k(X, variance_scale=0.5):\n",
    "    n_neurons = X.shape[1]\n",
    "    n_bins = n_neurons + 1\n",
    "    out = np.empty((n_bins, n_neurons))\n",
    "    for k in range(n_bins):\n",
    "        X_k = X[population_rate == k, :]\n",
    "        n_active_by_neuron = np.sum(X_k, axis=0,)\n",
    "        T_k = X_k.shape[0]\n",
    "        \n",
    "        mu = k + 1 / n_bins\n",
    "        sigma2 = variance_scale**2 * mu * (1-mu)\n",
    "\n",
    "        beta1 = mu*((mu - mu**2 - sigma2)/sigma2)\n",
    "        beta2 = beta1*( 1/mu - 1)\n",
    "        out[k, :] = (n_active_by_neuron + beta1) / (T_k + beta1 + beta2)\n",
    "    return out"
   ]
  },
  {
   "cell_type": "code",
   "execution_count": 171,
   "metadata": {},
   "outputs": [],
   "source": [
    "\n",
    "\n",
    "class ODSpikes:\n",
    "\n",
    "    def __init__(self, alpha=0.01, variance_scale=0.5, brute_thresh_ak=0, n_samples_ak=1000):\n",
    "        self.alpha=alpha\n",
    "        self.variance_scale = variance_scale\n",
    "        self.brute_thresh_ak = brute_thresh_ak\n",
    "        self.n_samples_ak = n_samples_ak\n",
    "\n",
    "\n",
    "    @staticmethod\n",
    "    def _get_pk(X, alpha=0.01):\n",
    "        n_time, n_neurons = X.shape\n",
    "        population_rate = np.sum(X, axis=1) \n",
    "        c = np.asarray([(population_rate == i).sum() for i in range(n_neurons + 1)])\n",
    "        return (c + alpha) / (n_time + (n_neurons * alpha))\n",
    "    \n",
    "    @staticmethod\n",
    "    def _get_px_given_k(X, variance_scale=0.5):\n",
    "        n_neurons = X.shape[1]\n",
    "        n_bins = n_neurons + 1\n",
    "        out = np.empty((n_bins, n_neurons))\n",
    "        for k in range(n_bins):\n",
    "            X_k = X[population_rate == k, :]\n",
    "            n_active_by_neuron = np.sum(X_k, axis=0,)\n",
    "            T_k = X_k.shape[0]\n",
    "            \n",
    "            mu = k + 1 / n_bins\n",
    "            sigma2 = variance_scale**2 * mu * (1-mu)\n",
    "            beta1 = mu*((mu - mu**2 - sigma2)/sigma2)\n",
    "            beta2 = beta1*( 1/mu - 1)\n",
    "            out[k, :] = (n_active_by_neuron + beta1) / (T_k + beta1 + beta2)\n",
    "        return out\n",
    "    \n",
    "    @staticmethod\n",
    "    def _get_ak(px_given_k, brute_thresh, n_samples):\n",
    "        n_patterns, N = px_given_k.shape\n",
    "        # print(px_given_k.shape)\n",
    "\n",
    "        ak = np.empty(n_patterns)\n",
    "        ak[0] = 1\n",
    "        ak[-1] = 1\n",
    "        for k in range(1, n_patterns):\n",
    "            \n",
    "            kactive = k\n",
    "            pvec = px_given_k[k, :] # Select p_xi_givenk vector for correct k\n",
    "            print(k)\n",
    "            nwords_wkactive = comb(N,kactive)\n",
    "            print(nwords_wkactive)\n",
    "\n",
    "            if nwords_wkactive<brute_thresh:\n",
    "                ...\n",
    "            elif np.std(pvec) == 0: # If homogeneous (due to lack of data at given k)\n",
    "                print(\"yes\")\n",
    "                ak[k] = nwords_wkactive* ( pvec[0]**kactive ) * (1 - pvec[0])** (N - kactive)\n",
    "            else:\n",
    "                cumsumpword = 0\n",
    "                for i in range(n_samples):\n",
    "                    on_ind_sk = np.random.randint(low=0, high=N, size=kactive)  # Choose k random ON neurons\n",
    "                    cumsumpword = cumsumpword + np.prod(pvec[on_ind_sk])* np.prod(1-pvec[~on_ind_sk])\n",
    "                \n",
    "                ak[k] = cumsumpword*(nwords_wkactive/n_samples);\n",
    "\n",
    "        return ak\n",
    "\n",
    "\n",
    "    def fit(self, X):\n",
    "        self.pk_ = self._get_pk(X, self.alpha)\n",
    "        self.px_given_k_ = self._get_px_given_k(X, self.variance_scale)\n",
    "        return self\n",
    "        # self.ak_ = self._get_ak(self.pk_, self.px_given_k_, brute_thresh=self.brute_thresh_ak, n_samples=self.n_samples_ak)\n",
    "\n"
   ]
  },
  {
   "cell_type": "code",
   "execution_count": 172,
   "metadata": {},
   "outputs": [],
   "source": [
    "X = np.random.choice((0, 1), size=(n_time, 8))"
   ]
  },
  {
   "cell_type": "code",
   "execution_count": 173,
   "metadata": {},
   "outputs": [
    {
     "data": {
      "text/plain": [
       "<__main__.ODSpikes at 0x1ec85465be0>"
      ]
     },
     "execution_count": 173,
     "metadata": {},
     "output_type": "execute_result"
    }
   ],
   "source": [
    "mod = ODSpikes()\n",
    "mod.fit(X)"
   ]
  },
  {
   "cell_type": "code",
   "execution_count": 174,
   "metadata": {},
   "outputs": [
    {
     "data": {
      "text/plain": [
       "(9, 8)"
      ]
     },
     "execution_count": 174,
     "metadata": {},
     "output_type": "execute_result"
    }
   ],
   "source": [
    "mod.px_given_k_.shape"
   ]
  },
  {
   "cell_type": "code",
   "execution_count": 175,
   "metadata": {},
   "outputs": [
    {
     "name": "stdout",
     "output_type": "stream",
     "text": [
      "1\n",
      "8.0\n",
      "yes\n",
      "2\n",
      "28.0\n",
      "3\n",
      "56.0\n",
      "4\n",
      "70.0\n",
      "5\n",
      "56.0\n",
      "6\n",
      "28.0\n",
      "7\n",
      "8.0\n",
      "8\n",
      "1.0\n"
     ]
    }
   ],
   "source": [
    "ak = mod._get_ak(mod.px_given_k_, brute_thresh=mod.brute_thresh_ak, n_samples=10000)"
   ]
  },
  {
   "cell_type": "code",
   "execution_count": 176,
   "metadata": {},
   "outputs": [
    {
     "data": {
      "text/plain": [
       "array([[0.08333333, 0.08333333, 0.33333333, 0.08333333, 0.33333333,\n",
       "        0.08333333, 0.08333333, 0.08333333],\n",
       "       [1.11111111, 1.11111111, 1.11111111, 1.11111111, 1.11111111,\n",
       "        1.11111111, 1.11111111, 1.11111111],\n",
       "       [1.38888889, 1.38888889, 1.38888889, 1.22222222, 1.38888889,\n",
       "        1.22222222, 1.38888889, 1.22222222],\n",
       "       [0.92063492, 0.77777778, 0.87301587, 0.82539683, 0.92063492,\n",
       "        0.73015873, 0.96825397, 0.73015873],\n",
       "       [0.75268817, 0.75268817, 0.91397849, 0.84946237, 0.97849462,\n",
       "        0.8172043 , 0.78494624, 0.75268817],\n",
       "       [0.82291667, 0.91666667, 0.85416667, 1.04166667, 0.76041667,\n",
       "        0.91666667, 0.85416667, 0.97916667],\n",
       "       [1.42424242, 1.24242424, 1.28787879, 1.28787879, 1.15151515,\n",
       "        1.24242424, 1.33333333, 1.28787879],\n",
       "       [1.49206349, 1.44444444, 1.49206349, 1.49206349, 1.34920635,\n",
       "        1.34920635, 1.58730159, 1.3968254 ],\n",
       "       [3.61904762, 3.61904762, 3.76190476, 3.9047619 , 3.61904762,\n",
       "        3.61904762, 3.76190476, 3.9047619 ]])"
      ]
     },
     "execution_count": 176,
     "metadata": {},
     "output_type": "execute_result"
    }
   ],
   "source": [
    "mod.px_given_k_"
   ]
  },
  {
   "cell_type": "code",
   "execution_count": 177,
   "metadata": {},
   "outputs": [
    {
     "data": {
      "text/plain": [
       "[<matplotlib.lines.Line2D at 0x1ec854ab0f0>]"
      ]
     },
     "execution_count": 177,
     "metadata": {},
     "output_type": "execute_result"
    },
    {
     "data": {
      "image/png": "[encoded data removed]",
      "text/plain": [
       "<Figure size 432x288 with 1 Axes>"
      ]
     },
     "metadata": {
      "needs_background": "light"
     },
     "output_type": "display_data"
    }
   ],
   "source": [
    "plt.plot(ak)"
   ]
  },
  {
   "cell_type": "code",
   "execution_count": 178,
   "metadata": {},
   "outputs": [
    {
     "data": {
      "text/plain": [
       "array([ 1.00000000e+00, -1.85844585e-06,  5.17382189e+00,  1.49840516e-01,\n",
       "        2.77471331e-02,  6.30550993e-04,  6.30257797e-02, -3.92345671e-01,\n",
       "        1.12281238e+08])"
      ]
     },
     "execution_count": 178,
     "metadata": {},
     "output_type": "execute_result"
    }
   ],
   "source": [
    "ak"
   ]
  },
  {
   "cell_type": "code",
   "execution_count": 180,
   "metadata": {},
   "outputs": [
    {
     "ename": "ValueError",
     "evalue": "operands could not be broadcast together with shapes (9,8) (9,) ",
     "output_type": "error",
     "traceback": [
      "\u001b[1;31m---------------------------------------------------------------------------\u001b[0m",
      "\u001b[1;31mValueError\u001b[0m                                Traceback (most recent call last)",
      "\u001b[1;32m<ipython-input-180-f35b0da6d18a>\u001b[0m in \u001b[0;36m<module>\u001b[1;34m\u001b[0m\n\u001b[1;32m----> 1\u001b[1;33m \u001b[0mmod\u001b[0m\u001b[1;33m.\u001b[0m\u001b[0mpx_given_k_\u001b[0m \u001b[1;33m*\u001b[0m \u001b[0mak\u001b[0m\u001b[1;33m\u001b[0m\u001b[1;33m\u001b[0m\u001b[0m\n\u001b[0m",
      "\u001b[1;31mValueError\u001b[0m: operands could not be broadcast together with shapes (9,8) (9,) "
     ]
    }
   ],
   "source": [
    "mod.px_given_k_ * ak"
   ]
  },
  {
   "cell_type": "code",
   "execution_count": null,
   "metadata": {},
   "outputs": [],
   "source": []
  }
 ],
 "metadata": {
  "interpreter": {
   "hash": "595626f471715c1ef1767721af1162754763b18b459b8364279c934890ae0eae"
  },
  "kernelspec": {
   "display_name": "Python 3.6.13 ('drn-interactions')",
   "language": "python",
   "name": "python3"
  },
  "language_info": {
   "codemirror_mode": {
    "name": "ipython",
    "version": 3
   },
   "file_extension": ".py",
   "mimetype": "text/x-python",
   "name": "python",
   "nbconvert_exporter": "python",
   "pygments_lexer": "ipython3",
   "version": "3.6.13"
  },
  "orig_nbformat": 4
 },
 "nbformat": 4,
 "nbformat_minor": 2
}
