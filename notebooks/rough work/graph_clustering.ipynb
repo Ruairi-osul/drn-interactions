{
 "cells": [
  {
   "cell_type": "code",
   "execution_count": 1,
   "metadata": {},
   "outputs": [],
   "source": [
    "from drn_interactions.interactions.popcup import PopulationCoupling\n",
    "from drn_interactions.interactions.preprocessors import InteractionsPreprocessor\n",
    "from drn_interactions.interactions.loaders import SpontaneousActivityLoader\n",
    "from drn_interactions.interactions.pairwise import PairwiseCorr, PairwisePartialCorr\n",
    "from drn_interactions.interactions.runners import InteractionsRunner\n",
    "from drn_interactions.io import load_derived_generic, load_neurons\n",
    "from sklearn.metrics.pairwise import pairwise_distances\n",
    "import pandas as pd"
   ]
  },
  {
   "cell_type": "code",
   "execution_count": 41,
   "metadata": {},
   "outputs": [],
   "source": [
    "sessions = load_neurons()[\"session_name\"].unique()\n",
    "session = sessions[5]\n",
    "\n",
    "loader = SpontaneousActivityLoader(session_name=session, shuffle=False)\n",
    "preprocessor = InteractionsPreprocessor(z=True, minmax=False)\n",
    "pcorr = PairwisePartialCorr(zero_diag=True, rectify=False, shuffle=True)\n",
    "corr = PairwiseCorr(zero_diag=True, rectify=False, shuffle=True, remove_duplicate_combs=True)\n",
    "pcup = PopulationCoupling()\n"
   ]
  },
  {
   "cell_type": "code",
   "execution_count": 42,
   "metadata": {},
   "outputs": [
    {
     "name": "stderr",
     "output_type": "stream",
     "text": [
      "/opt/miniconda3/envs/drn/lib/python3.8/site-packages/pandas/core/algorithms.py:798: FutureWarning: In a future version, the Index constructor will not infer numeric dtypes when passed object-dtype sequences (matching Series behavior)\n",
      "  uniques = Index(uniques)\n"
     ]
    }
   ],
   "source": [
    "df = loader()\n",
    "df = preprocessor(df)\n",
    "df_corr = pcorr.fit(df).get_adjacency_matrix()"
   ]
  },
  {
   "cell_type": "code",
   "execution_count": 43,
   "metadata": {},
   "outputs": [
    {
     "name": "stdout",
     "output_type": "stream",
     "text": [
      "0.03446330480299367\n"
     ]
    },
    {
     "name": "stderr",
     "output_type": "stream",
     "text": [
      "/opt/miniconda3/envs/drn/lib/python3.8/site-packages/sklearn/manifold/_spectral_embedding.py:233: UserWarning: Array is not symmetric, and will be converted to symmetric by average with its transpose.\n",
      "  adjacency = check_symmetric(adjacency)\n"
     ]
    },
    {
     "data": {
      "text/plain": [
       "<AxesSubplot:>"
      ]
     },
     "execution_count": 43,
     "metadata": {},
     "output_type": "execute_result"
    },
    {
     "data": {
      "image/png": "[encoded data removed]",
      "text/plain": [
       "<Figure size 432x288 with 2 Axes>"
      ]
     },
     "metadata": {
      "needs_background": "light"
     },
     "output_type": "display_data"
    }
   ],
   "source": [
    "from sklearn.cluster import SpectralClustering\n",
    "import networkx as nx\n",
    "import seaborn as sns\n",
    "import numpy as np\n",
    "\n",
    "mod = SpectralClustering(n_clusters=3, affinity=\"precomputed\")\n",
    "\n",
    "def graph_from_df(df):\n",
    "    labels = df.index.values\n",
    "    values = df.values\n",
    "    g = nx.from_numpy_matrix(values)\n",
    "    g = nx.relabel_nodes(g, lambda x: labels[x])\n",
    "    return g\n",
    "    \n",
    "mod.fit(df_corr + 1)\n",
    "\n",
    "labs = mod.labels_\n",
    "nodes = df_corr.columns.values\n",
    "partition = [nodes[labs==i] for i in set(labs)]\n",
    "\n",
    "g = graph_from_df(df_corr + 1)\n",
    "q = nx.algorithms.community.modularity(g, partition, resolution=1)\n",
    "print(q)\n",
    "idx= np.argsort(labs)\n",
    "dfp = df_corr.iloc[idx, idx]\n",
    "# sns.heatmap(dfp.values, vmin=0, robust=True, cmap=\"Greys\")\n",
    "sns.heatmap(dfp.values, robust=True, center=0, cmap=\"RdBu_r\")"
   ]
  },
  {
   "cell_type": "code",
   "execution_count": null,
   "metadata": {},
   "outputs": [],
   "source": []
  }
 ],
 "metadata": {
  "kernelspec": {
   "display_name": "Python 3.8.13 ('drn')",
   "language": "python",
   "name": "python3"
  },
  "language_info": {
   "codemirror_mode": {
    "name": "ipython",
    "version": 3
   },
   "file_extension": ".py",
   "mimetype": "text/x-python",
   "name": "python",
   "nbconvert_exporter": "python",
   "pygments_lexer": "ipython3",
   "version": "3.8.13"
  },
  "orig_nbformat": 4,
  "vscode": {
   "interpreter": {
    "hash": "a141ff61fc8e5477d761678b9939730228dd63e8e5dabf1901cb4084a0e2e4d6"
   }
  }
 },
 "nbformat": 4,
 "nbformat_minor": 2
}
