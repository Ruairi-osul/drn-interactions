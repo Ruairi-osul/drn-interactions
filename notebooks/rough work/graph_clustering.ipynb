{
 "cells": [
  {
   "cell_type": "code",
   "execution_count": 14,
   "metadata": {},
   "outputs": [],
   "source": [
    "from drn_interactions.interactions.preprocessors import InteractionsPreprocessor\n",
    "from drn_interactions.interactions.loaders import SpontaneousActivityLoader\n",
    "from drn_interactions.interactions.pairwise import PairwiseCorr\n",
    "from drn_interactions.io import load_neurons\n",
    "import seaborn as sns\n",
    "import pandas as pd\n",
    "import numpy as np\n",
    "from drn_interactions.interactions.graph_clustering import SpectralCluster, df_to_graph, ClusterRunner, ClusterEvaluation\n",
    "import warnings\n",
    "from drn_interactions.config import Config\n",
    "\n"
   ]
  },
  {
   "cell_type": "code",
   "execution_count": 10,
   "metadata": {},
   "outputs": [],
   "source": [
    "\n",
    "def reorder_df_affinity(df, ensemble_labels):\n",
    "    idx = np.argsort(ensemble_labels)\n",
    "    return df.iloc[idx, idx]"
   ]
  },
  {
   "cell_type": "code",
   "execution_count": 11,
   "metadata": {},
   "outputs": [],
   "source": [
    "sessions = load_neurons()[\"session_name\"].unique()\n",
    "session = sessions[9]\n",
    "\n",
    "loader = SpontaneousActivityLoader(session_name=session, shuffle=False)\n",
    "preprocessor = InteractionsPreprocessor(z=True, minmax=False)\n",
    "corr = PairwiseCorr(\n",
    "    remove_self_interactions=True, \n",
    "    rectify=True, \n",
    "    shuffle=False, \n",
    "    remove_duplicate_combs=True,\n",
    "    )\n",
    "evaluator = ClusterEvaluation()\n",
    "\n",
    "cluster = SpectralCluster(\n",
    "    n_clusters=np.arange(2, 8), \n",
    "    spectral_kws={\"affinity\": \"precomputed\"},\n",
    "    n_init=15,\n",
    "    )\n",
    "runner = ClusterRunner(\n",
    "    loader=loader,\n",
    "    preprocessor=preprocessor,\n",
    "    affinity_calculator=corr,\n",
    "    clusterer=cluster,\n",
    "    evalulator=evaluator,\n",
    ")"
   ]
  },
  {
   "cell_type": "code",
   "execution_count": 13,
   "metadata": {},
   "outputs": [],
   "source": [
    "ensemble_frames = []\n",
    "ensemble_stats_frames = []\n",
    "current_max = 1\n",
    "\n",
    "for session in sessions:\n",
    "    runner.loader.session_name = session\n",
    "    with warnings.catch_warnings():\n",
    "        warnings.simplefilter(\"ignore\")\n",
    "        _, ensembles, _, ensemble_stats = runner.run(20)\n",
    "    ensembles[\"ensemble\"] = ensembles[\"ensemble\"] + current_max\n",
    "    ensemble_stats[\"ensemble\"] = ensemble_stats[\"ensemble\"] + current_max\n",
    "    ensemble_stats_frames.append(ensemble_stats.assign(session_name=session))\n",
    "    ensemble_frames.append(ensembles.assign(session_name=session))\n",
    "    current_max = ensembles[\"ensemble\"].abs().max() + 1\n",
    "\n",
    "df_ensembles = pd.concat(ensemble_frames).reset_index(drop=True)\n",
    "df_ensembles_stats = pd.concat(ensemble_stats_frames).reset_index(drop=True)"
   ]
  },
  {
   "cell_type": "code",
   "execution_count": 15,
   "metadata": {},
   "outputs": [],
   "source": [
    "dd = Config.derived_data_dir / \"ensembles\"\n",
    "dd.mkdir(exist_ok=True)\n",
    "df_ensembles.to_csv(dd / \"spont - ensembles.csv\", index=False)\n",
    "df_ensembles.to_csv(dd / \"spont - stats.csv\", index=False)"
   ]
  },
  {
   "cell_type": "code",
   "execution_count": null,
   "metadata": {},
   "outputs": [],
   "source": []
  }
 ],
 "metadata": {
  "kernelspec": {
   "display_name": "Python 3.8.13 ('drn')",
   "language": "python",
   "name": "python3"
  },
  "language_info": {
   "codemirror_mode": {
    "name": "ipython",
    "version": 3
   },
   "file_extension": ".py",
   "mimetype": "text/x-python",
   "name": "python",
   "nbconvert_exporter": "python",
   "pygments_lexer": "ipython3",
   "version": "3.8.13"
  },
  "orig_nbformat": 4,
  "vscode": {
   "interpreter": {
    "hash": "a141ff61fc8e5477d761678b9939730228dd63e8e5dabf1901cb4084a0e2e4d6"
   }
  }
 },
 "nbformat": 4,
 "nbformat_minor": 2
}
