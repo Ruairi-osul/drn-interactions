{
 "cells": [
  {
   "cell_type": "code",
   "execution_count": 1,
   "metadata": {},
   "outputs": [],
   "source": [
    "from drn_interactions.interactions.preprocessors import InteractionsPreprocessor\n",
    "from drn_interactions.interactions.loaders import SpontaneousActivityLoader\n",
    "from drn_interactions.interactions.pairwise import PairwiseCorr\n",
    "from drn_interactions.io import load_neurons\n",
    "import seaborn as sns\n",
    "import pandas as pd\n",
    "import numpy as np\n",
    "from drn_interactions.interactions.graph_clustering import SpectralCluster, df_to_graph, ClusterRunner, ClusterEvaluation\n",
    "import warnings\n",
    "from drn_interactions.config import Config\n",
    "\n"
   ]
  },
  {
   "cell_type": "code",
   "execution_count": 2,
   "metadata": {},
   "outputs": [],
   "source": [
    "\n",
    "def reorder_df_affinity(df, ensemble_labels):\n",
    "    idx = np.argsort(ensemble_labels)\n",
    "    return df.iloc[idx, idx]"
   ]
  },
  {
   "cell_type": "code",
   "execution_count": 3,
   "metadata": {},
   "outputs": [],
   "source": [
    "sessions = load_neurons()[\"session_name\"].unique()\n",
    "\n",
    "preprocessor = InteractionsPreprocessor(z=True, minmax=False)\n",
    "evaluator = ClusterEvaluation()\n",
    "\n",
    "loader_fac = lambda bin_width, session, shuffle: SpontaneousActivityLoader(\n",
    "    bin_width=bin_width, session_name=session, shuffle=shuffle\n",
    ")\n",
    "corr_fac = lambda: PairwiseCorr(\n",
    "    remove_self_interactions=True,\n",
    "    rectify=True,\n",
    "    shuffle=False,\n",
    "    remove_duplicate_combs=True,\n",
    ")\n",
    "cluster_fac = lambda: SpectralCluster(\n",
    "    n_clusters=np.arange(2, 8), spectral_kws={\"affinity\": \"precomputed\"}, n_init=20\n",
    ")\n",
    "\n",
    "runner_fac = lambda bin_width, session, shuffle_load: ClusterRunner(\n",
    "    loader=loader_fac(bin_width, session, shuffle_load),\n",
    "    preprocessor=preprocessor,\n",
    "    affinity_calculator=corr_fac(),\n",
    "    clusterer=cluster_fac(),\n",
    "    evalulator=evaluator,\n",
    ")\n"
   ]
  },
  {
   "cell_type": "code",
   "execution_count": 4,
   "metadata": {},
   "outputs": [],
   "source": [
    "ensemble_frames = []\n",
    "ensemble_stats_frames = []\n",
    "current_max = 1\n",
    "bin_widths = (0.05, 0.1, 0.5, 1, 2)\n",
    "nboot = 50\n",
    "\n",
    "for shuffle in (False, True):\n",
    "    for bin_width in bin_widths:\n",
    "        for session in sessions[:3]:\n",
    "\n",
    "            # calculate ensembles\n",
    "            runner = runner_fac(bin_width, session, shuffle)\n",
    "            with warnings.catch_warnings():\n",
    "                warnings.simplefilter(\"ignore\")\n",
    "                _, ensembles, _, ensemble_stats = runner.run(20)\n",
    "\n",
    "            # update ensembles to global max\n",
    "            ensembles[\"ensemble\"] = np.where(\n",
    "                ensembles[\"ensemble\"] != -1, ensembles[\"ensemble\"] + current_max, -1\n",
    "            )\n",
    "            ensemble_stats[\"ensemble\"] = np.where(\n",
    "                ensemble_stats[\"ensemble\"] != -1,\n",
    "                ensemble_stats[\"ensemble\"] + current_max,\n",
    "                -1,\n",
    "            )\n",
    "            current_max = ensembles[\"ensemble\"].abs().max() + 1\n",
    "\n",
    "            # add metadata and append to list of results\n",
    "            ensembles = ensembles.assign(\n",
    "                session_name=session, shuffle=shuffle, bin_width=bin_width\n",
    "            )\n",
    "            ensemble_stats = ensemble_stats.assign(\n",
    "                session_name=session, shuffle=shuffle, bin_width=bin_width\n",
    "            )\n",
    "            ensemble_stats_frames.append(ensemble_stats)\n",
    "            ensemble_frames.append(ensembles)\n",
    "\n",
    "\n",
    "df_ensembles = pd.concat(ensemble_frames).reset_index(drop=True)\n",
    "df_ensembles_stats = pd.concat(ensemble_stats_frames).reset_index(drop=True)\n"
   ]
  },
  {
   "cell_type": "code",
   "execution_count": 15,
   "metadata": {},
   "outputs": [],
   "source": [
    "dd = Config.derived_data_dir / \"ensembles\"\n",
    "dd.mkdir(exist_ok=True)\n",
    "df_ensembles.to_csv(dd / \"spont - ensembles.csv\", index=False)\n",
    "df_ensembles.to_csv(dd / \"spont - stats.csv\", index=False)"
   ]
  }
 ],
 "metadata": {
  "kernelspec": {
   "display_name": "Python 3.8.13 ('drn')",
   "language": "python",
   "name": "python3"
  },
  "language_info": {
   "codemirror_mode": {
    "name": "ipython",
    "version": 3
   },
   "file_extension": ".py",
   "mimetype": "text/x-python",
   "name": "python",
   "nbconvert_exporter": "python",
   "pygments_lexer": "ipython3",
   "version": "3.8.13"
  },
  "orig_nbformat": 4,
  "vscode": {
   "interpreter": {
    "hash": "a141ff61fc8e5477d761678b9939730228dd63e8e5dabf1901cb4084a0e2e4d6"
   }
  }
 },
 "nbformat": 4,
 "nbformat_minor": 2
}
